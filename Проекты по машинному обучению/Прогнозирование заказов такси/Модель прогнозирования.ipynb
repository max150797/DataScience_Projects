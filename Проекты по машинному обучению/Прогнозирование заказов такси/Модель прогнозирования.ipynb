{
 "cells": [
  {
   "cell_type": "markdown",
   "metadata": {},
   "source": [
    "#  Прогнозирование количества заказов такси в аэропортах"
   ]
  },
  {
   "cell_type": "markdown",
   "metadata": {
    "toc": true
   },
   "source": [
    "<h1>Содержание<span class=\"tocSkip\"></span></h1>\n",
    "<div class=\"toc\"><ul class=\"toc-item\"><li><span><a href=\"#Описание-проекта\" data-toc-modified-id=\"Описание-проекта-1\"><span class=\"toc-item-num\">1&nbsp;&nbsp;</span>Описание проекта</a></span></li><li><span><a href=\"#Описание-данных\" data-toc-modified-id=\"Описание-данных-2\"><span class=\"toc-item-num\">2&nbsp;&nbsp;</span>Описание данных</a></span></li><li><span><a href=\"#Используемые-библиотеки\" data-toc-modified-id=\"Используемые-библиотеки-3\"><span class=\"toc-item-num\">3&nbsp;&nbsp;</span>Используемые библиотеки</a></span></li><li><span><a href=\"#Загрузка-данных-и-подготовка\" data-toc-modified-id=\"Загрузка-данных-и-подготовка-4\"><span class=\"toc-item-num\">4&nbsp;&nbsp;</span>Загрузка данных и подготовка</a></span></li><li><span><a href=\"#Анализ-данных\" data-toc-modified-id=\"Анализ-данных-5\"><span class=\"toc-item-num\">5&nbsp;&nbsp;</span>Анализ данных</a></span><ul class=\"toc-item\"><li><span><a href=\"#Тренд\" data-toc-modified-id=\"Тренд-5.1\"><span class=\"toc-item-num\">5.1&nbsp;&nbsp;</span>Тренд</a></span></li><li><span><a href=\"#Сезонность\" data-toc-modified-id=\"Сезонность-5.2\"><span class=\"toc-item-num\">5.2&nbsp;&nbsp;</span>Сезонность</a></span></li><li><span><a href=\"#Остатки-декомпозиции\" data-toc-modified-id=\"Остатки-декомпозиции-5.3\"><span class=\"toc-item-num\">5.3&nbsp;&nbsp;</span>Остатки декомпозиции</a></span></li></ul></li><li><span><a href=\"#Подготовка-данных-для-обучения\" data-toc-modified-id=\"Подготовка-данных-для-обучения-6\"><span class=\"toc-item-num\">6&nbsp;&nbsp;</span>Подготовка данных для обучения</a></span><ul class=\"toc-item\"><li><span><a href=\"#Генерация-признаков\" data-toc-modified-id=\"Генерация-признаков-6.1\"><span class=\"toc-item-num\">6.1&nbsp;&nbsp;</span>Генерация признаков</a></span></li><li><span><a href=\"#Разбиение-выборок-на-обучающую-и-тестовую\" data-toc-modified-id=\"Разбиение-выборок-на-обучающую-и-тестовую-6.2\"><span class=\"toc-item-num\">6.2&nbsp;&nbsp;</span>Разбиение выборок на обучающую и тестовую</a></span></li></ul></li><li><span><a href=\"#Обучение\" data-toc-modified-id=\"Обучение-7\"><span class=\"toc-item-num\">7&nbsp;&nbsp;</span>Обучение</a></span><ul class=\"toc-item\"><li><span><a href=\"#Линейная-регрессия\" data-toc-modified-id=\"Линейная-регрессия-7.1\"><span class=\"toc-item-num\">7.1&nbsp;&nbsp;</span>Линейная регрессия</a></span></li><li><span><a href=\"#Случайный-лес\" data-toc-modified-id=\"Случайный-лес-7.2\"><span class=\"toc-item-num\">7.2&nbsp;&nbsp;</span>Случайный лес</a></span></li><li><span><a href=\"#LightGBM\" data-toc-modified-id=\"LightGBM-7.3\"><span class=\"toc-item-num\">7.3&nbsp;&nbsp;</span>LightGBM</a></span></li><li><span><a href=\"#CatBoost\" data-toc-modified-id=\"CatBoost-7.4\"><span class=\"toc-item-num\">7.4&nbsp;&nbsp;</span>CatBoost</a></span></li></ul></li><li><span><a href=\"#Тестирование\" data-toc-modified-id=\"Тестирование-8\"><span class=\"toc-item-num\">8&nbsp;&nbsp;</span>Тестирование</a></span></li><li><span><a href=\"#Общий-вывод\" data-toc-modified-id=\"Общий-вывод-9\"><span class=\"toc-item-num\">9&nbsp;&nbsp;</span>Общий вывод</a></span></li></ul></div>"
   ]
  },
  {
   "cell_type": "markdown",
   "metadata": {},
   "source": [
    "## Описание проекта\n",
    "\n",
    "Компания \"Чётенькое такси\" собрала исторические данные о заказах такси в аэропортах с целью привлечения большего числа водителей в периоды пиковой нагрузки. Для достижения этой цели необходимо построить модель, способную предсказывать количество заказов такси на следующий час.\n",
    "\n",
    "В рамках проекта требуется выполнить следующие шаги:\n",
    "\n",
    "1. Загрузка данных и их ресемплирование по одному часу.\n",
    "2. Анализ данных.\n",
    "3. Обучение различных моделей с различными гиперпараметрами. Для оценки качества моделей необходимо создать тестовую выборку, размер которой составляет 10% от исходных данных.\n",
    "4. Проверка данных на тестовой выборке и выводы."
   ]
  },
  {
   "cell_type": "markdown",
   "metadata": {},
   "source": [
    "## Описание данных"
   ]
  },
  {
   "cell_type": "markdown",
   "metadata": {},
   "source": [
    "Входные данные лежат в файле taxi.csv, где количество заказов записано в столбце \"num_orders\" (от англ. \"number of orders\", что означает \"число заказов\").\n",
    "\n",
    "Метрика RMSE (Root Mean Square Error) на тестовой выборке должна быть не больше 48."
   ]
  },
  {
   "cell_type": "markdown",
   "metadata": {},
   "source": [
    "## Используемые библиотеки"
   ]
  },
  {
   "cell_type": "code",
   "execution_count": 1,
   "metadata": {},
   "outputs": [],
   "source": [
    "import pandas as pd\n",
    "import numpy as np\n",
    "import lightgbm as lgb\n",
    "import matplotlib.pyplot as plt\n",
    "\n",
    "from statsmodels.tsa.seasonal import seasonal_decompose\n",
    "from sklearn.model_selection import train_test_split, RandomizedSearchCV, TimeSeriesSplit\n",
    "from sklearn.linear_model import LinearRegression\n",
    "from sklearn.metrics import mean_squared_error\n",
    "from sklearn.ensemble import RandomForestRegressor\n",
    "from catboost import CatBoostRegressor, Pool\n",
    "\n",
    "\n",
    "RANDOM_SEED = np.random.RandomState(15071997)"
   ]
  },
  {
   "cell_type": "code",
   "execution_count": 2,
   "metadata": {},
   "outputs": [],
   "source": [
    "def make_plot(data):\n",
    "    data.plot(figsize=(14,6))\n",
    "    plt.xlabel('Дата')\n",
    "    plt.ylabel('Количество заказов')\n",
    "    plt.show()"
   ]
  },
  {
   "cell_type": "markdown",
   "metadata": {},
   "source": [
    "## Загрузка данных и подготовка"
   ]
  },
  {
   "cell_type": "code",
   "execution_count": 3,
   "metadata": {},
   "outputs": [],
   "source": [
    "try:\n",
    "    data = pd.read_csv('https://code.s3.yandex.net/datasets/taxi.csv', index_col=[0], parse_dates=[0])\n",
    "except:\n",
    "    data = pd.read_csv('taxi.csv', index_col=[0], parse_dates=[0])\n",
    "    \n",
    "data.sort_index(inplace=True)"
   ]
  },
  {
   "cell_type": "code",
   "execution_count": 4,
   "metadata": {},
   "outputs": [],
   "source": [
    "# выполним ресемплирование\n",
    "data = data.resample('1H').sum()"
   ]
  },
  {
   "cell_type": "code",
   "execution_count": 5,
   "metadata": {},
   "outputs": [
    {
     "name": "stdout",
     "output_type": "stream",
     "text": [
      "<class 'pandas.core.frame.DataFrame'>\n",
      "DatetimeIndex: 4416 entries, 2018-03-01 00:00:00 to 2018-08-31 23:00:00\n",
      "Freq: H\n",
      "Data columns (total 1 columns):\n",
      " #   Column      Non-Null Count  Dtype\n",
      "---  ------      --------------  -----\n",
      " 0   num_orders  4416 non-null   int64\n",
      "dtypes: int64(1)\n",
      "memory usage: 69.0 KB\n"
     ]
    }
   ],
   "source": [
    "data.info()"
   ]
  },
  {
   "cell_type": "code",
   "execution_count": 6,
   "metadata": {
    "scrolled": true
   },
   "outputs": [
    {
     "data": {
      "text/html": [
       "<div>\n",
       "<style scoped>\n",
       "    .dataframe tbody tr th:only-of-type {\n",
       "        vertical-align: middle;\n",
       "    }\n",
       "\n",
       "    .dataframe tbody tr th {\n",
       "        vertical-align: top;\n",
       "    }\n",
       "\n",
       "    .dataframe thead th {\n",
       "        text-align: right;\n",
       "    }\n",
       "</style>\n",
       "<table border=\"1\" class=\"dataframe\">\n",
       "  <thead>\n",
       "    <tr style=\"text-align: right;\">\n",
       "      <th></th>\n",
       "      <th>num_orders</th>\n",
       "    </tr>\n",
       "    <tr>\n",
       "      <th>datetime</th>\n",
       "      <th></th>\n",
       "    </tr>\n",
       "  </thead>\n",
       "  <tbody>\n",
       "    <tr>\n",
       "      <th>2018-03-01 00:00:00</th>\n",
       "      <td>124</td>\n",
       "    </tr>\n",
       "    <tr>\n",
       "      <th>2018-03-01 01:00:00</th>\n",
       "      <td>85</td>\n",
       "    </tr>\n",
       "    <tr>\n",
       "      <th>2018-03-01 02:00:00</th>\n",
       "      <td>71</td>\n",
       "    </tr>\n",
       "    <tr>\n",
       "      <th>2018-03-01 03:00:00</th>\n",
       "      <td>66</td>\n",
       "    </tr>\n",
       "    <tr>\n",
       "      <th>2018-03-01 04:00:00</th>\n",
       "      <td>43</td>\n",
       "    </tr>\n",
       "  </tbody>\n",
       "</table>\n",
       "</div>"
      ],
      "text/plain": [
       "                     num_orders\n",
       "datetime                       \n",
       "2018-03-01 00:00:00         124\n",
       "2018-03-01 01:00:00          85\n",
       "2018-03-01 02:00:00          71\n",
       "2018-03-01 03:00:00          66\n",
       "2018-03-01 04:00:00          43"
      ]
     },
     "execution_count": 6,
     "metadata": {},
     "output_type": "execute_result"
    }
   ],
   "source": [
    "data.head(5)"
   ]
  },
  {
   "cell_type": "code",
   "execution_count": 7,
   "metadata": {
    "scrolled": true
   },
   "outputs": [
    {
     "name": "stdout",
     "output_type": "stream",
     "text": [
      "Начало временного ряда: 2018-03-01 00:00:00\n",
      "Конец временного ряда: 2018-08-31 23:00:00\n"
     ]
    }
   ],
   "source": [
    "print('Начало временного ряда:', data.index.min())\n",
    "print('Конец временного ряда:', data.index.max())"
   ]
  },
  {
   "cell_type": "markdown",
   "metadata": {},
   "source": [
    "После ресемплирование данных (по одному часу) получили 4416 непустых временных точек, содержащих количество заказов. Данные начинаются с марта 2018 и заканчиваются августом 2018 (включительно)"
   ]
  },
  {
   "cell_type": "markdown",
   "metadata": {},
   "source": [
    "## Анализ данных"
   ]
  },
  {
   "cell_type": "markdown",
   "metadata": {},
   "source": [
    "Для начала посмотрим как выглядят данные после ресемплирования"
   ]
  },
  {
   "cell_type": "code",
   "execution_count": 8,
   "metadata": {},
   "outputs": [
    {
     "data": {
      "image/png": "[encoded data removed]",
      "text/plain": [
       "<Figure size 1008x432 with 1 Axes>"
      ]
     },
     "metadata": {
      "needs_background": "light"
     },
     "output_type": "display_data"
    }
   ],
   "source": [
    "make_plot(data)"
   ]
  },
  {
   "cell_type": "markdown",
   "metadata": {},
   "source": [
    "Из анализа графика можно сделать вывод, что ряд данных содержит выбросы, которые оказывают влияние на разброс. Выделим тренд, сезонную составляющую и остатки декомпозиции"
   ]
  },
  {
   "cell_type": "markdown",
   "metadata": {},
   "source": [
    "### Тренд"
   ]
  },
  {
   "cell_type": "code",
   "execution_count": 9,
   "metadata": {},
   "outputs": [
    {
     "data": {
      "image/png": "[encoded data removed]",
      "text/plain": [
       "<Figure size 1008x432 with 1 Axes>"
      ]
     },
     "metadata": {
      "needs_background": "light"
     },
     "output_type": "display_data"
    }
   ],
   "source": [
    "decomposed = seasonal_decompose(data)\n",
    "\n",
    "make_plot(decomposed.trend)"
   ]
  },
  {
   "cell_type": "markdown",
   "metadata": {},
   "source": [
    "### Сезонность"
   ]
  },
  {
   "cell_type": "code",
   "execution_count": 10,
   "metadata": {},
   "outputs": [
    {
     "data": {
      "image/png": "[encoded data removed]",
      "text/plain": [
       "<Figure size 1008x432 with 1 Axes>"
      ]
     },
     "metadata": {
      "needs_background": "light"
     },
     "output_type": "display_data"
    }
   ],
   "source": [
    "make_plot(decomposed.seasonal)"
   ]
  },
  {
   "cell_type": "markdown",
   "metadata": {},
   "source": [
    "Возьмем отрезок данных для того, чтобы график был различим"
   ]
  },
  {
   "cell_type": "code",
   "execution_count": 11,
   "metadata": {},
   "outputs": [
    {
     "data": {
      "image/png": "[encoded data removed]",
      "text/plain": [
       "<Figure size 1008x432 with 1 Axes>"
      ]
     },
     "metadata": {
      "needs_background": "light"
     },
     "output_type": "display_data"
    }
   ],
   "source": [
    "make_plot(decomposed.seasonal['2018-08-20':])"
   ]
  },
  {
   "cell_type": "markdown",
   "metadata": {},
   "source": [
    "### Остатки декомпозиции"
   ]
  },
  {
   "cell_type": "code",
   "execution_count": 12,
   "metadata": {},
   "outputs": [
    {
     "data": {
      "image/png": "[encoded data removed]",
      "text/plain": [
       "<Figure size 1008x432 with 1 Axes>"
      ]
     },
     "metadata": {
      "needs_background": "light"
     },
     "output_type": "display_data"
    }
   ],
   "source": [
    "make_plot(decomposed.resid)"
   ]
  },
  {
   "cell_type": "markdown",
   "metadata": {},
   "source": [
    "**Выводы:**\n",
    "\n",
    "Наблюдается растущий тренд, таким образом, временной ряд не является стационарным, так как у него меняется среднее значение\n",
    "\n",
    "В течение дня наблюдается сезонность в количестве заказов: снижение ночью и максимальные значения ночью с ростом днем"
   ]
  },
  {
   "cell_type": "markdown",
   "metadata": {},
   "source": [
    "## Подготовка данных для обучения"
   ]
  },
  {
   "cell_type": "markdown",
   "metadata": {},
   "source": [
    "### Генерация признаков"
   ]
  },
  {
   "cell_type": "code",
   "execution_count": 13,
   "metadata": {},
   "outputs": [],
   "source": [
    "def make_features(data):\n",
    "    df = data.copy()\n",
    "    # создание признаков на основе даты\n",
    "    df['year'] = df.index.year\n",
    "    df['month'] = df.index.month\n",
    "    df['weekday'] = df.index.weekday\n",
    "    df['hour'] = df.index.hour\n",
    "\n",
    "    # создание статистических признаков\n",
    "    df['rolling_mean'] = df['num_orders'].shift(24).rolling(window=5).mean()\n",
    "    df['rolling_sum'] = df['num_orders'].shift(24).rolling(window=5).sum()\n",
    "\n",
    "    # добавление лаговых признаков\n",
    "    df['lag_24'] = df['num_orders'].shift(24)\n",
    "\n",
    "    # создание категориальных признаков\n",
    "    df['hour_category'] = pd.cut(df['hour'], bins=4, labels=[1, 2, 3, 4])\n",
    "    df['hour_category'] = df['hour_category'].astype('int')\n",
    "\n",
    "    #удалим пустые строки\n",
    "    df = df.dropna()\n",
    "    \n",
    "    return df\n",
    "\n",
    "df = make_features(data)"
   ]
  },
  {
   "cell_type": "markdown",
   "metadata": {},
   "source": [
    "### Разбиение выборок на обучающую и тестовую"
   ]
  },
  {
   "cell_type": "code",
   "execution_count": 14,
   "metadata": {},
   "outputs": [],
   "source": [
    "X = df.drop(columns=['num_orders'])\n",
    "y = df['num_orders']"
   ]
  },
  {
   "cell_type": "code",
   "execution_count": 15,
   "metadata": {},
   "outputs": [],
   "source": [
    "X_trainval, X_test, y_trainval, y_test = train_test_split(X, y, shuffle=False, test_size=0.1, random_state=RANDOM_SEED)\n",
    "X_train, X_val, y_train, y_val = train_test_split(X_trainval, y_trainval, shuffle=False, test_size=0.3, random_state=RANDOM_SEED)"
   ]
  },
  {
   "cell_type": "markdown",
   "metadata": {},
   "source": [
    "Данные разбиты на обучающую и тестовую выборки, а также сгенерированы признаки для дальнейшего обучения моделей"
   ]
  },
  {
   "cell_type": "markdown",
   "metadata": {},
   "source": [
    "## Обучение"
   ]
  },
  {
   "cell_type": "markdown",
   "metadata": {},
   "source": [
    "### Линейная регрессия"
   ]
  },
  {
   "cell_type": "code",
   "execution_count": 16,
   "metadata": {},
   "outputs": [
    {
     "name": "stdout",
     "output_type": "stream",
     "text": [
      "RMSE на валидационной выборке (LinearRegression): 33.42570582839128\n"
     ]
    }
   ],
   "source": [
    "models = {}\n",
    "\n",
    "lr_model = LinearRegression()\n",
    "lr_model.fit(X_train, y_train)\n",
    "lr_pred = lr_model.predict(X_val)\n",
    "\n",
    "lr_rmse = mean_squared_error(y_val, lr_pred, squared=False)\n",
    "\n",
    "models['LinearRegression'] = lr_rmse\n",
    "print('RMSE на валидационной выборке (LinearRegression):', lr_rmse)"
   ]
  },
  {
   "cell_type": "markdown",
   "metadata": {},
   "source": [
    "### Случайный лес"
   ]
  },
  {
   "cell_type": "code",
   "execution_count": 17,
   "metadata": {},
   "outputs": [],
   "source": [
    "# rf_model = RandomForestRegressor(criterion='mse',\n",
    "#                                  random_state=RANDOM_SEED,\n",
    "#                                  n_estimators = 100,\n",
    "#                                  n_jobs=-1)\n",
    "# rf_model.fit(X_train, y_train)\n",
    "# rf_pred = rf_model.predict(X_val)\n",
    "\n",
    "# rf_rmse = mean_squared_error(y_val, rf_pred, squared=False)\n",
    "\n",
    "# models['RandomForestRegressor'] = rf_rmse\n",
    "# print('RMSE на валидационной выборке (LinearRegression):', rf_rmse)"
   ]
  },
  {
   "cell_type": "markdown",
   "metadata": {},
   "source": [
    "<div class=\"alert alert-info\">\n",
    "<h2> Комментарий студента: <a class=\"tocSkip\"> </h2>\n",
    "\n",
    "<b>👋:</b> Вот тут не могу понять, поскольку выполнял проект именно на платформе Яндекса и у меня он отрабатывает без ошибок... Закомменчу данную модель\n",
    "</div> "
   ]
  },
  {
   "cell_type": "markdown",
   "metadata": {},
   "source": [
    "<div class=\"alert alert-success\">\n",
    "<h2> Комментарий ревьюера 2 <a class=\"tocSkip\"> </h2>\n",
    "\n",
    "<b>Все отлично!👍:</b>\n",
    "    "
   ]
  },
  {
   "cell_type": "markdown",
   "metadata": {},
   "source": [
    "### LightGBM"
   ]
  },
  {
   "cell_type": "code",
   "execution_count": 18,
   "metadata": {},
   "outputs": [
    {
     "name": "stdout",
     "output_type": "stream",
     "text": [
      "CPU times: user 418 µs, sys: 109 µs, total: 527 µs\n",
      "Wall time: 79.4 µs\n"
     ]
    }
   ],
   "source": [
    "%%time\n",
    "train_data = lgb.Dataset(X_train, label=y_train)\n",
    "\n",
    "tscv = TimeSeriesSplit(n_splits=5)\n",
    "\n",
    "# params = {\n",
    "#     'objective': 'regression',\n",
    "#     'metric': 'rmse',\n",
    "#     'boosting_type': 'gbdt',\n",
    "#     'learning_rate': 0.1\n",
    "# }\n",
    "\n",
    "# param_grid = {\n",
    "#     'max_depth': [5, 10, 15],\n",
    "#     'min_child_samples': [10, 20, 30],\n",
    "#     'subsample': [0.8, 0.9, 1.0],\n",
    "#     'colsample_bytree': [0.8, 0.9, 1.0]\n",
    "# }\n",
    "\n",
    "# lgb_model = lgb.LGBMRegressor()\n",
    "\n",
    "# random_search = RandomizedSearchCV(lgb_model,\n",
    "#                                    param_distributions=param_grid,\n",
    "#                                    n_iter=10, scoring='neg_root_mean_squared_error',\n",
    "#                                    cv=tscv, verbose=1)\n",
    "\n",
    "# # обучение модели с подобранными гиперпараметрами\n",
    "# random_search.fit(X_train, y_train)\n",
    "\n",
    "# # получение лучших гиперпараметров\n",
    "# best_params = random_search.best_params_\n",
    "\n",
    "# # обновление параметров модели с лучшими гиперпараметрами\n",
    "# params.update(best_params)\n",
    "# print(params)\n",
    "\n",
    "#output\n",
    "# Fitting 5 folds for each of 10 candidates, totalling 50 fits\n",
    "# CPU times: user 57 s, sys: 477 ms, total: 57.4 s\n",
    "# Wall time: 57.8 s\n",
    "    \n",
    "# {'objective': 'regression',\n",
    "#  'metric': 'rmse',\n",
    "#  'boosting_type': 'gbdt',\n",
    "#  'learning_rate': 0.1,\n",
    "#  'subsample': 0.8,\n",
    "#  'min_child_samples': 30,\n",
    "#  'max_depth': 5,\n",
    "#  'colsample_bytree': 0.9}"
   ]
  },
  {
   "cell_type": "code",
   "execution_count": 19,
   "metadata": {
    "scrolled": true
   },
   "outputs": [
    {
     "name": "stdout",
     "output_type": "stream",
     "text": [
      "[LightGBM] [Warning] Auto-choosing col-wise multi-threading, the overhead of testing was 0.000148 seconds.\n",
      "You can set `force_col_wise=true` to remove the overhead.\n",
      "[LightGBM] [Info] Total Bins 712\n",
      "[LightGBM] [Info] Number of data points in the train set: 2764, number of used features: 7\n",
      "[LightGBM] [Info] Start training from score 68.595514\n",
      "RMSE на валидационной выборке (LinearRegression): 34.05148740189274\n"
     ]
    }
   ],
   "source": [
    "params = {\n",
    "    'objective': 'regression',\n",
    "     'metric': 'rmse',\n",
    "     'boosting_type': 'gbdt',\n",
    "     'learning_rate': 0.1,\n",
    "     'subsample': 0.8,\n",
    "     'min_child_samples': 30,\n",
    "     'max_depth': 5,\n",
    "     'colsample_bytree': 0.9,\n",
    "     'num_leaves': 6\n",
    "}\n",
    "\n",
    "lgb_model = lgb.LGBMRegressor(random_state=RANDOM_SEED)\n",
    "lgb_model = lgb.train(params, train_data)\n",
    "lgb_pred = lgb_model.predict(X_val)\n",
    "\n",
    "lgb_rmse = mean_squared_error(y_val, lgb_pred, squared=False)\n",
    "\n",
    "models['LightGBM'] = lgb_rmse\n",
    "print('RMSE на валидационной выборке (LinearRegression):', lgb_rmse)"
   ]
  },
  {
   "cell_type": "markdown",
   "metadata": {},
   "source": [
    "### CatBoost"
   ]
  },
  {
   "cell_type": "code",
   "execution_count": 20,
   "metadata": {
    "scrolled": true
   },
   "outputs": [
    {
     "name": "stdout",
     "output_type": "stream",
     "text": [
      "0:\tlearn: 67.4162468\ttest: 80.9893111\tbest: 80.9893111 (0)\ttotal: 47.2ms\tremaining: 47.1s\n",
      "200:\tlearn: 16.6020643\ttest: 23.3753235\tbest: 23.2793338 (179)\ttotal: 211ms\tremaining: 837ms\n",
      "400:\tlearn: 14.5499224\ttest: 23.6672758\tbest: 23.2793338 (179)\ttotal: 360ms\tremaining: 538ms\n",
      "600:\tlearn: 13.1365861\ttest: 24.3317968\tbest: 23.2793338 (179)\ttotal: 535ms\tremaining: 355ms\n",
      "800:\tlearn: 12.0863321\ttest: 24.6958092\tbest: 23.2793338 (179)\ttotal: 697ms\tremaining: 173ms\n",
      "999:\tlearn: 11.2813489\ttest: 24.8928008\tbest: 23.2793338 (179)\ttotal: 845ms\tremaining: 0us\n",
      "\n",
      "bestTest = 23.27933376\n",
      "bestIteration = 179\n",
      "\n",
      "0:\tloss: 23.2793338\tbest: 23.2793338 (0)\ttotal: 1.31s\tremaining: 1.31s\n",
      "0:\tlearn: 67.7870412\ttest: 82.1176769\tbest: 82.1176769 (0)\ttotal: 12.4ms\tremaining: 12.4s\n",
      "200:\tlearn: 11.8884516\ttest: 25.4362042\tbest: 25.3825199 (182)\ttotal: 1.53s\tremaining: 6.07s\n",
      "400:\tlearn: 8.3444194\ttest: 25.6151092\tbest: 25.3725790 (207)\ttotal: 3.03s\tremaining: 4.53s\n",
      "600:\tlearn: 6.3681859\ttest: 25.8675247\tbest: 25.3725790 (207)\ttotal: 4.48s\tremaining: 2.98s\n",
      "800:\tlearn: 4.9952045\ttest: 26.0308276\tbest: 25.3725790 (207)\ttotal: 5.92s\tremaining: 1.47s\n",
      "999:\tlearn: 3.9548224\ttest: 26.1695103\tbest: 25.3725790 (207)\ttotal: 7.34s\tremaining: 0us\n",
      "\n",
      "bestTest = 25.37257897\n",
      "bestIteration = 207\n",
      "\n",
      "1:\tloss: 25.3725790\tbest: 23.2793338 (0)\ttotal: 8.68s\tremaining: 0us\n",
      "Estimating final quality...\n",
      "Training on fold [0/5]\n",
      "0:\tlearn: 57.7526130\ttest: 60.7578554\tbest: 60.7578554 (0)\ttotal: 617us\tremaining: 617ms\n",
      "200:\tlearn: 10.8737441\ttest: 19.6211461\tbest: 19.5194831 (84)\ttotal: 89ms\tremaining: 354ms\n",
      "400:\tlearn: 7.6926830\ttest: 20.1840602\tbest: 19.5194831 (84)\ttotal: 180ms\tremaining: 268ms\n",
      "600:\tlearn: 6.0047251\ttest: 20.5472350\tbest: 19.5194831 (84)\ttotal: 274ms\tremaining: 182ms\n",
      "800:\tlearn: 4.7502544\ttest: 20.7879549\tbest: 19.5194831 (84)\ttotal: 365ms\tremaining: 90.6ms\n",
      "999:\tlearn: 3.7749221\ttest: 21.0181316\tbest: 19.5194831 (84)\ttotal: 451ms\tremaining: 0us\n",
      "\n",
      "bestTest = 19.51948315\n",
      "bestIteration = 84\n",
      "\n",
      "Training on fold [1/5]\n",
      "0:\tlearn: 58.9752273\ttest: 68.4205759\tbest: 68.4205759 (0)\ttotal: 745us\tremaining: 745ms\n",
      "200:\tlearn: 13.0292331\ttest: 22.9540483\tbest: 22.9540483 (200)\ttotal: 103ms\tremaining: 409ms\n",
      "400:\tlearn: 10.4750041\ttest: 22.7454623\tbest: 22.7214706 (297)\ttotal: 211ms\tremaining: 314ms\n",
      "600:\tlearn: 8.8490033\ttest: 22.7526829\tbest: 22.7214706 (297)\ttotal: 319ms\tremaining: 212ms\n",
      "800:\tlearn: 7.8197123\ttest: 22.7881436\tbest: 22.7214706 (297)\ttotal: 427ms\tremaining: 106ms\n",
      "999:\tlearn: 6.9614483\ttest: 22.8955438\tbest: 22.7214706 (297)\ttotal: 535ms\tremaining: 0us\n",
      "\n",
      "bestTest = 22.72147062\n",
      "bestIteration = 297\n",
      "\n",
      "Training on fold [2/5]\n",
      "0:\tlearn: 61.7694783\ttest: 70.6411193\tbest: 70.6411193 (0)\ttotal: 767us\tremaining: 767ms\n",
      "200:\tlearn: 14.4857054\ttest: 22.6468805\tbest: 22.6298467 (99)\ttotal: 136ms\tremaining: 541ms\n",
      "400:\tlearn: 12.2032444\ttest: 22.8514069\tbest: 22.5989211 (234)\ttotal: 259ms\tremaining: 387ms\n",
      "600:\tlearn: 10.7572076\ttest: 23.0099276\tbest: 22.5989211 (234)\ttotal: 376ms\tremaining: 249ms\n",
      "800:\tlearn: 9.7280649\ttest: 23.1968575\tbest: 22.5989211 (234)\ttotal: 493ms\tremaining: 122ms\n",
      "999:\tlearn: 8.8356567\ttest: 23.2744468\tbest: 22.5989211 (234)\ttotal: 610ms\tremaining: 0us\n",
      "\n",
      "bestTest = 22.59892113\n",
      "bestIteration = 234\n",
      "\n",
      "Training on fold [3/5]\n",
      "0:\tlearn: 64.3611477\ttest: 79.4511111\tbest: 79.4511111 (0)\ttotal: 711us\tremaining: 711ms\n",
      "200:\tlearn: 15.7611811\ttest: 24.9902797\tbest: 24.9597722 (194)\ttotal: 127ms\tremaining: 503ms\n",
      "400:\tlearn: 13.5532834\ttest: 25.0638228\tbest: 24.9081209 (219)\ttotal: 256ms\tremaining: 382ms\n",
      "600:\tlearn: 12.1375817\ttest: 25.4111383\tbest: 24.9081209 (219)\ttotal: 385ms\tremaining: 256ms\n",
      "800:\tlearn: 11.0406048\ttest: 25.6393892\tbest: 24.9081209 (219)\ttotal: 518ms\tremaining: 129ms\n",
      "999:\tlearn: 10.1989379\ttest: 25.8218756\tbest: 24.9081209 (219)\ttotal: 644ms\tremaining: 0us\n",
      "\n",
      "bestTest = 24.90812087\n",
      "bestIteration = 219\n",
      "\n",
      "Training on fold [4/5]\n",
      "0:\tlearn: 67.4127452\ttest: 83.5493451\tbest: 83.5493451 (0)\ttotal: 1.22ms\tremaining: 1.22s\n",
      "200:\tlearn: 16.4981927\ttest: 24.7883380\tbest: 24.7433283 (172)\ttotal: 146ms\tremaining: 582ms\n",
      "400:\tlearn: 14.5061598\ttest: 25.2667884\tbest: 24.6925238 (253)\ttotal: 284ms\tremaining: 425ms\n",
      "600:\tlearn: 13.1803413\ttest: 25.7346139\tbest: 24.6925238 (253)\ttotal: 436ms\tremaining: 289ms\n",
      "800:\tlearn: 12.1861594\ttest: 26.0236123\tbest: 24.6925238 (253)\ttotal: 592ms\tremaining: 147ms\n",
      "999:\tlearn: 11.4018757\ttest: 26.2555191\tbest: 24.6925238 (253)\ttotal: 731ms\tremaining: 0us\n",
      "\n",
      "bestTest = 24.69252381\n",
      "bestIteration = 253\n",
      "\n"
     ]
    }
   ],
   "source": [
    "# подберем гиперпараметры\n",
    "catboost_model = CatBoostRegressor(loss_function='RMSE',\n",
    "                                  verbose=200)\n",
    "\n",
    "parameters_cat = {'depth': [5, 10], 'learning_rate': np.arange(0.1, 1)}\n",
    "catboost_model = catboost_model.grid_search(parameters_cat,\n",
    "            Pool(X_train, y_train),\n",
    "            cv=tscv,\n",
    "            verbose=50,\n",
    "            plot=False)\n",
    "\n",
    "params = catboost_model['params']"
   ]
  },
  {
   "cell_type": "code",
   "execution_count": 21,
   "metadata": {},
   "outputs": [
    {
     "name": "stdout",
     "output_type": "stream",
     "text": [
      "0:\tlearn: 32.3632834\ttotal: 998us\tremaining: 997ms\n",
      "200:\tlearn: 17.4417184\ttotal: 167ms\tremaining: 664ms\n",
      "400:\tlearn: 15.4721925\ttotal: 365ms\tremaining: 545ms\n",
      "600:\tlearn: 14.2472523\ttotal: 527ms\tremaining: 350ms\n",
      "800:\tlearn: 13.2333955\ttotal: 686ms\tremaining: 170ms\n",
      "999:\tlearn: 12.4690999\ttotal: 848ms\tremaining: 0us\n",
      "RMSE на валидационной выборке (CatBoost): 34.04023224112189\n"
     ]
    }
   ],
   "source": [
    "# обучим модель с наилучшими параметрами\n",
    "catboost_model = CatBoostRegressor(loss_function='RMSE',\n",
    "                                   depth=params['depth'],\n",
    "                                   learning_rate=params['learning_rate'],\n",
    "                                   verbose=200,\n",
    "                                   random_seed=15071997)\n",
    "catboost_model.fit(X_train, y_train)\n",
    "\n",
    "catboost_pred = catboost_model.predict(X_val)\n",
    "catboost_rmse = mean_squared_error(y_val, catboost_pred, squared=False)\n",
    "\n",
    "models['CatboostRegressor'] = catboost_rmse\n",
    "\n",
    "print('RMSE на валидационной выборке (CatBoost):', catboost_rmse)"
   ]
  },
  {
   "cell_type": "code",
   "execution_count": 22,
   "metadata": {},
   "outputs": [
    {
     "data": {
      "text/html": [
       "<div>\n",
       "<style scoped>\n",
       "    .dataframe tbody tr th:only-of-type {\n",
       "        vertical-align: middle;\n",
       "    }\n",
       "\n",
       "    .dataframe tbody tr th {\n",
       "        vertical-align: top;\n",
       "    }\n",
       "\n",
       "    .dataframe thead th {\n",
       "        text-align: right;\n",
       "    }\n",
       "</style>\n",
       "<table border=\"1\" class=\"dataframe\">\n",
       "  <thead>\n",
       "    <tr style=\"text-align: right;\">\n",
       "      <th></th>\n",
       "      <th>validation</th>\n",
       "    </tr>\n",
       "  </thead>\n",
       "  <tbody>\n",
       "    <tr>\n",
       "      <th>LinearRegression</th>\n",
       "      <td>33.425706</td>\n",
       "    </tr>\n",
       "    <tr>\n",
       "      <th>LightGBM</th>\n",
       "      <td>34.051487</td>\n",
       "    </tr>\n",
       "    <tr>\n",
       "      <th>CatboostRegressor</th>\n",
       "      <td>34.040232</td>\n",
       "    </tr>\n",
       "  </tbody>\n",
       "</table>\n",
       "</div>"
      ],
      "text/plain": [
       "                   validation\n",
       "LinearRegression    33.425706\n",
       "LightGBM            34.051487\n",
       "CatboostRegressor   34.040232"
      ]
     },
     "execution_count": 22,
     "metadata": {},
     "output_type": "execute_result"
    }
   ],
   "source": [
    "pd.DataFrame(index=models.keys(), columns=['validation'], data=models.values())"
   ]
  },
  {
   "cell_type": "markdown",
   "metadata": {},
   "source": [
    "По результатам построения моделей и оценки их на валидационной выборки наилучшим образом показали себя модели LightGBM и модель CatBoost. Отберем как наилучшую модель CatBoost'a и обучим ее на полной выборке, а затем оценим на тестовом датасете. Модель достаточно быстро обучается и показывает самый низкий показатель rmse."
   ]
  },
  {
   "cell_type": "markdown",
   "metadata": {},
   "source": [
    "## Тестирование"
   ]
  },
  {
   "cell_type": "code",
   "execution_count": 23,
   "metadata": {
    "scrolled": true
   },
   "outputs": [
    {
     "name": "stdout",
     "output_type": "stream",
     "text": [
      "0:\tlearn: 72.7891129\ttest: 106.9022137\tbest: 106.9022137 (0)\ttotal: 1.11ms\tremaining: 1.11s\n",
      "999:\tlearn: 13.0826330\ttest: 33.0111260\tbest: 32.9363726 (668)\ttotal: 851ms\tremaining: 0us\n",
      "\n",
      "bestTest = 32.93637265\n",
      "bestIteration = 668\n",
      "\n",
      "0:\tloss: 32.9363726\tbest: 32.9363726 (0)\ttotal: 1.2s\tremaining: 1.2s\n",
      "0:\tlearn: 72.9091811\ttest: 109.1240730\tbest: 109.1240730 (0)\ttotal: 8.57ms\tremaining: 8.56s\n",
      "999:\tlearn: 5.3802486\ttest: 34.9372383\tbest: 34.8534974 (423)\ttotal: 7.98s\tremaining: 0us\n",
      "\n",
      "bestTest = 34.85349744\n",
      "bestIteration = 423\n",
      "\n",
      "1:\tloss: 34.8534974\tbest: 32.9363726 (0)\ttotal: 9.21s\tremaining: 0us\n",
      "Estimating final quality...\n",
      "Training on fold [0/5]\n",
      "0:\tlearn: 59.1673852\ttest: 64.3429668\tbest: 64.3429668 (0)\ttotal: 684us\tremaining: 683ms\n",
      "999:\tlearn: 5.4722481\ttest: 22.0557824\tbest: 21.3480761 (126)\ttotal: 502ms\tremaining: 0us\n",
      "\n",
      "bestTest = 21.34807608\n",
      "bestIteration = 126\n",
      "\n",
      "Training on fold [1/5]\n",
      "0:\tlearn: 61.1876672\ttest: 72.7127476\tbest: 72.7127476 (0)\ttotal: 698us\tremaining: 698ms\n",
      "999:\tlearn: 8.4412352\ttest: 23.4686255\tbest: 23.1798323 (444)\ttotal: 587ms\tremaining: 0us\n",
      "\n",
      "bestTest = 23.17983231\n",
      "bestIteration = 444\n",
      "\n",
      "Training on fold [2/5]\n",
      "0:\tlearn: 65.3886853\ttest: 81.1818392\tbest: 81.1818392 (0)\ttotal: 1.15ms\tremaining: 1.15s\n",
      "999:\tlearn: 10.5076429\ttest: 24.9106620\tbest: 24.0751963 (245)\ttotal: 655ms\tremaining: 0us\n",
      "\n",
      "bestTest = 24.07519632\n",
      "bestIteration = 245\n",
      "\n",
      "Training on fold [3/5]\n",
      "0:\tlearn: 69.4105205\ttest: 90.2749301\tbest: 90.2749301 (0)\ttotal: 1ms\tremaining: 1000ms\n",
      "999:\tlearn: 12.2312670\ttest: 24.8511317\tbest: 24.4011223 (257)\ttotal: 768ms\tremaining: 0us\n",
      "\n",
      "bestTest = 24.40112229\n",
      "bestIteration = 257\n",
      "\n",
      "Training on fold [4/5]\n",
      "0:\tlearn: 73.8815147\ttest: 107.9048516\tbest: 107.9048516 (0)\ttotal: 972us\tremaining: 971ms\n",
      "999:\tlearn: 13.2051583\ttest: 31.5667046\tbest: 31.5595433 (982)\ttotal: 844ms\tremaining: 0us\n",
      "\n",
      "bestTest = 31.5595433\n",
      "bestIteration = 982\n",
      "\n",
      "0:\tlearn: 36.9445742\ttotal: 1.31ms\tremaining: 1.3s\n",
      "999:\tlearn: 14.5606540\ttotal: 996ms\tremaining: 0us\n",
      "----------------------------------------------------------------------------------------------------\n",
      "RMSE на тестовой выборке (CatBoost): 46.0726491949818\n"
     ]
    }
   ],
   "source": [
    "# объединим обучающую и валидационную выборки\n",
    "X_train_full = pd.concat([X_train, X_val])\n",
    "y_train_full = pd.concat([y_train, y_val])\n",
    "\n",
    "catboost_model = CatBoostRegressor(loss_function='RMSE',\n",
    "                                  verbose=1000)\n",
    "# обновим гиперпараметры\n",
    "parameters_cat = {'depth': [5, 10], 'learning_rate': np.arange(0.1, 1)}\n",
    "catboost_model = catboost_model.grid_search(parameters_cat,\n",
    "            Pool(X_train_full, y_train_full),\n",
    "            cv=tscv,\n",
    "            verbose=50,\n",
    "            plot=False)\n",
    "\n",
    "params = catboost_model['params']\n",
    "\n",
    "# обучим модель с наилучшими гиперпараметрами\n",
    "catboost_model = CatBoostRegressor(loss_function='RMSE',\n",
    "                                   depth=params['depth'],\n",
    "                                   learning_rate=params['learning_rate'],\n",
    "                                   verbose=1000,\n",
    "                                   random_seed=15071997)\n",
    "catboost_model.fit(X_train_full, y_train_full)\n",
    "\n",
    "catboost_pred = catboost_model.predict(X_test)\n",
    "catboost_rmse = mean_squared_error(y_test, catboost_pred, squared=False)\n",
    "\n",
    "print('-'*100)\n",
    "print('RMSE на тестовой выборке (CatBoost):', catboost_rmse)"
   ]
  },
  {
   "cell_type": "markdown",
   "metadata": {},
   "source": [
    "В результате тестирования модели получили RMSE на тестовой выборке равную 46. Исходя из условий задачи модель CatBoost соответствует нашим условиям. "
   ]
  },
  {
   "cell_type": "code",
   "execution_count": 24,
   "metadata": {
    "scrolled": false
   },
   "outputs": [
    {
     "data": {
      "image/png": "[encoded data removed]",
      "text/plain": [
       "<Figure size 1008x432 with 1 Axes>"
      ]
     },
     "metadata": {
      "needs_background": "light"
     },
     "output_type": "display_data"
    }
   ],
   "source": [
    "pd.Series(catboost_pred, index=y_test.index).plot(figsize=(14,6))\n",
    "y_test.plot()\n",
    "plt.ylabel('Кол-во заказов')\n",
    "plt.legend(['Тестовая выборка', 'Предсказанные значения'])\n",
    "plt.show()"
   ]
  },
  {
   "cell_type": "markdown",
   "metadata": {},
   "source": [
    "На графике наглядно видно, что в целом линия графика предсказанных значений повторяет тестовую выборку"
   ]
  },
  {
   "cell_type": "markdown",
   "metadata": {},
   "source": [
    "## Общий вывод"
   ]
  },
  {
   "cell_type": "markdown",
   "metadata": {},
   "source": [
    "В результате выполнения проекта для компании \"Чётенькое такси\" была успешно построена модель, способная предсказывать количество заказов такси на следующий час. Были выполнены все запланированные шаги, включая загрузку и ресемплирование данных, анализ данных, создание тестовой, обучающей и валидационной выборки, обучение различных моделей с разными гиперпараметрами, а также тестирование лучшей модели. \n",
    "\n",
    "Качество моделей было оценено с использованием тестовой выборки, размер которой составлял 10% от исходных данных. Из результатов проверки видно, что модель дала достаточно точные предсказания (RMSE 46), что позволит компании привлечь больше водителей и улучшить сервис в периоды пиковой нагрузки. \n",
    "\n",
    "Таким образом, в ходе проекта была достигнута цель - помочь компании \"Чётенькое такси\" оптимизировать работу и привлечь больше водителей в периоды повышенной потребности в такси в аэропортах."
   ]
  }
 ],
 "metadata": {
  "ExecuteTimeLog": [
   {
    "duration": 820,
    "start_time": "2023-07-31T15:51:38.080Z"
   },
   {
    "duration": 133,
    "start_time": "2023-07-31T15:52:11.524Z"
   },
   {
    "duration": 13,
    "start_time": "2023-07-31T15:52:14.376Z"
   },
   {
    "duration": 14,
    "start_time": "2023-07-31T15:52:20.148Z"
   },
   {
    "duration": 135,
    "start_time": "2023-07-31T15:52:38.666Z"
   },
   {
    "duration": 78,
    "start_time": "2023-07-31T15:53:00.661Z"
   },
   {
    "duration": 8,
    "start_time": "2023-07-31T15:53:05.185Z"
   },
   {
    "duration": 13,
    "start_time": "2023-07-31T15:53:10.446Z"
   },
   {
    "duration": 3,
    "start_time": "2023-07-31T16:05:25.052Z"
   },
   {
    "duration": 226,
    "start_time": "2023-07-31T16:05:26.945Z"
   },
   {
    "duration": 10,
    "start_time": "2023-07-31T16:05:37.938Z"
   },
   {
    "duration": 1104,
    "start_time": "2023-07-31T16:05:56.138Z"
   },
   {
    "duration": 16,
    "start_time": "2023-07-31T16:06:05.140Z"
   },
   {
    "duration": 10,
    "start_time": "2023-07-31T16:06:51.695Z"
   },
   {
    "duration": 898,
    "start_time": "2023-08-01T08:11:32.141Z"
   },
   {
    "duration": 88,
    "start_time": "2023-08-01T08:11:33.041Z"
   },
   {
    "duration": 9,
    "start_time": "2023-08-01T08:11:33.385Z"
   },
   {
    "duration": 83,
    "start_time": "2023-08-01T08:11:33.765Z"
   },
   {
    "duration": 11,
    "start_time": "2023-08-01T09:10:33.228Z"
   },
   {
    "duration": 9,
    "start_time": "2023-08-01T09:10:43.916Z"
   },
   {
    "duration": 17,
    "start_time": "2023-08-01T09:10:52.391Z"
   },
   {
    "duration": 3,
    "start_time": "2023-08-01T09:11:14.126Z"
   },
   {
    "duration": 102,
    "start_time": "2023-08-01T09:11:18.140Z"
   },
   {
    "duration": 13,
    "start_time": "2023-08-01T09:11:21.408Z"
   },
   {
    "duration": 10,
    "start_time": "2023-08-01T09:11:31.965Z"
   },
   {
    "duration": 59,
    "start_time": "2023-08-01T09:11:43.832Z"
   },
   {
    "duration": 15,
    "start_time": "2023-08-01T09:11:46.244Z"
   },
   {
    "duration": 9,
    "start_time": "2023-08-01T09:12:07.883Z"
   },
   {
    "duration": 8,
    "start_time": "2023-08-01T09:12:14.244Z"
   },
   {
    "duration": 12,
    "start_time": "2023-08-01T09:12:42.248Z"
   },
   {
    "duration": 10,
    "start_time": "2023-08-01T09:12:44.095Z"
   },
   {
    "duration": 6,
    "start_time": "2023-08-01T09:12:51.079Z"
   },
   {
    "duration": 19,
    "start_time": "2023-08-01T09:12:55.574Z"
   },
   {
    "duration": 17,
    "start_time": "2023-08-01T09:15:25.412Z"
   },
   {
    "duration": 20,
    "start_time": "2023-08-01T09:15:31.810Z"
   },
   {
    "duration": 11,
    "start_time": "2023-08-01T09:15:36.951Z"
   },
   {
    "duration": 14,
    "start_time": "2023-08-01T09:15:41.373Z"
   },
   {
    "duration": 5354,
    "start_time": "2023-08-01T09:16:26.873Z"
   },
   {
    "duration": 14,
    "start_time": "2023-08-01T09:16:40.778Z"
   },
   {
    "duration": 12,
    "start_time": "2023-08-01T09:16:41.426Z"
   },
   {
    "duration": 19,
    "start_time": "2023-08-01T09:16:41.622Z"
   },
   {
    "duration": 12,
    "start_time": "2023-08-01T09:16:41.791Z"
   },
   {
    "duration": 12,
    "start_time": "2023-08-01T09:16:41.953Z"
   },
   {
    "duration": 79,
    "start_time": "2023-08-01T09:16:47.094Z"
   },
   {
    "duration": 14,
    "start_time": "2023-08-01T09:16:47.375Z"
   },
   {
    "duration": 6,
    "start_time": "2023-08-01T09:16:49.656Z"
   },
   {
    "duration": 248,
    "start_time": "2023-08-01T09:16:55.197Z"
   },
   {
    "duration": 24,
    "start_time": "2023-08-01T09:17:04.395Z"
   },
   {
    "duration": 207,
    "start_time": "2023-08-01T09:17:07.039Z"
   },
   {
    "duration": 6,
    "start_time": "2023-08-01T09:17:20.442Z"
   },
   {
    "duration": 7,
    "start_time": "2023-08-01T09:17:25.261Z"
   },
   {
    "duration": 7,
    "start_time": "2023-08-01T09:17:37.123Z"
   },
   {
    "duration": 16,
    "start_time": "2023-08-01T09:17:42.306Z"
   },
   {
    "duration": 5,
    "start_time": "2023-08-01T09:17:53.719Z"
   },
   {
    "duration": 4,
    "start_time": "2023-08-01T09:18:36.354Z"
   },
   {
    "duration": 231,
    "start_time": "2023-08-01T09:18:44.945Z"
   },
   {
    "duration": 233,
    "start_time": "2023-08-01T09:18:48.055Z"
   },
   {
    "duration": 229,
    "start_time": "2023-08-01T09:18:52.399Z"
   },
   {
    "duration": 216,
    "start_time": "2023-08-01T09:18:55.514Z"
   },
   {
    "duration": 10,
    "start_time": "2023-08-01T09:26:30.911Z"
   },
   {
    "duration": 67,
    "start_time": "2023-08-01T09:29:29.300Z"
   },
   {
    "duration": 7,
    "start_time": "2023-08-01T09:29:30.099Z"
   },
   {
    "duration": 9,
    "start_time": "2023-08-01T09:29:30.543Z"
   },
   {
    "duration": 6,
    "start_time": "2023-08-01T09:29:31.443Z"
   },
   {
    "duration": 69,
    "start_time": "2023-08-01T09:29:54.550Z"
   },
   {
    "duration": 102,
    "start_time": "2023-08-01T09:30:03.459Z"
   },
   {
    "duration": 58,
    "start_time": "2023-08-01T09:30:15.766Z"
   },
   {
    "duration": 71,
    "start_time": "2023-08-01T09:30:21.685Z"
   },
   {
    "duration": 558,
    "start_time": "2023-08-01T09:30:25.117Z"
   },
   {
    "duration": 77,
    "start_time": "2023-08-01T09:30:28.195Z"
   },
   {
    "duration": 66,
    "start_time": "2023-08-01T09:31:09.058Z"
   },
   {
    "duration": 72,
    "start_time": "2023-08-01T09:31:13.644Z"
   },
   {
    "duration": 9,
    "start_time": "2023-08-01T09:31:16.242Z"
   },
   {
    "duration": 13,
    "start_time": "2023-08-01T09:31:16.505Z"
   },
   {
    "duration": 6,
    "start_time": "2023-08-01T09:31:20.481Z"
   },
   {
    "duration": 4,
    "start_time": "2023-08-01T09:31:21.448Z"
   },
   {
    "duration": 235,
    "start_time": "2023-08-01T09:44:07.317Z"
   },
   {
    "duration": 220,
    "start_time": "2023-08-01T09:44:12.415Z"
   },
   {
    "duration": 260,
    "start_time": "2023-08-01T09:44:53.259Z"
   },
   {
    "duration": 304,
    "start_time": "2023-08-01T09:45:09.465Z"
   },
   {
    "duration": 8,
    "start_time": "2023-08-01T09:50:11.777Z"
   },
   {
    "duration": 288,
    "start_time": "2023-08-01T09:50:16.251Z"
   },
   {
    "duration": 228,
    "start_time": "2023-08-01T09:50:20.821Z"
   },
   {
    "duration": 254,
    "start_time": "2023-08-01T09:50:24.496Z"
   },
   {
    "duration": 311,
    "start_time": "2023-08-01T09:50:27.928Z"
   },
   {
    "duration": 15,
    "start_time": "2023-08-01T09:50:48.729Z"
   },
   {
    "duration": 188,
    "start_time": "2023-08-01T09:50:51.945Z"
   },
   {
    "duration": 193,
    "start_time": "2023-08-01T09:50:54.866Z"
   },
   {
    "duration": 309,
    "start_time": "2023-08-01T09:51:19.656Z"
   },
   {
    "duration": 129,
    "start_time": "2023-08-01T09:55:26.506Z"
   },
   {
    "duration": 124,
    "start_time": "2023-08-01T09:55:34.616Z"
   },
   {
    "duration": 1156,
    "start_time": "2023-08-01T09:56:02.450Z"
   },
   {
    "duration": 276,
    "start_time": "2023-08-01T09:56:05.991Z"
   },
   {
    "duration": 134,
    "start_time": "2023-08-01T09:56:10.649Z"
   },
   {
    "duration": 17,
    "start_time": "2023-08-01T09:56:36.296Z"
   },
   {
    "duration": 146,
    "start_time": "2023-08-01T11:52:48.417Z"
   },
   {
    "duration": 12,
    "start_time": "2023-08-01T11:52:51.985Z"
   },
   {
    "duration": 3,
    "start_time": "2023-08-01T11:59:22.176Z"
   },
   {
    "duration": 136,
    "start_time": "2023-08-01T11:59:22.257Z"
   },
   {
    "duration": 6,
    "start_time": "2023-08-01T11:59:22.395Z"
   },
   {
    "duration": 22,
    "start_time": "2023-08-01T11:59:22.403Z"
   },
   {
    "duration": 24,
    "start_time": "2023-08-01T11:59:22.426Z"
   },
   {
    "duration": 8,
    "start_time": "2023-08-01T11:59:22.452Z"
   },
   {
    "duration": 231,
    "start_time": "2023-08-01T11:59:22.584Z"
   },
   {
    "duration": 203,
    "start_time": "2023-08-01T11:59:23.028Z"
   },
   {
    "duration": 497,
    "start_time": "2023-08-01T12:00:36.972Z"
   },
   {
    "duration": 3,
    "start_time": "2023-08-01T12:04:09.048Z"
   },
   {
    "duration": 67,
    "start_time": "2023-08-01T12:04:09.585Z"
   },
   {
    "duration": 6,
    "start_time": "2023-08-01T12:04:10.272Z"
   },
   {
    "duration": 9,
    "start_time": "2023-08-01T12:04:10.608Z"
   },
   {
    "duration": 6,
    "start_time": "2023-08-01T12:04:11.350Z"
   },
   {
    "duration": 3,
    "start_time": "2023-08-01T12:04:11.762Z"
   },
   {
    "duration": 210,
    "start_time": "2023-08-01T12:04:14.429Z"
   },
   {
    "duration": 17,
    "start_time": "2023-08-01T12:04:27.094Z"
   },
   {
    "duration": 188,
    "start_time": "2023-08-01T12:04:42.118Z"
   },
   {
    "duration": 176,
    "start_time": "2023-08-01T12:05:14.474Z"
   },
   {
    "duration": 4,
    "start_time": "2023-08-01T12:05:19.570Z"
   },
   {
    "duration": 5,
    "start_time": "2023-08-01T12:05:35.240Z"
   },
   {
    "duration": 170,
    "start_time": "2023-08-01T12:05:39.235Z"
   },
   {
    "duration": 2,
    "start_time": "2023-08-01T12:16:31.164Z"
   },
   {
    "duration": 276,
    "start_time": "2023-08-01T12:16:50.076Z"
   },
   {
    "duration": 194,
    "start_time": "2023-08-01T12:17:16.685Z"
   },
   {
    "duration": 3,
    "start_time": "2023-08-01T12:17:37.171Z"
   },
   {
    "duration": 2,
    "start_time": "2023-08-01T12:17:44.511Z"
   },
   {
    "duration": 238,
    "start_time": "2023-08-01T12:17:47.526Z"
   },
   {
    "duration": 210,
    "start_time": "2023-08-01T12:17:52.225Z"
   },
   {
    "duration": 6,
    "start_time": "2023-08-01T12:25:26.926Z"
   },
   {
    "duration": 174,
    "start_time": "2023-08-01T12:25:34.076Z"
   },
   {
    "duration": 107,
    "start_time": "2023-08-01T12:25:43.287Z"
   },
   {
    "duration": 125,
    "start_time": "2023-08-01T12:25:45.570Z"
   },
   {
    "duration": 196,
    "start_time": "2023-08-01T12:25:47.442Z"
   },
   {
    "duration": 121,
    "start_time": "2023-08-01T12:25:54.141Z"
   },
   {
    "duration": 147,
    "start_time": "2023-08-01T12:26:06.624Z"
   },
   {
    "duration": 3,
    "start_time": "2023-08-01T12:28:01.262Z"
   },
   {
    "duration": 60,
    "start_time": "2023-08-01T12:28:02.566Z"
   },
   {
    "duration": 26,
    "start_time": "2023-08-01T12:28:02.627Z"
   },
   {
    "duration": 27,
    "start_time": "2023-08-01T12:28:02.654Z"
   },
   {
    "duration": 13,
    "start_time": "2023-08-01T12:28:02.696Z"
   },
   {
    "duration": 3,
    "start_time": "2023-08-01T12:28:02.733Z"
   },
   {
    "duration": 219,
    "start_time": "2023-08-01T12:28:02.891Z"
   },
   {
    "duration": 335,
    "start_time": "2023-08-01T12:28:03.111Z"
   },
   {
    "duration": 153,
    "start_time": "2023-08-01T12:28:03.448Z"
   },
   {
    "duration": 10,
    "start_time": "2023-08-01T12:28:47.049Z"
   },
   {
    "duration": 186,
    "start_time": "2023-08-01T12:28:51.928Z"
   },
   {
    "duration": 255,
    "start_time": "2023-08-01T12:28:56.011Z"
   },
   {
    "duration": 175,
    "start_time": "2023-08-01T12:28:59.000Z"
   },
   {
    "duration": 169,
    "start_time": "2023-08-01T12:29:06.612Z"
   },
   {
    "duration": 197,
    "start_time": "2023-08-01T12:29:09.812Z"
   },
   {
    "duration": 206,
    "start_time": "2023-08-01T12:29:23.864Z"
   },
   {
    "duration": 192,
    "start_time": "2023-08-01T12:30:42.846Z"
   },
   {
    "duration": 519,
    "start_time": "2023-08-01T12:30:58.001Z"
   },
   {
    "duration": 411,
    "start_time": "2023-08-01T12:31:16.092Z"
   },
   {
    "duration": 242,
    "start_time": "2023-08-01T12:31:23.247Z"
   },
   {
    "duration": 3,
    "start_time": "2023-08-01T12:32:17.948Z"
   },
   {
    "duration": 96,
    "start_time": "2023-08-01T12:32:33.628Z"
   },
   {
    "duration": 285,
    "start_time": "2023-08-01T12:32:35.955Z"
   },
   {
    "duration": 420,
    "start_time": "2023-08-01T12:32:40.931Z"
   },
   {
    "duration": 3,
    "start_time": "2023-08-01T12:32:48.464Z"
   },
   {
    "duration": 544,
    "start_time": "2023-08-01T12:32:54.411Z"
   },
   {
    "duration": 418,
    "start_time": "2023-08-01T12:33:02.169Z"
   },
   {
    "duration": 255,
    "start_time": "2023-08-01T12:33:06.703Z"
   },
   {
    "duration": 470,
    "start_time": "2023-08-01T12:33:18.860Z"
   },
   {
    "duration": 681,
    "start_time": "2023-08-01T12:33:25.743Z"
   },
   {
    "duration": 318,
    "start_time": "2023-08-01T12:33:42.333Z"
   },
   {
    "duration": 3,
    "start_time": "2023-08-01T12:33:50.782Z"
   },
   {
    "duration": 213,
    "start_time": "2023-08-01T12:33:53.583Z"
   },
   {
    "duration": 197,
    "start_time": "2023-08-01T12:33:54.142Z"
   },
   {
    "duration": 149,
    "start_time": "2023-08-01T12:33:54.545Z"
   },
   {
    "duration": 198,
    "start_time": "2023-08-01T12:33:55.456Z"
   },
   {
    "duration": 36,
    "start_time": "2023-08-01T12:36:04.346Z"
   },
   {
    "duration": 204,
    "start_time": "2023-08-01T12:36:12.604Z"
   },
   {
    "duration": 331,
    "start_time": "2023-08-01T13:03:06.472Z"
   },
   {
    "duration": 13,
    "start_time": "2023-08-01T13:07:47.554Z"
   },
   {
    "duration": 18,
    "start_time": "2023-08-01T13:07:51.033Z"
   },
   {
    "duration": 19,
    "start_time": "2023-08-01T13:08:40.094Z"
   },
   {
    "duration": 24,
    "start_time": "2023-08-01T13:08:49.301Z"
   },
   {
    "duration": 9,
    "start_time": "2023-08-01T13:09:26.770Z"
   },
   {
    "duration": 22,
    "start_time": "2023-08-01T13:09:29.267Z"
   },
   {
    "duration": 12,
    "start_time": "2023-08-01T13:09:34.095Z"
   },
   {
    "duration": 22,
    "start_time": "2023-08-01T13:09:53.277Z"
   },
   {
    "duration": 9,
    "start_time": "2023-08-01T13:10:32.160Z"
   },
   {
    "duration": 10,
    "start_time": "2023-08-01T13:10:34.002Z"
   },
   {
    "duration": 16,
    "start_time": "2023-08-01T13:10:36.890Z"
   },
   {
    "duration": 17,
    "start_time": "2023-08-01T13:10:45.209Z"
   },
   {
    "duration": 16,
    "start_time": "2023-08-01T13:10:49.192Z"
   },
   {
    "duration": 8,
    "start_time": "2023-08-01T13:10:56.625Z"
   },
   {
    "duration": 16,
    "start_time": "2023-08-01T13:11:02.026Z"
   },
   {
    "duration": 12,
    "start_time": "2023-08-01T13:11:24.721Z"
   },
   {
    "duration": 17,
    "start_time": "2023-08-01T13:11:27.566Z"
   },
   {
    "duration": 17,
    "start_time": "2023-08-01T13:20:09.811Z"
   },
   {
    "duration": 18,
    "start_time": "2023-08-01T13:20:16.434Z"
   },
   {
    "duration": 4,
    "start_time": "2023-08-01T13:20:30.411Z"
   },
   {
    "duration": 20,
    "start_time": "2023-08-01T13:21:01.997Z"
   },
   {
    "duration": 3,
    "start_time": "2023-08-01T13:22:16.615Z"
   },
   {
    "duration": 4,
    "start_time": "2023-08-01T13:22:20.893Z"
   },
   {
    "duration": 14,
    "start_time": "2023-08-01T13:22:25.244Z"
   },
   {
    "duration": 6,
    "start_time": "2023-08-01T13:22:30.645Z"
   },
   {
    "duration": 15,
    "start_time": "2023-08-01T13:22:37.923Z"
   },
   {
    "duration": 20,
    "start_time": "2023-08-01T13:28:17.757Z"
   },
   {
    "duration": 4,
    "start_time": "2023-08-01T13:30:25.220Z"
   },
   {
    "duration": 16,
    "start_time": "2023-08-01T13:30:29.118Z"
   },
   {
    "duration": 9,
    "start_time": "2023-08-01T13:31:07.159Z"
   },
   {
    "duration": 8,
    "start_time": "2023-08-01T13:31:18.604Z"
   },
   {
    "duration": 7,
    "start_time": "2023-08-01T13:31:41.606Z"
   },
   {
    "duration": 9,
    "start_time": "2023-08-01T13:31:41.931Z"
   },
   {
    "duration": 7,
    "start_time": "2023-08-01T13:31:42.280Z"
   },
   {
    "duration": 8,
    "start_time": "2023-08-01T13:31:42.648Z"
   },
   {
    "duration": 9,
    "start_time": "2023-08-01T13:31:52.356Z"
   },
   {
    "duration": 7,
    "start_time": "2023-08-01T13:31:57.606Z"
   },
   {
    "duration": 4,
    "start_time": "2023-08-01T13:32:06.564Z"
   },
   {
    "duration": 8,
    "start_time": "2023-08-01T13:32:10.957Z"
   },
   {
    "duration": 5,
    "start_time": "2023-08-01T13:32:19.887Z"
   },
   {
    "duration": 14,
    "start_time": "2023-08-01T13:35:20.360Z"
   },
   {
    "duration": 3,
    "start_time": "2023-08-01T13:35:56.180Z"
   },
   {
    "duration": 14,
    "start_time": "2023-08-01T13:36:01.256Z"
   },
   {
    "duration": 3,
    "start_time": "2023-08-01T13:37:38.258Z"
   },
   {
    "duration": 3,
    "start_time": "2023-08-01T13:37:38.288Z"
   },
   {
    "duration": 71,
    "start_time": "2023-08-01T13:37:38.371Z"
   },
   {
    "duration": 6,
    "start_time": "2023-08-01T13:37:38.444Z"
   },
   {
    "duration": 7,
    "start_time": "2023-08-01T13:37:38.456Z"
   },
   {
    "duration": 6,
    "start_time": "2023-08-01T13:37:38.489Z"
   },
   {
    "duration": 3,
    "start_time": "2023-08-01T13:37:38.556Z"
   },
   {
    "duration": 221,
    "start_time": "2023-08-01T13:37:38.694Z"
   },
   {
    "duration": 209,
    "start_time": "2023-08-01T13:37:38.917Z"
   },
   {
    "duration": 162,
    "start_time": "2023-08-01T13:37:39.128Z"
   },
   {
    "duration": 223,
    "start_time": "2023-08-01T13:37:39.292Z"
   },
   {
    "duration": 16,
    "start_time": "2023-08-01T13:37:39.517Z"
   },
   {
    "duration": 5,
    "start_time": "2023-08-01T13:37:39.535Z"
   },
   {
    "duration": 18,
    "start_time": "2023-08-01T13:37:39.541Z"
   },
   {
    "duration": 19,
    "start_time": "2023-08-01T13:37:39.561Z"
   },
   {
    "duration": 18,
    "start_time": "2023-08-01T13:37:39.582Z"
   },
   {
    "duration": 4,
    "start_time": "2023-08-01T13:37:39.602Z"
   },
   {
    "duration": 13,
    "start_time": "2023-08-01T13:37:39.607Z"
   },
   {
    "duration": 14,
    "start_time": "2023-08-01T13:38:02.748Z"
   },
   {
    "duration": 5,
    "start_time": "2023-08-01T13:38:11.352Z"
   },
   {
    "duration": 14,
    "start_time": "2023-08-01T13:38:11.763Z"
   },
   {
    "duration": 5,
    "start_time": "2023-08-01T13:38:12.373Z"
   },
   {
    "duration": 7,
    "start_time": "2023-08-01T13:38:14.184Z"
   },
   {
    "duration": 6,
    "start_time": "2023-08-01T13:38:15.578Z"
   },
   {
    "duration": 12,
    "start_time": "2023-08-01T13:38:24.161Z"
   },
   {
    "duration": 4,
    "start_time": "2023-08-01T13:38:24.662Z"
   },
   {
    "duration": 15,
    "start_time": "2023-08-01T13:38:24.872Z"
   },
   {
    "duration": 4,
    "start_time": "2023-08-01T13:38:25.061Z"
   },
   {
    "duration": 9,
    "start_time": "2023-08-01T13:38:25.961Z"
   },
   {
    "duration": 4,
    "start_time": "2023-08-01T13:38:30.164Z"
   },
   {
    "duration": 40,
    "start_time": "2023-08-01T13:38:30.198Z"
   },
   {
    "duration": 73,
    "start_time": "2023-08-01T13:38:30.278Z"
   },
   {
    "duration": 5,
    "start_time": "2023-08-01T13:38:30.354Z"
   },
   {
    "duration": 40,
    "start_time": "2023-08-01T13:38:30.362Z"
   },
   {
    "duration": 26,
    "start_time": "2023-08-01T13:38:30.403Z"
   },
   {
    "duration": 11,
    "start_time": "2023-08-01T13:38:30.456Z"
   },
   {
    "duration": 349,
    "start_time": "2023-08-01T13:38:30.601Z"
   },
   {
    "duration": 214,
    "start_time": "2023-08-01T13:38:30.952Z"
   },
   {
    "duration": 159,
    "start_time": "2023-08-01T13:38:31.168Z"
   },
   {
    "duration": 221,
    "start_time": "2023-08-01T13:38:31.330Z"
   },
   {
    "duration": 16,
    "start_time": "2023-08-01T13:38:31.552Z"
   },
   {
    "duration": 22,
    "start_time": "2023-08-01T13:38:31.570Z"
   },
   {
    "duration": 32,
    "start_time": "2023-08-01T13:38:31.594Z"
   },
   {
    "duration": 19,
    "start_time": "2023-08-01T13:38:31.628Z"
   },
   {
    "duration": 42,
    "start_time": "2023-08-01T13:38:31.649Z"
   },
   {
    "duration": 4,
    "start_time": "2023-08-01T13:38:42.352Z"
   },
   {
    "duration": 3,
    "start_time": "2023-08-01T13:38:42.371Z"
   },
   {
    "duration": 47,
    "start_time": "2023-08-01T13:38:42.466Z"
   },
   {
    "duration": 6,
    "start_time": "2023-08-01T13:38:42.514Z"
   },
   {
    "duration": 9,
    "start_time": "2023-08-01T13:38:42.551Z"
   },
   {
    "duration": 6,
    "start_time": "2023-08-01T13:38:42.576Z"
   },
   {
    "duration": 3,
    "start_time": "2023-08-01T13:38:42.644Z"
   },
   {
    "duration": 219,
    "start_time": "2023-08-01T13:38:42.778Z"
   },
   {
    "duration": 230,
    "start_time": "2023-08-01T13:38:42.999Z"
   },
   {
    "duration": 168,
    "start_time": "2023-08-01T13:38:43.231Z"
   },
   {
    "duration": 221,
    "start_time": "2023-08-01T13:38:43.401Z"
   },
   {
    "duration": 15,
    "start_time": "2023-08-01T13:38:43.624Z"
   },
   {
    "duration": 30,
    "start_time": "2023-08-01T13:38:43.641Z"
   },
   {
    "duration": 18,
    "start_time": "2023-08-01T13:38:43.673Z"
   },
   {
    "duration": 18,
    "start_time": "2023-08-01T13:38:43.693Z"
   },
   {
    "duration": 18,
    "start_time": "2023-08-01T13:38:43.713Z"
   },
   {
    "duration": 4,
    "start_time": "2023-08-01T13:38:53.548Z"
   },
   {
    "duration": 2,
    "start_time": "2023-08-01T13:38:53.574Z"
   },
   {
    "duration": 61,
    "start_time": "2023-08-01T13:38:53.709Z"
   },
   {
    "duration": 7,
    "start_time": "2023-08-01T13:38:53.772Z"
   },
   {
    "duration": 32,
    "start_time": "2023-08-01T13:38:53.780Z"
   },
   {
    "duration": 36,
    "start_time": "2023-08-01T13:38:53.813Z"
   },
   {
    "duration": 35,
    "start_time": "2023-08-01T13:38:53.850Z"
   },
   {
    "duration": 223,
    "start_time": "2023-08-01T13:38:53.976Z"
   },
   {
    "duration": 207,
    "start_time": "2023-08-01T13:38:54.201Z"
   },
   {
    "duration": 158,
    "start_time": "2023-08-01T13:38:54.409Z"
   },
   {
    "duration": 223,
    "start_time": "2023-08-01T13:38:54.568Z"
   },
   {
    "duration": 17,
    "start_time": "2023-08-01T13:38:54.793Z"
   },
   {
    "duration": 40,
    "start_time": "2023-08-01T13:38:54.811Z"
   },
   {
    "duration": 40,
    "start_time": "2023-08-01T13:38:54.853Z"
   },
   {
    "duration": 29,
    "start_time": "2023-08-01T13:38:54.895Z"
   },
   {
    "duration": 31,
    "start_time": "2023-08-01T13:38:54.925Z"
   },
   {
    "duration": 4,
    "start_time": "2023-08-01T13:39:05.152Z"
   },
   {
    "duration": 36,
    "start_time": "2023-08-01T13:39:05.191Z"
   },
   {
    "duration": 92,
    "start_time": "2023-08-01T13:39:05.269Z"
   },
   {
    "duration": 7,
    "start_time": "2023-08-01T13:39:05.365Z"
   },
   {
    "duration": 149,
    "start_time": "2023-08-01T13:39:05.374Z"
   },
   {
    "duration": 38,
    "start_time": "2023-08-01T13:39:05.525Z"
   },
   {
    "duration": 23,
    "start_time": "2023-08-01T13:39:05.565Z"
   },
   {
    "duration": 252,
    "start_time": "2023-08-01T13:39:05.597Z"
   },
   {
    "duration": 374,
    "start_time": "2023-08-01T13:39:05.850Z"
   },
   {
    "duration": 191,
    "start_time": "2023-08-01T13:39:06.226Z"
   },
   {
    "duration": 248,
    "start_time": "2023-08-01T13:39:06.420Z"
   },
   {
    "duration": 19,
    "start_time": "2023-08-01T13:39:06.671Z"
   },
   {
    "duration": 26,
    "start_time": "2023-08-01T13:39:06.691Z"
   },
   {
    "duration": 36,
    "start_time": "2023-08-01T13:39:06.718Z"
   },
   {
    "duration": 25,
    "start_time": "2023-08-01T13:39:06.756Z"
   },
   {
    "duration": 35,
    "start_time": "2023-08-01T13:39:06.783Z"
   },
   {
    "duration": 4,
    "start_time": "2023-08-01T13:40:07.920Z"
   },
   {
    "duration": 3,
    "start_time": "2023-08-01T13:40:07.963Z"
   },
   {
    "duration": 57,
    "start_time": "2023-08-01T13:40:08.049Z"
   },
   {
    "duration": 7,
    "start_time": "2023-08-01T13:40:08.108Z"
   },
   {
    "duration": 9,
    "start_time": "2023-08-01T13:40:08.144Z"
   },
   {
    "duration": 16,
    "start_time": "2023-08-01T13:40:08.164Z"
   },
   {
    "duration": 3,
    "start_time": "2023-08-01T13:40:08.204Z"
   },
   {
    "duration": 220,
    "start_time": "2023-08-01T13:40:08.367Z"
   },
   {
    "duration": 215,
    "start_time": "2023-08-01T13:40:08.589Z"
   },
   {
    "duration": 161,
    "start_time": "2023-08-01T13:40:08.806Z"
   },
   {
    "duration": 214,
    "start_time": "2023-08-01T13:40:08.968Z"
   },
   {
    "duration": 16,
    "start_time": "2023-08-01T13:40:09.584Z"
   },
   {
    "duration": 4,
    "start_time": "2023-08-01T13:40:09.665Z"
   },
   {
    "duration": 15,
    "start_time": "2023-08-01T13:40:09.705Z"
   },
   {
    "duration": 5,
    "start_time": "2023-08-01T13:40:09.764Z"
   },
   {
    "duration": 10,
    "start_time": "2023-08-01T13:40:11.148Z"
   },
   {
    "duration": 9,
    "start_time": "2023-08-01T13:40:39.922Z"
   },
   {
    "duration": 3,
    "start_time": "2023-08-01T13:40:58.650Z"
   },
   {
    "duration": 15,
    "start_time": "2023-08-01T13:41:24.655Z"
   },
   {
    "duration": 4,
    "start_time": "2023-08-01T13:41:30.172Z"
   },
   {
    "duration": 5,
    "start_time": "2023-08-01T13:42:04.287Z"
   },
   {
    "duration": 5,
    "start_time": "2023-08-01T13:42:12.552Z"
   },
   {
    "duration": 4,
    "start_time": "2023-08-01T13:43:52.452Z"
   },
   {
    "duration": 26,
    "start_time": "2023-08-01T13:43:52.469Z"
   },
   {
    "duration": 57,
    "start_time": "2023-08-01T13:43:52.556Z"
   },
   {
    "duration": 6,
    "start_time": "2023-08-01T13:43:52.615Z"
   },
   {
    "duration": 9,
    "start_time": "2023-08-01T13:43:52.648Z"
   },
   {
    "duration": 7,
    "start_time": "2023-08-01T13:43:52.675Z"
   },
   {
    "duration": 5,
    "start_time": "2023-08-01T13:43:52.716Z"
   },
   {
    "duration": 240,
    "start_time": "2023-08-01T13:43:52.876Z"
   },
   {
    "duration": 231,
    "start_time": "2023-08-01T13:43:53.118Z"
   },
   {
    "duration": 184,
    "start_time": "2023-08-01T13:43:53.350Z"
   },
   {
    "duration": 230,
    "start_time": "2023-08-01T13:43:53.536Z"
   },
   {
    "duration": 15,
    "start_time": "2023-08-01T13:43:53.767Z"
   },
   {
    "duration": 16,
    "start_time": "2023-08-01T13:43:53.784Z"
   },
   {
    "duration": 12,
    "start_time": "2023-08-01T13:43:53.801Z"
   },
   {
    "duration": 10,
    "start_time": "2023-08-01T13:43:53.815Z"
   },
   {
    "duration": 7,
    "start_time": "2023-08-01T13:43:53.826Z"
   },
   {
    "duration": 4,
    "start_time": "2023-08-01T13:44:05.788Z"
   },
   {
    "duration": 5,
    "start_time": "2023-08-01T13:44:18.156Z"
   },
   {
    "duration": 3,
    "start_time": "2023-08-01T13:44:22.356Z"
   },
   {
    "duration": 2,
    "start_time": "2023-08-01T13:44:22.389Z"
   },
   {
    "duration": 63,
    "start_time": "2023-08-01T13:44:22.471Z"
   },
   {
    "duration": 6,
    "start_time": "2023-08-01T13:44:22.536Z"
   },
   {
    "duration": 8,
    "start_time": "2023-08-01T13:44:22.552Z"
   },
   {
    "duration": 6,
    "start_time": "2023-08-01T13:44:22.590Z"
   },
   {
    "duration": 3,
    "start_time": "2023-08-01T13:44:22.655Z"
   },
   {
    "duration": 217,
    "start_time": "2023-08-01T13:44:22.793Z"
   },
   {
    "duration": 206,
    "start_time": "2023-08-01T13:44:23.012Z"
   },
   {
    "duration": 158,
    "start_time": "2023-08-01T13:44:23.219Z"
   },
   {
    "duration": 360,
    "start_time": "2023-08-01T13:44:23.379Z"
   },
   {
    "duration": 14,
    "start_time": "2023-08-01T13:44:23.740Z"
   },
   {
    "duration": 3,
    "start_time": "2023-08-01T13:44:23.755Z"
   },
   {
    "duration": 16,
    "start_time": "2023-08-01T13:44:23.759Z"
   },
   {
    "duration": 8,
    "start_time": "2023-08-01T13:44:24.048Z"
   },
   {
    "duration": 3,
    "start_time": "2023-08-01T13:44:24.203Z"
   },
   {
    "duration": 3,
    "start_time": "2023-08-01T13:44:31.066Z"
   },
   {
    "duration": 41,
    "start_time": "2023-08-01T13:44:31.106Z"
   },
   {
    "duration": 63,
    "start_time": "2023-08-01T13:44:31.189Z"
   },
   {
    "duration": 6,
    "start_time": "2023-08-01T13:44:31.254Z"
   },
   {
    "duration": 27,
    "start_time": "2023-08-01T13:44:31.268Z"
   },
   {
    "duration": 10,
    "start_time": "2023-08-01T13:44:31.306Z"
   },
   {
    "duration": 3,
    "start_time": "2023-08-01T13:44:31.346Z"
   },
   {
    "duration": 215,
    "start_time": "2023-08-01T13:44:31.512Z"
   },
   {
    "duration": 204,
    "start_time": "2023-08-01T13:44:31.729Z"
   },
   {
    "duration": 166,
    "start_time": "2023-08-01T13:44:31.934Z"
   },
   {
    "duration": 218,
    "start_time": "2023-08-01T13:44:32.102Z"
   },
   {
    "duration": 18,
    "start_time": "2023-08-01T13:44:32.321Z"
   },
   {
    "duration": 18,
    "start_time": "2023-08-01T13:44:32.340Z"
   },
   {
    "duration": 26,
    "start_time": "2023-08-01T13:44:32.360Z"
   },
   {
    "duration": 44,
    "start_time": "2023-08-01T13:44:32.388Z"
   },
   {
    "duration": 19,
    "start_time": "2023-08-01T13:44:32.434Z"
   },
   {
    "duration": 4,
    "start_time": "2023-08-01T13:44:56.267Z"
   },
   {
    "duration": 3,
    "start_time": "2023-08-01T13:44:56.300Z"
   },
   {
    "duration": 62,
    "start_time": "2023-08-01T13:44:56.380Z"
   },
   {
    "duration": 5,
    "start_time": "2023-08-01T13:44:56.444Z"
   },
   {
    "duration": 8,
    "start_time": "2023-08-01T13:44:56.464Z"
   },
   {
    "duration": 9,
    "start_time": "2023-08-01T13:44:56.500Z"
   },
   {
    "duration": 3,
    "start_time": "2023-08-01T13:44:56.556Z"
   },
   {
    "duration": 211,
    "start_time": "2023-08-01T13:44:56.705Z"
   },
   {
    "duration": 202,
    "start_time": "2023-08-01T13:44:56.918Z"
   },
   {
    "duration": 157,
    "start_time": "2023-08-01T13:44:57.122Z"
   },
   {
    "duration": 210,
    "start_time": "2023-08-01T13:44:57.281Z"
   },
   {
    "duration": 20,
    "start_time": "2023-08-01T13:44:57.492Z"
   },
   {
    "duration": 10,
    "start_time": "2023-08-01T13:44:57.514Z"
   },
   {
    "duration": 4,
    "start_time": "2023-08-01T13:44:57.526Z"
   },
   {
    "duration": 11,
    "start_time": "2023-08-01T13:44:57.532Z"
   },
   {
    "duration": 5,
    "start_time": "2023-08-01T13:44:57.544Z"
   },
   {
    "duration": 16,
    "start_time": "2023-08-01T14:09:44.501Z"
   },
   {
    "duration": 9,
    "start_time": "2023-08-01T14:09:49.149Z"
   },
   {
    "duration": 9,
    "start_time": "2023-08-01T14:09:54.669Z"
   },
   {
    "duration": 6,
    "start_time": "2023-08-01T14:26:14.845Z"
   },
   {
    "duration": 8,
    "start_time": "2023-08-01T14:26:19.671Z"
   },
   {
    "duration": 6,
    "start_time": "2023-08-01T14:27:08.156Z"
   },
   {
    "duration": 17,
    "start_time": "2023-08-01T14:27:09.951Z"
   },
   {
    "duration": 15,
    "start_time": "2023-08-01T14:27:15.141Z"
   },
   {
    "duration": 11,
    "start_time": "2023-08-01T14:27:36.059Z"
   },
   {
    "duration": 16,
    "start_time": "2023-08-01T14:27:43.928Z"
   },
   {
    "duration": 9,
    "start_time": "2023-08-01T14:27:57.775Z"
   },
   {
    "duration": 8,
    "start_time": "2023-08-01T14:28:11.368Z"
   },
   {
    "duration": 12,
    "start_time": "2023-08-01T14:28:18.186Z"
   },
   {
    "duration": 6,
    "start_time": "2023-08-01T14:28:27.174Z"
   },
   {
    "duration": 11,
    "start_time": "2023-08-01T14:28:56.593Z"
   },
   {
    "duration": 9,
    "start_time": "2023-08-01T14:29:01.889Z"
   },
   {
    "duration": 8,
    "start_time": "2023-08-01T14:29:07.397Z"
   },
   {
    "duration": 7,
    "start_time": "2023-08-01T14:29:10.332Z"
   },
   {
    "duration": 13,
    "start_time": "2023-08-01T14:30:59.035Z"
   },
   {
    "duration": 10,
    "start_time": "2023-08-01T14:31:33.272Z"
   },
   {
    "duration": 4,
    "start_time": "2023-08-01T14:31:38.460Z"
   },
   {
    "duration": 6,
    "start_time": "2023-08-01T14:31:44.302Z"
   },
   {
    "duration": 8,
    "start_time": "2023-08-01T14:31:48.564Z"
   },
   {
    "duration": 27,
    "start_time": "2023-08-01T14:32:45.951Z"
   },
   {
    "duration": 647,
    "start_time": "2023-08-01T14:33:49.408Z"
   },
   {
    "duration": 631,
    "start_time": "2023-08-01T14:34:05.738Z"
   },
   {
    "duration": 605,
    "start_time": "2023-08-01T14:34:23.221Z"
   },
   {
    "duration": 4,
    "start_time": "2023-08-01T14:36:29.006Z"
   },
   {
    "duration": 4,
    "start_time": "2023-08-01T14:36:37.922Z"
   },
   {
    "duration": 2,
    "start_time": "2023-08-01T14:36:37.965Z"
   },
   {
    "duration": 131,
    "start_time": "2023-08-01T14:36:38.046Z"
   },
   {
    "duration": 7,
    "start_time": "2023-08-01T14:36:38.179Z"
   },
   {
    "duration": 20,
    "start_time": "2023-08-01T14:36:38.188Z"
   },
   {
    "duration": 8,
    "start_time": "2023-08-01T14:36:38.210Z"
   },
   {
    "duration": 8,
    "start_time": "2023-08-01T14:36:38.219Z"
   },
   {
    "duration": 229,
    "start_time": "2023-08-01T14:36:38.367Z"
   },
   {
    "duration": 230,
    "start_time": "2023-08-01T14:36:38.600Z"
   },
   {
    "duration": 183,
    "start_time": "2023-08-01T14:36:38.832Z"
   },
   {
    "duration": 227,
    "start_time": "2023-08-01T14:36:39.016Z"
   },
   {
    "duration": 163,
    "start_time": "2023-08-01T14:36:39.245Z"
   },
   {
    "duration": 3,
    "start_time": "2023-08-01T14:36:39.410Z"
   },
   {
    "duration": 9,
    "start_time": "2023-08-01T14:36:39.414Z"
   },
   {
    "duration": 24,
    "start_time": "2023-08-01T14:36:39.425Z"
   },
   {
    "duration": 738,
    "start_time": "2023-08-01T14:36:39.450Z"
   },
   {
    "duration": 43,
    "start_time": "2023-08-01T14:38:22.832Z"
   },
   {
    "duration": 14556,
    "start_time": "2023-08-01T14:53:06.550Z"
   },
   {
    "duration": 602,
    "start_time": "2023-08-01T15:11:15.571Z"
   },
   {
    "duration": 5,
    "start_time": "2023-08-01T15:12:03.675Z"
   },
   {
    "duration": 423828,
    "start_time": "2023-08-01T15:12:39.576Z"
   },
   {
    "duration": 3,
    "start_time": "2023-08-01T15:19:43.408Z"
   },
   {
    "duration": 4,
    "start_time": "2023-08-01T15:20:18.747Z"
   },
   {
    "duration": 36974,
    "start_time": "2023-08-01T15:20:19.634Z"
   },
   {
    "duration": 0,
    "start_time": "2023-08-01T15:22:04.313Z"
   },
   {
    "duration": 108690,
    "start_time": "2023-08-01T15:22:05.614Z"
   },
   {
    "duration": 959,
    "start_time": "2023-08-01T15:23:56.041Z"
   },
   {
    "duration": 644,
    "start_time": "2023-08-01T15:23:59.555Z"
   },
   {
    "duration": 112,
    "start_time": "2023-08-01T15:24:37.894Z"
   },
   {
    "duration": 920,
    "start_time": "2023-08-01T15:24:40.787Z"
   },
   {
    "duration": 3015,
    "start_time": "2023-08-01T15:24:51.587Z"
   },
   {
    "duration": 287,
    "start_time": "2023-08-01T15:25:00.413Z"
   },
   {
    "duration": 2869,
    "start_time": "2023-08-01T15:25:03.744Z"
   },
   {
    "duration": 5150,
    "start_time": "2023-08-01T15:25:07.652Z"
   },
   {
    "duration": 104,
    "start_time": "2023-08-01T15:25:15.602Z"
   },
   {
    "duration": 18,
    "start_time": "2023-08-01T15:25:18.631Z"
   },
   {
    "duration": 66,
    "start_time": "2023-08-01T15:25:25.140Z"
   },
   {
    "duration": 136,
    "start_time": "2023-08-01T15:25:27.467Z"
   },
   {
    "duration": 151,
    "start_time": "2023-08-01T15:25:29.653Z"
   },
   {
    "duration": 150,
    "start_time": "2023-08-01T15:25:31.554Z"
   },
   {
    "duration": 353,
    "start_time": "2023-08-01T15:25:33.647Z"
   },
   {
    "duration": 120,
    "start_time": "2023-08-01T15:28:19.500Z"
   },
   {
    "duration": 117,
    "start_time": "2023-08-01T15:29:04.846Z"
   },
   {
    "duration": 7,
    "start_time": "2023-08-01T15:29:13.922Z"
   },
   {
    "duration": 7,
    "start_time": "2023-08-01T15:29:25.344Z"
   },
   {
    "duration": 17,
    "start_time": "2023-08-01T15:29:30.343Z"
   },
   {
    "duration": 15,
    "start_time": "2023-08-01T15:29:38.868Z"
   },
   {
    "duration": 17,
    "start_time": "2023-08-01T15:29:56.561Z"
   },
   {
    "duration": 406,
    "start_time": "2023-08-01T15:30:17.298Z"
   },
   {
    "duration": 17,
    "start_time": "2023-08-01T15:30:46.212Z"
   },
   {
    "duration": 5,
    "start_time": "2023-08-01T15:30:49.787Z"
   },
   {
    "duration": 4,
    "start_time": "2023-08-01T15:30:52.685Z"
   },
   {
    "duration": 410,
    "start_time": "2023-08-01T15:30:58.003Z"
   },
   {
    "duration": 311,
    "start_time": "2023-08-01T15:31:05.612Z"
   },
   {
    "duration": 346,
    "start_time": "2023-08-01T15:31:14.485Z"
   },
   {
    "duration": 389,
    "start_time": "2023-08-01T15:31:44.360Z"
   },
   {
    "duration": 16,
    "start_time": "2023-08-01T15:33:05.099Z"
   },
   {
    "duration": 63,
    "start_time": "2023-08-01T15:33:24.043Z"
   },
   {
    "duration": 17,
    "start_time": "2023-08-01T15:33:28.727Z"
   },
   {
    "duration": 4,
    "start_time": "2023-08-01T15:33:39.104Z"
   },
   {
    "duration": 11,
    "start_time": "2023-08-01T15:33:43.473Z"
   },
   {
    "duration": 13850,
    "start_time": "2023-08-01T15:33:49.516Z"
   },
   {
    "duration": 12765,
    "start_time": "2023-08-01T15:34:05.060Z"
   },
   {
    "duration": 13612,
    "start_time": "2023-08-01T15:34:40.321Z"
   },
   {
    "duration": 4,
    "start_time": "2023-08-01T15:35:28.018Z"
   },
   {
    "duration": 2089,
    "start_time": "2023-08-01T15:36:02.605Z"
   },
   {
    "duration": 2797,
    "start_time": "2023-08-01T15:37:08.380Z"
   },
   {
    "duration": 62,
    "start_time": "2023-08-01T15:37:44.336Z"
   },
   {
    "duration": 5,
    "start_time": "2023-08-01T15:38:10.668Z"
   },
   {
    "duration": 3,
    "start_time": "2023-08-01T15:38:10.839Z"
   },
   {
    "duration": 148,
    "start_time": "2023-08-01T15:38:11.387Z"
   },
   {
    "duration": 8,
    "start_time": "2023-08-01T15:38:11.537Z"
   },
   {
    "duration": 18,
    "start_time": "2023-08-01T15:38:11.546Z"
   },
   {
    "duration": 30,
    "start_time": "2023-08-01T15:38:11.566Z"
   },
   {
    "duration": 29,
    "start_time": "2023-08-01T15:38:11.598Z"
   },
   {
    "duration": 233,
    "start_time": "2023-08-01T15:38:11.714Z"
   },
   {
    "duration": 220,
    "start_time": "2023-08-01T15:38:11.949Z"
   },
   {
    "duration": 172,
    "start_time": "2023-08-01T15:38:12.170Z"
   },
   {
    "duration": 237,
    "start_time": "2023-08-01T15:38:12.344Z"
   },
   {
    "duration": 27,
    "start_time": "2023-08-01T15:38:12.582Z"
   },
   {
    "duration": 7,
    "start_time": "2023-08-01T15:38:12.612Z"
   },
   {
    "duration": 10,
    "start_time": "2023-08-01T15:38:12.620Z"
   },
   {
    "duration": 73,
    "start_time": "2023-08-01T15:38:12.632Z"
   },
   {
    "duration": 727,
    "start_time": "2023-08-01T15:38:12.707Z"
   },
   {
    "duration": 5,
    "start_time": "2023-08-01T15:38:13.435Z"
   },
   {
    "duration": 4166,
    "start_time": "2023-08-01T15:38:13.442Z"
   },
   {
    "duration": 11510,
    "start_time": "2023-08-01T15:38:17.700Z"
   },
   {
    "duration": 1439,
    "start_time": "2023-08-01T15:38:29.211Z"
   },
   {
    "duration": 34,
    "start_time": "2023-08-01T15:38:30.651Z"
   },
   {
    "duration": 4,
    "start_time": "2023-08-01T15:39:08.278Z"
   },
   {
    "duration": 1489,
    "start_time": "2023-08-01T15:39:40.706Z"
   },
   {
    "duration": 3,
    "start_time": "2023-08-01T15:39:42.196Z"
   },
   {
    "duration": 70,
    "start_time": "2023-08-01T15:39:42.201Z"
   },
   {
    "duration": 8,
    "start_time": "2023-08-01T15:39:42.272Z"
   },
   {
    "duration": 9,
    "start_time": "2023-08-01T15:39:42.282Z"
   },
   {
    "duration": 11,
    "start_time": "2023-08-01T15:39:42.292Z"
   },
   {
    "duration": 3,
    "start_time": "2023-08-01T15:39:42.304Z"
   },
   {
    "duration": 243,
    "start_time": "2023-08-01T15:39:42.309Z"
   },
   {
    "duration": 325,
    "start_time": "2023-08-01T15:39:42.553Z"
   },
   {
    "duration": 157,
    "start_time": "2023-08-01T15:39:42.880Z"
   },
   {
    "duration": 224,
    "start_time": "2023-08-01T15:39:43.038Z"
   },
   {
    "duration": 24,
    "start_time": "2023-08-01T15:39:43.264Z"
   },
   {
    "duration": 12,
    "start_time": "2023-08-01T15:39:43.289Z"
   },
   {
    "duration": 10,
    "start_time": "2023-08-01T15:39:43.304Z"
   },
   {
    "duration": 17,
    "start_time": "2023-08-01T15:39:43.316Z"
   },
   {
    "duration": 685,
    "start_time": "2023-08-01T15:39:43.400Z"
   },
   {
    "duration": 4,
    "start_time": "2023-08-01T15:39:44.087Z"
   },
   {
    "duration": 24588,
    "start_time": "2023-08-01T15:39:44.092Z"
   },
   {
    "duration": 0,
    "start_time": "2023-08-01T15:40:08.682Z"
   },
   {
    "duration": 0,
    "start_time": "2023-08-01T15:40:08.683Z"
   },
   {
    "duration": 0,
    "start_time": "2023-08-01T15:40:08.685Z"
   },
   {
    "duration": 3220,
    "start_time": "2023-08-01T15:40:19.598Z"
   },
   {
    "duration": 12197,
    "start_time": "2023-08-01T15:40:25.051Z"
   },
   {
    "duration": 1737,
    "start_time": "2023-08-01T15:40:37.250Z"
   },
   {
    "duration": 9,
    "start_time": "2023-08-01T15:40:38.989Z"
   },
   {
    "duration": 3,
    "start_time": "2023-08-01T15:40:55.226Z"
   },
   {
    "duration": 6,
    "start_time": "2023-08-01T15:41:37.472Z"
   },
   {
    "duration": 8,
    "start_time": "2023-08-01T15:41:46.744Z"
   },
   {
    "duration": 7,
    "start_time": "2023-08-01T15:41:54.156Z"
   },
   {
    "duration": 10,
    "start_time": "2023-08-01T15:44:47.973Z"
   },
   {
    "duration": 1727,
    "start_time": "2023-08-01T15:44:57.445Z"
   },
   {
    "duration": 3,
    "start_time": "2023-08-01T15:44:59.174Z"
   },
   {
    "duration": 100,
    "start_time": "2023-08-01T15:44:59.178Z"
   },
   {
    "duration": 7,
    "start_time": "2023-08-01T15:44:59.280Z"
   },
   {
    "duration": 32,
    "start_time": "2023-08-01T15:44:59.289Z"
   },
   {
    "duration": 17,
    "start_time": "2023-08-01T15:44:59.323Z"
   },
   {
    "duration": 30,
    "start_time": "2023-08-01T15:44:59.341Z"
   },
   {
    "duration": 275,
    "start_time": "2023-08-01T15:44:59.373Z"
   },
   {
    "duration": 285,
    "start_time": "2023-08-01T15:44:59.649Z"
   },
   {
    "duration": 155,
    "start_time": "2023-08-01T15:44:59.936Z"
   },
   {
    "duration": 223,
    "start_time": "2023-08-01T15:45:00.093Z"
   },
   {
    "duration": 17,
    "start_time": "2023-08-01T15:45:00.317Z"
   },
   {
    "duration": 49,
    "start_time": "2023-08-01T15:45:00.335Z"
   },
   {
    "duration": 69,
    "start_time": "2023-08-01T15:45:00.386Z"
   },
   {
    "duration": 46,
    "start_time": "2023-08-01T15:45:00.456Z"
   },
   {
    "duration": 885,
    "start_time": "2023-08-01T15:45:00.503Z"
   },
   {
    "duration": 0,
    "start_time": "2023-08-01T15:45:01.390Z"
   },
   {
    "duration": 0,
    "start_time": "2023-08-01T15:45:01.391Z"
   },
   {
    "duration": 1,
    "start_time": "2023-08-01T15:45:01.391Z"
   },
   {
    "duration": 0,
    "start_time": "2023-08-01T15:45:01.392Z"
   },
   {
    "duration": 0,
    "start_time": "2023-08-01T15:45:01.399Z"
   },
   {
    "duration": 0,
    "start_time": "2023-08-01T15:45:01.400Z"
   },
   {
    "duration": 1555,
    "start_time": "2023-08-01T15:45:27.272Z"
   },
   {
    "duration": 3,
    "start_time": "2023-08-01T15:45:28.828Z"
   },
   {
    "duration": 96,
    "start_time": "2023-08-01T15:45:28.832Z"
   },
   {
    "duration": 7,
    "start_time": "2023-08-01T15:45:28.930Z"
   },
   {
    "duration": 13,
    "start_time": "2023-08-01T15:45:28.939Z"
   },
   {
    "duration": 31,
    "start_time": "2023-08-01T15:45:28.953Z"
   },
   {
    "duration": 3,
    "start_time": "2023-08-01T15:45:28.986Z"
   },
   {
    "duration": 242,
    "start_time": "2023-08-01T15:45:28.991Z"
   },
   {
    "duration": 296,
    "start_time": "2023-08-01T15:45:29.234Z"
   },
   {
    "duration": 153,
    "start_time": "2023-08-01T15:45:29.531Z"
   },
   {
    "duration": 209,
    "start_time": "2023-08-01T15:45:29.685Z"
   },
   {
    "duration": 17,
    "start_time": "2023-08-01T15:45:29.896Z"
   },
   {
    "duration": 4,
    "start_time": "2023-08-01T15:45:29.914Z"
   },
   {
    "duration": 8,
    "start_time": "2023-08-01T15:45:29.921Z"
   },
   {
    "duration": 76,
    "start_time": "2023-08-01T15:45:29.931Z"
   },
   {
    "duration": 692,
    "start_time": "2023-08-01T15:45:30.008Z"
   },
   {
    "duration": 4,
    "start_time": "2023-08-01T15:45:30.702Z"
   },
   {
    "duration": 494,
    "start_time": "2023-08-01T15:45:30.708Z"
   },
   {
    "duration": 13873,
    "start_time": "2023-08-01T15:45:31.203Z"
   },
   {
    "duration": 1972,
    "start_time": "2023-08-01T15:45:45.078Z"
   },
   {
    "duration": 3,
    "start_time": "2023-08-01T15:45:47.052Z"
   },
   {
    "duration": 15,
    "start_time": "2023-08-01T15:45:47.056Z"
   },
   {
    "duration": 118,
    "start_time": "2023-08-01T15:49:52.655Z"
   },
   {
    "duration": 5,
    "start_time": "2023-08-01T15:49:58.091Z"
   },
   {
    "duration": 17951,
    "start_time": "2023-08-01T15:52:13.708Z"
   },
   {
    "duration": 1730,
    "start_time": "2023-08-01T15:53:08.353Z"
   },
   {
    "duration": 6,
    "start_time": "2023-08-01T15:53:41.719Z"
   },
   {
    "duration": 12,
    "start_time": "2023-08-01T15:54:54.308Z"
   },
   {
    "duration": 17267,
    "start_time": "2023-08-01T15:55:59.774Z"
   },
   {
    "duration": 16451,
    "start_time": "2023-08-01T15:56:19.718Z"
   },
   {
    "duration": 16987,
    "start_time": "2023-08-01T15:57:06.026Z"
   },
   {
    "duration": 1348,
    "start_time": "2023-08-01T16:00:22.615Z"
   },
   {
    "duration": 3,
    "start_time": "2023-08-01T16:00:23.964Z"
   },
   {
    "duration": 73,
    "start_time": "2023-08-01T16:00:23.969Z"
   },
   {
    "duration": 8,
    "start_time": "2023-08-01T16:00:24.045Z"
   },
   {
    "duration": 18,
    "start_time": "2023-08-01T16:00:24.054Z"
   },
   {
    "duration": 34,
    "start_time": "2023-08-01T16:00:24.074Z"
   },
   {
    "duration": 8,
    "start_time": "2023-08-01T16:00:24.109Z"
   },
   {
    "duration": 238,
    "start_time": "2023-08-01T16:00:24.118Z"
   },
   {
    "duration": 300,
    "start_time": "2023-08-01T16:00:24.358Z"
   },
   {
    "duration": 153,
    "start_time": "2023-08-01T16:00:24.661Z"
   },
   {
    "duration": 217,
    "start_time": "2023-08-01T16:00:24.815Z"
   },
   {
    "duration": 16,
    "start_time": "2023-08-01T16:00:25.033Z"
   },
   {
    "duration": 8,
    "start_time": "2023-08-01T16:00:25.050Z"
   },
   {
    "duration": 17,
    "start_time": "2023-08-01T16:00:25.059Z"
   },
   {
    "duration": 24,
    "start_time": "2023-08-01T16:00:25.077Z"
   },
   {
    "duration": 783,
    "start_time": "2023-08-01T16:00:25.102Z"
   },
   {
    "duration": 4,
    "start_time": "2023-08-01T16:00:25.887Z"
   },
   {
    "duration": 311,
    "start_time": "2023-08-01T16:00:25.892Z"
   },
   {
    "duration": 100,
    "start_time": "2023-08-01T16:00:26.204Z"
   },
   {
    "duration": 13019,
    "start_time": "2023-08-01T16:00:26.306Z"
   },
   {
    "duration": 2088,
    "start_time": "2023-08-01T16:00:39.326Z"
   },
   {
    "duration": 6,
    "start_time": "2023-08-01T16:00:41.416Z"
   },
   {
    "duration": 20602,
    "start_time": "2023-08-01T16:00:41.423Z"
   },
   {
    "duration": 13,
    "start_time": "2023-08-01T16:22:25.688Z"
   },
   {
    "duration": 0,
    "start_time": "2023-08-01T16:22:25.703Z"
   },
   {
    "duration": 0,
    "start_time": "2023-08-01T16:22:25.704Z"
   },
   {
    "duration": 0,
    "start_time": "2023-08-01T16:22:25.705Z"
   },
   {
    "duration": 15684,
    "start_time": "2023-08-01T16:22:25.740Z"
   },
   {
    "duration": 1849,
    "start_time": "2023-08-01T16:22:41.426Z"
   },
   {
    "duration": 9,
    "start_time": "2023-08-01T16:22:43.277Z"
   },
   {
    "duration": 18880,
    "start_time": "2023-08-01T16:22:43.288Z"
   },
   {
    "duration": 49,
    "start_time": "2023-08-02T06:19:05.881Z"
   },
   {
    "duration": 1772,
    "start_time": "2023-08-02T06:19:10.177Z"
   },
   {
    "duration": 3,
    "start_time": "2023-08-02T06:19:11.952Z"
   },
   {
    "duration": 158,
    "start_time": "2023-08-02T06:19:11.957Z"
   },
   {
    "duration": 13,
    "start_time": "2023-08-02T06:19:12.118Z"
   },
   {
    "duration": 12,
    "start_time": "2023-08-02T06:19:12.133Z"
   },
   {
    "duration": 11,
    "start_time": "2023-08-02T06:19:12.147Z"
   },
   {
    "duration": 5,
    "start_time": "2023-08-02T06:19:12.160Z"
   },
   {
    "duration": 304,
    "start_time": "2023-08-02T06:19:12.274Z"
   },
   {
    "duration": 397,
    "start_time": "2023-08-02T06:19:13.408Z"
   },
   {
    "duration": 280,
    "start_time": "2023-08-02T06:19:14.429Z"
   },
   {
    "duration": 268,
    "start_time": "2023-08-02T06:19:34.072Z"
   },
   {
    "duration": 203,
    "start_time": "2023-08-02T06:19:40.874Z"
   },
   {
    "duration": 295,
    "start_time": "2023-08-02T06:19:48.030Z"
   },
   {
    "duration": 256,
    "start_time": "2023-08-02T06:19:56.215Z"
   },
   {
    "duration": 213,
    "start_time": "2023-08-02T06:19:59.478Z"
   },
   {
    "duration": 5,
    "start_time": "2023-08-02T06:21:27.478Z"
   },
   {
    "duration": 4,
    "start_time": "2023-08-02T06:21:27.563Z"
   },
   {
    "duration": 77,
    "start_time": "2023-08-02T06:21:27.728Z"
   },
   {
    "duration": 7,
    "start_time": "2023-08-02T06:21:27.811Z"
   },
   {
    "duration": 12,
    "start_time": "2023-08-02T06:21:27.895Z"
   },
   {
    "duration": 8,
    "start_time": "2023-08-02T06:21:27.979Z"
   },
   {
    "duration": 6,
    "start_time": "2023-08-02T06:21:28.080Z"
   },
   {
    "duration": 315,
    "start_time": "2023-08-02T06:21:29.050Z"
   },
   {
    "duration": 356,
    "start_time": "2023-08-02T06:21:29.542Z"
   },
   {
    "duration": 295,
    "start_time": "2023-08-02T06:21:29.900Z"
   },
   {
    "duration": 215,
    "start_time": "2023-08-02T06:21:30.231Z"
   },
   {
    "duration": 246,
    "start_time": "2023-08-02T06:21:30.566Z"
   },
   {
    "duration": 19,
    "start_time": "2023-08-02T06:21:31.904Z"
   },
   {
    "duration": 1606,
    "start_time": "2023-08-02T06:21:36.411Z"
   },
   {
    "duration": 4,
    "start_time": "2023-08-02T06:21:38.020Z"
   },
   {
    "duration": 113,
    "start_time": "2023-08-02T06:21:38.027Z"
   },
   {
    "duration": 13,
    "start_time": "2023-08-02T06:21:38.143Z"
   },
   {
    "duration": 24,
    "start_time": "2023-08-02T06:21:38.160Z"
   },
   {
    "duration": 13,
    "start_time": "2023-08-02T06:21:38.187Z"
   },
   {
    "duration": 6,
    "start_time": "2023-08-02T06:21:38.202Z"
   },
   {
    "duration": 356,
    "start_time": "2023-08-02T06:21:38.209Z"
   },
   {
    "duration": 455,
    "start_time": "2023-08-02T06:21:38.568Z"
   },
   {
    "duration": 418,
    "start_time": "2023-08-02T06:21:39.026Z"
   },
   {
    "duration": 270,
    "start_time": "2023-08-02T06:21:39.446Z"
   },
   {
    "duration": 362,
    "start_time": "2023-08-02T06:21:39.719Z"
   },
   {
    "duration": 20,
    "start_time": "2023-08-02T06:21:40.082Z"
   },
   {
    "duration": 4,
    "start_time": "2023-08-02T06:21:40.104Z"
   },
   {
    "duration": 12,
    "start_time": "2023-08-02T06:21:40.111Z"
   },
   {
    "duration": 50,
    "start_time": "2023-08-02T06:21:40.125Z"
   },
   {
    "duration": 760,
    "start_time": "2023-08-02T06:21:40.177Z"
   },
   {
    "duration": 6,
    "start_time": "2023-08-02T06:21:40.939Z"
   },
   {
    "duration": 51628,
    "start_time": "2023-08-02T06:21:40.947Z"
   },
   {
    "duration": 88,
    "start_time": "2023-08-02T06:22:32.577Z"
   },
   {
    "duration": 15599,
    "start_time": "2023-08-02T06:22:32.667Z"
   },
   {
    "duration": 1857,
    "start_time": "2023-08-02T06:22:48.270Z"
   },
   {
    "duration": 9,
    "start_time": "2023-08-02T06:22:50.130Z"
   },
   {
    "duration": 19765,
    "start_time": "2023-08-02T06:22:50.142Z"
   },
   {
    "duration": 5,
    "start_time": "2023-08-02T06:24:19.862Z"
   },
   {
    "duration": 5,
    "start_time": "2023-08-02T06:24:28.186Z"
   },
   {
    "duration": 5,
    "start_time": "2023-08-02T06:24:41.235Z"
   },
   {
    "duration": 6,
    "start_time": "2023-08-02T06:24:47.218Z"
   },
   {
    "duration": 8,
    "start_time": "2023-08-02T06:25:08.048Z"
   },
   {
    "duration": 5,
    "start_time": "2023-08-02T06:25:09.419Z"
   },
   {
    "duration": 5,
    "start_time": "2023-08-02T06:25:11.238Z"
   },
   {
    "duration": 5,
    "start_time": "2023-08-02T06:25:11.647Z"
   },
   {
    "duration": 4,
    "start_time": "2023-08-02T06:25:12.189Z"
   },
   {
    "duration": 8,
    "start_time": "2023-08-02T06:25:25.854Z"
   },
   {
    "duration": 6,
    "start_time": "2023-08-02T06:25:26.826Z"
   },
   {
    "duration": 5,
    "start_time": "2023-08-02T06:25:27.256Z"
   },
   {
    "duration": 5,
    "start_time": "2023-08-02T06:25:27.738Z"
   },
   {
    "duration": 5,
    "start_time": "2023-08-02T06:25:29.704Z"
   },
   {
    "duration": 18,
    "start_time": "2023-08-02T06:25:47.973Z"
   },
   {
    "duration": 6,
    "start_time": "2023-08-02T06:33:24.200Z"
   },
   {
    "duration": 20,
    "start_time": "2023-08-02T06:33:38.935Z"
   },
   {
    "duration": 4,
    "start_time": "2023-08-02T06:33:51.470Z"
   },
   {
    "duration": 7,
    "start_time": "2023-08-02T06:33:52.125Z"
   },
   {
    "duration": 5,
    "start_time": "2023-08-02T06:34:08.576Z"
   },
   {
    "duration": 1595,
    "start_time": "2023-08-02T06:34:17.754Z"
   },
   {
    "duration": 6,
    "start_time": "2023-08-02T06:34:19.351Z"
   },
   {
    "duration": 73,
    "start_time": "2023-08-02T06:34:19.359Z"
   },
   {
    "duration": 9,
    "start_time": "2023-08-02T06:34:19.434Z"
   },
   {
    "duration": 11,
    "start_time": "2023-08-02T06:34:19.446Z"
   },
   {
    "duration": 12,
    "start_time": "2023-08-02T06:34:19.458Z"
   },
   {
    "duration": 4,
    "start_time": "2023-08-02T06:34:19.471Z"
   },
   {
    "duration": 273,
    "start_time": "2023-08-02T06:34:19.477Z"
   },
   {
    "duration": 366,
    "start_time": "2023-08-02T06:34:19.755Z"
   },
   {
    "duration": 257,
    "start_time": "2023-08-02T06:34:20.123Z"
   },
   {
    "duration": 228,
    "start_time": "2023-08-02T06:34:20.382Z"
   },
   {
    "duration": 263,
    "start_time": "2023-08-02T06:34:20.612Z"
   },
   {
    "duration": 18,
    "start_time": "2023-08-02T06:34:20.877Z"
   },
   {
    "duration": 17,
    "start_time": "2023-08-02T06:34:20.898Z"
   },
   {
    "duration": 8,
    "start_time": "2023-08-02T06:34:20.917Z"
   },
   {
    "duration": 41,
    "start_time": "2023-08-02T06:34:20.926Z"
   },
   {
    "duration": 934,
    "start_time": "2023-08-02T06:34:20.969Z"
   },
   {
    "duration": 4,
    "start_time": "2023-08-02T06:34:21.905Z"
   },
   {
    "duration": 46150,
    "start_time": "2023-08-02T06:34:21.911Z"
   },
   {
    "duration": 13,
    "start_time": "2023-08-02T06:35:08.063Z"
   },
   {
    "duration": 13116,
    "start_time": "2023-08-02T06:35:08.078Z"
   },
   {
    "duration": 1568,
    "start_time": "2023-08-02T06:35:21.196Z"
   },
   {
    "duration": 8,
    "start_time": "2023-08-02T06:35:22.766Z"
   },
   {
    "duration": 15880,
    "start_time": "2023-08-02T06:35:22.776Z"
   },
   {
    "duration": 13,
    "start_time": "2023-08-02T06:38:50.304Z"
   },
   {
    "duration": 723,
    "start_time": "2023-08-02T06:38:51.960Z"
   },
   {
    "duration": 3,
    "start_time": "2023-08-02T06:39:55.853Z"
   },
   {
    "duration": 1759,
    "start_time": "2023-08-02T14:28:24.373Z"
   },
   {
    "duration": 218,
    "start_time": "2023-08-02T14:28:36.528Z"
   },
   {
    "duration": 5,
    "start_time": "2023-08-02T14:28:40.694Z"
   },
   {
    "duration": 3,
    "start_time": "2023-08-02T14:28:40.735Z"
   },
   {
    "duration": 142,
    "start_time": "2023-08-02T14:28:40.815Z"
   },
   {
    "duration": 10,
    "start_time": "2023-08-02T14:28:40.960Z"
   },
   {
    "duration": 11,
    "start_time": "2023-08-02T14:28:40.971Z"
   },
   {
    "duration": 18,
    "start_time": "2023-08-02T14:28:40.983Z"
   },
   {
    "duration": 11,
    "start_time": "2023-08-02T14:28:41.002Z"
   },
   {
    "duration": 285,
    "start_time": "2023-08-02T14:28:41.180Z"
   },
   {
    "duration": 357,
    "start_time": "2023-08-02T14:28:41.468Z"
   },
   {
    "duration": 253,
    "start_time": "2023-08-02T14:28:41.826Z"
   },
   {
    "duration": 219,
    "start_time": "2023-08-02T14:28:42.081Z"
   },
   {
    "duration": 236,
    "start_time": "2023-08-02T14:28:42.302Z"
   },
   {
    "duration": 27,
    "start_time": "2023-08-02T14:28:42.540Z"
   },
   {
    "duration": 4,
    "start_time": "2023-08-02T14:28:42.569Z"
   },
   {
    "duration": 11,
    "start_time": "2023-08-02T14:28:42.574Z"
   },
   {
    "duration": 171,
    "start_time": "2023-08-02T14:28:42.587Z"
   },
   {
    "duration": 3,
    "start_time": "2023-08-02T14:28:42.761Z"
   },
   {
    "duration": 31000,
    "start_time": "2023-08-02T14:28:42.766Z"
   },
   {
    "duration": 298,
    "start_time": "2023-08-02T14:29:13.769Z"
   },
   {
    "duration": 12414,
    "start_time": "2023-08-02T14:29:14.070Z"
   },
   {
    "duration": 4,
    "start_time": "2023-08-02T14:29:38.718Z"
   },
   {
    "duration": 5,
    "start_time": "2023-08-02T14:29:49.209Z"
   },
   {
    "duration": 4,
    "start_time": "2023-08-02T14:29:49.248Z"
   },
   {
    "duration": 74,
    "start_time": "2023-08-02T14:29:49.330Z"
   },
   {
    "duration": 7,
    "start_time": "2023-08-02T14:29:49.406Z"
   },
   {
    "duration": 9,
    "start_time": "2023-08-02T14:29:49.415Z"
   },
   {
    "duration": 8,
    "start_time": "2023-08-02T14:29:49.454Z"
   },
   {
    "duration": 4,
    "start_time": "2023-08-02T14:29:49.495Z"
   },
   {
    "duration": 250,
    "start_time": "2023-08-02T14:29:49.697Z"
   },
   {
    "duration": 245,
    "start_time": "2023-08-02T14:29:49.949Z"
   },
   {
    "duration": 364,
    "start_time": "2023-08-02T14:29:50.196Z"
   },
   {
    "duration": 198,
    "start_time": "2023-08-02T14:29:50.562Z"
   },
   {
    "duration": 238,
    "start_time": "2023-08-02T14:29:50.762Z"
   },
   {
    "duration": 18,
    "start_time": "2023-08-02T14:29:51.001Z"
   },
   {
    "duration": 29,
    "start_time": "2023-08-02T14:29:51.021Z"
   },
   {
    "duration": 19,
    "start_time": "2023-08-02T14:29:51.053Z"
   },
   {
    "duration": 17,
    "start_time": "2023-08-02T14:29:51.864Z"
   },
   {
    "duration": 2,
    "start_time": "2023-08-02T14:29:52.211Z"
   },
   {
    "duration": 57833,
    "start_time": "2023-08-02T14:29:53.733Z"
   },
   {
    "duration": 4,
    "start_time": "2023-08-02T14:30:51.568Z"
   },
   {
    "duration": 68,
    "start_time": "2023-08-02T14:30:51.573Z"
   },
   {
    "duration": 77,
    "start_time": "2023-08-02T14:32:26.972Z"
   },
   {
    "duration": 196,
    "start_time": "2023-08-02T14:32:30.764Z"
   },
   {
    "duration": 137,
    "start_time": "2023-08-02T14:32:38.722Z"
   },
   {
    "duration": 202,
    "start_time": "2023-08-02T14:32:39.460Z"
   },
   {
    "duration": 166,
    "start_time": "2023-08-02T14:32:40.098Z"
   },
   {
    "duration": 209,
    "start_time": "2023-08-02T14:32:40.658Z"
   },
   {
    "duration": 207,
    "start_time": "2023-08-02T14:32:45.757Z"
   },
   {
    "duration": 13504,
    "start_time": "2023-08-02T14:33:05.018Z"
   },
   {
    "duration": 1566,
    "start_time": "2023-08-02T14:33:25.511Z"
   },
   {
    "duration": 10,
    "start_time": "2023-08-02T14:33:34.424Z"
   },
   {
    "duration": 17045,
    "start_time": "2023-08-02T14:33:50.226Z"
   },
   {
    "duration": 8,
    "start_time": "2023-08-02T14:40:56.528Z"
   },
   {
    "duration": 13,
    "start_time": "2023-08-02T14:40:59.935Z"
   },
   {
    "duration": 13,
    "start_time": "2023-08-02T14:41:07.877Z"
   },
   {
    "duration": 152,
    "start_time": "2023-08-02T14:41:27.385Z"
   },
   {
    "duration": 6,
    "start_time": "2023-08-02T14:41:43.328Z"
   },
   {
    "duration": 114,
    "start_time": "2023-08-02T14:41:46.491Z"
   },
   {
    "duration": 142,
    "start_time": "2023-08-02T14:42:22.583Z"
   },
   {
    "duration": 220,
    "start_time": "2023-08-02T14:43:08.443Z"
   },
   {
    "duration": 162,
    "start_time": "2023-08-02T14:43:22.551Z"
   },
   {
    "duration": 143,
    "start_time": "2023-08-02T14:43:25.417Z"
   },
   {
    "duration": 161,
    "start_time": "2023-08-02T14:43:35.579Z"
   },
   {
    "duration": 329,
    "start_time": "2023-08-02T14:43:53.482Z"
   },
   {
    "duration": 7,
    "start_time": "2023-08-02T14:44:14.889Z"
   },
   {
    "duration": 214,
    "start_time": "2023-08-02T14:44:20.512Z"
   },
   {
    "duration": 229,
    "start_time": "2023-08-02T14:44:49.482Z"
   },
   {
    "duration": 239,
    "start_time": "2023-08-02T14:44:52.819Z"
   },
   {
    "duration": 249,
    "start_time": "2023-08-02T14:45:20.010Z"
   },
   {
    "duration": 224,
    "start_time": "2023-08-02T14:45:23.322Z"
   },
   {
    "duration": 237,
    "start_time": "2023-08-02T14:45:27.728Z"
   },
   {
    "duration": 232,
    "start_time": "2023-08-02T14:45:31.810Z"
   },
   {
    "duration": 212,
    "start_time": "2023-08-02T14:46:08.311Z"
   },
   {
    "duration": 237,
    "start_time": "2023-08-02T14:46:12.145Z"
   },
   {
    "duration": 271,
    "start_time": "2023-08-02T14:46:21.625Z"
   },
   {
    "duration": 372,
    "start_time": "2023-08-02T14:46:36.860Z"
   },
   {
    "duration": 1494,
    "start_time": "2023-08-02T15:42:56.753Z"
   },
   {
    "duration": 3,
    "start_time": "2023-08-02T15:42:58.249Z"
   },
   {
    "duration": 104,
    "start_time": "2023-08-02T15:42:58.258Z"
   },
   {
    "duration": 9,
    "start_time": "2023-08-02T15:42:58.364Z"
   },
   {
    "duration": 11,
    "start_time": "2023-08-02T15:42:58.374Z"
   },
   {
    "duration": 12,
    "start_time": "2023-08-02T15:42:58.386Z"
   },
   {
    "duration": 4,
    "start_time": "2023-08-02T15:42:58.400Z"
   },
   {
    "duration": 273,
    "start_time": "2023-08-02T15:42:58.406Z"
   },
   {
    "duration": 373,
    "start_time": "2023-08-02T15:42:58.680Z"
   },
   {
    "duration": 281,
    "start_time": "2023-08-02T15:42:59.055Z"
   },
   {
    "duration": 202,
    "start_time": "2023-08-02T15:42:59.338Z"
   },
   {
    "duration": 249,
    "start_time": "2023-08-02T15:42:59.541Z"
   },
   {
    "duration": 26,
    "start_time": "2023-08-02T15:42:59.793Z"
   },
   {
    "duration": 3,
    "start_time": "2023-08-02T15:42:59.821Z"
   },
   {
    "duration": 9,
    "start_time": "2023-08-02T15:42:59.825Z"
   },
   {
    "duration": 44,
    "start_time": "2023-08-02T15:42:59.835Z"
   },
   {
    "duration": 2,
    "start_time": "2023-08-02T15:42:59.882Z"
   },
   {
    "duration": 79,
    "start_time": "2023-08-02T15:42:59.885Z"
   },
   {
    "duration": 395,
    "start_time": "2023-08-02T15:42:59.966Z"
   },
   {
    "duration": 13540,
    "start_time": "2023-08-02T15:43:00.363Z"
   },
   {
    "duration": 1577,
    "start_time": "2023-08-02T15:43:13.904Z"
   },
   {
    "duration": 8,
    "start_time": "2023-08-02T15:43:15.483Z"
   },
   {
    "duration": 16457,
    "start_time": "2023-08-02T15:43:15.492Z"
   },
   {
    "duration": 267,
    "start_time": "2023-08-02T15:43:31.951Z"
   }
  ],
  "kernelspec": {
   "display_name": "Python 3 (ipykernel)",
   "language": "python",
   "name": "python3"
  },
  "language_info": {
   "codemirror_mode": {
    "name": "ipython",
    "version": 3
   },
   "file_extension": ".py",
   "mimetype": "text/x-python",
   "name": "python",
   "nbconvert_exporter": "python",
   "pygments_lexer": "ipython3",
   "version": "3.9.13"
  },
  "toc": {
   "base_numbering": 1,
   "nav_menu": {},
   "number_sections": true,
   "sideBar": true,
   "skip_h1_title": true,
   "title_cell": "Содержание",
   "title_sidebar": "Contents",
   "toc_cell": true,
   "toc_position": {
    "height": "calc(100% - 180px)",
    "left": "10px",
    "top": "150px",
    "width": "165px"
   },
   "toc_section_display": true,
   "toc_window_display": true
  }
 },
 "nbformat": 4,
 "nbformat_minor": 2
}
