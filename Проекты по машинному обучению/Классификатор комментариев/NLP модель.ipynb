{
 "cells": [
  {
   "cell_type": "markdown",
   "metadata": {
    "toc": true
   },
   "source": [
    "<h1>Содержание<span class=\"tocSkip\"></span></h1>\n",
    "<div class=\"toc\"><ul class=\"toc-item\"><li><span><a href=\"#Описание-проекта\" data-toc-modified-id=\"Описание-проекта-1\"><span class=\"toc-item-num\">1&nbsp;&nbsp;</span>Описание проекта</a></span></li><li><span><a href=\"#Описание-данных\" data-toc-modified-id=\"Описание-данных-2\"><span class=\"toc-item-num\">2&nbsp;&nbsp;</span>Описание данных</a></span></li><li><span><a href=\"#Подготовка-данных\" data-toc-modified-id=\"Подготовка-данных-3\"><span class=\"toc-item-num\">3&nbsp;&nbsp;</span>Подготовка данных</a></span></li><li><span><a href=\"#Анализ-исходных-данных\" data-toc-modified-id=\"Анализ-исходных-данных-4\"><span class=\"toc-item-num\">4&nbsp;&nbsp;</span>Анализ исходных данных</a></span></li><li><span><a href=\"#Предобработка-данных\" data-toc-modified-id=\"Предобработка-данных-5\"><span class=\"toc-item-num\">5&nbsp;&nbsp;</span>Предобработка данных</a></span><ul class=\"toc-item\"><li><span><a href=\"#Лемматизация-и-очистка-данных\" data-toc-modified-id=\"Лемматизация-и-очистка-данных-5.1\"><span class=\"toc-item-num\">5.1&nbsp;&nbsp;</span>Лемматизация и очистка данных</a></span></li><li><span><a href=\"#Разбиение-выборок-на-обучающую,-тестовую-и-валидационную\" data-toc-modified-id=\"Разбиение-выборок-на-обучающую,-тестовую-и-валидационную-5.2\"><span class=\"toc-item-num\">5.2&nbsp;&nbsp;</span>Разбиение выборок на обучающую, тестовую и валидационную</a></span></li><li><span><a href=\"#Стоп-слова-и-векторизация-текста\" data-toc-modified-id=\"Стоп-слова-и-векторизация-текста-5.3\"><span class=\"toc-item-num\">5.3&nbsp;&nbsp;</span>Стоп-слова и векторизация текста</a></span></li></ul></li><li><span><a href=\"#Обучение-моделей\" data-toc-modified-id=\"Обучение-моделей-6\"><span class=\"toc-item-num\">6&nbsp;&nbsp;</span>Обучение моделей</a></span><ul class=\"toc-item\"><li><span><a href=\"#Логистическая-регрессия\" data-toc-modified-id=\"Логистическая-регрессия-6.1\"><span class=\"toc-item-num\">6.1&nbsp;&nbsp;</span>Логистическая регрессия</a></span></li><li><span><a href=\"#Модель-случайного-леса\" data-toc-modified-id=\"Модель-случайного-леса-6.2\"><span class=\"toc-item-num\">6.2&nbsp;&nbsp;</span>Модель случайного леса</a></span></li><li><span><a href=\"#Модель-CatBoost\" data-toc-modified-id=\"Модель-CatBoost-6.3\"><span class=\"toc-item-num\">6.3&nbsp;&nbsp;</span>Модель CatBoost</a></span></li><li><span><a href=\"#Тестирование\" data-toc-modified-id=\"Тестирование-6.4\"><span class=\"toc-item-num\">6.4&nbsp;&nbsp;</span>Тестирование</a></span></li></ul></li><li><span><a href=\"#Общий-вывод\" data-toc-modified-id=\"Общий-вывод-7\"><span class=\"toc-item-num\">7&nbsp;&nbsp;</span>Общий вывод</a></span></li></ul></div>"
   ]
  },
  {
   "cell_type": "markdown",
   "metadata": {},
   "source": [
    "# Проект для «Викишоп»"
   ]
  },
  {
   "cell_type": "markdown",
   "metadata": {},
   "source": [
    "## Описание проекта\n",
    "\n",
    "Для выполнения данного проекта, мы должны разработать модель классификации комментариев на позитивные и негативные. Это позволит интернет-магазину «Викишоп» автоматически искать токсичные комментарии, отправлять их на модерацию и обеспечивать безопасность вики-сообщества.\n",
    "\n",
    "Ход выполнения проекта:\n",
    "1. Загрузка и подготовка данных:\n",
    "   - Необходимо загрузить набор данных, который содержит описания товаров с разметкой о токсичности правок.\n",
    "   - Далее провести предобработку данных, включающую удаление лишних символов, токенизацию текста и приведение его к нижнему регистру.\n",
    "   - Разделить данные на обучающую, тестовую и валидационную выборки.\n",
    "\n",
    "2. Обучение разных моделей:\n",
    "   - Построить различные алгоритмы машинного обучения, такие как логистическая регрессия, случайный лес, градиентный бустинг и др.\n",
    "   - Важно использовать оптимальные гиперпараметры для каждой модели.\n",
    "   - Метрика качества F1 должна быть не менее 0.75.\n",
    "\n",
    "3. Выводы:\n",
    "   - После обучения разных моделей, необходимо оценить их производительность на тестовой выборке.\n",
    "   - Выбрать модель с наилучшей метрикой качества F1 и применить ее для классификации комментариев в реальном времени.\n",
    "   - Модель должна обнаруживать токсичные комментарии и отправлять их на модерацию, чтобы обеспечить безопасность и качество описаний товаров в интернет-магазине «Викишоп».\n"
   ]
  },
  {
   "cell_type": "markdown",
   "metadata": {},
   "source": [
    "## Описание данных\n",
    "\n",
    "Столбец `text` в нём содержит текст комментария, а `toxic` — целевой признак."
   ]
  },
  {
   "cell_type": "markdown",
   "metadata": {},
   "source": [
    "## Подготовка данных"
   ]
  },
  {
   "cell_type": "code",
   "execution_count": 3,
   "metadata": {},
   "outputs": [],
   "source": [
    "import pandas as pd\n",
    "import numpy as np\n",
    "import matplotlib.pyplot as plt\n",
    "import re\n",
    "import nltk\n",
    "\n",
    "from pymystem3 import Mystem\n",
    "from sklearn.model_selection import train_test_split, GridSearchCV, RandomizedSearchCV\n",
    "from nltk.corpus import stopwords as nltk_stopwords\n",
    "from sklearn.feature_extraction.text import TfidfVectorizer\n",
    "from sklearn.linear_model import LogisticRegression\n",
    "from sklearn.metrics import f1_score, roc_auc_score, roc_curve, auc, make_scorer\n",
    "from sklearn.ensemble import RandomForestClassifier\n",
    "from catboost import CatBoostClassifier\n",
    "from nltk.corpus import wordnet\n",
    "from nltk.stem import WordNetLemmatizer\n",
    "\n",
    "RANDOM_SEED = np.random.RandomState(5081997)\n",
    "CV = 3"
   ]
  },
  {
   "cell_type": "markdown",
   "metadata": {},
   "source": [
    "## Анализ исходных данных"
   ]
  },
  {
   "cell_type": "code",
   "execution_count": 4,
   "metadata": {},
   "outputs": [],
   "source": [
    "try:\n",
    "    data = pd.read_csv('https://code.s3.yandex.net/datasets/toxic_comments.csv')\n",
    "except:\n",
    "    data = pd.read_csv('toxic_comments.csv')\n",
    "    \n",
    "data = data.drop(columns=['Unnamed: 0'])"
   ]
  },
  {
   "cell_type": "code",
   "execution_count": 5,
   "metadata": {},
   "outputs": [
    {
     "name": "stdout",
     "output_type": "stream",
     "text": [
      "<class 'pandas.core.frame.DataFrame'>\n",
      "RangeIndex: 159292 entries, 0 to 159291\n",
      "Data columns (total 2 columns):\n",
      " #   Column  Non-Null Count   Dtype \n",
      "---  ------  --------------   ----- \n",
      " 0   text    159292 non-null  object\n",
      " 1   toxic   159292 non-null  int64 \n",
      "dtypes: int64(1), object(1)\n",
      "memory usage: 2.4+ MB\n"
     ]
    }
   ],
   "source": [
    "data.info()"
   ]
  },
  {
   "cell_type": "code",
   "execution_count": 6,
   "metadata": {},
   "outputs": [
    {
     "data": {
      "text/html": [
       "<div>\n",
       "<style scoped>\n",
       "    .dataframe tbody tr th:only-of-type {\n",
       "        vertical-align: middle;\n",
       "    }\n",
       "\n",
       "    .dataframe tbody tr th {\n",
       "        vertical-align: top;\n",
       "    }\n",
       "\n",
       "    .dataframe thead th {\n",
       "        text-align: right;\n",
       "    }\n",
       "</style>\n",
       "<table border=\"1\" class=\"dataframe\">\n",
       "  <thead>\n",
       "    <tr style=\"text-align: right;\">\n",
       "      <th></th>\n",
       "      <th>text</th>\n",
       "      <th>toxic</th>\n",
       "    </tr>\n",
       "  </thead>\n",
       "  <tbody>\n",
       "    <tr>\n",
       "      <th>0</th>\n",
       "      <td>Explanation\\nWhy the edits made under my usern...</td>\n",
       "      <td>0</td>\n",
       "    </tr>\n",
       "    <tr>\n",
       "      <th>1</th>\n",
       "      <td>D'aww! He matches this background colour I'm s...</td>\n",
       "      <td>0</td>\n",
       "    </tr>\n",
       "    <tr>\n",
       "      <th>2</th>\n",
       "      <td>Hey man, I'm really not trying to edit war. It...</td>\n",
       "      <td>0</td>\n",
       "    </tr>\n",
       "    <tr>\n",
       "      <th>3</th>\n",
       "      <td>\"\\nMore\\nI can't make any real suggestions on ...</td>\n",
       "      <td>0</td>\n",
       "    </tr>\n",
       "    <tr>\n",
       "      <th>4</th>\n",
       "      <td>You, sir, are my hero. Any chance you remember...</td>\n",
       "      <td>0</td>\n",
       "    </tr>\n",
       "  </tbody>\n",
       "</table>\n",
       "</div>"
      ],
      "text/plain": [
       "                                                text  toxic\n",
       "0  Explanation\\nWhy the edits made under my usern...      0\n",
       "1  D'aww! He matches this background colour I'm s...      0\n",
       "2  Hey man, I'm really not trying to edit war. It...      0\n",
       "3  \"\\nMore\\nI can't make any real suggestions on ...      0\n",
       "4  You, sir, are my hero. Any chance you remember...      0"
      ]
     },
     "execution_count": 6,
     "metadata": {},
     "output_type": "execute_result"
    }
   ],
   "source": [
    "data.head(5)"
   ]
  },
  {
   "cell_type": "code",
   "execution_count": 7,
   "metadata": {},
   "outputs": [
    {
     "data": {
      "text/plain": [
       "0    0.898388\n",
       "1    0.101612\n",
       "Name: toxic, dtype: float64"
      ]
     },
     "execution_count": 7,
     "metadata": {},
     "output_type": "execute_result"
    }
   ],
   "source": [
    "data['toxic'].value_counts(normalize=True)"
   ]
  },
  {
   "cell_type": "markdown",
   "metadata": {},
   "source": [
    "В данных наблюдается дисбаланс классов. Положительные комментраии составляют 90%, а негативные всего 10%. Будем это учитывать при построении моделей"
   ]
  },
  {
   "cell_type": "markdown",
   "metadata": {},
   "source": [
    "## Предобработка данных\n",
    "### Лемматизация и очистка данных"
   ]
  },
  {
   "cell_type": "code",
   "execution_count": 8,
   "metadata": {},
   "outputs": [],
   "source": [
    "# функция для очистки текста\n",
    "def clear_text(text):\n",
    "    text = text.lower()\n",
    "    clear_text = re.sub(r'[^a-zA-Z]', ' ', text)\n",
    "    \n",
    "    return \"\".join(clear_text)\n",
    "\n",
    "# очистим текст\n",
    "data['text'] = data['text'].apply(clear_text)"
   ]
  },
  {
   "cell_type": "code",
   "execution_count": 9,
   "metadata": {},
   "outputs": [
    {
     "name": "stdout",
     "output_type": "stream",
     "text": [
      "CPU times: user 8min 4s, sys: 5.77 s, total: 8min 10s\n",
      "Wall time: 8min 10s\n"
     ]
    }
   ],
   "source": [
    "%%time\n",
    "lemmatizer = WordNetLemmatizer()\n",
    "\n",
    "# загрузка POS-тегов из nltk.corpus\n",
    "tag_map = {\n",
    "    'N': wordnet.NOUN,\n",
    "    'V': wordnet.VERB,\n",
    "    'R': wordnet.ADV,\n",
    "    'J': wordnet.ADJ\n",
    "}\n",
    "\n",
    "# функция для лемматизации по POS-тегу\n",
    "def lemmatize_word(word, tag):\n",
    "    # проверка наличия POS-тега в tag_map\n",
    "    if tag in tag_map.keys():\n",
    "        return lemmatizer.lemmatize(word, tag_map[tag])\n",
    "    else:\n",
    "        return lemmatizer.lemmatize(word)\n",
    "\n",
    "# токенизация текстовых значений в столбце 'text'\n",
    "data['tokenized'] = data['text'].apply(nltk.word_tokenize)\n",
    "\n",
    "# получение POS-тегов для каждого токена в столбце 'tokenized' с помощью nltk.pos_tag()\n",
    "data['pos_tags'] = data['tokenized'].apply(nltk.pos_tag)\n",
    "\n",
    "# применяем WordNetLemmatizer к каждому токену с соответствующим POS-тегом\n",
    "data['text'] = data['pos_tags'].apply(lambda tokens: \" \".join([lemmatize_word(token, tag) for token, tag in tokens]))\n",
    "data = data.drop(columns=['tokenized', 'pos_tags'])"
   ]
  },
  {
   "cell_type": "markdown",
   "metadata": {},
   "source": [
    "### Разбиение выборок на обучающую, тестовую и валидационную"
   ]
  },
  {
   "cell_type": "code",
   "execution_count": 10,
   "metadata": {},
   "outputs": [],
   "source": [
    "# выделим признаки и таргет\n",
    "X = data.drop(columns=['toxic'])\n",
    "y = data['toxic']\n",
    "\n",
    "# разобьем выборки с соотношении 70/15/15\n",
    "X_train, X_val_test, y_train, y_val_test = train_test_split(X, y, test_size=0.3, random_state=RANDOM_SEED)\n",
    "X_val, X_test, y_val, y_test = train_test_split(X_val_test, y_val_test, test_size=0.5, random_state=RANDOM_SEED)"
   ]
  },
  {
   "cell_type": "code",
   "execution_count": 11,
   "metadata": {},
   "outputs": [
    {
     "data": {
      "text/html": [
       "<div>\n",
       "<style scoped>\n",
       "    .dataframe tbody tr th:only-of-type {\n",
       "        vertical-align: middle;\n",
       "    }\n",
       "\n",
       "    .dataframe tbody tr th {\n",
       "        vertical-align: top;\n",
       "    }\n",
       "\n",
       "    .dataframe thead th {\n",
       "        text-align: right;\n",
       "    }\n",
       "</style>\n",
       "<table border=\"1\" class=\"dataframe\">\n",
       "  <thead>\n",
       "    <tr style=\"text-align: right;\">\n",
       "      <th></th>\n",
       "      <th>text</th>\n",
       "      <th>toxic</th>\n",
       "    </tr>\n",
       "  </thead>\n",
       "  <tbody>\n",
       "    <tr>\n",
       "      <th>0</th>\n",
       "      <td>explanation why the edits made under my userna...</td>\n",
       "      <td>0</td>\n",
       "    </tr>\n",
       "    <tr>\n",
       "      <th>1</th>\n",
       "      <td>d aww he match this background colour i m seem...</td>\n",
       "      <td>0</td>\n",
       "    </tr>\n",
       "    <tr>\n",
       "      <th>2</th>\n",
       "      <td>hey man i m really not trying to edit war it s...</td>\n",
       "      <td>0</td>\n",
       "    </tr>\n",
       "    <tr>\n",
       "      <th>3</th>\n",
       "      <td>more i can t make any real suggestion on impro...</td>\n",
       "      <td>0</td>\n",
       "    </tr>\n",
       "    <tr>\n",
       "      <th>4</th>\n",
       "      <td>you sir are my hero any chance you remember wh...</td>\n",
       "      <td>0</td>\n",
       "    </tr>\n",
       "    <tr>\n",
       "      <th>...</th>\n",
       "      <td>...</td>\n",
       "      <td>...</td>\n",
       "    </tr>\n",
       "    <tr>\n",
       "      <th>159287</th>\n",
       "      <td>and for the second time of asking when your vi...</td>\n",
       "      <td>0</td>\n",
       "    </tr>\n",
       "    <tr>\n",
       "      <th>159288</th>\n",
       "      <td>you should be ashamed of yourself that is a ho...</td>\n",
       "      <td>0</td>\n",
       "    </tr>\n",
       "    <tr>\n",
       "      <th>159289</th>\n",
       "      <td>spitzer umm there no actual article for prosti...</td>\n",
       "      <td>0</td>\n",
       "    </tr>\n",
       "    <tr>\n",
       "      <th>159290</th>\n",
       "      <td>and it look like it wa actually you who put on...</td>\n",
       "      <td>0</td>\n",
       "    </tr>\n",
       "    <tr>\n",
       "      <th>159291</th>\n",
       "      <td>and i really don t think you understand i came...</td>\n",
       "      <td>0</td>\n",
       "    </tr>\n",
       "  </tbody>\n",
       "</table>\n",
       "<p>159292 rows × 2 columns</p>\n",
       "</div>"
      ],
      "text/plain": [
       "                                                     text  toxic\n",
       "0       explanation why the edits made under my userna...      0\n",
       "1       d aww he match this background colour i m seem...      0\n",
       "2       hey man i m really not trying to edit war it s...      0\n",
       "3       more i can t make any real suggestion on impro...      0\n",
       "4       you sir are my hero any chance you remember wh...      0\n",
       "...                                                   ...    ...\n",
       "159287  and for the second time of asking when your vi...      0\n",
       "159288  you should be ashamed of yourself that is a ho...      0\n",
       "159289  spitzer umm there no actual article for prosti...      0\n",
       "159290  and it look like it wa actually you who put on...      0\n",
       "159291  and i really don t think you understand i came...      0\n",
       "\n",
       "[159292 rows x 2 columns]"
      ]
     },
     "execution_count": 11,
     "metadata": {},
     "output_type": "execute_result"
    }
   ],
   "source": [
    "data"
   ]
  },
  {
   "cell_type": "markdown",
   "metadata": {},
   "source": [
    "### Стоп-слова и векторизация текста"
   ]
  },
  {
   "cell_type": "code",
   "execution_count": 12,
   "metadata": {},
   "outputs": [
    {
     "name": "stderr",
     "output_type": "stream",
     "text": [
      "[nltk_data] Downloading package stopwords to /home/jovyan/nltk_data...\n",
      "[nltk_data]   Package stopwords is already up-to-date!\n"
     ]
    },
    {
     "name": "stdout",
     "output_type": "stream",
     "text": [
      "Размерность обучающей выборки: (111504, 128684)\n",
      "Размерность валидационной выборки: (23894, 128684)\n",
      "Размерность тестовой выборки: (23894, 128684)\n"
     ]
    }
   ],
   "source": [
    "# выделим стоп-слова\n",
    "nltk.download('stopwords')\n",
    "stopwords = set(nltk_stopwords.words('english'))\n",
    "\n",
    "count_tf_idf = TfidfVectorizer(stop_words=stopwords)\n",
    "\n",
    "X_train = count_tf_idf.fit_transform(X_train['text'].values)\n",
    "X_val = count_tf_idf.transform(X_val['text'].values)\n",
    "X_test = count_tf_idf.transform(X_test['text'].values)\n",
    "\n",
    "print('Размерность обучающей выборки:', X_train.shape)\n",
    "print('Размерность валидационной выборки:', X_val.shape)\n",
    "print('Размерность тестовой выборки:', X_test.shape)"
   ]
  },
  {
   "cell_type": "markdown",
   "metadata": {},
   "source": [
    "В данном разделе были подготовлены данные для дальнейшего использования в моделях машинного обучения. Была проведена очистка и лемматизация текста. Разбиты выборки на обучающую, тестовую и валидационную, а также были удалены стоп-слова и проведена векторизация."
   ]
  },
  {
   "cell_type": "markdown",
   "metadata": {},
   "source": [
    "## Обучение моделей\n",
    "\n",
    "В данном разделе построим такие модели машинного обучения, как логистическая регрессия, случайный лес и модель CatBoost. "
   ]
  },
  {
   "cell_type": "markdown",
   "metadata": {},
   "source": [
    "### Логистическая регрессия"
   ]
  },
  {
   "cell_type": "code",
   "execution_count": 13,
   "metadata": {},
   "outputs": [],
   "source": [
    "# функция для построения графика кривой ROC-AUC\n",
    "def make_roc_auc_curve(y_val, pred_proba):\n",
    "    # рассчитываем roc-кривую\n",
    "    fpr, tpr, treshold = roc_curve(y_val, pred_proba)\n",
    "    roc_auc= roc_auc_score(y_val, pred_proba)\n",
    "    # строим график\n",
    "    plt.figure(figsize=(10,6))\n",
    "    plt.plot(fpr, tpr, color='darkorange',\n",
    "             label= f'ROC кривая (area = {roc_auc: 0.5f})')\n",
    "    plt.plot([0, 1], [0, 1], color='navy', linestyle='--')\n",
    "    plt.xlim([0.0, 1.0])\n",
    "    plt.ylim([0.0, 1.05])\n",
    "    plt.xlabel('False Positive Rate')\n",
    "    plt.ylabel('True Positive Rate')\n",
    "    plt.title('Пример ROC-кривой')\n",
    "    plt.legend(loc=\"lower right\")\n",
    "    plt.show()"
   ]
  },
  {
   "cell_type": "code",
   "execution_count": 14,
   "metadata": {},
   "outputs": [],
   "source": [
    "# model_lr = LogisticRegression()\n",
    "# params = [{'solver':['newton-cg', 'lbfgs', 'liblinear'],\n",
    "#                 'C':[0.1, 1, 10],\n",
    "#                 'class_weight':['balanced']}]\n",
    "\n",
    "# grid_search_lr = GridSearchCV(model_lr, params, scoring='f1',cv=CV)\n",
    "# grid_search_lr.fit(X_train, y_train)\n",
    "\n",
    "# best_params_lr = grid_search_lr.best_params_\n",
    "# print('Лучшие гиперпараметры:', best_params_lr)\n",
    "\n",
    "# output\n",
    "# Лучшие гиперпараметры: {'C': 10, 'class_weight': 'balanced', 'solver': 'newton-cg'}"
   ]
  },
  {
   "cell_type": "code",
   "execution_count": 15,
   "metadata": {},
   "outputs": [
    {
     "name": "stdout",
     "output_type": "stream",
     "text": [
      "CPU times: user 12.1 s, sys: 25.1 s, total: 37.3 s\n",
      "Wall time: 37.3 s\n"
     ]
    },
    {
     "data": {
      "text/plain": [
       "LogisticRegression(C=10, class_weight='balanced', solver='newton-cg')"
      ]
     },
     "execution_count": 15,
     "metadata": {},
     "output_type": "execute_result"
    }
   ],
   "source": [
    "%%time\n",
    "params = {'C': 10, 'class_weight': 'balanced', 'solver': 'newton-cg'}\n",
    "model_lr = LogisticRegression(C=params['C'], class_weight=params['class_weight'], solver=params['solver'])\n",
    "model_lr.fit(X_train, y_train)"
   ]
  },
  {
   "cell_type": "code",
   "execution_count": 16,
   "metadata": {},
   "outputs": [
    {
     "name": "stdout",
     "output_type": "stream",
     "text": [
      "ROC-AUC на валидационной выборке: 0.96605\n",
      "F1-score на валидационной выборке: 0.76699\n"
     ]
    },
    {
     "data": {
      "image/png": "[encoded data removed]",
      "text/plain": [
       "<Figure size 720x432 with 1 Axes>"
      ]
     },
     "metadata": {
      "needs_background": "light"
     },
     "output_type": "display_data"
    }
   ],
   "source": [
    "pred_lr = model_lr.predict(X_val)\n",
    "pred_proba_lr = model_lr.predict_proba(X_val)[:, 1]\n",
    "\n",
    "roc_auc_score_lr = roc_auc_score(y_val, pred_proba_lr)\n",
    "f1_score_lr = f1_score(y_val, pred_lr)\n",
    "\n",
    "print(f'ROC-AUC на валидационной выборке: {roc_auc_score_lr:.5f}')\n",
    "print(f'F1-score на валидационной выборке: {f1_score_lr:.5f}')\n",
    "    \n",
    "make_roc_auc_curve(y_val, pred_proba_lr)"
   ]
  },
  {
   "cell_type": "markdown",
   "metadata": {},
   "source": [
    "### Модель случайного леса"
   ]
  },
  {
   "cell_type": "code",
   "execution_count": 17,
   "metadata": {},
   "outputs": [],
   "source": [
    "# %%time\n",
    "# model_rf = RandomForestClassifier(random_state=RANDOM_SEED)\n",
    "\n",
    "# params = {\n",
    "#     'n_estimators': [100, 200, 300],\n",
    "#     'max_depth': [5, 10, 15],\n",
    "#     'min_samples_split': [2, 5, 10],\n",
    "#     'min_samples_leaf': [1, 2, 4],\n",
    "#     'class_weight': ['balanced']\n",
    "# }\n",
    "\n",
    "# grid_search_rf = RandomizedSearchCV(estimator=model_rf,\n",
    "#                                     param_distributions=params,\n",
    "#                                     n_iter=10,\n",
    "#                                     scoring='f1',\n",
    "#                                     cv=CV)\n",
    "# grid_search_rf.fit(X_train, y_train)\n",
    "\n",
    "# print(\"Лучшие гиперпараметры:\", grid_search_rf.best_params_)\n",
    "# print(\"Лучшая точность модели:\", grid_search_rf.best_score_)\n",
    "\n",
    "# Лучшие гиперпараметры: {'n_estimators': 200, 'min_samples_split': 5, 'min_samples_leaf': 2, 'max_depth': 15, 'class_weight': 'balanced'}\n",
    "# Лучшая точность модели: 0.3885422639406844\n",
    "# CPU times: user 12min 43s, sys: 1.06 s, total: 12min 44s\n",
    "# Wall time: 12min 44s"
   ]
  },
  {
   "cell_type": "code",
   "execution_count": 18,
   "metadata": {},
   "outputs": [
    {
     "name": "stdout",
     "output_type": "stream",
     "text": [
      "CPU times: user 9.05 s, sys: 38.5 ms, total: 9.09 s\n",
      "Wall time: 9.09 s\n"
     ]
    },
    {
     "data": {
      "text/plain": [
       "RandomForestClassifier(class_weight='balanced', max_depth=15,\n",
       "                       min_samples_leaf=2, min_samples_split=5,\n",
       "                       n_estimators=200,\n",
       "                       random_state=RandomState(MT19937) at 0x7FAA4F617740)"
      ]
     },
     "execution_count": 18,
     "metadata": {},
     "output_type": "execute_result"
    }
   ],
   "source": [
    "%%time\n",
    "params = {'n_estimators': 200, 'min_samples_split': 5, 'min_samples_leaf': 2, 'max_depth': 15, 'class_weight': 'balanced'}\n",
    "model_rf = RandomForestClassifier(n_estimators=params['n_estimators'],\n",
    "                                  min_samples_split=params['min_samples_split'],\n",
    "                                  min_samples_leaf=params['min_samples_leaf'],\n",
    "                                  max_depth=params['max_depth'],\n",
    "                                  class_weight=params['class_weight'],\n",
    "                                  random_state=RANDOM_SEED)\n",
    "model_rf.fit(X_train, y_train)"
   ]
  },
  {
   "cell_type": "code",
   "execution_count": 19,
   "metadata": {},
   "outputs": [
    {
     "name": "stdout",
     "output_type": "stream",
     "text": [
      "ROC-AUC на валидационной выборке: 0.89202\n",
      "F1-score на валидационной выборке: 0.38275\n"
     ]
    },
    {
     "data": {
      "image/png": "[encoded data removed]",
      "text/plain": [
       "<Figure size 720x432 with 1 Axes>"
      ]
     },
     "metadata": {
      "needs_background": "light"
     },
     "output_type": "display_data"
    }
   ],
   "source": [
    "pred_rf = model_rf.predict(X_val)\n",
    "pred_proba_rf = model_rf.predict_proba(X_val)[:, 1]\n",
    "\n",
    "roc_auc_score_rf = roc_auc_score(y_val, pred_proba_rf)\n",
    "f1_score_rf = f1_score(y_val, pred_rf)\n",
    "\n",
    "print(f'ROC-AUC на валидационной выборке: {roc_auc_score_rf:.5f}')\n",
    "print(f'F1-score на валидационной выборке: {f1_score_rf:.5f}')\n",
    "    \n",
    "make_roc_auc_curve(y_val, pred_proba_rf)"
   ]
  },
  {
   "cell_type": "markdown",
   "metadata": {},
   "source": [
    "### Модель CatBoost"
   ]
  },
  {
   "cell_type": "code",
   "execution_count": 20,
   "metadata": {},
   "outputs": [],
   "source": [
    "# %%time\n",
    "# params = {'l2_leaf_reg': 1, 'iterations': 1000, 'depth': 4, 'auto_class_weights': 'Balanced'}\n",
    "\n",
    "\n",
    "# model_catboost = CatBoostClassifier(iterations=params['iterations'],\n",
    "#                                     depth=params['depth'],\n",
    "#                                     l2_leaf_reg=params['l2_leaf_reg'],\n",
    "#                                     auto_class_weights=params['auto_class_weights'],\n",
    "#                                     eval_metric='TotalF1',\n",
    "#                                     verbose=50,\n",
    "#                                     random_state=150797)\n",
    "# model_catboost.fit(X_train, y_train)"
   ]
  },
  {
   "cell_type": "code",
   "execution_count": 21,
   "metadata": {},
   "outputs": [],
   "source": [
    "# pred_catboost = model_catboost.predict(X_val)\n",
    "# pred_proba_catboost = model_catboost.predict_proba(X_val)[:, 1]\n",
    "\n",
    "# roc_auc_score_catboost = roc_auc_score(y_val, pred_proba_catboost)\n",
    "# f1_score_catboost = f1_score(y_val, pred_catboost)\n",
    "\n",
    "# print(f'ROC-AUC на валидационной выборке: {roc_auc_score_catboost:.5f}')\n",
    "# print(f'F1-score на валидационной выборке: {f1_score_catboost:.5f}')\n",
    "    \n",
    "# make_roc_auc_curve(y_val, pred_proba_catboost)"
   ]
  },
  {
   "cell_type": "code",
   "execution_count": 22,
   "metadata": {},
   "outputs": [],
   "source": [
    "## модель обучается около 20 минут и показывает на валидации 0.724 f-score и 0.94891 roc-auc"
   ]
  },
  {
   "cell_type": "markdown",
   "metadata": {},
   "source": [
    "В данном разделе были построены модели: логистическая регрессия, случайный лес и модель CatBoost. Наилучший результат метрики f1_score показала модель логистической регрессии. Используем ее далее при тестировании."
   ]
  },
  {
   "cell_type": "markdown",
   "metadata": {},
   "source": [
    "### Тестирование "
   ]
  },
  {
   "cell_type": "code",
   "execution_count": 23,
   "metadata": {},
   "outputs": [
    {
     "name": "stdout",
     "output_type": "stream",
     "text": [
      "ROC-AUC на валидационной выборке: 0.96681\n",
      "F1-score на валидационной выборке: 0.75325\n"
     ]
    },
    {
     "data": {
      "image/png": "[encoded data removed]",
      "text/plain": [
       "<Figure size 720x432 with 1 Axes>"
      ]
     },
     "metadata": {
      "needs_background": "light"
     },
     "output_type": "display_data"
    }
   ],
   "source": [
    "pred_test_lr = model_lr.predict(X_test)\n",
    "pred_proba_test_lr = model_lr.predict_proba(X_test)[:, 1]\n",
    "\n",
    "roc_auc_score_test_lr = roc_auc_score(y_test, pred_proba_test_lr)\n",
    "f1_score_test_lr = f1_score(y_test, pred_test_lr)\n",
    "\n",
    "print(f'ROC-AUC на валидационной выборке: {roc_auc_score_test_lr:.5f}')\n",
    "print(f'F1-score на валидационной выборке: {f1_score_test_lr:.5f}')\n",
    "    \n",
    "make_roc_auc_curve(y_test, pred_proba_test_lr)"
   ]
  },
  {
   "cell_type": "markdown",
   "metadata": {},
   "source": [
    "На тестировании модель показала значение F1-score > 0,75. Данное значение удовлетворяет условиям проекта."
   ]
  },
  {
   "cell_type": "markdown",
   "metadata": {},
   "source": [
    "## Общий вывод\n",
    "\n",
    "В ходе проекта были выполнены следующий шаги:\n",
    "\n",
    "Загрузали данные и в дальнейшем провели их предварительную обработку. Этот процесс включал удаление лишних символов, токенизацию текста и приведение его к нижнему регистру. Затем мы разделили данные на обучающую, тестовую и валидационную выборки.\n",
    "\n",
    "Для достижения намеченной цели мы построили различные алгоритмы машинного обучения, включая логистическую регрессию, случайный лес и модель catboost. Важным аспектом было использование оптимальных гиперпараметров для каждой модели. Однако основное требование заключалось в достижении метрики качества F1 не менее 0.75. \n",
    "\n",
    "После обучения различных моделей мы тщательно оценили их производительность на тестовой выборке. По результатам анализа была выбрана модель логистической регрессии (f1-score = 0.76 на тестовой выборке). Мы собираемся применить эту модель для классификации комментариев в реальном времени. Она сможет обнаруживать токсичные комментарии и отправлять их на модерацию, чтобы обеспечить безопасность и качество описаний товаров в интернет-магазине «Викишоп»."
   ]
  }
 ],
 "metadata": {
  "ExecuteTimeLog": [
   {
    "duration": 400,
    "start_time": "2023-08-08T13:43:58.323Z"
   },
   {
    "duration": 4,
    "start_time": "2023-08-08T13:44:22.768Z"
   },
   {
    "duration": 2228,
    "start_time": "2023-08-08T13:45:34.700Z"
   },
   {
    "duration": 17,
    "start_time": "2023-08-08T13:45:36.930Z"
   },
   {
    "duration": 6,
    "start_time": "2023-08-08T13:45:48.592Z"
   },
   {
    "duration": 581,
    "start_time": "2023-08-08T13:46:03.899Z"
   },
   {
    "duration": 163,
    "start_time": "2023-08-08T13:46:10.259Z"
   },
   {
    "duration": 270,
    "start_time": "2023-08-08T13:46:15.859Z"
   },
   {
    "duration": 6,
    "start_time": "2023-08-08T13:46:29.106Z"
   },
   {
    "duration": 146,
    "start_time": "2023-08-08T13:46:30.666Z"
   },
   {
    "duration": 12,
    "start_time": "2023-08-08T13:47:53.776Z"
   },
   {
    "duration": 6,
    "start_time": "2023-08-08T13:47:57.392Z"
   },
   {
    "duration": 9,
    "start_time": "2023-08-08T13:48:03.667Z"
   },
   {
    "duration": 53,
    "start_time": "2023-08-08T13:48:11.492Z"
   },
   {
    "duration": 103,
    "start_time": "2023-08-08T13:48:19.945Z"
   },
   {
    "duration": 15,
    "start_time": "2023-08-08T13:48:37.536Z"
   },
   {
    "duration": 20,
    "start_time": "2023-08-08T13:49:06.179Z"
   },
   {
    "duration": 3438,
    "start_time": "2023-08-08T13:49:18.138Z"
   },
   {
    "duration": 37,
    "start_time": "2023-08-08T13:49:21.578Z"
   },
   {
    "duration": 364,
    "start_time": "2023-08-08T13:49:21.745Z"
   },
   {
    "duration": 8,
    "start_time": "2023-08-08T13:52:25.355Z"
   },
   {
    "duration": 791,
    "start_time": "2023-08-09T07:53:40.468Z"
   },
   {
    "duration": 2099,
    "start_time": "2023-08-09T07:53:41.261Z"
   },
   {
    "duration": 35,
    "start_time": "2023-08-09T07:53:43.362Z"
   },
   {
    "duration": 10,
    "start_time": "2023-08-09T07:53:43.399Z"
   },
   {
    "duration": 15,
    "start_time": "2023-08-09T07:53:43.411Z"
   },
   {
    "duration": 17,
    "start_time": "2023-08-09T08:00:52.880Z"
   },
   {
    "duration": 7,
    "start_time": "2023-08-09T08:01:40.771Z"
   },
   {
    "duration": 6,
    "start_time": "2023-08-09T08:02:12.636Z"
   },
   {
    "duration": 13,
    "start_time": "2023-08-09T08:02:44.522Z"
   },
   {
    "duration": 6,
    "start_time": "2023-08-09T08:02:48.101Z"
   },
   {
    "duration": 449,
    "start_time": "2023-08-09T08:02:56.425Z"
   },
   {
    "duration": 5,
    "start_time": "2023-08-09T08:03:07.643Z"
   },
   {
    "duration": 1915,
    "start_time": "2023-08-09T08:03:08.798Z"
   },
   {
    "duration": 44,
    "start_time": "2023-08-09T08:03:10.715Z"
   },
   {
    "duration": 16,
    "start_time": "2023-08-09T08:03:10.760Z"
   },
   {
    "duration": 16,
    "start_time": "2023-08-09T08:03:10.779Z"
   },
   {
    "duration": 26,
    "start_time": "2023-08-09T08:03:10.797Z"
   },
   {
    "duration": 7870,
    "start_time": "2023-08-09T08:03:10.825Z"
   },
   {
    "duration": 7515,
    "start_time": "2023-08-09T08:05:06.502Z"
   },
   {
    "duration": 7129,
    "start_time": "2023-08-09T08:06:26.700Z"
   },
   {
    "duration": 6,
    "start_time": "2023-08-09T08:06:33.832Z"
   },
   {
    "duration": 23,
    "start_time": "2023-08-09T08:06:39.008Z"
   },
   {
    "duration": 34,
    "start_time": "2023-08-09T08:07:00.077Z"
   },
   {
    "duration": 6,
    "start_time": "2023-08-09T08:07:39.196Z"
   },
   {
    "duration": 6,
    "start_time": "2023-08-09T08:07:42.063Z"
   },
   {
    "duration": 3243,
    "start_time": "2023-08-09T08:07:45.205Z"
   },
   {
    "duration": 2829,
    "start_time": "2023-08-09T08:07:49.469Z"
   },
   {
    "duration": 10,
    "start_time": "2023-08-09T08:07:52.471Z"
   },
   {
    "duration": 12,
    "start_time": "2023-08-09T08:07:58.402Z"
   },
   {
    "duration": 6,
    "start_time": "2023-08-09T08:08:02.830Z"
   },
   {
    "duration": 4,
    "start_time": "2023-08-09T08:08:52.077Z"
   },
   {
    "duration": 312,
    "start_time": "2023-08-09T08:08:53.153Z"
   },
   {
    "duration": 7,
    "start_time": "2023-08-09T08:09:32.764Z"
   },
   {
    "duration": 267,
    "start_time": "2023-08-09T08:09:34.354Z"
   },
   {
    "duration": 119733,
    "start_time": "2023-08-09T08:10:48.976Z"
   },
   {
    "duration": 11,
    "start_time": "2023-08-09T08:13:03.582Z"
   },
   {
    "duration": 4,
    "start_time": "2023-08-09T08:13:44.578Z"
   },
   {
    "duration": 1755,
    "start_time": "2023-08-09T08:13:44.911Z"
   },
   {
    "duration": 36,
    "start_time": "2023-08-09T08:13:46.668Z"
   },
   {
    "duration": 16,
    "start_time": "2023-08-09T08:13:46.706Z"
   },
   {
    "duration": 11,
    "start_time": "2023-08-09T08:13:46.725Z"
   },
   {
    "duration": 1062,
    "start_time": "2023-08-09T08:13:46.738Z"
   },
   {
    "duration": 85782,
    "start_time": "2023-08-09T08:13:57.900Z"
   },
   {
    "duration": 9,
    "start_time": "2023-08-09T08:15:23.685Z"
   },
   {
    "duration": 4,
    "start_time": "2023-08-09T08:19:36.041Z"
   },
   {
    "duration": 1675,
    "start_time": "2023-08-09T08:19:36.123Z"
   },
   {
    "duration": 29,
    "start_time": "2023-08-09T08:19:37.801Z"
   },
   {
    "duration": 10,
    "start_time": "2023-08-09T08:19:37.832Z"
   },
   {
    "duration": 7,
    "start_time": "2023-08-09T08:19:37.860Z"
   },
   {
    "duration": 74414,
    "start_time": "2023-08-09T08:19:37.868Z"
   },
   {
    "duration": 13,
    "start_time": "2023-08-09T08:20:52.285Z"
   },
   {
    "duration": 13,
    "start_time": "2023-08-09T08:21:08.300Z"
   },
   {
    "duration": 7,
    "start_time": "2023-08-09T08:27:00.926Z"
   },
   {
    "duration": 11,
    "start_time": "2023-08-09T08:27:07.214Z"
   },
   {
    "duration": 10,
    "start_time": "2023-08-09T08:27:10.328Z"
   },
   {
    "duration": 20,
    "start_time": "2023-08-09T08:27:11.056Z"
   },
   {
    "duration": 13,
    "start_time": "2023-08-09T08:27:11.744Z"
   },
   {
    "duration": 12,
    "start_time": "2023-08-09T08:27:12.292Z"
   },
   {
    "duration": 10,
    "start_time": "2023-08-09T08:27:12.781Z"
   },
   {
    "duration": 9,
    "start_time": "2023-08-09T08:27:13.215Z"
   },
   {
    "duration": 13,
    "start_time": "2023-08-09T08:27:13.651Z"
   },
   {
    "duration": 10,
    "start_time": "2023-08-09T08:27:14.017Z"
   },
   {
    "duration": 13,
    "start_time": "2023-08-09T08:27:14.298Z"
   },
   {
    "duration": 11,
    "start_time": "2023-08-09T08:27:14.594Z"
   },
   {
    "duration": 9,
    "start_time": "2023-08-09T08:27:14.878Z"
   },
   {
    "duration": 9,
    "start_time": "2023-08-09T08:27:15.143Z"
   },
   {
    "duration": 13,
    "start_time": "2023-08-09T08:27:15.344Z"
   },
   {
    "duration": 16,
    "start_time": "2023-08-09T08:27:15.556Z"
   },
   {
    "duration": 12,
    "start_time": "2023-08-09T08:27:15.774Z"
   },
   {
    "duration": 9,
    "start_time": "2023-08-09T08:27:15.992Z"
   },
   {
    "duration": 10,
    "start_time": "2023-08-09T08:27:16.204Z"
   },
   {
    "duration": 12,
    "start_time": "2023-08-09T08:27:16.409Z"
   },
   {
    "duration": 9,
    "start_time": "2023-08-09T08:27:17.026Z"
   },
   {
    "duration": 12,
    "start_time": "2023-08-09T08:27:17.476Z"
   },
   {
    "duration": 9,
    "start_time": "2023-08-09T08:27:18.081Z"
   },
   {
    "duration": 9,
    "start_time": "2023-08-09T08:27:18.548Z"
   },
   {
    "duration": 10,
    "start_time": "2023-08-09T08:27:19.003Z"
   },
   {
    "duration": 9,
    "start_time": "2023-08-09T08:27:19.430Z"
   },
   {
    "duration": 10,
    "start_time": "2023-08-09T08:27:19.886Z"
   },
   {
    "duration": 9,
    "start_time": "2023-08-09T08:27:20.339Z"
   },
   {
    "duration": 15,
    "start_time": "2023-08-09T08:27:20.855Z"
   },
   {
    "duration": 9,
    "start_time": "2023-08-09T08:27:21.313Z"
   },
   {
    "duration": 12,
    "start_time": "2023-08-09T08:27:21.649Z"
   },
   {
    "duration": 10,
    "start_time": "2023-08-09T08:27:21.913Z"
   },
   {
    "duration": 10,
    "start_time": "2023-08-09T08:27:22.206Z"
   },
   {
    "duration": 9,
    "start_time": "2023-08-09T08:27:22.430Z"
   },
   {
    "duration": 9,
    "start_time": "2023-08-09T08:27:22.683Z"
   },
   {
    "duration": 13,
    "start_time": "2023-08-09T08:27:22.908Z"
   },
   {
    "duration": 19,
    "start_time": "2023-08-09T08:27:23.151Z"
   },
   {
    "duration": 12,
    "start_time": "2023-08-09T08:27:23.373Z"
   },
   {
    "duration": 10,
    "start_time": "2023-08-09T08:27:23.578Z"
   },
   {
    "duration": 9,
    "start_time": "2023-08-09T08:27:23.808Z"
   },
   {
    "duration": 10,
    "start_time": "2023-08-09T08:27:24.003Z"
   },
   {
    "duration": 15,
    "start_time": "2023-08-09T08:27:24.206Z"
   },
   {
    "duration": 11,
    "start_time": "2023-08-09T08:27:24.439Z"
   },
   {
    "duration": 10,
    "start_time": "2023-08-09T08:27:24.682Z"
   },
   {
    "duration": 11,
    "start_time": "2023-08-09T08:27:24.918Z"
   },
   {
    "duration": 12,
    "start_time": "2023-08-09T08:27:25.148Z"
   },
   {
    "duration": 14,
    "start_time": "2023-08-09T08:27:25.453Z"
   },
   {
    "duration": 13,
    "start_time": "2023-08-09T08:27:25.685Z"
   },
   {
    "duration": 13,
    "start_time": "2023-08-09T08:27:25.960Z"
   },
   {
    "duration": 10,
    "start_time": "2023-08-09T08:27:30.432Z"
   },
   {
    "duration": 12,
    "start_time": "2023-08-09T08:27:30.908Z"
   },
   {
    "duration": 9,
    "start_time": "2023-08-09T08:27:31.234Z"
   },
   {
    "duration": 9,
    "start_time": "2023-08-09T08:27:31.449Z"
   },
   {
    "duration": 10,
    "start_time": "2023-08-09T08:27:31.674Z"
   },
   {
    "duration": 10,
    "start_time": "2023-08-09T08:27:31.922Z"
   },
   {
    "duration": 10,
    "start_time": "2023-08-09T08:27:32.238Z"
   },
   {
    "duration": 11,
    "start_time": "2023-08-09T08:27:34.680Z"
   },
   {
    "duration": 10,
    "start_time": "2023-08-09T08:27:35.647Z"
   },
   {
    "duration": 14,
    "start_time": "2023-08-09T08:27:36.884Z"
   },
   {
    "duration": 1497,
    "start_time": "2023-08-09T08:27:43.308Z"
   },
   {
    "duration": 8,
    "start_time": "2023-08-09T08:27:46.412Z"
   },
   {
    "duration": 9,
    "start_time": "2023-08-09T08:27:48.905Z"
   },
   {
    "duration": 9,
    "start_time": "2023-08-09T08:27:49.502Z"
   },
   {
    "duration": 12,
    "start_time": "2023-08-09T08:27:49.909Z"
   },
   {
    "duration": 9,
    "start_time": "2023-08-09T08:27:50.294Z"
   },
   {
    "duration": 10,
    "start_time": "2023-08-09T08:27:50.700Z"
   },
   {
    "duration": 9,
    "start_time": "2023-08-09T08:27:51.116Z"
   },
   {
    "duration": 6,
    "start_time": "2023-08-09T08:27:55.714Z"
   },
   {
    "duration": 6,
    "start_time": "2023-08-09T08:28:00.018Z"
   },
   {
    "duration": 11,
    "start_time": "2023-08-09T08:28:08.519Z"
   },
   {
    "duration": 14,
    "start_time": "2023-08-09T08:28:11.969Z"
   },
   {
    "duration": 5,
    "start_time": "2023-08-09T08:28:14.727Z"
   },
   {
    "duration": 38,
    "start_time": "2023-08-09T08:29:16.070Z"
   },
   {
    "duration": 4,
    "start_time": "2023-08-09T08:29:25.628Z"
   },
   {
    "duration": 5748,
    "start_time": "2023-08-09T08:29:26.300Z"
   },
   {
    "duration": 40,
    "start_time": "2023-08-09T08:29:32.051Z"
   },
   {
    "duration": 59,
    "start_time": "2023-08-09T08:29:32.092Z"
   },
   {
    "duration": 36,
    "start_time": "2023-08-09T08:29:32.154Z"
   },
   {
    "duration": 40640,
    "start_time": "2023-08-09T08:29:32.193Z"
   },
   {
    "duration": 0,
    "start_time": "2023-08-09T08:30:12.836Z"
   },
   {
    "duration": 5,
    "start_time": "2023-08-09T08:30:16.976Z"
   },
   {
    "duration": 1853,
    "start_time": "2023-08-09T08:30:17.054Z"
   },
   {
    "duration": 34,
    "start_time": "2023-08-09T08:30:18.909Z"
   },
   {
    "duration": 15,
    "start_time": "2023-08-09T08:30:18.945Z"
   },
   {
    "duration": 27,
    "start_time": "2023-08-09T08:30:18.962Z"
   },
   {
    "duration": 74518,
    "start_time": "2023-08-09T08:30:18.991Z"
   },
   {
    "duration": 0,
    "start_time": "2023-08-09T08:31:33.512Z"
   },
   {
    "duration": 4,
    "start_time": "2023-08-09T08:31:36.529Z"
   },
   {
    "duration": 1920,
    "start_time": "2023-08-09T08:31:36.844Z"
   },
   {
    "duration": 46,
    "start_time": "2023-08-09T08:31:38.766Z"
   },
   {
    "duration": 9,
    "start_time": "2023-08-09T08:31:38.814Z"
   },
   {
    "duration": 12,
    "start_time": "2023-08-09T08:31:38.825Z"
   },
   {
    "duration": 90911,
    "start_time": "2023-08-09T08:31:39.574Z"
   },
   {
    "duration": 34,
    "start_time": "2023-08-09T08:36:41.580Z"
   },
   {
    "duration": 13,
    "start_time": "2023-08-09T08:36:49.793Z"
   },
   {
    "duration": 20,
    "start_time": "2023-08-09T08:37:14.467Z"
   },
   {
    "duration": 10,
    "start_time": "2023-08-09T08:37:18.626Z"
   },
   {
    "duration": 787,
    "start_time": "2023-08-09T08:37:37.676Z"
   },
   {
    "duration": 92,
    "start_time": "2023-08-09T08:37:41.711Z"
   },
   {
    "duration": 67,
    "start_time": "2023-08-09T08:37:57.877Z"
   },
   {
    "duration": 12,
    "start_time": "2023-08-09T08:37:59.689Z"
   },
   {
    "duration": 215,
    "start_time": "2023-08-09T08:38:21.916Z"
   },
   {
    "duration": 1396,
    "start_time": "2023-08-09T08:38:25.111Z"
   },
   {
    "duration": 16,
    "start_time": "2023-08-09T08:38:36.266Z"
   },
   {
    "duration": 4,
    "start_time": "2023-08-09T08:38:56.143Z"
   },
   {
    "duration": 1662,
    "start_time": "2023-08-09T08:38:56.221Z"
   },
   {
    "duration": 34,
    "start_time": "2023-08-09T08:38:57.885Z"
   },
   {
    "duration": 8,
    "start_time": "2023-08-09T08:38:57.920Z"
   },
   {
    "duration": 42,
    "start_time": "2023-08-09T08:38:57.930Z"
   },
   {
    "duration": 85774,
    "start_time": "2023-08-09T08:38:57.974Z"
   },
   {
    "duration": 43,
    "start_time": "2023-08-09T08:40:23.750Z"
   },
   {
    "duration": 41,
    "start_time": "2023-08-09T08:40:23.796Z"
   },
   {
    "duration": 2090,
    "start_time": "2023-08-09T08:40:23.839Z"
   },
   {
    "duration": 10,
    "start_time": "2023-08-09T08:53:55.122Z"
   },
   {
    "duration": 4,
    "start_time": "2023-08-09T08:54:29.847Z"
   },
   {
    "duration": 2081,
    "start_time": "2023-08-09T08:54:30.259Z"
   },
   {
    "duration": 48,
    "start_time": "2023-08-09T08:54:32.342Z"
   },
   {
    "duration": 32,
    "start_time": "2023-08-09T08:54:32.392Z"
   },
   {
    "duration": 58,
    "start_time": "2023-08-09T08:54:32.427Z"
   },
   {
    "duration": 93975,
    "start_time": "2023-08-09T08:54:32.487Z"
   },
   {
    "duration": 77,
    "start_time": "2023-08-09T08:56:06.464Z"
   },
   {
    "duration": 26,
    "start_time": "2023-08-09T08:56:06.544Z"
   },
   {
    "duration": 13219,
    "start_time": "2023-08-09T08:56:06.572Z"
   },
   {
    "duration": 46,
    "start_time": "2023-08-09T08:56:24.243Z"
   },
   {
    "duration": 5,
    "start_time": "2023-08-09T08:56:41.094Z"
   },
   {
    "duration": 2505,
    "start_time": "2023-08-09T08:56:41.175Z"
   },
   {
    "duration": 44,
    "start_time": "2023-08-09T08:56:43.693Z"
   },
   {
    "duration": 18,
    "start_time": "2023-08-09T08:56:43.739Z"
   },
   {
    "duration": 26,
    "start_time": "2023-08-09T08:56:43.759Z"
   },
   {
    "duration": 98790,
    "start_time": "2023-08-09T08:56:43.792Z"
   },
   {
    "duration": 77,
    "start_time": "2023-08-09T08:58:22.584Z"
   },
   {
    "duration": 13157,
    "start_time": "2023-08-09T08:58:22.669Z"
   },
   {
    "duration": 5,
    "start_time": "2023-08-09T09:02:31.438Z"
   },
   {
    "duration": 40,
    "start_time": "2023-08-09T09:02:42.833Z"
   },
   {
    "duration": 4,
    "start_time": "2023-08-09T09:05:19.777Z"
   },
   {
    "duration": 4,
    "start_time": "2023-08-09T09:13:40.025Z"
   },
   {
    "duration": 1229328,
    "start_time": "2023-08-09T09:24:16.676Z"
   },
   {
    "duration": 622388,
    "start_time": "2023-08-09T09:44:48.180Z"
   },
   {
    "duration": 8526,
    "start_time": "2023-08-09T09:56:19.874Z"
   },
   {
    "duration": 3,
    "start_time": "2023-08-09T09:56:30.029Z"
   },
   {
    "duration": 31283,
    "start_time": "2023-08-09T11:16:50.594Z"
   },
   {
    "duration": 31498,
    "start_time": "2023-08-09T11:18:24.990Z"
   },
   {
    "duration": 7,
    "start_time": "2023-08-09T11:18:58.620Z"
   },
   {
    "duration": 3197,
    "start_time": "2023-08-09T11:18:58.697Z"
   },
   {
    "duration": 40,
    "start_time": "2023-08-09T11:19:01.898Z"
   },
   {
    "duration": 67,
    "start_time": "2023-08-09T11:19:01.941Z"
   },
   {
    "duration": 84,
    "start_time": "2023-08-09T11:19:02.012Z"
   },
   {
    "duration": 93612,
    "start_time": "2023-08-09T11:19:02.098Z"
   },
   {
    "duration": 72,
    "start_time": "2023-08-09T11:20:35.713Z"
   },
   {
    "duration": 1762,
    "start_time": "2023-08-09T11:21:11.539Z"
   },
   {
    "duration": 2121,
    "start_time": "2023-08-09T11:21:13.977Z"
   },
   {
    "duration": 40,
    "start_time": "2023-08-09T11:21:16.100Z"
   },
   {
    "duration": 47,
    "start_time": "2023-08-09T11:21:16.142Z"
   },
   {
    "duration": 12,
    "start_time": "2023-08-09T11:21:16.192Z"
   },
   {
    "duration": 91661,
    "start_time": "2023-08-09T11:21:16.206Z"
   },
   {
    "duration": 50,
    "start_time": "2023-08-09T11:22:47.870Z"
   },
   {
    "duration": 12474,
    "start_time": "2023-08-09T11:22:47.923Z"
   },
   {
    "duration": 0,
    "start_time": "2023-08-09T11:23:00.400Z"
   },
   {
    "duration": 0,
    "start_time": "2023-08-09T11:23:00.401Z"
   },
   {
    "duration": 0,
    "start_time": "2023-08-09T11:23:00.402Z"
   },
   {
    "duration": 31,
    "start_time": "2023-08-09T11:23:15.015Z"
   },
   {
    "duration": 5,
    "start_time": "2023-08-09T11:23:19.033Z"
   },
   {
    "duration": 3046,
    "start_time": "2023-08-09T11:23:19.114Z"
   },
   {
    "duration": 36,
    "start_time": "2023-08-09T11:23:22.166Z"
   },
   {
    "duration": 15,
    "start_time": "2023-08-09T11:23:22.203Z"
   },
   {
    "duration": 14,
    "start_time": "2023-08-09T11:23:22.220Z"
   },
   {
    "duration": 91321,
    "start_time": "2023-08-09T11:23:22.236Z"
   },
   {
    "duration": 71,
    "start_time": "2023-08-09T11:24:53.563Z"
   },
   {
    "duration": 12471,
    "start_time": "2023-08-09T11:24:53.636Z"
   },
   {
    "duration": 3,
    "start_time": "2023-08-09T11:25:06.109Z"
   },
   {
    "duration": 33428,
    "start_time": "2023-08-09T11:25:06.113Z"
   },
   {
    "duration": 0,
    "start_time": "2023-08-09T11:25:39.542Z"
   },
   {
    "duration": 31715,
    "start_time": "2023-08-09T11:27:25.116Z"
   },
   {
    "duration": 4,
    "start_time": "2023-08-09T11:27:56.834Z"
   },
   {
    "duration": 5,
    "start_time": "2023-08-09T11:29:50.095Z"
   },
   {
    "duration": 15,
    "start_time": "2023-08-09T11:29:53.206Z"
   },
   {
    "duration": 13,
    "start_time": "2023-08-09T11:29:59.739Z"
   },
   {
    "duration": 14,
    "start_time": "2023-08-09T11:30:21.130Z"
   },
   {
    "duration": 4,
    "start_time": "2023-08-09T11:32:10.093Z"
   },
   {
    "duration": 16,
    "start_time": "2023-08-09T11:32:48.331Z"
   },
   {
    "duration": 15,
    "start_time": "2023-08-09T11:32:52.483Z"
   },
   {
    "duration": 17,
    "start_time": "2023-08-09T11:33:51.722Z"
   },
   {
    "duration": 17,
    "start_time": "2023-08-09T11:33:58.430Z"
   },
   {
    "duration": 5,
    "start_time": "2023-08-09T11:34:05.695Z"
   },
   {
    "duration": 22,
    "start_time": "2023-08-09T11:35:16.723Z"
   },
   {
    "duration": 5,
    "start_time": "2023-08-09T11:35:20.796Z"
   },
   {
    "duration": 34,
    "start_time": "2023-08-09T11:36:31.380Z"
   },
   {
    "duration": 25,
    "start_time": "2023-08-09T11:36:48.904Z"
   },
   {
    "duration": 6,
    "start_time": "2023-08-09T11:37:47.991Z"
   },
   {
    "duration": 5,
    "start_time": "2023-08-09T11:38:25.072Z"
   },
   {
    "duration": 159,
    "start_time": "2023-08-09T11:38:55.480Z"
   },
   {
    "duration": 276,
    "start_time": "2023-08-09T11:39:07.524Z"
   },
   {
    "duration": 166,
    "start_time": "2023-08-09T11:39:13.606Z"
   },
   {
    "duration": 169,
    "start_time": "2023-08-09T11:39:45.384Z"
   },
   {
    "duration": 206,
    "start_time": "2023-08-09T11:40:31.978Z"
   },
   {
    "duration": 187,
    "start_time": "2023-08-09T11:40:44.789Z"
   },
   {
    "duration": 184,
    "start_time": "2023-08-09T11:41:03.431Z"
   },
   {
    "duration": 181,
    "start_time": "2023-08-09T11:41:07.261Z"
   },
   {
    "duration": 91,
    "start_time": "2023-08-09T11:42:04.146Z"
   },
   {
    "duration": 177,
    "start_time": "2023-08-09T11:42:07.081Z"
   },
   {
    "duration": 5,
    "start_time": "2023-08-09T11:42:48.597Z"
   },
   {
    "duration": 192,
    "start_time": "2023-08-09T11:42:52.908Z"
   },
   {
    "duration": 7,
    "start_time": "2023-08-09T11:43:34.085Z"
   },
   {
    "duration": 171,
    "start_time": "2023-08-09T11:43:36.101Z"
   },
   {
    "duration": 5,
    "start_time": "2023-08-09T11:44:06.087Z"
   },
   {
    "duration": 188,
    "start_time": "2023-08-09T11:44:09.661Z"
   },
   {
    "duration": 1655,
    "start_time": "2023-08-09T11:47:16.665Z"
   },
   {
    "duration": 2650,
    "start_time": "2023-08-09T11:47:18.322Z"
   },
   {
    "duration": 38,
    "start_time": "2023-08-09T11:47:20.974Z"
   },
   {
    "duration": 34,
    "start_time": "2023-08-09T11:47:21.014Z"
   },
   {
    "duration": 45,
    "start_time": "2023-08-09T11:47:21.051Z"
   },
   {
    "duration": 79739,
    "start_time": "2023-08-09T11:47:21.098Z"
   },
   {
    "duration": 74,
    "start_time": "2023-08-09T11:48:40.840Z"
   },
   {
    "duration": 11675,
    "start_time": "2023-08-09T11:48:40.915Z"
   },
   {
    "duration": 5,
    "start_time": "2023-08-09T11:48:52.592Z"
   },
   {
    "duration": 23,
    "start_time": "2023-08-09T11:48:52.599Z"
   },
   {
    "duration": 36606,
    "start_time": "2023-08-09T11:48:52.624Z"
   },
   {
    "duration": 196,
    "start_time": "2023-08-09T11:49:29.232Z"
   },
   {
    "duration": 228,
    "start_time": "2023-08-09T11:51:09.892Z"
   },
   {
    "duration": 30,
    "start_time": "2023-08-09T11:51:35.989Z"
   },
   {
    "duration": 277,
    "start_time": "2023-08-09T11:51:39.574Z"
   },
   {
    "duration": 287,
    "start_time": "2023-08-09T11:51:45.841Z"
   },
   {
    "duration": 73887,
    "start_time": "2023-08-09T11:53:42.558Z"
   },
   {
    "duration": 5,
    "start_time": "2023-08-09T11:54:56.447Z"
   },
   {
    "duration": 44897,
    "start_time": "2023-08-09T11:54:57.544Z"
   },
   {
    "duration": 16,
    "start_time": "2023-08-09T11:56:22.348Z"
   },
   {
    "duration": 3,
    "start_time": "2023-08-09T11:56:25.747Z"
   },
   {
    "duration": 3,
    "start_time": "2023-08-09T11:56:37.087Z"
   },
   {
    "duration": 19,
    "start_time": "2023-08-09T12:01:05.316Z"
   },
   {
    "duration": 6,
    "start_time": "2023-08-09T12:01:32.066Z"
   },
   {
    "duration": 75651,
    "start_time": "2023-08-09T12:01:36.078Z"
   },
   {
    "duration": 6,
    "start_time": "2023-08-09T12:03:04.306Z"
   },
   {
    "duration": 14,
    "start_time": "2023-08-09T12:03:08.788Z"
   },
   {
    "duration": 16,
    "start_time": "2023-08-09T12:04:01.088Z"
   },
   {
    "duration": 20346,
    "start_time": "2023-08-09T12:04:09.471Z"
   },
   {
    "duration": 3681,
    "start_time": "2023-08-09T12:04:32.067Z"
   },
   {
    "duration": 22460,
    "start_time": "2023-08-09T12:04:41.802Z"
   },
   {
    "duration": 128154,
    "start_time": "2023-08-09T12:05:17.444Z"
   },
   {
    "duration": 658404,
    "start_time": "2023-08-09T12:07:35.937Z"
   },
   {
    "duration": 5,
    "start_time": "2023-08-09T12:34:45.872Z"
   },
   {
    "duration": 105,
    "start_time": "2023-08-09T12:35:15.790Z"
   },
   {
    "duration": 31338,
    "start_time": "2023-08-09T12:35:28.180Z"
   },
   {
    "duration": 187,
    "start_time": "2023-08-09T12:35:59.520Z"
   },
   {
    "duration": 3343,
    "start_time": "2023-08-09T12:36:50.110Z"
   },
   {
    "duration": 930,
    "start_time": "2023-08-09T12:37:50.909Z"
   },
   {
    "duration": 6,
    "start_time": "2023-08-09T12:38:38.840Z"
   },
   {
    "duration": 10,
    "start_time": "2023-08-09T12:38:43.003Z"
   },
   {
    "duration": 7,
    "start_time": "2023-08-09T12:38:52.867Z"
   },
   {
    "duration": 2645,
    "start_time": "2023-08-09T12:49:40.400Z"
   },
   {
    "duration": 33,
    "start_time": "2023-08-09T12:49:58.024Z"
   },
   {
    "duration": 764507,
    "start_time": "2023-08-09T12:50:02.628Z"
   },
   {
    "duration": 60,
    "start_time": "2023-08-09T13:03:00.925Z"
   },
   {
    "duration": 8186,
    "start_time": "2023-08-09T13:03:08.093Z"
   },
   {
    "duration": 5,
    "start_time": "2023-08-09T13:03:16.281Z"
   },
   {
    "duration": 3,
    "start_time": "2023-08-09T13:03:25.833Z"
   },
   {
    "duration": 5,
    "start_time": "2023-08-09T13:03:30.082Z"
   },
   {
    "duration": 6,
    "start_time": "2023-08-09T13:03:32.126Z"
   },
   {
    "duration": 1625,
    "start_time": "2023-08-09T13:03:39.456Z"
   },
   {
    "duration": 6,
    "start_time": "2023-08-09T13:03:57.255Z"
   },
   {
    "duration": 79,
    "start_time": "2023-08-09T13:07:41.640Z"
   },
   {
    "duration": 2,
    "start_time": "2023-08-09T13:08:49.532Z"
   },
   {
    "duration": 4,
    "start_time": "2023-08-09T13:09:06.057Z"
   },
   {
    "duration": 8131,
    "start_time": "2023-08-09T13:10:22.574Z"
   },
   {
    "duration": 4,
    "start_time": "2023-08-09T13:10:35.572Z"
   },
   {
    "duration": 23,
    "start_time": "2023-08-09T13:10:39.427Z"
   },
   {
    "duration": 5,
    "start_time": "2023-08-09T13:10:45.562Z"
   },
   {
    "duration": 4,
    "start_time": "2023-08-09T13:10:50.955Z"
   },
   {
    "duration": 3,
    "start_time": "2023-08-09T13:11:11.997Z"
   },
   {
    "duration": 3,
    "start_time": "2023-08-09T13:11:15.754Z"
   },
   {
    "duration": 5,
    "start_time": "2023-08-09T13:11:18.017Z"
   },
   {
    "duration": 63097,
    "start_time": "2023-08-09T13:11:42.414Z"
   },
   {
    "duration": 119,
    "start_time": "2023-08-09T13:12:47.520Z"
   },
   {
    "duration": 20146,
    "start_time": "2023-08-09T13:13:07.508Z"
   },
   {
    "duration": 20314,
    "start_time": "2023-08-09T13:13:33.874Z"
   },
   {
    "duration": 67,
    "start_time": "2023-08-09T13:14:54.081Z"
   },
   {
    "duration": 2020,
    "start_time": "2023-08-09T13:14:59.673Z"
   },
   {
    "duration": 6,
    "start_time": "2023-08-09T13:15:02.592Z"
   },
   {
    "duration": 5,
    "start_time": "2023-08-09T13:15:21.350Z"
   },
   {
    "duration": 2057,
    "start_time": "2023-08-09T13:15:22.079Z"
   },
   {
    "duration": 40,
    "start_time": "2023-08-09T13:15:24.139Z"
   },
   {
    "duration": 21,
    "start_time": "2023-08-09T13:15:24.181Z"
   },
   {
    "duration": 22,
    "start_time": "2023-08-09T13:15:24.206Z"
   },
   {
    "duration": 80661,
    "start_time": "2023-08-09T13:15:24.230Z"
   },
   {
    "duration": 39,
    "start_time": "2023-08-09T13:16:44.893Z"
   },
   {
    "duration": 11542,
    "start_time": "2023-08-09T13:16:44.933Z"
   },
   {
    "duration": 314332,
    "start_time": "2023-08-09T13:16:56.477Z"
   },
   {
    "duration": 5,
    "start_time": "2023-08-09T13:22:16.619Z"
   },
   {
    "duration": 5,
    "start_time": "2023-08-09T13:22:26.409Z"
   },
   {
    "duration": 5,
    "start_time": "2023-08-09T13:23:04.678Z"
   },
   {
    "duration": 2721,
    "start_time": "2023-08-09T13:25:52.690Z"
   },
   {
    "duration": 37,
    "start_time": "2023-08-09T13:27:10.201Z"
   },
   {
    "duration": 36,
    "start_time": "2023-08-09T13:27:12.973Z"
   },
   {
    "duration": 2112,
    "start_time": "2023-08-09T13:27:55.094Z"
   },
   {
    "duration": 1974,
    "start_time": "2023-08-09T13:27:57.208Z"
   },
   {
    "duration": 34,
    "start_time": "2023-08-09T13:27:59.183Z"
   },
   {
    "duration": 20,
    "start_time": "2023-08-09T13:27:59.219Z"
   },
   {
    "duration": 26,
    "start_time": "2023-08-09T13:27:59.240Z"
   },
   {
    "duration": 77925,
    "start_time": "2023-08-09T13:27:59.267Z"
   },
   {
    "duration": 41,
    "start_time": "2023-08-09T13:29:17.194Z"
   },
   {
    "duration": 11542,
    "start_time": "2023-08-09T13:29:17.237Z"
   },
   {
    "duration": 2351,
    "start_time": "2023-08-09T13:30:59.204Z"
   },
   {
    "duration": 2427,
    "start_time": "2023-08-09T13:31:01.557Z"
   },
   {
    "duration": 36,
    "start_time": "2023-08-09T13:31:03.986Z"
   },
   {
    "duration": 29,
    "start_time": "2023-08-09T13:31:04.024Z"
   },
   {
    "duration": 13,
    "start_time": "2023-08-09T13:31:04.060Z"
   },
   {
    "duration": 81401,
    "start_time": "2023-08-09T13:31:04.075Z"
   },
   {
    "duration": 46,
    "start_time": "2023-08-09T13:32:25.478Z"
   },
   {
    "duration": 12043,
    "start_time": "2023-08-09T13:32:25.526Z"
   },
   {
    "duration": 79163,
    "start_time": "2023-08-09T13:32:37.576Z"
   },
   {
    "duration": 851437,
    "start_time": "2023-08-09T13:33:59.184Z"
   },
   {
    "duration": 4,
    "start_time": "2023-08-09T13:52:40.516Z"
   },
   {
    "duration": 71699,
    "start_time": "2023-08-09T13:52:51.208Z"
   },
   {
    "duration": 34,
    "start_time": "2023-08-09T13:54:02.909Z"
   },
   {
    "duration": 5,
    "start_time": "2023-08-09T13:54:08.972Z"
   },
   {
    "duration": 2098,
    "start_time": "2023-08-09T13:54:09.054Z"
   },
   {
    "duration": 35,
    "start_time": "2023-08-09T13:54:11.154Z"
   },
   {
    "duration": 7,
    "start_time": "2023-08-09T13:54:11.191Z"
   },
   {
    "duration": 13,
    "start_time": "2023-08-09T13:54:11.200Z"
   },
   {
    "duration": 72272,
    "start_time": "2023-08-09T13:54:11.214Z"
   },
   {
    "duration": 74,
    "start_time": "2023-08-09T13:55:23.488Z"
   },
   {
    "duration": 11513,
    "start_time": "2023-08-09T13:55:23.564Z"
   },
   {
    "duration": 2615521,
    "start_time": "2023-08-09T13:55:35.078Z"
   },
   {
    "duration": 1650,
    "start_time": "2023-08-09T14:40:04.087Z"
   },
   {
    "duration": 577165,
    "start_time": "2023-08-09T14:40:13.610Z"
   },
   {
    "duration": 100,
    "start_time": "2023-08-09T14:49:54.579Z"
   },
   {
    "duration": 50618,
    "start_time": "2023-08-09T14:49:59.800Z"
   },
   {
    "duration": 311740,
    "start_time": "2023-08-09T14:50:57.101Z"
   },
   {
    "duration": 6,
    "start_time": "2023-08-09T14:56:08.843Z"
   },
   {
    "duration": 35,
    "start_time": "2023-08-09T15:01:20.373Z"
   },
   {
    "duration": 1289068,
    "start_time": "2023-08-09T15:01:25.367Z"
   },
   {
    "duration": 738,
    "start_time": "2023-08-09T15:22:58.350Z"
   },
   {
    "duration": 5,
    "start_time": "2023-08-09T15:23:07.976Z"
   },
   {
    "duration": 823,
    "start_time": "2023-08-09T15:23:11.872Z"
   },
   {
    "duration": 5,
    "start_time": "2023-08-09T15:25:37.817Z"
   },
   {
    "duration": 744,
    "start_time": "2023-08-09T15:25:42.076Z"
   },
   {
    "duration": 7,
    "start_time": "2023-08-09T15:26:24.626Z"
   },
   {
    "duration": 870,
    "start_time": "2023-08-09T15:26:27.468Z"
   },
   {
    "duration": 12,
    "start_time": "2023-08-09T15:32:05.727Z"
   },
   {
    "duration": 14,
    "start_time": "2023-08-09T15:32:11.074Z"
   },
   {
    "duration": 4,
    "start_time": "2023-08-09T15:32:35.353Z"
   },
   {
    "duration": 11,
    "start_time": "2023-08-09T15:32:42.892Z"
   },
   {
    "duration": 3,
    "start_time": "2023-08-09T15:32:51.999Z"
   },
   {
    "duration": 4,
    "start_time": "2023-08-09T15:32:57.314Z"
   },
   {
    "duration": 7,
    "start_time": "2023-08-09T15:34:14.067Z"
   },
   {
    "duration": 142,
    "start_time": "2023-08-09T15:34:44.315Z"
   },
   {
    "duration": 3,
    "start_time": "2023-08-09T15:35:22.973Z"
   },
   {
    "duration": 32,
    "start_time": "2023-08-09T15:35:27.772Z"
   },
   {
    "duration": 28,
    "start_time": "2023-08-09T15:38:28.912Z"
   },
   {
    "duration": 29,
    "start_time": "2023-08-09T15:38:44.549Z"
   },
   {
    "duration": 443,
    "start_time": "2023-08-09T15:38:51.261Z"
   },
   {
    "duration": 9,
    "start_time": "2023-08-09T15:40:15.042Z"
   },
   {
    "duration": 494,
    "start_time": "2023-08-09T15:40:49.997Z"
   },
   {
    "duration": 5,
    "start_time": "2023-08-09T15:40:57.241Z"
   },
   {
    "duration": 2387,
    "start_time": "2023-08-09T15:40:57.321Z"
   },
   {
    "duration": 35,
    "start_time": "2023-08-09T15:40:59.710Z"
   },
   {
    "duration": 7,
    "start_time": "2023-08-09T15:40:59.759Z"
   },
   {
    "duration": 8,
    "start_time": "2023-08-09T15:40:59.768Z"
   },
   {
    "duration": 7018,
    "start_time": "2023-08-09T15:40:59.778Z"
   },
   {
    "duration": 0,
    "start_time": "2023-08-09T15:41:06.798Z"
   },
   {
    "duration": 0,
    "start_time": "2023-08-09T15:41:06.802Z"
   },
   {
    "duration": 0,
    "start_time": "2023-08-09T15:41:06.804Z"
   },
   {
    "duration": 1654,
    "start_time": "2023-08-09T15:41:21.619Z"
   },
   {
    "duration": 1801,
    "start_time": "2023-08-09T15:41:23.275Z"
   },
   {
    "duration": 34,
    "start_time": "2023-08-09T15:41:25.078Z"
   },
   {
    "duration": 30,
    "start_time": "2023-08-09T15:41:25.114Z"
   },
   {
    "duration": 8,
    "start_time": "2023-08-09T15:41:25.145Z"
   },
   {
    "duration": 76561,
    "start_time": "2023-08-09T15:41:25.158Z"
   },
   {
    "duration": 54,
    "start_time": "2023-08-09T15:42:41.721Z"
   },
   {
    "duration": 11831,
    "start_time": "2023-08-09T15:42:41.777Z"
   },
   {
    "duration": 5,
    "start_time": "2023-08-09T15:42:53.611Z"
   },
   {
    "duration": 39163,
    "start_time": "2023-08-09T15:42:53.618Z"
   },
   {
    "duration": 34564,
    "start_time": "2023-08-09T15:43:44.762Z"
   },
   {
    "duration": 195,
    "start_time": "2023-08-09T15:44:19.328Z"
   },
   {
    "duration": 171,
    "start_time": "2023-08-09T15:45:27.759Z"
   },
   {
    "duration": 7,
    "start_time": "2023-08-09T15:52:40.657Z"
   },
   {
    "duration": 1985,
    "start_time": "2023-08-09T15:52:41.165Z"
   },
   {
    "duration": 40,
    "start_time": "2023-08-09T15:52:43.152Z"
   },
   {
    "duration": 4,
    "start_time": "2023-08-09T15:53:42.847Z"
   },
   {
    "duration": 1721,
    "start_time": "2023-08-09T15:53:56.535Z"
   },
   {
    "duration": 1762,
    "start_time": "2023-08-09T15:53:58.258Z"
   },
   {
    "duration": 48,
    "start_time": "2023-08-09T15:54:00.023Z"
   },
   {
    "duration": 39,
    "start_time": "2023-08-09T15:54:00.073Z"
   },
   {
    "duration": 77,
    "start_time": "2023-08-09T15:54:00.114Z"
   },
   {
    "duration": 78240,
    "start_time": "2023-08-09T15:54:00.193Z"
   },
   {
    "duration": 55,
    "start_time": "2023-08-09T15:55:18.436Z"
   },
   {
    "duration": 11381,
    "start_time": "2023-08-09T15:55:18.493Z"
   },
   {
    "duration": 5,
    "start_time": "2023-08-09T15:55:29.876Z"
   },
   {
    "duration": 28,
    "start_time": "2023-08-09T15:55:29.882Z"
   },
   {
    "duration": 36021,
    "start_time": "2023-08-09T15:55:29.912Z"
   },
   {
    "duration": 213,
    "start_time": "2023-08-09T15:56:05.935Z"
   },
   {
    "duration": 10,
    "start_time": "2023-08-09T15:56:06.151Z"
   },
   {
    "duration": 9133,
    "start_time": "2023-08-09T15:56:06.163Z"
   },
   {
    "duration": 1847,
    "start_time": "2023-08-09T15:56:15.298Z"
   },
   {
    "duration": 3,
    "start_time": "2023-08-09T15:56:17.147Z"
   },
   {
    "duration": 28,
    "start_time": "2023-08-09T15:56:17.158Z"
   },
   {
    "duration": 25,
    "start_time": "2023-08-09T15:56:17.188Z"
   },
   {
    "duration": 222,
    "start_time": "2023-08-09T15:56:17.215Z"
   },
   {
    "duration": 2015,
    "start_time": "2023-08-10T09:29:11.059Z"
   },
   {
    "duration": 1751,
    "start_time": "2023-08-10T09:29:22.671Z"
   },
   {
    "duration": 11,
    "start_time": "2023-08-10T09:31:24.909Z"
   },
   {
    "duration": 8,
    "start_time": "2023-08-10T09:31:26.403Z"
   },
   {
    "duration": 1099,
    "start_time": "2023-08-10T09:31:27.609Z"
   },
   {
    "duration": 1010,
    "start_time": "2023-08-10T09:32:31.151Z"
   },
   {
    "duration": 1095,
    "start_time": "2023-08-10T09:32:45.171Z"
   },
   {
    "duration": 1119,
    "start_time": "2023-08-10T09:33:14.363Z"
   },
   {
    "duration": 1133,
    "start_time": "2023-08-10T09:33:26.367Z"
   },
   {
    "duration": 5,
    "start_time": "2023-08-10T09:33:41.271Z"
   },
   {
    "duration": 1904,
    "start_time": "2023-08-10T09:33:41.833Z"
   },
   {
    "duration": 12,
    "start_time": "2023-08-10T09:33:43.739Z"
   },
   {
    "duration": 20,
    "start_time": "2023-08-10T09:33:43.753Z"
   },
   {
    "duration": 15,
    "start_time": "2023-08-10T09:33:43.775Z"
   },
   {
    "duration": 1065,
    "start_time": "2023-08-10T09:33:45.267Z"
   },
   {
    "duration": 1067,
    "start_time": "2023-08-10T09:34:19.675Z"
   },
   {
    "duration": 1120,
    "start_time": "2023-08-10T09:34:42.765Z"
   },
   {
    "duration": 1112,
    "start_time": "2023-08-10T09:35:05.872Z"
   },
   {
    "duration": 5,
    "start_time": "2023-08-10T09:38:26.659Z"
   },
   {
    "duration": 4,
    "start_time": "2023-08-10T09:38:58.611Z"
   },
   {
    "duration": 33,
    "start_time": "2023-08-10T09:40:17.967Z"
   },
   {
    "duration": 1285,
    "start_time": "2023-08-10T09:50:27.678Z"
   },
   {
    "duration": 7,
    "start_time": "2023-08-10T09:50:30.184Z"
   },
   {
    "duration": 5,
    "start_time": "2023-08-10T09:50:47.240Z"
   },
   {
    "duration": 3000,
    "start_time": "2023-08-10T09:50:57.265Z"
   },
   {
    "duration": 1252,
    "start_time": "2023-08-10T09:51:38.269Z"
   },
   {
    "duration": 10,
    "start_time": "2023-08-10T09:51:42.780Z"
   },
   {
    "duration": 1122,
    "start_time": "2023-08-10T09:52:13.764Z"
   },
   {
    "duration": 313,
    "start_time": "2023-08-10T09:53:26.267Z"
   },
   {
    "duration": 615,
    "start_time": "2023-08-10T09:54:53.254Z"
   },
   {
    "duration": 23,
    "start_time": "2023-08-10T09:55:14.953Z"
   },
   {
    "duration": 63,
    "start_time": "2023-08-10T09:55:59.325Z"
   },
   {
    "duration": 36,
    "start_time": "2023-08-10T09:56:03.574Z"
   },
   {
    "duration": 38,
    "start_time": "2023-08-10T09:56:24.953Z"
   },
   {
    "duration": 11,
    "start_time": "2023-08-10T09:56:28.093Z"
   },
   {
    "duration": 5,
    "start_time": "2023-08-10T09:56:36.246Z"
   },
   {
    "duration": 2122,
    "start_time": "2023-08-10T09:56:37.055Z"
   },
   {
    "duration": 11,
    "start_time": "2023-08-10T09:56:39.180Z"
   },
   {
    "duration": 22,
    "start_time": "2023-08-10T09:56:39.192Z"
   },
   {
    "duration": 10,
    "start_time": "2023-08-10T09:56:39.216Z"
   },
   {
    "duration": 34,
    "start_time": "2023-08-10T09:56:53.583Z"
   },
   {
    "duration": 16,
    "start_time": "2023-08-10T09:56:54.105Z"
   },
   {
    "duration": 2737,
    "start_time": "2023-08-10T09:57:07.800Z"
   },
   {
    "duration": 34,
    "start_time": "2023-08-10T09:57:10.539Z"
   },
   {
    "duration": 11,
    "start_time": "2023-08-10T09:57:10.575Z"
   },
   {
    "duration": 20,
    "start_time": "2023-08-10T09:57:10.588Z"
   },
   {
    "duration": 17,
    "start_time": "2023-08-10T09:57:10.984Z"
   },
   {
    "duration": 4387,
    "start_time": "2023-08-10T09:57:14.355Z"
   },
   {
    "duration": 13,
    "start_time": "2023-08-10T09:57:20.458Z"
   },
   {
    "duration": 2085,
    "start_time": "2023-08-10T09:58:08.584Z"
   },
   {
    "duration": 12,
    "start_time": "2023-08-10T09:58:10.755Z"
   },
   {
    "duration": 8,
    "start_time": "2023-08-10T09:58:11.005Z"
   },
   {
    "duration": 9,
    "start_time": "2023-08-10T09:58:11.256Z"
   },
   {
    "duration": 17,
    "start_time": "2023-08-10T09:58:13.486Z"
   },
   {
    "duration": 9,
    "start_time": "2023-08-10T09:58:13.851Z"
   },
   {
    "duration": 10,
    "start_time": "2023-08-10T09:58:14.624Z"
   },
   {
    "duration": 11,
    "start_time": "2023-08-10T09:59:50.284Z"
   },
   {
    "duration": 1742,
    "start_time": "2023-08-10T10:00:38.599Z"
   },
   {
    "duration": 1446,
    "start_time": "2023-08-10T10:00:40.343Z"
   },
   {
    "duration": 15,
    "start_time": "2023-08-10T10:00:41.791Z"
   },
   {
    "duration": 18,
    "start_time": "2023-08-10T10:00:41.808Z"
   },
   {
    "duration": 20,
    "start_time": "2023-08-10T10:00:41.828Z"
   },
   {
    "duration": 1469,
    "start_time": "2023-08-10T10:00:43.941Z"
   },
   {
    "duration": 22,
    "start_time": "2023-08-10T10:00:52.780Z"
   },
   {
    "duration": 23,
    "start_time": "2023-08-10T10:01:29.526Z"
   },
   {
    "duration": 22,
    "start_time": "2023-08-10T10:08:20.539Z"
   },
   {
    "duration": 23,
    "start_time": "2023-08-10T10:08:24.208Z"
   },
   {
    "duration": 22,
    "start_time": "2023-08-10T10:08:27.883Z"
   },
   {
    "duration": 21,
    "start_time": "2023-08-10T10:08:49.613Z"
   },
   {
    "duration": 20,
    "start_time": "2023-08-10T10:08:55.638Z"
   },
   {
    "duration": 22,
    "start_time": "2023-08-10T10:09:00.313Z"
   },
   {
    "duration": 21,
    "start_time": "2023-08-10T10:09:04.166Z"
   },
   {
    "duration": 22,
    "start_time": "2023-08-10T10:09:07.665Z"
   },
   {
    "duration": 21,
    "start_time": "2023-08-10T10:09:24.280Z"
   },
   {
    "duration": 35,
    "start_time": "2023-08-10T10:09:36.641Z"
   },
   {
    "duration": 22,
    "start_time": "2023-08-10T10:10:08.588Z"
   },
   {
    "duration": 597,
    "start_time": "2023-08-10T10:11:33.920Z"
   },
   {
    "duration": 111,
    "start_time": "2023-08-10T10:11:40.527Z"
   },
   {
    "duration": 8,
    "start_time": "2023-08-10T10:11:49.296Z"
   },
   {
    "duration": 547,
    "start_time": "2023-08-10T10:11:52.659Z"
   },
   {
    "duration": 102,
    "start_time": "2023-08-10T10:11:54.670Z"
   },
   {
    "duration": 527,
    "start_time": "2023-08-10T10:12:21.163Z"
   },
   {
    "duration": 99,
    "start_time": "2023-08-10T10:12:23.029Z"
   },
   {
    "duration": 540,
    "start_time": "2023-08-10T10:12:26.013Z"
   },
   {
    "duration": 102,
    "start_time": "2023-08-10T10:12:26.555Z"
   },
   {
    "duration": 6,
    "start_time": "2023-08-10T10:12:59.259Z"
   },
   {
    "duration": 1630,
    "start_time": "2023-08-10T10:12:59.376Z"
   },
   {
    "duration": 11,
    "start_time": "2023-08-10T10:13:01.008Z"
   },
   {
    "duration": 69,
    "start_time": "2023-08-10T10:13:01.021Z"
   },
   {
    "duration": 100,
    "start_time": "2023-08-10T10:13:01.092Z"
   },
   {
    "duration": 83,
    "start_time": "2023-08-10T10:13:01.193Z"
   },
   {
    "duration": 108,
    "start_time": "2023-08-10T10:13:01.278Z"
   },
   {
    "duration": 461,
    "start_time": "2023-08-10T10:13:01.387Z"
   },
   {
    "duration": 104,
    "start_time": "2023-08-10T10:13:01.850Z"
   },
   {
    "duration": 375,
    "start_time": "2023-08-10T10:14:13.171Z"
   },
   {
    "duration": 108,
    "start_time": "2023-08-10T10:14:13.548Z"
   },
   {
    "duration": 12,
    "start_time": "2023-08-10T10:14:42.963Z"
   },
   {
    "duration": 393,
    "start_time": "2023-08-10T10:14:52.985Z"
   },
   {
    "duration": 9,
    "start_time": "2023-08-10T10:14:53.380Z"
   },
   {
    "duration": 486,
    "start_time": "2023-08-10T10:14:55.220Z"
   },
   {
    "duration": 0,
    "start_time": "2023-08-10T10:14:55.708Z"
   },
   {
    "duration": 357,
    "start_time": "2023-08-10T10:15:27.274Z"
   },
   {
    "duration": 11,
    "start_time": "2023-08-10T10:15:28.889Z"
   },
   {
    "duration": 1552,
    "start_time": "2023-08-10T10:15:46.210Z"
   },
   {
    "duration": 32,
    "start_time": "2023-08-10T10:15:47.764Z"
   },
   {
    "duration": 7,
    "start_time": "2023-08-10T10:15:47.797Z"
   },
   {
    "duration": 21,
    "start_time": "2023-08-10T10:15:47.806Z"
   },
   {
    "duration": 4308,
    "start_time": "2023-08-10T10:15:47.829Z"
   },
   {
    "duration": 155051,
    "start_time": "2023-08-10T10:15:52.139Z"
   },
   {
    "duration": 0,
    "start_time": "2023-08-10T10:18:27.192Z"
   },
   {
    "duration": 0,
    "start_time": "2023-08-10T10:18:27.193Z"
   },
   {
    "duration": 1678,
    "start_time": "2023-08-10T10:18:51.298Z"
   },
   {
    "duration": 11,
    "start_time": "2023-08-10T10:18:52.978Z"
   },
   {
    "duration": 29,
    "start_time": "2023-08-10T10:18:52.990Z"
   },
   {
    "duration": 28,
    "start_time": "2023-08-10T10:18:53.021Z"
   },
   {
    "duration": 49,
    "start_time": "2023-08-10T10:18:53.801Z"
   },
   {
    "duration": 4945,
    "start_time": "2023-08-10T10:19:00.481Z"
   },
   {
    "duration": 56,
    "start_time": "2023-08-10T10:19:29.649Z"
   },
   {
    "duration": 7,
    "start_time": "2023-08-10T10:19:29.839Z"
   },
   {
    "duration": 1821,
    "start_time": "2023-08-10T10:19:32.788Z"
   },
   {
    "duration": 1725,
    "start_time": "2023-08-10T10:19:34.611Z"
   },
   {
    "duration": 35,
    "start_time": "2023-08-10T10:19:36.761Z"
   },
   {
    "duration": 12,
    "start_time": "2023-08-10T10:19:37.430Z"
   },
   {
    "duration": 10,
    "start_time": "2023-08-10T10:19:37.674Z"
   },
   {
    "duration": 4327,
    "start_time": "2023-08-10T10:19:38.588Z"
   },
   {
    "duration": 490877,
    "start_time": "2023-08-10T10:19:42.918Z"
   },
   {
    "duration": 41,
    "start_time": "2023-08-10T10:27:53.800Z"
   },
   {
    "duration": 11,
    "start_time": "2023-08-10T10:27:53.843Z"
   },
   {
    "duration": 7254,
    "start_time": "2023-08-10T10:27:53.867Z"
   },
   {
    "duration": 5,
    "start_time": "2023-08-10T10:28:01.123Z"
   },
   {
    "duration": 64,
    "start_time": "2023-08-10T10:28:01.130Z"
   },
   {
    "duration": 37333,
    "start_time": "2023-08-10T10:28:01.196Z"
   },
   {
    "duration": 203,
    "start_time": "2023-08-10T10:28:38.530Z"
   },
   {
    "duration": 3,
    "start_time": "2023-08-10T10:28:38.736Z"
   },
   {
    "duration": 9158,
    "start_time": "2023-08-10T10:28:38.740Z"
   },
   {
    "duration": 1915,
    "start_time": "2023-08-10T10:28:47.899Z"
   },
   {
    "duration": 2,
    "start_time": "2023-08-10T10:28:49.816Z"
   },
   {
    "duration": 9,
    "start_time": "2023-08-10T10:28:49.820Z"
   },
   {
    "duration": 13,
    "start_time": "2023-08-10T10:28:49.831Z"
   },
   {
    "duration": 198,
    "start_time": "2023-08-10T10:28:49.845Z"
   }
  ],
  "kernelspec": {
   "display_name": "Python 3 (ipykernel)",
   "language": "python",
   "name": "python3"
  },
  "language_info": {
   "codemirror_mode": {
    "name": "ipython",
    "version": 3
   },
   "file_extension": ".py",
   "mimetype": "text/x-python",
   "name": "python",
   "nbconvert_exporter": "python",
   "pygments_lexer": "ipython3",
   "version": "3.9.13"
  },
  "toc": {
   "base_numbering": 1,
   "nav_menu": {},
   "number_sections": true,
   "sideBar": true,
   "skip_h1_title": true,
   "title_cell": "Содержание",
   "title_sidebar": "Contents",
   "toc_cell": true,
   "toc_position": {
    "height": "calc(100% - 180px)",
    "left": "10px",
    "top": "150px",
    "width": "302.391px"
   },
   "toc_section_display": true,
   "toc_window_display": false
  }
 },
 "nbformat": 4,
 "nbformat_minor": 2
}
