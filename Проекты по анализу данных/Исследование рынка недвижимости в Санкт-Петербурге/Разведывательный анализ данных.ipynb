{
 "cells": [
  {
   "cell_type": "code",
   "execution_count": 1,
   "id": "40c2f49a",
   "metadata": {},
   "outputs": [],
   "source": [
    "import pandas as pd\n",
    "import matplotlib.pyplot as plt\n",
    "\n",
    "pd.set_option('display.max_columns', 30)"
   ]
  },
  {
   "cell_type": "markdown",
   "id": "04d6e2f6",
   "metadata": {},
   "source": [
    "## Загрузка данных и анализ общей информации"
   ]
  },
  {
   "cell_type": "code",
   "execution_count": 2,
   "id": "b62db3b7",
   "metadata": {},
   "outputs": [],
   "source": [
    "data = pd.read_csv('https://code.s3.yandex.net/datasets/real_estate_data.csv', sep='\\t')"
   ]
  },
  {
   "cell_type": "code",
   "execution_count": 3,
   "id": "e325d41b",
   "metadata": {},
   "outputs": [
    {
     "data": {
      "text/html": [
       "<div>\n",
       "<style scoped>\n",
       "    .dataframe tbody tr th:only-of-type {\n",
       "        vertical-align: middle;\n",
       "    }\n",
       "\n",
       "    .dataframe tbody tr th {\n",
       "        vertical-align: top;\n",
       "    }\n",
       "\n",
       "    .dataframe thead th {\n",
       "        text-align: right;\n",
       "    }\n",
       "</style>\n",
       "<table border=\"1\" class=\"dataframe\">\n",
       "  <thead>\n",
       "    <tr style=\"text-align: right;\">\n",
       "      <th></th>\n",
       "      <th>total_images</th>\n",
       "      <th>last_price</th>\n",
       "      <th>total_area</th>\n",
       "      <th>first_day_exposition</th>\n",
       "      <th>rooms</th>\n",
       "      <th>ceiling_height</th>\n",
       "      <th>floors_total</th>\n",
       "      <th>living_area</th>\n",
       "      <th>floor</th>\n",
       "      <th>is_apartment</th>\n",
       "      <th>studio</th>\n",
       "      <th>open_plan</th>\n",
       "      <th>kitchen_area</th>\n",
       "      <th>balcony</th>\n",
       "      <th>locality_name</th>\n",
       "      <th>airports_nearest</th>\n",
       "      <th>cityCenters_nearest</th>\n",
       "      <th>parks_around3000</th>\n",
       "      <th>parks_nearest</th>\n",
       "      <th>ponds_around3000</th>\n",
       "      <th>ponds_nearest</th>\n",
       "      <th>days_exposition</th>\n",
       "    </tr>\n",
       "  </thead>\n",
       "  <tbody>\n",
       "    <tr>\n",
       "      <th>0</th>\n",
       "      <td>20</td>\n",
       "      <td>13000000.0</td>\n",
       "      <td>108.0</td>\n",
       "      <td>2019-03-07T00:00:00</td>\n",
       "      <td>3</td>\n",
       "      <td>2.70</td>\n",
       "      <td>16.0</td>\n",
       "      <td>51.0</td>\n",
       "      <td>8</td>\n",
       "      <td>NaN</td>\n",
       "      <td>False</td>\n",
       "      <td>False</td>\n",
       "      <td>25.0</td>\n",
       "      <td>NaN</td>\n",
       "      <td>Санкт-Петербург</td>\n",
       "      <td>18863.0</td>\n",
       "      <td>16028.0</td>\n",
       "      <td>1.0</td>\n",
       "      <td>482.0</td>\n",
       "      <td>2.0</td>\n",
       "      <td>755.0</td>\n",
       "      <td>NaN</td>\n",
       "    </tr>\n",
       "    <tr>\n",
       "      <th>1</th>\n",
       "      <td>7</td>\n",
       "      <td>3350000.0</td>\n",
       "      <td>40.4</td>\n",
       "      <td>2018-12-04T00:00:00</td>\n",
       "      <td>1</td>\n",
       "      <td>NaN</td>\n",
       "      <td>11.0</td>\n",
       "      <td>18.6</td>\n",
       "      <td>1</td>\n",
       "      <td>NaN</td>\n",
       "      <td>False</td>\n",
       "      <td>False</td>\n",
       "      <td>11.0</td>\n",
       "      <td>2.0</td>\n",
       "      <td>посёлок Шушары</td>\n",
       "      <td>12817.0</td>\n",
       "      <td>18603.0</td>\n",
       "      <td>0.0</td>\n",
       "      <td>NaN</td>\n",
       "      <td>0.0</td>\n",
       "      <td>NaN</td>\n",
       "      <td>81.0</td>\n",
       "    </tr>\n",
       "    <tr>\n",
       "      <th>2</th>\n",
       "      <td>10</td>\n",
       "      <td>5196000.0</td>\n",
       "      <td>56.0</td>\n",
       "      <td>2015-08-20T00:00:00</td>\n",
       "      <td>2</td>\n",
       "      <td>NaN</td>\n",
       "      <td>5.0</td>\n",
       "      <td>34.3</td>\n",
       "      <td>4</td>\n",
       "      <td>NaN</td>\n",
       "      <td>False</td>\n",
       "      <td>False</td>\n",
       "      <td>8.3</td>\n",
       "      <td>0.0</td>\n",
       "      <td>Санкт-Петербург</td>\n",
       "      <td>21741.0</td>\n",
       "      <td>13933.0</td>\n",
       "      <td>1.0</td>\n",
       "      <td>90.0</td>\n",
       "      <td>2.0</td>\n",
       "      <td>574.0</td>\n",
       "      <td>558.0</td>\n",
       "    </tr>\n",
       "    <tr>\n",
       "      <th>3</th>\n",
       "      <td>0</td>\n",
       "      <td>64900000.0</td>\n",
       "      <td>159.0</td>\n",
       "      <td>2015-07-24T00:00:00</td>\n",
       "      <td>3</td>\n",
       "      <td>NaN</td>\n",
       "      <td>14.0</td>\n",
       "      <td>NaN</td>\n",
       "      <td>9</td>\n",
       "      <td>NaN</td>\n",
       "      <td>False</td>\n",
       "      <td>False</td>\n",
       "      <td>NaN</td>\n",
       "      <td>0.0</td>\n",
       "      <td>Санкт-Петербург</td>\n",
       "      <td>28098.0</td>\n",
       "      <td>6800.0</td>\n",
       "      <td>2.0</td>\n",
       "      <td>84.0</td>\n",
       "      <td>3.0</td>\n",
       "      <td>234.0</td>\n",
       "      <td>424.0</td>\n",
       "    </tr>\n",
       "    <tr>\n",
       "      <th>4</th>\n",
       "      <td>2</td>\n",
       "      <td>10000000.0</td>\n",
       "      <td>100.0</td>\n",
       "      <td>2018-06-19T00:00:00</td>\n",
       "      <td>2</td>\n",
       "      <td>3.03</td>\n",
       "      <td>14.0</td>\n",
       "      <td>32.0</td>\n",
       "      <td>13</td>\n",
       "      <td>NaN</td>\n",
       "      <td>False</td>\n",
       "      <td>False</td>\n",
       "      <td>41.0</td>\n",
       "      <td>NaN</td>\n",
       "      <td>Санкт-Петербург</td>\n",
       "      <td>31856.0</td>\n",
       "      <td>8098.0</td>\n",
       "      <td>2.0</td>\n",
       "      <td>112.0</td>\n",
       "      <td>1.0</td>\n",
       "      <td>48.0</td>\n",
       "      <td>121.0</td>\n",
       "    </tr>\n",
       "  </tbody>\n",
       "</table>\n",
       "</div>"
      ],
      "text/plain": [
       "   total_images  last_price  total_area first_day_exposition  rooms  \\\n",
       "0            20  13000000.0       108.0  2019-03-07T00:00:00      3   \n",
       "1             7   3350000.0        40.4  2018-12-04T00:00:00      1   \n",
       "2            10   5196000.0        56.0  2015-08-20T00:00:00      2   \n",
       "3             0  64900000.0       159.0  2015-07-24T00:00:00      3   \n",
       "4             2  10000000.0       100.0  2018-06-19T00:00:00      2   \n",
       "\n",
       "   ceiling_height  floors_total  living_area  floor is_apartment  studio  \\\n",
       "0            2.70          16.0         51.0      8          NaN   False   \n",
       "1             NaN          11.0         18.6      1          NaN   False   \n",
       "2             NaN           5.0         34.3      4          NaN   False   \n",
       "3             NaN          14.0          NaN      9          NaN   False   \n",
       "4            3.03          14.0         32.0     13          NaN   False   \n",
       "\n",
       "   open_plan  kitchen_area  balcony    locality_name  airports_nearest  \\\n",
       "0      False          25.0      NaN  Санкт-Петербург           18863.0   \n",
       "1      False          11.0      2.0   посёлок Шушары           12817.0   \n",
       "2      False           8.3      0.0  Санкт-Петербург           21741.0   \n",
       "3      False           NaN      0.0  Санкт-Петербург           28098.0   \n",
       "4      False          41.0      NaN  Санкт-Петербург           31856.0   \n",
       "\n",
       "   cityCenters_nearest  parks_around3000  parks_nearest  ponds_around3000  \\\n",
       "0              16028.0               1.0          482.0               2.0   \n",
       "1              18603.0               0.0            NaN               0.0   \n",
       "2              13933.0               1.0           90.0               2.0   \n",
       "3               6800.0               2.0           84.0               3.0   \n",
       "4               8098.0               2.0          112.0               1.0   \n",
       "\n",
       "   ponds_nearest  days_exposition  \n",
       "0          755.0              NaN  \n",
       "1            NaN             81.0  \n",
       "2          574.0            558.0  \n",
       "3          234.0            424.0  \n",
       "4           48.0            121.0  "
      ]
     },
     "execution_count": 3,
     "metadata": {},
     "output_type": "execute_result"
    }
   ],
   "source": [
    "data.head()"
   ]
  },
  {
   "cell_type": "code",
   "execution_count": 4,
   "id": "a5fa374a",
   "metadata": {},
   "outputs": [
    {
     "name": "stdout",
     "output_type": "stream",
     "text": [
      "<class 'pandas.core.frame.DataFrame'>\n",
      "RangeIndex: 23699 entries, 0 to 23698\n",
      "Data columns (total 22 columns):\n",
      " #   Column                Non-Null Count  Dtype  \n",
      "---  ------                --------------  -----  \n",
      " 0   total_images          23699 non-null  int64  \n",
      " 1   last_price            23699 non-null  float64\n",
      " 2   total_area            23699 non-null  float64\n",
      " 3   first_day_exposition  23699 non-null  object \n",
      " 4   rooms                 23699 non-null  int64  \n",
      " 5   ceiling_height        14504 non-null  float64\n",
      " 6   floors_total          23613 non-null  float64\n",
      " 7   living_area           21796 non-null  float64\n",
      " 8   floor                 23699 non-null  int64  \n",
      " 9   is_apartment          2775 non-null   object \n",
      " 10  studio                23699 non-null  bool   \n",
      " 11  open_plan             23699 non-null  bool   \n",
      " 12  kitchen_area          21421 non-null  float64\n",
      " 13  balcony               12180 non-null  float64\n",
      " 14  locality_name         23650 non-null  object \n",
      " 15  airports_nearest      18157 non-null  float64\n",
      " 16  cityCenters_nearest   18180 non-null  float64\n",
      " 17  parks_around3000      18181 non-null  float64\n",
      " 18  parks_nearest         8079 non-null   float64\n",
      " 19  ponds_around3000      18181 non-null  float64\n",
      " 20  ponds_nearest         9110 non-null   float64\n",
      " 21  days_exposition       20518 non-null  float64\n",
      "dtypes: bool(2), float64(14), int64(3), object(3)\n",
      "memory usage: 3.7+ MB\n"
     ]
    }
   ],
   "source": [
    "data.info()"
   ]
  },
  {
   "cell_type": "code",
   "execution_count": 5,
   "id": "0ac0db8c",
   "metadata": {},
   "outputs": [
    {
     "data": {
      "image/png": "[encoded data removed]",
      "text/plain": [
       "<Figure size 2000x2000 with 20 Axes>"
      ]
     },
     "metadata": {},
     "output_type": "display_data"
    }
   ],
   "source": [
    "data.hist(figsize=(20, 20), bins=30)\n",
    "plt.show()"
   ]
  },
  {
   "cell_type": "markdown",
   "id": "44b4a1fe",
   "metadata": {},
   "source": [
    "После первоначального анализа данных можно заметить, что для описания недвижимости используется 22 фактора - включая как категориальные, так и числовые переменные. Однако, некоторые из этих факторов содержат пропущенные значения, которые мы будем исправлять в дальнейшем. \n",
    "\n",
    "На основе даже первоначальных общих гистограмм (которые содержат пропуски в данных) можно сделать некоторые выводы и о квартирах, и о платформе, на которой были размещены объявления. Так например, в факторе `total_images` виден пик около значения 20, а после наблюдается значительное снижение. Возможно, на платформу нельзя загрузить более 20 фото недвижимости бесплатно. Подробный анализ проведем далее после обработки данных."
   ]
  },
  {
   "cell_type": "markdown",
   "id": "58323913",
   "metadata": {},
   "source": [
    "## Предобработка данных\n",
    "### Обработка пропущенных значений"
   ]
  },
  {
   "cell_type": "code",
   "execution_count": 6,
   "id": "1815bf30",
   "metadata": {},
   "outputs": [
    {
     "data": {
      "text/plain": [
       "total_images                0\n",
       "last_price                  0\n",
       "total_area                  0\n",
       "first_day_exposition        0\n",
       "rooms                       0\n",
       "ceiling_height           9195\n",
       "floors_total               86\n",
       "living_area              1903\n",
       "floor                       0\n",
       "is_apartment            20924\n",
       "studio                      0\n",
       "open_plan                   0\n",
       "kitchen_area             2278\n",
       "balcony                 11519\n",
       "locality_name              49\n",
       "airports_nearest         5542\n",
       "cityCenters_nearest      5519\n",
       "parks_around3000         5518\n",
       "parks_nearest           15620\n",
       "ponds_around3000         5518\n",
       "ponds_nearest           14589\n",
       "days_exposition          3181\n",
       "dtype: int64"
      ]
     },
     "execution_count": 6,
     "metadata": {},
     "output_type": "execute_result"
    }
   ],
   "source": [
    "# оценим общее количество пропусков по столбцам\n",
    "data.isna().sum(axis=0)"
   ]
  },
  {
   "cell_type": "markdown",
   "id": "540b5d6c",
   "metadata": {},
   "source": [
    "#### `ceiling_height` - высота потолков (м)"
   ]
  },
  {
   "cell_type": "code",
   "execution_count": 7,
   "id": "815ae666",
   "metadata": {},
   "outputs": [
    {
     "name": "stdout",
     "output_type": "stream",
     "text": [
      "Процент пропущенных значений: 0.39\n"
     ]
    }
   ],
   "source": [
    "print(f\"Процент пропущенных значений: {data['ceiling_height'].isna().mean():0.2f}\")"
   ]
  },
  {
   "cell_type": "code",
   "execution_count": 8,
   "id": "eb5e38fa",
   "metadata": {},
   "outputs": [
    {
     "data": {
      "text/plain": [
       "count    14504.000000\n",
       "mean         2.771499\n",
       "std          1.261056\n",
       "min          1.000000\n",
       "25%          2.520000\n",
       "50%          2.650000\n",
       "75%          2.800000\n",
       "max        100.000000\n",
       "Name: ceiling_height, dtype: float64"
      ]
     },
     "execution_count": 8,
     "metadata": {},
     "output_type": "execute_result"
    }
   ],
   "source": [
    "data['ceiling_height'].describe()"
   ]
  },
  {
   "cell_type": "markdown",
   "id": "493a5a98",
   "metadata": {},
   "source": [
    "В данных представлен достаточно большой процент пропусков. Заменим их медианным значением, группируя по количеству комнат. Выберем этот фактор для группировки, основываясь на том, что высота потолка зависит от площади квартиры, но площаль является непреревной величиной и логичнее использовать именно количетсво комнат, которое, в свою очередь, зависит от площади квартиры. \n",
    "\n",
    "Напишем функцию для этой задачи, которая вернет 0, 1, 2, 3, 4 или 5 и более комнат. На основе таких категорий правильнее искать медиану, так как мы скорее всего не попадем в ситуацию, когда есть только одна квартира с n-ым количеством комнат для котой не указана высота потолка (как, например, квартира с 19 комнатами)."
   ]
  },
  {
   "cell_type": "code",
   "execution_count": 9,
   "id": "bc1429d9",
   "metadata": {},
   "outputs": [],
   "source": [
    "def categorize_rooms(rooms):\n",
    "    try:\n",
    "        if 0 <= rooms < 5:\n",
    "            return str(rooms)\n",
    "        elif rooms >= 5:\n",
    "            return '5 и более'\n",
    "        else:\n",
    "            return 'количество комнат отрицательно'\n",
    "    except TypeError:\n",
    "        return 'Неверный тип данных'"
   ]
  },
  {
   "cell_type": "code",
   "execution_count": 10,
   "id": "c7001c30",
   "metadata": {},
   "outputs": [
    {
     "data": {
      "text/html": [
       "<div>\n",
       "<style scoped>\n",
       "    .dataframe tbody tr th:only-of-type {\n",
       "        vertical-align: middle;\n",
       "    }\n",
       "\n",
       "    .dataframe tbody tr th {\n",
       "        vertical-align: top;\n",
       "    }\n",
       "\n",
       "    .dataframe thead tr th {\n",
       "        text-align: left;\n",
       "    }\n",
       "\n",
       "    .dataframe thead tr:last-of-type th {\n",
       "        text-align: right;\n",
       "    }\n",
       "</style>\n",
       "<table border=\"1\" class=\"dataframe\">\n",
       "  <thead>\n",
       "    <tr>\n",
       "      <th></th>\n",
       "      <th>median</th>\n",
       "      <th>count</th>\n",
       "    </tr>\n",
       "    <tr>\n",
       "      <th></th>\n",
       "      <th>ceiling_height</th>\n",
       "      <th>ceiling_height</th>\n",
       "    </tr>\n",
       "    <tr>\n",
       "      <th>rooms_cat</th>\n",
       "      <th></th>\n",
       "      <th></th>\n",
       "    </tr>\n",
       "  </thead>\n",
       "  <tbody>\n",
       "    <tr>\n",
       "      <th>0</th>\n",
       "      <td>2.75</td>\n",
       "      <td>82</td>\n",
       "    </tr>\n",
       "    <tr>\n",
       "      <th>1</th>\n",
       "      <td>2.64</td>\n",
       "      <td>4613</td>\n",
       "    </tr>\n",
       "    <tr>\n",
       "      <th>2</th>\n",
       "      <td>2.60</td>\n",
       "      <td>4850</td>\n",
       "    </tr>\n",
       "    <tr>\n",
       "      <th>3</th>\n",
       "      <td>2.65</td>\n",
       "      <td>3789</td>\n",
       "    </tr>\n",
       "    <tr>\n",
       "      <th>4</th>\n",
       "      <td>2.80</td>\n",
       "      <td>800</td>\n",
       "    </tr>\n",
       "    <tr>\n",
       "      <th>5 и более</th>\n",
       "      <td>3.20</td>\n",
       "      <td>370</td>\n",
       "    </tr>\n",
       "  </tbody>\n",
       "</table>\n",
       "</div>"
      ],
      "text/plain": [
       "                  median          count\n",
       "          ceiling_height ceiling_height\n",
       "rooms_cat                              \n",
       "0                   2.75             82\n",
       "1                   2.64           4613\n",
       "2                   2.60           4850\n",
       "3                   2.65           3789\n",
       "4                   2.80            800\n",
       "5 и более           3.20            370"
      ]
     },
     "execution_count": 10,
     "metadata": {},
     "output_type": "execute_result"
    }
   ],
   "source": [
    "# добавим новый столбец для количества комнат\n",
    "data['rooms_cat'] = data['rooms'].apply(lambda x: categorize_rooms(x))\n",
    "data.pivot_table(index='rooms_cat', values='ceiling_height', aggfunc=['median', 'count'])"
   ]
  },
  {
   "cell_type": "markdown",
   "id": "7f487f05",
   "metadata": {},
   "source": [
    "Догадка подтвердилась. Значения медиан выглядят адекватно и действительно увеличиваются при увеличении количества комнат."
   ]
  },
  {
   "cell_type": "code",
   "execution_count": 11,
   "id": "3c827bb5",
   "metadata": {},
   "outputs": [],
   "source": [
    "# произведем замену\n",
    "for t in data['rooms_cat'].unique():\n",
    "    data.loc[(data['rooms_cat'] == t) & (data['ceiling_height'].isna()), 'ceiling_height'] = \\\n",
    "    data.loc[(data['rooms_cat'] == t), 'ceiling_height'].median()"
   ]
  },
  {
   "cell_type": "code",
   "execution_count": 12,
   "id": "22acdf07",
   "metadata": {},
   "outputs": [
    {
     "data": {
      "text/plain": [
       "0.0"
      ]
     },
     "execution_count": 12,
     "metadata": {},
     "output_type": "execute_result"
    }
   ],
   "source": [
    "data['ceiling_height'].isna().mean()"
   ]
  },
  {
   "cell_type": "markdown",
   "id": "55e48484",
   "metadata": {},
   "source": [
    "Убедились, что пропущенные значения действительно были заменены. В дальнейшем проверим это после всех замен."
   ]
  },
  {
   "cell_type": "markdown",
   "id": "41b19020",
   "metadata": {},
   "source": [
    "#### `floors_total` - всего этажей в доме"
   ]
  },
  {
   "cell_type": "code",
   "execution_count": 13,
   "id": "d164cd8d",
   "metadata": {},
   "outputs": [
    {
     "name": "stdout",
     "output_type": "stream",
     "text": [
      "Процент пропущенных значений: 0.004\n",
      "Медианной количество этажей в доме: 9.0\n"
     ]
    }
   ],
   "source": [
    "print(f\"Процент пропущенных значений: {data['floors_total'].isna().mean():0.3f}\")\n",
    "print(f\"Медианной количество этажей в доме: {data['floors_total'].median()}\")"
   ]
  },
  {
   "cell_type": "markdown",
   "id": "f965afe6",
   "metadata": {},
   "source": [
    "Пропущенные значения в факторе общего количетсва этажей в доме составляют <1%, поэтому просто заменит их общей медианой по всему столбцу, которая равняется 9 этажам."
   ]
  },
  {
   "cell_type": "code",
   "execution_count": 14,
   "id": "d03b828c",
   "metadata": {},
   "outputs": [],
   "source": [
    "data['floors_total'] = data['floors_total'].fillna(data['floors_total'].median())"
   ]
  },
  {
   "cell_type": "markdown",
   "id": "7315876c",
   "metadata": {},
   "source": [
    "#### `living_area` - жилая площадь в квадратных метрах (м²)"
   ]
  },
  {
   "cell_type": "code",
   "execution_count": 15,
   "id": "87719389",
   "metadata": {},
   "outputs": [
    {
     "name": "stdout",
     "output_type": "stream",
     "text": [
      "Процент пропущенных значений: 0.080\n"
     ]
    }
   ],
   "source": [
    "print(f\"Процент пропущенных значений: {data['living_area'].isna().mean():0.3f}\")"
   ]
  },
  {
   "cell_type": "markdown",
   "id": "16abda99",
   "metadata": {},
   "source": [
    "Относительно большой процент пропусков. Заполним пропуски аналогично фактору `ceiling_height`, но уже на основе общей площади квартиры. И без матрицы корреляции понятно, что чем больше общая площадь, тем больше и жилая.\n",
    "\n",
    "Напишем функцию для категоризации фактора `total_area`, который представлен в полном виде."
   ]
  },
  {
   "cell_type": "code",
   "execution_count": 16,
   "id": "7182b0f3",
   "metadata": {},
   "outputs": [],
   "source": [
    "def categorize_total_area(area):\n",
    "    try:\n",
    "        if 0 <= area < 40:\n",
    "            return '<40м'\n",
    "        elif 40 <= area < 60:\n",
    "            return '40-60м'\n",
    "        elif 60 <= area < 80:\n",
    "            return '60-80м'\n",
    "        elif 80 <= area < 100:\n",
    "            return '80-100м'\n",
    "        elif 100 <= area < 120:\n",
    "            return '100-120м'\n",
    "        elif 120 <= area < 140:\n",
    "            return '120-140м'\n",
    "        elif area >= 140:\n",
    "            return '>140м'\n",
    "        else:\n",
    "            return 'площадь отрицательная!'\n",
    "    except TypeError:\n",
    "        return 'Неверный тип данных'"
   ]
  },
  {
   "cell_type": "code",
   "execution_count": 17,
   "id": "51e27416",
   "metadata": {},
   "outputs": [
    {
     "data": {
      "text/html": [
       "<div>\n",
       "<style scoped>\n",
       "    .dataframe tbody tr th:only-of-type {\n",
       "        vertical-align: middle;\n",
       "    }\n",
       "\n",
       "    .dataframe tbody tr th {\n",
       "        vertical-align: top;\n",
       "    }\n",
       "\n",
       "    .dataframe thead tr th {\n",
       "        text-align: left;\n",
       "    }\n",
       "\n",
       "    .dataframe thead tr:last-of-type th {\n",
       "        text-align: right;\n",
       "    }\n",
       "</style>\n",
       "<table border=\"1\" class=\"dataframe\">\n",
       "  <thead>\n",
       "    <tr>\n",
       "      <th></th>\n",
       "      <th>median</th>\n",
       "      <th>count</th>\n",
       "    </tr>\n",
       "    <tr>\n",
       "      <th></th>\n",
       "      <th>ceiling_height</th>\n",
       "      <th>ceiling_height</th>\n",
       "    </tr>\n",
       "    <tr>\n",
       "      <th>total_area_cat</th>\n",
       "      <th></th>\n",
       "      <th></th>\n",
       "    </tr>\n",
       "  </thead>\n",
       "  <tbody>\n",
       "    <tr>\n",
       "      <th>100-120м</th>\n",
       "      <td>2.80</td>\n",
       "      <td>810</td>\n",
       "    </tr>\n",
       "    <tr>\n",
       "      <th>120-140м</th>\n",
       "      <td>3.00</td>\n",
       "      <td>393</td>\n",
       "    </tr>\n",
       "    <tr>\n",
       "      <th>40-60м</th>\n",
       "      <td>2.60</td>\n",
       "      <td>9074</td>\n",
       "    </tr>\n",
       "    <tr>\n",
       "      <th>60-80м</th>\n",
       "      <td>2.65</td>\n",
       "      <td>4978</td>\n",
       "    </tr>\n",
       "    <tr>\n",
       "      <th>80-100м</th>\n",
       "      <td>2.70</td>\n",
       "      <td>2012</td>\n",
       "    </tr>\n",
       "    <tr>\n",
       "      <th>&lt;40м</th>\n",
       "      <td>2.64</td>\n",
       "      <td>5727</td>\n",
       "    </tr>\n",
       "    <tr>\n",
       "      <th>&gt;140м</th>\n",
       "      <td>3.10</td>\n",
       "      <td>705</td>\n",
       "    </tr>\n",
       "  </tbody>\n",
       "</table>\n",
       "</div>"
      ],
      "text/plain": [
       "                       median          count\n",
       "               ceiling_height ceiling_height\n",
       "total_area_cat                              \n",
       "100-120м                 2.80            810\n",
       "120-140м                 3.00            393\n",
       "40-60м                   2.60           9074\n",
       "60-80м                   2.65           4978\n",
       "80-100м                  2.70           2012\n",
       "<40м                     2.64           5727\n",
       ">140м                    3.10            705"
      ]
     },
     "execution_count": 17,
     "metadata": {},
     "output_type": "execute_result"
    }
   ],
   "source": [
    "data['total_area_cat'] = data['total_area'].apply(lambda x: categorize_total_area(x))\n",
    "data.pivot_table(index='total_area_cat', values='ceiling_height', aggfunc=['median', 'count'])"
   ]
  },
  {
   "cell_type": "code",
   "execution_count": 18,
   "id": "9f723eb1",
   "metadata": {},
   "outputs": [],
   "source": [
    "# произведем замену\n",
    "for t in data['total_area_cat'].unique():\n",
    "    data.loc[(data['total_area_cat'] == t) & (data['living_area'].isna()), 'living_area'] = \\\n",
    "    data.loc[(data['total_area_cat'] == t), 'living_area'].median()"
   ]
  },
  {
   "cell_type": "markdown",
   "id": "ef32a680",
   "metadata": {},
   "source": [
    "#### `is_apartment` - апартаменты (булев тип)"
   ]
  },
  {
   "cell_type": "code",
   "execution_count": 19,
   "id": "e82b4b32",
   "metadata": {},
   "outputs": [
    {
     "name": "stdout",
     "output_type": "stream",
     "text": [
      "Процент пропущенных значений: 0.883\n"
     ]
    }
   ],
   "source": [
    "print(f\"Процент пропущенных значений: {data['is_apartment'].isna().mean():0.3f}\")"
   ]
  },
  {
   "cell_type": "markdown",
   "id": "ad6a2f37",
   "metadata": {},
   "source": [
    "Наблюдаем наибольший процент пропущенных значений, однако восстановить его достаточно легко, если понять, что продавцы квартир, скорее всего, не заполняли данную категорию ввиду того, что у них тип жилье - не апартаменты. Заполним все пропуски нулями."
   ]
  },
  {
   "cell_type": "code",
   "execution_count": 20,
   "id": "ec5ec534",
   "metadata": {},
   "outputs": [],
   "source": [
    "data['is_apartment'] = data['is_apartment'].fillna(0)"
   ]
  },
  {
   "cell_type": "markdown",
   "id": "d687c2b2",
   "metadata": {},
   "source": [
    "#### `kitchen_area` - площадь кухни в квадратных метрах (м²)"
   ]
  },
  {
   "cell_type": "code",
   "execution_count": 21,
   "id": "06410b6e",
   "metadata": {},
   "outputs": [
    {
     "name": "stdout",
     "output_type": "stream",
     "text": [
      "Процент пропущенных значений: 0.096\n"
     ]
    }
   ],
   "source": [
    "print(f\"Процент пропущенных значений: {data['kitchen_area'].isna().mean():0.3f}\")"
   ]
  },
  {
   "cell_type": "markdown",
   "id": "1487420f",
   "metadata": {},
   "source": [
    "Аналогично тому, как исправляли фактор жилой площади - исправим и площадь кухни, ведь площадь кухни тоже зависит от общей площади квартиры."
   ]
  },
  {
   "cell_type": "code",
   "execution_count": 22,
   "id": "2753459b",
   "metadata": {},
   "outputs": [],
   "source": [
    "# произведем замену\n",
    "for t in data['total_area_cat'].unique():\n",
    "    data.loc[(data['total_area_cat'] == t) & (data['kitchen_area'].isna()), 'kitchen_area'] = \\\n",
    "    data.loc[(data['total_area_cat'] == t), 'kitchen_area'].median()"
   ]
  },
  {
   "cell_type": "markdown",
   "id": "49675f56",
   "metadata": {},
   "source": [
    "#### `balcony` - число балконов"
   ]
  },
  {
   "cell_type": "code",
   "execution_count": 23,
   "id": "7eea35c9",
   "metadata": {},
   "outputs": [
    {
     "name": "stdout",
     "output_type": "stream",
     "text": [
      "Процент пропущенных значений: 0.486\n"
     ]
    }
   ],
   "source": [
    "print(f\"Процент пропущенных значений: {data['balcony'].isna().mean():0.3f}\")"
   ]
  },
  {
   "cell_type": "markdown",
   "id": "499312c4",
   "metadata": {},
   "source": [
    "Как и в факторе `is_apartment` продавцы, скорее всего, не указывали ничего в графе `balcony`, если у нет нет ни одного балкона. Заменим все пропуски нулями."
   ]
  },
  {
   "cell_type": "code",
   "execution_count": 24,
   "id": "a0ca33bc",
   "metadata": {},
   "outputs": [],
   "source": [
    "data['balcony'] = data['balcony'].fillna(0)"
   ]
  },
  {
   "cell_type": "markdown",
   "id": "372386b8",
   "metadata": {},
   "source": [
    "#### `locality_name` - название населённого пункта"
   ]
  },
  {
   "cell_type": "code",
   "execution_count": 25,
   "id": "e945b622",
   "metadata": {},
   "outputs": [
    {
     "name": "stdout",
     "output_type": "stream",
     "text": [
      "Процент пропущенных значений: 0.002\n"
     ]
    }
   ],
   "source": [
    "print(f\"Процент пропущенных значений: {data['locality_name'].isna().mean():0.3f}\")"
   ]
  },
  {
   "cell_type": "markdown",
   "id": "b57c389e",
   "metadata": {},
   "source": [
    "Слишком маленький процент пропущенных значений. В данном случае просто удалим эти строки."
   ]
  },
  {
   "cell_type": "code",
   "execution_count": 26,
   "id": "583b8994",
   "metadata": {},
   "outputs": [],
   "source": [
    "data = data.dropna(subset=['locality_name'])"
   ]
  },
  {
   "cell_type": "markdown",
   "id": "7dfc5b65",
   "metadata": {},
   "source": [
    "#### Факторы расстояния\n",
    "`airports_nearest` - расстояние до ближайшего аэропорта в метрах (м)\n",
    "\n",
    "`cityCenters_nearest` - расстояние до центра города (м)\n",
    "\n",
    "`parks_around3000` - число парков в радиусе 3 км\n",
    "\n",
    "`parks_nearest` - расстояние до ближайшего парка (м)\n",
    "\n",
    "`ponds_around3000` - число водоёмов в радиусе 3 км\n",
    "\n",
    "`ponds_nearest` - расстояние до ближайшего водоёма (м)"
   ]
  },
  {
   "cell_type": "code",
   "execution_count": 27,
   "id": "af266908",
   "metadata": {},
   "outputs": [
    {
     "name": "stdout",
     "output_type": "stream",
     "text": [
      "Процент пропущенных значений показателя: \n",
      " airports_nearest: 0.234\n",
      " cityCenters_nearest: 0.233\n",
      " parks_around3000: 0.233\n",
      " parks_nearest: 0.659\n",
      " ponds_around3000: 0.233\n",
      " ponds_nearest: 0.616\n"
     ]
    }
   ],
   "source": [
    "dist_factors = ['airports_nearest', 'cityCenters_nearest', 'parks_around3000', 'parks_nearest',\n",
    "                'ponds_around3000', 'ponds_nearest']\n",
    "\n",
    "print('Процент пропущенных значений показателя: ')\n",
    "for factor in dist_factors:\n",
    "    print(f\" {factor}: {data[factor].isna().mean():0.3f}\")"
   ]
  },
  {
   "cell_type": "markdown",
   "id": "d57c1881",
   "metadata": {},
   "source": [
    "Данные факторы объединяются в одну группу, так как значения в них зависят только от адреса, по которому располагается квартира. Логика заполнения пропущенных значений в них будет одинаковая: заполним медианой на основе названия населенного пункта. Ведь именно зная населенный пункт можно ответить на вопрос: долго ли ехать до аэропорта? или сколько парков в данном районе?"
   ]
  },
  {
   "cell_type": "code",
   "execution_count": 28,
   "id": "c2f2e370",
   "metadata": {},
   "outputs": [],
   "source": [
    "for factor in dist_factors:\n",
    "    for t in data['locality_name'].unique():\n",
    "        data.loc[(data['locality_name'] == t) & (data[factor].isna()), factor] = \\\n",
    "        data.loc[(data['locality_name'] == t), factor].median()"
   ]
  },
  {
   "cell_type": "code",
   "execution_count": 29,
   "id": "13805881",
   "metadata": {},
   "outputs": [
    {
     "name": "stdout",
     "output_type": "stream",
     "text": [
      "Процент пропущенных значений показателя: \n",
      " airports_nearest: 0.228\n",
      " cityCenters_nearest: 0.228\n",
      " parks_around3000: 0.228\n",
      " parks_nearest: 0.254\n",
      " ponds_around3000: 0.228\n",
      " ponds_nearest: 0.232\n"
     ]
    }
   ],
   "source": [
    "print('Процент пропущенных значений показателя: ')\n",
    "for factor in dist_factors:\n",
    "    print(f\" {factor}: {data[factor].isna().mean():0.3f}\")"
   ]
  },
  {
   "cell_type": "markdown",
   "id": "53eb192a",
   "metadata": {},
   "source": [
    "На данный момент процент пропусков колеблется от 22.8% до 25.4%. **Продолжим эту часть после того, как скорректируем названия населенных пунктов (п. 2.3)**"
   ]
  },
  {
   "cell_type": "markdown",
   "id": "44e91b05",
   "metadata": {},
   "source": [
    "#### `days_exposition` - сколько дней было размещено объявление (от публикации до снятия)"
   ]
  },
  {
   "cell_type": "code",
   "execution_count": 30,
   "id": "c8688983",
   "metadata": {},
   "outputs": [
    {
     "name": "stdout",
     "output_type": "stream",
     "text": [
      "Процент пропущенных значений: 0.134\n"
     ]
    }
   ],
   "source": [
    "print(f\"Процент пропущенных значений: {data['days_exposition'].isna().mean():0.3f}\")"
   ]
  },
  {
   "cell_type": "markdown",
   "id": "26153446",
   "metadata": {},
   "source": [
    "Пропущенные значения в данном факторе, вероятно, соответствуют объявлениям, которые еще не сняли с сайта (возможно они были только добавлены в день, когда была произведена выгрузка статистики). Можно предположить, что квартиры с определенным метражом в определенных районах продаются за примерно одинаковый срок и заполнить медианой с соответствующей группировкой, однако оставим данный показатель пустым, чтобы можно было анализировать только те квартиры, которые сняли с сайта."
   ]
  },
  {
   "cell_type": "code",
   "execution_count": 31,
   "id": "8ca6838a",
   "metadata": {},
   "outputs": [
    {
     "data": {
      "text/plain": [
       "total_images               0\n",
       "last_price                 0\n",
       "total_area                 0\n",
       "first_day_exposition       0\n",
       "rooms                      0\n",
       "ceiling_height             0\n",
       "floors_total               0\n",
       "living_area                0\n",
       "floor                      0\n",
       "is_apartment               0\n",
       "studio                     0\n",
       "open_plan                  0\n",
       "kitchen_area               0\n",
       "balcony                    0\n",
       "locality_name              0\n",
       "airports_nearest        5386\n",
       "cityCenters_nearest     5386\n",
       "parks_around3000        5386\n",
       "parks_nearest           5998\n",
       "ponds_around3000        5386\n",
       "ponds_nearest           5494\n",
       "days_exposition         3180\n",
       "rooms_cat                  0\n",
       "total_area_cat             0\n",
       "dtype: int64"
      ]
     },
     "execution_count": 31,
     "metadata": {},
     "output_type": "execute_result"
    }
   ],
   "source": [
    "data.isna().sum(axis=0)"
   ]
  },
  {
   "cell_type": "markdown",
   "id": "6bf3cd2c",
   "metadata": {},
   "source": [
    "В ходе данного этапа обработки данных были скорректированы пропущенные значения в данных недвижимости. Во всех показателях, которые имеют прямое отношение к квартирам, такие как: общая площадь, количество комнат, этаж и т.д. - пропуски были заполнены абсолютно везде. Второстепенные же факторы были специально оставлены с пропусками, так как использую данный датасет нельзя достоверно восстановить эту информацию. К второстепенным факторам относятся: количество водоемов вокруг жилья, расстояние до аэропорта, количество парков рядом с домом и другие."
   ]
  },
  {
   "cell_type": "markdown",
   "id": "4c3ae408",
   "metadata": {},
   "source": [
    "### Корректировка типов данных"
   ]
  },
  {
   "cell_type": "code",
   "execution_count": 32,
   "id": "c6d74448",
   "metadata": {},
   "outputs": [
    {
     "name": "stdout",
     "output_type": "stream",
     "text": [
      "<class 'pandas.core.frame.DataFrame'>\n",
      "Int64Index: 23650 entries, 0 to 23698\n",
      "Data columns (total 24 columns):\n",
      " #   Column                Non-Null Count  Dtype  \n",
      "---  ------                --------------  -----  \n",
      " 0   total_images          23650 non-null  int64  \n",
      " 1   last_price            23650 non-null  float64\n",
      " 2   total_area            23650 non-null  float64\n",
      " 3   first_day_exposition  23650 non-null  object \n",
      " 4   rooms                 23650 non-null  int64  \n",
      " 5   ceiling_height        23650 non-null  float64\n",
      " 6   floors_total          23650 non-null  float64\n",
      " 7   living_area           23650 non-null  float64\n",
      " 8   floor                 23650 non-null  int64  \n",
      " 9   is_apartment          23650 non-null  object \n",
      " 10  studio                23650 non-null  bool   \n",
      " 11  open_plan             23650 non-null  bool   \n",
      " 12  kitchen_area          23650 non-null  float64\n",
      " 13  balcony               23650 non-null  float64\n",
      " 14  locality_name         23650 non-null  object \n",
      " 15  airports_nearest      18264 non-null  float64\n",
      " 16  cityCenters_nearest   18264 non-null  float64\n",
      " 17  parks_around3000      18264 non-null  float64\n",
      " 18  parks_nearest         17652 non-null  float64\n",
      " 19  ponds_around3000      18264 non-null  float64\n",
      " 20  ponds_nearest         18156 non-null  float64\n",
      " 21  days_exposition       20470 non-null  float64\n",
      " 22  rooms_cat             23650 non-null  object \n",
      " 23  total_area_cat        23650 non-null  object \n",
      "dtypes: bool(2), float64(14), int64(3), object(5)\n",
      "memory usage: 4.2+ MB\n"
     ]
    }
   ],
   "source": [
    "data.info()"
   ]
  },
  {
   "cell_type": "markdown",
   "id": "76db78bd",
   "metadata": {},
   "source": [
    "Необходимо скорректировать следующие факторы:\n",
    "1. first_day_exposition (object -> datetime)\n",
    "2. is_apartment (object -> bool)"
   ]
  },
  {
   "cell_type": "code",
   "execution_count": 33,
   "id": "1294cca9",
   "metadata": {},
   "outputs": [],
   "source": [
    "data['first_day_exposition'] = pd.to_datetime(data['first_day_exposition'], format='%Y-%m-%dT%H:%M:%S')\n",
    "data['is_apartment'] = data['is_apartment'].astype('bool')"
   ]
  },
  {
   "cell_type": "markdown",
   "id": "0c369f4f",
   "metadata": {},
   "source": [
    "### Удаление дубликатов"
   ]
  },
  {
   "cell_type": "code",
   "execution_count": 34,
   "id": "800eee48",
   "metadata": {},
   "outputs": [
    {
     "data": {
      "text/plain": [
       "0"
      ]
     },
     "execution_count": 34,
     "metadata": {},
     "output_type": "execute_result"
    }
   ],
   "source": [
    "data.duplicated().sum()"
   ]
  },
  {
   "cell_type": "markdown",
   "id": "a20fa595",
   "metadata": {},
   "source": [
    "Явных дубликатов не обнаружено. Посмотрим что там с неявными дубликатами. В нашем датасете найти неявные дубликаты можно в колонке `locality_name`."
   ]
  },
  {
   "cell_type": "code",
   "execution_count": 35,
   "id": "6084634f",
   "metadata": {},
   "outputs": [
    {
     "data": {
      "text/plain": [
       "Санкт-Петербург                    15721\n",
       "посёлок Мурино                       522\n",
       "посёлок Шушары                       440\n",
       "Всеволожск                           398\n",
       "Пушкин                               369\n",
       "                                   ...  \n",
       "поселок Каложицы                       1\n",
       "посёлок Платформа 69-й километр        1\n",
       "поселок Почап                          1\n",
       "поселок Гончарово                      1\n",
       "посёлок Дзержинского                   1\n",
       "Name: locality_name, Length: 364, dtype: int64"
      ]
     },
     "execution_count": 35,
     "metadata": {},
     "output_type": "execute_result"
    }
   ],
   "source": [
    "data['locality_name'].value_counts()"
   ]
  },
  {
   "cell_type": "markdown",
   "id": "8bd7b997",
   "metadata": {},
   "source": [
    "Всего 364 \"уникальных\" значения, однако даже на первый взгляд видно, что \"поселок\" пишется по-разному (где-то с буквой \"ё\", а где-то с буквой \"е\". Попробуем вообще убрать это слово и оценим как изменилась картина."
   ]
  },
  {
   "cell_type": "code",
   "execution_count": 36,
   "id": "8b3d2e60",
   "metadata": {},
   "outputs": [],
   "source": [
    "def correct_locality_name(localicy_name):\n",
    "    change_list = ['поселок ', 'городского типа ',\n",
    "                   'деревня ', 'садовое товарищество ', 'городской ',\n",
    "                   'станции ', 'село ', 'садоводческое некоммерческое товарищество ',\n",
    "                   'при железнодорожной ']\n",
    "    \n",
    "    localicy_name = localicy_name.replace('ё','е').lower()\n",
    "    \n",
    "    for word in change_list:\n",
    "        localicy_name = localicy_name.replace(word, '')\n",
    "\n",
    "    localicy_name = localicy_name.title()\n",
    "    return localicy_name"
   ]
  },
  {
   "cell_type": "code",
   "execution_count": 37,
   "id": "f5f2e4a0",
   "metadata": {},
   "outputs": [],
   "source": [
    "data['locality_name_correct'] = data['locality_name'].apply(lambda x: correct_locality_name(x))"
   ]
  },
  {
   "cell_type": "code",
   "execution_count": 38,
   "id": "9bb4c492",
   "metadata": {},
   "outputs": [
    {
     "data": {
      "text/plain": [
       "Санкт-Петербург    15721\n",
       "Мурино               590\n",
       "Кудрово              472\n",
       "Шушары               440\n",
       "Всеволожск           398\n",
       "                   ...  \n",
       "Ропша                  1\n",
       "Алексеевка             1\n",
       "Белоостров             1\n",
       "Пельгора               1\n",
       "Дзержинского           1\n",
       "Name: locality_name_correct, Length: 306, dtype: int64"
      ]
     },
     "execution_count": 38,
     "metadata": {},
     "output_type": "execute_result"
    }
   ],
   "source": [
    "data['locality_name_correct'].value_counts()"
   ]
  },
  {
   "cell_type": "markdown",
   "id": "064f33d3",
   "metadata": {},
   "source": [
    "Таким образом, получилось скорректировать 58 неявных дублирующих названий.\n",
    "\n",
    "**Факторы расстояния (продолжение)**\n",
    "(п 2.1.8)"
   ]
  },
  {
   "cell_type": "code",
   "execution_count": 39,
   "id": "27548e95",
   "metadata": {},
   "outputs": [],
   "source": [
    "for factor in dist_factors:\n",
    "    for t in data['locality_name_correct'].unique():\n",
    "        data.loc[(data['locality_name_correct'] == t) & (data[factor].isna()), factor] = \\\n",
    "        data.loc[(data['locality_name_correct'] == t), factor].median()"
   ]
  },
  {
   "cell_type": "code",
   "execution_count": 40,
   "id": "0316d1d1",
   "metadata": {},
   "outputs": [
    {
     "name": "stdout",
     "output_type": "stream",
     "text": [
      "Процент пропущенных значений показателя: \n",
      " airports_nearest: 0.204\n",
      " cityCenters_nearest: 0.204\n",
      " parks_around3000: 0.204\n",
      " parks_nearest: 0.254\n",
      " ponds_around3000: 0.204\n",
      " ponds_nearest: 0.209\n"
     ]
    }
   ],
   "source": [
    "print('Процент пропущенных значений показателя: ')\n",
    "for factor in dist_factors:\n",
    "    print(f\" {factor}: {data[factor].isna().mean():0.3f}\")"
   ]
  },
  {
   "cell_type": "markdown",
   "id": "bdd1c26d",
   "metadata": {},
   "source": [
    "Все-таки осталось около 20% квартир, в которых используя только данный датесет нельзя определить факторы расстояний, поэтому сохраним их пустыми."
   ]
  },
  {
   "cell_type": "markdown",
   "id": "a154cf61",
   "metadata": {},
   "source": [
    "### Удаление выбросов и корректировка аномальных значений"
   ]
  },
  {
   "cell_type": "code",
   "execution_count": 41,
   "id": "1cefbf35",
   "metadata": {},
   "outputs": [],
   "source": [
    "#TODO"
   ]
  },
  {
   "cell_type": "markdown",
   "id": "bfebcfd0",
   "metadata": {},
   "source": [
    "## Feature engineering "
   ]
  },
  {
   "cell_type": "markdown",
   "id": "32423de0",
   "metadata": {},
   "source": [
    "В данном блоке сгенерируем новые признаки на основе имеющихся. Такое мы делали ранее, когда заполняли пропущенные значения. Данные признаки могут быть полезны при исследовательском анализе данных. Приступим!"
   ]
  },
  {
   "cell_type": "code",
   "execution_count": 42,
   "id": "1ec00abc",
   "metadata": {},
   "outputs": [],
   "source": [
    "def floor_type(current_floor, floors_total):\n",
    "    try:\n",
    "        if current_floor == floors_total:\n",
    "            return 'последний'\n",
    "        elif current_floor == 1:\n",
    "            return 'первый'\n",
    "        else:\n",
    "            return 'другой'\n",
    "    except:\n",
    "        return 'не удалось определить этаж'"
   ]
  },
  {
   "cell_type": "code",
   "execution_count": 43,
   "id": "8363e0c6",
   "metadata": {},
   "outputs": [],
   "source": [
    "# цена за один квадратный метр\n",
    "data['rub_per_metr'] = data['last_price']/data['total_area']\n",
    "\n",
    "# день недели публикации объявления\n",
    "data['day_exposition'] = data['first_day_exposition'].dt.day\n",
    "\n",
    "# месяц публикации объявления\n",
    "data['month_exposition'] = data['first_day_exposition'].dt.month\n",
    "\n",
    "# год публикации объявления\n",
    "data['year_exposition'] = data['first_day_exposition'].dt.year\n",
    "\n",
    "# тип этажа квартиры\n",
    "data['floor_type'] = data.apply(lambda row: floor_type(row['floor'],row['floors_total']), axis=1)\n",
    "\n",
    "# расстояние до центра города в километрах (тип данных оставим float, так как сохранили nan'ы)\n",
    "data['center_km'] = data['cityCenters_nearest']/1000"
   ]
  },
  {
   "cell_type": "markdown",
   "id": "e5c5f1fe",
   "metadata": {},
   "source": [
    "Посмотрим какие выводы нам помогут сделать созданные факторы в следующем разделе."
   ]
  },
  {
   "cell_type": "markdown",
   "id": "d58889c0",
   "metadata": {},
   "source": [
    "## Исследовательский анализ данных"
   ]
  },
  {
   "cell_type": "code",
   "execution_count": 44,
   "id": "5876b9a3",
   "metadata": {},
   "outputs": [],
   "source": [
    "#TODO"
   ]
  }
 ],
 "metadata": {
  "kernelspec": {
   "display_name": "Python 3 (ipykernel)",
   "language": "python",
   "name": "python3"
  },
  "language_info": {
   "codemirror_mode": {
    "name": "ipython",
    "version": 3
   },
   "file_extension": ".py",
   "mimetype": "text/x-python",
   "name": "python",
   "nbconvert_exporter": "python",
   "pygments_lexer": "ipython3",
   "version": "3.9.13"
  },
  "toc": {
   "base_numbering": 1,
   "nav_menu": {},
   "number_sections": true,
   "sideBar": true,
   "skip_h1_title": true,
   "title_cell": "Table of Contents",
   "title_sidebar": "Contents",
   "toc_cell": false,
   "toc_position": {
    "height": "calc(100% - 180px)",
    "left": "10px",
    "top": "150px",
    "width": "514.393372px"
   },
   "toc_section_display": true,
   "toc_window_display": false
  }
 },
 "nbformat": 4,
 "nbformat_minor": 5
}
