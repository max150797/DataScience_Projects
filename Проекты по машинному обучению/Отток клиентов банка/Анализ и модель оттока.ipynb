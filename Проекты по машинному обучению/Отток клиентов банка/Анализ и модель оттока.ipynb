{
 "cells": [
  {
   "cell_type": "markdown",
   "id": "9867f5e6",
   "metadata": {},
   "source": [
    "# Отток клиентов банка"
   ]
  },
  {
   "cell_type": "markdown",
   "id": "52f4f0e2",
   "metadata": {},
   "source": [
    "## Описание проекта\n",
    "\n",
    "Для банка \"Бета-Банк\" стал заметным уход клиентов каждый месяц, что может привести к значительным потерям. Чтобы избежать этого, необходимо сохранить текущих клиентов, поскольку это дешевле, чем привлекать новых. Для этого требуется спрогнозировать, уйдет ли клиент из банка в ближайшее время или нет. В распоряжении маркетологов есть исторические данные о поведении клиентов и расторжении договоров с банком. Основная задача заключается в построении модели с предельно большим значением F1-меры, которая позволит наиболее точно прогнозировать, уйдет ли клиент из банка. Для успешной сдачи проекта необходимо довести метрику до значения не менее 0.59."
   ]
  },
  {
   "cell_type": "markdown",
   "id": "e28b7605",
   "metadata": {},
   "source": [
    "## Описание данных\n",
    "\n",
    "**Признаки**\n",
    "\n",
    "* `RowNumber` — индекс строки в данных\n",
    "* `CustomerId` — уникальный идентификатор клиента\n",
    "* `Surname` — фамилия\n",
    "* `CreditScore` — кредитный рейтинг\n",
    "* `Geography` — страна проживания\n",
    "* `Gender` — пол\n",
    "* `Age` — возраст\n",
    "* `Tenure` — сколько лет человек является клиентом банка\n",
    "* `Balance` — баланс на счёте\n",
    "* `NumOfProducts` — количество продуктов банка, используемых клиентом\n",
    "* `HasCrCard` — наличие кредитной карты\n",
    "* `IsActiveMember` — активность клиента\n",
    "* `EstimatedSalary` — предполагаемая зарплата\n",
    "\n",
    "**Целевой признак**\n",
    "* `Exited` — факт ухода клиента"
   ]
  },
  {
   "cell_type": "markdown",
   "id": "08a19267",
   "metadata": {},
   "source": [
    "## Используемые библиотеки"
   ]
  },
  {
   "cell_type": "code",
   "execution_count": 1,
   "id": "8a607348",
   "metadata": {},
   "outputs": [],
   "source": [
    "import pandas as pd\n",
    "import numpy as np\n",
    "import matplotlib.pyplot as plt\n",
    "import warnings\n",
    "\n",
    "from sklearn.model_selection import train_test_split\n",
    "from sklearn.preprocessing import MinMaxScaler, OneHotEncoder, LabelEncoder\n",
    "from sklearn.model_selection import GridSearchCV\n",
    "from sklearn.metrics import f1_score, roc_auc_score, roc_curve, confusion_matrix\n",
    "from sklearn.ensemble import RandomForestClassifier\n",
    "from sklearn.utils import shuffle\n",
    "\n",
    "# warnings.filterwarnings('ignore')\n",
    "RANDOM_SEED = 150797"
   ]
  },
  {
   "cell_type": "markdown",
   "id": "e2ddc09f",
   "metadata": {},
   "source": [
    "## Загрузка данных, подготовка и анализ"
   ]
  },
  {
   "cell_type": "code",
   "execution_count": 2,
   "id": "194cbd72",
   "metadata": {},
   "outputs": [],
   "source": [
    "try:\n",
    "    data = pd.read_csv('https://code.s3.yandex.net/datasets/Churn.csv')\n",
    "except:\n",
    "    data = pd.read_csv('Churn.csv')"
   ]
  },
  {
   "cell_type": "code",
   "execution_count": 3,
   "id": "56833a93",
   "metadata": {},
   "outputs": [
    {
     "data": {
      "text/html": [
       "<div>\n",
       "<style scoped>\n",
       "    .dataframe tbody tr th:only-of-type {\n",
       "        vertical-align: middle;\n",
       "    }\n",
       "\n",
       "    .dataframe tbody tr th {\n",
       "        vertical-align: top;\n",
       "    }\n",
       "\n",
       "    .dataframe thead th {\n",
       "        text-align: right;\n",
       "    }\n",
       "</style>\n",
       "<table border=\"1\" class=\"dataframe\">\n",
       "  <thead>\n",
       "    <tr style=\"text-align: right;\">\n",
       "      <th></th>\n",
       "      <th>RowNumber</th>\n",
       "      <th>CustomerId</th>\n",
       "      <th>Surname</th>\n",
       "      <th>CreditScore</th>\n",
       "      <th>Geography</th>\n",
       "      <th>Gender</th>\n",
       "      <th>Age</th>\n",
       "      <th>Tenure</th>\n",
       "      <th>Balance</th>\n",
       "      <th>NumOfProducts</th>\n",
       "      <th>HasCrCard</th>\n",
       "      <th>IsActiveMember</th>\n",
       "      <th>EstimatedSalary</th>\n",
       "      <th>Exited</th>\n",
       "    </tr>\n",
       "  </thead>\n",
       "  <tbody>\n",
       "    <tr>\n",
       "      <th>0</th>\n",
       "      <td>1</td>\n",
       "      <td>15634602</td>\n",
       "      <td>Hargrave</td>\n",
       "      <td>619</td>\n",
       "      <td>France</td>\n",
       "      <td>Female</td>\n",
       "      <td>42</td>\n",
       "      <td>2.0</td>\n",
       "      <td>0.00</td>\n",
       "      <td>1</td>\n",
       "      <td>1</td>\n",
       "      <td>1</td>\n",
       "      <td>101348.88</td>\n",
       "      <td>1</td>\n",
       "    </tr>\n",
       "    <tr>\n",
       "      <th>1</th>\n",
       "      <td>2</td>\n",
       "      <td>15647311</td>\n",
       "      <td>Hill</td>\n",
       "      <td>608</td>\n",
       "      <td>Spain</td>\n",
       "      <td>Female</td>\n",
       "      <td>41</td>\n",
       "      <td>1.0</td>\n",
       "      <td>83807.86</td>\n",
       "      <td>1</td>\n",
       "      <td>0</td>\n",
       "      <td>1</td>\n",
       "      <td>112542.58</td>\n",
       "      <td>0</td>\n",
       "    </tr>\n",
       "    <tr>\n",
       "      <th>2</th>\n",
       "      <td>3</td>\n",
       "      <td>15619304</td>\n",
       "      <td>Onio</td>\n",
       "      <td>502</td>\n",
       "      <td>France</td>\n",
       "      <td>Female</td>\n",
       "      <td>42</td>\n",
       "      <td>8.0</td>\n",
       "      <td>159660.80</td>\n",
       "      <td>3</td>\n",
       "      <td>1</td>\n",
       "      <td>0</td>\n",
       "      <td>113931.57</td>\n",
       "      <td>1</td>\n",
       "    </tr>\n",
       "    <tr>\n",
       "      <th>3</th>\n",
       "      <td>4</td>\n",
       "      <td>15701354</td>\n",
       "      <td>Boni</td>\n",
       "      <td>699</td>\n",
       "      <td>France</td>\n",
       "      <td>Female</td>\n",
       "      <td>39</td>\n",
       "      <td>1.0</td>\n",
       "      <td>0.00</td>\n",
       "      <td>2</td>\n",
       "      <td>0</td>\n",
       "      <td>0</td>\n",
       "      <td>93826.63</td>\n",
       "      <td>0</td>\n",
       "    </tr>\n",
       "    <tr>\n",
       "      <th>4</th>\n",
       "      <td>5</td>\n",
       "      <td>15737888</td>\n",
       "      <td>Mitchell</td>\n",
       "      <td>850</td>\n",
       "      <td>Spain</td>\n",
       "      <td>Female</td>\n",
       "      <td>43</td>\n",
       "      <td>2.0</td>\n",
       "      <td>125510.82</td>\n",
       "      <td>1</td>\n",
       "      <td>1</td>\n",
       "      <td>1</td>\n",
       "      <td>79084.10</td>\n",
       "      <td>0</td>\n",
       "    </tr>\n",
       "  </tbody>\n",
       "</table>\n",
       "</div>"
      ],
      "text/plain": [
       "   RowNumber  CustomerId   Surname  CreditScore Geography  Gender  Age  \\\n",
       "0          1    15634602  Hargrave          619    France  Female   42   \n",
       "1          2    15647311      Hill          608     Spain  Female   41   \n",
       "2          3    15619304      Onio          502    France  Female   42   \n",
       "3          4    15701354      Boni          699    France  Female   39   \n",
       "4          5    15737888  Mitchell          850     Spain  Female   43   \n",
       "\n",
       "   Tenure    Balance  NumOfProducts  HasCrCard  IsActiveMember  \\\n",
       "0     2.0       0.00              1          1               1   \n",
       "1     1.0   83807.86              1          0               1   \n",
       "2     8.0  159660.80              3          1               0   \n",
       "3     1.0       0.00              2          0               0   \n",
       "4     2.0  125510.82              1          1               1   \n",
       "\n",
       "   EstimatedSalary  Exited  \n",
       "0        101348.88       1  \n",
       "1        112542.58       0  \n",
       "2        113931.57       1  \n",
       "3         93826.63       0  \n",
       "4         79084.10       0  "
      ]
     },
     "execution_count": 3,
     "metadata": {},
     "output_type": "execute_result"
    }
   ],
   "source": [
    "data.head()"
   ]
  },
  {
   "cell_type": "code",
   "execution_count": 4,
   "id": "0546f5b4",
   "metadata": {},
   "outputs": [],
   "source": [
    "# cкорректируем названия колонок\n",
    "new_columns = {'RowNumber': 'row_number',\n",
    "               'CustomerId': 'customer_id',\n",
    "               'Surname': 'surname',\n",
    "               'CreditScore': 'credit_score',\n",
    "               'Geography': 'geography',\n",
    "               'Gender': 'gender',\n",
    "               'Age': 'age',\n",
    "               'Tenure': 'tenure',\n",
    "               'Balance': 'balance',\n",
    "               'NumOfProducts': 'num_of_products',\n",
    "               'HasCrCard': 'has_cr_card',\n",
    "               'IsActiveMember': 'is_active_member',\n",
    "               'EstimatedSalary': 'estimated_salary',\n",
    "               'Exited': 'exited'}\n",
    "\n",
    "data = data.rename(columns=new_columns)"
   ]
  },
  {
   "cell_type": "code",
   "execution_count": 5,
   "id": "56c5dec4",
   "metadata": {},
   "outputs": [
    {
     "name": "stdout",
     "output_type": "stream",
     "text": [
      "<class 'pandas.core.frame.DataFrame'>\n",
      "RangeIndex: 10000 entries, 0 to 9999\n",
      "Data columns (total 14 columns):\n",
      " #   Column            Non-Null Count  Dtype  \n",
      "---  ------            --------------  -----  \n",
      " 0   row_number        10000 non-null  int64  \n",
      " 1   customer_id       10000 non-null  int64  \n",
      " 2   surname           10000 non-null  object \n",
      " 3   credit_score      10000 non-null  int64  \n",
      " 4   geography         10000 non-null  object \n",
      " 5   gender            10000 non-null  object \n",
      " 6   age               10000 non-null  int64  \n",
      " 7   tenure            9091 non-null   float64\n",
      " 8   balance           10000 non-null  float64\n",
      " 9   num_of_products   10000 non-null  int64  \n",
      " 10  has_cr_card       10000 non-null  int64  \n",
      " 11  is_active_member  10000 non-null  int64  \n",
      " 12  estimated_salary  10000 non-null  float64\n",
      " 13  exited            10000 non-null  int64  \n",
      "dtypes: float64(3), int64(8), object(3)\n",
      "memory usage: 1.1+ MB\n"
     ]
    }
   ],
   "source": [
    "data.info()"
   ]
  },
  {
   "cell_type": "markdown",
   "id": "f4557fb2",
   "metadata": {},
   "source": [
    "Типы данных указаны корректно. Пропуски присутствуют только в столбце `tenure` - сколько лет человек является клиентом банка. Обработаем этот фактор дальше."
   ]
  },
  {
   "cell_type": "code",
   "execution_count": 6,
   "id": "47721755",
   "metadata": {},
   "outputs": [],
   "source": [
    "# удалим факторы, которые не понадобятся для обучения\n",
    "data = data.drop(columns=['row_number', 'customer_id', 'surname'])"
   ]
  },
  {
   "cell_type": "code",
   "execution_count": 7,
   "id": "99a5ad0a",
   "metadata": {},
   "outputs": [
    {
     "data": {
      "text/html": [
       "<div>\n",
       "<style scoped>\n",
       "    .dataframe tbody tr th:only-of-type {\n",
       "        vertical-align: middle;\n",
       "    }\n",
       "\n",
       "    .dataframe tbody tr th {\n",
       "        vertical-align: top;\n",
       "    }\n",
       "\n",
       "    .dataframe thead th {\n",
       "        text-align: right;\n",
       "    }\n",
       "</style>\n",
       "<table border=\"1\" class=\"dataframe\">\n",
       "  <thead>\n",
       "    <tr style=\"text-align: right;\">\n",
       "      <th></th>\n",
       "      <th>credit_score</th>\n",
       "      <th>geography</th>\n",
       "      <th>gender</th>\n",
       "      <th>age</th>\n",
       "      <th>tenure</th>\n",
       "      <th>balance</th>\n",
       "      <th>num_of_products</th>\n",
       "      <th>has_cr_card</th>\n",
       "      <th>is_active_member</th>\n",
       "      <th>estimated_salary</th>\n",
       "      <th>exited</th>\n",
       "    </tr>\n",
       "  </thead>\n",
       "  <tbody>\n",
       "    <tr>\n",
       "      <th>count</th>\n",
       "      <td>10000.000000</td>\n",
       "      <td>10000</td>\n",
       "      <td>10000</td>\n",
       "      <td>10000.000000</td>\n",
       "      <td>9091.000000</td>\n",
       "      <td>10000.000000</td>\n",
       "      <td>10000.000000</td>\n",
       "      <td>10000.00000</td>\n",
       "      <td>10000.000000</td>\n",
       "      <td>10000.000000</td>\n",
       "      <td>10000.000000</td>\n",
       "    </tr>\n",
       "    <tr>\n",
       "      <th>unique</th>\n",
       "      <td>NaN</td>\n",
       "      <td>3</td>\n",
       "      <td>2</td>\n",
       "      <td>NaN</td>\n",
       "      <td>NaN</td>\n",
       "      <td>NaN</td>\n",
       "      <td>NaN</td>\n",
       "      <td>NaN</td>\n",
       "      <td>NaN</td>\n",
       "      <td>NaN</td>\n",
       "      <td>NaN</td>\n",
       "    </tr>\n",
       "    <tr>\n",
       "      <th>top</th>\n",
       "      <td>NaN</td>\n",
       "      <td>France</td>\n",
       "      <td>Male</td>\n",
       "      <td>NaN</td>\n",
       "      <td>NaN</td>\n",
       "      <td>NaN</td>\n",
       "      <td>NaN</td>\n",
       "      <td>NaN</td>\n",
       "      <td>NaN</td>\n",
       "      <td>NaN</td>\n",
       "      <td>NaN</td>\n",
       "    </tr>\n",
       "    <tr>\n",
       "      <th>freq</th>\n",
       "      <td>NaN</td>\n",
       "      <td>5014</td>\n",
       "      <td>5457</td>\n",
       "      <td>NaN</td>\n",
       "      <td>NaN</td>\n",
       "      <td>NaN</td>\n",
       "      <td>NaN</td>\n",
       "      <td>NaN</td>\n",
       "      <td>NaN</td>\n",
       "      <td>NaN</td>\n",
       "      <td>NaN</td>\n",
       "    </tr>\n",
       "    <tr>\n",
       "      <th>mean</th>\n",
       "      <td>650.528800</td>\n",
       "      <td>NaN</td>\n",
       "      <td>NaN</td>\n",
       "      <td>38.921800</td>\n",
       "      <td>4.997690</td>\n",
       "      <td>76485.889288</td>\n",
       "      <td>1.530200</td>\n",
       "      <td>0.70550</td>\n",
       "      <td>0.515100</td>\n",
       "      <td>100090.239881</td>\n",
       "      <td>0.203700</td>\n",
       "    </tr>\n",
       "    <tr>\n",
       "      <th>std</th>\n",
       "      <td>96.653299</td>\n",
       "      <td>NaN</td>\n",
       "      <td>NaN</td>\n",
       "      <td>10.487806</td>\n",
       "      <td>2.894723</td>\n",
       "      <td>62397.405202</td>\n",
       "      <td>0.581654</td>\n",
       "      <td>0.45584</td>\n",
       "      <td>0.499797</td>\n",
       "      <td>57510.492818</td>\n",
       "      <td>0.402769</td>\n",
       "    </tr>\n",
       "    <tr>\n",
       "      <th>min</th>\n",
       "      <td>350.000000</td>\n",
       "      <td>NaN</td>\n",
       "      <td>NaN</td>\n",
       "      <td>18.000000</td>\n",
       "      <td>0.000000</td>\n",
       "      <td>0.000000</td>\n",
       "      <td>1.000000</td>\n",
       "      <td>0.00000</td>\n",
       "      <td>0.000000</td>\n",
       "      <td>11.580000</td>\n",
       "      <td>0.000000</td>\n",
       "    </tr>\n",
       "    <tr>\n",
       "      <th>25%</th>\n",
       "      <td>584.000000</td>\n",
       "      <td>NaN</td>\n",
       "      <td>NaN</td>\n",
       "      <td>32.000000</td>\n",
       "      <td>2.000000</td>\n",
       "      <td>0.000000</td>\n",
       "      <td>1.000000</td>\n",
       "      <td>0.00000</td>\n",
       "      <td>0.000000</td>\n",
       "      <td>51002.110000</td>\n",
       "      <td>0.000000</td>\n",
       "    </tr>\n",
       "    <tr>\n",
       "      <th>50%</th>\n",
       "      <td>652.000000</td>\n",
       "      <td>NaN</td>\n",
       "      <td>NaN</td>\n",
       "      <td>37.000000</td>\n",
       "      <td>5.000000</td>\n",
       "      <td>97198.540000</td>\n",
       "      <td>1.000000</td>\n",
       "      <td>1.00000</td>\n",
       "      <td>1.000000</td>\n",
       "      <td>100193.915000</td>\n",
       "      <td>0.000000</td>\n",
       "    </tr>\n",
       "    <tr>\n",
       "      <th>75%</th>\n",
       "      <td>718.000000</td>\n",
       "      <td>NaN</td>\n",
       "      <td>NaN</td>\n",
       "      <td>44.000000</td>\n",
       "      <td>7.000000</td>\n",
       "      <td>127644.240000</td>\n",
       "      <td>2.000000</td>\n",
       "      <td>1.00000</td>\n",
       "      <td>1.000000</td>\n",
       "      <td>149388.247500</td>\n",
       "      <td>0.000000</td>\n",
       "    </tr>\n",
       "    <tr>\n",
       "      <th>max</th>\n",
       "      <td>850.000000</td>\n",
       "      <td>NaN</td>\n",
       "      <td>NaN</td>\n",
       "      <td>92.000000</td>\n",
       "      <td>10.000000</td>\n",
       "      <td>250898.090000</td>\n",
       "      <td>4.000000</td>\n",
       "      <td>1.00000</td>\n",
       "      <td>1.000000</td>\n",
       "      <td>199992.480000</td>\n",
       "      <td>1.000000</td>\n",
       "    </tr>\n",
       "  </tbody>\n",
       "</table>\n",
       "</div>"
      ],
      "text/plain": [
       "        credit_score geography gender           age       tenure  \\\n",
       "count   10000.000000     10000  10000  10000.000000  9091.000000   \n",
       "unique           NaN         3      2           NaN          NaN   \n",
       "top              NaN    France   Male           NaN          NaN   \n",
       "freq             NaN      5014   5457           NaN          NaN   \n",
       "mean      650.528800       NaN    NaN     38.921800     4.997690   \n",
       "std        96.653299       NaN    NaN     10.487806     2.894723   \n",
       "min       350.000000       NaN    NaN     18.000000     0.000000   \n",
       "25%       584.000000       NaN    NaN     32.000000     2.000000   \n",
       "50%       652.000000       NaN    NaN     37.000000     5.000000   \n",
       "75%       718.000000       NaN    NaN     44.000000     7.000000   \n",
       "max       850.000000       NaN    NaN     92.000000    10.000000   \n",
       "\n",
       "              balance  num_of_products  has_cr_card  is_active_member  \\\n",
       "count    10000.000000     10000.000000  10000.00000      10000.000000   \n",
       "unique            NaN              NaN          NaN               NaN   \n",
       "top               NaN              NaN          NaN               NaN   \n",
       "freq              NaN              NaN          NaN               NaN   \n",
       "mean     76485.889288         1.530200      0.70550          0.515100   \n",
       "std      62397.405202         0.581654      0.45584          0.499797   \n",
       "min          0.000000         1.000000      0.00000          0.000000   \n",
       "25%          0.000000         1.000000      0.00000          0.000000   \n",
       "50%      97198.540000         1.000000      1.00000          1.000000   \n",
       "75%     127644.240000         2.000000      1.00000          1.000000   \n",
       "max     250898.090000         4.000000      1.00000          1.000000   \n",
       "\n",
       "        estimated_salary        exited  \n",
       "count       10000.000000  10000.000000  \n",
       "unique               NaN           NaN  \n",
       "top                  NaN           NaN  \n",
       "freq                 NaN           NaN  \n",
       "mean       100090.239881      0.203700  \n",
       "std         57510.492818      0.402769  \n",
       "min            11.580000      0.000000  \n",
       "25%         51002.110000      0.000000  \n",
       "50%        100193.915000      0.000000  \n",
       "75%        149388.247500      0.000000  \n",
       "max        199992.480000      1.000000  "
      ]
     },
     "execution_count": 7,
     "metadata": {},
     "output_type": "execute_result"
    }
   ],
   "source": [
    "data.describe(include='all')"
   ]
  },
  {
   "cell_type": "markdown",
   "id": "4420485d",
   "metadata": {},
   "source": [
    "## Предобработка данных\n",
    "### Обработка пропусков\n",
    "#### `tenure` - сколько лет человек является клиентом банка"
   ]
  },
  {
   "cell_type": "code",
   "execution_count": 8,
   "id": "47068355",
   "metadata": {},
   "outputs": [
    {
     "name": "stdout",
     "output_type": "stream",
     "text": [
      "Процент пропуков в факторе tenure:\n",
      "0.8332493056255786\n"
     ]
    }
   ],
   "source": [
    "print('Процент пропуков в факторе tenure:')\n",
    "print(data['tenure'].isna().sum()/data.count().sum()*100)"
   ]
  },
  {
   "cell_type": "markdown",
   "id": "e2a1ea15",
   "metadata": {},
   "source": [
    "Наблюдаем, что в данных процент пропусков составляет <1%, поэтому просто удалим клиентов, у которых не указано как долго они являются клиентами банка"
   ]
  },
  {
   "cell_type": "code",
   "execution_count": 9,
   "id": "72ebf3d2",
   "metadata": {},
   "outputs": [],
   "source": [
    "data = data.dropna(subset=['tenure'])"
   ]
  },
  {
   "cell_type": "code",
   "execution_count": 10,
   "id": "8854afa5",
   "metadata": {},
   "outputs": [
    {
     "data": {
      "text/plain": [
       "credit_score        0\n",
       "geography           0\n",
       "gender              0\n",
       "age                 0\n",
       "tenure              0\n",
       "balance             0\n",
       "num_of_products     0\n",
       "has_cr_card         0\n",
       "is_active_member    0\n",
       "estimated_salary    0\n",
       "exited              0\n",
       "dtype: int64"
      ]
     },
     "execution_count": 10,
     "metadata": {},
     "output_type": "execute_result"
    }
   ],
   "source": [
    "data.isna().sum()"
   ]
  },
  {
   "cell_type": "markdown",
   "id": "194ccd48",
   "metadata": {},
   "source": [
    "### Обработка дубликатов\n",
    "#### Явные дубликаты"
   ]
  },
  {
   "cell_type": "code",
   "execution_count": 11,
   "id": "86d3a2e6",
   "metadata": {},
   "outputs": [
    {
     "data": {
      "text/plain": [
       "0"
      ]
     },
     "execution_count": 11,
     "metadata": {},
     "output_type": "execute_result"
    }
   ],
   "source": [
    "data.duplicated().sum()"
   ]
  },
  {
   "cell_type": "markdown",
   "id": "03999a61",
   "metadata": {},
   "source": [
    "#### Неявные дубликаты"
   ]
  },
  {
   "cell_type": "code",
   "execution_count": 12,
   "id": "16d6ec31",
   "metadata": {},
   "outputs": [
    {
     "data": {
      "text/plain": [
       "France     4550\n",
       "Germany    2293\n",
       "Spain      2248\n",
       "Name: geography, dtype: int64"
      ]
     },
     "execution_count": 12,
     "metadata": {},
     "output_type": "execute_result"
    }
   ],
   "source": [
    "data['geography'].value_counts()"
   ]
  },
  {
   "cell_type": "code",
   "execution_count": 13,
   "id": "e198c8ce",
   "metadata": {},
   "outputs": [
    {
     "data": {
      "text/plain": [
       "Male      4974\n",
       "Female    4117\n",
       "Name: gender, dtype: int64"
      ]
     },
     "execution_count": 13,
     "metadata": {},
     "output_type": "execute_result"
    }
   ],
   "source": [
    "data['gender'].value_counts()"
   ]
  },
  {
   "cell_type": "markdown",
   "id": "94b030d3",
   "metadata": {},
   "source": [
    "Неявные дубликаты в столбцах, где они могли бы быть тоже не обнаружены"
   ]
  },
  {
   "cell_type": "markdown",
   "id": "90b2c623",
   "metadata": {},
   "source": [
    "### Сбалансированность классов"
   ]
  },
  {
   "cell_type": "code",
   "execution_count": 14,
   "id": "89138eb0",
   "metadata": {
    "scrolled": true
   },
   "outputs": [
    {
     "data": {
      "text/html": [
       "<div>\n",
       "<style scoped>\n",
       "    .dataframe tbody tr th:only-of-type {\n",
       "        vertical-align: middle;\n",
       "    }\n",
       "\n",
       "    .dataframe tbody tr th {\n",
       "        vertical-align: top;\n",
       "    }\n",
       "\n",
       "    .dataframe thead th {\n",
       "        text-align: right;\n",
       "    }\n",
       "</style>\n",
       "<table border=\"1\" class=\"dataframe\">\n",
       "  <thead>\n",
       "    <tr style=\"text-align: right;\">\n",
       "      <th></th>\n",
       "      <th>counts</th>\n",
       "      <th>per100</th>\n",
       "    </tr>\n",
       "  </thead>\n",
       "  <tbody>\n",
       "    <tr>\n",
       "      <th>0</th>\n",
       "      <td>7237</td>\n",
       "      <td>79.6%</td>\n",
       "    </tr>\n",
       "    <tr>\n",
       "      <th>1</th>\n",
       "      <td>1854</td>\n",
       "      <td>20.4%</td>\n",
       "    </tr>\n",
       "  </tbody>\n",
       "</table>\n",
       "</div>"
      ],
      "text/plain": [
       "   counts per100\n",
       "0    7237  79.6%\n",
       "1    1854  20.4%"
      ]
     },
     "execution_count": 14,
     "metadata": {},
     "output_type": "execute_result"
    }
   ],
   "source": [
    "counts = data['exited'].value_counts()\n",
    "percent100 = data['exited'].value_counts(normalize=True).mul(100).round(1).astype('str')+'%'\n",
    "pd.DataFrame({'counts': counts, 'per100': percent100})"
   ]
  },
  {
   "cell_type": "markdown",
   "id": "1ab7b17f",
   "metadata": {},
   "source": [
    "Клиентов, которые относятся к классу 0 почти в 4 раза больше. Посмотрим как отработают данные в моделях без всяких изменений, а затем сбалансируем классы."
   ]
  },
  {
   "cell_type": "markdown",
   "id": "8e17cacb",
   "metadata": {},
   "source": [
    "### Кодировка признаков"
   ]
  },
  {
   "cell_type": "code",
   "execution_count": 15,
   "id": "c57f9050",
   "metadata": {},
   "outputs": [],
   "source": [
    "# получим дамми переменные для факторов, в которых не слишком много yникальных значений\n",
    "categories_oh_enc = ['geography', 'gender']\n",
    "data = pd.get_dummies(data, columns=categories_oh_enc, drop_first=True)"
   ]
  },
  {
   "cell_type": "markdown",
   "id": "65bb070a",
   "metadata": {},
   "source": [
    "### Формирование обучающей, валидационной и тестовой выборки"
   ]
  },
  {
   "cell_type": "code",
   "execution_count": 16,
   "id": "4dbeb46b",
   "metadata": {},
   "outputs": [
    {
     "name": "stdout",
     "output_type": "stream",
     "text": [
      "Размер обучающей выборки: (6363, 12)\n",
      "Размер валидационной выборки: (1364, 12)\n",
      "Размер тестовой выборки: (1364, 12)\n"
     ]
    }
   ],
   "source": [
    "# сделаем разбивку данных в соотношении 70/15/15\n",
    "train, test_val = train_test_split(data, test_size=0.3, random_state=RANDOM_SEED, stratify=data['exited'])\n",
    "test, val = train_test_split(test_val, test_size=0.5, random_state=RANDOM_SEED, stratify=test_val['exited'])\n",
    "\n",
    "print('Размер обучающей выборки:', train.shape)\n",
    "print('Размер валидационной выборки:', val.shape)\n",
    "print('Размер тестовой выборки:', test.shape)"
   ]
  },
  {
   "cell_type": "code",
   "execution_count": 17,
   "id": "77c2e1f8",
   "metadata": {},
   "outputs": [],
   "source": [
    "# выделим факторы и целевую переменную\n",
    "X_train, y_train = train.drop(columns=['exited']), train['exited']\n",
    "X_val, y_val = val.drop(columns=['exited']), val['exited']\n",
    "X_test, y_test = test.drop(columns=['exited']), test['exited']"
   ]
  },
  {
   "cell_type": "markdown",
   "id": "2cf02cf0",
   "metadata": {},
   "source": [
    "В данном проекте будем строить модель случайного леса, для которого не требуется масштабирование данных"
   ]
  },
  {
   "cell_type": "markdown",
   "id": "b574844e",
   "metadata": {},
   "source": [
    "## Построение моделей\n",
    "### Предсказание константой"
   ]
  },
  {
   "cell_type": "code",
   "execution_count": 18,
   "id": "21430f3f",
   "metadata": {},
   "outputs": [
    {
     "data": {
      "text/plain": [
       "0    1086\n",
       "1     278\n",
       "Name: exited, dtype: int64"
      ]
     },
     "execution_count": 18,
     "metadata": {},
     "output_type": "execute_result"
    }
   ],
   "source": [
    "y_val.value_counts()"
   ]
  },
  {
   "cell_type": "code",
   "execution_count": 19,
   "id": "8034f506",
   "metadata": {},
   "outputs": [
    {
     "name": "stdout",
     "output_type": "stream",
     "text": [
      "0.0\n"
     ]
    }
   ],
   "source": [
    "predictions = pd.Series([y_val.value_counts().index[0]]*y_val.shape[0], index=y_val.index)\n",
    "rfc_res = f1_score(y_val, predictions)\n",
    "print(rfc_res)"
   ]
  },
  {
   "cell_type": "markdown",
   "id": "8aee26a7",
   "metadata": {},
   "source": [
    "Очевидно, что выдавая предсказания, что все клиенты остнутся клиентами банка получим f1-метрику равную 0."
   ]
  },
  {
   "cell_type": "markdown",
   "id": "6a1382f2",
   "metadata": {},
   "source": [
    "### Модель случайного леса с дисбалансом классов\n",
    "Построим модель случайного леса с дисбалансом классов и посмотрим, как она себя показывает"
   ]
  },
  {
   "cell_type": "code",
   "execution_count": 20,
   "id": "30a42797",
   "metadata": {},
   "outputs": [
    {
     "name": "stdout",
     "output_type": "stream",
     "text": [
      "ROC-AUC: 0.8521337626031772\n",
      "F1-score: 0.5371702637889688\n"
     ]
    }
   ],
   "source": [
    "rfc_model = RandomForestClassifier(random_state=RANDOM_SEED,\n",
    "                                       max_depth=13,\n",
    "                                       n_estimators=50)\n",
    "rfc_model.fit(X_train, y_train)\n",
    "predictions = rfc_model.predict(X_val)\n",
    "y_pred_proba = rfc_model.predict_proba(X_val)[::,1]\n",
    "\n",
    "rfc_res_f1 = f1_score(y_val, predictions)\n",
    "# rfc_res_roc_auc = roc_auc_score(y_val, predictions) удалю\n",
    "rfc_res_roc_auc = roc_auc_score(y_val, y_pred_proba)\n",
    "print('ROC-AUC:', rfc_res_roc_auc)\n",
    "print('F1-score:', rfc_res_f1)"
   ]
  },
  {
   "cell_type": "code",
   "execution_count": 21,
   "id": "33572551",
   "metadata": {},
   "outputs": [
    {
     "data": {
      "image/png": "[encoded data removed]",
      "text/plain": [
       "<Figure size 640x480 with 1 Axes>"
      ]
     },
     "metadata": {},
     "output_type": "display_data"
    }
   ],
   "source": [
    "fpr, tpr, _ = roc_curve(y_val, y_pred_proba)\n",
    "\n",
    "plt.plot (fpr,tpr,label=\" ROC-AUC= \"+str(rfc_res_roc_auc)[:5])\n",
    "plt.ylabel('True Positive Rate')\n",
    "plt.xlabel('False Positive Rate')\n",
    "plt.legend(loc=4)\n",
    "plt.show() "
   ]
  },
  {
   "cell_type": "code",
   "execution_count": 22,
   "id": "5957598b",
   "metadata": {},
   "outputs": [
    {
     "name": "stdout",
     "output_type": "stream",
     "text": [
      "F1 модели случайного леса на тестовой выборке: 0.5301204819277109\n"
     ]
    }
   ],
   "source": [
    "print('F1 модели случайного леса на тестовой выборке:',\n",
    "      f1_score(y_test, rfc_model.predict(X_test)))"
   ]
  },
  {
   "cell_type": "code",
   "execution_count": 23,
   "id": "fd64c092",
   "metadata": {},
   "outputs": [
    {
     "data": {
      "text/plain": [
       "array([[1059,   27],\n",
       "       [ 168,  110]])"
      ]
     },
     "execution_count": 23,
     "metadata": {},
     "output_type": "execute_result"
    }
   ],
   "source": [
    "predictions = rfc_model.predict(X_test)\n",
    "confusion_matrix(y_test, predictions)"
   ]
  },
  {
   "cell_type": "markdown",
   "id": "d5e3c06d",
   "metadata": {},
   "source": [
    "Обучив модель случайного леса на данных, в которых присутствует дисбаланс классов видно, что модель достаточно плохо определяет клиентов, которые уйдут в отток. Получаем значение основной метрики (f1-score) на валидации - 0.537, ROC-AUC - 0.852 "
   ]
  },
  {
   "cell_type": "markdown",
   "id": "5e5318d7",
   "metadata": {},
   "source": [
    "### Модель случайного леса без дисбаланса классов\n",
    "#### Уменьшение выборки"
   ]
  },
  {
   "cell_type": "code",
   "execution_count": 24,
   "id": "5c2a7496",
   "metadata": {},
   "outputs": [],
   "source": [
    "def downsampling(features, target, fraction):\n",
    "    features_zeros = features[target == 0]\n",
    "    features_ones = features[target == 1]\n",
    "    target_zeros = target[target == 0]\n",
    "    target_ones = target[target == 1]\n",
    "\n",
    "    features_downsampled = pd.concat(\n",
    "        [features_zeros.sample(frac=fraction, random_state=RANDOM_SEED)] + [features_ones])\n",
    "    target_downsampled = pd.concat(\n",
    "        [target_zeros.sample(frac=fraction, random_state=RANDOM_SEED)] + [target_ones])\n",
    "    \n",
    "    features_downsampled, target_downsampled = shuffle(\n",
    "        features_downsampled, target_downsampled, random_state=RANDOM_SEED)\n",
    "    \n",
    "    return features_downsampled, target_downsampled\n",
    "\n"
   ]
  },
  {
   "cell_type": "code",
   "execution_count": 25,
   "id": "858fae11",
   "metadata": {},
   "outputs": [],
   "source": [
    "frac = len(X_train[y_train==1])/len(X_train[y_train==0])\n",
    "X_train_downsampled, y_train_downsampled = downsampling(X_train, y_train, frac)"
   ]
  },
  {
   "cell_type": "code",
   "execution_count": 26,
   "id": "8016559d",
   "metadata": {},
   "outputs": [],
   "source": [
    "params = { \n",
    "    'n_estimators': [50, 100, 200, 500],\n",
    "    'max_features': ['auto', 'sqrt', 'log2'],\n",
    "    'criterion' : ['gini', 'entropy'],\n",
    "    'max_depth': [10, 15, 20, 30, 40, 50]\n",
    "}\n",
    "\n",
    "# rfc_model = RandomForestClassifier(random_state=RANDOM_SEED)\n",
    "# grid_search_rfc = GridSearchCV(estimator=rfc_model,\n",
    "#                                param_grid=params,\n",
    "#                                cv=5,\n",
    "#                                scoring='f1')\n",
    "# grid_search_rfc.fit(X_train_downsampled, y_train_downsampled)\n",
    "# grid_search_rfc.best_params_\n",
    "\n",
    "# OUTPUT:\n",
    "# {'criterion': 'entropy',\n",
    "#  'max_depth': 15,\n",
    "#  'max_features': 'auto',\n",
    "#  'n_estimators': 500}"
   ]
  },
  {
   "cell_type": "code",
   "execution_count": 27,
   "id": "c6b5f520",
   "metadata": {},
   "outputs": [
    {
     "name": "stdout",
     "output_type": "stream",
     "text": [
      "ROC-AUC: 0.8421274030499358\n",
      "F1-score: 0.5636623748211731\n"
     ]
    }
   ],
   "source": [
    "rfc_model = RandomForestClassifier(random_state=RANDOM_SEED,\n",
    "                                   criterion='entropy',\n",
    "                                   max_depth=15,\n",
    "                                   max_features='auto',\n",
    "                                   n_estimators=700)\n",
    "rfc_model.fit(X_train_downsampled, y_train_downsampled)\n",
    "predictions = rfc_model.predict(X_val)\n",
    "y_pred_proba = rfc_model.predict_proba(X_val)[::,1]\n",
    "\n",
    "rfc_res_f1 = f1_score(y_val, predictions)\n",
    "rfc_res_roc_auc = roc_auc_score(y_val, y_pred_proba)\n",
    "print('ROC-AUC:', rfc_res_roc_auc)\n",
    "print('F1-score:', rfc_res_f1)"
   ]
  },
  {
   "cell_type": "code",
   "execution_count": 28,
   "id": "69b6f288",
   "metadata": {},
   "outputs": [
    {
     "data": {
      "image/png": "[encoded data removed]",
      "text/plain": [
       "<Figure size 640x480 with 1 Axes>"
      ]
     },
     "metadata": {},
     "output_type": "display_data"
    }
   ],
   "source": [
    "fpr, tpr, _ = roc_curve(y_val, y_pred_proba)\n",
    "\n",
    "plt.plot (fpr,tpr,label=\" ROC-AUC= \"+str(rfc_res_roc_auc)[:5])\n",
    "plt.ylabel('True Positive Rate')\n",
    "plt.xlabel('False Positive Rate')\n",
    "plt.legend(loc=4)\n",
    "plt.show() "
   ]
  },
  {
   "cell_type": "code",
   "execution_count": 29,
   "id": "27012738",
   "metadata": {},
   "outputs": [
    {
     "name": "stdout",
     "output_type": "stream",
     "text": [
      "F1 модели случайного леса на тестовой выборке: 0.5971428571428571\n"
     ]
    }
   ],
   "source": [
    "print('F1 модели случайного леса на тестовой выборке:',\n",
    "      f1_score(y_test, rfc_model.predict(X_test)))"
   ]
  },
  {
   "cell_type": "code",
   "execution_count": 30,
   "id": "b8e17c8d",
   "metadata": {},
   "outputs": [
    {
     "data": {
      "text/plain": [
       "array([[873, 213],\n",
       "       [ 69, 209]])"
      ]
     },
     "execution_count": 30,
     "metadata": {},
     "output_type": "execute_result"
    }
   ],
   "source": [
    "predictions = rfc_model.predict(X_test)\n",
    "confusion_matrix(y_test, predictions)"
   ]
  },
  {
   "cell_type": "markdown",
   "id": "3d3c2449",
   "metadata": {},
   "source": [
    "После того как обучающая выборка была сбалансирована с помощью уменьшения преобладающего класса значение f1 метрики вырасло с 0.53 до 0.59 и по матрице ошибок видно, что теперь модель примерно одинаково определяет 0 и 1 классы. Модель стала лучше предказывать клиентов, которые откажутся от услуг банка."
   ]
  },
  {
   "cell_type": "markdown",
   "id": "50a8ba63",
   "metadata": {},
   "source": [
    "#### Увеличение выборки"
   ]
  },
  {
   "cell_type": "code",
   "execution_count": 31,
   "id": "7f881e50",
   "metadata": {},
   "outputs": [],
   "source": [
    "def upsampling(features, target, repeat):\n",
    "    features_zeros = features[target == 0]\n",
    "    features_ones = features[target == 1]\n",
    "    target_zeros = target[target == 0]\n",
    "    target_ones = target[target == 1]\n",
    "\n",
    "    features_upsampled = pd.concat([features_zeros] + [features_ones] * repeat)\n",
    "    target_upsampled = pd.concat([target_zeros] + [target_ones] * repeat)\n",
    "    \n",
    "    features_upsampled, target_upsampled = shuffle(\n",
    "        features_upsampled, target_upsampled, random_state=RANDOM_SEED)\n",
    "    \n",
    "    return features_upsampled, target_upsampled"
   ]
  },
  {
   "cell_type": "code",
   "execution_count": 32,
   "id": "1e154223",
   "metadata": {},
   "outputs": [],
   "source": [
    "repeat = round(len(X_train[y_train==0])/len(X_train[y_train==1]))\n",
    "X_train_upsampled, y_train_upsampled = upsampling(X_train, y_train, repeat)"
   ]
  },
  {
   "cell_type": "code",
   "execution_count": 33,
   "id": "4aa81b6b",
   "metadata": {},
   "outputs": [],
   "source": [
    "params = { \n",
    "    'n_estimators': [50, 100, 200, 500],\n",
    "    'max_features': ['auto', 'sqrt', 'log2'],\n",
    "    'criterion' : ['gini', 'entropy'],\n",
    "    'max_depth': [10, 15, 20, 30, 40, 50]\n",
    "}\n",
    "\n",
    "# rfc_model = RandomForestClassifier(random_state=RANDOM_SEED)\n",
    "# grid_search_rfc = GridSearchCV(estimator=rfc_model,\n",
    "#                                param_grid=params,\n",
    "#                                cv=5,\n",
    "#                                scoring='f1')\n",
    "# grid_search_rfc.fit(X_train_upsampled, y_train_upsampled)\n",
    "# grid_search_rfc.best_params_\n",
    "\n",
    "# OUTPUT:\n",
    "# {'criterion': 'gini',\n",
    "#  'max_depth': 30,\n",
    "#  'max_features': 'auto',\n",
    "#  'n_estimators': 500}"
   ]
  },
  {
   "cell_type": "code",
   "execution_count": 34,
   "id": "a9d9dff5",
   "metadata": {},
   "outputs": [
    {
     "name": "stdout",
     "output_type": "stream",
     "text": [
      "ROC-AUC: 0.8415378194681824\n",
      "F1-score: 0.5850622406639003\n"
     ]
    }
   ],
   "source": [
    "rfc_model = RandomForestClassifier(random_state=RANDOM_SEED,\n",
    "                                   criterion='gini',\n",
    "                                   max_depth=30,\n",
    "                                   max_features='auto',\n",
    "                                   n_estimators=500)\n",
    "rfc_model.fit(X_train_upsampled, y_train_upsampled)\n",
    "predictions = rfc_model.predict(X_val)\n",
    "y_pred_proba = rfc_model.predict_proba(X_val)[::,1]\n",
    "\n",
    "rfc_res_f1 = f1_score(y_val, predictions)\n",
    "rfc_res_roc_auc = roc_auc_score(y_val, y_pred_proba)\n",
    "print('ROC-AUC:', rfc_res_roc_auc)\n",
    "print('F1-score:', rfc_res_f1)"
   ]
  },
  {
   "cell_type": "code",
   "execution_count": 35,
   "id": "bc6f0947",
   "metadata": {},
   "outputs": [
    {
     "data": {
      "image/png": "[encoded data removed]",
      "text/plain": [
       "<Figure size 640x480 with 1 Axes>"
      ]
     },
     "metadata": {},
     "output_type": "display_data"
    }
   ],
   "source": [
    "fpr, tpr, _ = roc_curve(y_val, y_pred_proba)\n",
    "\n",
    "plt.plot (fpr,tpr,label=\" ROC-AUC= \"+str(rfc_res_roc_auc)[:5])\n",
    "plt.ylabel('True Positive Rate')\n",
    "plt.xlabel('False Positive Rate')\n",
    "plt.legend(loc=4)\n",
    "plt.show() "
   ]
  },
  {
   "cell_type": "code",
   "execution_count": 36,
   "id": "67269985",
   "metadata": {},
   "outputs": [
    {
     "name": "stdout",
     "output_type": "stream",
     "text": [
      "F1 модели случайного леса на тестовой выборке: 0.5945945945945946\n"
     ]
    }
   ],
   "source": [
    "print('F1 модели случайного леса на тестовой выборке:',\n",
    "      f1_score(y_test, rfc_model.predict(X_test)))"
   ]
  },
  {
   "cell_type": "code",
   "execution_count": 37,
   "id": "6494e843",
   "metadata": {},
   "outputs": [
    {
     "data": {
      "text/plain": [
       "array([[1026,   60],\n",
       "       [ 135,  143]])"
      ]
     },
     "execution_count": 37,
     "metadata": {},
     "output_type": "execute_result"
    }
   ],
   "source": [
    "predictions = rfc_model.predict(X_test)\n",
    "confusion_matrix(y_test, predictions)"
   ]
  },
  {
   "cell_type": "markdown",
   "id": "0d483a41",
   "metadata": {},
   "source": [
    "В результате балансировки классов, с помощью увеличения доли меньшего класса, значение метрики f1 приблизилось к 0.59 на валидационной выборке. По матрице ошибок также видно, что достаточно большое количество False Positive предсказаний сохраняется.\n",
    "\n",
    "Параллельно проводилась проверка моделей на тестовой выборке. Результаты метрики f1 следующие:\n",
    "1. Модель с дисбалансом классов: 0.53\n",
    "2. Модель со сбалансированными классами с помощью уменьшения выборки: 0.597\n",
    "3. Модель со сбалансированными классами с помощью увеличения выборки: 0.594\n",
    "\n",
    "В качестве лучшей модели остановимся на модели №2"
   ]
  },
  {
   "cell_type": "markdown",
   "id": "422b19a5",
   "metadata": {},
   "source": [
    "## Общий вывод\n",
    "\n",
    "В результате выполнения данного проекта была обучена модель классификации, способная прогнозировать отток клиентов банка. Поскольку данные для обучения изначально несбалансированы (79.6% - класс `0` и 20.4% - класс `1`) - для корректного обучения модели необходимо было их сбалансировать. В результате чего, в качестве лучшей модели была отобрана модель случайного леса, обученная на данных, в которых преобладающий класс был уменьшен до размеров \"недостающего\". \n",
    "\n",
    "Данная модель показала значение целевой метрики (f1-score) на тестовом датасете - 0.597. Также модель была оценена с помощью метрики ROC-AUC, которая равняется 0.841"
   ]
  }
 ],
 "metadata": {
  "ExecuteTimeLog": [
   {
    "duration": 1162,
    "start_time": "2023-05-20T17:19:56.665Z"
   },
   {
    "duration": 0,
    "start_time": "2023-05-20T17:19:57.829Z"
   },
   {
    "duration": 0,
    "start_time": "2023-05-20T17:19:57.830Z"
   },
   {
    "duration": 0,
    "start_time": "2023-05-20T17:19:57.831Z"
   },
   {
    "duration": 0,
    "start_time": "2023-05-20T17:19:57.832Z"
   },
   {
    "duration": 0,
    "start_time": "2023-05-20T17:19:57.833Z"
   },
   {
    "duration": 0,
    "start_time": "2023-05-20T17:19:57.834Z"
   },
   {
    "duration": 0,
    "start_time": "2023-05-20T17:19:57.835Z"
   },
   {
    "duration": 0,
    "start_time": "2023-05-20T17:19:57.836Z"
   },
   {
    "duration": 0,
    "start_time": "2023-05-20T17:19:57.837Z"
   },
   {
    "duration": 0,
    "start_time": "2023-05-20T17:19:57.838Z"
   },
   {
    "duration": 0,
    "start_time": "2023-05-20T17:19:57.839Z"
   },
   {
    "duration": 0,
    "start_time": "2023-05-20T17:19:57.839Z"
   },
   {
    "duration": 0,
    "start_time": "2023-05-20T17:19:57.840Z"
   },
   {
    "duration": 0,
    "start_time": "2023-05-20T17:19:57.841Z"
   },
   {
    "duration": 0,
    "start_time": "2023-05-20T17:19:57.842Z"
   },
   {
    "duration": 0,
    "start_time": "2023-05-20T17:19:57.844Z"
   },
   {
    "duration": 0,
    "start_time": "2023-05-20T17:19:57.844Z"
   },
   {
    "duration": 0,
    "start_time": "2023-05-20T17:19:57.845Z"
   },
   {
    "duration": 0,
    "start_time": "2023-05-20T17:19:57.846Z"
   },
   {
    "duration": 0,
    "start_time": "2023-05-20T17:19:57.847Z"
   },
   {
    "duration": 0,
    "start_time": "2023-05-20T17:19:57.848Z"
   },
   {
    "duration": 0,
    "start_time": "2023-05-20T17:19:57.849Z"
   },
   {
    "duration": 0,
    "start_time": "2023-05-20T17:19:57.850Z"
   },
   {
    "duration": 0,
    "start_time": "2023-05-20T17:19:57.851Z"
   },
   {
    "duration": 0,
    "start_time": "2023-05-20T17:19:57.852Z"
   },
   {
    "duration": 0,
    "start_time": "2023-05-20T17:19:57.853Z"
   },
   {
    "duration": 0,
    "start_time": "2023-05-20T17:19:57.854Z"
   },
   {
    "duration": 0,
    "start_time": "2023-05-20T17:19:57.855Z"
   },
   {
    "duration": 0,
    "start_time": "2023-05-20T17:19:57.856Z"
   },
   {
    "duration": 0,
    "start_time": "2023-05-20T17:19:57.857Z"
   },
   {
    "duration": 0,
    "start_time": "2023-05-20T17:19:57.858Z"
   },
   {
    "duration": 0,
    "start_time": "2023-05-20T17:19:57.859Z"
   },
   {
    "duration": 0,
    "start_time": "2023-05-20T17:19:57.860Z"
   },
   {
    "duration": 0,
    "start_time": "2023-05-20T17:19:57.861Z"
   },
   {
    "duration": 0,
    "start_time": "2023-05-20T17:19:57.862Z"
   },
   {
    "duration": 0,
    "start_time": "2023-05-20T17:19:57.863Z"
   },
   {
    "duration": 3121,
    "start_time": "2023-05-20T17:21:32.960Z"
   },
   {
    "duration": 13,
    "start_time": "2023-05-20T17:21:39.998Z"
   },
   {
    "duration": 2070,
    "start_time": "2023-05-20T17:21:54.200Z"
   },
   {
    "duration": 15,
    "start_time": "2023-05-20T17:22:00.499Z"
   },
   {
    "duration": 57,
    "start_time": "2023-05-20T17:25:01.117Z"
   },
   {
    "duration": 1283,
    "start_time": "2023-05-20T17:25:07.498Z"
   },
   {
    "duration": 58,
    "start_time": "2023-05-20T17:25:08.783Z"
   },
   {
    "duration": 18,
    "start_time": "2023-05-20T17:25:08.842Z"
   },
   {
    "duration": 4,
    "start_time": "2023-05-20T17:25:08.862Z"
   },
   {
    "duration": 15,
    "start_time": "2023-05-20T17:25:08.868Z"
   },
   {
    "duration": 4,
    "start_time": "2023-05-20T17:25:08.885Z"
   },
   {
    "duration": 66,
    "start_time": "2023-05-20T17:25:08.891Z"
   },
   {
    "duration": 160,
    "start_time": "2023-05-20T17:25:08.959Z"
   },
   {
    "duration": 3,
    "start_time": "2023-05-20T17:25:09.121Z"
   },
   {
    "duration": 9,
    "start_time": "2023-05-20T17:25:09.126Z"
   },
   {
    "duration": 16,
    "start_time": "2023-05-20T17:25:09.136Z"
   },
   {
    "duration": 5,
    "start_time": "2023-05-20T17:25:09.154Z"
   },
   {
    "duration": 6,
    "start_time": "2023-05-20T17:25:09.161Z"
   },
   {
    "duration": 16,
    "start_time": "2023-05-20T17:25:09.169Z"
   },
   {
    "duration": 31,
    "start_time": "2023-05-20T17:25:09.186Z"
   },
   {
    "duration": 9,
    "start_time": "2023-05-20T17:25:09.219Z"
   },
   {
    "duration": 7,
    "start_time": "2023-05-20T17:25:09.229Z"
   },
   {
    "duration": 6,
    "start_time": "2023-05-20T17:25:09.237Z"
   },
   {
    "duration": 9,
    "start_time": "2023-05-20T17:25:09.245Z"
   },
   {
    "duration": 483,
    "start_time": "2023-05-20T17:25:09.255Z"
   },
   {
    "duration": 145,
    "start_time": "2023-05-20T17:25:09.740Z"
   },
   {
    "duration": 32,
    "start_time": "2023-05-20T17:25:09.886Z"
   },
   {
    "duration": 131,
    "start_time": "2023-05-20T17:25:09.919Z"
   },
   {
    "duration": 0,
    "start_time": "2023-05-20T17:25:10.051Z"
   },
   {
    "duration": 0,
    "start_time": "2023-05-20T17:25:10.053Z"
   },
   {
    "duration": 0,
    "start_time": "2023-05-20T17:25:10.054Z"
   },
   {
    "duration": 0,
    "start_time": "2023-05-20T17:25:10.056Z"
   },
   {
    "duration": 0,
    "start_time": "2023-05-20T17:25:10.057Z"
   },
   {
    "duration": 0,
    "start_time": "2023-05-20T17:25:10.058Z"
   },
   {
    "duration": 0,
    "start_time": "2023-05-20T17:25:10.060Z"
   },
   {
    "duration": 0,
    "start_time": "2023-05-20T17:25:10.061Z"
   },
   {
    "duration": 0,
    "start_time": "2023-05-20T17:25:10.063Z"
   },
   {
    "duration": 0,
    "start_time": "2023-05-20T17:25:10.064Z"
   },
   {
    "duration": 0,
    "start_time": "2023-05-20T17:25:10.066Z"
   },
   {
    "duration": 0,
    "start_time": "2023-05-20T17:25:10.067Z"
   },
   {
    "duration": 0,
    "start_time": "2023-05-20T17:25:10.069Z"
   },
   {
    "duration": 0,
    "start_time": "2023-05-20T17:25:10.070Z"
   },
   {
    "duration": 1256,
    "start_time": "2023-05-20T17:26:44.250Z"
   },
   {
    "duration": 0,
    "start_time": "2023-05-20T17:26:45.508Z"
   },
   {
    "duration": 0,
    "start_time": "2023-05-20T17:26:45.509Z"
   },
   {
    "duration": 0,
    "start_time": "2023-05-20T17:26:45.510Z"
   },
   {
    "duration": 0,
    "start_time": "2023-05-20T17:26:45.511Z"
   },
   {
    "duration": 0,
    "start_time": "2023-05-20T17:26:45.517Z"
   },
   {
    "duration": 0,
    "start_time": "2023-05-20T17:26:45.518Z"
   },
   {
    "duration": 0,
    "start_time": "2023-05-20T17:26:45.519Z"
   },
   {
    "duration": 0,
    "start_time": "2023-05-20T17:26:45.520Z"
   },
   {
    "duration": 0,
    "start_time": "2023-05-20T17:26:45.521Z"
   },
   {
    "duration": 0,
    "start_time": "2023-05-20T17:26:45.522Z"
   },
   {
    "duration": 0,
    "start_time": "2023-05-20T17:26:45.523Z"
   },
   {
    "duration": 0,
    "start_time": "2023-05-20T17:26:45.524Z"
   },
   {
    "duration": 0,
    "start_time": "2023-05-20T17:26:45.525Z"
   },
   {
    "duration": 0,
    "start_time": "2023-05-20T17:26:45.526Z"
   },
   {
    "duration": 0,
    "start_time": "2023-05-20T17:26:45.527Z"
   },
   {
    "duration": 0,
    "start_time": "2023-05-20T17:26:45.528Z"
   },
   {
    "duration": 0,
    "start_time": "2023-05-20T17:26:45.529Z"
   },
   {
    "duration": 0,
    "start_time": "2023-05-20T17:26:45.529Z"
   },
   {
    "duration": 0,
    "start_time": "2023-05-20T17:26:45.530Z"
   },
   {
    "duration": 0,
    "start_time": "2023-05-20T17:26:45.531Z"
   },
   {
    "duration": 0,
    "start_time": "2023-05-20T17:26:45.532Z"
   },
   {
    "duration": 0,
    "start_time": "2023-05-20T17:26:45.533Z"
   },
   {
    "duration": 0,
    "start_time": "2023-05-20T17:26:45.534Z"
   },
   {
    "duration": 0,
    "start_time": "2023-05-20T17:26:45.534Z"
   },
   {
    "duration": 0,
    "start_time": "2023-05-20T17:26:45.535Z"
   },
   {
    "duration": 0,
    "start_time": "2023-05-20T17:26:45.537Z"
   },
   {
    "duration": 0,
    "start_time": "2023-05-20T17:26:45.538Z"
   },
   {
    "duration": 0,
    "start_time": "2023-05-20T17:26:45.539Z"
   },
   {
    "duration": 0,
    "start_time": "2023-05-20T17:26:45.539Z"
   },
   {
    "duration": 0,
    "start_time": "2023-05-20T17:26:45.540Z"
   },
   {
    "duration": 0,
    "start_time": "2023-05-20T17:26:45.541Z"
   },
   {
    "duration": 0,
    "start_time": "2023-05-20T17:26:45.542Z"
   },
   {
    "duration": 0,
    "start_time": "2023-05-20T17:26:45.543Z"
   },
   {
    "duration": 0,
    "start_time": "2023-05-20T17:26:45.544Z"
   },
   {
    "duration": 0,
    "start_time": "2023-05-20T17:26:45.544Z"
   },
   {
    "duration": 0,
    "start_time": "2023-05-20T17:26:45.545Z"
   },
   {
    "duration": 1223,
    "start_time": "2023-05-20T17:27:11.223Z"
   },
   {
    "duration": 0,
    "start_time": "2023-05-20T17:27:12.448Z"
   },
   {
    "duration": 0,
    "start_time": "2023-05-20T17:27:12.452Z"
   },
   {
    "duration": 0,
    "start_time": "2023-05-20T17:27:12.453Z"
   },
   {
    "duration": 0,
    "start_time": "2023-05-20T17:27:12.455Z"
   },
   {
    "duration": 0,
    "start_time": "2023-05-20T17:27:12.456Z"
   },
   {
    "duration": 0,
    "start_time": "2023-05-20T17:27:12.457Z"
   },
   {
    "duration": 0,
    "start_time": "2023-05-20T17:27:12.458Z"
   },
   {
    "duration": 0,
    "start_time": "2023-05-20T17:27:12.459Z"
   },
   {
    "duration": 0,
    "start_time": "2023-05-20T17:27:12.460Z"
   },
   {
    "duration": 0,
    "start_time": "2023-05-20T17:27:12.461Z"
   },
   {
    "duration": 0,
    "start_time": "2023-05-20T17:27:12.462Z"
   },
   {
    "duration": 0,
    "start_time": "2023-05-20T17:27:12.463Z"
   },
   {
    "duration": 0,
    "start_time": "2023-05-20T17:27:12.464Z"
   },
   {
    "duration": 0,
    "start_time": "2023-05-20T17:27:12.465Z"
   },
   {
    "duration": 0,
    "start_time": "2023-05-20T17:27:12.466Z"
   },
   {
    "duration": 0,
    "start_time": "2023-05-20T17:27:12.467Z"
   },
   {
    "duration": 0,
    "start_time": "2023-05-20T17:27:12.468Z"
   },
   {
    "duration": 0,
    "start_time": "2023-05-20T17:27:12.468Z"
   },
   {
    "duration": 0,
    "start_time": "2023-05-20T17:27:12.469Z"
   },
   {
    "duration": 0,
    "start_time": "2023-05-20T17:27:12.470Z"
   },
   {
    "duration": 0,
    "start_time": "2023-05-20T17:27:12.471Z"
   },
   {
    "duration": 0,
    "start_time": "2023-05-20T17:27:12.472Z"
   },
   {
    "duration": 0,
    "start_time": "2023-05-20T17:27:12.473Z"
   },
   {
    "duration": 0,
    "start_time": "2023-05-20T17:27:12.473Z"
   },
   {
    "duration": 0,
    "start_time": "2023-05-20T17:27:12.474Z"
   },
   {
    "duration": 0,
    "start_time": "2023-05-20T17:27:12.475Z"
   },
   {
    "duration": 0,
    "start_time": "2023-05-20T17:27:12.476Z"
   },
   {
    "duration": 0,
    "start_time": "2023-05-20T17:27:12.517Z"
   },
   {
    "duration": 0,
    "start_time": "2023-05-20T17:27:12.519Z"
   },
   {
    "duration": 0,
    "start_time": "2023-05-20T17:27:12.520Z"
   },
   {
    "duration": 0,
    "start_time": "2023-05-20T17:27:12.522Z"
   },
   {
    "duration": 0,
    "start_time": "2023-05-20T17:27:12.523Z"
   },
   {
    "duration": 0,
    "start_time": "2023-05-20T17:27:12.523Z"
   },
   {
    "duration": 0,
    "start_time": "2023-05-20T17:27:12.524Z"
   },
   {
    "duration": 0,
    "start_time": "2023-05-20T17:27:12.525Z"
   },
   {
    "duration": 0,
    "start_time": "2023-05-20T17:27:12.526Z"
   },
   {
    "duration": 1564,
    "start_time": "2023-05-20T18:22:16.730Z"
   },
   {
    "duration": 4,
    "start_time": "2023-05-20T18:25:37.311Z"
   },
   {
    "duration": 175,
    "start_time": "2023-05-20T18:25:37.479Z"
   },
   {
    "duration": 17,
    "start_time": "2023-05-20T18:25:37.657Z"
   },
   {
    "duration": 4,
    "start_time": "2023-05-20T18:25:37.676Z"
   },
   {
    "duration": 14,
    "start_time": "2023-05-20T18:25:37.758Z"
   },
   {
    "duration": 5,
    "start_time": "2023-05-20T18:25:37.886Z"
   },
   {
    "duration": 45,
    "start_time": "2023-05-20T18:25:37.977Z"
   },
   {
    "duration": 182,
    "start_time": "2023-05-20T18:25:38.325Z"
   },
   {
    "duration": 4,
    "start_time": "2023-05-20T18:25:38.509Z"
   },
   {
    "duration": 12,
    "start_time": "2023-05-20T18:25:38.514Z"
   },
   {
    "duration": 9,
    "start_time": "2023-05-20T18:25:38.574Z"
   },
   {
    "duration": 6,
    "start_time": "2023-05-20T18:25:38.717Z"
   },
   {
    "duration": 8,
    "start_time": "2023-05-20T18:25:38.804Z"
   },
   {
    "duration": 12,
    "start_time": "2023-05-20T18:25:39.066Z"
   },
   {
    "duration": 11,
    "start_time": "2023-05-20T18:25:39.309Z"
   },
   {
    "duration": 9,
    "start_time": "2023-05-20T18:25:39.483Z"
   },
   {
    "duration": 8,
    "start_time": "2023-05-20T18:25:39.574Z"
   },
   {
    "duration": 6,
    "start_time": "2023-05-20T18:25:39.807Z"
   },
   {
    "duration": 7,
    "start_time": "2023-05-20T18:25:39.893Z"
   },
   {
    "duration": 387,
    "start_time": "2023-05-20T18:25:40.166Z"
   },
   {
    "duration": 127,
    "start_time": "2023-05-20T18:25:40.555Z"
   },
   {
    "duration": 25,
    "start_time": "2023-05-20T18:25:40.684Z"
   },
   {
    "duration": 172,
    "start_time": "2023-05-20T18:25:40.711Z"
   },
   {
    "duration": 4,
    "start_time": "2023-05-20T18:25:40.885Z"
   },
   {
    "duration": 21,
    "start_time": "2023-05-20T18:25:40.891Z"
   },
   {
    "duration": 9,
    "start_time": "2023-05-20T18:25:40.914Z"
   },
   {
    "duration": 2533,
    "start_time": "2023-05-20T18:25:40.925Z"
   },
   {
    "duration": 127,
    "start_time": "2023-05-20T18:25:43.460Z"
   },
   {
    "duration": 308,
    "start_time": "2023-05-20T18:25:43.588Z"
   },
   {
    "duration": 358,
    "start_time": "2023-05-20T18:25:43.898Z"
   },
   {
    "duration": 4,
    "start_time": "2023-05-20T18:25:44.258Z"
   },
   {
    "duration": 16,
    "start_time": "2023-05-20T18:25:44.264Z"
   },
   {
    "duration": 3,
    "start_time": "2023-05-20T18:25:44.282Z"
   },
   {
    "duration": 5975,
    "start_time": "2023-05-20T18:25:44.286Z"
   },
   {
    "duration": 127,
    "start_time": "2023-05-20T18:25:50.263Z"
   },
   {
    "duration": 227,
    "start_time": "2023-05-20T18:25:50.392Z"
   },
   {
    "duration": 356,
    "start_time": "2023-05-20T18:25:50.621Z"
   },
   {
    "duration": 4,
    "start_time": "2023-05-20T18:27:58.162Z"
   },
   {
    "duration": 68,
    "start_time": "2023-05-20T18:27:58.309Z"
   },
   {
    "duration": 14,
    "start_time": "2023-05-20T18:27:58.383Z"
   },
   {
    "duration": 5,
    "start_time": "2023-05-20T18:27:58.517Z"
   },
   {
    "duration": 13,
    "start_time": "2023-05-20T18:27:58.608Z"
   },
   {
    "duration": 4,
    "start_time": "2023-05-20T18:27:58.721Z"
   },
   {
    "duration": 53,
    "start_time": "2023-05-20T18:27:58.804Z"
   },
   {
    "duration": 163,
    "start_time": "2023-05-20T18:27:58.973Z"
   },
   {
    "duration": 4,
    "start_time": "2023-05-20T18:27:59.158Z"
   },
   {
    "duration": 9,
    "start_time": "2023-05-20T18:27:59.221Z"
   },
   {
    "duration": 10,
    "start_time": "2023-05-20T18:27:59.388Z"
   },
   {
    "duration": 7,
    "start_time": "2023-05-20T18:27:59.566Z"
   },
   {
    "duration": 6,
    "start_time": "2023-05-20T18:27:59.810Z"
   },
   {
    "duration": 11,
    "start_time": "2023-05-20T18:27:59.892Z"
   },
   {
    "duration": 10,
    "start_time": "2023-05-20T18:28:00.154Z"
   },
   {
    "duration": 10,
    "start_time": "2023-05-20T18:28:00.316Z"
   },
   {
    "duration": 7,
    "start_time": "2023-05-20T18:28:00.397Z"
   },
   {
    "duration": 6,
    "start_time": "2023-05-20T18:28:00.666Z"
   },
   {
    "duration": 7,
    "start_time": "2023-05-20T18:28:00.726Z"
   },
   {
    "duration": 438,
    "start_time": "2023-05-20T18:28:00.985Z"
   },
   {
    "duration": 139,
    "start_time": "2023-05-20T18:28:01.425Z"
   },
   {
    "duration": 27,
    "start_time": "2023-05-20T18:28:01.566Z"
   },
   {
    "duration": 188,
    "start_time": "2023-05-20T18:28:01.595Z"
   },
   {
    "duration": 4,
    "start_time": "2023-05-20T18:28:01.785Z"
   },
   {
    "duration": 48,
    "start_time": "2023-05-20T18:28:01.791Z"
   },
   {
    "duration": 27,
    "start_time": "2023-05-20T18:28:01.842Z"
   },
   {
    "duration": 2578,
    "start_time": "2023-05-20T18:28:01.871Z"
   },
   {
    "duration": 132,
    "start_time": "2023-05-20T18:28:04.451Z"
   },
   {
    "duration": 226,
    "start_time": "2023-05-20T18:28:04.585Z"
   },
   {
    "duration": 381,
    "start_time": "2023-05-20T18:28:04.813Z"
   },
   {
    "duration": 5,
    "start_time": "2023-05-20T18:28:05.196Z"
   },
   {
    "duration": 40,
    "start_time": "2023-05-20T18:28:05.203Z"
   },
   {
    "duration": 4,
    "start_time": "2023-05-20T18:28:05.245Z"
   },
   {
    "duration": 1288,
    "start_time": "2023-05-20T18:28:17.679Z"
   },
   {
    "duration": 98,
    "start_time": "2023-05-20T18:28:18.969Z"
   },
   {
    "duration": 19,
    "start_time": "2023-05-20T18:28:19.370Z"
   },
   {
    "duration": 6,
    "start_time": "2023-05-20T18:28:20.202Z"
   },
   {
    "duration": 14,
    "start_time": "2023-05-20T18:28:20.358Z"
   },
   {
    "duration": 4,
    "start_time": "2023-05-20T18:28:20.695Z"
   },
   {
    "duration": 42,
    "start_time": "2023-05-20T18:28:20.773Z"
   },
   {
    "duration": 155,
    "start_time": "2023-05-20T18:28:20.962Z"
   },
   {
    "duration": 3,
    "start_time": "2023-05-20T18:28:21.119Z"
   },
   {
    "duration": 6,
    "start_time": "2023-05-20T18:28:21.187Z"
   },
   {
    "duration": 10,
    "start_time": "2023-05-20T18:28:21.366Z"
   },
   {
    "duration": 6,
    "start_time": "2023-05-20T18:28:21.523Z"
   },
   {
    "duration": 6,
    "start_time": "2023-05-20T18:28:21.607Z"
   },
   {
    "duration": 10,
    "start_time": "2023-05-20T18:28:21.865Z"
   },
   {
    "duration": 9,
    "start_time": "2023-05-20T18:28:22.111Z"
   },
   {
    "duration": 9,
    "start_time": "2023-05-20T18:28:22.281Z"
   },
   {
    "duration": 7,
    "start_time": "2023-05-20T18:28:22.370Z"
   },
   {
    "duration": 6,
    "start_time": "2023-05-20T18:28:22.611Z"
   },
   {
    "duration": 8,
    "start_time": "2023-05-20T18:28:22.694Z"
   },
   {
    "duration": 393,
    "start_time": "2023-05-20T18:28:22.958Z"
   },
   {
    "duration": 144,
    "start_time": "2023-05-20T18:28:23.357Z"
   },
   {
    "duration": 27,
    "start_time": "2023-05-20T18:28:23.503Z"
   },
   {
    "duration": 129,
    "start_time": "2023-05-20T18:28:23.532Z"
   },
   {
    "duration": 0,
    "start_time": "2023-05-20T18:28:23.663Z"
   },
   {
    "duration": 0,
    "start_time": "2023-05-20T18:28:23.664Z"
   },
   {
    "duration": 0,
    "start_time": "2023-05-20T18:28:23.665Z"
   },
   {
    "duration": 9,
    "start_time": "2023-05-20T18:29:40.966Z"
   },
   {
    "duration": 3,
    "start_time": "2023-05-20T18:29:50.517Z"
   },
   {
    "duration": 3,
    "start_time": "2023-05-20T18:31:51.281Z"
   },
   {
    "duration": 6,
    "start_time": "2023-05-20T18:32:45.798Z"
   },
   {
    "duration": 58,
    "start_time": "2023-05-20T18:35:51.975Z"
   },
   {
    "duration": 28,
    "start_time": "2023-05-20T18:36:10.316Z"
   },
   {
    "duration": 4,
    "start_time": "2023-05-20T18:36:45.262Z"
   },
   {
    "duration": 85,
    "start_time": "2023-05-20T18:36:45.413Z"
   },
   {
    "duration": 13,
    "start_time": "2023-05-20T18:36:45.500Z"
   },
   {
    "duration": 5,
    "start_time": "2023-05-20T18:36:45.654Z"
   },
   {
    "duration": 29,
    "start_time": "2023-05-20T18:36:45.674Z"
   },
   {
    "duration": 5,
    "start_time": "2023-05-20T18:36:45.862Z"
   },
   {
    "duration": 43,
    "start_time": "2023-05-20T18:36:45.913Z"
   },
   {
    "duration": 157,
    "start_time": "2023-05-20T18:36:46.081Z"
   },
   {
    "duration": 4,
    "start_time": "2023-05-20T18:36:46.254Z"
   },
   {
    "duration": 9,
    "start_time": "2023-05-20T18:36:46.362Z"
   },
   {
    "duration": 10,
    "start_time": "2023-05-20T18:36:46.499Z"
   },
   {
    "duration": 7,
    "start_time": "2023-05-20T18:36:46.685Z"
   },
   {
    "duration": 10,
    "start_time": "2023-05-20T18:36:46.762Z"
   },
   {
    "duration": 13,
    "start_time": "2023-05-20T18:36:47.008Z"
   },
   {
    "duration": 10,
    "start_time": "2023-05-20T18:36:47.266Z"
   },
   {
    "duration": 10,
    "start_time": "2023-05-20T18:36:47.441Z"
   },
   {
    "duration": 7,
    "start_time": "2023-05-20T18:36:47.516Z"
   },
   {
    "duration": 7,
    "start_time": "2023-05-20T18:36:47.766Z"
   },
   {
    "duration": 9,
    "start_time": "2023-05-20T18:36:47.854Z"
   },
   {
    "duration": 422,
    "start_time": "2023-05-20T18:36:48.098Z"
   },
   {
    "duration": 147,
    "start_time": "2023-05-20T18:36:48.523Z"
   },
   {
    "duration": 29,
    "start_time": "2023-05-20T18:36:48.673Z"
   },
   {
    "duration": 53,
    "start_time": "2023-05-20T18:36:48.705Z"
   },
   {
    "duration": 4,
    "start_time": "2023-05-20T18:36:49.282Z"
   },
   {
    "duration": 16,
    "start_time": "2023-05-20T18:36:49.797Z"
   },
   {
    "duration": 4,
    "start_time": "2023-05-20T18:36:50.063Z"
   },
   {
    "duration": 2748,
    "start_time": "2023-05-20T18:36:50.151Z"
   },
   {
    "duration": 234,
    "start_time": "2023-05-20T18:36:52.901Z"
   },
   {
    "duration": 226,
    "start_time": "2023-05-20T18:36:53.137Z"
   },
   {
    "duration": 211,
    "start_time": "2023-05-20T18:36:53.365Z"
   },
   {
    "duration": 4,
    "start_time": "2023-05-20T18:36:53.577Z"
   },
   {
    "duration": 23,
    "start_time": "2023-05-20T18:36:53.583Z"
   },
   {
    "duration": 9,
    "start_time": "2023-05-20T18:36:53.608Z"
   },
   {
    "duration": 6147,
    "start_time": "2023-05-20T18:36:53.618Z"
   },
   {
    "duration": 147,
    "start_time": "2023-05-20T18:36:59.767Z"
   },
   {
    "duration": 240,
    "start_time": "2023-05-20T18:36:59.917Z"
   },
   {
    "duration": 246,
    "start_time": "2023-05-20T18:37:00.158Z"
   },
   {
    "duration": 1378,
    "start_time": "2023-05-20T18:38:11.280Z"
   },
   {
    "duration": 80,
    "start_time": "2023-05-20T18:38:12.660Z"
   },
   {
    "duration": 18,
    "start_time": "2023-05-20T18:38:12.742Z"
   },
   {
    "duration": 4,
    "start_time": "2023-05-20T18:38:12.761Z"
   },
   {
    "duration": 25,
    "start_time": "2023-05-20T18:38:12.767Z"
   },
   {
    "duration": 4,
    "start_time": "2023-05-20T18:38:12.793Z"
   },
   {
    "duration": 42,
    "start_time": "2023-05-20T18:38:12.799Z"
   },
   {
    "duration": 177,
    "start_time": "2023-05-20T18:38:12.842Z"
   },
   {
    "duration": 4,
    "start_time": "2023-05-20T18:38:13.021Z"
   },
   {
    "duration": 11,
    "start_time": "2023-05-20T18:38:13.026Z"
   },
   {
    "duration": 25,
    "start_time": "2023-05-20T18:38:13.039Z"
   },
   {
    "duration": 7,
    "start_time": "2023-05-20T18:38:13.066Z"
   },
   {
    "duration": 9,
    "start_time": "2023-05-20T18:38:13.074Z"
   },
   {
    "duration": 12,
    "start_time": "2023-05-20T18:38:13.086Z"
   },
   {
    "duration": 9,
    "start_time": "2023-05-20T18:38:13.100Z"
   },
   {
    "duration": 19,
    "start_time": "2023-05-20T18:38:13.111Z"
   },
   {
    "duration": 8,
    "start_time": "2023-05-20T18:38:13.156Z"
   },
   {
    "duration": 9,
    "start_time": "2023-05-20T18:38:13.166Z"
   },
   {
    "duration": 16,
    "start_time": "2023-05-20T18:38:13.176Z"
   },
   {
    "duration": 401,
    "start_time": "2023-05-20T18:38:13.193Z"
   },
   {
    "duration": 143,
    "start_time": "2023-05-20T18:38:13.595Z"
   },
   {
    "duration": 32,
    "start_time": "2023-05-20T18:38:13.740Z"
   },
   {
    "duration": 27,
    "start_time": "2023-05-20T18:38:13.774Z"
   },
   {
    "duration": 5,
    "start_time": "2023-05-20T18:38:13.803Z"
   },
   {
    "duration": 15,
    "start_time": "2023-05-20T18:38:13.809Z"
   },
   {
    "duration": 4,
    "start_time": "2023-05-20T18:38:13.825Z"
   },
   {
    "duration": 2585,
    "start_time": "2023-05-20T18:38:13.830Z"
   },
   {
    "duration": 135,
    "start_time": "2023-05-20T18:38:16.417Z"
   },
   {
    "duration": 320,
    "start_time": "2023-05-20T18:38:16.553Z"
   },
   {
    "duration": 228,
    "start_time": "2023-05-20T18:38:16.874Z"
   },
   {
    "duration": 3,
    "start_time": "2023-05-20T18:38:17.104Z"
   },
   {
    "duration": 14,
    "start_time": "2023-05-20T18:38:17.109Z"
   },
   {
    "duration": 4,
    "start_time": "2023-05-20T18:38:17.124Z"
   },
   {
    "duration": 5895,
    "start_time": "2023-05-20T18:38:17.129Z"
   },
   {
    "duration": 138,
    "start_time": "2023-05-20T18:38:23.026Z"
   },
   {
    "duration": 229,
    "start_time": "2023-05-20T18:38:23.167Z"
   },
   {
    "duration": 230,
    "start_time": "2023-05-20T18:38:23.397Z"
   },
   {
    "duration": 1357,
    "start_time": "2023-05-20T18:41:31.274Z"
   },
   {
    "duration": 178,
    "start_time": "2023-05-20T18:41:32.634Z"
   },
   {
    "duration": 17,
    "start_time": "2023-05-20T18:41:32.814Z"
   },
   {
    "duration": 5,
    "start_time": "2023-05-20T18:41:32.833Z"
   },
   {
    "duration": 45,
    "start_time": "2023-05-20T18:41:32.839Z"
   },
   {
    "duration": 6,
    "start_time": "2023-05-20T18:41:32.886Z"
   },
   {
    "duration": 57,
    "start_time": "2023-05-20T18:41:32.894Z"
   },
   {
    "duration": 160,
    "start_time": "2023-05-20T18:41:32.953Z"
   },
   {
    "duration": 4,
    "start_time": "2023-05-20T18:41:33.114Z"
   },
   {
    "duration": 14,
    "start_time": "2023-05-20T18:41:33.121Z"
   },
   {
    "duration": 23,
    "start_time": "2023-05-20T18:41:33.136Z"
   },
   {
    "duration": 6,
    "start_time": "2023-05-20T18:41:33.161Z"
   },
   {
    "duration": 11,
    "start_time": "2023-05-20T18:41:33.169Z"
   },
   {
    "duration": 18,
    "start_time": "2023-05-20T18:41:33.181Z"
   },
   {
    "duration": 23,
    "start_time": "2023-05-20T18:41:33.201Z"
   },
   {
    "duration": 12,
    "start_time": "2023-05-20T18:41:33.226Z"
   },
   {
    "duration": 21,
    "start_time": "2023-05-20T18:41:33.240Z"
   },
   {
    "duration": 17,
    "start_time": "2023-05-20T18:41:33.263Z"
   },
   {
    "duration": 8,
    "start_time": "2023-05-20T18:41:33.281Z"
   },
   {
    "duration": 411,
    "start_time": "2023-05-20T18:41:33.291Z"
   },
   {
    "duration": 124,
    "start_time": "2023-05-20T18:41:33.704Z"
   },
   {
    "duration": 35,
    "start_time": "2023-05-20T18:41:33.830Z"
   },
   {
    "duration": 26,
    "start_time": "2023-05-20T18:41:33.867Z"
   },
   {
    "duration": 4,
    "start_time": "2023-05-20T18:41:33.895Z"
   },
   {
    "duration": 26,
    "start_time": "2023-05-20T18:41:33.901Z"
   },
   {
    "duration": 3,
    "start_time": "2023-05-20T18:41:33.929Z"
   },
   {
    "duration": 2548,
    "start_time": "2023-05-20T18:41:33.934Z"
   },
   {
    "duration": 136,
    "start_time": "2023-05-20T18:41:36.486Z"
   },
   {
    "duration": 225,
    "start_time": "2023-05-20T18:41:36.624Z"
   },
   {
    "duration": 233,
    "start_time": "2023-05-20T18:41:36.856Z"
   },
   {
    "duration": 3,
    "start_time": "2023-05-20T18:41:37.091Z"
   },
   {
    "duration": 15,
    "start_time": "2023-05-20T18:41:37.096Z"
   },
   {
    "duration": 3,
    "start_time": "2023-05-20T18:41:37.113Z"
   },
   {
    "duration": 6044,
    "start_time": "2023-05-20T18:41:37.118Z"
   },
   {
    "duration": 152,
    "start_time": "2023-05-20T18:41:43.165Z"
   },
   {
    "duration": 225,
    "start_time": "2023-05-20T18:41:43.318Z"
   },
   {
    "duration": 223,
    "start_time": "2023-05-20T18:41:43.544Z"
   },
   {
    "duration": 1426,
    "start_time": "2023-05-20T18:45:58.966Z"
   },
   {
    "duration": 84,
    "start_time": "2023-05-20T18:46:00.394Z"
   },
   {
    "duration": 17,
    "start_time": "2023-05-20T18:46:00.480Z"
   },
   {
    "duration": 21,
    "start_time": "2023-05-20T18:46:00.499Z"
   },
   {
    "duration": 51,
    "start_time": "2023-05-20T18:46:00.522Z"
   },
   {
    "duration": 35,
    "start_time": "2023-05-20T18:46:00.575Z"
   },
   {
    "duration": 66,
    "start_time": "2023-05-20T18:46:00.612Z"
   },
   {
    "duration": 190,
    "start_time": "2023-05-20T18:46:00.680Z"
   },
   {
    "duration": 5,
    "start_time": "2023-05-20T18:46:00.872Z"
   },
   {
    "duration": 42,
    "start_time": "2023-05-20T18:46:00.879Z"
   },
   {
    "duration": 33,
    "start_time": "2023-05-20T18:46:00.922Z"
   },
   {
    "duration": 30,
    "start_time": "2023-05-20T18:46:00.957Z"
   },
   {
    "duration": 42,
    "start_time": "2023-05-20T18:46:00.988Z"
   },
   {
    "duration": 66,
    "start_time": "2023-05-20T18:46:01.032Z"
   },
   {
    "duration": 38,
    "start_time": "2023-05-20T18:46:01.100Z"
   },
   {
    "duration": 47,
    "start_time": "2023-05-20T18:46:01.140Z"
   },
   {
    "duration": 28,
    "start_time": "2023-05-20T18:46:01.196Z"
   },
   {
    "duration": 6,
    "start_time": "2023-05-20T18:46:01.450Z"
   },
   {
    "duration": 8,
    "start_time": "2023-05-20T18:46:01.525Z"
   },
   {
    "duration": 409,
    "start_time": "2023-05-20T18:46:01.782Z"
   },
   {
    "duration": 139,
    "start_time": "2023-05-20T18:46:02.194Z"
   },
   {
    "duration": 40,
    "start_time": "2023-05-20T18:46:02.336Z"
   },
   {
    "duration": 28,
    "start_time": "2023-05-20T18:46:02.379Z"
   },
   {
    "duration": 5,
    "start_time": "2023-05-20T18:46:02.409Z"
   },
   {
    "duration": 31,
    "start_time": "2023-05-20T18:46:02.415Z"
   },
   {
    "duration": 3,
    "start_time": "2023-05-20T18:46:02.470Z"
   },
   {
    "duration": 2575,
    "start_time": "2023-05-20T18:46:02.558Z"
   },
   {
    "duration": 144,
    "start_time": "2023-05-20T18:46:05.135Z"
   },
   {
    "duration": 241,
    "start_time": "2023-05-20T18:46:05.281Z"
   },
   {
    "duration": 238,
    "start_time": "2023-05-20T18:46:05.524Z"
   },
   {
    "duration": 4,
    "start_time": "2023-05-20T18:46:05.763Z"
   },
   {
    "duration": 24,
    "start_time": "2023-05-20T18:46:05.768Z"
   },
   {
    "duration": 13,
    "start_time": "2023-05-20T18:46:05.794Z"
   },
   {
    "duration": 6225,
    "start_time": "2023-05-20T18:46:05.809Z"
   },
   {
    "duration": 138,
    "start_time": "2023-05-20T18:46:12.037Z"
   },
   {
    "duration": 229,
    "start_time": "2023-05-20T18:46:12.177Z"
   },
   {
    "duration": 231,
    "start_time": "2023-05-20T18:46:12.408Z"
   },
   {
    "duration": 1175,
    "start_time": "2023-05-20T19:01:26.904Z"
   },
   {
    "duration": 68,
    "start_time": "2023-05-20T19:01:28.081Z"
   },
   {
    "duration": 20,
    "start_time": "2023-05-20T19:01:28.151Z"
   },
   {
    "duration": 5,
    "start_time": "2023-05-20T19:01:28.173Z"
   },
   {
    "duration": 35,
    "start_time": "2023-05-20T19:01:28.180Z"
   },
   {
    "duration": 4,
    "start_time": "2023-05-20T19:01:28.217Z"
   },
   {
    "duration": 46,
    "start_time": "2023-05-20T19:01:28.222Z"
   },
   {
    "duration": 152,
    "start_time": "2023-05-20T19:01:28.269Z"
   },
   {
    "duration": 4,
    "start_time": "2023-05-20T19:01:28.422Z"
   },
   {
    "duration": 13,
    "start_time": "2023-05-20T19:01:28.428Z"
   },
   {
    "duration": 17,
    "start_time": "2023-05-20T19:01:28.442Z"
   },
   {
    "duration": 5,
    "start_time": "2023-05-20T19:01:28.461Z"
   },
   {
    "duration": 7,
    "start_time": "2023-05-20T19:01:28.468Z"
   },
   {
    "duration": 12,
    "start_time": "2023-05-20T19:01:28.478Z"
   },
   {
    "duration": 12,
    "start_time": "2023-05-20T19:01:28.518Z"
   },
   {
    "duration": 11,
    "start_time": "2023-05-20T19:01:28.533Z"
   },
   {
    "duration": 7,
    "start_time": "2023-05-20T19:01:28.546Z"
   },
   {
    "duration": 18,
    "start_time": "2023-05-20T19:01:28.555Z"
   },
   {
    "duration": 11,
    "start_time": "2023-05-20T19:01:28.575Z"
   },
   {
    "duration": 473,
    "start_time": "2023-05-20T19:01:28.588Z"
   },
   {
    "duration": 154,
    "start_time": "2023-05-20T19:01:29.063Z"
   },
   {
    "duration": 27,
    "start_time": "2023-05-20T19:01:29.219Z"
   },
   {
    "duration": 31,
    "start_time": "2023-05-20T19:01:29.247Z"
   },
   {
    "duration": 6,
    "start_time": "2023-05-20T19:01:29.280Z"
   },
   {
    "duration": 37,
    "start_time": "2023-05-20T19:01:29.287Z"
   },
   {
    "duration": 11,
    "start_time": "2023-05-20T19:01:29.326Z"
   },
   {
    "duration": 3183,
    "start_time": "2023-05-20T19:01:29.339Z"
   },
   {
    "duration": 128,
    "start_time": "2023-05-20T19:01:32.523Z"
   },
   {
    "duration": 213,
    "start_time": "2023-05-20T19:01:32.653Z"
   },
   {
    "duration": 197,
    "start_time": "2023-05-20T19:01:32.867Z"
   },
   {
    "duration": 4,
    "start_time": "2023-05-20T19:01:33.065Z"
   },
   {
    "duration": 21,
    "start_time": "2023-05-20T19:01:33.070Z"
   },
   {
    "duration": 3,
    "start_time": "2023-05-20T19:01:33.093Z"
   },
   {
    "duration": 6932,
    "start_time": "2023-05-20T19:01:33.097Z"
   },
   {
    "duration": 128,
    "start_time": "2023-05-20T19:01:40.031Z"
   },
   {
    "duration": 246,
    "start_time": "2023-05-20T19:01:40.161Z"
   },
   {
    "duration": 186,
    "start_time": "2023-05-20T19:01:40.409Z"
   },
   {
    "duration": 1549,
    "start_time": "2023-05-21T08:38:00.228Z"
   },
   {
    "duration": 246,
    "start_time": "2023-05-21T08:38:12.722Z"
   },
   {
    "duration": 18,
    "start_time": "2023-05-21T08:38:13.413Z"
   },
   {
    "duration": 5,
    "start_time": "2023-05-21T08:38:13.989Z"
   },
   {
    "duration": 13,
    "start_time": "2023-05-21T08:38:14.674Z"
   },
   {
    "duration": 4,
    "start_time": "2023-05-21T08:38:15.388Z"
   },
   {
    "duration": 42,
    "start_time": "2023-05-21T08:38:15.720Z"
   },
   {
    "duration": 156,
    "start_time": "2023-05-21T08:38:16.409Z"
   },
   {
    "duration": 3,
    "start_time": "2023-05-21T08:38:47.181Z"
   },
   {
    "duration": 20,
    "start_time": "2023-05-21T08:39:01.878Z"
   },
   {
    "duration": 15,
    "start_time": "2023-05-21T08:39:08.099Z"
   },
   {
    "duration": 7,
    "start_time": "2023-05-21T08:39:10.612Z"
   },
   {
    "duration": 11,
    "start_time": "2023-05-21T08:39:22.326Z"
   },
   {
    "duration": 14,
    "start_time": "2023-05-21T08:39:25.887Z"
   },
   {
    "duration": 15,
    "start_time": "2023-05-21T08:40:19.774Z"
   },
   {
    "duration": 10,
    "start_time": "2023-05-21T08:40:29.117Z"
   },
   {
    "duration": 17,
    "start_time": "2023-05-21T08:40:35.346Z"
   },
   {
    "duration": 12,
    "start_time": "2023-05-21T08:40:39.585Z"
   },
   {
    "duration": 10,
    "start_time": "2023-05-21T08:40:57.266Z"
   },
   {
    "duration": 7,
    "start_time": "2023-05-21T08:41:13.058Z"
   },
   {
    "duration": 6,
    "start_time": "2023-05-21T08:42:11.681Z"
   },
   {
    "duration": 19,
    "start_time": "2023-05-21T08:42:15.521Z"
   },
   {
    "duration": 21,
    "start_time": "2023-05-21T08:42:25.422Z"
   },
   {
    "duration": 110,
    "start_time": "2023-05-21T08:42:36.911Z"
   },
   {
    "duration": 20,
    "start_time": "2023-05-21T08:42:43.181Z"
   },
   {
    "duration": 6,
    "start_time": "2023-05-21T08:43:06.316Z"
   },
   {
    "duration": 7,
    "start_time": "2023-05-21T08:43:22.210Z"
   },
   {
    "duration": 10,
    "start_time": "2023-05-21T08:45:35.372Z"
   },
   {
    "duration": 7,
    "start_time": "2023-05-21T08:45:36.862Z"
   },
   {
    "duration": 6,
    "start_time": "2023-05-21T08:45:39.311Z"
   },
   {
    "duration": 10,
    "start_time": "2023-05-21T08:45:43.493Z"
   },
   {
    "duration": 15,
    "start_time": "2023-05-21T08:50:42.993Z"
   },
   {
    "duration": 14,
    "start_time": "2023-05-21T08:54:01.519Z"
   },
   {
    "duration": 12,
    "start_time": "2023-05-21T08:54:03.792Z"
   },
   {
    "duration": 26,
    "start_time": "2023-05-21T08:56:36.677Z"
   },
   {
    "duration": 13,
    "start_time": "2023-05-21T08:57:25.908Z"
   },
   {
    "duration": 17,
    "start_time": "2023-05-21T08:57:33.871Z"
   },
   {
    "duration": 6,
    "start_time": "2023-05-21T08:57:40.111Z"
   },
   {
    "duration": 5,
    "start_time": "2023-05-21T08:57:44.526Z"
   },
   {
    "duration": 6,
    "start_time": "2023-05-21T09:00:06.298Z"
   },
   {
    "duration": 6,
    "start_time": "2023-05-21T09:01:20.078Z"
   },
   {
    "duration": 7,
    "start_time": "2023-05-21T09:01:22.005Z"
   },
   {
    "duration": 383,
    "start_time": "2023-05-21T09:01:55.166Z"
   },
   {
    "duration": 133,
    "start_time": "2023-05-21T09:02:12.781Z"
   },
   {
    "duration": 26,
    "start_time": "2023-05-21T09:02:20.278Z"
   },
   {
    "duration": 36,
    "start_time": "2023-05-21T09:02:22.062Z"
   },
   {
    "duration": 399,
    "start_time": "2023-05-21T09:06:16.671Z"
   },
   {
    "duration": 469,
    "start_time": "2023-05-21T09:06:19.389Z"
   },
   {
    "duration": 12,
    "start_time": "2023-05-21T09:08:29.589Z"
   },
   {
    "duration": 4,
    "start_time": "2023-05-21T09:08:34.354Z"
   },
   {
    "duration": 11,
    "start_time": "2023-05-21T09:08:34.912Z"
   },
   {
    "duration": 4,
    "start_time": "2023-05-21T09:08:35.581Z"
   },
   {
    "duration": 2595,
    "start_time": "2023-05-21T09:08:36.890Z"
   },
   {
    "duration": 143,
    "start_time": "2023-05-21T09:08:44.463Z"
   },
   {
    "duration": 278,
    "start_time": "2023-05-21T09:08:50.376Z"
   },
   {
    "duration": 209,
    "start_time": "2023-05-21T09:08:52.372Z"
   },
   {
    "duration": 4,
    "start_time": "2023-05-21T09:09:40.738Z"
   },
   {
    "duration": 11,
    "start_time": "2023-05-21T09:09:40.795Z"
   },
   {
    "duration": 4,
    "start_time": "2023-05-21T09:09:40.972Z"
   },
   {
    "duration": 5843,
    "start_time": "2023-05-21T09:09:41.469Z"
   },
   {
    "duration": 147,
    "start_time": "2023-05-21T09:09:47.314Z"
   },
   {
    "duration": 231,
    "start_time": "2023-05-21T09:09:47.463Z"
   },
   {
    "duration": 4,
    "start_time": "2023-05-21T09:09:47.695Z"
   },
   {
    "duration": 66,
    "start_time": "2023-05-21T09:09:47.701Z"
   },
   {
    "duration": 13,
    "start_time": "2023-05-21T09:09:47.769Z"
   },
   {
    "duration": 6,
    "start_time": "2023-05-21T09:09:47.783Z"
   },
   {
    "duration": 13,
    "start_time": "2023-05-21T09:09:47.790Z"
   },
   {
    "duration": 4,
    "start_time": "2023-05-21T09:09:47.804Z"
   },
   {
    "duration": 45,
    "start_time": "2023-05-21T09:09:47.810Z"
   },
   {
    "duration": 9,
    "start_time": "2023-05-21T09:09:47.856Z"
   },
   {
    "duration": 6,
    "start_time": "2023-05-21T09:09:47.867Z"
   },
   {
    "duration": 7,
    "start_time": "2023-05-21T09:09:47.876Z"
   },
   {
    "duration": 10,
    "start_time": "2023-05-21T09:09:47.962Z"
   },
   {
    "duration": 6,
    "start_time": "2023-05-21T09:09:48.074Z"
   },
   {
    "duration": 6,
    "start_time": "2023-05-21T09:09:48.161Z"
   },
   {
    "duration": 12,
    "start_time": "2023-05-21T09:09:48.415Z"
   },
   {
    "duration": 1349,
    "start_time": "2023-05-21T09:09:57.361Z"
   },
   {
    "duration": 100,
    "start_time": "2023-05-21T09:09:58.712Z"
   },
   {
    "duration": 31,
    "start_time": "2023-05-21T09:09:58.814Z"
   },
   {
    "duration": 5,
    "start_time": "2023-05-21T09:09:58.848Z"
   },
   {
    "duration": 16,
    "start_time": "2023-05-21T09:09:58.855Z"
   },
   {
    "duration": 6,
    "start_time": "2023-05-21T09:09:58.873Z"
   },
   {
    "duration": 78,
    "start_time": "2023-05-21T09:09:58.881Z"
   },
   {
    "duration": 8,
    "start_time": "2023-05-21T09:09:58.961Z"
   },
   {
    "duration": 6,
    "start_time": "2023-05-21T09:09:59.059Z"
   },
   {
    "duration": 7,
    "start_time": "2023-05-21T09:09:59.258Z"
   },
   {
    "duration": 16,
    "start_time": "2023-05-21T09:09:59.421Z"
   },
   {
    "duration": 10,
    "start_time": "2023-05-21T09:09:59.590Z"
   },
   {
    "duration": 7,
    "start_time": "2023-05-21T09:09:59.673Z"
   },
   {
    "duration": 12,
    "start_time": "2023-05-21T09:09:59.938Z"
   },
   {
    "duration": 17,
    "start_time": "2023-05-21T09:10:01.740Z"
   },
   {
    "duration": 13,
    "start_time": "2023-05-21T09:10:02.167Z"
   },
   {
    "duration": 8,
    "start_time": "2023-05-21T09:10:02.743Z"
   },
   {
    "duration": 5,
    "start_time": "2023-05-21T09:10:03.158Z"
   },
   {
    "duration": 7,
    "start_time": "2023-05-21T09:10:03.660Z"
   },
   {
    "duration": 416,
    "start_time": "2023-05-21T09:10:05.770Z"
   },
   {
    "duration": 166,
    "start_time": "2023-05-21T09:10:06.188Z"
   },
   {
    "duration": 27,
    "start_time": "2023-05-21T09:10:06.357Z"
   },
   {
    "duration": 25,
    "start_time": "2023-05-21T09:10:08.672Z"
   },
   {
    "duration": 5,
    "start_time": "2023-05-21T09:10:10.472Z"
   },
   {
    "duration": 11,
    "start_time": "2023-05-21T09:10:11.246Z"
   },
   {
    "duration": 3,
    "start_time": "2023-05-21T09:10:11.706Z"
   },
   {
    "duration": 2520,
    "start_time": "2023-05-21T09:10:12.277Z"
   },
   {
    "duration": 145,
    "start_time": "2023-05-21T09:10:14.799Z"
   },
   {
    "duration": 227,
    "start_time": "2023-05-21T09:10:14.946Z"
   },
   {
    "duration": 221,
    "start_time": "2023-05-21T09:10:17.364Z"
   },
   {
    "duration": 5,
    "start_time": "2023-05-21T09:11:49.881Z"
   },
   {
    "duration": 21,
    "start_time": "2023-05-21T09:12:01.795Z"
   },
   {
    "duration": 862,
    "start_time": "2023-05-21T09:12:09.273Z"
   },
   {
    "duration": 18,
    "start_time": "2023-05-21T09:12:23.196Z"
   },
   {
    "duration": 21,
    "start_time": "2023-05-21T09:12:32.883Z"
   },
   {
    "duration": 8,
    "start_time": "2023-05-21T09:12:47.204Z"
   },
   {
    "duration": 7,
    "start_time": "2023-05-21T09:12:54.161Z"
   },
   {
    "duration": 13,
    "start_time": "2023-05-21T09:13:08.760Z"
   },
   {
    "duration": 3,
    "start_time": "2023-05-21T09:13:10.465Z"
   },
   {
    "duration": 5299,
    "start_time": "2023-05-21T09:13:12.557Z"
   },
   {
    "duration": 126,
    "start_time": "2023-05-21T09:13:21.754Z"
   },
   {
    "duration": 4,
    "start_time": "2023-05-21T09:13:48.954Z"
   },
   {
    "duration": 63,
    "start_time": "2023-05-21T09:13:49.263Z"
   },
   {
    "duration": 13,
    "start_time": "2023-05-21T09:13:49.509Z"
   },
   {
    "duration": 6,
    "start_time": "2023-05-21T09:13:49.604Z"
   },
   {
    "duration": 15,
    "start_time": "2023-05-21T09:13:49.676Z"
   },
   {
    "duration": 5,
    "start_time": "2023-05-21T09:13:49.928Z"
   },
   {
    "duration": 128,
    "start_time": "2023-05-21T09:13:50.094Z"
   },
   {
    "duration": 9,
    "start_time": "2023-05-21T09:13:50.266Z"
   },
   {
    "duration": 6,
    "start_time": "2023-05-21T09:13:50.602Z"
   },
   {
    "duration": 9,
    "start_time": "2023-05-21T09:13:50.861Z"
   },
   {
    "duration": 9,
    "start_time": "2023-05-21T09:13:51.014Z"
   },
   {
    "duration": 7,
    "start_time": "2023-05-21T09:13:51.181Z"
   },
   {
    "duration": 6,
    "start_time": "2023-05-21T09:13:51.266Z"
   },
   {
    "duration": 10,
    "start_time": "2023-05-21T09:13:51.521Z"
   },
   {
    "duration": 9,
    "start_time": "2023-05-21T09:13:52.106Z"
   },
   {
    "duration": 11,
    "start_time": "2023-05-21T09:13:52.562Z"
   },
   {
    "duration": 6,
    "start_time": "2023-05-21T09:13:53.111Z"
   },
   {
    "duration": 5,
    "start_time": "2023-05-21T09:13:53.526Z"
   },
   {
    "duration": 6,
    "start_time": "2023-05-21T09:13:53.608Z"
   },
   {
    "duration": 366,
    "start_time": "2023-05-21T09:13:53.867Z"
   },
   {
    "duration": 128,
    "start_time": "2023-05-21T09:13:54.234Z"
   },
   {
    "duration": 25,
    "start_time": "2023-05-21T09:13:54.364Z"
   },
   {
    "duration": 40,
    "start_time": "2023-05-21T09:13:54.391Z"
   },
   {
    "duration": 4,
    "start_time": "2023-05-21T09:13:54.886Z"
   },
   {
    "duration": 12,
    "start_time": "2023-05-21T09:13:55.032Z"
   },
   {
    "duration": 523713,
    "start_time": "2023-05-21T09:13:55.125Z"
   },
   {
    "duration": 2585,
    "start_time": "2023-05-21T09:22:38.841Z"
   },
   {
    "duration": 144,
    "start_time": "2023-05-21T09:22:41.428Z"
   },
   {
    "duration": 238,
    "start_time": "2023-05-21T09:22:41.575Z"
   },
   {
    "duration": 238,
    "start_time": "2023-05-21T09:22:41.815Z"
   },
   {
    "duration": 5,
    "start_time": "2023-05-21T09:22:42.055Z"
   },
   {
    "duration": 13,
    "start_time": "2023-05-21T09:22:42.061Z"
   },
   {
    "duration": 1432100,
    "start_time": "2023-05-21T09:22:42.076Z"
   },
   {
    "duration": 5775,
    "start_time": "2023-05-21T09:46:34.178Z"
   },
   {
    "duration": 190,
    "start_time": "2023-05-21T09:46:39.957Z"
   },
   {
    "duration": 293,
    "start_time": "2023-05-21T09:46:40.148Z"
   },
   {
    "duration": 219,
    "start_time": "2023-05-21T09:46:40.443Z"
   },
   {
    "duration": 3295,
    "start_time": "2023-05-21T09:48:06.267Z"
   },
   {
    "duration": 4,
    "start_time": "2023-05-21T09:48:29.007Z"
   },
   {
    "duration": 243,
    "start_time": "2023-05-21T09:48:29.343Z"
   },
   {
    "duration": 17,
    "start_time": "2023-05-21T09:48:29.589Z"
   },
   {
    "duration": 6,
    "start_time": "2023-05-21T09:48:29.682Z"
   },
   {
    "duration": 15,
    "start_time": "2023-05-21T09:48:29.751Z"
   },
   {
    "duration": 5,
    "start_time": "2023-05-21T09:48:30.005Z"
   },
   {
    "duration": 39,
    "start_time": "2023-05-21T09:48:30.170Z"
   },
   {
    "duration": 8,
    "start_time": "2023-05-21T09:48:30.342Z"
   },
   {
    "duration": 6,
    "start_time": "2023-05-21T09:48:30.678Z"
   },
   {
    "duration": 10,
    "start_time": "2023-05-21T09:48:30.923Z"
   },
   {
    "duration": 11,
    "start_time": "2023-05-21T09:48:31.090Z"
   },
   {
    "duration": 7,
    "start_time": "2023-05-21T09:48:31.260Z"
   },
   {
    "duration": 7,
    "start_time": "2023-05-21T09:48:31.347Z"
   },
   {
    "duration": 11,
    "start_time": "2023-05-21T09:48:31.598Z"
   },
   {
    "duration": 9,
    "start_time": "2023-05-21T09:48:32.187Z"
   },
   {
    "duration": 12,
    "start_time": "2023-05-21T09:48:32.606Z"
   },
   {
    "duration": 6,
    "start_time": "2023-05-21T09:48:33.190Z"
   },
   {
    "duration": 5,
    "start_time": "2023-05-21T09:48:33.604Z"
   },
   {
    "duration": 7,
    "start_time": "2023-05-21T09:48:33.687Z"
   },
   {
    "duration": 391,
    "start_time": "2023-05-21T09:48:33.946Z"
   },
   {
    "duration": 127,
    "start_time": "2023-05-21T09:48:34.339Z"
   },
   {
    "duration": 25,
    "start_time": "2023-05-21T09:48:34.467Z"
   },
   {
    "duration": 45,
    "start_time": "2023-05-21T09:48:34.494Z"
   },
   {
    "duration": 4,
    "start_time": "2023-05-21T09:48:34.961Z"
   },
   {
    "duration": 14,
    "start_time": "2023-05-21T09:48:35.115Z"
   },
   {
    "duration": 3,
    "start_time": "2023-05-21T09:48:35.210Z"
   },
   {
    "duration": 3248,
    "start_time": "2023-05-21T09:48:35.291Z"
   },
   {
    "duration": 131,
    "start_time": "2023-05-21T09:48:38.541Z"
   },
   {
    "duration": 241,
    "start_time": "2023-05-21T09:48:38.673Z"
   },
   {
    "duration": 249,
    "start_time": "2023-05-21T09:48:38.917Z"
   },
   {
    "duration": 4,
    "start_time": "2023-05-21T09:48:39.168Z"
   },
   {
    "duration": 16,
    "start_time": "2023-05-21T09:48:39.173Z"
   },
   {
    "duration": 3,
    "start_time": "2023-05-21T09:48:39.190Z"
   },
   {
    "duration": 5379,
    "start_time": "2023-05-21T09:48:39.195Z"
   },
   {
    "duration": 136,
    "start_time": "2023-05-21T09:48:44.576Z"
   },
   {
    "duration": 221,
    "start_time": "2023-05-21T09:48:44.714Z"
   },
   {
    "duration": 215,
    "start_time": "2023-05-21T09:48:44.937Z"
   },
   {
    "duration": 53,
    "start_time": "2023-05-21T09:51:54.202Z"
   },
   {
    "duration": 4,
    "start_time": "2023-05-21T09:52:17.314Z"
   },
   {
    "duration": 17,
    "start_time": "2023-05-21T09:52:17.747Z"
   },
   {
    "duration": 3,
    "start_time": "2023-05-21T09:52:19.024Z"
   },
   {
    "duration": 5553,
    "start_time": "2023-05-21T09:52:20.155Z"
   },
   {
    "duration": 147,
    "start_time": "2023-05-21T09:52:25.710Z"
   },
   {
    "duration": 204,
    "start_time": "2023-05-21T09:52:29.904Z"
   },
   {
    "duration": 221,
    "start_time": "2023-05-21T09:52:32.420Z"
   },
   {
    "duration": 1349,
    "start_time": "2023-05-21T09:54:56.292Z"
   },
   {
    "duration": 84,
    "start_time": "2023-05-21T09:54:57.643Z"
   },
   {
    "duration": 16,
    "start_time": "2023-05-21T09:54:57.728Z"
   },
   {
    "duration": 5,
    "start_time": "2023-05-21T09:54:57.745Z"
   },
   {
    "duration": 13,
    "start_time": "2023-05-21T09:54:57.752Z"
   },
   {
    "duration": 6,
    "start_time": "2023-05-21T09:54:57.767Z"
   },
   {
    "duration": 63,
    "start_time": "2023-05-21T09:54:57.775Z"
   },
   {
    "duration": 7,
    "start_time": "2023-05-21T09:54:57.839Z"
   },
   {
    "duration": 16,
    "start_time": "2023-05-21T09:54:57.847Z"
   },
   {
    "duration": 11,
    "start_time": "2023-05-21T09:54:57.864Z"
   },
   {
    "duration": 11,
    "start_time": "2023-05-21T09:54:57.876Z"
   },
   {
    "duration": 8,
    "start_time": "2023-05-21T09:54:57.889Z"
   },
   {
    "duration": 15,
    "start_time": "2023-05-21T09:54:57.898Z"
   },
   {
    "duration": 11,
    "start_time": "2023-05-21T09:54:57.927Z"
   },
   {
    "duration": 12,
    "start_time": "2023-05-21T09:54:57.939Z"
   },
   {
    "duration": 14,
    "start_time": "2023-05-21T09:54:57.952Z"
   },
   {
    "duration": 5,
    "start_time": "2023-05-21T09:54:57.968Z"
   },
   {
    "duration": 7,
    "start_time": "2023-05-21T09:54:57.974Z"
   },
   {
    "duration": 15,
    "start_time": "2023-05-21T09:54:57.982Z"
   },
   {
    "duration": 388,
    "start_time": "2023-05-21T09:54:57.999Z"
   },
   {
    "duration": 137,
    "start_time": "2023-05-21T09:54:58.389Z"
   },
   {
    "duration": 24,
    "start_time": "2023-05-21T09:54:58.528Z"
   },
   {
    "duration": 25,
    "start_time": "2023-05-21T09:54:58.553Z"
   },
   {
    "duration": 3,
    "start_time": "2023-05-21T09:54:58.580Z"
   },
   {
    "duration": 32,
    "start_time": "2023-05-21T09:54:58.585Z"
   },
   {
    "duration": 7,
    "start_time": "2023-05-21T09:54:58.619Z"
   },
   {
    "duration": 3240,
    "start_time": "2023-05-21T09:54:58.628Z"
   },
   {
    "duration": 144,
    "start_time": "2023-05-21T09:55:01.870Z"
   },
   {
    "duration": 254,
    "start_time": "2023-05-21T09:55:02.016Z"
   },
   {
    "duration": 246,
    "start_time": "2023-05-21T09:55:02.272Z"
   },
   {
    "duration": 7,
    "start_time": "2023-05-21T09:55:02.520Z"
   },
   {
    "duration": 53,
    "start_time": "2023-05-21T09:55:02.529Z"
   },
   {
    "duration": 19,
    "start_time": "2023-05-21T09:55:02.584Z"
   },
   {
    "duration": 5291,
    "start_time": "2023-05-21T09:55:02.605Z"
   },
   {
    "duration": 132,
    "start_time": "2023-05-21T09:55:07.898Z"
   },
   {
    "duration": 295,
    "start_time": "2023-05-21T09:55:08.032Z"
   },
   {
    "duration": 207,
    "start_time": "2023-05-21T09:55:08.329Z"
   },
   {
    "duration": 2598,
    "start_time": "2023-05-21T11:05:16.448Z"
   },
   {
    "duration": 64,
    "start_time": "2023-05-21T11:05:19.048Z"
   },
   {
    "duration": 16,
    "start_time": "2023-05-21T11:05:19.114Z"
   },
   {
    "duration": 5,
    "start_time": "2023-05-21T11:05:19.132Z"
   },
   {
    "duration": 19,
    "start_time": "2023-05-21T11:05:19.139Z"
   },
   {
    "duration": 4,
    "start_time": "2023-05-21T11:05:19.160Z"
   },
   {
    "duration": 37,
    "start_time": "2023-05-21T11:05:19.165Z"
   },
   {
    "duration": 21,
    "start_time": "2023-05-21T11:05:19.203Z"
   },
   {
    "duration": 6,
    "start_time": "2023-05-21T11:05:19.226Z"
   },
   {
    "duration": 23,
    "start_time": "2023-05-21T11:05:19.234Z"
   },
   {
    "duration": 12,
    "start_time": "2023-05-21T11:05:19.259Z"
   },
   {
    "duration": 8,
    "start_time": "2023-05-21T11:05:19.273Z"
   },
   {
    "duration": 13,
    "start_time": "2023-05-21T11:05:19.282Z"
   },
   {
    "duration": 28,
    "start_time": "2023-05-21T11:05:19.297Z"
   },
   {
    "duration": 8,
    "start_time": "2023-05-21T11:05:19.327Z"
   },
   {
    "duration": 11,
    "start_time": "2023-05-21T11:05:19.336Z"
   },
   {
    "duration": 6,
    "start_time": "2023-05-21T11:05:19.348Z"
   },
   {
    "duration": 7,
    "start_time": "2023-05-21T11:05:19.355Z"
   },
   {
    "duration": 8,
    "start_time": "2023-05-21T11:05:19.363Z"
   },
   {
    "duration": 408,
    "start_time": "2023-05-21T11:05:19.373Z"
   },
   {
    "duration": 122,
    "start_time": "2023-05-21T11:05:19.782Z"
   },
   {
    "duration": 27,
    "start_time": "2023-05-21T11:05:19.905Z"
   },
   {
    "duration": 21,
    "start_time": "2023-05-21T11:05:19.934Z"
   },
   {
    "duration": 5,
    "start_time": "2023-05-21T11:05:19.956Z"
   },
   {
    "duration": 16,
    "start_time": "2023-05-21T11:05:19.962Z"
   },
   {
    "duration": 8,
    "start_time": "2023-05-21T11:05:19.979Z"
   },
   {
    "duration": 3178,
    "start_time": "2023-05-21T11:05:19.988Z"
   },
   {
    "duration": 116,
    "start_time": "2023-05-21T11:05:23.167Z"
   },
   {
    "duration": 203,
    "start_time": "2023-05-21T11:05:23.285Z"
   },
   {
    "duration": 198,
    "start_time": "2023-05-21T11:05:23.490Z"
   },
   {
    "duration": 4,
    "start_time": "2023-05-21T11:05:23.689Z"
   },
   {
    "duration": 23,
    "start_time": "2023-05-21T11:05:23.694Z"
   },
   {
    "duration": 18,
    "start_time": "2023-05-21T11:05:23.718Z"
   },
   {
    "duration": 5541,
    "start_time": "2023-05-21T11:05:23.738Z"
   },
   {
    "duration": 115,
    "start_time": "2023-05-21T11:05:29.281Z"
   },
   {
    "duration": 232,
    "start_time": "2023-05-21T11:05:29.397Z"
   },
   {
    "duration": 174,
    "start_time": "2023-05-21T11:05:29.630Z"
   }
  ],
  "kernelspec": {
   "display_name": "Python 3 (ipykernel)",
   "language": "python",
   "name": "python3"
  },
  "language_info": {
   "codemirror_mode": {
    "name": "ipython",
    "version": 3
   },
   "file_extension": ".py",
   "mimetype": "text/x-python",
   "name": "python",
   "nbconvert_exporter": "python",
   "pygments_lexer": "ipython3",
   "version": "3.9.16"
  },
  "toc": {
   "base_numbering": 1,
   "nav_menu": {},
   "number_sections": true,
   "sideBar": true,
   "skip_h1_title": true,
   "title_cell": "Table of Contents",
   "title_sidebar": "Contents",
   "toc_cell": false,
   "toc_position": {},
   "toc_section_display": true,
   "toc_window_display": true
  }
 },
 "nbformat": 4,
 "nbformat_minor": 5
}
