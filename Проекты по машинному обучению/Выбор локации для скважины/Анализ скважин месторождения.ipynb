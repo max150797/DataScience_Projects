{
 "cells": [
  {
   "cell_type": "markdown",
   "id": "26c97823",
   "metadata": {},
   "source": [
    "# Выбор локации для скважины"
   ]
  },
  {
   "cell_type": "markdown",
   "id": "1aa82b69",
   "metadata": {},
   "source": [
    "## Описание проекта\n",
    "\n",
    "Проект заключается в разработке модели для определения локации новой скважины и максимизации прибыли для добывающей компании «ГлавРосГосНефть». Для этого необходимо провести сбор характеристик нефти и объема ее запасов в избранном регионе, затем построить модель для предсказания объема запасов в новых скважинах. Следующий шаг - выбор скважин с наивысшими оценками значений. Затем необходимо произвести анализ регионов с максимальной суммарной прибылью отобранных скважин. \n",
    "\n",
    "В рамках проекта предоставляются пробы нефти в трех регионах, характеристики каждой скважины известны. По этим данным необходимо построить модель для определения региона, где добыча нефти принесет наибольшую прибыль. В процессе анализа также используется техника Bootstrap для оценки возможных рисков и прибыли. \n",
    "\n",
    "Цель проекта - выбрать оптимальную локацию для бурения новой скважины, которая обеспечит наибольшую прибыль для компании."
   ]
  },
  {
   "cell_type": "markdown",
   "id": "abe12941",
   "metadata": {},
   "source": [
    "## Описание данных\n",
    "\n",
    "* `id` — уникальный идентификатор скважины\n",
    "* `f0, f1, f2` — три признака точек (неважно, что они означают, но сами признаки значимы)\n",
    "* `product` — объём запасов в скважине (тыс. баррелей)"
   ]
  },
  {
   "cell_type": "markdown",
   "id": "db2df61e",
   "metadata": {},
   "source": [
    "## Используемые библиотеки"
   ]
  },
  {
   "cell_type": "code",
   "execution_count": 1,
   "id": "e56f44ac",
   "metadata": {},
   "outputs": [],
   "source": [
    "import pandas as pd\n",
    "import numpy as np\n",
    "import matplotlib.pyplot as plt\n",
    "from sklearn.metrics import mean_squared_error\n",
    "from sklearn.preprocessing import StandardScaler\n",
    "from sklearn.linear_model import LinearRegression\n",
    "from sklearn.model_selection import train_test_split\n",
    "\n",
    "RANDOM_SEED = np.random.RandomState(23101996)"
   ]
  },
  {
   "cell_type": "markdown",
   "id": "b063d112",
   "metadata": {},
   "source": [
    "## Загрузка данных, подготовка и анализ"
   ]
  },
  {
   "cell_type": "code",
   "execution_count": 2,
   "id": "db69fe08",
   "metadata": {},
   "outputs": [],
   "source": [
    "try:\n",
    "    data1 = pd.read_csv('https://code.s3.yandex.net/datasets/geo_data_0.csv')\n",
    "    data2 = pd.read_csv('https://code.s3.yandex.net/datasets/geo_data_1.csv')\n",
    "    data3 = pd.read_csv('https://code.s3.yandex.net/datasets/geo_data_2.csv')\n",
    "except:\n",
    "    data1 = pd.read_csv('geo_data_0.csv')\n",
    "    data2 = pd.read_csv('geo_data_1.csv')\n",
    "    data3 = pd.read_csv('geo_data_2.csv')\n",
    "    \n",
    "datasets = (data1, data2, data3)"
   ]
  },
  {
   "cell_type": "code",
   "execution_count": 3,
   "id": "94ffb877",
   "metadata": {},
   "outputs": [
    {
     "name": "stdout",
     "output_type": "stream",
     "text": [
      "<class 'pandas.core.frame.DataFrame'>\n",
      "RangeIndex: 100000 entries, 0 to 99999\n",
      "Data columns (total 5 columns):\n",
      " #   Column   Non-Null Count   Dtype  \n",
      "---  ------   --------------   -----  \n",
      " 0   id       100000 non-null  object \n",
      " 1   f0       100000 non-null  float64\n",
      " 2   f1       100000 non-null  float64\n",
      " 3   f2       100000 non-null  float64\n",
      " 4   product  100000 non-null  float64\n",
      "dtypes: float64(4), object(1)\n",
      "memory usage: 3.8+ MB\n",
      "None\n",
      "                  f0             f1             f2        product\n",
      "count  100000.000000  100000.000000  100000.000000  100000.000000\n",
      "mean        0.500419       0.250143       2.502647      92.500000\n",
      "std         0.871832       0.504433       3.248248      44.288691\n",
      "min        -1.408605      -0.848218     -12.088328       0.000000\n",
      "25%        -0.072580      -0.200881       0.287748      56.497507\n",
      "50%         0.502360       0.250252       2.515969      91.849972\n",
      "75%         1.073581       0.700646       4.715088     128.564089\n",
      "max         2.362331       1.343769      16.003790     185.364347\n"
     ]
    }
   ],
   "source": [
    "print(data1.info())\n",
    "print(data1.describe())"
   ]
  },
  {
   "cell_type": "code",
   "execution_count": 4,
   "id": "e18ecc04",
   "metadata": {},
   "outputs": [
    {
     "name": "stdout",
     "output_type": "stream",
     "text": [
      "<class 'pandas.core.frame.DataFrame'>\n",
      "RangeIndex: 100000 entries, 0 to 99999\n",
      "Data columns (total 5 columns):\n",
      " #   Column   Non-Null Count   Dtype  \n",
      "---  ------   --------------   -----  \n",
      " 0   id       100000 non-null  object \n",
      " 1   f0       100000 non-null  float64\n",
      " 2   f1       100000 non-null  float64\n",
      " 3   f2       100000 non-null  float64\n",
      " 4   product  100000 non-null  float64\n",
      "dtypes: float64(4), object(1)\n",
      "memory usage: 3.8+ MB\n",
      "None\n",
      "                  f0             f1             f2        product\n",
      "count  100000.000000  100000.000000  100000.000000  100000.000000\n",
      "mean        1.141296      -4.796579       2.494541      68.825000\n",
      "std         8.965932       5.119872       1.703572      45.944423\n",
      "min       -31.609576     -26.358598      -0.018144       0.000000\n",
      "25%        -6.298551      -8.267985       1.000021      26.953261\n",
      "50%         1.153055      -4.813172       2.011479      57.085625\n",
      "75%         8.621015      -1.332816       3.999904     107.813044\n",
      "max        29.421755      18.734063       5.019721     137.945408\n"
     ]
    }
   ],
   "source": [
    "print(data2.info())\n",
    "print(data2.describe())"
   ]
  },
  {
   "cell_type": "code",
   "execution_count": 5,
   "id": "9aa40aae",
   "metadata": {},
   "outputs": [
    {
     "name": "stdout",
     "output_type": "stream",
     "text": [
      "<class 'pandas.core.frame.DataFrame'>\n",
      "RangeIndex: 100000 entries, 0 to 99999\n",
      "Data columns (total 5 columns):\n",
      " #   Column   Non-Null Count   Dtype  \n",
      "---  ------   --------------   -----  \n",
      " 0   id       100000 non-null  object \n",
      " 1   f0       100000 non-null  float64\n",
      " 2   f1       100000 non-null  float64\n",
      " 3   f2       100000 non-null  float64\n",
      " 4   product  100000 non-null  float64\n",
      "dtypes: float64(4), object(1)\n",
      "memory usage: 3.8+ MB\n",
      "None\n",
      "                  f0             f1             f2        product\n",
      "count  100000.000000  100000.000000  100000.000000  100000.000000\n",
      "mean        0.002023      -0.002081       2.495128      95.000000\n",
      "std         1.732045       1.730417       3.473445      44.749921\n",
      "min        -8.760004      -7.084020     -11.970335       0.000000\n",
      "25%        -1.162288      -1.174820       0.130359      59.450441\n",
      "50%         0.009424      -0.009482       2.484236      94.925613\n",
      "75%         1.158535       1.163678       4.858794     130.595027\n",
      "max         7.238262       7.844801      16.739402     190.029838\n"
     ]
    }
   ],
   "source": [
    "print(data3.info())\n",
    "print(data3.describe())"
   ]
  },
  {
   "cell_type": "code",
   "execution_count": 6,
   "id": "f26da809",
   "metadata": {},
   "outputs": [
    {
     "name": "stdout",
     "output_type": "stream",
     "text": [
      "Дубликаты в данных №1: 0\n",
      "Дубликаты в данных №2: 0\n",
      "Дубликаты в данных №3: 0\n"
     ]
    }
   ],
   "source": [
    "for i, k in enumerate(datasets):\n",
    "    print(f'Дубликаты в данных №{i+1}: {k.duplicated().sum()}')"
   ]
  },
  {
   "cell_type": "markdown",
   "id": "40664b3e",
   "metadata": {},
   "source": [
    "В данных пропуски отсутствуют. Дубликатов также нет. Посмотрим как распределен целевой признак."
   ]
  },
  {
   "cell_type": "code",
   "execution_count": 7,
   "id": "17095b18",
   "metadata": {},
   "outputs": [
    {
     "data": {
      "image/png": "[encoded data removed]",
      "text/plain": [
       "<Figure size 2000x1000 with 6 Axes>"
      ]
     },
     "metadata": {},
     "output_type": "display_data"
    }
   ],
   "source": [
    "fig, axes = plt.subplots(2,3, figsize=(20,10))\n",
    "\n",
    "data1.plot(y='product', kind='hist', ax=axes[0,0], legend=None)\n",
    "data2.plot(y='product', kind='hist', ax=axes[0,1], legend=None, bins=50)\n",
    "data3.plot(y='product', kind='hist', ax=axes[0,2], legend=None)\n",
    "\n",
    "axes[1,0].boxplot(data=data1, x='product', vert=False)\n",
    "axes[1,1].boxplot(data=data2, x='product', vert=False)\n",
    "axes[1,2].boxplot(data=data3, x='product', vert=False)\n",
    "\n",
    "axes[0,0].set_title('участок №1')\n",
    "axes[0,1].set_title('участок №2')\n",
    "axes[0,2].set_title('участок №3')\n",
    "\n",
    "fig.suptitle('Распределение объема запасов в скважинах (тыс. бареллей)', fontsize=20)\n",
    "\n",
    "plt.show()"
   ]
  },
  {
   "cell_type": "markdown",
   "id": "c2eb9307",
   "metadata": {},
   "source": [
    "Наблюдаем, что на двух из трех участках распределение целевого признака похоже на нормальное, в то время как второй график показывает, что у нас есть 12 значений, которые приблизительно одинаково распределены.\n",
    "\n",
    "Напишем функцию для обучения модели линейной регрессии."
   ]
  },
  {
   "cell_type": "markdown",
   "id": "d07cf535",
   "metadata": {},
   "source": [
    "## Обучение и проверка модели"
   ]
  },
  {
   "cell_type": "code",
   "execution_count": 8,
   "id": "1c0da380",
   "metadata": {},
   "outputs": [],
   "source": [
    "def fit_linear_regression(data):\n",
    "    # выделим признаки и целевую переменную\n",
    "    X = data.drop(columns=['product', 'id'])\n",
    "    y = data['product']\n",
    "    \n",
    "    # разобьем на обучающую и валидационную выборки\n",
    "    train_X, valid_X, train_y, valid_y = train_test_split(X, y, test_size=0.25, random_state=RANDOM_SEED)\n",
    "    \n",
    "    # масштабируем данные для модели линейной регрессии\n",
    "    scaler = StandardScaler()\n",
    "    train_X = scaler.fit_transform(train_X)\n",
    "    valid_X = pd.DataFrame(scaler.transform(valid_X), index=valid_X.index)\n",
    "    \n",
    "    # обучим модель\n",
    "    model = LinearRegression()\n",
    "    model.fit(train_X, train_y)\n",
    "    predictions = pd.Series(data=model.predict(valid_X), index=valid_X.index)\n",
    "    rmse = mean_squared_error(valid_y, predictions)**0.5\n",
    "    \n",
    "    print(f'RMSE: {rmse:.2f}')\n",
    "    print(f'Средний запас сырья в скважине (предсказанный) в регионе: {np.mean(predictions):.2f}')\n",
    "    \n",
    "    return valid_y, predictions"
   ]
  },
  {
   "cell_type": "code",
   "execution_count": 9,
   "id": "a495b790",
   "metadata": {},
   "outputs": [
    {
     "name": "stdout",
     "output_type": "stream",
     "text": [
      "RMSE: 37.86\n",
      "Средний запас сырья в скважине (предсказанный) в регионе: 92.55\n"
     ]
    }
   ],
   "source": [
    "target_valid_0, predictions_0 = fit_linear_regression(data1)"
   ]
  },
  {
   "cell_type": "code",
   "execution_count": 10,
   "id": "a9a0f399",
   "metadata": {},
   "outputs": [
    {
     "name": "stdout",
     "output_type": "stream",
     "text": [
      "RMSE: 0.89\n",
      "Средний запас сырья в скважине (предсказанный) в регионе: 68.99\n"
     ]
    }
   ],
   "source": [
    "target_valid_1, predictions_1 = fit_linear_regression(data2)"
   ]
  },
  {
   "cell_type": "code",
   "execution_count": 11,
   "id": "e2562002",
   "metadata": {},
   "outputs": [
    {
     "name": "stdout",
     "output_type": "stream",
     "text": [
      "RMSE: 39.78\n",
      "Средний запас сырья в скважине (предсказанный) в регионе: 95.29\n"
     ]
    }
   ],
   "source": [
    "target_valid_2, predictions_2 = fit_linear_regression(data3)"
   ]
  },
  {
   "cell_type": "markdown",
   "id": "b2de9503",
   "metadata": {},
   "source": [
    "В результате обучения моделей линейной регрессии и получения предсказаний на валидационных выборках для трех участков месторорождения можно сделать следующие выводы: наименьшее значение метрики rmse наблюдается на участке №2 (0.89). Количество получаемого продукта на участках 1 и 3 приблизительно одинаковое, в то время как на участке 2 оно в 1.35 раз меньше."
   ]
  },
  {
   "cell_type": "markdown",
   "id": "6ff81e73",
   "metadata": {},
   "source": [
    "## Расчет прибыли"
   ]
  },
  {
   "cell_type": "markdown",
   "id": "65a10245",
   "metadata": {},
   "source": [
    "### Безубыточность новой скважины"
   ]
  },
  {
   "cell_type": "code",
   "execution_count": 12,
   "id": "38c91981",
   "metadata": {},
   "outputs": [],
   "source": [
    "# количество исследуемых точек при разведке\n",
    "EXPLORED_POINTS = 500 \n",
    "\n",
    "# количество лучших исследуемых точек \n",
    "BEST_EXPLORED_POINTS = 200 \n",
    "\n",
    "# бюджет на разработку скважин в регионе\n",
    "BUDGET = 10_000_000_000\n",
    "\n",
    "# доход с 1000 баррелей продукта\n",
    "PRODUCT_INCOME = 450_000\n",
    "\n",
    "# максимальная вероятность убытков\n",
    "MAX_LOSS = 0.025\n",
    "\n",
    "# кол-во итераций\n",
    "BOOTSTRAP = 1000"
   ]
  },
  {
   "cell_type": "markdown",
   "id": "15fb48ef",
   "metadata": {},
   "source": [
    "Расчитаем достаточный объём сырья для безубыточной разработки новой скважины"
   ]
  },
  {
   "cell_type": "code",
   "execution_count": 13,
   "id": "71a6f7cd",
   "metadata": {},
   "outputs": [
    {
     "name": "stdout",
     "output_type": "stream",
     "text": [
      "Точка безубыточности: 22222 тыс. баррелей\n",
      "Достаточный объём сырья для безубыточной разработки новой скважины равен: 111.11 тыс. баррелей\n"
     ]
    }
   ],
   "source": [
    "min_value_of_total_product = BUDGET / PRODUCT_INCOME\n",
    "print(f'Точка безубыточности: {min_value_of_total_product:.0f} тыс. баррелей')\n",
    "\n",
    "min_value_of_product = min_value_of_total_product / BEST_EXPLORED_POINTS\n",
    "print(f'Достаточный объём сырья для безубыточной разработки новой скважины равен: {min_value_of_product:.2f} тыс. баррелей')"
   ]
  },
  {
   "cell_type": "markdown",
   "id": "ea3bfb63",
   "metadata": {},
   "source": [
    "Если объем сырья на новой скважине будет равен 111.11 тыс. баррелей, то она будет безубыточной. Средний объем запаса скважин во всех трех регионах ниже, чем точка безубыточности, следовательно не все скважины являются окупаемыми."
   ]
  },
  {
   "cell_type": "markdown",
   "id": "81ce8179",
   "metadata": {},
   "source": [
    "### Расчёта прибыли по выбранным скважинам и предсказаниям модели"
   ]
  },
  {
   "cell_type": "code",
   "execution_count": 14,
   "id": "6c60b6f0",
   "metadata": {},
   "outputs": [],
   "source": [
    "def calc_profit(target_values, prediction_values, show_info=False):\n",
    "    \n",
    "    # выберем скважины с максимальными значениями предсказаний\n",
    "    best_explored_points = prediction_values.sort_values(ascending = False)[:BEST_EXPLORED_POINTS]\n",
    "    \n",
    "    # просуммируем целевое значение объёма сырья, соответствующее этим предсказаниям\n",
    "    product_volume = target_values[best_explored_points.index].sum()\n",
    "    \n",
    "    # рассчитаем прибыль для полученного объёма сырья\n",
    "    profit = PRODUCT_INCOME * product_volume - BUDGET\n",
    "    \n",
    "    if show_info:\n",
    "        print(f'Прибыль (млн.руб): {profit/1_000_000}')\n",
    "        print(f'Суммарный объем сырья (тыс.бареллей): {product_volume}')\n",
    "    \n",
    "    return profit, product_volume"
   ]
  },
  {
   "cell_type": "code",
   "execution_count": 15,
   "id": "fff842de",
   "metadata": {},
   "outputs": [
    {
     "name": "stdout",
     "output_type": "stream",
     "text": [
      "Данные по участку №1:\n",
      "Прибыль (млн.руб): 3363.6858917629415\n",
      "Суммарный объем сырья (тыс.бареллей): 29697.079759473203\n"
     ]
    }
   ],
   "source": [
    "print('Данные по участку №1:')\n",
    "profit0, product_volume0 = calc_profit(target_valid_0, predictions_0, show_info=True)"
   ]
  },
  {
   "cell_type": "code",
   "execution_count": 16,
   "id": "ba9f4ee8",
   "metadata": {},
   "outputs": [
    {
     "name": "stdout",
     "output_type": "stream",
     "text": [
      "Данные по участку №2:\n",
      "Прибыль (млн.руб): 2415.086696681511\n",
      "Суммарный объем сырья (тыс.бареллей): 27589.081548181137\n"
     ]
    }
   ],
   "source": [
    "print('Данные по участку №2:')\n",
    "profit1, product_volume1 = calc_profit(target_valid_1, predictions_1, show_info=True)"
   ]
  },
  {
   "cell_type": "code",
   "execution_count": 17,
   "id": "eebc26a1",
   "metadata": {},
   "outputs": [
    {
     "name": "stdout",
     "output_type": "stream",
     "text": [
      "Данные по участку №3:\n",
      "Прибыль (млн.руб): 2443.7204911003\n",
      "Суммарный объем сырья (тыс.бареллей): 27652.71220244511\n"
     ]
    }
   ],
   "source": [
    "print('Данные по участку №3:')\n",
    "profit2, product_volume2 = calc_profit(target_valid_2, predictions_2, show_info=True)"
   ]
  },
  {
   "cell_type": "markdown",
   "id": "ba3389ae",
   "metadata": {},
   "source": [
    "В результате расчета прибыли по 200 скважинам, которые дают наибольший объем сырья имеем следующие выводы:\n",
    "1. Наибольший суммарный объем дают скважины на участке №1, следовательно и прыбиль там наибольшая\n",
    "2. Участки №2 и №3 показывают приблизительно одинаковые значения прибыли и суммарного объема по 200 лучшим скважинам, которые были получены на основе машинного обучения в разделе 5"
   ]
  },
  {
   "cell_type": "markdown",
   "id": "5d6add6f",
   "metadata": {},
   "source": [
    "## Расчет рисков и прибылей для каждого региона"
   ]
  },
  {
   "cell_type": "code",
   "execution_count": 18,
   "id": "48ea7f68",
   "metadata": {},
   "outputs": [],
   "source": [
    "def calc_conf_interval_and_income(target_values, prediction_values):\n",
    "    \n",
    "    income_values = []\n",
    "    \n",
    "    for i in range(BOOTSTRAP):\n",
    "        target_sample = target_values.sample(500, replace=True, random_state=RANDOM_SEED)\n",
    "        predictions_sample = prediction_values[target_sample.index]\n",
    "        income_values.append(calc_profit(target_sample, predictions_sample, show_info=False)[0])\n",
    "        \n",
    "    lower = round(np.percentile(income_values, 2.5), 0)/10**6\n",
    "    higher = round(np.percentile(income_values, 97.5), 0)/10**6\n",
    "    loss_probability = (pd.Series(income_values)<0).sum() / BOOTSTRAP\n",
    "    mean_income = np.mean(income_values)/10**6\n",
    "    \n",
    "    print(f'Средняя прибыль (млн. руб): {mean_income:.2f}')\n",
    "    print(f'95% доверительный интервал (млн. руб): {(lower, higher)}')\n",
    "    print(f'Вероятность убытков равна {loss_probability}')\n",
    "    \n",
    "    return (mean_income, (lower, higher), loss_probability)"
   ]
  },
  {
   "cell_type": "code",
   "execution_count": 19,
   "id": "b05cfdf4",
   "metadata": {},
   "outputs": [
    {
     "name": "stdout",
     "output_type": "stream",
     "text": [
      "Данные по участку №1:\n",
      "Средняя прибыль (млн. руб): 598.14\n",
      "95% доверительный интервал (млн. руб): (-36.559731, 1268.773798)\n",
      "Вероятность убытков равна 0.033\n"
     ]
    }
   ],
   "source": [
    "print('Данные по участку №1:')\n",
    "mean_income0, conf_interval0, loss_probability0 = calc_conf_interval_and_income(target_valid_0, predictions_0)"
   ]
  },
  {
   "cell_type": "code",
   "execution_count": 20,
   "id": "e6afe6d3",
   "metadata": {},
   "outputs": [
    {
     "name": "stdout",
     "output_type": "stream",
     "text": [
      "Данные по участку №2:\n",
      "Средняя прибыль (млн. руб): 677.64\n",
      "95% доверительный интервал (млн. руб): (150.229052, 1254.143916)\n",
      "Вероятность убытков равна 0.005\n"
     ]
    }
   ],
   "source": [
    "print('Данные по участку №2:')\n",
    "mean_income1, conf_interval1, loss_probability1 = calc_conf_interval_and_income(target_valid_1, predictions_1)"
   ]
  },
  {
   "cell_type": "code",
   "execution_count": 21,
   "id": "4b2f9fb7",
   "metadata": {},
   "outputs": [
    {
     "name": "stdout",
     "output_type": "stream",
     "text": [
      "Данные по участку №3:\n",
      "Средняя прибыль (млн. руб): 644.41\n",
      "95% доверительный интервал (млн. руб): (59.981643, 1294.041259)\n",
      "Вероятность убытков равна 0.014\n"
     ]
    }
   ],
   "source": [
    "print('Данные по участку №3:')\n",
    "mean_income2, conf_interval2, loss_probability2 = calc_conf_interval_and_income(target_valid_2, predictions_2)"
   ]
  },
  {
   "cell_type": "markdown",
   "id": "1c82e9f3",
   "metadata": {},
   "source": [
    "## Общий вывод\n",
    "\n",
    "1. Первоначально был выполнен анализ данных на предмет пропущенных значений, дубликатов, а также были изучены распределения целевого признака на всех 3 участках месторождения.\n",
    "\n",
    "2. Затем были построены линейные модели для предсказания объемов сырья в скважинах. Далее была выполнена процедура бутстрэпа для определения 95% доверительного интервала среднего объема нефти в скважинах. \n",
    "\n",
    "3. На основании результатов бутстрэпа, регион №2 оказался наиболее перспективным для разработки, так как имеет наименьшие риски убытка, а средняя прибыль наивысшая."
   ]
  }
 ],
 "metadata": {
  "kernelspec": {
   "display_name": "Python 3 (ipykernel)",
   "language": "python",
   "name": "python3"
  },
  "language_info": {
   "codemirror_mode": {
    "name": "ipython",
    "version": 3
   },
   "file_extension": ".py",
   "mimetype": "text/x-python",
   "name": "python",
   "nbconvert_exporter": "python",
   "pygments_lexer": "ipython3",
   "version": "3.9.16"
  },
  "toc": {
   "base_numbering": 1,
   "nav_menu": {},
   "number_sections": true,
   "sideBar": true,
   "skip_h1_title": true,
   "title_cell": "Table of Contents",
   "title_sidebar": "Contents",
   "toc_cell": false,
   "toc_position": {},
   "toc_section_display": true,
   "toc_window_display": false
  }
 },
 "nbformat": 4,
 "nbformat_minor": 5
}
