{
 "cells": [
  {
   "cell_type": "markdown",
   "id": "9867f5e6",
   "metadata": {},
   "source": [
    "# Рекомендация тарифов"
   ]
  },
  {
   "cell_type": "markdown",
   "id": "3435d432",
   "metadata": {},
   "source": [
    "## Описание проекта\n",
    "\n",
    "Оператор мобильной связи «Мегалайн» обнаружил, что многие из его клиентов продолжают пользоваться старыми архивными тарифами, в то время как новые более выгодные тарифы не получают должного внимания. Чтобы решить эту проблему и увеличить количество недовольных клиентов, «Мегалайн» решил создать систему, способную проанализировать поведение пользователей и предложить им наиболее подходящий тарифный план - «Смарт» или «Ультра». \n",
    "\n",
    "Для этого необходимо использовать данные о поведении уже перешедших на новые тарифы клиентов. Главной задачей проекта является построение модели, которая сможет провести классификацию и выбрать подходящий тариф для каждого клиента."
   ]
  },
  {
   "cell_type": "markdown",
   "id": "a3ca20b0",
   "metadata": {},
   "source": [
    "## Описание входных данных\n",
    "\n",
    "Каждый объект в наборе данных — это информация о поведении одного пользователя за месяц\n",
    "\n",
    "* `сalls` — количество звонков,\n",
    "* `minutes` — суммарная длительность звонков в минутах,\n",
    "* `messages` — количество sms-сообщений,\n",
    "* `mb_used` — израсходованный интернет-трафик в Мб,\n",
    "* `is_ultra` — каким тарифом пользовался в течение месяца («Ультра» — 1, «Смарт» — 0)"
   ]
  },
  {
   "cell_type": "markdown",
   "id": "5d391d3c",
   "metadata": {},
   "source": [
    "## Используемые библиотеки"
   ]
  },
  {
   "cell_type": "code",
   "execution_count": 1,
   "id": "60febc12",
   "metadata": {},
   "outputs": [],
   "source": [
    "import pandas as pd\n",
    "import numpy as np\n",
    "import warnings\n",
    "import matplotlib.pyplot as plt\n",
    "\n",
    "from sklearn.model_selection import GridSearchCV\n",
    "from sklearn.model_selection import train_test_split\n",
    "from sklearn.ensemble import RandomForestClassifier\n",
    "from sklearn.tree import DecisionTreeClassifier\n",
    "from sklearn.linear_model import LogisticRegression\n",
    "from sklearn.metrics import accuracy_score\n",
    "from sklearn.metrics import plot_confusion_matrix\n",
    "\n",
    "warnings.filterwarnings('ignore')\n",
    "RANDOM_SEED = 240497"
   ]
  },
  {
   "cell_type": "markdown",
   "id": "3d15a761",
   "metadata": {},
   "source": [
    "## Загрузка данных и анализ общей информации"
   ]
  },
  {
   "cell_type": "code",
   "execution_count": 2,
   "id": "887cd4da",
   "metadata": {},
   "outputs": [],
   "source": [
    "try:\n",
    "    data = pd.read_csv('https://code.s3.yandex.net/datasets/users_behavior.csv')\n",
    "except:\n",
    "    data = pd.read_csv('users_behavior.csv')"
   ]
  },
  {
   "cell_type": "code",
   "execution_count": 3,
   "id": "0103d9a9",
   "metadata": {},
   "outputs": [
    {
     "data": {
      "text/html": [
       "<div>\n",
       "<style scoped>\n",
       "    .dataframe tbody tr th:only-of-type {\n",
       "        vertical-align: middle;\n",
       "    }\n",
       "\n",
       "    .dataframe tbody tr th {\n",
       "        vertical-align: top;\n",
       "    }\n",
       "\n",
       "    .dataframe thead th {\n",
       "        text-align: right;\n",
       "    }\n",
       "</style>\n",
       "<table border=\"1\" class=\"dataframe\">\n",
       "  <thead>\n",
       "    <tr style=\"text-align: right;\">\n",
       "      <th></th>\n",
       "      <th>calls</th>\n",
       "      <th>minutes</th>\n",
       "      <th>messages</th>\n",
       "      <th>mb_used</th>\n",
       "      <th>is_ultra</th>\n",
       "    </tr>\n",
       "  </thead>\n",
       "  <tbody>\n",
       "    <tr>\n",
       "      <th>0</th>\n",
       "      <td>40.0</td>\n",
       "      <td>311.90</td>\n",
       "      <td>83.0</td>\n",
       "      <td>19915.42</td>\n",
       "      <td>0</td>\n",
       "    </tr>\n",
       "    <tr>\n",
       "      <th>1</th>\n",
       "      <td>85.0</td>\n",
       "      <td>516.75</td>\n",
       "      <td>56.0</td>\n",
       "      <td>22696.96</td>\n",
       "      <td>0</td>\n",
       "    </tr>\n",
       "    <tr>\n",
       "      <th>2</th>\n",
       "      <td>77.0</td>\n",
       "      <td>467.66</td>\n",
       "      <td>86.0</td>\n",
       "      <td>21060.45</td>\n",
       "      <td>0</td>\n",
       "    </tr>\n",
       "    <tr>\n",
       "      <th>3</th>\n",
       "      <td>106.0</td>\n",
       "      <td>745.53</td>\n",
       "      <td>81.0</td>\n",
       "      <td>8437.39</td>\n",
       "      <td>1</td>\n",
       "    </tr>\n",
       "    <tr>\n",
       "      <th>4</th>\n",
       "      <td>66.0</td>\n",
       "      <td>418.74</td>\n",
       "      <td>1.0</td>\n",
       "      <td>14502.75</td>\n",
       "      <td>0</td>\n",
       "    </tr>\n",
       "  </tbody>\n",
       "</table>\n",
       "</div>"
      ],
      "text/plain": [
       "   calls  minutes  messages   mb_used  is_ultra\n",
       "0   40.0   311.90      83.0  19915.42         0\n",
       "1   85.0   516.75      56.0  22696.96         0\n",
       "2   77.0   467.66      86.0  21060.45         0\n",
       "3  106.0   745.53      81.0   8437.39         1\n",
       "4   66.0   418.74       1.0  14502.75         0"
      ]
     },
     "execution_count": 3,
     "metadata": {},
     "output_type": "execute_result"
    }
   ],
   "source": [
    "data.head()"
   ]
  },
  {
   "cell_type": "code",
   "execution_count": 4,
   "id": "631bcda2",
   "metadata": {},
   "outputs": [
    {
     "name": "stdout",
     "output_type": "stream",
     "text": [
      "<class 'pandas.core.frame.DataFrame'>\n",
      "RangeIndex: 3214 entries, 0 to 3213\n",
      "Data columns (total 5 columns):\n",
      " #   Column    Non-Null Count  Dtype  \n",
      "---  ------    --------------  -----  \n",
      " 0   calls     3214 non-null   float64\n",
      " 1   minutes   3214 non-null   float64\n",
      " 2   messages  3214 non-null   float64\n",
      " 3   mb_used   3214 non-null   float64\n",
      " 4   is_ultra  3214 non-null   int64  \n",
      "dtypes: float64(4), int64(1)\n",
      "memory usage: 125.7 KB\n"
     ]
    }
   ],
   "source": [
    "data.info()"
   ]
  },
  {
   "cell_type": "markdown",
   "id": "309f84ff",
   "metadata": {},
   "source": [
    " В датасете представлены данные по 3214 клиентам. В задаче к проекту сказано, что **предобработка данных не понадобится**, поэтому приступим к построению модели, но сначала оценим сбалансированность классов."
   ]
  },
  {
   "cell_type": "code",
   "execution_count": 5,
   "id": "24fa0e77",
   "metadata": {},
   "outputs": [
    {
     "data": {
      "text/html": [
       "<div>\n",
       "<style scoped>\n",
       "    .dataframe tbody tr th:only-of-type {\n",
       "        vertical-align: middle;\n",
       "    }\n",
       "\n",
       "    .dataframe tbody tr th {\n",
       "        vertical-align: top;\n",
       "    }\n",
       "\n",
       "    .dataframe thead th {\n",
       "        text-align: right;\n",
       "    }\n",
       "</style>\n",
       "<table border=\"1\" class=\"dataframe\">\n",
       "  <thead>\n",
       "    <tr style=\"text-align: right;\">\n",
       "      <th></th>\n",
       "      <th>counts</th>\n",
       "      <th>per100</th>\n",
       "    </tr>\n",
       "  </thead>\n",
       "  <tbody>\n",
       "    <tr>\n",
       "      <th>0</th>\n",
       "      <td>2229</td>\n",
       "      <td>69.4%</td>\n",
       "    </tr>\n",
       "    <tr>\n",
       "      <th>1</th>\n",
       "      <td>985</td>\n",
       "      <td>30.6%</td>\n",
       "    </tr>\n",
       "  </tbody>\n",
       "</table>\n",
       "</div>"
      ],
      "text/plain": [
       "   counts per100\n",
       "0    2229  69.4%\n",
       "1     985  30.6%"
      ]
     },
     "execution_count": 5,
     "metadata": {},
     "output_type": "execute_result"
    }
   ],
   "source": [
    "counts = data['is_ultra'].value_counts()\n",
    "percent100 = data['is_ultra'].value_counts(normalize=True).mul(100).round(1).astype('str')+'%'\n",
    "pd.DataFrame({'counts': counts, 'per100': percent100})"
   ]
  },
  {
   "cell_type": "markdown",
   "id": "761d7c76",
   "metadata": {},
   "source": [
    "Клиентов, которые относятся к классу 0 почти в 2.3 раза больше, чем клиентов из класса 1. Посмотрим, как это влияет на обучение моделей."
   ]
  },
  {
   "cell_type": "markdown",
   "id": "6526b6d9",
   "metadata": {},
   "source": [
    "## Формирование обучающей, валидационной и тестовой выборки"
   ]
  },
  {
   "cell_type": "code",
   "execution_count": 6,
   "id": "2af99d58",
   "metadata": {},
   "outputs": [
    {
     "name": "stdout",
     "output_type": "stream",
     "text": [
      "Размер обучающей выборки: (2249, 5)\n",
      "Размер валидационной выборки: (483, 5)\n",
      "Размер тестовой выборки: (482, 5)\n"
     ]
    }
   ],
   "source": [
    "# сделаем разбивку данных в соотношении 70/15/15\n",
    "train, test_val = train_test_split(data, test_size=0.3, random_state=RANDOM_SEED)\n",
    "test, val = train_test_split(test_val, test_size=0.5, random_state=RANDOM_SEED)\n",
    "\n",
    "print('Размер обучающей выборки:', train.shape)\n",
    "print('Размер валидационной выборки:', val.shape)\n",
    "print('Размер тестовой выборки:', test.shape)"
   ]
  },
  {
   "cell_type": "code",
   "execution_count": 7,
   "id": "071d8e57",
   "metadata": {},
   "outputs": [],
   "source": [
    "# выделим факторы и целевую переменную\n",
    "X_train, y_train = train.drop(columns=['is_ultra']).values, train['is_ultra'].values\n",
    "X_val, y_val = val.drop(columns=['is_ultra']).values, val['is_ultra'].values\n",
    "X_test, y_test = test.drop(columns=['is_ultra']).values, test['is_ultra'].values"
   ]
  },
  {
   "cell_type": "markdown",
   "id": "8f6a161e",
   "metadata": {},
   "source": [
    "## Построение моделей\n",
    "\n",
    "В данном разделе построим три различные модели: логистическую регрессию, дерево решений и модель случайного леса. Посмотрим как меняется качество, изменяя гиперпараметры моделей, построим графики.\n",
    "\n",
    "### Логистическая регрессия"
   ]
  },
  {
   "cell_type": "code",
   "execution_count": 8,
   "id": "53fb1397",
   "metadata": {},
   "outputs": [
    {
     "data": {
      "text/plain": [
       "0.7784679089026915"
      ]
     },
     "execution_count": 8,
     "metadata": {},
     "output_type": "execute_result"
    }
   ],
   "source": [
    "# построим модель логистичской регрессии без настроек гиперпараметров\n",
    "logreg = LogisticRegression()\n",
    "logreg.fit(X_train, y_train)\n",
    "logreg.score(X_val, y_val)"
   ]
  },
  {
   "cell_type": "markdown",
   "id": "deece25e",
   "metadata": {},
   "source": [
    "Точность прогнозов на валидационной выборке составляет 77.8%. Посмотрим как будет меняться качество при изменении гиперпараметров."
   ]
  },
  {
   "cell_type": "code",
   "execution_count": 9,
   "id": "0d561a74",
   "metadata": {},
   "outputs": [
    {
     "name": "stdout",
     "output_type": "stream",
     "text": [
      "Лучшая модель: LogisticRegression(C=10, penalty='l1', solver='liblinear')\n"
     ]
    }
   ],
   "source": [
    "params = {'solver': ['newton-cg', 'lbfgs', 'liblinear', 'sag', 'saga'],\n",
    "          'penalty':['none', 'elasticnet', 'l1', 'l2'],\n",
    "          'C':[0.001, 0.01, 0.1, 1, 10, 100]}\n",
    "\n",
    "\n",
    "logreg = LogisticRegression()\n",
    "grid_search_logreg = GridSearchCV(estimator = logreg,  \n",
    "                                   param_grid = params,\n",
    "                                   scoring = 'accuracy')\n",
    "\n",
    "\n",
    "grid_search_logreg.fit(X_train, y_train)\n",
    "\n",
    "print('Лучшая модель:', grid_search_logreg.best_estimator_)"
   ]
  },
  {
   "cell_type": "code",
   "execution_count": 10,
   "id": "b88ac3af",
   "metadata": {},
   "outputs": [
    {
     "name": "stdout",
     "output_type": "stream",
     "text": [
      "0.776\n"
     ]
    }
   ],
   "source": [
    "logreg = grid_search_logreg.best_estimator_\n",
    "logreg.fit(X_train, y_train)\n",
    "logreg_res = round(logreg.score(X_val, y_val), 3)\n",
    "print(logreg_res)"
   ]
  },
  {
   "cell_type": "markdown",
   "id": "1f7f7ff9",
   "metadata": {},
   "source": [
    "После перебора гиперпараметров лучшая модель логистической регрессии оказалась с параметрами `LogisticRegression(C=10, penalty='l1', solver='liblinear')`, однако точность модели даже немного ниже, чем в  варианте, где гиперпараметры заданы не были. "
   ]
  },
  {
   "cell_type": "markdown",
   "id": "f58b1072",
   "metadata": {},
   "source": [
    "### Дерево решений"
   ]
  },
  {
   "cell_type": "code",
   "execution_count": 11,
   "id": "13c38473",
   "metadata": {},
   "outputs": [
    {
     "data": {
      "text/plain": [
       "0.7370600414078675"
      ]
     },
     "execution_count": 11,
     "metadata": {},
     "output_type": "execute_result"
    }
   ],
   "source": [
    "tree_model = DecisionTreeClassifier(random_state=RANDOM_SEED)\n",
    "tree_model.fit(X_train, y_train)\n",
    "tree_model.score(X_val, y_val)"
   ]
  },
  {
   "cell_type": "markdown",
   "id": "eed40170",
   "metadata": {},
   "source": [
    "Дерево решений без подбора гиперпараметров показывает точность меньше, чем логистическая регрессия. Переберем максимальную глубину дерева."
   ]
  },
  {
   "cell_type": "code",
   "execution_count": 12,
   "id": "967e8fc7",
   "metadata": {},
   "outputs": [
    {
     "data": {
      "image/png": "[encoded data removed]",
      "text/plain": [
       "<Figure size 800x500 with 1 Axes>"
      ]
     },
     "metadata": {},
     "output_type": "display_data"
    },
    {
     "data": {
      "text/html": [
       "<div>\n",
       "<style scoped>\n",
       "    .dataframe tbody tr th:only-of-type {\n",
       "        vertical-align: middle;\n",
       "    }\n",
       "\n",
       "    .dataframe tbody tr th {\n",
       "        vertical-align: top;\n",
       "    }\n",
       "\n",
       "    .dataframe thead th {\n",
       "        text-align: right;\n",
       "    }\n",
       "</style>\n",
       "<table border=\"1\" class=\"dataframe\">\n",
       "  <thead>\n",
       "    <tr style=\"text-align: right;\">\n",
       "      <th></th>\n",
       "      <th>1</th>\n",
       "      <th>2</th>\n",
       "      <th>3</th>\n",
       "      <th>4</th>\n",
       "      <th>5</th>\n",
       "      <th>6</th>\n",
       "    </tr>\n",
       "  </thead>\n",
       "  <tbody>\n",
       "    <tr>\n",
       "      <th>train</th>\n",
       "      <td>0.747888</td>\n",
       "      <td>0.783015</td>\n",
       "      <td>0.797688</td>\n",
       "      <td>0.805247</td>\n",
       "      <td>0.822588</td>\n",
       "      <td>0.829257</td>\n",
       "    </tr>\n",
       "    <tr>\n",
       "      <th>validation</th>\n",
       "      <td>0.761905</td>\n",
       "      <td>0.792961</td>\n",
       "      <td>0.809524</td>\n",
       "      <td>0.815735</td>\n",
       "      <td>0.811594</td>\n",
       "      <td>0.815735</td>\n",
       "    </tr>\n",
       "  </tbody>\n",
       "</table>\n",
       "</div>"
      ],
      "text/plain": [
       "                   1         2         3         4         5         6\n",
       "train       0.747888  0.783015  0.797688  0.805247  0.822588  0.829257\n",
       "validation  0.761905  0.792961  0.809524  0.815735  0.811594  0.815735"
      ]
     },
     "metadata": {},
     "output_type": "display_data"
    }
   ],
   "source": [
    "max_depth = [1,2,3,4,5,6,7,8,9,10,11,12,15,20,30]\n",
    "\n",
    "train_acc = []\n",
    "val_acc = []\n",
    "\n",
    "for depth in max_depth:\n",
    "    tree_model = DecisionTreeClassifier(random_state=RANDOM_SEED, max_depth=depth)\n",
    "    tree_model.fit(X_train, y_train)\n",
    "    \n",
    "    val_acc.append(tree_model.score(X_val, y_val))\n",
    "    train_acc.append(tree_model.score(X_train, y_train))\n",
    "    \n",
    "# построим график результатов обучения\n",
    "fig, ax = plt.subplots(figsize=(8, 5))\n",
    "ax.plot(max_depth, train_acc)\n",
    "ax.plot(max_depth, val_acc)\n",
    "\n",
    "ax.set_ylim(0.6,1)\n",
    "ax.set_ylabel('Точность')\n",
    "ax.set_xlabel('Максимальная глубина дерева')\n",
    "ax.legend(['Обучающая выборка', 'Валидационная выборка'])\n",
    "ax.set_title('Зависимость точности модели от глубины дерева решений', y=1.05)\n",
    "\n",
    "plt.show()\n",
    "\n",
    "# выведем в виде таблицы результаты\n",
    "d = {'train': train_acc,\n",
    "     'validation': val_acc}\n",
    "results = pd.DataFrame(data=d, index=max_depth)\n",
    "display(results.loc[:6].T)"
   ]
  },
  {
   "cell_type": "markdown",
   "id": "fac9e072",
   "metadata": {},
   "source": [
    "В данном случае подбор такого гиперпараметра, как максимальна глубина дерева решений сыграл свою роль. Точность прогнозов выросла до 81.5% на валидационной выборке. Также на графике наглядно представлено, что начиная с глубины дереве равной 7 начинается переобучение модели, поэтому определим лучшую модель так:"
   ]
  },
  {
   "cell_type": "code",
   "execution_count": 21,
   "id": "945b4568",
   "metadata": {},
   "outputs": [
    {
     "name": "stdout",
     "output_type": "stream",
     "text": [
      "0.816\n"
     ]
    }
   ],
   "source": [
    "tree_model = DecisionTreeClassifier(random_state=RANDOM_SEED, max_depth=6)\n",
    "tree_model.fit(X_train, y_train)\n",
    "tree_res = round(tree_model.score(X_val, y_val), 3)\n",
    "print(tree_res)"
   ]
  },
  {
   "cell_type": "markdown",
   "id": "cff4016c",
   "metadata": {},
   "source": [
    "### Случайный лес"
   ]
  },
  {
   "cell_type": "code",
   "execution_count": 14,
   "id": "ba0f6235",
   "metadata": {},
   "outputs": [],
   "source": [
    "params = { \n",
    "    'n_estimators': [50, 100, 200, 500],\n",
    "    'max_features': ['auto', 'sqrt', 'log2'],\n",
    "    'criterion' : ['gini', 'entropy']\n",
    "}\n",
    "\n",
    "# rfc_model = RandomForestClassifier(random_state=RANDOM_SEED)\n",
    "# grid_search_rfc = GridSearchCV(estimator=rfc_model,\n",
    "#                                param_grid=params,\n",
    "#                                cv=5,\n",
    "#                                scoring = 'accuracy')\n",
    "# grid_search_rfc.fit(X_train, y_train)\n",
    "# grid_search_rfc.best_params_\n",
    "\n",
    "# OUTPUT:\n",
    "# {'criterion': 'gini',\n",
    "#  'max_features': 'auto',\n",
    "#  'n_estimators': 200}"
   ]
  },
  {
   "cell_type": "markdown",
   "id": "058a8029",
   "metadata": {},
   "source": [
    "В результате перебора гиперпараметров получили \"лучшую\" модель. Для наглядности вручную подберем оптимальную глубину деревьев, чтобы посмотреть, когда модель начнет переобучаться."
   ]
  },
  {
   "cell_type": "code",
   "execution_count": 15,
   "id": "e6677e97",
   "metadata": {},
   "outputs": [],
   "source": [
    "train_acc = []\n",
    "val_acc = []\n",
    "\n",
    "for depth in max_depth:\n",
    "    rfc_model = RandomForestClassifier(random_state=RANDOM_SEED,\n",
    "                                       criterion='gini',\n",
    "                                       max_depth=depth,\n",
    "                                       max_features='auto',\n",
    "                                       n_estimators=200)\n",
    "    rfc_model.fit(X_train, y_train)\n",
    "    \n",
    "    val_acc.append(rfc_model.score(X_val, y_val))\n",
    "    train_acc.append(rfc_model.score(X_train, y_train))"
   ]
  },
  {
   "cell_type": "code",
   "execution_count": 16,
   "id": "64a1402c",
   "metadata": {},
   "outputs": [
    {
     "data": {
      "image/png": "[encoded data removed]",
      "text/plain": [
       "<Figure size 800x500 with 1 Axes>"
      ]
     },
     "metadata": {},
     "output_type": "display_data"
    },
    {
     "data": {
      "text/html": [
       "<div>\n",
       "<style scoped>\n",
       "    .dataframe tbody tr th:only-of-type {\n",
       "        vertical-align: middle;\n",
       "    }\n",
       "\n",
       "    .dataframe tbody tr th {\n",
       "        vertical-align: top;\n",
       "    }\n",
       "\n",
       "    .dataframe thead th {\n",
       "        text-align: right;\n",
       "    }\n",
       "</style>\n",
       "<table border=\"1\" class=\"dataframe\">\n",
       "  <thead>\n",
       "    <tr style=\"text-align: right;\">\n",
       "      <th></th>\n",
       "      <th>1</th>\n",
       "      <th>2</th>\n",
       "      <th>3</th>\n",
       "      <th>4</th>\n",
       "      <th>5</th>\n",
       "      <th>6</th>\n",
       "      <th>7</th>\n",
       "      <th>8</th>\n",
       "      <th>9</th>\n",
       "      <th>10</th>\n",
       "      <th>11</th>\n",
       "      <th>12</th>\n",
       "      <th>15</th>\n",
       "      <th>20</th>\n",
       "    </tr>\n",
       "  </thead>\n",
       "  <tbody>\n",
       "    <tr>\n",
       "      <th>train</th>\n",
       "      <td>0.782125</td>\n",
       "      <td>0.782125</td>\n",
       "      <td>0.799466</td>\n",
       "      <td>0.810582</td>\n",
       "      <td>0.817252</td>\n",
       "      <td>0.830591</td>\n",
       "      <td>0.852379</td>\n",
       "      <td>0.867052</td>\n",
       "      <td>0.880836</td>\n",
       "      <td>0.890173</td>\n",
       "      <td>0.897288</td>\n",
       "      <td>0.902179</td>\n",
       "      <td>0.940863</td>\n",
       "      <td>0.984882</td>\n",
       "    </tr>\n",
       "    <tr>\n",
       "      <th>validation</th>\n",
       "      <td>0.790890</td>\n",
       "      <td>0.801242</td>\n",
       "      <td>0.811594</td>\n",
       "      <td>0.819876</td>\n",
       "      <td>0.824017</td>\n",
       "      <td>0.826087</td>\n",
       "      <td>0.824017</td>\n",
       "      <td>0.824017</td>\n",
       "      <td>0.832298</td>\n",
       "      <td>0.838509</td>\n",
       "      <td>0.832298</td>\n",
       "      <td>0.834369</td>\n",
       "      <td>0.830228</td>\n",
       "      <td>0.815735</td>\n",
       "    </tr>\n",
       "  </tbody>\n",
       "</table>\n",
       "</div>"
      ],
      "text/plain": [
       "                  1         2         3         4         5         6   \\\n",
       "train       0.782125  0.782125  0.799466  0.810582  0.817252  0.830591   \n",
       "validation  0.790890  0.801242  0.811594  0.819876  0.824017  0.826087   \n",
       "\n",
       "                  7         8         9         10        11        12  \\\n",
       "train       0.852379  0.867052  0.880836  0.890173  0.897288  0.902179   \n",
       "validation  0.824017  0.824017  0.832298  0.838509  0.832298  0.834369   \n",
       "\n",
       "                  15        20  \n",
       "train       0.940863  0.984882  \n",
       "validation  0.830228  0.815735  "
      ]
     },
     "metadata": {},
     "output_type": "display_data"
    }
   ],
   "source": [
    "# построим график результатов обучения\n",
    "fig, ax = plt.subplots(figsize=(8, 5))\n",
    "ax.plot(max_depth, train_acc)\n",
    "ax.plot(max_depth, val_acc)\n",
    "\n",
    "ax.set_ylim(0.6,1)\n",
    "ax.set_ylabel('Точность')\n",
    "ax.set_xlabel('Максимальная глубина деревьев')\n",
    "ax.legend(['Обучающая выборка', 'Валидационная выборка'])\n",
    "ax.set_title('Зависимость точности модели от глубины деревьев решений', y=1.05)\n",
    "\n",
    "plt.show()\n",
    "\n",
    "# выведем в виде таблицы результаты\n",
    "d = {'train': train_acc,\n",
    "     'validation': val_acc}\n",
    "results = pd.DataFrame(data=d, index=max_depth)\n",
    "display(results.iloc[:-1].T)"
   ]
  },
  {
   "cell_type": "markdown",
   "id": "7b54d968",
   "metadata": {},
   "source": [
    "После глубины деревьев равной 10 точность на валидационной выборке начинает снижаться. Предположим, что это оптимальная глубина деревьев."
   ]
  },
  {
   "cell_type": "code",
   "execution_count": 17,
   "id": "107cd6dc",
   "metadata": {},
   "outputs": [
    {
     "name": "stdout",
     "output_type": "stream",
     "text": [
      "0.839\n"
     ]
    }
   ],
   "source": [
    "rfc_model = RandomForestClassifier(random_state=RANDOM_SEED,\n",
    "                                       criterion='gini',\n",
    "                                       max_depth=10,\n",
    "                                       max_features='auto',\n",
    "                                       n_estimators=200)\n",
    "rfc_model.fit(X_train, y_train)\n",
    "rfc_res = round(rfc_model.score(X_val, y_val), 3)\n",
    "print(rfc_res)"
   ]
  },
  {
   "cell_type": "code",
   "execution_count": 18,
   "id": "c530f7f3",
   "metadata": {},
   "outputs": [
    {
     "data": {
      "text/html": [
       "<div>\n",
       "<style scoped>\n",
       "    .dataframe tbody tr th:only-of-type {\n",
       "        vertical-align: middle;\n",
       "    }\n",
       "\n",
       "    .dataframe tbody tr th {\n",
       "        vertical-align: top;\n",
       "    }\n",
       "\n",
       "    .dataframe thead th {\n",
       "        text-align: right;\n",
       "    }\n",
       "</style>\n",
       "<table border=\"1\" class=\"dataframe\">\n",
       "  <thead>\n",
       "    <tr style=\"text-align: right;\">\n",
       "      <th></th>\n",
       "      <th>LogReg</th>\n",
       "      <th>TreeDecision</th>\n",
       "      <th>RandomForest</th>\n",
       "    </tr>\n",
       "  </thead>\n",
       "  <tbody>\n",
       "    <tr>\n",
       "      <th>accuracy</th>\n",
       "      <td>0.776</td>\n",
       "      <td>0.812</td>\n",
       "      <td>0.839</td>\n",
       "    </tr>\n",
       "  </tbody>\n",
       "</table>\n",
       "</div>"
      ],
      "text/plain": [
       "          LogReg  TreeDecision  RandomForest\n",
       "accuracy   0.776         0.812         0.839"
      ]
     },
     "metadata": {},
     "output_type": "display_data"
    }
   ],
   "source": [
    "svod_d = {'LogReg': [logreg_res],\n",
    "        'TreeDecision': [tree_res],\n",
    "        'RandomForest': [rfc_res]}\n",
    "\n",
    "svod = pd.DataFrame(data=svod_d, index=['accuracy'])\n",
    "display(svod)"
   ]
  },
  {
   "cell_type": "markdown",
   "id": "7cf437d6",
   "metadata": {},
   "source": [
    "В данном разделе были построены три модели: логистичсекая регрессия, дерево решений и модель случайного леса. В результате чего были получены следующие результаты точности на валидационной выборке: \n",
    "1. Логистическая регрессия — 77.6% \n",
    "2. Дерево решений — 81.6%\n",
    "3. Случайный лес — 83.9%\n",
    "\n",
    "Таким образом, наибольшую точность показала модель случайного леса. Посмотрим на результаты на тестовой выборке в следующем разделе."
   ]
  },
  {
   "cell_type": "markdown",
   "id": "9007b893",
   "metadata": {},
   "source": [
    "## Проверка моделей на тестовой выборке"
   ]
  },
  {
   "cell_type": "code",
   "execution_count": 19,
   "id": "6b9df665",
   "metadata": {},
   "outputs": [
    {
     "name": "stdout",
     "output_type": "stream",
     "text": [
      "Точность модели логистической регрессии на тестовой выборке: 0.761\n",
      "Точность модели дерева решений на тестовой выборке: 0.782\n",
      "Точность модели случайного леса на тестовой выборке: 0.79\n"
     ]
    }
   ],
   "source": [
    "print('Точность модели логистической регрессии на тестовой выборке:',\n",
    "      round(logreg.score(X_test, y_test), 3))\n",
    "print('Точность модели дерева решений на тестовой выборке:',\n",
    "      round(tree_model.score(X_test, y_test), 3))\n",
    "print('Точность модели случайного леса на тестовой выборке:',\n",
    "      round(rfc_model.score(X_test, y_test), 3))"
   ]
  },
  {
   "cell_type": "markdown",
   "id": "bb0d8b5d",
   "metadata": {},
   "source": [
    "Модель случайного леса показала наиболее высокий процент точности. Построим матрицу ошибок и посмотрим какие классы модель предсказывает лучше или хуже."
   ]
  },
  {
   "cell_type": "markdown",
   "id": "08c35308",
   "metadata": {},
   "source": [
    "### Проверка модели на адекватность"
   ]
  },
  {
   "cell_type": "code",
   "execution_count": 20,
   "id": "07976cca",
   "metadata": {},
   "outputs": [
    {
     "data": {
      "image/png": "[encoded data removed]",
      "text/plain": [
       "<Figure size 640x480 with 2 Axes>"
      ]
     },
     "metadata": {},
     "output_type": "display_data"
    }
   ],
   "source": [
    "plot_confusion_matrix(estimator=rfc_model, X=X_test, y_true=y_test,\n",
    "                      normalize='true', cmap='Blues')\n",
    "plt.show()"
   ]
  },
  {
   "cell_type": "markdown",
   "id": "88957933",
   "metadata": {},
   "source": [
    "Модель достаточно хорошо предсказывает клиентов с тарифом \"Смарт\", однако клиентов с тарифом \"Ультра\" модель предсказывает почти что случайным образом, вероятно это связано с тем, что соотношение классов в обучающей выборке 70/30."
   ]
  },
  {
   "cell_type": "markdown",
   "id": "5444d983",
   "metadata": {},
   "source": [
    "## Общий вывод"
   ]
  },
  {
   "cell_type": "markdown",
   "id": "42a02ee6",
   "metadata": {},
   "source": [
    "В ходе выполнения данной работы были построены три различные модели: логистическая регрессия, дерево решений и модель случайного леса. Основной метрикой являлась точность и модель случайного леса показала наибольшую точность на тестовой выборке - 79%, однако на матрице ошибок выяснилось, что клиентов, которые используют тариф \"Ультра\" модель предсказывает с вероятностью 49%, что является плохим результатом. Клиентов же с тарифом \"Смарт\" модель определяет с достаточно высоким процентом правильно - 91%."
   ]
  }
 ],
 "metadata": {
  "kernelspec": {
   "display_name": "Python 3 (ipykernel)",
   "language": "python",
   "name": "python3"
  },
  "language_info": {
   "codemirror_mode": {
    "name": "ipython",
    "version": 3
   },
   "file_extension": ".py",
   "mimetype": "text/x-python",
   "name": "python",
   "nbconvert_exporter": "python",
   "pygments_lexer": "ipython3",
   "version": "3.9.13"
  },
  "toc": {
   "base_numbering": 1,
   "nav_menu": {},
   "number_sections": true,
   "sideBar": true,
   "skip_h1_title": true,
   "title_cell": "Table of Contents",
   "title_sidebar": "Contents",
   "toc_cell": false,
   "toc_position": {},
   "toc_section_display": true,
   "toc_window_display": false
  }
 },
 "nbformat": 4,
 "nbformat_minor": 5
}
