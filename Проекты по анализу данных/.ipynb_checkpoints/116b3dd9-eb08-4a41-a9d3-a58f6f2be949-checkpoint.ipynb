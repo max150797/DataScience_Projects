{
 "cells": [
  {
   "cell_type": "markdown",
   "id": "93c89244",
   "metadata": {
    "deletable": false,
    "editable": false,
    "id": "c81daeeb"
   },
   "source": [
    "# Исследование надежности заемщиков\n"
   ]
  },
  {
   "cell_type": "markdown",
   "id": "662217c3",
   "metadata": {
    "deletable": false,
    "editable": false,
    "id": "827c20bf"
   },
   "source": [
    "Во второй части проекта вы выполните шаги 3 и 4. Их вручную проверит ревьюер.\n",
    "Чтобы вам не пришлось писать код заново для шагов 1 и 2, мы добавили авторские решения в ячейки с кодом. \n",
    "\n"
   ]
  },
  {
   "cell_type": "markdown",
   "id": "c18fb246",
   "metadata": {
    "deletable": false,
    "editable": false,
    "id": "744d7639"
   },
   "source": [
    "## Откройте таблицу и изучите общую информацию о данных"
   ]
  },
  {
   "cell_type": "markdown",
   "id": "a7743df6",
   "metadata": {
    "deletable": false,
    "editable": false,
    "id": "e7a14c31"
   },
   "source": [
    "**Задание 1. Импортируйте библиотеку pandas. Считайте данные из csv-файла в датафрейм и сохраните в переменную `data`. Путь к файлу:**\n",
    "\n",
    "`/datasets/data.csv`"
   ]
  },
  {
   "cell_type": "code",
   "execution_count": null,
   "id": "1359f57b",
   "metadata": {
    "deletable": false,
    "id": "7bcf75c9"
   },
   "outputs": [],
   "source": [
    "import pandas as pd\n",
    "import seaborn as sns\n",
    "import matplotlib.pyplot as plt\n",
    "\n",
    "try:\n",
    "    data = pd.read_csv('/datasets/data.csv')\n",
    "except:\n",
    "    data = pd.read_csv('https://code.s3.yandex.net/datasets/data.csv')"
   ]
  },
  {
   "cell_type": "markdown",
   "id": "17df2f77",
   "metadata": {
    "deletable": false,
    "editable": false,
    "id": "b8038fe3"
   },
   "source": [
    "**Задание 2. Выведите первые 20 строчек датафрейма `data` на экран.**"
   ]
  },
  {
   "cell_type": "code",
   "execution_count": 2,
   "id": "fd000a8c",
   "metadata": {
    "deletable": false,
    "id": "2a7cab99",
    "outputId": "1a8f3ef2-d323-4ec2-ddf7-89670b5944c4"
   },
   "outputs": [
    {
     "data": {
      "text/html": [
       "<div>\n",
       "<style scoped>\n",
       "    .dataframe tbody tr th:only-of-type {\n",
       "        vertical-align: middle;\n",
       "    }\n",
       "\n",
       "    .dataframe tbody tr th {\n",
       "        vertical-align: top;\n",
       "    }\n",
       "\n",
       "    .dataframe thead th {\n",
       "        text-align: right;\n",
       "    }\n",
       "</style>\n",
       "<table border=\"1\" class=\"dataframe\">\n",
       "  <thead>\n",
       "    <tr style=\"text-align: right;\">\n",
       "      <th></th>\n",
       "      <th>children</th>\n",
       "      <th>days_employed</th>\n",
       "      <th>dob_years</th>\n",
       "      <th>education</th>\n",
       "      <th>education_id</th>\n",
       "      <th>family_status</th>\n",
       "      <th>family_status_id</th>\n",
       "      <th>gender</th>\n",
       "      <th>income_type</th>\n",
       "      <th>debt</th>\n",
       "      <th>total_income</th>\n",
       "      <th>purpose</th>\n",
       "    </tr>\n",
       "  </thead>\n",
       "  <tbody>\n",
       "    <tr>\n",
       "      <th>0</th>\n",
       "      <td>1</td>\n",
       "      <td>-8437.673028</td>\n",
       "      <td>42</td>\n",
       "      <td>высшее</td>\n",
       "      <td>0</td>\n",
       "      <td>женат / замужем</td>\n",
       "      <td>0</td>\n",
       "      <td>F</td>\n",
       "      <td>сотрудник</td>\n",
       "      <td>0</td>\n",
       "      <td>253875.639453</td>\n",
       "      <td>покупка жилья</td>\n",
       "    </tr>\n",
       "    <tr>\n",
       "      <th>1</th>\n",
       "      <td>1</td>\n",
       "      <td>-4024.803754</td>\n",
       "      <td>36</td>\n",
       "      <td>среднее</td>\n",
       "      <td>1</td>\n",
       "      <td>женат / замужем</td>\n",
       "      <td>0</td>\n",
       "      <td>F</td>\n",
       "      <td>сотрудник</td>\n",
       "      <td>0</td>\n",
       "      <td>112080.014102</td>\n",
       "      <td>приобретение автомобиля</td>\n",
       "    </tr>\n",
       "    <tr>\n",
       "      <th>2</th>\n",
       "      <td>0</td>\n",
       "      <td>-5623.422610</td>\n",
       "      <td>33</td>\n",
       "      <td>Среднее</td>\n",
       "      <td>1</td>\n",
       "      <td>женат / замужем</td>\n",
       "      <td>0</td>\n",
       "      <td>M</td>\n",
       "      <td>сотрудник</td>\n",
       "      <td>0</td>\n",
       "      <td>145885.952297</td>\n",
       "      <td>покупка жилья</td>\n",
       "    </tr>\n",
       "    <tr>\n",
       "      <th>3</th>\n",
       "      <td>3</td>\n",
       "      <td>-4124.747207</td>\n",
       "      <td>32</td>\n",
       "      <td>среднее</td>\n",
       "      <td>1</td>\n",
       "      <td>женат / замужем</td>\n",
       "      <td>0</td>\n",
       "      <td>M</td>\n",
       "      <td>сотрудник</td>\n",
       "      <td>0</td>\n",
       "      <td>267628.550329</td>\n",
       "      <td>дополнительное образование</td>\n",
       "    </tr>\n",
       "    <tr>\n",
       "      <th>4</th>\n",
       "      <td>0</td>\n",
       "      <td>340266.072047</td>\n",
       "      <td>53</td>\n",
       "      <td>среднее</td>\n",
       "      <td>1</td>\n",
       "      <td>гражданский брак</td>\n",
       "      <td>1</td>\n",
       "      <td>F</td>\n",
       "      <td>пенсионер</td>\n",
       "      <td>0</td>\n",
       "      <td>158616.077870</td>\n",
       "      <td>сыграть свадьбу</td>\n",
       "    </tr>\n",
       "    <tr>\n",
       "      <th>5</th>\n",
       "      <td>0</td>\n",
       "      <td>-926.185831</td>\n",
       "      <td>27</td>\n",
       "      <td>высшее</td>\n",
       "      <td>0</td>\n",
       "      <td>гражданский брак</td>\n",
       "      <td>1</td>\n",
       "      <td>M</td>\n",
       "      <td>компаньон</td>\n",
       "      <td>0</td>\n",
       "      <td>255763.565419</td>\n",
       "      <td>покупка жилья</td>\n",
       "    </tr>\n",
       "    <tr>\n",
       "      <th>6</th>\n",
       "      <td>0</td>\n",
       "      <td>-2879.202052</td>\n",
       "      <td>43</td>\n",
       "      <td>высшее</td>\n",
       "      <td>0</td>\n",
       "      <td>женат / замужем</td>\n",
       "      <td>0</td>\n",
       "      <td>F</td>\n",
       "      <td>компаньон</td>\n",
       "      <td>0</td>\n",
       "      <td>240525.971920</td>\n",
       "      <td>операции с жильем</td>\n",
       "    </tr>\n",
       "    <tr>\n",
       "      <th>7</th>\n",
       "      <td>0</td>\n",
       "      <td>-152.779569</td>\n",
       "      <td>50</td>\n",
       "      <td>СРЕДНЕЕ</td>\n",
       "      <td>1</td>\n",
       "      <td>женат / замужем</td>\n",
       "      <td>0</td>\n",
       "      <td>M</td>\n",
       "      <td>сотрудник</td>\n",
       "      <td>0</td>\n",
       "      <td>135823.934197</td>\n",
       "      <td>образование</td>\n",
       "    </tr>\n",
       "    <tr>\n",
       "      <th>8</th>\n",
       "      <td>2</td>\n",
       "      <td>-6929.865299</td>\n",
       "      <td>35</td>\n",
       "      <td>ВЫСШЕЕ</td>\n",
       "      <td>0</td>\n",
       "      <td>гражданский брак</td>\n",
       "      <td>1</td>\n",
       "      <td>F</td>\n",
       "      <td>сотрудник</td>\n",
       "      <td>0</td>\n",
       "      <td>95856.832424</td>\n",
       "      <td>на проведение свадьбы</td>\n",
       "    </tr>\n",
       "    <tr>\n",
       "      <th>9</th>\n",
       "      <td>0</td>\n",
       "      <td>-2188.756445</td>\n",
       "      <td>41</td>\n",
       "      <td>среднее</td>\n",
       "      <td>1</td>\n",
       "      <td>женат / замужем</td>\n",
       "      <td>0</td>\n",
       "      <td>M</td>\n",
       "      <td>сотрудник</td>\n",
       "      <td>0</td>\n",
       "      <td>144425.938277</td>\n",
       "      <td>покупка жилья для семьи</td>\n",
       "    </tr>\n",
       "    <tr>\n",
       "      <th>10</th>\n",
       "      <td>2</td>\n",
       "      <td>-4171.483647</td>\n",
       "      <td>36</td>\n",
       "      <td>высшее</td>\n",
       "      <td>0</td>\n",
       "      <td>женат / замужем</td>\n",
       "      <td>0</td>\n",
       "      <td>M</td>\n",
       "      <td>компаньон</td>\n",
       "      <td>0</td>\n",
       "      <td>113943.491460</td>\n",
       "      <td>покупка недвижимости</td>\n",
       "    </tr>\n",
       "    <tr>\n",
       "      <th>11</th>\n",
       "      <td>0</td>\n",
       "      <td>-792.701887</td>\n",
       "      <td>40</td>\n",
       "      <td>среднее</td>\n",
       "      <td>1</td>\n",
       "      <td>женат / замужем</td>\n",
       "      <td>0</td>\n",
       "      <td>F</td>\n",
       "      <td>сотрудник</td>\n",
       "      <td>0</td>\n",
       "      <td>77069.234271</td>\n",
       "      <td>покупка коммерческой недвижимости</td>\n",
       "    </tr>\n",
       "    <tr>\n",
       "      <th>12</th>\n",
       "      <td>0</td>\n",
       "      <td>NaN</td>\n",
       "      <td>65</td>\n",
       "      <td>среднее</td>\n",
       "      <td>1</td>\n",
       "      <td>гражданский брак</td>\n",
       "      <td>1</td>\n",
       "      <td>M</td>\n",
       "      <td>пенсионер</td>\n",
       "      <td>0</td>\n",
       "      <td>NaN</td>\n",
       "      <td>сыграть свадьбу</td>\n",
       "    </tr>\n",
       "    <tr>\n",
       "      <th>13</th>\n",
       "      <td>0</td>\n",
       "      <td>-1846.641941</td>\n",
       "      <td>54</td>\n",
       "      <td>неоконченное высшее</td>\n",
       "      <td>2</td>\n",
       "      <td>женат / замужем</td>\n",
       "      <td>0</td>\n",
       "      <td>F</td>\n",
       "      <td>сотрудник</td>\n",
       "      <td>0</td>\n",
       "      <td>130458.228857</td>\n",
       "      <td>приобретение автомобиля</td>\n",
       "    </tr>\n",
       "    <tr>\n",
       "      <th>14</th>\n",
       "      <td>0</td>\n",
       "      <td>-1844.956182</td>\n",
       "      <td>56</td>\n",
       "      <td>высшее</td>\n",
       "      <td>0</td>\n",
       "      <td>гражданский брак</td>\n",
       "      <td>1</td>\n",
       "      <td>F</td>\n",
       "      <td>компаньон</td>\n",
       "      <td>1</td>\n",
       "      <td>165127.911772</td>\n",
       "      <td>покупка жилой недвижимости</td>\n",
       "    </tr>\n",
       "    <tr>\n",
       "      <th>15</th>\n",
       "      <td>1</td>\n",
       "      <td>-972.364419</td>\n",
       "      <td>26</td>\n",
       "      <td>среднее</td>\n",
       "      <td>1</td>\n",
       "      <td>женат / замужем</td>\n",
       "      <td>0</td>\n",
       "      <td>F</td>\n",
       "      <td>сотрудник</td>\n",
       "      <td>0</td>\n",
       "      <td>116820.904450</td>\n",
       "      <td>строительство собственной недвижимости</td>\n",
       "    </tr>\n",
       "    <tr>\n",
       "      <th>16</th>\n",
       "      <td>0</td>\n",
       "      <td>-1719.934226</td>\n",
       "      <td>35</td>\n",
       "      <td>среднее</td>\n",
       "      <td>1</td>\n",
       "      <td>женат / замужем</td>\n",
       "      <td>0</td>\n",
       "      <td>F</td>\n",
       "      <td>сотрудник</td>\n",
       "      <td>0</td>\n",
       "      <td>289202.704229</td>\n",
       "      <td>недвижимость</td>\n",
       "    </tr>\n",
       "    <tr>\n",
       "      <th>17</th>\n",
       "      <td>0</td>\n",
       "      <td>-2369.999720</td>\n",
       "      <td>33</td>\n",
       "      <td>высшее</td>\n",
       "      <td>0</td>\n",
       "      <td>гражданский брак</td>\n",
       "      <td>1</td>\n",
       "      <td>M</td>\n",
       "      <td>сотрудник</td>\n",
       "      <td>0</td>\n",
       "      <td>90410.586745</td>\n",
       "      <td>строительство недвижимости</td>\n",
       "    </tr>\n",
       "    <tr>\n",
       "      <th>18</th>\n",
       "      <td>0</td>\n",
       "      <td>400281.136913</td>\n",
       "      <td>53</td>\n",
       "      <td>среднее</td>\n",
       "      <td>1</td>\n",
       "      <td>вдовец / вдова</td>\n",
       "      <td>2</td>\n",
       "      <td>F</td>\n",
       "      <td>пенсионер</td>\n",
       "      <td>0</td>\n",
       "      <td>56823.777243</td>\n",
       "      <td>на покупку подержанного автомобиля</td>\n",
       "    </tr>\n",
       "    <tr>\n",
       "      <th>19</th>\n",
       "      <td>0</td>\n",
       "      <td>-10038.818549</td>\n",
       "      <td>48</td>\n",
       "      <td>СРЕДНЕЕ</td>\n",
       "      <td>1</td>\n",
       "      <td>в разводе</td>\n",
       "      <td>3</td>\n",
       "      <td>F</td>\n",
       "      <td>сотрудник</td>\n",
       "      <td>0</td>\n",
       "      <td>242831.107982</td>\n",
       "      <td>на покупку своего автомобиля</td>\n",
       "    </tr>\n",
       "  </tbody>\n",
       "</table>\n",
       "</div>"
      ],
      "text/plain": [
       "    children  days_employed  dob_years            education  education_id  \\\n",
       "0          1   -8437.673028         42               высшее             0   \n",
       "1          1   -4024.803754         36              среднее             1   \n",
       "2          0   -5623.422610         33              Среднее             1   \n",
       "3          3   -4124.747207         32              среднее             1   \n",
       "4          0  340266.072047         53              среднее             1   \n",
       "5          0    -926.185831         27               высшее             0   \n",
       "6          0   -2879.202052         43               высшее             0   \n",
       "7          0    -152.779569         50              СРЕДНЕЕ             1   \n",
       "8          2   -6929.865299         35               ВЫСШЕЕ             0   \n",
       "9          0   -2188.756445         41              среднее             1   \n",
       "10         2   -4171.483647         36               высшее             0   \n",
       "11         0    -792.701887         40              среднее             1   \n",
       "12         0            NaN         65              среднее             1   \n",
       "13         0   -1846.641941         54  неоконченное высшее             2   \n",
       "14         0   -1844.956182         56               высшее             0   \n",
       "15         1    -972.364419         26              среднее             1   \n",
       "16         0   -1719.934226         35              среднее             1   \n",
       "17         0   -2369.999720         33               высшее             0   \n",
       "18         0  400281.136913         53              среднее             1   \n",
       "19         0  -10038.818549         48              СРЕДНЕЕ             1   \n",
       "\n",
       "       family_status  family_status_id gender income_type  debt  \\\n",
       "0    женат / замужем                 0      F   сотрудник     0   \n",
       "1    женат / замужем                 0      F   сотрудник     0   \n",
       "2    женат / замужем                 0      M   сотрудник     0   \n",
       "3    женат / замужем                 0      M   сотрудник     0   \n",
       "4   гражданский брак                 1      F   пенсионер     0   \n",
       "5   гражданский брак                 1      M   компаньон     0   \n",
       "6    женат / замужем                 0      F   компаньон     0   \n",
       "7    женат / замужем                 0      M   сотрудник     0   \n",
       "8   гражданский брак                 1      F   сотрудник     0   \n",
       "9    женат / замужем                 0      M   сотрудник     0   \n",
       "10   женат / замужем                 0      M   компаньон     0   \n",
       "11   женат / замужем                 0      F   сотрудник     0   \n",
       "12  гражданский брак                 1      M   пенсионер     0   \n",
       "13   женат / замужем                 0      F   сотрудник     0   \n",
       "14  гражданский брак                 1      F   компаньон     1   \n",
       "15   женат / замужем                 0      F   сотрудник     0   \n",
       "16   женат / замужем                 0      F   сотрудник     0   \n",
       "17  гражданский брак                 1      M   сотрудник     0   \n",
       "18    вдовец / вдова                 2      F   пенсионер     0   \n",
       "19         в разводе                 3      F   сотрудник     0   \n",
       "\n",
       "     total_income                                 purpose  \n",
       "0   253875.639453                           покупка жилья  \n",
       "1   112080.014102                 приобретение автомобиля  \n",
       "2   145885.952297                           покупка жилья  \n",
       "3   267628.550329              дополнительное образование  \n",
       "4   158616.077870                         сыграть свадьбу  \n",
       "5   255763.565419                           покупка жилья  \n",
       "6   240525.971920                       операции с жильем  \n",
       "7   135823.934197                             образование  \n",
       "8    95856.832424                   на проведение свадьбы  \n",
       "9   144425.938277                 покупка жилья для семьи  \n",
       "10  113943.491460                    покупка недвижимости  \n",
       "11   77069.234271       покупка коммерческой недвижимости  \n",
       "12            NaN                         сыграть свадьбу  \n",
       "13  130458.228857                 приобретение автомобиля  \n",
       "14  165127.911772              покупка жилой недвижимости  \n",
       "15  116820.904450  строительство собственной недвижимости  \n",
       "16  289202.704229                            недвижимость  \n",
       "17   90410.586745              строительство недвижимости  \n",
       "18   56823.777243      на покупку подержанного автомобиля  \n",
       "19  242831.107982            на покупку своего автомобиля  "
      ]
     },
     "execution_count": 2,
     "metadata": {},
     "output_type": "execute_result"
    }
   ],
   "source": [
    "data.head(20)"
   ]
  },
  {
   "cell_type": "markdown",
   "id": "a1e0dd3c",
   "metadata": {
    "deletable": false,
    "editable": false,
    "id": "1c12e233"
   },
   "source": [
    "**Задание 3. Выведите основную информацию о датафрейме с помощью метода `info()`.**"
   ]
  },
  {
   "cell_type": "code",
   "execution_count": 3,
   "id": "f71b14ae",
   "metadata": {
    "deletable": false,
    "id": "2b757bca",
    "outputId": "15376089-8dad-46c9-b520-c05248d43158"
   },
   "outputs": [
    {
     "name": "stdout",
     "output_type": "stream",
     "text": [
      "<class 'pandas.core.frame.DataFrame'>\n",
      "RangeIndex: 21525 entries, 0 to 21524\n",
      "Data columns (total 12 columns):\n",
      " #   Column            Non-Null Count  Dtype  \n",
      "---  ------            --------------  -----  \n",
      " 0   children          21525 non-null  int64  \n",
      " 1   days_employed     19351 non-null  float64\n",
      " 2   dob_years         21525 non-null  int64  \n",
      " 3   education         21525 non-null  object \n",
      " 4   education_id      21525 non-null  int64  \n",
      " 5   family_status     21525 non-null  object \n",
      " 6   family_status_id  21525 non-null  int64  \n",
      " 7   gender            21525 non-null  object \n",
      " 8   income_type       21525 non-null  object \n",
      " 9   debt              21525 non-null  int64  \n",
      " 10  total_income      19351 non-null  float64\n",
      " 11  purpose           21525 non-null  object \n",
      "dtypes: float64(2), int64(5), object(5)\n",
      "memory usage: 2.0+ MB\n"
     ]
    }
   ],
   "source": [
    "data.info()"
   ]
  },
  {
   "cell_type": "markdown",
   "id": "8c86bb4b",
   "metadata": {
    "deletable": false,
    "editable": false,
    "id": "333ec665"
   },
   "source": [
    "## Предобработка данных"
   ]
  },
  {
   "cell_type": "markdown",
   "id": "7279d067",
   "metadata": {
    "deletable": false,
    "editable": false,
    "id": "02d92d53"
   },
   "source": [
    "### Удаление пропусков"
   ]
  },
  {
   "cell_type": "markdown",
   "id": "447a2665",
   "metadata": {
    "deletable": false,
    "editable": false,
    "id": "cd84967c"
   },
   "source": [
    "**Задание 4. Выведите количество пропущенных значений для каждого столбца. Используйте комбинацию двух методов.**"
   ]
  },
  {
   "cell_type": "code",
   "execution_count": 4,
   "id": "a80a4294",
   "metadata": {
    "deletable": false,
    "id": "7f9b2309",
    "outputId": "81f4d817-781c-465c-ed15-91ce4446810d"
   },
   "outputs": [
    {
     "data": {
      "text/plain": [
       "children               0\n",
       "days_employed       2174\n",
       "dob_years              0\n",
       "education              0\n",
       "education_id           0\n",
       "family_status          0\n",
       "family_status_id       0\n",
       "gender                 0\n",
       "income_type            0\n",
       "debt                   0\n",
       "total_income        2174\n",
       "purpose                0\n",
       "dtype: int64"
      ]
     },
     "execution_count": 4,
     "metadata": {},
     "output_type": "execute_result"
    }
   ],
   "source": [
    "data.isna().sum()"
   ]
  },
  {
   "cell_type": "markdown",
   "id": "2dbcee2f",
   "metadata": {
    "deletable": false,
    "editable": false,
    "id": "db86e27b"
   },
   "source": [
    "**Задание 5. В двух столбцах есть пропущенные значения. Один из них — `days_employed`. Пропуски в этом столбце вы обработаете на следующем этапе. Другой столбец с пропущенными значениями — `total_income` — хранит данные о доходах. На сумму дохода сильнее всего влияет тип занятости, поэтому заполнить пропуски в этом столбце нужно медианным значением по каждому типу из столбца `income_type`. Например, у человека с типом занятости `сотрудник` пропуск в столбце `total_income` должен быть заполнен медианным доходом среди всех записей с тем же типом.**"
   ]
  },
  {
   "cell_type": "code",
   "execution_count": 5,
   "id": "e538cb30",
   "metadata": {
    "deletable": false,
    "id": "42006a93"
   },
   "outputs": [],
   "source": [
    "for t in data['income_type'].unique():\n",
    "    data.loc[(data['income_type'] == t) & (data['total_income'].isna()), 'total_income'] = \\\n",
    "    data.loc[(data['income_type'] == t), 'total_income'].median()"
   ]
  },
  {
   "cell_type": "markdown",
   "id": "507477ce",
   "metadata": {
    "deletable": false,
    "editable": false,
    "id": "89da5ece"
   },
   "source": [
    "### Обработка аномальных значений"
   ]
  },
  {
   "cell_type": "markdown",
   "id": "c57906e2",
   "metadata": {
    "deletable": false,
    "editable": false,
    "id": "57964554"
   },
   "source": [
    "**Задание 6. В данных могут встречаться артефакты (аномалии) — значения, которые не отражают действительность и появились по какой-то ошибке. таким артефактом будет отрицательное количество дней трудового стажа в столбце `days_employed`. Для реальных данных это нормально. Обработайте значения в этом столбце: замените все отрицательные значения положительными с помощью метода `abs()`.**"
   ]
  },
  {
   "cell_type": "code",
   "execution_count": 6,
   "id": "682d1289",
   "metadata": {
    "deletable": false,
    "id": "f6f055bf"
   },
   "outputs": [],
   "source": [
    "data['days_employed'] = data['days_employed'].abs()"
   ]
  },
  {
   "cell_type": "markdown",
   "id": "616889d2",
   "metadata": {
    "deletable": false,
    "editable": false,
    "id": "6107dd2f"
   },
   "source": [
    "**Задание 7. Для каждого типа занятости выведите медианное значение трудового стажа `days_employed` в днях.**"
   ]
  },
  {
   "cell_type": "code",
   "execution_count": 7,
   "id": "cf5bb761",
   "metadata": {
    "deletable": false,
    "id": "85a5faf6",
    "outputId": "801ef80e-522b-4668-f34e-565af7432bcf"
   },
   "outputs": [
    {
     "data": {
      "text/plain": [
       "income_type\n",
       "безработный        366413.652744\n",
       "в декрете            3296.759962\n",
       "госслужащий          2689.368353\n",
       "компаньон            1547.382223\n",
       "пенсионер          365213.306266\n",
       "предприниматель       520.848083\n",
       "сотрудник            1574.202821\n",
       "студент               578.751554\n",
       "Name: days_employed, dtype: float64"
      ]
     },
     "execution_count": 7,
     "metadata": {},
     "output_type": "execute_result"
    }
   ],
   "source": [
    "data.groupby('income_type')['days_employed'].agg('median')"
   ]
  },
  {
   "cell_type": "markdown",
   "id": "0cf621e7",
   "metadata": {
    "deletable": false,
    "editable": false,
    "id": "38d1a030"
   },
   "source": [
    "У двух типов (безработные и пенсионеры) получатся аномально большие значения. Исправить такие значения сложно, поэтому оставьте их как есть. Тем более этот столбец не понадобится вам для исследования."
   ]
  },
  {
   "cell_type": "markdown",
   "id": "ed4e5ab2",
   "metadata": {
    "deletable": false,
    "editable": false,
    "id": "d8a9f147"
   },
   "source": [
    "**Задание 8. Выведите перечень уникальных значений столбца `children`.**"
   ]
  },
  {
   "cell_type": "code",
   "execution_count": 8,
   "id": "7b540c7a",
   "metadata": {
    "deletable": false,
    "id": "ef5056eb",
    "outputId": "6975b15c-7f95-4697-d16d-a0c79b657b03"
   },
   "outputs": [
    {
     "data": {
      "text/plain": [
       "array([ 1,  0,  3,  2, -1,  4, 20,  5])"
      ]
     },
     "execution_count": 8,
     "metadata": {},
     "output_type": "execute_result"
    }
   ],
   "source": [
    "data['children'].unique()"
   ]
  },
  {
   "cell_type": "markdown",
   "id": "3441109e",
   "metadata": {
    "deletable": false,
    "editable": false,
    "id": "40b9ebf2"
   },
   "source": [
    "**Задание 9. В столбце `children` есть два аномальных значения. Удалите строки, в которых встречаются такие аномальные значения из датафрейма `data`.**"
   ]
  },
  {
   "cell_type": "code",
   "execution_count": 9,
   "id": "497866e0",
   "metadata": {
    "deletable": false,
    "id": "3ff9801d"
   },
   "outputs": [],
   "source": [
    "data = data[(data['children'] != -1) & (data['children'] != 20)]"
   ]
  },
  {
   "cell_type": "markdown",
   "id": "91c22678",
   "metadata": {
    "deletable": false,
    "editable": false,
    "id": "bbc4d0ce"
   },
   "source": [
    "**Задание 10. Ещё раз выведите перечень уникальных значений столбца `children`, чтобы убедиться, что артефакты удалены.**"
   ]
  },
  {
   "cell_type": "code",
   "execution_count": 10,
   "id": "a3963b75",
   "metadata": {
    "deletable": false,
    "id": "ad4fa8b7",
    "outputId": "b2097101-d49d-44d9-901b-32a65c9463d1"
   },
   "outputs": [
    {
     "data": {
      "text/plain": [
       "array([1, 0, 3, 2, 4, 5])"
      ]
     },
     "execution_count": 10,
     "metadata": {},
     "output_type": "execute_result"
    }
   ],
   "source": [
    "data['children'].unique()"
   ]
  },
  {
   "cell_type": "markdown",
   "id": "33c1855b",
   "metadata": {
    "deletable": false,
    "editable": false,
    "id": "75440b63"
   },
   "source": [
    "### Удаление пропусков (продолжение)"
   ]
  },
  {
   "cell_type": "markdown",
   "id": "be56d093",
   "metadata": {
    "deletable": false,
    "editable": false,
    "id": "f4ea573f"
   },
   "source": [
    "**Задание 11. Заполните пропуски в столбце `days_employed` медианными значениями по каждого типа занятости `income_type`.**"
   ]
  },
  {
   "cell_type": "code",
   "execution_count": 11,
   "id": "6e55aa7c",
   "metadata": {
    "deletable": false,
    "id": "af6b1a7e"
   },
   "outputs": [],
   "source": [
    "for t in data['income_type'].unique():\n",
    "    data.loc[(data['income_type'] == t) & (data['days_employed'].isna()), 'days_employed'] = \\\n",
    "    data.loc[(data['income_type'] == t), 'days_employed'].median()"
   ]
  },
  {
   "cell_type": "markdown",
   "id": "065edcf3",
   "metadata": {
    "deletable": false,
    "editable": false,
    "id": "2753f40d"
   },
   "source": [
    "**Задание 12. Убедитесь, что все пропуски заполнены. Проверьте себя и ещё раз выведите количество пропущенных значений для каждого столбца с помощью двух методов.**"
   ]
  },
  {
   "cell_type": "code",
   "execution_count": 12,
   "id": "b5873b21",
   "metadata": {
    "deletable": false,
    "id": "55f78bc2",
    "outputId": "8da1e4e1-358e-4e87-98c9-f261bce0a7b2"
   },
   "outputs": [
    {
     "data": {
      "text/plain": [
       "children            0\n",
       "days_employed       0\n",
       "dob_years           0\n",
       "education           0\n",
       "education_id        0\n",
       "family_status       0\n",
       "family_status_id    0\n",
       "gender              0\n",
       "income_type         0\n",
       "debt                0\n",
       "total_income        0\n",
       "purpose             0\n",
       "dtype: int64"
      ]
     },
     "execution_count": 12,
     "metadata": {},
     "output_type": "execute_result"
    }
   ],
   "source": [
    "data.isna().sum()"
   ]
  },
  {
   "cell_type": "markdown",
   "id": "cd17feb0",
   "metadata": {
    "deletable": false,
    "editable": false,
    "id": "ddc81e43"
   },
   "source": [
    "### Изменение типов данных"
   ]
  },
  {
   "cell_type": "markdown",
   "id": "09639d8e",
   "metadata": {
    "deletable": false,
    "editable": false,
    "id": "42d19d24"
   },
   "source": [
    "**Задание 13. Замените вещественный тип данных в столбце `total_income` на целочисленный с помощью метода `astype()`.**"
   ]
  },
  {
   "cell_type": "code",
   "execution_count": 13,
   "id": "5408d461",
   "metadata": {
    "deletable": false,
    "id": "920b65ad"
   },
   "outputs": [],
   "source": [
    "data['total_income'] = data['total_income'].astype(int)"
   ]
  },
  {
   "cell_type": "markdown",
   "id": "e2910caf",
   "metadata": {
    "deletable": false,
    "editable": false,
    "id": "80c420ba"
   },
   "source": [
    "### Обработка дубликатов"
   ]
  },
  {
   "cell_type": "markdown",
   "id": "7b3fee12",
   "metadata": {
    "deletable": false,
    "editable": false
   },
   "source": [
    "**Задание 14. Обработайте неявные дубликаты в столбце `education`. В этом столбце есть одни и те же значения, но записанные по-разному: с использованием заглавных и строчных букв. Приведите их к нижнему регистру. Проверьте остальные столбцы.**"
   ]
  },
  {
   "cell_type": "code",
   "execution_count": 14,
   "id": "53b5bdcb",
   "metadata": {
    "deletable": false
   },
   "outputs": [],
   "source": [
    "data['education'] = data['education'].str.lower()"
   ]
  },
  {
   "cell_type": "markdown",
   "id": "505f4c9c",
   "metadata": {
    "deletable": false,
    "editable": false,
    "id": "dc587695"
   },
   "source": [
    "**Задание 15. Выведите на экран количество строк-дубликатов в данных. Если такие строки присутствуют, удалите их.**"
   ]
  },
  {
   "cell_type": "code",
   "execution_count": 15,
   "id": "c9706bb1",
   "metadata": {
    "deletable": false,
    "id": "3ee445e4",
    "outputId": "9684deba-1934-42d1-99e1-cda61740f822"
   },
   "outputs": [
    {
     "data": {
      "text/plain": [
       "71"
      ]
     },
     "execution_count": 15,
     "metadata": {},
     "output_type": "execute_result"
    }
   ],
   "source": [
    "data.duplicated().sum()"
   ]
  },
  {
   "cell_type": "code",
   "execution_count": 16,
   "id": "4ac43ef0",
   "metadata": {
    "deletable": false,
    "id": "8575fe05"
   },
   "outputs": [],
   "source": [
    "data = data.drop_duplicates()"
   ]
  },
  {
   "cell_type": "markdown",
   "id": "afdb0a51",
   "metadata": {
    "deletable": false,
    "editable": false,
    "id": "9904cf55"
   },
   "source": [
    "### Категоризация данных"
   ]
  },
  {
   "cell_type": "markdown",
   "id": "0c2e7aaa",
   "metadata": {
    "deletable": false,
    "editable": false,
    "id": "72fcc8a2"
   },
   "source": [
    "**Задание 16. На основании диапазонов, указанных ниже, создайте в датафрейме `data` столбец `total_income_category` с категориями:**\n",
    "\n",
    "- 0–30000 — `'E'`;\n",
    "- 30001–50000 — `'D'`;\n",
    "- 50001–200000 — `'C'`;\n",
    "- 200001–1000000 — `'B'`;\n",
    "- 1000001 и выше — `'A'`.\n",
    "\n",
    "\n",
    "**Например, кредитополучателю с доходом 25000 нужно назначить категорию `'E'`, а клиенту, получающему 235000, — `'B'`. Используйте собственную функцию с именем `categorize_income()` и метод `apply()`.**"
   ]
  },
  {
   "cell_type": "code",
   "execution_count": 17,
   "id": "2bd1138a",
   "metadata": {
    "deletable": false,
    "id": "e1771346"
   },
   "outputs": [],
   "source": [
    "def categorize_income(income):\n",
    "    try:\n",
    "        if 0 <= income <= 30000:\n",
    "            return 'E'\n",
    "        elif 30001 <= income <= 50000:\n",
    "            return 'D'\n",
    "        elif 50001 <= income <= 200000:\n",
    "            return 'C'\n",
    "        elif 200001 <= income <= 1000000:\n",
    "            return 'B'\n",
    "        elif income >= 1000001:\n",
    "            return 'A'\n",
    "    except:\n",
    "        pass"
   ]
  },
  {
   "cell_type": "code",
   "execution_count": 18,
   "id": "e678caa5",
   "metadata": {
    "deletable": false,
    "id": "d5f3586d"
   },
   "outputs": [],
   "source": [
    "data['total_income_category'] = data['total_income'].apply(categorize_income)"
   ]
  },
  {
   "cell_type": "markdown",
   "id": "bf295a69",
   "metadata": {
    "deletable": false,
    "editable": false,
    "id": "dde49b5c"
   },
   "source": [
    "**Задание 17. Выведите на экран перечень уникальных целей взятия кредита из столбца `purpose`.**"
   ]
  },
  {
   "cell_type": "code",
   "execution_count": 19,
   "id": "71e5ebaf",
   "metadata": {
    "deletable": false,
    "id": "f67ce9b3",
    "outputId": "673c12d9-7d7e-4ae0-9812-c622c89dd244"
   },
   "outputs": [
    {
     "data": {
      "text/plain": [
       "array(['покупка жилья', 'приобретение автомобиля',\n",
       "       'дополнительное образование', 'сыграть свадьбу',\n",
       "       'операции с жильем', 'образование', 'на проведение свадьбы',\n",
       "       'покупка жилья для семьи', 'покупка недвижимости',\n",
       "       'покупка коммерческой недвижимости', 'покупка жилой недвижимости',\n",
       "       'строительство собственной недвижимости', 'недвижимость',\n",
       "       'строительство недвижимости', 'на покупку подержанного автомобиля',\n",
       "       'на покупку своего автомобиля',\n",
       "       'операции с коммерческой недвижимостью',\n",
       "       'строительство жилой недвижимости', 'жилье',\n",
       "       'операции со своей недвижимостью', 'автомобили',\n",
       "       'заняться образованием', 'сделка с подержанным автомобилем',\n",
       "       'получение образования', 'автомобиль', 'свадьба',\n",
       "       'получение дополнительного образования', 'покупка своего жилья',\n",
       "       'операции с недвижимостью', 'получение высшего образования',\n",
       "       'свой автомобиль', 'сделка с автомобилем',\n",
       "       'профильное образование', 'высшее образование',\n",
       "       'покупка жилья для сдачи', 'на покупку автомобиля', 'ремонт жилью',\n",
       "       'заняться высшим образованием'], dtype=object)"
      ]
     },
     "execution_count": 19,
     "metadata": {},
     "output_type": "execute_result"
    }
   ],
   "source": [
    "data['purpose'].unique()"
   ]
  },
  {
   "cell_type": "markdown",
   "id": "85e76c01",
   "metadata": {
    "deletable": false,
    "editable": false,
    "id": "85d0aef0"
   },
   "source": [
    "**Задание 18. Создайте функцию, которая на основании данных из столбца `purpose` сформирует новый столбец `purpose_category`, в который войдут следующие категории:**\n",
    "\n",
    "- `'операции с автомобилем'`,\n",
    "- `'операции с недвижимостью'`,\n",
    "- `'проведение свадьбы'`,\n",
    "- `'получение образования'`.\n",
    "\n",
    "**Например, если в столбце `purpose` находится подстрока `'на покупку автомобиля'`, то в столбце `purpose_category` должна появиться строка `'операции с автомобилем'`.**\n",
    "\n",
    "**Используйте собственную функцию с именем `categorize_purpose()` и метод `apply()`. Изучите данные в столбце `purpose` и определите, какие подстроки помогут вам правильно определить категорию.**"
   ]
  },
  {
   "cell_type": "code",
   "execution_count": 20,
   "id": "9d55907e",
   "metadata": {
    "deletable": false,
    "id": "e149fab4"
   },
   "outputs": [],
   "source": [
    "def categorize_purpose(row):\n",
    "    try:\n",
    "        if 'автом' in row:\n",
    "            return 'операции с автомобилем'\n",
    "        elif 'жил' in row or 'недвиж' in row:\n",
    "            return 'операции с недвижимостью'\n",
    "        elif 'свад' in row:\n",
    "            return 'проведение свадьбы'\n",
    "        elif 'образов' in row:\n",
    "            return 'получение образования'\n",
    "    except:\n",
    "        return 'нет категории'"
   ]
  },
  {
   "cell_type": "code",
   "execution_count": 21,
   "id": "cc7b637e",
   "metadata": {
    "deletable": false,
    "id": "bf36e69b"
   },
   "outputs": [],
   "source": [
    "data['purpose_category'] = data['purpose'].apply(categorize_purpose)"
   ]
  },
  {
   "cell_type": "markdown",
   "id": "254b834e",
   "metadata": {
    "deletable": false,
    "editable": false,
    "id": "09b242bf"
   },
   "source": [
    "### Шаг 3. Исследуйте данные и ответьте на вопросы"
   ]
  },
  {
   "cell_type": "markdown",
   "id": "1ea8d115",
   "metadata": {
    "deletable": false,
    "editable": false,
    "id": "c5d66278"
   },
   "source": [
    "#### 3.1 Есть ли зависимость между количеством детей и возвратом кредита в срок?"
   ]
  },
  {
   "cell_type": "code",
   "execution_count": 22,
   "id": "f727793f",
   "metadata": {
    "deletable": false,
    "id": "2cacfc4a"
   },
   "outputs": [
    {
     "data": {
      "image/png": "[encoded data removed]",
      "text/plain": [
       "<Figure size 432x288 with 1 Axes>"
      ]
     },
     "metadata": {
      "needs_background": "light"
     },
     "output_type": "display_data"
    },
    {
     "data": {
      "image/png": "[encoded data removed]",
      "text/plain": [
       "<Figure size 432x288 with 1 Axes>"
      ]
     },
     "metadata": {
      "needs_background": "light"
     },
     "output_type": "display_data"
    }
   ],
   "source": [
    "sns.histplot(data, x='children', hue='debt', multiple='fill', linewidth=1, binwidth=0.999)\n",
    "plt.title('Зависимость между количеством детей и возвратом кредита в срок', pad=20)\n",
    "plt.legend(['Просрочили кредит', 'Выплатили кредит в срок'])\n",
    "plt.xlabel('Количество детей')\n",
    "plt.ylabel('Процентное соотношение')\n",
    "plt.show()\n",
    "\n",
    "sns.histplot(data, x='children', linewidth=1, binwidth=0.999)\n",
    "plt.title('Распределение клиентов в зависимости от количества детей', pad=20)\n",
    "plt.ylabel('Количество клиентов')\n",
    "plt.xlabel('Количество детей у клиента')\n",
    "plt.show()"
   ]
  },
  {
   "cell_type": "code",
   "execution_count": 24,
   "id": "a2b7240a",
   "metadata": {},
   "outputs": [
    {
     "data": {
      "text/html": [
       "<div>\n",
       "<style scoped>\n",
       "    .dataframe tbody tr th:only-of-type {\n",
       "        vertical-align: middle;\n",
       "    }\n",
       "\n",
       "    .dataframe tbody tr th {\n",
       "        vertical-align: top;\n",
       "    }\n",
       "\n",
       "    .dataframe thead th {\n",
       "        text-align: right;\n",
       "    }\n",
       "</style>\n",
       "<table border=\"1\" class=\"dataframe\">\n",
       "  <thead>\n",
       "    <tr style=\"text-align: right;\">\n",
       "      <th></th>\n",
       "      <th>count</th>\n",
       "      <th>mean</th>\n",
       "      <th>sum</th>\n",
       "    </tr>\n",
       "    <tr>\n",
       "      <th>children</th>\n",
       "      <th></th>\n",
       "      <th></th>\n",
       "      <th></th>\n",
       "    </tr>\n",
       "  </thead>\n",
       "  <tbody>\n",
       "    <tr>\n",
       "      <th>0</th>\n",
       "      <td>14091.0</td>\n",
       "      <td>0.075438</td>\n",
       "      <td>1063.0</td>\n",
       "    </tr>\n",
       "    <tr>\n",
       "      <th>1</th>\n",
       "      <td>4808.0</td>\n",
       "      <td>0.092346</td>\n",
       "      <td>444.0</td>\n",
       "    </tr>\n",
       "    <tr>\n",
       "      <th>2</th>\n",
       "      <td>2052.0</td>\n",
       "      <td>0.094542</td>\n",
       "      <td>194.0</td>\n",
       "    </tr>\n",
       "    <tr>\n",
       "      <th>3</th>\n",
       "      <td>330.0</td>\n",
       "      <td>0.081818</td>\n",
       "      <td>27.0</td>\n",
       "    </tr>\n",
       "    <tr>\n",
       "      <th>4</th>\n",
       "      <td>41.0</td>\n",
       "      <td>0.097561</td>\n",
       "      <td>4.0</td>\n",
       "    </tr>\n",
       "    <tr>\n",
       "      <th>5</th>\n",
       "      <td>9.0</td>\n",
       "      <td>0.000000</td>\n",
       "      <td>0.0</td>\n",
       "    </tr>\n",
       "  </tbody>\n",
       "</table>\n",
       "</div>"
      ],
      "text/plain": [
       "            count      mean     sum\n",
       "children                           \n",
       "0         14091.0  0.075438  1063.0\n",
       "1          4808.0  0.092346   444.0\n",
       "2          2052.0  0.094542   194.0\n",
       "3           330.0  0.081818    27.0\n",
       "4            41.0  0.097561     4.0\n",
       "5             9.0  0.000000     0.0"
      ]
     },
     "execution_count": 24,
     "metadata": {},
     "output_type": "execute_result"
    }
   ],
   "source": [
    "data.pivot_table(index='children',values='debt', aggfunc=('count',\n",
    "                                                          'sum',\n",
    "                                                          'mean'))"
   ]
  },
  {
   "cell_type": "markdown",
   "id": "f3d153ed",
   "metadata": {
    "deletable": false,
    "id": "3a6b99ec"
   },
   "source": [
    "**Вывод:** оценив гистограммы можно понять, что общее процентное соотношение клиентов, которые смогли выплатить кредит в срок к клиентам, которые его просрочили приблизительно одинаковое в независимости от количества детей *(если их больше 0)*. Исключением являются клиенты с 5 детьми - они всегда выплачивали кредит в срок, но если посмотреть на абсолютные цифры, то таких клиентов было всего 9 из 21 тысячи человек, поэтому нельзя сказать с увернностью, что если у клиента 5 детей, то он со 100% вероятностью закроет кредит в срок. Таким образом, предполагаем, что явной зависимости между количеством детей и возвратом кредита в срок нет. *Однако стоит отметить, что клиенты, у которых нет детей выплачивают кредит в срок чаще, чем клиенты у которых есть хотя бы один ребенок.*"
   ]
  },
  {
   "cell_type": "markdown",
   "id": "62e34c90",
   "metadata": {
    "deletable": false,
    "editable": false,
    "id": "97be82ca"
   },
   "source": [
    "#### 3.2 Есть ли зависимость между семейным положением и возвратом кредита в срок?"
   ]
  },
  {
   "cell_type": "code",
   "execution_count": 25,
   "id": "c1587532",
   "metadata": {
    "deletable": false,
    "id": "dc3f7ee8"
   },
   "outputs": [
    {
     "data": {
      "image/png": "[encoded data removed]",
      "text/plain": [
       "<Figure size 432x288 with 1 Axes>"
      ]
     },
     "metadata": {
      "needs_background": "light"
     },
     "output_type": "display_data"
    },
    {
     "data": {
      "image/png": "[encoded data removed]",
      "text/plain": [
       "<Figure size 432x288 with 1 Axes>"
      ]
     },
     "metadata": {
      "needs_background": "light"
     },
     "output_type": "display_data"
    }
   ],
   "source": [
    "sns.histplot(data, y='family_status', hue='debt', multiple='fill', linewidth=1)\n",
    "plt.title('Зависимость между семейным положением и возвратом кредита в срок', pad=20)\n",
    "plt.legend(['Просрочили кредит', 'Выплатили кредит в срок'])\n",
    "plt.ylabel('Семейный статус клиента')\n",
    "plt.xlabel('Процентное соотношение')\n",
    "plt.show()\n",
    "\n",
    "sns.histplot(data, y='family_status', linewidth=1)\n",
    "plt.title('Распределение клиентов в зависимости от семейного статуса', pad=20)\n",
    "plt.ylabel('Семейный статус клиента')\n",
    "plt.xlabel('Количество клиентов')\n",
    "plt.show()"
   ]
  },
  {
   "cell_type": "code",
   "execution_count": 26,
   "id": "135458e7",
   "metadata": {},
   "outputs": [
    {
     "data": {
      "text/html": [
       "<div>\n",
       "<style scoped>\n",
       "    .dataframe tbody tr th:only-of-type {\n",
       "        vertical-align: middle;\n",
       "    }\n",
       "\n",
       "    .dataframe tbody tr th {\n",
       "        vertical-align: top;\n",
       "    }\n",
       "\n",
       "    .dataframe thead th {\n",
       "        text-align: right;\n",
       "    }\n",
       "</style>\n",
       "<table border=\"1\" class=\"dataframe\">\n",
       "  <thead>\n",
       "    <tr style=\"text-align: right;\">\n",
       "      <th></th>\n",
       "      <th>count</th>\n",
       "      <th>mean</th>\n",
       "      <th>sum</th>\n",
       "    </tr>\n",
       "    <tr>\n",
       "      <th>family_status</th>\n",
       "      <th></th>\n",
       "      <th></th>\n",
       "      <th></th>\n",
       "    </tr>\n",
       "  </thead>\n",
       "  <tbody>\n",
       "    <tr>\n",
       "      <th>Не женат / не замужем</th>\n",
       "      <td>2796.0</td>\n",
       "      <td>0.097639</td>\n",
       "      <td>273.0</td>\n",
       "    </tr>\n",
       "    <tr>\n",
       "      <th>в разводе</th>\n",
       "      <td>1189.0</td>\n",
       "      <td>0.070648</td>\n",
       "      <td>84.0</td>\n",
       "    </tr>\n",
       "    <tr>\n",
       "      <th>вдовец / вдова</th>\n",
       "      <td>951.0</td>\n",
       "      <td>0.066246</td>\n",
       "      <td>63.0</td>\n",
       "    </tr>\n",
       "    <tr>\n",
       "      <th>гражданский брак</th>\n",
       "      <td>4134.0</td>\n",
       "      <td>0.093130</td>\n",
       "      <td>385.0</td>\n",
       "    </tr>\n",
       "    <tr>\n",
       "      <th>женат / замужем</th>\n",
       "      <td>12261.0</td>\n",
       "      <td>0.075606</td>\n",
       "      <td>927.0</td>\n",
       "    </tr>\n",
       "  </tbody>\n",
       "</table>\n",
       "</div>"
      ],
      "text/plain": [
       "                         count      mean    sum\n",
       "family_status                                  \n",
       "Не женат / не замужем   2796.0  0.097639  273.0\n",
       "в разводе               1189.0  0.070648   84.0\n",
       "вдовец / вдова           951.0  0.066246   63.0\n",
       "гражданский брак        4134.0  0.093130  385.0\n",
       "женат / замужем        12261.0  0.075606  927.0"
      ]
     },
     "execution_count": 26,
     "metadata": {},
     "output_type": "execute_result"
    }
   ],
   "source": [
    "data.pivot_table(index='family_status',values='debt', aggfunc=('count',\n",
    "                                                               'sum',\n",
    "                                                               'mean'))"
   ]
  },
  {
   "cell_type": "markdown",
   "id": "7aaa0b13",
   "metadata": {
    "deletable": false,
    "id": "1cef7837"
   },
   "source": [
    "**Вывод:** клиенты банка в семейном статусе \"Гражданский брак\" и \"Не женат / не замужем\" реже выплачивают кредит в срок. И чаще всего кредит в срок возвращают клиенты в статусе \"Вдовец / вдова\". *Можно предположить, что овдовевшие клиенты (как и клиенты в разводе) более дисциплинированы, так как, когда человек один, ему проще планировать свой бюджет и полагаться только на свои силы, однако данные по клиентам в статусе \"Не женат / не замужем\" говорят об обратном - самый большой процент просрочки кредита. В таком случае, вероятно, важной составляющей является этап семейной жизни, в процессе которого меняются привычки человека: он становится рациональнее, реже совершает спонтанные покупки и учится планировать свой бюджет. Как раз эти привычки и помогают людям после брака выплачивать кредит в срок чаще остальных категорий клиентов.*"
   ]
  },
  {
   "cell_type": "markdown",
   "id": "b9aeeb4a",
   "metadata": {
    "deletable": false,
    "editable": false,
    "id": "1e8b2fca"
   },
   "source": [
    "#### 3.3 Есть ли зависимость между уровнем дохода и возвратом кредита в срок?"
   ]
  },
  {
   "cell_type": "code",
   "execution_count": 27,
   "id": "d328410a",
   "metadata": {
    "deletable": false,
    "id": "cd7e3720"
   },
   "outputs": [
    {
     "data": {
      "image/png": "[encoded data removed]",
      "text/plain": [
       "<Figure size 432x288 with 1 Axes>"
      ]
     },
     "metadata": {
      "needs_background": "light"
     },
     "output_type": "display_data"
    }
   ],
   "source": [
    "sns.histplot(data.sort_values('total_income_category'),\n",
    "             x='total_income_category',\n",
    "             hue='debt',\n",
    "             multiple='fill',\n",
    "             linewidth=1)\n",
    "plt.title('Зависимость между уровнем дохода и возвратом кредита в срок', pad=20)\n",
    "plt.legend(['Просрочили кредит', 'Выплатили кредит в срок'])\n",
    "plt.xlabel('Категория уровня дохода')\n",
    "plt.ylabel('Процентное соотношение')\n",
    "plt.show()"
   ]
  },
  {
   "cell_type": "markdown",
   "id": "7eb50d7a",
   "metadata": {},
   "source": [
    "- 0–30000 — `'E'`;\n",
    "- 30001–50000 — `'D'`;\n",
    "- 50001–200000 — `'C'`;\n",
    "- 200001–1000000 — `'B'`;\n",
    "- 1000001 и выше — `'A'`."
   ]
  },
  {
   "cell_type": "code",
   "execution_count": 28,
   "id": "dd08db2f",
   "metadata": {},
   "outputs": [
    {
     "data": {
      "text/html": [
       "<div>\n",
       "<style scoped>\n",
       "    .dataframe tbody tr th:only-of-type {\n",
       "        vertical-align: middle;\n",
       "    }\n",
       "\n",
       "    .dataframe tbody tr th {\n",
       "        vertical-align: top;\n",
       "    }\n",
       "\n",
       "    .dataframe thead th {\n",
       "        text-align: right;\n",
       "    }\n",
       "</style>\n",
       "<table border=\"1\" class=\"dataframe\">\n",
       "  <thead>\n",
       "    <tr style=\"text-align: right;\">\n",
       "      <th></th>\n",
       "      <th>count</th>\n",
       "      <th>mean</th>\n",
       "      <th>sum</th>\n",
       "    </tr>\n",
       "    <tr>\n",
       "      <th>total_income_category</th>\n",
       "      <th></th>\n",
       "      <th></th>\n",
       "      <th></th>\n",
       "    </tr>\n",
       "  </thead>\n",
       "  <tbody>\n",
       "    <tr>\n",
       "      <th>A</th>\n",
       "      <td>25.0</td>\n",
       "      <td>0.080000</td>\n",
       "      <td>2.0</td>\n",
       "    </tr>\n",
       "    <tr>\n",
       "      <th>B</th>\n",
       "      <td>5014.0</td>\n",
       "      <td>0.070602</td>\n",
       "      <td>354.0</td>\n",
       "    </tr>\n",
       "    <tr>\n",
       "      <th>C</th>\n",
       "      <td>15921.0</td>\n",
       "      <td>0.084982</td>\n",
       "      <td>1353.0</td>\n",
       "    </tr>\n",
       "    <tr>\n",
       "      <th>D</th>\n",
       "      <td>349.0</td>\n",
       "      <td>0.060172</td>\n",
       "      <td>21.0</td>\n",
       "    </tr>\n",
       "    <tr>\n",
       "      <th>E</th>\n",
       "      <td>22.0</td>\n",
       "      <td>0.090909</td>\n",
       "      <td>2.0</td>\n",
       "    </tr>\n",
       "  </tbody>\n",
       "</table>\n",
       "</div>"
      ],
      "text/plain": [
       "                         count      mean     sum\n",
       "total_income_category                           \n",
       "A                         25.0  0.080000     2.0\n",
       "B                       5014.0  0.070602   354.0\n",
       "C                      15921.0  0.084982  1353.0\n",
       "D                        349.0  0.060172    21.0\n",
       "E                         22.0  0.090909     2.0"
      ]
     },
     "execution_count": 28,
     "metadata": {},
     "output_type": "execute_result"
    }
   ],
   "source": [
    "data.pivot_table(index='total_income_category',values='debt', aggfunc=('count',\n",
    "                                                               'sum',\n",
    "                                                               'mean'))"
   ]
  },
  {
   "cell_type": "code",
   "execution_count": 29,
   "id": "9da05801",
   "metadata": {},
   "outputs": [
    {
     "name": "stdout",
     "output_type": "stream",
     "text": [
      "                         count      mean     sum\n",
      "total_income_category                           \n",
      "A                         25.0  0.080000     2.0\n",
      "B                       5014.0  0.070602   354.0\n",
      "C                      15921.0  0.084982  1353.0\n",
      "D                        349.0  0.060172    21.0\n",
      "E                         22.0  0.090909     2.0\n"
     ]
    },
    {
     "data": {
      "image/png": "[encoded data removed]",
      "text/plain": [
       "<Figure size 432x288 with 1 Axes>"
      ]
     },
     "metadata": {
      "needs_background": "light"
     },
     "output_type": "display_data"
    }
   ],
   "source": [
    "print(data.pivot_table(index='total_income_category',values='debt', aggfunc=('count', 'sum', 'mean')))\n",
    "\n",
    "sns.histplot(data.sort_values('total_income_category'),\n",
    "             x='total_income',\n",
    "             linewidth=1,\n",
    "             bins=35,\n",
    "             hue='total_income_category',\n",
    "             log_scale=True) # покажем в логарифмическом масштабе\n",
    "plt.legend(labels=sorted(data['total_income_category'].unique(), reverse=True))\n",
    "plt.title('Распределение клиентов в зависимости от уровня дохода', pad=20)\n",
    "plt.ylabel('Количество клиентов')\n",
    "plt.xlabel('Категория уровня дохода')\n",
    "plt.show()"
   ]
  },
  {
   "cell_type": "markdown",
   "id": "d783161a",
   "metadata": {
    "deletable": false,
    "id": "e8593def"
   },
   "source": [
    "**Вывод:** по гистограмме распределения клиентов в зависимости от уровня дохода видно, что большую часть составляют клиенты группы 'C' и группы 'B'. *Причем в процентном соотношении клиенты групп 'C' и 'B' составляют около 98% от всех клиентов (около 21 тысячи). И если по группе 'D' может быть и можно сделать анализ, то группы 'A' и 'E' - это слишком маленькие выборки, на основе которых нельзя делать выводы о зависимости между уровнем дохода и возвратом кредита в срок. Сравнивая клиентов по уровню дохода можно сказать, что люди с доходом от 50 000 до 200 000 реже выплачивают кредит вовремя, в сравнении с клиентами, которые имеют от 200 000 до 1 000 000 ежемесячного дохода. Если предположить, что выборка группы 'D' является сбалансированной и репрезентативной, то клиенты данной группы являются фаворитами по выплатам кредита в срок.*"
   ]
  },
  {
   "cell_type": "markdown",
   "id": "3fb8216a",
   "metadata": {
    "deletable": false,
    "editable": false,
    "id": "99ecbd1f"
   },
   "source": [
    "#### 3.4 Как разные цели кредита влияют на его возврат в срок?"
   ]
  },
  {
   "cell_type": "code",
   "execution_count": 30,
   "id": "6fc8ffe3",
   "metadata": {
    "deletable": false,
    "id": "2b687290"
   },
   "outputs": [
    {
     "data": {
      "image/png": "[encoded data removed]",
      "text/plain": [
       "<Figure size 432x288 with 1 Axes>"
      ]
     },
     "metadata": {
      "needs_background": "light"
     },
     "output_type": "display_data"
    },
    {
     "data": {
      "image/png": "[encoded data removed]",
      "text/plain": [
       "<Figure size 432x288 with 1 Axes>"
      ]
     },
     "metadata": {
      "needs_background": "light"
     },
     "output_type": "display_data"
    }
   ],
   "source": [
    "sns.histplot(data, y='purpose_category', hue='debt', multiple='fill', linewidth=1)\n",
    "plt.title('Зависимость между целью кредита и возвратом кредита в срок', pad=20)\n",
    "plt.legend(['Просрочили кредит', 'Выплатили кредит в срок'])\n",
    "plt.ylabel('Цель кредита')\n",
    "plt.xlabel('Процентное соотношение')\n",
    "plt.show()\n",
    "\n",
    "sns.histplot(data, y='purpose_category', linewidth=1)\n",
    "plt.title('Распределение клиентов в зависимости от цели кредита', pad=20)\n",
    "plt.ylabel('Цель кредита')\n",
    "plt.xlabel('Количество клиентов')\n",
    "plt.show()"
   ]
  },
  {
   "cell_type": "markdown",
   "id": "9d4fbeed",
   "metadata": {
    "deletable": false,
    "id": "b4bb2ce6"
   },
   "source": [
    "**Вывод:** наиболее частые кредиты - это кредиты для операций с недвижимостью, однако по ним соотношение просрочивших кредит клиентов к выплатившим кредит вовремя, меньше чем в остальных категориях кредита. Клиенты, которые берут кредит для операций с автомобилем и получения образования реже остальных выплачивают кредит вовремя."
   ]
  },
  {
   "cell_type": "markdown",
   "id": "2814bda2",
   "metadata": {
    "deletable": false,
    "editable": false,
    "id": "09c3ac4c"
   },
   "source": [
    "#### 3.5 Приведите возможные причины появления пропусков в исходных данных."
   ]
  },
  {
   "cell_type": "markdown",
   "id": "19cad79d",
   "metadata": {
    "deletable": false,
    "id": "9da2ceda"
   },
   "source": [
    "*Ответ:* пропуски в колонке `total_income`, вероятно, связаны с тем, что ежемесячный доход не указывали сами клиенты, у которых в данный момент его. К таким категориям клиентов могут относиться студенты и пенсионеры. Пропуски в колонке `days_employed`, скорее всего, имеют ту же причину, что и в колонке `total_income` - а именно то, что клиенты еще не работали и трудовой стаж равен 0, который они решили не указывать."
   ]
  },
  {
   "cell_type": "markdown",
   "id": "050cf928",
   "metadata": {
    "deletable": false,
    "editable": false,
    "id": "7b0487d6"
   },
   "source": [
    "#### 3.6 Объясните, почему заполнить пропуски медианным значением — лучшее решение для количественных переменных."
   ]
  },
  {
   "cell_type": "markdown",
   "id": "fb103f16",
   "metadata": {
    "deletable": false,
    "id": "7ecf2b8e"
   },
   "source": [
    "*Ответ:* Заполнение пропусков медианным значением является лучшим вариантом, если мы не можем восстановить реальные данные, так как в медиану, вероятнее всего, не попадут выбросы, которые могут присутствовать в данных. А выполняя группировку по какому-либо другому фактору или факторам (например, по типу занятости клиента) и рассчитывая медиану уже внутри групп - мы можем достаточно достоверно заполнить пропуски разными медианными значениями."
   ]
  },
  {
   "cell_type": "markdown",
   "id": "6a962a5e",
   "metadata": {
    "deletable": false,
    "editable": false,
    "id": "6db5255a"
   },
   "source": [
    "### Шаг 4: общий вывод."
   ]
  },
  {
   "cell_type": "markdown",
   "id": "d2e9fc12",
   "metadata": {
    "deletable": false,
    "id": "bad65432"
   },
   "source": [
    "В ходе выполнения проекта был изучен датасет статистики о платёжеспособности клиентов банка. Посмотрев на данные можно оценить, что они представлены в достаточно полном виде, однако встречались пропуски, явные дубликаты и аномальные значения, которые в дальнейшем были обработаны:\n",
    "- Пропуски были заполнены медианными значениями, которые были рассчитаны внутри групп по типу занятости клиентов\n",
    "- Дубликаты были удалены, как и строки, содержащие аномальные значения, в факторах, которые были важны для дальнейшего анализа\n",
    "\n",
    "Затем была произведена категоризация непрерывного признака `total_income`, в результате чего он был использован для выяснения зависимости между уровнем дохода и возвратом кредита в срок. Также были изучены следующие зависимости факторов между:\n",
    "- количеством детей и возвратом кредита в срок\n",
    "- семейным положением и возвратом кредита в срок\n",
    "\n",
    "Для оценки влияния зависимости между целью кредита и возвратом его без просрочки было необходимо провести категоризацию целей, которые указывали клиенты. В результате чего были получены конкретные цели кредита: операции с недвижимостью, проведение свадьбы, получение образования, покупка автомобиля.\n",
    "\n",
    "В процессе проведения анализа по выявлению платежеспособных клиентов были сделаны **следующие выводы**:\n",
    "1. Клиенты без детей выплачивают кредит в срок чаще, чем клиенты у которых есть хотя бы один ребенок;\n",
    "2. Статус семейного положения также влияет на вероятность вернуть кредит вовремя: овдовевшие или же клиенты в разводе платежеспособнее, чем холостые и незамужние;\n",
    "3. По уровню ежемесячного дохода тоже можно оценить вероятность выплаты кредита без задержки. Среди всех клиентов банка было выделено 5 групп по уровню дохода, однако с уверенностью можно назвать репрезентативными только 2 группы, на которые приходится 98% всех наблюдений: группа с доходом от 50 000 до 200 000 и от 200 000 до 1 000 000. И если сравнивать две эти группы, то клиенты, чей ежемесячный доход составляет от 200 тысяч до 1 миллиона выплачивают кредит стабильнее;\n",
    "4. Кредит для операций с недвижимостью является не только самым распространенным, но и вовремя его выплачивают лучше всех остальных.\n",
    "\n",
    "Таким образом, идеальный заемщик - это овдовевший человек с ежемесячным доходом от 200 тысяч до 1 миллиона, у которого нет детей, но которому нужны средства для операций с недвижимостью 😅"
   ]
  }
 ],
 "metadata": {
  "ExecuteTimeLog": [
   {
    "duration": 462,
    "start_time": "2023-03-04T23:32:47.894Z"
   },
   {
    "duration": 24,
    "start_time": "2023-03-04T23:32:49.019Z"
   },
   {
    "duration": 17,
    "start_time": "2023-03-04T23:32:52.359Z"
   },
   {
    "duration": 10,
    "start_time": "2023-03-04T23:32:54.010Z"
   },
   {
    "duration": 35,
    "start_time": "2023-03-04T23:33:05.111Z"
   },
   {
    "duration": 4,
    "start_time": "2023-03-04T23:33:45.199Z"
   },
   {
    "duration": 10,
    "start_time": "2023-03-04T23:33:59.067Z"
   },
   {
    "duration": 5,
    "start_time": "2023-03-04T23:34:01.280Z"
   },
   {
    "duration": 7,
    "start_time": "2023-03-04T23:34:08.844Z"
   },
   {
    "duration": 4,
    "start_time": "2023-03-04T23:34:09.725Z"
   },
   {
    "duration": 33,
    "start_time": "2023-03-04T23:34:14.021Z"
   },
   {
    "duration": 11,
    "start_time": "2023-03-04T23:34:14.560Z"
   },
   {
    "duration": 4,
    "start_time": "2023-03-04T23:34:16.842Z"
   },
   {
    "duration": 12,
    "start_time": "2023-03-04T23:34:17.761Z"
   },
   {
    "duration": 19,
    "start_time": "2023-03-04T23:34:18.358Z"
   },
   {
    "duration": 18,
    "start_time": "2023-03-04T23:34:18.704Z"
   },
   {
    "duration": 3,
    "start_time": "2023-03-04T23:34:23.850Z"
   },
   {
    "duration": 19,
    "start_time": "2023-03-04T23:34:32.101Z"
   },
   {
    "duration": 7,
    "start_time": "2023-03-04T23:34:37.521Z"
   },
   {
    "duration": 3,
    "start_time": "2023-03-04T23:34:48.836Z"
   },
   {
    "duration": 10,
    "start_time": "2023-03-04T23:34:52.861Z"
   },
   {
    "duration": 586,
    "start_time": "2023-03-05T10:17:28.665Z"
   },
   {
    "duration": 22,
    "start_time": "2023-03-05T10:17:29.253Z"
   },
   {
    "duration": 16,
    "start_time": "2023-03-05T10:17:29.716Z"
   },
   {
    "duration": 11,
    "start_time": "2023-03-05T10:17:30.108Z"
   },
   {
    "duration": 39,
    "start_time": "2023-03-05T10:17:30.308Z"
   },
   {
    "duration": 3,
    "start_time": "2023-03-05T10:17:30.611Z"
   },
   {
    "duration": 8,
    "start_time": "2023-03-05T10:17:30.811Z"
   },
   {
    "duration": 4,
    "start_time": "2023-03-05T10:17:31.113Z"
   },
   {
    "duration": 9,
    "start_time": "2023-03-05T10:17:31.316Z"
   },
   {
    "duration": 6,
    "start_time": "2023-03-05T10:17:31.519Z"
   },
   {
    "duration": 36,
    "start_time": "2023-03-05T10:17:31.827Z"
   },
   {
    "duration": 11,
    "start_time": "2023-03-05T10:17:32.022Z"
   },
   {
    "duration": 4,
    "start_time": "2023-03-05T10:17:32.327Z"
   },
   {
    "duration": 12,
    "start_time": "2023-03-05T10:17:32.640Z"
   },
   {
    "duration": 22,
    "start_time": "2023-03-05T10:17:32.833Z"
   },
   {
    "duration": 18,
    "start_time": "2023-03-05T10:17:32.932Z"
   },
   {
    "duration": 4,
    "start_time": "2023-03-05T10:17:33.270Z"
   },
   {
    "duration": 12,
    "start_time": "2023-03-05T10:17:33.334Z"
   },
   {
    "duration": 7,
    "start_time": "2023-03-05T10:17:33.535Z"
   },
   {
    "duration": 4,
    "start_time": "2023-03-05T10:17:33.771Z"
   },
   {
    "duration": 9,
    "start_time": "2023-03-05T10:17:33.839Z"
   },
   {
    "duration": 3,
    "start_time": "2023-03-05T10:17:34.160Z"
   },
   {
    "duration": 2,
    "start_time": "2023-03-05T10:17:34.475Z"
   },
   {
    "duration": 24,
    "start_time": "2023-03-05T10:17:48.183Z"
   },
   {
    "duration": 3,
    "start_time": "2023-03-05T10:18:01.374Z"
   },
   {
    "duration": 6,
    "start_time": "2023-03-05T10:18:03.022Z"
   },
   {
    "duration": 1030,
    "start_time": "2023-03-05T10:18:32.230Z"
   },
   {
    "duration": 19,
    "start_time": "2023-03-05T10:18:47.104Z"
   },
   {
    "duration": 822,
    "start_time": "2023-03-05T10:20:28.575Z"
   },
   {
    "duration": 683,
    "start_time": "2023-03-05T10:20:36.075Z"
   },
   {
    "duration": 764,
    "start_time": "2023-03-05T10:20:45.411Z"
   },
   {
    "duration": 5,
    "start_time": "2023-03-05T10:20:52.375Z"
   },
   {
    "duration": 9,
    "start_time": "2023-03-05T10:21:04.026Z"
   },
   {
    "duration": 10,
    "start_time": "2023-03-05T10:21:09.239Z"
   },
   {
    "duration": 5,
    "start_time": "2023-03-05T10:21:37.929Z"
   },
   {
    "duration": 7,
    "start_time": "2023-03-05T10:21:44.583Z"
   },
   {
    "duration": 75,
    "start_time": "2023-03-05T10:21:56.187Z"
   },
   {
    "duration": 16,
    "start_time": "2023-03-05T10:21:56.871Z"
   },
   {
    "duration": 18,
    "start_time": "2023-03-05T10:21:57.200Z"
   },
   {
    "duration": 12,
    "start_time": "2023-03-05T10:21:57.825Z"
   },
   {
    "duration": 38,
    "start_time": "2023-03-05T10:21:58.167Z"
   },
   {
    "duration": 4,
    "start_time": "2023-03-05T10:21:58.639Z"
   },
   {
    "duration": 12,
    "start_time": "2023-03-05T10:21:58.922Z"
   },
   {
    "duration": 5,
    "start_time": "2023-03-05T10:21:59.416Z"
   },
   {
    "duration": 6,
    "start_time": "2023-03-05T10:21:59.771Z"
   },
   {
    "duration": 5,
    "start_time": "2023-03-05T10:22:00.816Z"
   },
   {
    "duration": 35,
    "start_time": "2023-03-05T10:22:02.504Z"
   },
   {
    "duration": 11,
    "start_time": "2023-03-05T10:22:02.926Z"
   },
   {
    "duration": 4,
    "start_time": "2023-03-05T10:22:03.638Z"
   },
   {
    "duration": 15,
    "start_time": "2023-03-05T10:22:04.195Z"
   },
   {
    "duration": 22,
    "start_time": "2023-03-05T10:22:04.563Z"
   },
   {
    "duration": 21,
    "start_time": "2023-03-05T10:22:04.763Z"
   },
   {
    "duration": 4,
    "start_time": "2023-03-05T10:22:05.880Z"
   },
   {
    "duration": 11,
    "start_time": "2023-03-05T10:22:07.367Z"
   },
   {
    "duration": 7,
    "start_time": "2023-03-05T10:22:08.258Z"
   },
   {
    "duration": 4,
    "start_time": "2023-03-05T10:22:09.199Z"
   },
   {
    "duration": 11,
    "start_time": "2023-03-05T10:22:09.579Z"
   },
   {
    "duration": 6,
    "start_time": "2023-03-05T10:22:11.424Z"
   },
   {
    "duration": 9,
    "start_time": "2023-03-05T10:22:32.695Z"
   },
   {
    "duration": 118,
    "start_time": "2023-03-05T10:22:52.613Z"
   },
   {
    "duration": 13,
    "start_time": "2023-03-05T10:23:37.934Z"
   },
   {
    "duration": 16,
    "start_time": "2023-03-05T10:23:48.123Z"
   },
   {
    "duration": 9,
    "start_time": "2023-03-05T10:23:53.611Z"
   },
   {
    "duration": 425,
    "start_time": "2023-03-05T10:23:56.479Z"
   },
   {
    "duration": 364,
    "start_time": "2023-03-05T10:24:09.913Z"
   },
   {
    "duration": 341,
    "start_time": "2023-03-05T10:24:14.567Z"
   },
   {
    "duration": 329,
    "start_time": "2023-03-05T10:24:17.368Z"
   },
   {
    "duration": 256,
    "start_time": "2023-03-05T10:24:42.318Z"
   },
   {
    "duration": 3822,
    "start_time": "2023-03-05T10:26:02.414Z"
   },
   {
    "duration": 11570,
    "start_time": "2023-03-05T10:26:11.406Z"
   },
   {
    "duration": 5,
    "start_time": "2023-03-05T10:27:46.800Z"
   },
   {
    "duration": 9,
    "start_time": "2023-03-05T10:27:57.491Z"
   },
   {
    "duration": 103,
    "start_time": "2023-03-05T10:28:07.403Z"
   },
   {
    "duration": 164,
    "start_time": "2023-03-05T10:28:12.264Z"
   },
   {
    "duration": 393,
    "start_time": "2023-03-05T10:29:01.333Z"
   },
   {
    "duration": 8,
    "start_time": "2023-03-05T10:36:42.235Z"
   },
   {
    "duration": 22,
    "start_time": "2023-03-05T10:36:45.875Z"
   },
   {
    "duration": 62,
    "start_time": "2023-03-05T10:36:59.193Z"
   },
   {
    "duration": 543,
    "start_time": "2023-03-05T10:37:02.014Z"
   },
   {
    "duration": 517,
    "start_time": "2023-03-05T10:37:18.310Z"
   },
   {
    "duration": 30,
    "start_time": "2023-03-05T10:39:12.774Z"
   },
   {
    "duration": 17,
    "start_time": "2023-03-05T10:39:38.774Z"
   },
   {
    "duration": 9,
    "start_time": "2023-03-05T10:39:48.297Z"
   },
   {
    "duration": 10,
    "start_time": "2023-03-05T10:39:52.604Z"
   },
   {
    "duration": 17,
    "start_time": "2023-03-05T10:40:08.167Z"
   },
   {
    "duration": 17,
    "start_time": "2023-03-05T10:40:17.372Z"
   },
   {
    "duration": 18,
    "start_time": "2023-03-05T10:40:28.976Z"
   },
   {
    "duration": 14,
    "start_time": "2023-03-05T10:40:32.836Z"
   },
   {
    "duration": 7,
    "start_time": "2023-03-05T10:41:04.832Z"
   },
   {
    "duration": 119,
    "start_time": "2023-03-05T10:41:43.339Z"
   },
   {
    "duration": 8,
    "start_time": "2023-03-05T10:41:55.781Z"
   },
   {
    "duration": 575,
    "start_time": "2023-03-05T10:43:40.875Z"
   },
   {
    "duration": 8,
    "start_time": "2023-03-05T10:43:49.384Z"
   },
   {
    "duration": 12,
    "start_time": "2023-03-05T10:44:33.893Z"
   },
   {
    "duration": 178,
    "start_time": "2023-03-05T10:54:01.978Z"
   },
   {
    "duration": 58,
    "start_time": "2023-03-05T10:54:17.277Z"
   },
   {
    "duration": 172,
    "start_time": "2023-03-05T10:54:19.733Z"
   },
   {
    "duration": 12,
    "start_time": "2023-03-05T10:54:34.671Z"
   },
   {
    "duration": 411,
    "start_time": "2023-03-05T10:54:36.921Z"
   },
   {
    "duration": 182,
    "start_time": "2023-03-05T10:54:40.197Z"
   },
   {
    "duration": 215,
    "start_time": "2023-03-05T10:55:19.024Z"
   },
   {
    "duration": 184,
    "start_time": "2023-03-05T10:55:22.165Z"
   },
   {
    "duration": 189,
    "start_time": "2023-03-05T10:55:27.299Z"
   },
   {
    "duration": 172,
    "start_time": "2023-03-05T10:56:15.731Z"
   },
   {
    "duration": 186,
    "start_time": "2023-03-05T10:56:39.712Z"
   },
   {
    "duration": 10,
    "start_time": "2023-03-05T10:57:05.779Z"
   },
   {
    "duration": 4,
    "start_time": "2023-03-05T10:57:11.331Z"
   },
   {
    "duration": 22,
    "start_time": "2023-03-05T10:57:11.496Z"
   },
   {
    "duration": 189,
    "start_time": "2023-03-05T10:57:23.405Z"
   },
   {
    "duration": 147,
    "start_time": "2023-03-05T11:00:05.152Z"
   },
   {
    "duration": 188,
    "start_time": "2023-03-05T11:00:12.385Z"
   },
   {
    "duration": 125,
    "start_time": "2023-03-05T11:00:47.073Z"
   },
   {
    "duration": 426,
    "start_time": "2023-03-05T11:01:00.803Z"
   },
   {
    "duration": 412,
    "start_time": "2023-03-05T11:01:16.637Z"
   },
   {
    "duration": 131,
    "start_time": "2023-03-05T11:01:24.183Z"
   },
   {
    "duration": 509,
    "start_time": "2023-03-05T11:01:33.979Z"
   },
   {
    "duration": 134,
    "start_time": "2023-03-05T11:01:39.892Z"
   },
   {
    "duration": 412,
    "start_time": "2023-03-05T11:01:45.295Z"
   },
   {
    "duration": 14,
    "start_time": "2023-03-05T11:03:36.482Z"
   },
   {
    "duration": 440,
    "start_time": "2023-03-05T11:03:43.590Z"
   },
   {
    "duration": 795,
    "start_time": "2023-03-05T11:03:59.638Z"
   },
   {
    "duration": 423,
    "start_time": "2023-03-05T11:04:12.305Z"
   },
   {
    "duration": 404,
    "start_time": "2023-03-05T11:04:16.400Z"
   },
   {
    "duration": 441,
    "start_time": "2023-03-05T11:04:21.271Z"
   },
   {
    "duration": 434,
    "start_time": "2023-03-05T11:04:27.268Z"
   },
   {
    "duration": 420,
    "start_time": "2023-03-05T11:04:33.568Z"
   },
   {
    "duration": 412,
    "start_time": "2023-03-05T11:04:37.567Z"
   },
   {
    "duration": 437,
    "start_time": "2023-03-05T11:04:41.815Z"
   },
   {
    "duration": 724,
    "start_time": "2023-03-05T11:04:47.603Z"
   },
   {
    "duration": 447,
    "start_time": "2023-03-05T11:04:51.429Z"
   },
   {
    "duration": 183,
    "start_time": "2023-03-05T11:05:55.723Z"
   },
   {
    "duration": 127,
    "start_time": "2023-03-05T11:06:01.584Z"
   },
   {
    "duration": 401,
    "start_time": "2023-03-05T11:06:07.383Z"
   },
   {
    "duration": 186,
    "start_time": "2023-03-05T11:06:14.230Z"
   },
   {
    "duration": 404,
    "start_time": "2023-03-05T11:06:18.471Z"
   },
   {
    "duration": 415,
    "start_time": "2023-03-05T11:06:31.213Z"
   },
   {
    "duration": 435,
    "start_time": "2023-03-05T11:06:39.002Z"
   },
   {
    "duration": 403,
    "start_time": "2023-03-05T11:06:47.370Z"
   },
   {
    "duration": 394,
    "start_time": "2023-03-05T11:06:51.702Z"
   },
   {
    "duration": 202,
    "start_time": "2023-03-05T11:07:26.408Z"
   },
   {
    "duration": 241,
    "start_time": "2023-03-05T11:07:32.089Z"
   },
   {
    "duration": 219,
    "start_time": "2023-03-05T11:07:37.071Z"
   },
   {
    "duration": 207,
    "start_time": "2023-03-05T11:07:45.217Z"
   },
   {
    "duration": 218,
    "start_time": "2023-03-05T11:07:50.079Z"
   },
   {
    "duration": 53,
    "start_time": "2023-03-05T11:08:01.355Z"
   },
   {
    "duration": 209,
    "start_time": "2023-03-05T11:08:03.472Z"
   },
   {
    "duration": 208,
    "start_time": "2023-03-05T11:08:07.105Z"
   },
   {
    "duration": 201,
    "start_time": "2023-03-05T11:08:14.081Z"
   },
   {
    "duration": 533,
    "start_time": "2023-03-05T11:08:17.791Z"
   },
   {
    "duration": 223,
    "start_time": "2023-03-05T11:10:07.123Z"
   },
   {
    "duration": 15,
    "start_time": "2023-03-05T11:13:11.290Z"
   },
   {
    "duration": 763,
    "start_time": "2023-03-05T11:13:18.327Z"
   },
   {
    "duration": 14,
    "start_time": "2023-03-05T11:13:27.442Z"
   },
   {
    "duration": 20,
    "start_time": "2023-03-05T11:13:46.086Z"
   },
   {
    "duration": 6,
    "start_time": "2023-03-05T11:13:49.457Z"
   },
   {
    "duration": 9,
    "start_time": "2023-03-05T11:13:55.375Z"
   },
   {
    "duration": 24,
    "start_time": "2023-03-05T11:15:31.588Z"
   },
   {
    "duration": 21,
    "start_time": "2023-03-05T11:30:02.643Z"
   },
   {
    "duration": 28,
    "start_time": "2023-03-05T11:30:09.103Z"
   },
   {
    "duration": 52,
    "start_time": "2023-03-05T11:30:24.518Z"
   },
   {
    "duration": 16,
    "start_time": "2023-03-05T11:30:27.745Z"
   },
   {
    "duration": 52,
    "start_time": "2023-03-05T11:30:31.310Z"
   },
   {
    "duration": 28,
    "start_time": "2023-03-05T11:30:33.326Z"
   },
   {
    "duration": 14,
    "start_time": "2023-03-05T11:31:18.600Z"
   },
   {
    "duration": 14,
    "start_time": "2023-03-05T11:33:07.222Z"
   },
   {
    "duration": 18,
    "start_time": "2023-03-05T11:33:46.687Z"
   },
   {
    "duration": 12,
    "start_time": "2023-03-05T11:33:54.087Z"
   },
   {
    "duration": 26,
    "start_time": "2023-03-05T11:38:25.676Z"
   },
   {
    "duration": 30,
    "start_time": "2023-03-05T11:38:38.114Z"
   },
   {
    "duration": 23,
    "start_time": "2023-03-05T11:38:40.176Z"
   },
   {
    "duration": 22,
    "start_time": "2023-03-05T11:38:58.920Z"
   },
   {
    "duration": 25,
    "start_time": "2023-03-05T11:39:04.802Z"
   },
   {
    "duration": 636,
    "start_time": "2023-03-05T11:40:37.913Z"
   },
   {
    "duration": 23,
    "start_time": "2023-03-05T11:40:49.271Z"
   },
   {
    "duration": 630,
    "start_time": "2023-03-05T11:40:55.900Z"
   },
   {
    "duration": 16,
    "start_time": "2023-03-05T11:41:06.775Z"
   },
   {
    "duration": 17,
    "start_time": "2023-03-05T11:41:14.767Z"
   },
   {
    "duration": 16,
    "start_time": "2023-03-05T11:41:29.480Z"
   },
   {
    "duration": 25,
    "start_time": "2023-03-05T11:41:34.620Z"
   },
   {
    "duration": 23,
    "start_time": "2023-03-05T11:42:25.703Z"
   },
   {
    "duration": 21,
    "start_time": "2023-03-05T11:42:58.393Z"
   },
   {
    "duration": 28,
    "start_time": "2023-03-05T11:43:10.437Z"
   },
   {
    "duration": 41,
    "start_time": "2023-03-05T11:43:41.145Z"
   },
   {
    "duration": 23,
    "start_time": "2023-03-05T11:43:51.583Z"
   },
   {
    "duration": 48,
    "start_time": "2023-03-05T11:44:03.718Z"
   },
   {
    "duration": 30,
    "start_time": "2023-03-05T11:44:20.151Z"
   },
   {
    "duration": 25,
    "start_time": "2023-03-05T11:44:30.093Z"
   },
   {
    "duration": 25,
    "start_time": "2023-03-05T11:44:35.397Z"
   },
   {
    "duration": 35,
    "start_time": "2023-03-05T11:44:39.749Z"
   },
   {
    "duration": 36,
    "start_time": "2023-03-05T11:44:46.780Z"
   },
   {
    "duration": 97,
    "start_time": "2023-03-05T11:44:54.694Z"
   },
   {
    "duration": 82,
    "start_time": "2023-03-05T11:45:00.588Z"
   },
   {
    "duration": 7,
    "start_time": "2023-03-05T11:45:04.391Z"
   },
   {
    "duration": 24,
    "start_time": "2023-03-05T11:45:07.376Z"
   },
   {
    "duration": 61,
    "start_time": "2023-03-05T11:45:09.096Z"
   },
   {
    "duration": 24,
    "start_time": "2023-03-05T11:45:24.591Z"
   },
   {
    "duration": 42,
    "start_time": "2023-03-05T11:45:28.410Z"
   },
   {
    "duration": 30,
    "start_time": "2023-03-05T11:45:37.287Z"
   },
   {
    "duration": 1016,
    "start_time": "2023-03-05T11:45:44.898Z"
   },
   {
    "duration": 27,
    "start_time": "2023-03-05T11:45:54.976Z"
   },
   {
    "duration": 40,
    "start_time": "2023-03-05T11:46:05.353Z"
   },
   {
    "duration": 28,
    "start_time": "2023-03-05T11:46:40.332Z"
   },
   {
    "duration": 32,
    "start_time": "2023-03-05T11:46:52.542Z"
   },
   {
    "duration": 39,
    "start_time": "2023-03-05T11:47:12.328Z"
   },
   {
    "duration": 42,
    "start_time": "2023-03-05T11:47:27.492Z"
   },
   {
    "duration": 39,
    "start_time": "2023-03-05T11:47:31.194Z"
   },
   {
    "duration": 30,
    "start_time": "2023-03-05T11:47:34.501Z"
   },
   {
    "duration": 896,
    "start_time": "2023-03-05T11:47:56.322Z"
   },
   {
    "duration": 23,
    "start_time": "2023-03-05T11:48:06.787Z"
   },
   {
    "duration": 32,
    "start_time": "2023-03-05T11:48:31.086Z"
   },
   {
    "duration": 44,
    "start_time": "2023-03-05T11:48:53.596Z"
   },
   {
    "duration": 908,
    "start_time": "2023-03-05T11:49:14.212Z"
   },
   {
    "duration": 34,
    "start_time": "2023-03-05T11:49:27.203Z"
   },
   {
    "duration": 31,
    "start_time": "2023-03-05T11:49:38.023Z"
   },
   {
    "duration": 26,
    "start_time": "2023-03-05T11:49:40.783Z"
   },
   {
    "duration": 637,
    "start_time": "2023-03-05T11:49:57.623Z"
   },
   {
    "duration": 674,
    "start_time": "2023-03-05T11:50:03.284Z"
   },
   {
    "duration": 633,
    "start_time": "2023-03-05T11:50:05.448Z"
   },
   {
    "duration": 605,
    "start_time": "2023-03-05T11:50:12.488Z"
   },
   {
    "duration": 665,
    "start_time": "2023-03-05T11:50:18.921Z"
   },
   {
    "duration": 32,
    "start_time": "2023-03-05T11:50:29.187Z"
   },
   {
    "duration": 24,
    "start_time": "2023-03-05T11:50:36.944Z"
   },
   {
    "duration": 26,
    "start_time": "2023-03-05T11:50:42.875Z"
   },
   {
    "duration": 37,
    "start_time": "2023-03-05T11:51:17.034Z"
   },
   {
    "duration": 37,
    "start_time": "2023-03-05T11:51:58.912Z"
   },
   {
    "duration": 26,
    "start_time": "2023-03-05T11:52:13.072Z"
   },
   {
    "duration": 27,
    "start_time": "2023-03-05T11:52:16.480Z"
   },
   {
    "duration": 26,
    "start_time": "2023-03-05T11:52:27.945Z"
   },
   {
    "duration": 27,
    "start_time": "2023-03-05T11:52:32.768Z"
   },
   {
    "duration": 92,
    "start_time": "2023-03-05T11:59:02.772Z"
   },
   {
    "duration": 16,
    "start_time": "2023-03-05T11:59:03.581Z"
   },
   {
    "duration": 18,
    "start_time": "2023-03-05T11:59:03.920Z"
   },
   {
    "duration": 12,
    "start_time": "2023-03-05T11:59:04.583Z"
   },
   {
    "duration": 38,
    "start_time": "2023-03-05T11:59:04.976Z"
   },
   {
    "duration": 4,
    "start_time": "2023-03-05T11:59:05.483Z"
   },
   {
    "duration": 9,
    "start_time": "2023-03-05T11:59:05.846Z"
   },
   {
    "duration": 6,
    "start_time": "2023-03-05T11:59:06.331Z"
   },
   {
    "duration": 7,
    "start_time": "2023-03-05T11:59:06.721Z"
   },
   {
    "duration": 4,
    "start_time": "2023-03-05T11:59:07.076Z"
   },
   {
    "duration": 38,
    "start_time": "2023-03-05T11:59:07.576Z"
   },
   {
    "duration": 14,
    "start_time": "2023-03-05T11:59:07.936Z"
   },
   {
    "duration": 5,
    "start_time": "2023-03-05T11:59:08.475Z"
   },
   {
    "duration": 16,
    "start_time": "2023-03-05T11:59:09.037Z"
   },
   {
    "duration": 21,
    "start_time": "2023-03-05T11:59:09.382Z"
   },
   {
    "duration": 20,
    "start_time": "2023-03-05T11:59:09.579Z"
   },
   {
    "duration": 4,
    "start_time": "2023-03-05T11:59:10.131Z"
   },
   {
    "duration": 13,
    "start_time": "2023-03-05T11:59:10.293Z"
   },
   {
    "duration": 8,
    "start_time": "2023-03-05T11:59:10.641Z"
   },
   {
    "duration": 4,
    "start_time": "2023-03-05T11:59:11.033Z"
   },
   {
    "duration": 9,
    "start_time": "2023-03-05T11:59:11.233Z"
   },
   {
    "duration": 194,
    "start_time": "2023-03-05T11:59:11.824Z"
   },
   {
    "duration": 27,
    "start_time": "2023-03-05T11:59:12.032Z"
   },
   {
    "duration": 228,
    "start_time": "2023-03-05T11:59:14.182Z"
   },
   {
    "duration": 207,
    "start_time": "2023-03-05T12:00:35.633Z"
   },
   {
    "duration": 219,
    "start_time": "2023-03-05T12:01:08.833Z"
   },
   {
    "duration": 139,
    "start_time": "2023-03-05T12:02:52.450Z"
   },
   {
    "duration": 226,
    "start_time": "2023-03-05T12:02:56.052Z"
   },
   {
    "duration": 211,
    "start_time": "2023-03-05T12:04:18.528Z"
   },
   {
    "duration": 229,
    "start_time": "2023-03-05T12:04:21.328Z"
   },
   {
    "duration": 212,
    "start_time": "2023-03-05T12:04:23.994Z"
   },
   {
    "duration": 209,
    "start_time": "2023-03-05T12:04:27.699Z"
   },
   {
    "duration": 211,
    "start_time": "2023-03-05T12:04:46.145Z"
   },
   {
    "duration": 270,
    "start_time": "2023-03-05T12:04:48.840Z"
   },
   {
    "duration": 216,
    "start_time": "2023-03-05T12:04:55.087Z"
   },
   {
    "duration": 214,
    "start_time": "2023-03-05T12:04:59.640Z"
   },
   {
    "duration": 212,
    "start_time": "2023-03-05T12:05:05.466Z"
   },
   {
    "duration": 215,
    "start_time": "2023-03-05T12:05:12.698Z"
   },
   {
    "duration": 217,
    "start_time": "2023-03-05T12:05:17.225Z"
   },
   {
    "duration": 212,
    "start_time": "2023-03-05T12:06:12.240Z"
   },
   {
    "duration": 213,
    "start_time": "2023-03-05T12:06:15.644Z"
   },
   {
    "duration": 193,
    "start_time": "2023-03-05T12:06:28.084Z"
   },
   {
    "duration": 86,
    "start_time": "2023-03-05T12:07:27.967Z"
   },
   {
    "duration": 19,
    "start_time": "2023-03-05T12:07:28.874Z"
   },
   {
    "duration": 16,
    "start_time": "2023-03-05T12:07:29.393Z"
   },
   {
    "duration": 11,
    "start_time": "2023-03-05T12:07:30.032Z"
   },
   {
    "duration": 36,
    "start_time": "2023-03-05T12:07:30.327Z"
   },
   {
    "duration": 4,
    "start_time": "2023-03-05T12:07:30.773Z"
   },
   {
    "duration": 9,
    "start_time": "2023-03-05T12:07:31.090Z"
   },
   {
    "duration": 6,
    "start_time": "2023-03-05T12:07:31.576Z"
   },
   {
    "duration": 6,
    "start_time": "2023-03-05T12:07:31.890Z"
   },
   {
    "duration": 5,
    "start_time": "2023-03-05T12:07:32.228Z"
   },
   {
    "duration": 36,
    "start_time": "2023-03-05T12:07:32.866Z"
   },
   {
    "duration": 11,
    "start_time": "2023-03-05T12:07:33.186Z"
   },
   {
    "duration": 4,
    "start_time": "2023-03-05T12:07:33.698Z"
   },
   {
    "duration": 14,
    "start_time": "2023-03-05T12:07:34.212Z"
   },
   {
    "duration": 22,
    "start_time": "2023-03-05T12:07:34.572Z"
   },
   {
    "duration": 21,
    "start_time": "2023-03-05T12:07:34.766Z"
   },
   {
    "duration": 4,
    "start_time": "2023-03-05T12:07:35.576Z"
   },
   {
    "duration": 12,
    "start_time": "2023-03-05T12:07:35.738Z"
   },
   {
    "duration": 7,
    "start_time": "2023-03-05T12:07:36.076Z"
   },
   {
    "duration": 4,
    "start_time": "2023-03-05T12:07:36.397Z"
   },
   {
    "duration": 9,
    "start_time": "2023-03-05T12:07:36.541Z"
   },
   {
    "duration": 193,
    "start_time": "2023-03-05T12:07:36.982Z"
   },
   {
    "duration": 29,
    "start_time": "2023-03-05T12:07:37.177Z"
   },
   {
    "duration": 210,
    "start_time": "2023-03-05T12:07:39.162Z"
   },
   {
    "duration": 25,
    "start_time": "2023-03-05T12:07:40.092Z"
   },
   {
    "duration": 78,
    "start_time": "2023-03-05T12:09:39.924Z"
   },
   {
    "duration": 18,
    "start_time": "2023-03-05T12:09:40.271Z"
   },
   {
    "duration": 17,
    "start_time": "2023-03-05T12:09:40.730Z"
   },
   {
    "duration": 12,
    "start_time": "2023-03-05T12:09:41.371Z"
   },
   {
    "duration": 37,
    "start_time": "2023-03-05T12:09:41.756Z"
   },
   {
    "duration": 5,
    "start_time": "2023-03-05T12:09:42.223Z"
   },
   {
    "duration": 9,
    "start_time": "2023-03-05T12:09:42.546Z"
   },
   {
    "duration": 6,
    "start_time": "2023-03-05T12:09:43.020Z"
   },
   {
    "duration": 6,
    "start_time": "2023-03-05T12:09:43.286Z"
   },
   {
    "duration": 5,
    "start_time": "2023-03-05T12:09:43.493Z"
   },
   {
    "duration": 38,
    "start_time": "2023-03-05T12:09:43.914Z"
   },
   {
    "duration": 10,
    "start_time": "2023-03-05T12:09:44.272Z"
   },
   {
    "duration": 4,
    "start_time": "2023-03-05T12:09:44.820Z"
   },
   {
    "duration": 12,
    "start_time": "2023-03-05T12:09:45.333Z"
   },
   {
    "duration": 21,
    "start_time": "2023-03-05T12:09:45.670Z"
   },
   {
    "duration": 19,
    "start_time": "2023-03-05T12:09:45.833Z"
   },
   {
    "duration": 3,
    "start_time": "2023-03-05T12:09:46.509Z"
   },
   {
    "duration": 12,
    "start_time": "2023-03-05T12:09:46.669Z"
   },
   {
    "duration": 6,
    "start_time": "2023-03-05T12:09:47.039Z"
   },
   {
    "duration": 3,
    "start_time": "2023-03-05T12:09:47.398Z"
   },
   {
    "duration": 10,
    "start_time": "2023-03-05T12:09:47.577Z"
   },
   {
    "duration": 208,
    "start_time": "2023-03-05T12:09:48.424Z"
   },
   {
    "duration": 205,
    "start_time": "2023-03-05T12:09:55.221Z"
   },
   {
    "duration": 201,
    "start_time": "2023-03-05T12:10:10.836Z"
   },
   {
    "duration": 30,
    "start_time": "2023-03-05T12:10:30.769Z"
   },
   {
    "duration": 1355,
    "start_time": "2023-03-05T12:11:38.326Z"
   },
   {
    "duration": 22,
    "start_time": "2023-03-05T12:11:39.683Z"
   },
   {
    "duration": 25,
    "start_time": "2023-03-05T12:11:39.707Z"
   },
   {
    "duration": 12,
    "start_time": "2023-03-05T12:11:39.734Z"
   },
   {
    "duration": 37,
    "start_time": "2023-03-05T12:11:39.748Z"
   },
   {
    "duration": 36,
    "start_time": "2023-03-05T12:11:39.787Z"
   },
   {
    "duration": 10,
    "start_time": "2023-03-05T12:11:39.826Z"
   },
   {
    "duration": 5,
    "start_time": "2023-03-05T12:11:39.839Z"
   },
   {
    "duration": 8,
    "start_time": "2023-03-05T12:11:39.847Z"
   },
   {
    "duration": 6,
    "start_time": "2023-03-05T12:11:39.859Z"
   },
   {
    "duration": 103,
    "start_time": "2023-03-05T12:11:39.867Z"
   },
   {
    "duration": 13,
    "start_time": "2023-03-05T12:11:39.972Z"
   },
   {
    "duration": 4,
    "start_time": "2023-03-05T12:11:39.987Z"
   },
   {
    "duration": 36,
    "start_time": "2023-03-05T12:11:39.992Z"
   },
   {
    "duration": 31,
    "start_time": "2023-03-05T12:11:40.029Z"
   },
   {
    "duration": 29,
    "start_time": "2023-03-05T12:11:40.063Z"
   },
   {
    "duration": 5,
    "start_time": "2023-03-05T12:11:40.095Z"
   },
   {
    "duration": 32,
    "start_time": "2023-03-05T12:11:40.102Z"
   },
   {
    "duration": 9,
    "start_time": "2023-03-05T12:11:40.136Z"
   },
   {
    "duration": 5,
    "start_time": "2023-03-05T12:11:40.147Z"
   },
   {
    "duration": 14,
    "start_time": "2023-03-05T12:11:40.154Z"
   },
   {
    "duration": 252,
    "start_time": "2023-03-05T12:11:40.170Z"
   },
   {
    "duration": 30,
    "start_time": "2023-03-05T12:11:40.424Z"
   },
   {
    "duration": 241,
    "start_time": "2023-03-05T12:11:40.456Z"
   },
   {
    "duration": 41,
    "start_time": "2023-03-05T12:11:40.698Z"
   },
   {
    "duration": 3,
    "start_time": "2023-03-05T12:11:40.741Z"
   },
   {
    "duration": 11,
    "start_time": "2023-03-05T12:11:40.746Z"
   },
   {
    "duration": 1449,
    "start_time": "2023-03-05T12:12:37.437Z"
   },
   {
    "duration": 1538,
    "start_time": "2023-03-05T12:13:15.834Z"
   },
   {
    "duration": 233,
    "start_time": "2023-03-05T12:13:22.663Z"
   },
   {
    "duration": 306,
    "start_time": "2023-03-05T12:13:28.892Z"
   },
   {
    "duration": 814,
    "start_time": "2023-03-05T12:13:34.410Z"
   },
   {
    "duration": 721,
    "start_time": "2023-03-05T12:13:40.620Z"
   },
   {
    "duration": 500,
    "start_time": "2023-03-05T12:14:03.452Z"
   },
   {
    "duration": 223,
    "start_time": "2023-03-05T12:14:13.183Z"
   },
   {
    "duration": 239,
    "start_time": "2023-03-05T12:14:24.208Z"
   },
   {
    "duration": 417,
    "start_time": "2023-03-05T12:15:03.038Z"
   },
   {
    "duration": 849,
    "start_time": "2023-03-05T12:15:09.085Z"
   },
   {
    "duration": 614,
    "start_time": "2023-03-05T12:15:19.578Z"
   },
   {
    "duration": 577,
    "start_time": "2023-03-05T12:15:38.784Z"
   },
   {
    "duration": 491,
    "start_time": "2023-03-05T12:15:42.881Z"
   },
   {
    "duration": 481,
    "start_time": "2023-03-05T12:15:48.096Z"
   },
   {
    "duration": 23,
    "start_time": "2023-03-05T12:16:45.093Z"
   },
   {
    "duration": 1816,
    "start_time": "2023-03-05T16:08:38.137Z"
   },
   {
    "duration": 37,
    "start_time": "2023-03-05T16:08:39.956Z"
   },
   {
    "duration": 20,
    "start_time": "2023-03-05T16:08:39.995Z"
   },
   {
    "duration": 21,
    "start_time": "2023-03-05T16:08:40.037Z"
   },
   {
    "duration": 37,
    "start_time": "2023-03-05T16:08:40.772Z"
   },
   {
    "duration": 4,
    "start_time": "2023-03-05T16:08:41.065Z"
   },
   {
    "duration": 9,
    "start_time": "2023-03-05T16:08:41.262Z"
   },
   {
    "duration": 5,
    "start_time": "2023-03-05T16:08:41.564Z"
   },
   {
    "duration": 8,
    "start_time": "2023-03-05T16:08:41.767Z"
   },
   {
    "duration": 5,
    "start_time": "2023-03-05T16:08:41.966Z"
   },
   {
    "duration": 43,
    "start_time": "2023-03-05T16:08:42.275Z"
   },
   {
    "duration": 11,
    "start_time": "2023-03-05T16:08:42.472Z"
   },
   {
    "duration": 4,
    "start_time": "2023-03-05T16:08:42.779Z"
   },
   {
    "duration": 13,
    "start_time": "2023-03-05T16:08:43.085Z"
   },
   {
    "duration": 25,
    "start_time": "2023-03-05T16:08:43.285Z"
   },
   {
    "duration": 18,
    "start_time": "2023-03-05T16:08:43.379Z"
   },
   {
    "duration": 3,
    "start_time": "2023-03-05T16:08:43.690Z"
   },
   {
    "duration": 12,
    "start_time": "2023-03-05T16:08:43.783Z"
   },
   {
    "duration": 6,
    "start_time": "2023-03-05T16:08:43.985Z"
   },
   {
    "duration": 3,
    "start_time": "2023-03-05T16:08:44.210Z"
   },
   {
    "duration": 10,
    "start_time": "2023-03-05T16:08:44.300Z"
   },
   {
    "duration": 296,
    "start_time": "2023-03-05T16:08:44.590Z"
   },
   {
    "duration": 50,
    "start_time": "2023-03-05T16:08:44.889Z"
   },
   {
    "duration": 264,
    "start_time": "2023-03-05T16:08:45.006Z"
   },
   {
    "duration": 42,
    "start_time": "2023-03-05T16:08:45.272Z"
   },
   {
    "duration": 31,
    "start_time": "2023-03-05T16:08:45.364Z"
   },
   {
    "duration": 2,
    "start_time": "2023-03-05T16:08:47.893Z"
   },
   {
    "duration": 327,
    "start_time": "2023-03-05T16:14:27.448Z"
   },
   {
    "duration": 215,
    "start_time": "2023-03-05T16:14:31.371Z"
   },
   {
    "duration": 374,
    "start_time": "2023-03-05T16:14:48.772Z"
   },
   {
    "duration": 372,
    "start_time": "2023-03-05T16:15:13.012Z"
   },
   {
    "duration": 520,
    "start_time": "2023-03-05T16:16:05.076Z"
   },
   {
    "duration": 361,
    "start_time": "2023-03-05T16:16:19.474Z"
   },
   {
    "duration": 368,
    "start_time": "2023-03-05T16:16:34.706Z"
   },
   {
    "duration": 361,
    "start_time": "2023-03-05T16:16:46.092Z"
   },
   {
    "duration": 345,
    "start_time": "2023-03-05T16:17:32.898Z"
   },
   {
    "duration": 331,
    "start_time": "2023-03-05T16:18:42.911Z"
   },
   {
    "duration": 429,
    "start_time": "2023-03-05T16:19:07.956Z"
   },
   {
    "duration": 389,
    "start_time": "2023-03-05T16:20:01.401Z"
   },
   {
    "duration": 349,
    "start_time": "2023-03-05T16:20:23.626Z"
   },
   {
    "duration": 368,
    "start_time": "2023-03-05T16:20:36.027Z"
   },
   {
    "duration": 213,
    "start_time": "2023-03-05T16:21:11.653Z"
   },
   {
    "duration": 215,
    "start_time": "2023-03-05T16:21:32.985Z"
   },
   {
    "duration": 511,
    "start_time": "2023-03-05T16:22:20.254Z"
   },
   {
    "duration": 321,
    "start_time": "2023-03-05T16:22:23.563Z"
   },
   {
    "duration": 228,
    "start_time": "2023-03-05T16:22:27.463Z"
   },
   {
    "duration": 238,
    "start_time": "2023-03-05T16:22:31.209Z"
   },
   {
    "duration": 218,
    "start_time": "2023-03-05T16:22:35.264Z"
   },
   {
    "duration": 363,
    "start_time": "2023-03-05T16:22:43.168Z"
   },
   {
    "duration": 384,
    "start_time": "2023-03-05T16:23:32.935Z"
   },
   {
    "duration": 367,
    "start_time": "2023-03-05T16:23:36.325Z"
   },
   {
    "duration": 218,
    "start_time": "2023-03-05T16:24:01.647Z"
   },
   {
    "duration": 430,
    "start_time": "2023-03-05T16:24:52.513Z"
   },
   {
    "duration": 414,
    "start_time": "2023-03-05T16:25:02.935Z"
   },
   {
    "duration": 343,
    "start_time": "2023-03-05T16:25:18.918Z"
   },
   {
    "duration": 344,
    "start_time": "2023-03-05T16:25:38.331Z"
   },
   {
    "duration": 373,
    "start_time": "2023-03-05T16:25:53.582Z"
   },
   {
    "duration": 506,
    "start_time": "2023-03-05T16:26:12.148Z"
   },
   {
    "duration": 407,
    "start_time": "2023-03-05T16:26:21.988Z"
   },
   {
    "duration": 365,
    "start_time": "2023-03-05T16:26:26.528Z"
   },
   {
    "duration": 367,
    "start_time": "2023-03-05T16:26:31.582Z"
   },
   {
    "duration": 375,
    "start_time": "2023-03-05T16:26:39.268Z"
   },
   {
    "duration": 465,
    "start_time": "2023-03-05T16:26:44.767Z"
   },
   {
    "duration": 385,
    "start_time": "2023-03-05T16:26:48.796Z"
   },
   {
    "duration": 329,
    "start_time": "2023-03-05T16:26:52.855Z"
   },
   {
    "duration": 357,
    "start_time": "2023-03-05T16:26:59.687Z"
   },
   {
    "duration": 360,
    "start_time": "2023-03-05T16:27:03.308Z"
   },
   {
    "duration": 372,
    "start_time": "2023-03-05T16:27:08.062Z"
   },
   {
    "duration": 493,
    "start_time": "2023-03-05T16:27:11.871Z"
   },
   {
    "duration": 395,
    "start_time": "2023-03-05T16:27:16.270Z"
   },
   {
    "duration": 384,
    "start_time": "2023-03-05T16:27:21.458Z"
   },
   {
    "duration": 338,
    "start_time": "2023-03-05T16:27:26.979Z"
   },
   {
    "duration": 368,
    "start_time": "2023-03-05T16:27:39.703Z"
   },
   {
    "duration": 525,
    "start_time": "2023-03-05T16:28:11.828Z"
   },
   {
    "duration": 364,
    "start_time": "2023-03-05T16:28:51.526Z"
   },
   {
    "duration": 401,
    "start_time": "2023-03-05T16:29:09.797Z"
   },
   {
    "duration": 560,
    "start_time": "2023-03-05T16:31:21.117Z"
   },
   {
    "duration": 682,
    "start_time": "2023-03-05T16:31:48.960Z"
   },
   {
    "duration": 559,
    "start_time": "2023-03-05T16:31:53.372Z"
   },
   {
    "duration": 554,
    "start_time": "2023-03-05T16:31:57.499Z"
   },
   {
    "duration": 661,
    "start_time": "2023-03-05T16:32:06.415Z"
   },
   {
    "duration": 371,
    "start_time": "2023-03-05T16:33:25.669Z"
   },
   {
    "duration": 231,
    "start_time": "2023-03-05T16:33:59.033Z"
   },
   {
    "duration": 232,
    "start_time": "2023-03-05T16:34:10.215Z"
   },
   {
    "duration": 5,
    "start_time": "2023-03-05T16:34:23.881Z"
   },
   {
    "duration": 4,
    "start_time": "2023-03-05T16:34:29.196Z"
   },
   {
    "duration": 5,
    "start_time": "2023-03-05T16:34:42.679Z"
   },
   {
    "duration": 361,
    "start_time": "2023-03-05T16:34:47.780Z"
   },
   {
    "duration": 376,
    "start_time": "2023-03-05T16:34:57.069Z"
   },
   {
    "duration": 414,
    "start_time": "2023-03-05T16:35:14.941Z"
   },
   {
    "duration": 474,
    "start_time": "2023-03-05T16:41:33.667Z"
   },
   {
    "duration": 356,
    "start_time": "2023-03-05T16:41:55.192Z"
   },
   {
    "duration": 355,
    "start_time": "2023-03-05T16:42:52.162Z"
   },
   {
    "duration": 8,
    "start_time": "2023-03-05T16:45:21.473Z"
   },
   {
    "duration": 9,
    "start_time": "2023-03-05T16:45:24.456Z"
   },
   {
    "duration": 9,
    "start_time": "2023-03-05T16:45:29.832Z"
   },
   {
    "duration": 21,
    "start_time": "2023-03-05T16:45:32.629Z"
   },
   {
    "duration": 377,
    "start_time": "2023-03-05T16:46:35.632Z"
   },
   {
    "duration": 384,
    "start_time": "2023-03-05T16:46:54.767Z"
   },
   {
    "duration": 4,
    "start_time": "2023-03-05T16:47:06.533Z"
   },
   {
    "duration": 437,
    "start_time": "2023-03-05T16:47:53.221Z"
   },
   {
    "duration": 394,
    "start_time": "2023-03-05T16:48:04.054Z"
   },
   {
    "duration": 459,
    "start_time": "2023-03-05T16:50:06.871Z"
   },
   {
    "duration": 483,
    "start_time": "2023-03-05T16:50:21.821Z"
   },
   {
    "duration": 347,
    "start_time": "2023-03-05T16:50:42.668Z"
   },
   {
    "duration": 380,
    "start_time": "2023-03-05T16:50:48.374Z"
   },
   {
    "duration": 230,
    "start_time": "2023-03-05T16:52:14.471Z"
   },
   {
    "duration": 1088,
    "start_time": "2023-03-05T16:56:38.474Z"
   },
   {
    "duration": 387,
    "start_time": "2023-03-05T16:59:56.961Z"
   },
   {
    "duration": 449,
    "start_time": "2023-03-05T17:00:34.039Z"
   },
   {
    "duration": 468,
    "start_time": "2023-03-05T17:00:59.035Z"
   },
   {
    "duration": 1106,
    "start_time": "2023-03-05T17:01:13.788Z"
   },
   {
    "duration": 467,
    "start_time": "2023-03-05T17:01:29.666Z"
   },
   {
    "duration": 697,
    "start_time": "2023-03-05T17:02:21.971Z"
   },
   {
    "duration": 77,
    "start_time": "2023-03-05T17:03:38.462Z"
   },
   {
    "duration": 1252,
    "start_time": "2023-03-05T17:03:43.086Z"
   },
   {
    "duration": 1152,
    "start_time": "2023-03-05T17:06:24.960Z"
   },
   {
    "duration": 1295,
    "start_time": "2023-03-05T17:06:35.758Z"
   },
   {
    "duration": 1196,
    "start_time": "2023-03-05T17:07:51.895Z"
   },
   {
    "duration": 1216,
    "start_time": "2023-03-05T17:08:06.133Z"
   },
   {
    "duration": 1317,
    "start_time": "2023-03-05T17:09:14.575Z"
   },
   {
    "duration": 880,
    "start_time": "2023-03-05T17:09:38.906Z"
   },
   {
    "duration": 1244,
    "start_time": "2023-03-05T17:09:45.509Z"
   },
   {
    "duration": 867,
    "start_time": "2023-03-05T17:10:08.893Z"
   },
   {
    "duration": 3455,
    "start_time": "2023-03-05T17:12:12.917Z"
   },
   {
    "duration": 3586,
    "start_time": "2023-03-05T17:12:23.006Z"
   },
   {
    "duration": 956,
    "start_time": "2023-03-05T17:12:49.514Z"
   },
   {
    "duration": 1163,
    "start_time": "2023-03-05T17:12:56.513Z"
   },
   {
    "duration": 444,
    "start_time": "2023-03-05T17:29:04.972Z"
   },
   {
    "duration": 405,
    "start_time": "2023-03-05T17:29:12.487Z"
   },
   {
    "duration": 1187,
    "start_time": "2023-03-05T17:29:32.154Z"
   },
   {
    "duration": 1037,
    "start_time": "2023-03-05T17:29:43.055Z"
   },
   {
    "duration": 374,
    "start_time": "2023-03-05T17:30:00.456Z"
   },
   {
    "duration": 5,
    "start_time": "2023-03-05T17:31:01.511Z"
   },
   {
    "duration": 520,
    "start_time": "2023-03-05T17:31:03.636Z"
   },
   {
    "duration": 393,
    "start_time": "2023-03-05T17:31:13.208Z"
   },
   {
    "duration": 383,
    "start_time": "2023-03-05T17:31:18.405Z"
   },
   {
    "duration": 383,
    "start_time": "2023-03-05T17:31:25.418Z"
   },
   {
    "duration": 371,
    "start_time": "2023-03-05T17:31:28.456Z"
   },
   {
    "duration": 1194,
    "start_time": "2023-03-05T17:31:38.471Z"
   },
   {
    "duration": 276,
    "start_time": "2023-03-05T17:45:00.801Z"
   },
   {
    "duration": 436,
    "start_time": "2023-03-05T17:45:07.157Z"
   },
   {
    "duration": 398,
    "start_time": "2023-03-05T17:45:19.704Z"
   },
   {
    "duration": 472,
    "start_time": "2023-03-05T17:45:29.169Z"
   },
   {
    "duration": 826,
    "start_time": "2023-03-05T17:45:50.068Z"
   },
   {
    "duration": 402,
    "start_time": "2023-03-05T17:46:50.257Z"
   },
   {
    "duration": 408,
    "start_time": "2023-03-05T17:46:55.799Z"
   },
   {
    "duration": 457,
    "start_time": "2023-03-05T17:46:59.214Z"
   },
   {
    "duration": 567,
    "start_time": "2023-03-05T17:47:04.716Z"
   },
   {
    "duration": 440,
    "start_time": "2023-03-05T17:47:12.269Z"
   },
   {
    "duration": 408,
    "start_time": "2023-03-05T17:47:15.034Z"
   },
   {
    "duration": 391,
    "start_time": "2023-03-05T17:47:19.500Z"
   },
   {
    "duration": 429,
    "start_time": "2023-03-05T17:47:27.099Z"
   },
   {
    "duration": 541,
    "start_time": "2023-03-05T17:47:32.244Z"
   },
   {
    "duration": 429,
    "start_time": "2023-03-05T17:47:37.656Z"
   },
   {
    "duration": 421,
    "start_time": "2023-03-05T17:47:41.413Z"
   },
   {
    "duration": 449,
    "start_time": "2023-03-05T17:47:55.645Z"
   },
   {
    "duration": 371,
    "start_time": "2023-03-05T17:48:01.983Z"
   },
   {
    "duration": 386,
    "start_time": "2023-03-05T17:48:26.937Z"
   },
   {
    "duration": 537,
    "start_time": "2023-03-05T17:48:30.175Z"
   },
   {
    "duration": 1578,
    "start_time": "2023-03-06T05:37:30.081Z"
   },
   {
    "duration": 19,
    "start_time": "2023-03-06T05:37:31.662Z"
   },
   {
    "duration": 20,
    "start_time": "2023-03-06T05:37:31.682Z"
   },
   {
    "duration": 12,
    "start_time": "2023-03-06T05:37:31.703Z"
   },
   {
    "duration": 35,
    "start_time": "2023-03-06T05:37:31.717Z"
   },
   {
    "duration": 4,
    "start_time": "2023-03-06T05:37:31.754Z"
   },
   {
    "duration": 15,
    "start_time": "2023-03-06T05:37:31.759Z"
   },
   {
    "duration": 8,
    "start_time": "2023-03-06T05:37:31.776Z"
   },
   {
    "duration": 11,
    "start_time": "2023-03-06T05:37:31.786Z"
   },
   {
    "duration": 21,
    "start_time": "2023-03-06T05:37:31.799Z"
   },
   {
    "duration": 39,
    "start_time": "2023-03-06T05:37:31.822Z"
   },
   {
    "duration": 8,
    "start_time": "2023-03-06T05:37:31.863Z"
   },
   {
    "duration": 6,
    "start_time": "2023-03-06T05:37:31.873Z"
   },
   {
    "duration": 12,
    "start_time": "2023-03-06T05:37:31.881Z"
   },
   {
    "duration": 26,
    "start_time": "2023-03-06T05:37:31.894Z"
   },
   {
    "duration": 37,
    "start_time": "2023-03-06T05:37:31.922Z"
   },
   {
    "duration": 4,
    "start_time": "2023-03-06T05:37:31.961Z"
   },
   {
    "duration": 20,
    "start_time": "2023-03-06T05:37:31.967Z"
   },
   {
    "duration": 9,
    "start_time": "2023-03-06T05:37:31.989Z"
   },
   {
    "duration": 5,
    "start_time": "2023-03-06T05:37:31.999Z"
   },
   {
    "duration": 13,
    "start_time": "2023-03-06T05:37:32.005Z"
   },
   {
    "duration": 304,
    "start_time": "2023-03-06T05:37:32.020Z"
   },
   {
    "duration": 175,
    "start_time": "2023-03-06T05:38:02.411Z"
   },
   {
    "duration": 184,
    "start_time": "2023-03-06T05:38:12.692Z"
   },
   {
    "duration": 53,
    "start_time": "2023-03-06T05:41:08.506Z"
   },
   {
    "duration": 29,
    "start_time": "2023-03-06T05:41:14.754Z"
   },
   {
    "duration": 24,
    "start_time": "2023-03-06T05:41:25.585Z"
   },
   {
    "duration": 24,
    "start_time": "2023-03-06T05:41:32.498Z"
   },
   {
    "duration": 25,
    "start_time": "2023-03-06T05:41:41.111Z"
   },
   {
    "duration": 19,
    "start_time": "2023-03-06T05:41:45.890Z"
   },
   {
    "duration": 24,
    "start_time": "2023-03-06T05:41:56.474Z"
   },
   {
    "duration": 341,
    "start_time": "2023-03-06T05:44:26.562Z"
   },
   {
    "duration": 1119,
    "start_time": "2023-03-06T05:44:35.714Z"
   },
   {
    "duration": 333,
    "start_time": "2023-03-06T05:46:44.723Z"
   },
   {
    "duration": 1149,
    "start_time": "2023-03-06T05:49:05.883Z"
   },
   {
    "duration": 18,
    "start_time": "2023-03-06T05:49:07.034Z"
   },
   {
    "duration": 19,
    "start_time": "2023-03-06T05:49:07.054Z"
   },
   {
    "duration": 8,
    "start_time": "2023-03-06T05:49:07.075Z"
   },
   {
    "duration": 42,
    "start_time": "2023-03-06T05:49:07.085Z"
   },
   {
    "duration": 3,
    "start_time": "2023-03-06T05:49:07.129Z"
   },
   {
    "duration": 11,
    "start_time": "2023-03-06T05:49:07.133Z"
   },
   {
    "duration": 5,
    "start_time": "2023-03-06T05:49:07.145Z"
   },
   {
    "duration": 12,
    "start_time": "2023-03-06T05:49:07.151Z"
   },
   {
    "duration": 7,
    "start_time": "2023-03-06T05:49:07.165Z"
   },
   {
    "duration": 36,
    "start_time": "2023-03-06T05:49:07.173Z"
   },
   {
    "duration": 8,
    "start_time": "2023-03-06T05:49:07.210Z"
   },
   {
    "duration": 3,
    "start_time": "2023-03-06T05:49:07.220Z"
   },
   {
    "duration": 27,
    "start_time": "2023-03-06T05:49:07.225Z"
   },
   {
    "duration": 18,
    "start_time": "2023-03-06T05:49:07.253Z"
   },
   {
    "duration": 15,
    "start_time": "2023-03-06T05:49:07.272Z"
   },
   {
    "duration": 3,
    "start_time": "2023-03-06T05:49:07.289Z"
   },
   {
    "duration": 11,
    "start_time": "2023-03-06T05:49:07.293Z"
   },
   {
    "duration": 18,
    "start_time": "2023-03-06T05:49:07.305Z"
   },
   {
    "duration": 10,
    "start_time": "2023-03-06T05:49:07.324Z"
   },
   {
    "duration": 15,
    "start_time": "2023-03-06T05:49:07.335Z"
   },
   {
    "duration": 291,
    "start_time": "2023-03-06T05:49:08.668Z"
   },
   {
    "duration": 26,
    "start_time": "2023-03-06T05:49:11.837Z"
   },
   {
    "duration": 345,
    "start_time": "2023-03-06T05:49:13.742Z"
   },
   {
    "duration": 31,
    "start_time": "2023-03-06T05:49:15.950Z"
   },
   {
    "duration": 853,
    "start_time": "2023-03-06T05:49:18.046Z"
   },
   {
    "duration": 383,
    "start_time": "2023-03-06T05:49:22.669Z"
   },
   {
    "duration": 1820,
    "start_time": "2023-03-06T18:43:50.416Z"
   },
   {
    "duration": 22,
    "start_time": "2023-03-06T18:43:52.238Z"
   },
   {
    "duration": 17,
    "start_time": "2023-03-06T18:43:52.981Z"
   },
   {
    "duration": 11,
    "start_time": "2023-03-06T18:44:00.647Z"
   },
   {
    "duration": 37,
    "start_time": "2023-03-06T18:44:01.023Z"
   },
   {
    "duration": 4,
    "start_time": "2023-03-06T18:44:01.538Z"
   },
   {
    "duration": 8,
    "start_time": "2023-03-06T18:44:02.016Z"
   },
   {
    "duration": 5,
    "start_time": "2023-03-06T18:44:05.224Z"
   },
   {
    "duration": 7,
    "start_time": "2023-03-06T18:44:05.649Z"
   },
   {
    "duration": 4,
    "start_time": "2023-03-06T18:44:06.116Z"
   },
   {
    "duration": 37,
    "start_time": "2023-03-06T18:44:06.710Z"
   },
   {
    "duration": 12,
    "start_time": "2023-03-06T18:44:07.122Z"
   },
   {
    "duration": 4,
    "start_time": "2023-03-06T18:44:07.845Z"
   },
   {
    "duration": 13,
    "start_time": "2023-03-06T18:44:08.416Z"
   },
   {
    "duration": 23,
    "start_time": "2023-03-06T18:44:08.814Z"
   },
   {
    "duration": 18,
    "start_time": "2023-03-06T18:44:09.016Z"
   },
   {
    "duration": 3,
    "start_time": "2023-03-06T18:44:09.606Z"
   },
   {
    "duration": 12,
    "start_time": "2023-03-06T18:44:09.816Z"
   },
   {
    "duration": 6,
    "start_time": "2023-03-06T18:44:59.648Z"
   },
   {
    "duration": 3,
    "start_time": "2023-03-06T18:44:59.988Z"
   },
   {
    "duration": 15,
    "start_time": "2023-03-06T18:45:00.318Z"
   },
   {
    "duration": 332,
    "start_time": "2023-03-06T18:45:01.562Z"
   },
   {
    "duration": 468,
    "start_time": "2023-03-06T18:45:16.536Z"
   },
   {
    "duration": 383,
    "start_time": "2023-03-06T18:46:12.462Z"
   },
   {
    "duration": 10,
    "start_time": "2023-03-06T18:51:09.634Z"
   },
   {
    "duration": 9,
    "start_time": "2023-03-06T18:51:11.570Z"
   },
   {
    "duration": 42,
    "start_time": "2023-03-06T18:51:15.008Z"
   },
   {
    "duration": 24,
    "start_time": "2023-03-06T19:04:19.709Z"
   },
   {
    "duration": 23,
    "start_time": "2023-03-06T19:06:11.107Z"
   },
   {
    "duration": 23,
    "start_time": "2023-03-06T19:06:21.327Z"
   },
   {
    "duration": 9,
    "start_time": "2023-03-06T19:07:09.363Z"
   },
   {
    "duration": 621,
    "start_time": "2023-03-06T19:07:39.673Z"
   },
   {
    "duration": 21,
    "start_time": "2023-03-06T19:07:51.421Z"
   },
   {
    "duration": 21,
    "start_time": "2023-03-06T19:07:57.838Z"
   },
   {
    "duration": 701,
    "start_time": "2023-03-06T19:08:02.576Z"
   },
   {
    "duration": 741,
    "start_time": "2023-03-06T19:08:06.513Z"
   },
   {
    "duration": 3,
    "start_time": "2023-03-06T19:08:12.836Z"
   },
   {
    "duration": 26,
    "start_time": "2023-03-06T19:08:14.164Z"
   },
   {
    "duration": 24,
    "start_time": "2023-03-06T19:08:22.211Z"
   },
   {
    "duration": 22,
    "start_time": "2023-03-06T19:08:34.248Z"
   },
   {
    "duration": 22,
    "start_time": "2023-03-06T19:08:39.474Z"
   },
   {
    "duration": 85,
    "start_time": "2023-03-06T19:08:44.120Z"
   },
   {
    "duration": 27,
    "start_time": "2023-03-06T19:08:47.537Z"
   },
   {
    "duration": 88,
    "start_time": "2023-03-06T19:09:03.865Z"
   },
   {
    "duration": 23,
    "start_time": "2023-03-06T19:09:11.474Z"
   },
   {
    "duration": 25,
    "start_time": "2023-03-06T19:09:21.267Z"
   },
   {
    "duration": 24,
    "start_time": "2023-03-06T19:09:30.018Z"
   },
   {
    "duration": 24,
    "start_time": "2023-03-06T19:09:42.433Z"
   },
   {
    "duration": 23,
    "start_time": "2023-03-06T19:09:45.510Z"
   },
   {
    "duration": 22,
    "start_time": "2023-03-06T19:09:56.952Z"
   },
   {
    "duration": 20,
    "start_time": "2023-03-06T19:13:05.519Z"
   },
   {
    "duration": 21,
    "start_time": "2023-03-06T19:13:27.018Z"
   },
   {
    "duration": 22,
    "start_time": "2023-03-06T19:13:33.514Z"
   },
   {
    "duration": 25,
    "start_time": "2023-03-06T19:13:52.003Z"
   },
   {
    "duration": 25,
    "start_time": "2023-03-06T19:13:56.854Z"
   },
   {
    "duration": 83,
    "start_time": "2023-03-06T19:14:05.361Z"
   },
   {
    "duration": 73,
    "start_time": "2023-03-06T19:14:15.029Z"
   },
   {
    "duration": 23,
    "start_time": "2023-03-06T19:14:18.724Z"
   },
   {
    "duration": 27,
    "start_time": "2023-03-06T19:14:28.628Z"
   },
   {
    "duration": 24,
    "start_time": "2023-03-06T19:14:48.721Z"
   },
   {
    "duration": 25,
    "start_time": "2023-03-06T19:19:47.947Z"
   },
   {
    "duration": 23,
    "start_time": "2023-03-06T19:20:02.719Z"
   },
   {
    "duration": 25,
    "start_time": "2023-03-06T19:20:16.154Z"
   },
   {
    "duration": 589,
    "start_time": "2023-03-06T19:21:11.035Z"
   },
   {
    "duration": 27,
    "start_time": "2023-03-06T19:21:14.323Z"
   },
   {
    "duration": 587,
    "start_time": "2023-03-06T19:21:18.459Z"
   },
   {
    "duration": 3,
    "start_time": "2023-03-06T19:21:21.907Z"
   },
   {
    "duration": 585,
    "start_time": "2023-03-06T19:21:22.910Z"
   },
   {
    "duration": 14,
    "start_time": "2023-03-06T19:22:23.443Z"
   },
   {
    "duration": 20,
    "start_time": "2023-03-06T19:22:28.823Z"
   },
   {
    "duration": 22,
    "start_time": "2023-03-06T19:22:31.736Z"
   },
   {
    "duration": 36,
    "start_time": "2023-03-06T19:23:17.919Z"
   },
   {
    "duration": 9,
    "start_time": "2023-03-06T19:23:28.711Z"
   },
   {
    "duration": 27,
    "start_time": "2023-03-06T19:23:35.710Z"
   },
   {
    "duration": 22,
    "start_time": "2023-03-06T19:23:54.411Z"
   },
   {
    "duration": 24,
    "start_time": "2023-03-06T19:30:16.707Z"
   },
   {
    "duration": 22,
    "start_time": "2023-03-06T20:02:31.355Z"
   },
   {
    "duration": 8,
    "start_time": "2023-03-06T20:02:51.337Z"
   },
   {
    "duration": 29,
    "start_time": "2023-03-06T20:07:37.238Z"
   },
   {
    "duration": 7,
    "start_time": "2023-03-06T20:08:41.538Z"
   },
   {
    "duration": 9,
    "start_time": "2023-03-06T20:10:27.440Z"
   },
   {
    "duration": 11,
    "start_time": "2023-03-06T20:10:30.542Z"
   },
   {
    "duration": 9,
    "start_time": "2023-03-06T20:10:38.903Z"
   },
   {
    "duration": 5,
    "start_time": "2023-03-06T20:12:09.310Z"
   },
   {
    "duration": 8,
    "start_time": "2023-03-06T20:12:14.489Z"
   },
   {
    "duration": 7,
    "start_time": "2023-03-06T20:12:25.372Z"
   },
   {
    "duration": 8,
    "start_time": "2023-03-06T20:12:40.233Z"
   },
   {
    "duration": 12,
    "start_time": "2023-03-06T20:12:44.503Z"
   },
   {
    "duration": 5,
    "start_time": "2023-03-06T20:14:39.830Z"
   },
   {
    "duration": 10,
    "start_time": "2023-03-06T20:16:07.237Z"
   },
   {
    "duration": 14,
    "start_time": "2023-03-06T20:16:20.572Z"
   },
   {
    "duration": 10,
    "start_time": "2023-03-06T20:18:56.147Z"
   },
   {
    "duration": 10,
    "start_time": "2023-03-06T20:19:02.675Z"
   },
   {
    "duration": 11,
    "start_time": "2023-03-06T20:19:19.270Z"
   },
   {
    "duration": 20,
    "start_time": "2023-03-06T20:19:40.849Z"
   },
   {
    "duration": 20,
    "start_time": "2023-03-06T20:19:51.810Z"
   },
   {
    "duration": 10,
    "start_time": "2023-03-06T20:19:54.923Z"
   },
   {
    "duration": 9,
    "start_time": "2023-03-06T20:27:40.776Z"
   },
   {
    "duration": 7,
    "start_time": "2023-03-06T20:27:47.655Z"
   },
   {
    "duration": 12,
    "start_time": "2023-03-06T20:27:47.905Z"
   },
   {
    "duration": 9,
    "start_time": "2023-03-06T20:27:56.411Z"
   },
   {
    "duration": 11,
    "start_time": "2023-03-06T20:28:12.726Z"
   },
   {
    "duration": 12,
    "start_time": "2023-03-06T20:28:26.008Z"
   },
   {
    "duration": 12,
    "start_time": "2023-03-06T20:28:34.312Z"
   },
   {
    "duration": 8,
    "start_time": "2023-03-06T20:28:38.230Z"
   },
   {
    "duration": 12,
    "start_time": "2023-03-06T20:28:45.848Z"
   },
   {
    "duration": 12,
    "start_time": "2023-03-06T20:29:08.301Z"
   },
   {
    "duration": 11,
    "start_time": "2023-03-06T20:29:15.001Z"
   },
   {
    "duration": 11,
    "start_time": "2023-03-06T20:29:21.022Z"
   },
   {
    "duration": 7,
    "start_time": "2023-03-06T20:29:29.505Z"
   },
   {
    "duration": 12,
    "start_time": "2023-03-06T20:29:46.524Z"
   },
   {
    "duration": 10,
    "start_time": "2023-03-06T20:29:49.367Z"
   },
   {
    "duration": 11,
    "start_time": "2023-03-06T20:29:53.186Z"
   },
   {
    "duration": 11,
    "start_time": "2023-03-06T20:30:01.403Z"
   },
   {
    "duration": 13,
    "start_time": "2023-03-06T20:30:05.168Z"
   },
   {
    "duration": 12,
    "start_time": "2023-03-06T20:30:08.855Z"
   },
   {
    "duration": 18,
    "start_time": "2023-03-06T20:30:23.606Z"
   },
   {
    "duration": 25,
    "start_time": "2023-03-06T20:30:27.802Z"
   },
   {
    "duration": 21,
    "start_time": "2023-03-06T20:30:46.244Z"
   },
   {
    "duration": 15,
    "start_time": "2023-03-06T20:31:04.608Z"
   },
   {
    "duration": 14,
    "start_time": "2023-03-06T20:31:45.315Z"
   },
   {
    "duration": 21,
    "start_time": "2023-03-06T20:32:45.609Z"
   },
   {
    "duration": 13,
    "start_time": "2023-03-06T20:33:25.461Z"
   },
   {
    "duration": 18,
    "start_time": "2023-03-06T20:33:38.808Z"
   },
   {
    "duration": 16,
    "start_time": "2023-03-06T20:33:47.108Z"
   },
   {
    "duration": 14,
    "start_time": "2023-03-06T20:33:54.967Z"
   },
   {
    "duration": 14,
    "start_time": "2023-03-06T20:34:02.535Z"
   },
   {
    "duration": 10,
    "start_time": "2023-03-06T20:34:27.602Z"
   },
   {
    "duration": 14,
    "start_time": "2023-03-06T20:34:35.771Z"
   },
   {
    "duration": 11,
    "start_time": "2023-03-06T20:34:46.007Z"
   },
   {
    "duration": 14,
    "start_time": "2023-03-06T20:35:17.713Z"
   },
   {
    "duration": 14,
    "start_time": "2023-03-06T20:35:51.879Z"
   },
   {
    "duration": 15,
    "start_time": "2023-03-06T20:36:39.254Z"
   },
   {
    "duration": 249,
    "start_time": "2023-03-06T20:37:47.311Z"
   },
   {
    "duration": 947,
    "start_time": "2023-03-06T20:37:53.771Z"
   },
   {
    "duration": 762,
    "start_time": "2023-03-06T20:38:00.952Z"
   },
   {
    "duration": 856,
    "start_time": "2023-03-06T20:38:44.228Z"
   },
   {
    "duration": 758,
    "start_time": "2023-03-06T20:38:54.427Z"
   },
   {
    "duration": 765,
    "start_time": "2023-03-06T20:39:11.208Z"
   },
   {
    "duration": 885,
    "start_time": "2023-03-06T20:39:20.757Z"
   },
   {
    "duration": 757,
    "start_time": "2023-03-06T20:39:25.249Z"
   },
   {
    "duration": 844,
    "start_time": "2023-03-06T20:39:36.704Z"
   },
   {
    "duration": 759,
    "start_time": "2023-03-06T20:39:49.472Z"
   },
   {
    "duration": 837,
    "start_time": "2023-03-06T20:39:57.272Z"
   },
   {
    "duration": 797,
    "start_time": "2023-03-06T20:40:30.509Z"
   },
   {
    "duration": 788,
    "start_time": "2023-03-06T20:40:44.063Z"
   },
   {
    "duration": 913,
    "start_time": "2023-03-06T20:40:48.894Z"
   },
   {
    "duration": 4,
    "start_time": "2023-03-06T20:43:37.168Z"
   },
   {
    "duration": 24,
    "start_time": "2023-03-06T21:20:25.554Z"
   },
   {
    "duration": 705,
    "start_time": "2023-03-06T21:21:19.010Z"
   },
   {
    "duration": 883,
    "start_time": "2023-03-06T21:21:29.728Z"
   },
   {
    "duration": 780,
    "start_time": "2023-03-06T21:21:39.442Z"
   },
   {
    "duration": 25,
    "start_time": "2023-03-06T21:22:42.647Z"
   },
   {
    "duration": 32,
    "start_time": "2023-03-06T21:22:46.521Z"
   },
   {
    "duration": 27,
    "start_time": "2023-03-06T21:23:05.353Z"
   },
   {
    "duration": 11,
    "start_time": "2023-03-06T21:23:12.642Z"
   },
   {
    "duration": 13,
    "start_time": "2023-03-06T21:23:38.706Z"
   },
   {
    "duration": 871,
    "start_time": "2023-03-06T21:25:07.826Z"
   },
   {
    "duration": 89,
    "start_time": "2023-03-06T22:02:16.367Z"
   },
   {
    "duration": 1309,
    "start_time": "2023-03-06T22:04:19.648Z"
   },
   {
    "duration": 21,
    "start_time": "2023-03-06T22:04:20.959Z"
   },
   {
    "duration": 16,
    "start_time": "2023-03-06T22:04:20.982Z"
   },
   {
    "duration": 11,
    "start_time": "2023-03-06T22:04:21.000Z"
   },
   {
    "duration": 37,
    "start_time": "2023-03-06T22:04:21.013Z"
   },
   {
    "duration": 4,
    "start_time": "2023-03-06T22:04:21.073Z"
   },
   {
    "duration": 14,
    "start_time": "2023-03-06T22:04:21.078Z"
   },
   {
    "duration": 5,
    "start_time": "2023-03-06T22:04:21.093Z"
   },
   {
    "duration": 14,
    "start_time": "2023-03-06T22:04:21.100Z"
   },
   {
    "duration": 3,
    "start_time": "2023-03-06T22:04:21.117Z"
   },
   {
    "duration": 51,
    "start_time": "2023-03-06T22:04:21.122Z"
   },
   {
    "duration": 10,
    "start_time": "2023-03-06T22:04:21.175Z"
   },
   {
    "duration": 4,
    "start_time": "2023-03-06T22:04:21.187Z"
   },
   {
    "duration": 17,
    "start_time": "2023-03-06T22:04:21.192Z"
   },
   {
    "duration": 23,
    "start_time": "2023-03-06T22:04:21.211Z"
   },
   {
    "duration": 40,
    "start_time": "2023-03-06T22:04:21.235Z"
   },
   {
    "duration": 4,
    "start_time": "2023-03-06T22:04:21.277Z"
   },
   {
    "duration": 21,
    "start_time": "2023-03-06T22:04:21.283Z"
   },
   {
    "duration": 20,
    "start_time": "2023-03-06T22:04:21.306Z"
   },
   {
    "duration": 13,
    "start_time": "2023-03-06T22:04:21.327Z"
   },
   {
    "duration": 13,
    "start_time": "2023-03-06T22:04:21.342Z"
   },
   {
    "duration": 373,
    "start_time": "2023-03-06T22:04:21.357Z"
   },
   {
    "duration": 30,
    "start_time": "2023-03-06T22:04:21.731Z"
   },
   {
    "duration": 22,
    "start_time": "2023-03-06T22:04:21.773Z"
   },
   {
    "duration": 395,
    "start_time": "2023-03-06T22:04:21.797Z"
   },
   {
    "duration": 23,
    "start_time": "2023-03-06T22:04:22.194Z"
   },
   {
    "duration": 236,
    "start_time": "2023-03-06T22:04:22.219Z"
   },
   {
    "duration": 30,
    "start_time": "2023-03-06T22:04:22.459Z"
   },
   {
    "duration": 896,
    "start_time": "2023-03-06T22:04:22.491Z"
   },
   {
    "duration": 373,
    "start_time": "2023-03-06T22:04:23.389Z"
   }
  ],
  "colab": {
   "name": "dpp_template_part2.ipynb",
   "provenance": []
  },
  "kernelspec": {
   "display_name": "Python 3 (ipykernel)",
   "language": "python",
   "name": "python3"
  },
  "language_info": {
   "codemirror_mode": {
    "name": "ipython",
    "version": 3
   },
   "file_extension": ".py",
   "mimetype": "text/x-python",
   "name": "python",
   "nbconvert_exporter": "python",
   "pygments_lexer": "ipython3",
   "version": "3.9.13"
  },
  "toc": {
   "base_numbering": 1,
   "nav_menu": {},
   "number_sections": true,
   "sideBar": true,
   "skip_h1_title": true,
   "title_cell": "Table of Contents",
   "title_sidebar": "Contents",
   "toc_cell": false,
   "toc_position": {},
   "toc_section_display": true,
   "toc_window_display": false
  }
 },
 "nbformat": 4,
 "nbformat_minor": 5
}
