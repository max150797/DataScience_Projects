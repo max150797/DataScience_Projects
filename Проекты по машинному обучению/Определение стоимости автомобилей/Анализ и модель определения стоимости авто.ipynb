{
 "cells": [
  {
   "cell_type": "markdown",
   "metadata": {},
   "source": [
    "# Определение стоимости автомобилей"
   ]
  },
  {
   "cell_type": "markdown",
   "metadata": {},
   "source": [
    "## Описание проекта\n",
    "\n",
    "Сервис по продаже автомобилей с пробегом «Не бит, не крашен» разрабатывает приложение, которое позволит привлечь новых клиентов, предоставляя им возможность узнать рыночную стоимость своего автомобиля. Для достижения этой цели мы строим модель, которая способна определять рыночную стоимость автомобилей на основе данных о их технических характеристиках, комплектации и ценах других автомобилей.\n",
    "\n",
    "Критерии важные для заказчика:\n",
    "\n",
    "1. Качество предсказания: Мы стремимся к высокому качеству предсказания, чтобы наши клиенты могли получить точную оценку рыночной стоимости своего автомобиля. Для этого мы используем современные алгоритмы машинного обучения, которые обеспечивают высокую точность предсказаний.\n",
    "\n",
    "2. Время обучения модели: Мы понимаем, что заказчику важно, чтобы модель обучалась быстро, чтобы мы могли быстро внедрить изменения и улучшения. Поэтому мы используем эффективные методы обучения модели, которые позволяют нам значительно сократить время обучения.\n",
    "\n",
    "3. Время предсказания модели: Мы придаем большое значение быстроте предсказания модели, чтобы наши клиенты могли мгновенно получить оценку стоимости своего автомобиля. Мы оптимизируем процессы предсказания и используем оптимизированные алгоритмы, чтобы обеспечить максимальную скорость работы модели.\n",
    "\n",
    "Наша команда разработки поставила перед собой задачу создать эффективную модель, которая сочетает в себе высокое качество предсказания, быстрое время обучения и минимальное время предсказания. Мы уверены, что наше приложение сможет привлечь новых клиентов и удовлетворить потребности уже существующих, предоставляя им доступ к точной и актуальной информации о рыночной стоимости их автомобилей."
   ]
  },
  {
   "cell_type": "markdown",
   "metadata": {},
   "source": [
    "## Описание данных\n",
    "\n",
    "**Признаки**\n",
    "* DateCrawled — дата скачивания анкеты из базы\n",
    "* VehicleType — тип автомобильного кузова\n",
    "* RegistrationYear — год регистрации автомобиля\n",
    "* Gearbox — тип коробки передач\n",
    "* Power — мощность (л. с.)\n",
    "* Model — модель автомобиля\n",
    "* Kilometer — пробег (км)\n",
    "* RegistrationMonth — месяц регистрации автомобиля\n",
    "* FuelType — тип топлива\n",
    "* Brand — марка автомобиля\n",
    "* Repaired — была машина в ремонте или нет\n",
    "* DateCreated — дата создания анкеты\n",
    "* NumberOfPictures — количество фотографий автомобиля\n",
    "* PostalCode — почтовый индекс владельца анкеты (пользователя)\n",
    "* LastSeen — дата последней активности пользователя\n",
    "\n",
    "**Целевой признак**\n",
    "* Price — цена (евро)"
   ]
  },
  {
   "cell_type": "markdown",
   "metadata": {},
   "source": [
    "## Подготовка данных"
   ]
  },
  {
   "cell_type": "code",
   "execution_count": 1,
   "metadata": {},
   "outputs": [],
   "source": [
    "import pandas as pd\n",
    "import numpy as np\n",
    "import matplotlib.pyplot as plt\n",
    "import seaborn as sns\n",
    "\n",
    "from sklearn.preprocessing import LabelEncoder, OrdinalEncoder\n",
    "from sklearn.model_selection import train_test_split\n",
    "from sklearn.ensemble import RandomForestRegressor\n",
    "from sklearn.metrics import mean_squared_error\n",
    "from catboost import CatBoostRegressor, Pool\n",
    "from sklearn.model_selection import train_test_split, RandomizedSearchCV\n",
    "import lightgbm as lgb\n",
    "\n",
    "\n",
    "sns.set_style(\"darkgrid\")\n",
    "TARGET = 'price'\n",
    "RANDOM_SEED = np.random.RandomState(5081997)\n",
    "RANDOM_SEED_INT = 5081997"
   ]
  },
  {
   "cell_type": "markdown",
   "metadata": {},
   "source": [
    "## Анализ исходных данных"
   ]
  },
  {
   "cell_type": "code",
   "execution_count": 2,
   "metadata": {},
   "outputs": [],
   "source": [
    "try:\n",
    "    data = pd.read_csv('https://code.s3.yandex.net/datasets/autos.csv')\n",
    "except:\n",
    "    data = pd.read_csv('autos.csv')"
   ]
  },
  {
   "cell_type": "code",
   "execution_count": 3,
   "metadata": {},
   "outputs": [],
   "source": [
    "# сразу скорректируем названия столбцов\n",
    "data.columns = data.columns.str.replace(r\"([A-Z])\", r\" \\1\", regex=True).str[1:].str.lower().str.replace(' ', '_')"
   ]
  },
  {
   "cell_type": "code",
   "execution_count": 4,
   "metadata": {},
   "outputs": [
    {
     "name": "stdout",
     "output_type": "stream",
     "text": [
      "<class 'pandas.core.frame.DataFrame'>\n",
      "RangeIndex: 354369 entries, 0 to 354368\n",
      "Data columns (total 16 columns):\n",
      " #   Column              Non-Null Count   Dtype \n",
      "---  ------              --------------   ----- \n",
      " 0   date_crawled        354369 non-null  object\n",
      " 1   price               354369 non-null  int64 \n",
      " 2   vehicle_type        316879 non-null  object\n",
      " 3   registration_year   354369 non-null  int64 \n",
      " 4   gearbox             334536 non-null  object\n",
      " 5   power               354369 non-null  int64 \n",
      " 6   model               334664 non-null  object\n",
      " 7   kilometer           354369 non-null  int64 \n",
      " 8   registration_month  354369 non-null  int64 \n",
      " 9   fuel_type           321474 non-null  object\n",
      " 10  brand               354369 non-null  object\n",
      " 11  repaired            283215 non-null  object\n",
      " 12  date_created        354369 non-null  object\n",
      " 13  number_of_pictures  354369 non-null  int64 \n",
      " 14  postal_code         354369 non-null  int64 \n",
      " 15  last_seen           354369 non-null  object\n",
      "dtypes: int64(7), object(9)\n",
      "memory usage: 43.3+ MB\n"
     ]
    }
   ],
   "source": [
    "data.info()"
   ]
  },
  {
   "cell_type": "code",
   "execution_count": 5,
   "metadata": {},
   "outputs": [],
   "source": [
    "def show_info(data: pd.DataFrame):\n",
    "    display(data.describe())\n",
    "    print('Процент пропущенных значений:')\n",
    "    display((data.isna().sum()/len(data)*100).sort_values(ascending=False).head(10))"
   ]
  },
  {
   "cell_type": "code",
   "execution_count": 6,
   "metadata": {},
   "outputs": [
    {
     "data": {
      "text/html": [
       "<div>\n",
       "<style scoped>\n",
       "    .dataframe tbody tr th:only-of-type {\n",
       "        vertical-align: middle;\n",
       "    }\n",
       "\n",
       "    .dataframe tbody tr th {\n",
       "        vertical-align: top;\n",
       "    }\n",
       "\n",
       "    .dataframe thead th {\n",
       "        text-align: right;\n",
       "    }\n",
       "</style>\n",
       "<table border=\"1\" class=\"dataframe\">\n",
       "  <thead>\n",
       "    <tr style=\"text-align: right;\">\n",
       "      <th></th>\n",
       "      <th>price</th>\n",
       "      <th>registration_year</th>\n",
       "      <th>power</th>\n",
       "      <th>kilometer</th>\n",
       "      <th>registration_month</th>\n",
       "      <th>number_of_pictures</th>\n",
       "      <th>postal_code</th>\n",
       "    </tr>\n",
       "  </thead>\n",
       "  <tbody>\n",
       "    <tr>\n",
       "      <th>count</th>\n",
       "      <td>354369.000000</td>\n",
       "      <td>354369.000000</td>\n",
       "      <td>354369.000000</td>\n",
       "      <td>354369.000000</td>\n",
       "      <td>354369.000000</td>\n",
       "      <td>354369.0</td>\n",
       "      <td>354369.000000</td>\n",
       "    </tr>\n",
       "    <tr>\n",
       "      <th>mean</th>\n",
       "      <td>4416.656776</td>\n",
       "      <td>2004.234448</td>\n",
       "      <td>110.094337</td>\n",
       "      <td>128211.172535</td>\n",
       "      <td>5.714645</td>\n",
       "      <td>0.0</td>\n",
       "      <td>50508.689087</td>\n",
       "    </tr>\n",
       "    <tr>\n",
       "      <th>std</th>\n",
       "      <td>4514.158514</td>\n",
       "      <td>90.227958</td>\n",
       "      <td>189.850405</td>\n",
       "      <td>37905.341530</td>\n",
       "      <td>3.726421</td>\n",
       "      <td>0.0</td>\n",
       "      <td>25783.096248</td>\n",
       "    </tr>\n",
       "    <tr>\n",
       "      <th>min</th>\n",
       "      <td>0.000000</td>\n",
       "      <td>1000.000000</td>\n",
       "      <td>0.000000</td>\n",
       "      <td>5000.000000</td>\n",
       "      <td>0.000000</td>\n",
       "      <td>0.0</td>\n",
       "      <td>1067.000000</td>\n",
       "    </tr>\n",
       "    <tr>\n",
       "      <th>25%</th>\n",
       "      <td>1050.000000</td>\n",
       "      <td>1999.000000</td>\n",
       "      <td>69.000000</td>\n",
       "      <td>125000.000000</td>\n",
       "      <td>3.000000</td>\n",
       "      <td>0.0</td>\n",
       "      <td>30165.000000</td>\n",
       "    </tr>\n",
       "    <tr>\n",
       "      <th>50%</th>\n",
       "      <td>2700.000000</td>\n",
       "      <td>2003.000000</td>\n",
       "      <td>105.000000</td>\n",
       "      <td>150000.000000</td>\n",
       "      <td>6.000000</td>\n",
       "      <td>0.0</td>\n",
       "      <td>49413.000000</td>\n",
       "    </tr>\n",
       "    <tr>\n",
       "      <th>75%</th>\n",
       "      <td>6400.000000</td>\n",
       "      <td>2008.000000</td>\n",
       "      <td>143.000000</td>\n",
       "      <td>150000.000000</td>\n",
       "      <td>9.000000</td>\n",
       "      <td>0.0</td>\n",
       "      <td>71083.000000</td>\n",
       "    </tr>\n",
       "    <tr>\n",
       "      <th>max</th>\n",
       "      <td>20000.000000</td>\n",
       "      <td>9999.000000</td>\n",
       "      <td>20000.000000</td>\n",
       "      <td>150000.000000</td>\n",
       "      <td>12.000000</td>\n",
       "      <td>0.0</td>\n",
       "      <td>99998.000000</td>\n",
       "    </tr>\n",
       "  </tbody>\n",
       "</table>\n",
       "</div>"
      ],
      "text/plain": [
       "               price  registration_year          power      kilometer  \\\n",
       "count  354369.000000      354369.000000  354369.000000  354369.000000   \n",
       "mean     4416.656776        2004.234448     110.094337  128211.172535   \n",
       "std      4514.158514          90.227958     189.850405   37905.341530   \n",
       "min         0.000000        1000.000000       0.000000    5000.000000   \n",
       "25%      1050.000000        1999.000000      69.000000  125000.000000   \n",
       "50%      2700.000000        2003.000000     105.000000  150000.000000   \n",
       "75%      6400.000000        2008.000000     143.000000  150000.000000   \n",
       "max     20000.000000        9999.000000   20000.000000  150000.000000   \n",
       "\n",
       "       registration_month  number_of_pictures    postal_code  \n",
       "count       354369.000000            354369.0  354369.000000  \n",
       "mean             5.714645                 0.0   50508.689087  \n",
       "std              3.726421                 0.0   25783.096248  \n",
       "min              0.000000                 0.0    1067.000000  \n",
       "25%              3.000000                 0.0   30165.000000  \n",
       "50%              6.000000                 0.0   49413.000000  \n",
       "75%              9.000000                 0.0   71083.000000  \n",
       "max             12.000000                 0.0   99998.000000  "
      ]
     },
     "metadata": {},
     "output_type": "display_data"
    },
    {
     "name": "stdout",
     "output_type": "stream",
     "text": [
      "Процент пропущенных значений:\n"
     ]
    },
    {
     "data": {
      "text/plain": [
       "repaired             20.079070\n",
       "vehicle_type         10.579368\n",
       "fuel_type             9.282697\n",
       "gearbox               5.596709\n",
       "model                 5.560588\n",
       "date_crawled          0.000000\n",
       "price                 0.000000\n",
       "registration_year     0.000000\n",
       "power                 0.000000\n",
       "kilometer             0.000000\n",
       "dtype: float64"
      ]
     },
     "metadata": {},
     "output_type": "display_data"
    }
   ],
   "source": [
    "show_info(data)"
   ]
  },
  {
   "cell_type": "markdown",
   "metadata": {},
   "source": [
    "Пропущенные значения встречаются в 5 характеристиках автомобилей таких как:\n",
    "* Repaired — была машина в ремонте или нет\n",
    "* VehicleType — тип автомобильного кузова\n",
    "* FuelType — тип топлива\n",
    "* Gearbox — тип коробки передач\n",
    "* Model — модель автомобиля\n",
    "\n",
    "Посмотрим их и обработаем"
   ]
  },
  {
   "cell_type": "markdown",
   "metadata": {},
   "source": [
    "Удалим лишние факторы"
   ]
  },
  {
   "cell_type": "code",
   "execution_count": 7,
   "metadata": {},
   "outputs": [],
   "source": [
    "data = data.drop(['date_crawled', 'date_created', 'number_of_pictures', 'postal_code', 'last_seen'],\n",
    "                 axis=1)"
   ]
  },
  {
   "cell_type": "markdown",
   "metadata": {},
   "source": [
    "## Предобработка данных"
   ]
  },
  {
   "cell_type": "markdown",
   "metadata": {},
   "source": [
    "### Удаление пропусков и обработка анамольных значений\n",
    "#### vehicle_type — тип автомобильного кузова"
   ]
  },
  {
   "cell_type": "code",
   "execution_count": 8,
   "metadata": {},
   "outputs": [
    {
     "data": {
      "text/plain": [
       "sedan          91457\n",
       "small          79831\n",
       "wagon          65166\n",
       "NaN            37490\n",
       "bus            28775\n",
       "convertible    20203\n",
       "coupe          16163\n",
       "suv            11996\n",
       "other           3288\n",
       "Name: vehicle_type, dtype: int64"
      ]
     },
     "execution_count": 8,
     "metadata": {},
     "output_type": "execute_result"
    }
   ],
   "source": [
    "data['vehicle_type'].value_counts(dropna=False)"
   ]
  },
  {
   "cell_type": "markdown",
   "metadata": {},
   "source": [
    "Сгруппируем по бренду и модели, чтобы приблизительно определить тип кузова. Оставшиеся пустые значения отнесем в категорию \"other\""
   ]
  },
  {
   "cell_type": "code",
   "execution_count": 9,
   "metadata": {},
   "outputs": [],
   "source": [
    "# получим моды для группировки по бренду и модели\n",
    "mode_values = data.groupby(['brand', 'model'])['vehicle_type'].apply(lambda x: x.mode()[0]).reset_index()\n",
    "# добавим столбец к общему датафрейму\n",
    "data = data.merge(mode_values, on=['brand', 'model'], how='left', suffixes=('', '_mode'))\n",
    "# заменим пустые значения\n",
    "data['vehicle_type'] = data['vehicle_type'].fillna(data['vehicle_type_mode'])\n",
    "# удалим вспомогательный столбец\n",
    "data = data.drop(columns=['vehicle_type_mode'])\n",
    "# заполним оставшиеся пустые значения на other\n",
    "data['vehicle_type'] = data['vehicle_type'].fillna('other')"
   ]
  },
  {
   "cell_type": "markdown",
   "metadata": {},
   "source": [
    "#### registration_year — год регистрации автомобиля"
   ]
  },
  {
   "cell_type": "code",
   "execution_count": 10,
   "metadata": {},
   "outputs": [
    {
     "name": "stdout",
     "output_type": "stream",
     "text": [
      "[1000, 1001, 1039, 1111, 1200, 1234, 1253, 1255, 1300, 1400, 1500, 1600, 1602, 1688, 1800, 1910, 1915, 1919, 1920, 1923, 1925, 1927, 1928, 1929, 1930, 1931, 1932, 1933, 1934, 1935, 1936, 1937, 1938, 1940, 1941, 1942, 1943, 1944, 1945, 1946, 1947, 1948, 1949, 1950, 1951, 1952, 1953, 1954, 1955, 1956, 1957, 1958, 1959, 1960, 1961, 1962, 1963, 1964, 1965, 1966, 1967, 1968, 1969, 1970, 1971, 1972, 1973, 1974, 1975, 1976, 1977, 1978, 1979, 1980, 1981, 1982, 1983, 1984, 1985, 1986, 1987, 1988, 1989, 1990, 1991, 1992, 1993, 1994, 1995, 1996, 1997, 1998, 1999, 2000, 2001, 2002, 2003, 2004, 2005, 2006, 2007, 2008, 2009, 2010, 2011, 2012, 2013, 2014, 2015, 2016, 2017, 2018, 2019, 2066, 2200, 2222, 2290, 2500, 2800, 2900, 3000, 3200, 3500, 3700, 3800, 4000, 4100, 4500, 4800, 5000, 5300, 5555, 5600, 5900, 5911, 6000, 6500, 7000, 7100, 7500, 7800, 8000, 8200, 8455, 8500, 8888, 9000, 9229, 9450, 9996, 9999]\n"
     ]
    }
   ],
   "source": [
    "print(sorted(data['registration_year'].unique()))"
   ]
  },
  {
   "cell_type": "markdown",
   "metadata": {},
   "source": [
    "В данном факторе просто удалим автомобили, у которых значение года регистрации <1910 и >2019, вероятно, что знаечния которые соответствуют заданным условиям являются выбросами\n",
    "\n",
    "*1910 год выбран, поскольку в автомобилестроении с середины 1910-х годов получила самое широкое распространение конвейерная система сборки, революционизировавшая индустрию XX века.*"
   ]
  },
  {
   "cell_type": "code",
   "execution_count": 11,
   "metadata": {},
   "outputs": [],
   "source": [
    "data = data[(data['registration_year']>=1910)&(data['registration_year']<=2019)].reset_index(drop=True)"
   ]
  },
  {
   "cell_type": "markdown",
   "metadata": {},
   "source": [
    "#### gearbox — тип коробки передач"
   ]
  },
  {
   "cell_type": "code",
   "execution_count": 12,
   "metadata": {},
   "outputs": [
    {
     "data": {
      "text/plain": [
       "manual    268225\n",
       "auto       66278\n",
       "NaN        19695\n",
       "Name: gearbox, dtype: int64"
      ]
     },
     "execution_count": 12,
     "metadata": {},
     "output_type": "execute_result"
    }
   ],
   "source": [
    "data['gearbox'].value_counts(dropna=False)"
   ]
  },
  {
   "cell_type": "markdown",
   "metadata": {},
   "source": [
    "Заполним пустые значения в типе коробки передач с помощью \"unknown\""
   ]
  },
  {
   "cell_type": "code",
   "execution_count": 13,
   "metadata": {},
   "outputs": [],
   "source": [
    "data['gearbox'] = data['gearbox'].fillna('unknown')"
   ]
  },
  {
   "cell_type": "markdown",
   "metadata": {},
   "source": [
    "#### power — мощность (л. с.)"
   ]
  },
  {
   "cell_type": "code",
   "execution_count": 14,
   "metadata": {},
   "outputs": [
    {
     "data": {
      "image/png": "[encoded data removed]",
      "text/plain": [
       "<Figure size 432x288 with 1 Axes>"
      ]
     },
     "metadata": {},
     "output_type": "display_data"
    }
   ],
   "source": [
    "data[data['power']<1000]['power'].hist(bins=100)\n",
    "plt.show()"
   ]
  },
  {
   "cell_type": "code",
   "execution_count": 15,
   "metadata": {},
   "outputs": [],
   "source": [
    "# выделим автомобили меньше 1000 л.с.\n",
    "data = data[data['power']<1000].reset_index(drop=True)\n",
    "\n",
    "# 0 л.с. заменим медианной группируя по бренду, модели и году регистрации\n",
    "median_values = data[data['power']>0].groupby(\n",
    "    ['brand', 'model', 'registration_year'])['power'].apply(lambda x: x.median()).reset_index()\n",
    "\n",
    "data = data.merge(median_values, on=['brand', 'model', 'registration_year'], how='left', suffixes=('', '_median'))\n",
    "\n",
    "# заменим 0 на медиану из median_values\n",
    "mask = data['power'] == 0\n",
    "data.loc[mask, 'power'] = data.loc[mask, 'power_median']\n",
    "data = data.drop(columns=['power_median'])\n",
    "\n",
    "# заполним оставшиеся пустые значения на медиану\n",
    "data['power'] = data['power'].fillna(data['power'].median())"
   ]
  },
  {
   "cell_type": "code",
   "execution_count": 16,
   "metadata": {},
   "outputs": [
    {
     "data": {
      "image/png": "[encoded data removed]",
      "text/plain": [
       "<Figure size 432x288 with 1 Axes>"
      ]
     },
     "metadata": {},
     "output_type": "display_data"
    }
   ],
   "source": [
    "data['power'].hist(bins=100)\n",
    "plt.show()"
   ]
  },
  {
   "cell_type": "markdown",
   "metadata": {},
   "source": [
    "#### model — модель автомобиля"
   ]
  },
  {
   "cell_type": "code",
   "execution_count": 17,
   "metadata": {},
   "outputs": [
    {
     "data": {
      "text/plain": [
       "golf        29203\n",
       "other       24390\n",
       "3er         19741\n",
       "NaN         19595\n",
       "polo        13051\n",
       "corsa       12555\n",
       "astra       10795\n",
       "passat      10133\n",
       "a4           9894\n",
       "c_klasse     8305\n",
       "Name: model, dtype: int64"
      ]
     },
     "execution_count": 17,
     "metadata": {},
     "output_type": "execute_result"
    }
   ],
   "source": [
    "data['model'].value_counts(dropna=False).head(10)"
   ]
  },
  {
   "cell_type": "code",
   "execution_count": 18,
   "metadata": {},
   "outputs": [],
   "source": [
    "# заменим пропуки на other\n",
    "data['model'] = data['model'].fillna('other')"
   ]
  },
  {
   "cell_type": "markdown",
   "metadata": {},
   "source": [
    "#### kilometer — пробег (км)"
   ]
  },
  {
   "cell_type": "code",
   "execution_count": 19,
   "metadata": {},
   "outputs": [
    {
     "data": {
      "image/png": "[encoded data removed]",
      "text/plain": [
       "<Figure size 432x288 with 1 Axes>"
      ]
     },
     "metadata": {},
     "output_type": "display_data"
    }
   ],
   "source": [
    "data['kilometer'].plot(kind='hist')\n",
    "plt.xlabel('Пробег, км')\n",
    "plt.show()"
   ]
  },
  {
   "cell_type": "markdown",
   "metadata": {},
   "source": [
    "#### registration_month — месяц регистрации автомобиля"
   ]
  },
  {
   "cell_type": "code",
   "execution_count": 20,
   "metadata": {},
   "outputs": [
    {
     "data": {
      "image/png": "[encoded data removed]",
      "text/plain": [
       "<Figure size 432x288 with 1 Axes>"
      ]
     },
     "metadata": {},
     "output_type": "display_data"
    }
   ],
   "source": [
    "data['registration_month'].hist()\n",
    "plt.xlabel('Месяц регистрации автомобиля')\n",
    "plt.show()"
   ]
  },
  {
   "cell_type": "markdown",
   "metadata": {},
   "source": [
    "Данный признак не требует изменений и, вероятно, его можно удалить, но пока оставим и посмотрим в дальнейшем на качество моделей с данным признаком и без"
   ]
  },
  {
   "cell_type": "markdown",
   "metadata": {},
   "source": [
    "#### fuel_type — тип топлива"
   ]
  },
  {
   "cell_type": "code",
   "execution_count": 21,
   "metadata": {},
   "outputs": [
    {
     "data": {
      "text/plain": [
       "petrol      216153\n",
       "gasoline     98640\n",
       "lpg           5307\n",
       "cng            562\n",
       "hybrid         233\n",
       "other          202\n",
       "electric        90\n",
       "Name: fuel_type, dtype: int64"
      ]
     },
     "execution_count": 21,
     "metadata": {},
     "output_type": "execute_result"
    }
   ],
   "source": [
    "data['fuel_type'].value_counts()"
   ]
  },
  {
   "cell_type": "markdown",
   "metadata": {},
   "source": [
    "**petrol** и **gasoline** на самом деле одно и то же; просто разные слова. Эти два слова имеют одинаковое значение, с той лишь разницей, что они используются в тех местах, где они используются. Термин «petrol» используется в Великобритании, Индии и некоторых других странах, тогда как «gasoline» используется в Соединенных Штатах"
   ]
  },
  {
   "cell_type": "code",
   "execution_count": 22,
   "metadata": {},
   "outputs": [],
   "source": [
    "# заменим gasoline на petrol\n",
    "data['fuel_type'] = data['fuel_type'].apply(lambda x: x.replace('gasoline', 'petrol') if not pd.isna(x) else x)"
   ]
  },
  {
   "cell_type": "markdown",
   "metadata": {},
   "source": [
    "Пропуски заполним модой (petrol)"
   ]
  },
  {
   "cell_type": "code",
   "execution_count": 23,
   "metadata": {},
   "outputs": [],
   "source": [
    "data['fuel_type'] = data['fuel_type'].fillna('diesel')"
   ]
  },
  {
   "cell_type": "markdown",
   "metadata": {},
   "source": [
    "#### brand — марка автомобиля"
   ]
  },
  {
   "cell_type": "code",
   "execution_count": 24,
   "metadata": {},
   "outputs": [
    {
     "data": {
      "image/png": "[encoded data removed]",
      "text/plain": [
       "<Figure size 1440x864 with 1 Axes>"
      ]
     },
     "metadata": {},
     "output_type": "display_data"
    }
   ],
   "source": [
    "data['brand'].value_counts().plot(kind='barh', figsize=(20,12))\n",
    "plt.xlabel('Кол-во представленных автомобилей')\n",
    "plt.ylabel('Марка автомобиля')\n",
    "plt.show()"
   ]
  },
  {
   "cell_type": "markdown",
   "metadata": {},
   "source": [
    "Данный признак также не требует изменений"
   ]
  },
  {
   "cell_type": "markdown",
   "metadata": {},
   "source": [
    "#### repaired — была машина в ремонте или нет\n",
    "\n",
    "В данном признаке пропуски могут обозначать то, что автомобиль не был в ремонте - заменим пропуски на no"
   ]
  },
  {
   "cell_type": "code",
   "execution_count": 25,
   "metadata": {},
   "outputs": [],
   "source": [
    "data['repaired'] = data['repaired'].fillna('no')"
   ]
  },
  {
   "cell_type": "markdown",
   "metadata": {},
   "source": [
    "#### price - цена (целевой признак)"
   ]
  },
  {
   "cell_type": "code",
   "execution_count": 26,
   "metadata": {},
   "outputs": [
    {
     "data": {
      "image/png": "[encoded data removed]",
      "text/plain": [
       "<Figure size 432x288 with 1 Axes>"
      ]
     },
     "metadata": {},
     "output_type": "display_data"
    }
   ],
   "source": [
    "data['price'].plot(kind='box')\n",
    "plt.show()"
   ]
  },
  {
   "cell_type": "code",
   "execution_count": 27,
   "metadata": {},
   "outputs": [],
   "source": [
    "def outliers(array):\n",
    "    q25=np.array(array.quantile(0.25))\n",
    "    q75=np.array(array.quantile(0.75))\n",
    "    first_part=q25-1.5*(q75-q25)\n",
    "    second_part=q75+1.5*(q75-q25)\n",
    "    return first_part, second_part\n",
    "\n",
    "first_part, second_part = outliers(data['price'])"
   ]
  },
  {
   "cell_type": "markdown",
   "metadata": {},
   "source": [
    "Удалим значения цен больше 14425"
   ]
  },
  {
   "cell_type": "code",
   "execution_count": 28,
   "metadata": {},
   "outputs": [],
   "source": [
    "data = data[(data['price']>=first_part)&(data['price']<=second_part)]\n",
    "data = data[data['price']>0]"
   ]
  },
  {
   "cell_type": "markdown",
   "metadata": {},
   "source": [
    "### Дублкаты"
   ]
  },
  {
   "cell_type": "code",
   "execution_count": 29,
   "metadata": {},
   "outputs": [
    {
     "name": "stdout",
     "output_type": "stream",
     "text": [
      "Явных дубликатов: 28941\n"
     ]
    }
   ],
   "source": [
    "print('Явных дубликатов:', data.duplicated().sum())"
   ]
  },
  {
   "cell_type": "code",
   "execution_count": 30,
   "metadata": {},
   "outputs": [],
   "source": [
    "# удалим дубликаты\n",
    "data = data.drop_duplicates().reset_index(drop=True)"
   ]
  },
  {
   "cell_type": "markdown",
   "metadata": {},
   "source": [
    "В данном разделе был проведен анализ признаков, корректировка их ананомальных значений и заполнение пропусков. Также были удалены дублирующие наблюдения и лишние признаки. Таким образом, данные подготовлены к их дальнейшему преобразованию для моделей."
   ]
  },
  {
   "cell_type": "markdown",
   "metadata": {},
   "source": [
    "## Подготовка выборок и их преобразование"
   ]
  },
  {
   "cell_type": "code",
   "execution_count": 31,
   "metadata": {},
   "outputs": [],
   "source": [
    "categories = ['vehicle_type', 'gearbox', 'model', 'fuel_type', 'brand', 'repaired']"
   ]
  },
  {
   "cell_type": "code",
   "execution_count": 32,
   "metadata": {},
   "outputs": [],
   "source": [
    "X = data.drop(columns=TARGET)\n",
    "y = data[TARGET]\n",
    "# X_train, X_test, y_train, y_test = train_test_split(X, y, test_size=0.4, random_state=RANDOM_SEED)\n",
    "# X_test, X_valid, y_test, y_valid = train_test_split(X_test, y_test, test_size=0.4, random_state=RANDOM_SEED)"
   ]
  },
  {
   "cell_type": "code",
   "execution_count": 33,
   "metadata": {},
   "outputs": [],
   "source": [
    "# Разделение на обучающую и временную выборки\n",
    "X_trainval, X_test, y_trainval, y_test = train_test_split(X, y, test_size=0.25, random_state=RANDOM_SEED)\n",
    "\n",
    "# разделение временной выборки на обучающую и валидационную выборки\n",
    "X_train, X_valid, y_train, y_valid = train_test_split(X_trainval, y_trainval, test_size=0.33, random_state=RANDOM_SEED)"
   ]
  },
  {
   "cell_type": "code",
   "execution_count": 34,
   "metadata": {},
   "outputs": [],
   "source": [
    "encoder = OrdinalEncoder(handle_unknown='use_encoded_value', unknown_value=999)\n",
    "\n",
    "encoder.fit(X_train[categories])\n",
    "\n",
    "X_train = X_train.copy()\n",
    "X_valid = X_valid.copy()\n",
    "X_test = X_test.copy()\n",
    "    \n",
    "X_train.loc[:, categories] = encoder.transform(X_train[categories])\n",
    "X_valid.loc[:, categories] = encoder.transform(X_valid[categories])\n",
    "X_test.loc[:, categories] = encoder.transform(X_test[categories])"
   ]
  },
  {
   "cell_type": "code",
   "execution_count": 35,
   "metadata": {},
   "outputs": [],
   "source": [
    "# encoder = LabelEncoder()\n",
    "\n",
    "# for factor in categories:\n",
    "#     encoder.fit(X_train[factor])\n",
    "#     X_train = X_train.copy()\n",
    "#     X_test = X_test.copy()\n",
    "#     X_train.loc[:, factor] = encoder.transform(X_train[factor])\n",
    "#     X_test.loc[:, factor] = encoder.transform(X_test[factor])"
   ]
  },
  {
   "cell_type": "markdown",
   "metadata": {},
   "source": [
    "Данные разбиты на обучающую и тестовую выборки, а также признаки закодированы для дальнейшего обучения моделей"
   ]
  },
  {
   "cell_type": "markdown",
   "metadata": {},
   "source": [
    "## Обучение моделей\n",
    "\n",
    "В данном разделе обучим 3 модели: CatBoost, RandomForest и LightGBM. Затем сравним их по следующим параметрам:\n",
    "\n",
    "* время обучения модели\n",
    "* время предсказания\n",
    "* качество прдесказаний (метрика - RMSE)"
   ]
  },
  {
   "cell_type": "markdown",
   "metadata": {},
   "source": [
    "### catboost"
   ]
  },
  {
   "cell_type": "code",
   "execution_count": 36,
   "metadata": {},
   "outputs": [],
   "source": [
    "catboost_model = CatBoostRegressor(iterations=1000,\n",
    "                                  loss_function='RMSE',\n",
    "                                  verbose=50)"
   ]
  },
  {
   "cell_type": "code",
   "execution_count": 37,
   "metadata": {
    "scrolled": true
   },
   "outputs": [
    {
     "name": "stdout",
     "output_type": "stream",
     "text": [
      "CPU times: user 2 µs, sys: 0 ns, total: 2 µs\n",
      "Wall time: 5.25 µs\n"
     ]
    }
   ],
   "source": [
    "%%time\n",
    "# parameters_cat = {'depth': [5, 10], 'learning_rate': np.arange(0.1, 1)}\n",
    "# catboost_model = catboost_model.grid_search(parameters_cat,\n",
    "#             Pool(X_train, y_train, cat_features=categories),\n",
    "#             cv=3,\n",
    "#             verbose=50,\n",
    "#             plot=False)\n",
    "\n",
    "#catboost_model['params']\n",
    "\n",
    "#output\n",
    "#{'depth': 10, 'learning_rate': 0.1}"
   ]
  },
  {
   "cell_type": "code",
   "execution_count": 38,
   "metadata": {},
   "outputs": [
    {
     "name": "stdout",
     "output_type": "stream",
     "text": [
      "0:\tlearn: 3238.2364930\ttotal: 93.2ms\tremaining: 1m 33s\n",
      "50:\tlearn: 1528.0130039\ttotal: 2.18s\tremaining: 40.5s\n",
      "100:\tlearn: 1447.1548742\ttotal: 4.16s\tremaining: 37s\n",
      "150:\tlearn: 1404.7981881\ttotal: 6.13s\tremaining: 34.5s\n",
      "200:\tlearn: 1371.3649448\ttotal: 8.14s\tremaining: 32.4s\n",
      "250:\tlearn: 1343.4850237\ttotal: 10.2s\tremaining: 30.6s\n",
      "300:\tlearn: 1320.4632664\ttotal: 12.3s\tremaining: 28.6s\n",
      "350:\tlearn: 1301.0681795\ttotal: 14.5s\tremaining: 26.7s\n",
      "400:\tlearn: 1283.4212958\ttotal: 16.5s\tremaining: 24.6s\n",
      "450:\tlearn: 1267.3767788\ttotal: 18.5s\tremaining: 22.5s\n",
      "500:\tlearn: 1254.0194338\ttotal: 20.4s\tremaining: 20.3s\n",
      "550:\tlearn: 1241.5964384\ttotal: 22.4s\tremaining: 18.3s\n",
      "600:\tlearn: 1230.0597045\ttotal: 24.4s\tremaining: 16.2s\n",
      "650:\tlearn: 1219.2946261\ttotal: 26.3s\tremaining: 14.1s\n",
      "700:\tlearn: 1208.8007817\ttotal: 28.3s\tremaining: 12.1s\n",
      "750:\tlearn: 1198.9793586\ttotal: 30.3s\tremaining: 10.1s\n",
      "800:\tlearn: 1189.4837696\ttotal: 32.3s\tremaining: 8.04s\n",
      "850:\tlearn: 1180.3545476\ttotal: 34.3s\tremaining: 6.01s\n",
      "900:\tlearn: 1172.2857849\ttotal: 36.3s\tremaining: 3.99s\n",
      "950:\tlearn: 1164.5989942\ttotal: 38.3s\tremaining: 1.97s\n",
      "999:\tlearn: 1156.7493484\ttotal: 40.3s\tremaining: 0us\n",
      "CPU times: user 40.3 s, sys: 221 ms, total: 40.6 s\n",
      "Wall time: 42.7 s\n"
     ]
    },
    {
     "data": {
      "text/plain": [
       "<catboost.core.CatBoostRegressor at 0x7f093b3fae80>"
      ]
     },
     "execution_count": 38,
     "metadata": {},
     "output_type": "execute_result"
    }
   ],
   "source": [
    "%%time\n",
    "catboost_model = CatBoostRegressor(loss_function='RMSE',\n",
    "                                   depth=10,\n",
    "                                   learning_rate=0.1,\n",
    "                                   verbose=50,\n",
    "                                   random_seed=RANDOM_SEED_INT)\n",
    "catboost_model.fit(X_train, y_train)"
   ]
  },
  {
   "cell_type": "code",
   "execution_count": 39,
   "metadata": {},
   "outputs": [
    {
     "name": "stdout",
     "output_type": "stream",
     "text": [
      "Время предсказания модели:\n",
      "CPU times: user 324 ms, sys: 0 ns, total: 324 ms\n",
      "Wall time: 329 ms\n"
     ]
    }
   ],
   "source": [
    "%%time\n",
    "print('Время предсказания модели:')\n",
    "catboost_pred = catboost_model.predict(X_valid)"
   ]
  },
  {
   "cell_type": "code",
   "execution_count": 40,
   "metadata": {},
   "outputs": [
    {
     "name": "stdout",
     "output_type": "stream",
     "text": [
      "RMSE на тестовой выборке (CatBoost): 1407.9108978705808\n"
     ]
    }
   ],
   "source": [
    "catboost_pred = [x if x>0 else 0 for x in catboost_pred]\n",
    "catboost_rmse = mean_squared_error(y_valid, catboost_pred, squared=False)\n",
    "print('RMSE на тестовой выборке (CatBoost):', catboost_rmse)"
   ]
  },
  {
   "cell_type": "markdown",
   "metadata": {},
   "source": [
    "### RandomForest"
   ]
  },
  {
   "cell_type": "code",
   "execution_count": 41,
   "metadata": {},
   "outputs": [
    {
     "name": "stdout",
     "output_type": "stream",
     "text": [
      "CPU times: user 39.5 s, sys: 632 ms, total: 40.2 s\n",
      "Wall time: 40.3 s\n"
     ]
    },
    {
     "data": {
      "text/plain": [
       "RandomForestRegressor(n_jobs=-1,\n",
       "                      random_state=RandomState(MT19937) at 0x7F093BB5C140)"
      ]
     },
     "execution_count": 41,
     "metadata": {},
     "output_type": "execute_result"
    }
   ],
   "source": [
    "%%time\n",
    "rf_model = RandomForestRegressor(criterion='mse',\n",
    "                                 random_state=RANDOM_SEED,\n",
    "                                 n_estimators = 100,\n",
    "                                 n_jobs=-1)\n",
    "rf_model.fit(X_train, y_train)"
   ]
  },
  {
   "cell_type": "code",
   "execution_count": 42,
   "metadata": {},
   "outputs": [
    {
     "name": "stdout",
     "output_type": "stream",
     "text": [
      "Время предсказания модели:\n",
      "CPU times: user 2.86 s, sys: 3.86 ms, total: 2.87 s\n",
      "Wall time: 2.87 s\n"
     ]
    }
   ],
   "source": [
    "%%time\n",
    "print('Время предсказания модели:')\n",
    "rf_pred = rf_model.predict(X_valid)"
   ]
  },
  {
   "cell_type": "code",
   "execution_count": 43,
   "metadata": {},
   "outputs": [
    {
     "name": "stdout",
     "output_type": "stream",
     "text": [
      "RMSE на тестовой выборке (RandomForest): 1490.913739051489\n"
     ]
    }
   ],
   "source": [
    "rf_pred = [x if x>0 else 0 for x in rf_pred]\n",
    "rf_rmse = mean_squared_error(y_valid, rf_pred, squared=False)\n",
    "print('RMSE на тестовой выборке (RandomForest):', rf_rmse)"
   ]
  },
  {
   "cell_type": "markdown",
   "metadata": {},
   "source": [
    "### LightGBM"
   ]
  },
  {
   "cell_type": "code",
   "execution_count": 44,
   "metadata": {},
   "outputs": [
    {
     "name": "stdout",
     "output_type": "stream",
     "text": [
      "CPU times: user 25 µs, sys: 1e+03 ns, total: 26 µs\n",
      "Wall time: 29.1 µs\n"
     ]
    }
   ],
   "source": [
    "%%time\n",
    "train_data = lgb.Dataset(X_train, label=y_train)\n",
    "\n",
    "# params = {\n",
    "#     'objective': 'regression',\n",
    "#     'metric': 'rmse',\n",
    "#     'boosting_type': 'gbdt',\n",
    "#     'learning_rate': 0.1,\n",
    "#     'num_boost_round': 100\n",
    "# }\n",
    "\n",
    "# param_grid = {\n",
    "#     'max_depth': [5, 10, 15],\n",
    "#     'min_child_samples': [10, 20, 30],\n",
    "#     'subsample': [0.8, 0.9, 1.0],\n",
    "#     'colsample_bytree': [0.8, 0.9, 1.0]\n",
    "# }\n",
    "\n",
    "# lgb_model = lgb.LGBMRegressor()\n",
    "\n",
    "# random_search = RandomizedSearchCV(lgb_model,\n",
    "#                                    param_distributions=param_grid,\n",
    "#                                    n_iter=10, scoring='neg_root_mean_squared_error',\n",
    "#                                    cv=3, verbose=1)\n",
    "\n",
    "# # обучение модели с подобранными гиперпараметрами\n",
    "# random_search.fit(X_train, y_train)\n",
    "\n",
    "# # получение лучших гиперпараметров\n",
    "# best_params = random_search.best_params_\n",
    "\n",
    "# # обновление параметров модели с лучшими гиперпараметрами\n",
    "# params.update(best_params)"
   ]
  },
  {
   "cell_type": "code",
   "execution_count": 45,
   "metadata": {
    "scrolled": true
   },
   "outputs": [
    {
     "name": "stdout",
     "output_type": "stream",
     "text": [
      "[LightGBM] [Warning] Accuracy may be bad since you didn't explicitly set num_leaves OR 2^max_depth > num_leaves. (num_leaves=31).\n"
     ]
    },
    {
     "name": "stderr",
     "output_type": "stream",
     "text": [
      "/opt/conda/lib/python3.9/site-packages/lightgbm/engine.py:177: UserWarning: Found `num_boost_round` in params. Will use it instead of argument\n",
      "  _log_warning(f\"Found `{alias}` in params. Will use it instead of argument\")\n"
     ]
    },
    {
     "name": "stdout",
     "output_type": "stream",
     "text": [
      "[LightGBM] [Warning] Accuracy may be bad since you didn't explicitly set num_leaves OR 2^max_depth > num_leaves. (num_leaves=31).\n",
      "[LightGBM] [Warning] Auto-choosing row-wise multi-threading, the overhead of testing was 0.092129 seconds.\n",
      "You can set `force_row_wise=true` to remove the overhead.\n",
      "And if memory is not enough, you can set `force_col_wise=true`.\n",
      "[LightGBM] [Info] Total Bins 657\n",
      "[LightGBM] [Info] Number of data points in the train set: 148369, number of used features: 10\n",
      "[LightGBM] [Info] Start training from score 3829.806597\n",
      "CPU times: user 3.28 s, sys: 52.8 ms, total: 3.34 s\n",
      "Wall time: 3.29 s\n"
     ]
    }
   ],
   "source": [
    "%%time\n",
    "params = {\n",
    "    'objective': 'regression',\n",
    "    'metric': 'rmse',\n",
    "    'boosting_type': 'gbdt',\n",
    "    'learning_rate': 0.1,\n",
    "    'num_boost_round': 100,\n",
    "    'subsample': 0.8,\n",
    "    'min_child_samples': 10,\n",
    "    'max_depth': 10,\n",
    "    'colsample_bytree': 0.8\n",
    "}\n",
    "\n",
    "lgb_model = lgb.LGBMRegressor(random_state=RANDOM_SEED)\n",
    "# обучение модели с обновленными гиперпараметрами\n",
    "lgb_model = lgb.train(params, train_data, num_boost_round=params['num_boost_round'])"
   ]
  },
  {
   "cell_type": "code",
   "execution_count": 46,
   "metadata": {},
   "outputs": [
    {
     "name": "stdout",
     "output_type": "stream",
     "text": [
      "Время предсказания модели:\n",
      "CPU times: user 527 ms, sys: 0 ns, total: 527 ms\n",
      "Wall time: 504 ms\n"
     ]
    }
   ],
   "source": [
    "%%time\n",
    "print('Время предсказания модели:')\n",
    "lgb_pred = lgb_model.predict(X_valid)"
   ]
  },
  {
   "cell_type": "code",
   "execution_count": 47,
   "metadata": {},
   "outputs": [
    {
     "name": "stdout",
     "output_type": "stream",
     "text": [
      "RMSE на тестовой выборке (RandomForest): 1492.857964778505\n"
     ]
    }
   ],
   "source": [
    "lgb_pred = [x if x>0 else 0 for x in lgb_pred]\n",
    "lgb_rmse = mean_squared_error(y_valid, lgb_pred, squared=False)\n",
    "print('RMSE на тестовой выборке (RandomForest):', lgb_rmse)"
   ]
  },
  {
   "cell_type": "markdown",
   "metadata": {},
   "source": [
    "В данном разделе были обучены модели CatBoost, RandomForest и LightGBM а также выведена их скорость обучения, таким образом далее мы сможем оценить какая из моделей в совокупности факторов является наиболее подходящей"
   ]
  },
  {
   "cell_type": "markdown",
   "metadata": {},
   "source": [
    "## Анализ моделей и тестирование"
   ]
  },
  {
   "cell_type": "code",
   "execution_count": 50,
   "metadata": {},
   "outputs": [],
   "source": [
    "# %%time\n",
    "# lgb_pred = [x if x>0 else 0 for x in lgb_model.predict(X_test)]\n",
    "# lgb_rmse = mean_squared_error(y_test, lgb_pred, squared=False)\n",
    "# print('RMSE на тестовой выборке (LightGBM):', lgb_rmse)"
   ]
  },
  {
   "cell_type": "markdown",
   "metadata": {},
   "source": [
    "Оценим наши модели по кретериям заказчика: качество предсказаний, время обучения модели и время предсказания модели\n",
    "\n",
    "**1. Качество модели на валидационной выборке (метрика RMSE)**\n",
    "\n",
    "<p>CatBoost - 1407</p>\n",
    "<p>RandomForest - 1490</p>\n",
    "<p>LightGBM - 1492</p>\n",
    "\n",
    "**2. Скорость обучения моделей**\n",
    "\n",
    "<p>CatBoost - 42.4 s</p>\n",
    "<p>RandomForest - 41.3 s</p>\n",
    "<p>LightGBM - 9.36 s</p>\n",
    "\n",
    "**3. Скорость предсказания моделей**\n",
    "\n",
    "<p>CatBoost - 318 ms</p>\n",
    "<p>RandomForest - 3.14 s</p>\n",
    "<p>LightGBM - 497 ms</p>\n",
    "\n",
    "\n",
    "Наилучшее качество показала модель catboost, однако скорость обучения у данной модели наибольшее (42 секунды). Время предсказания около 300 милисекунд, что достаточно быстро. Таким образом, если нет необходимости слишком часто обучать модель заново, то модель catboost является наилучшей. Оценим ее качество на тестовой выборке."
   ]
  },
  {
   "cell_type": "code",
   "execution_count": 51,
   "metadata": {},
   "outputs": [
    {
     "name": "stdout",
     "output_type": "stream",
     "text": [
      "RMSE на тестовой выборке (CatBoost): 1382.9159403146055\n",
      "CPU times: user 306 ms, sys: 110 µs, total: 306 ms\n",
      "Wall time: 305 ms\n"
     ]
    }
   ],
   "source": [
    "%%time\n",
    "catboost_pred_test = [x if x>0 else 0 for x in catboost_model.predict(X_test)]\n",
    "catboost_rmse_test = mean_squared_error(y_test, catboost_pred_test, squared=False)\n",
    "print('RMSE на тестовой выборке (CatBoost):', catboost_rmse_test)"
   ]
  },
  {
   "cell_type": "markdown",
   "metadata": {},
   "source": [
    "Время предсказания совпадает, а качество на тестовой выборке даже немного лучше. Обучим модель catboost на обучающей + валидационной выборке и оценим качество на тестовой выборке еще раз."
   ]
  },
  {
   "cell_type": "code",
   "execution_count": 52,
   "metadata": {
    "scrolled": true
   },
   "outputs": [
    {
     "name": "stdout",
     "output_type": "stream",
     "text": [
      "0:\tlearn: 3237.3596390\ttotal: 57ms\tremaining: 56.9s\n",
      "50:\tlearn: 1537.4169159\ttotal: 2.82s\tremaining: 52.5s\n",
      "100:\tlearn: 1459.7387264\ttotal: 5.58s\tremaining: 49.6s\n",
      "150:\tlearn: 1420.1272473\ttotal: 8.28s\tremaining: 46.6s\n",
      "200:\tlearn: 1391.4090587\ttotal: 11.1s\tremaining: 44.3s\n",
      "250:\tlearn: 1368.8235931\ttotal: 14s\tremaining: 41.8s\n",
      "300:\tlearn: 1350.3064435\ttotal: 17s\tremaining: 39.5s\n",
      "350:\tlearn: 1333.6005883\ttotal: 20s\tremaining: 37.1s\n",
      "400:\tlearn: 1318.4695178\ttotal: 22.9s\tremaining: 34.2s\n",
      "450:\tlearn: 1305.3671492\ttotal: 25.7s\tremaining: 31.3s\n",
      "500:\tlearn: 1292.5514796\ttotal: 28.5s\tremaining: 28.4s\n",
      "550:\tlearn: 1281.6106705\ttotal: 31.4s\tremaining: 25.6s\n",
      "600:\tlearn: 1272.0259480\ttotal: 34.2s\tremaining: 22.7s\n",
      "650:\tlearn: 1261.5398759\ttotal: 36.9s\tremaining: 19.8s\n",
      "700:\tlearn: 1251.9005228\ttotal: 39.8s\tremaining: 17s\n",
      "750:\tlearn: 1242.3438385\ttotal: 42.7s\tremaining: 14.2s\n",
      "800:\tlearn: 1233.5660845\ttotal: 45.6s\tremaining: 11.3s\n",
      "850:\tlearn: 1225.8274269\ttotal: 48.4s\tremaining: 8.48s\n",
      "900:\tlearn: 1217.8180150\ttotal: 51.2s\tremaining: 5.63s\n",
      "950:\tlearn: 1210.2357505\ttotal: 54s\tremaining: 2.78s\n",
      "999:\tlearn: 1202.9117666\ttotal: 56.7s\tremaining: 0us\n"
     ]
    },
    {
     "data": {
      "text/plain": [
       "<catboost.core.CatBoostRegressor at 0x7f093aacaaf0>"
      ]
     },
     "execution_count": 52,
     "metadata": {},
     "output_type": "execute_result"
    }
   ],
   "source": [
    "X_train_full = pd.concat([X_train, X_valid])\n",
    "y_train_full = pd.concat([y_train, y_valid])\n",
    "\n",
    "catboost_model = CatBoostRegressor(loss_function='RMSE',\n",
    "                                   depth=10,\n",
    "                                   learning_rate=0.1,\n",
    "                                   verbose=50,\n",
    "                                   random_seed=RANDOM_SEED_INT)\n",
    "\n",
    "catboost_model.fit(X_train_full, y_train_full)"
   ]
  },
  {
   "cell_type": "code",
   "execution_count": 53,
   "metadata": {},
   "outputs": [
    {
     "name": "stdout",
     "output_type": "stream",
     "text": [
      "Время предсказания модели:\n",
      "RMSE на тестовой выборке (CatBoost): 1369.8985403661336\n",
      "CPU times: user 307 ms, sys: 0 ns, total: 307 ms\n",
      "Wall time: 312 ms\n"
     ]
    }
   ],
   "source": [
    "%%time\n",
    "print('Время предсказания модели:')\n",
    "catboost_pred_full = catboost_model.predict(X_test)\n",
    "\n",
    "catboost_pred_full = [x if x>0 else 0 for x in catboost_pred_full]\n",
    "catboost_rmse_full = mean_squared_error(y_test, catboost_pred_full, squared=False)\n",
    "print('RMSE на тестовой выборке (CatBoost):', catboost_rmse_full)"
   ]
  },
  {
   "cell_type": "markdown",
   "metadata": {},
   "source": [
    "После обучения на полной выборке качество модели на тестовой выборке стало лучше"
   ]
  }
 ],
 "metadata": {
  "ExecuteTimeLog": [
   {
    "duration": 922,
    "start_time": "2023-07-18T08:17:40.208Z"
   },
   {
    "duration": 635,
    "start_time": "2023-07-18T08:17:52.620Z"
   },
   {
    "duration": 1965,
    "start_time": "2023-07-18T08:18:48.300Z"
   },
   {
    "duration": 1555,
    "start_time": "2023-07-18T08:18:54.534Z"
   },
   {
    "duration": 38,
    "start_time": "2023-07-18T08:18:56.386Z"
   },
   {
    "duration": 5,
    "start_time": "2023-07-18T08:19:15.648Z"
   },
   {
    "duration": 229,
    "start_time": "2023-07-18T08:19:21.641Z"
   },
   {
    "duration": 255,
    "start_time": "2023-07-18T08:20:09.064Z"
   },
   {
    "duration": 175,
    "start_time": "2023-07-18T08:20:37.159Z"
   },
   {
    "duration": 4,
    "start_time": "2023-07-18T08:20:44.863Z"
   },
   {
    "duration": 5,
    "start_time": "2023-07-18T08:20:45.550Z"
   },
   {
    "duration": 238,
    "start_time": "2023-07-18T08:20:45.767Z"
   },
   {
    "duration": 5,
    "start_time": "2023-07-18T08:20:51.036Z"
   },
   {
    "duration": 4,
    "start_time": "2023-07-18T08:20:51.513Z"
   },
   {
    "duration": 220,
    "start_time": "2023-07-18T08:20:51.698Z"
   },
   {
    "duration": 4,
    "start_time": "2023-07-18T08:20:55.179Z"
   },
   {
    "duration": 211,
    "start_time": "2023-07-18T08:20:55.372Z"
   },
   {
    "duration": 111,
    "start_time": "2023-07-18T08:24:12.747Z"
   },
   {
    "duration": 7,
    "start_time": "2023-07-18T08:34:07.846Z"
   },
   {
    "duration": 32,
    "start_time": "2023-07-18T08:34:15.140Z"
   },
   {
    "duration": 31,
    "start_time": "2023-07-18T08:34:26.542Z"
   },
   {
    "duration": 28,
    "start_time": "2023-07-18T08:34:42.781Z"
   },
   {
    "duration": 49,
    "start_time": "2023-07-18T08:35:17.594Z"
   },
   {
    "duration": 70,
    "start_time": "2023-07-18T08:35:20.559Z"
   },
   {
    "duration": 180,
    "start_time": "2023-07-18T08:35:30.770Z"
   },
   {
    "duration": 24,
    "start_time": "2023-07-18T08:35:39.337Z"
   },
   {
    "duration": 506,
    "start_time": "2023-07-18T08:37:27.608Z"
   },
   {
    "duration": 552,
    "start_time": "2023-07-18T08:38:24.670Z"
   },
   {
    "duration": 110,
    "start_time": "2023-07-18T08:46:28.040Z"
   },
   {
    "duration": 89,
    "start_time": "2023-07-18T08:47:32.090Z"
   },
   {
    "duration": 5,
    "start_time": "2023-07-18T08:47:41.239Z"
   },
   {
    "duration": 1615,
    "start_time": "2023-07-18T08:47:42.221Z"
   },
   {
    "duration": 3,
    "start_time": "2023-07-18T08:47:46.913Z"
   },
   {
    "duration": 221,
    "start_time": "2023-07-18T08:47:47.824Z"
   },
   {
    "duration": 4,
    "start_time": "2023-07-18T08:48:01.968Z"
   },
   {
    "duration": 40,
    "start_time": "2023-07-18T08:48:37.281Z"
   },
   {
    "duration": 24,
    "start_time": "2023-07-18T08:48:48.477Z"
   },
   {
    "duration": 18,
    "start_time": "2023-07-18T08:48:55.155Z"
   },
   {
    "duration": 1265,
    "start_time": "2023-07-18T08:49:06.551Z"
   },
   {
    "duration": 1367,
    "start_time": "2023-07-18T08:49:07.818Z"
   },
   {
    "duration": 4,
    "start_time": "2023-07-18T08:49:09.187Z"
   },
   {
    "duration": 351,
    "start_time": "2023-07-18T08:49:09.192Z"
   },
   {
    "duration": 147,
    "start_time": "2023-07-18T08:49:09.546Z"
   },
   {
    "duration": 5,
    "start_time": "2023-07-18T08:49:09.694Z"
   },
   {
    "duration": 78,
    "start_time": "2023-07-18T08:49:09.701Z"
   },
   {
    "duration": 260,
    "start_time": "2023-07-18T08:49:09.781Z"
   },
   {
    "duration": 265,
    "start_time": "2023-07-18T08:49:10.043Z"
   },
   {
    "duration": 29,
    "start_time": "2023-07-18T08:49:10.310Z"
   },
   {
    "duration": 28,
    "start_time": "2023-07-18T08:49:10.340Z"
   },
   {
    "duration": 4,
    "start_time": "2023-07-18T08:50:18.632Z"
   },
   {
    "duration": 1442,
    "start_time": "2023-07-18T08:50:18.982Z"
   },
   {
    "duration": 3,
    "start_time": "2023-07-18T08:50:20.426Z"
   },
   {
    "duration": 263,
    "start_time": "2023-07-18T08:50:20.431Z"
   },
   {
    "duration": 122,
    "start_time": "2023-07-18T08:50:20.697Z"
   },
   {
    "duration": 5,
    "start_time": "2023-07-18T08:50:21.152Z"
   },
   {
    "duration": 56,
    "start_time": "2023-07-18T08:50:23.698Z"
   },
   {
    "duration": 204,
    "start_time": "2023-07-18T08:50:24.340Z"
   },
   {
    "duration": 192,
    "start_time": "2023-07-18T08:50:34.661Z"
   },
   {
    "duration": 34,
    "start_time": "2023-07-18T08:51:08.302Z"
   },
   {
    "duration": 33,
    "start_time": "2023-07-18T08:51:17.587Z"
   },
   {
    "duration": 8,
    "start_time": "2023-07-18T08:55:28.843Z"
   },
   {
    "duration": 7,
    "start_time": "2023-07-18T08:55:55.662Z"
   },
   {
    "duration": 75,
    "start_time": "2023-07-18T08:56:22.626Z"
   },
   {
    "duration": 391,
    "start_time": "2023-07-18T08:56:24.786Z"
   },
   {
    "duration": 7,
    "start_time": "2023-07-18T08:56:31.360Z"
   },
   {
    "duration": 6,
    "start_time": "2023-07-18T08:58:04.992Z"
   },
   {
    "duration": 5,
    "start_time": "2023-07-18T08:58:12.630Z"
   },
   {
    "duration": 6,
    "start_time": "2023-07-18T08:58:21.942Z"
   },
   {
    "duration": 10,
    "start_time": "2023-07-18T08:58:46.278Z"
   },
   {
    "duration": 7,
    "start_time": "2023-07-18T08:58:54.254Z"
   },
   {
    "duration": 39,
    "start_time": "2023-07-18T08:59:02.335Z"
   },
   {
    "duration": 6,
    "start_time": "2023-07-18T08:59:09.463Z"
   },
   {
    "duration": 7,
    "start_time": "2023-07-18T08:59:12.438Z"
   },
   {
    "duration": 7,
    "start_time": "2023-07-18T08:59:16.582Z"
   },
   {
    "duration": 15,
    "start_time": "2023-07-18T09:00:50.407Z"
   },
   {
    "duration": 8,
    "start_time": "2023-07-18T09:00:54.019Z"
   },
   {
    "duration": 7,
    "start_time": "2023-07-18T09:01:09.266Z"
   },
   {
    "duration": 7,
    "start_time": "2023-07-18T09:01:15.735Z"
   },
   {
    "duration": 8,
    "start_time": "2023-07-18T09:01:36.352Z"
   },
   {
    "duration": 9,
    "start_time": "2023-07-18T09:01:39.304Z"
   },
   {
    "duration": 7,
    "start_time": "2023-07-18T09:01:58.204Z"
   },
   {
    "duration": 7,
    "start_time": "2023-07-18T09:02:02.994Z"
   },
   {
    "duration": 9,
    "start_time": "2023-07-18T09:02:07.379Z"
   },
   {
    "duration": 6,
    "start_time": "2023-07-18T09:03:17.357Z"
   },
   {
    "duration": 6,
    "start_time": "2023-07-18T09:03:45.562Z"
   },
   {
    "duration": 5,
    "start_time": "2023-07-18T09:03:51.475Z"
   },
   {
    "duration": 6,
    "start_time": "2023-07-18T09:04:34.088Z"
   },
   {
    "duration": 1649,
    "start_time": "2023-07-18T09:04:34.538Z"
   },
   {
    "duration": 5,
    "start_time": "2023-07-18T09:04:36.190Z"
   },
   {
    "duration": 30,
    "start_time": "2023-07-18T09:04:36.197Z"
   },
   {
    "duration": 237,
    "start_time": "2023-07-18T09:04:36.229Z"
   },
   {
    "duration": 119,
    "start_time": "2023-07-18T09:04:40.136Z"
   },
   {
    "duration": 55,
    "start_time": "2023-07-18T09:05:20.636Z"
   },
   {
    "duration": 218,
    "start_time": "2023-07-18T09:05:24.278Z"
   },
   {
    "duration": 1309,
    "start_time": "2023-07-18T09:05:29.872Z"
   },
   {
    "duration": 34,
    "start_time": "2023-07-18T09:05:40.741Z"
   },
   {
    "duration": 1416,
    "start_time": "2023-07-18T09:11:31.261Z"
   },
   {
    "duration": 1427,
    "start_time": "2023-07-18T09:11:32.679Z"
   },
   {
    "duration": 6,
    "start_time": "2023-07-18T09:11:34.109Z"
   },
   {
    "duration": 242,
    "start_time": "2023-07-18T09:11:34.118Z"
   },
   {
    "duration": 4,
    "start_time": "2023-07-18T09:11:34.366Z"
   },
   {
    "duration": 338,
    "start_time": "2023-07-18T09:11:34.373Z"
   },
   {
    "duration": 60,
    "start_time": "2023-07-18T09:11:34.713Z"
   },
   {
    "duration": 239,
    "start_time": "2023-07-18T09:11:34.775Z"
   },
   {
    "duration": 3,
    "start_time": "2023-07-18T09:11:35.016Z"
   },
   {
    "duration": 52,
    "start_time": "2023-07-18T09:11:35.021Z"
   },
   {
    "duration": 290,
    "start_time": "2023-07-18T09:11:35.075Z"
   },
   {
    "duration": 22,
    "start_time": "2023-07-18T09:15:58.967Z"
   },
   {
    "duration": 7,
    "start_time": "2023-07-18T09:16:30.611Z"
   },
   {
    "duration": 52,
    "start_time": "2023-07-18T09:17:52.289Z"
   },
   {
    "duration": 29,
    "start_time": "2023-07-18T09:19:50.494Z"
   },
   {
    "duration": 6,
    "start_time": "2023-07-18T09:20:28.226Z"
   },
   {
    "duration": 117,
    "start_time": "2023-07-18T09:20:35.641Z"
   },
   {
    "duration": 6,
    "start_time": "2023-07-18T09:20:44.678Z"
   },
   {
    "duration": 16,
    "start_time": "2023-07-18T09:20:48.578Z"
   },
   {
    "duration": 15,
    "start_time": "2023-07-18T09:20:50.872Z"
   },
   {
    "duration": 7,
    "start_time": "2023-07-18T09:20:54.159Z"
   },
   {
    "duration": 12,
    "start_time": "2023-07-18T09:20:58.508Z"
   },
   {
    "duration": 171,
    "start_time": "2023-07-18T09:21:34.289Z"
   },
   {
    "duration": 154,
    "start_time": "2023-07-18T09:22:00.251Z"
   },
   {
    "duration": 144,
    "start_time": "2023-07-18T09:22:06.403Z"
   },
   {
    "duration": 170,
    "start_time": "2023-07-18T09:22:24.679Z"
   },
   {
    "duration": 206,
    "start_time": "2023-07-18T09:22:52.785Z"
   },
   {
    "duration": 658,
    "start_time": "2023-07-18T09:31:13.244Z"
   },
   {
    "duration": 636,
    "start_time": "2023-07-18T09:33:01.574Z"
   },
   {
    "duration": 11,
    "start_time": "2023-07-18T09:34:46.189Z"
   },
   {
    "duration": 175,
    "start_time": "2023-07-18T09:34:50.580Z"
   },
   {
    "duration": 145,
    "start_time": "2023-07-18T09:35:06.922Z"
   },
   {
    "duration": 187,
    "start_time": "2023-07-18T09:35:42.723Z"
   },
   {
    "duration": 22,
    "start_time": "2023-07-18T09:35:44.223Z"
   },
   {
    "duration": 365,
    "start_time": "2023-07-18T09:36:11.782Z"
   },
   {
    "duration": 29,
    "start_time": "2023-07-18T09:36:41.193Z"
   },
   {
    "duration": 63,
    "start_time": "2023-07-18T09:36:48.963Z"
   },
   {
    "duration": 67,
    "start_time": "2023-07-18T09:37:00.995Z"
   },
   {
    "duration": 4,
    "start_time": "2023-07-18T09:39:16.935Z"
   },
   {
    "duration": 1625,
    "start_time": "2023-07-18T09:39:17.284Z"
   },
   {
    "duration": 5,
    "start_time": "2023-07-18T09:39:18.912Z"
   },
   {
    "duration": 207,
    "start_time": "2023-07-18T09:39:18.918Z"
   },
   {
    "duration": 4,
    "start_time": "2023-07-18T09:39:19.128Z"
   },
   {
    "duration": 319,
    "start_time": "2023-07-18T09:39:19.133Z"
   },
   {
    "duration": 52,
    "start_time": "2023-07-18T09:39:19.454Z"
   },
   {
    "duration": 60,
    "start_time": "2023-07-18T09:39:19.509Z"
   },
   {
    "duration": 461,
    "start_time": "2023-07-18T09:39:20.794Z"
   },
   {
    "duration": 41,
    "start_time": "2023-07-18T09:39:27.473Z"
   },
   {
    "duration": 507,
    "start_time": "2023-07-18T09:39:39.805Z"
   },
   {
    "duration": 42,
    "start_time": "2023-07-18T09:39:48.084Z"
   },
   {
    "duration": 41,
    "start_time": "2023-07-18T09:45:23.317Z"
   },
   {
    "duration": 29,
    "start_time": "2023-07-18T09:45:44.996Z"
   },
   {
    "duration": 20,
    "start_time": "2023-07-18T09:45:49.794Z"
   },
   {
    "duration": 267,
    "start_time": "2023-07-18T09:45:55.843Z"
   },
   {
    "duration": 1458,
    "start_time": "2023-07-18T09:46:12.049Z"
   },
   {
    "duration": 1323,
    "start_time": "2023-07-18T09:46:13.509Z"
   },
   {
    "duration": 6,
    "start_time": "2023-07-18T09:46:14.834Z"
   },
   {
    "duration": 173,
    "start_time": "2023-07-18T09:46:14.842Z"
   },
   {
    "duration": 3,
    "start_time": "2023-07-18T09:46:15.017Z"
   },
   {
    "duration": 273,
    "start_time": "2023-07-18T09:46:15.022Z"
   },
   {
    "duration": 52,
    "start_time": "2023-07-18T09:46:15.297Z"
   },
   {
    "duration": 50,
    "start_time": "2023-07-18T09:46:15.351Z"
   },
   {
    "duration": 292,
    "start_time": "2023-07-18T09:46:15.403Z"
   },
   {
    "duration": 540,
    "start_time": "2023-07-18T09:46:15.698Z"
   },
   {
    "duration": 259,
    "start_time": "2023-07-18T09:46:16.239Z"
   },
   {
    "duration": 7,
    "start_time": "2023-07-18T09:47:12.777Z"
   },
   {
    "duration": 169,
    "start_time": "2023-07-18T09:47:16.218Z"
   },
   {
    "duration": 112,
    "start_time": "2023-07-18T09:47:25.656Z"
   },
   {
    "duration": 144,
    "start_time": "2023-07-18T09:47:47.043Z"
   },
   {
    "duration": 7,
    "start_time": "2023-07-18T09:48:09.256Z"
   },
   {
    "duration": 6,
    "start_time": "2023-07-18T09:48:15.282Z"
   },
   {
    "duration": 8,
    "start_time": "2023-07-18T09:48:17.743Z"
   },
   {
    "duration": 9,
    "start_time": "2023-07-18T09:48:26.184Z"
   },
   {
    "duration": 6,
    "start_time": "2023-07-18T09:48:39.143Z"
   },
   {
    "duration": 5,
    "start_time": "2023-07-18T09:48:49.979Z"
   },
   {
    "duration": 6,
    "start_time": "2023-07-18T09:48:55.451Z"
   },
   {
    "duration": 24,
    "start_time": "2023-07-18T09:50:16.683Z"
   },
   {
    "duration": 20,
    "start_time": "2023-07-18T09:50:28.891Z"
   },
   {
    "duration": 15,
    "start_time": "2023-07-18T09:50:43.823Z"
   },
   {
    "duration": 48,
    "start_time": "2023-07-18T09:53:03.017Z"
   },
   {
    "duration": 1261,
    "start_time": "2023-07-18T09:56:23.940Z"
   },
   {
    "duration": 2039,
    "start_time": "2023-07-18T09:56:25.203Z"
   },
   {
    "duration": 5,
    "start_time": "2023-07-18T09:56:27.244Z"
   },
   {
    "duration": 124,
    "start_time": "2023-07-18T09:56:27.251Z"
   },
   {
    "duration": 3,
    "start_time": "2023-07-18T09:56:27.378Z"
   },
   {
    "duration": 242,
    "start_time": "2023-07-18T09:56:27.384Z"
   },
   {
    "duration": 58,
    "start_time": "2023-07-18T09:56:27.628Z"
   },
   {
    "duration": 31,
    "start_time": "2023-07-18T09:56:27.688Z"
   },
   {
    "duration": 498,
    "start_time": "2023-07-18T09:56:27.721Z"
   },
   {
    "duration": 7,
    "start_time": "2023-07-18T09:56:28.221Z"
   },
   {
    "duration": 78,
    "start_time": "2023-07-18T09:56:28.230Z"
   },
   {
    "duration": 1425,
    "start_time": "2023-07-18T12:34:03.240Z"
   },
   {
    "duration": 1887,
    "start_time": "2023-07-18T12:34:04.675Z"
   },
   {
    "duration": 12,
    "start_time": "2023-07-18T12:34:06.563Z"
   },
   {
    "duration": 164,
    "start_time": "2023-07-18T12:34:06.577Z"
   },
   {
    "duration": 4,
    "start_time": "2023-07-18T12:34:06.743Z"
   },
   {
    "duration": 305,
    "start_time": "2023-07-18T12:34:06.748Z"
   },
   {
    "duration": 54,
    "start_time": "2023-07-18T12:34:07.055Z"
   },
   {
    "duration": 33,
    "start_time": "2023-07-18T12:34:07.111Z"
   },
   {
    "duration": 549,
    "start_time": "2023-07-18T12:34:07.146Z"
   },
   {
    "duration": 6,
    "start_time": "2023-07-18T12:34:07.697Z"
   },
   {
    "duration": 70,
    "start_time": "2023-07-18T12:34:07.705Z"
   },
   {
    "duration": 37,
    "start_time": "2023-07-18T12:44:30.613Z"
   },
   {
    "duration": 56,
    "start_time": "2023-07-18T12:44:36.752Z"
   },
   {
    "duration": 75,
    "start_time": "2023-07-18T12:45:01.754Z"
   },
   {
    "duration": 85,
    "start_time": "2023-07-18T12:45:10.654Z"
   },
   {
    "duration": 7,
    "start_time": "2023-07-18T13:41:52.505Z"
   },
   {
    "duration": 34,
    "start_time": "2023-07-18T13:41:57.912Z"
   },
   {
    "duration": 32,
    "start_time": "2023-07-18T13:42:01.947Z"
   },
   {
    "duration": 44,
    "start_time": "2023-07-18T13:45:35.636Z"
   },
   {
    "duration": 20,
    "start_time": "2023-07-18T13:49:17.515Z"
   },
   {
    "duration": 30,
    "start_time": "2023-07-18T13:49:27.646Z"
   },
   {
    "duration": 3,
    "start_time": "2023-07-18T13:49:30.262Z"
   },
   {
    "duration": 106,
    "start_time": "2023-07-18T13:49:34.924Z"
   },
   {
    "duration": 1260,
    "start_time": "2023-07-18T13:49:39.044Z"
   },
   {
    "duration": 1879,
    "start_time": "2023-07-18T13:49:40.306Z"
   },
   {
    "duration": 5,
    "start_time": "2023-07-18T13:49:42.188Z"
   },
   {
    "duration": 159,
    "start_time": "2023-07-18T13:49:42.195Z"
   },
   {
    "duration": 11,
    "start_time": "2023-07-18T13:49:42.356Z"
   },
   {
    "duration": 235,
    "start_time": "2023-07-18T13:49:42.369Z"
   },
   {
    "duration": 61,
    "start_time": "2023-07-18T13:49:42.606Z"
   },
   {
    "duration": 62,
    "start_time": "2023-07-18T13:49:42.669Z"
   },
   {
    "duration": 601,
    "start_time": "2023-07-18T13:49:42.733Z"
   },
   {
    "duration": 5,
    "start_time": "2023-07-18T13:49:43.336Z"
   },
   {
    "duration": 85,
    "start_time": "2023-07-18T13:49:43.343Z"
   },
   {
    "duration": 40,
    "start_time": "2023-07-18T13:49:43.430Z"
   },
   {
    "duration": 49,
    "start_time": "2023-07-18T13:49:43.472Z"
   },
   {
    "duration": 17,
    "start_time": "2023-07-18T13:49:43.524Z"
   },
   {
    "duration": 1206,
    "start_time": "2023-07-18T13:51:46.502Z"
   },
   {
    "duration": 1338,
    "start_time": "2023-07-18T13:51:47.710Z"
   },
   {
    "duration": 5,
    "start_time": "2023-07-18T13:51:49.049Z"
   },
   {
    "duration": 135,
    "start_time": "2023-07-18T13:51:49.066Z"
   },
   {
    "duration": 3,
    "start_time": "2023-07-18T13:51:49.203Z"
   },
   {
    "duration": 287,
    "start_time": "2023-07-18T13:51:49.209Z"
   },
   {
    "duration": 46,
    "start_time": "2023-07-18T13:51:49.498Z"
   },
   {
    "duration": 47,
    "start_time": "2023-07-18T13:51:49.546Z"
   },
   {
    "duration": 489,
    "start_time": "2023-07-18T13:51:49.595Z"
   },
   {
    "duration": 5,
    "start_time": "2023-07-18T13:51:50.087Z"
   },
   {
    "duration": 32,
    "start_time": "2023-07-18T13:51:50.094Z"
   },
   {
    "duration": 58,
    "start_time": "2023-07-18T13:51:50.128Z"
   },
   {
    "duration": 31,
    "start_time": "2023-07-18T13:51:50.188Z"
   },
   {
    "duration": 1230,
    "start_time": "2023-07-18T13:52:10.882Z"
   },
   {
    "duration": 1298,
    "start_time": "2023-07-18T13:52:12.114Z"
   },
   {
    "duration": 5,
    "start_time": "2023-07-18T13:52:13.413Z"
   },
   {
    "duration": 169,
    "start_time": "2023-07-18T13:52:13.421Z"
   },
   {
    "duration": 4,
    "start_time": "2023-07-18T13:52:13.592Z"
   },
   {
    "duration": 245,
    "start_time": "2023-07-18T13:52:13.597Z"
   },
   {
    "duration": 56,
    "start_time": "2023-07-18T13:52:13.843Z"
   },
   {
    "duration": 42,
    "start_time": "2023-07-18T13:52:13.902Z"
   },
   {
    "duration": 515,
    "start_time": "2023-07-18T13:52:13.947Z"
   },
   {
    "duration": 6,
    "start_time": "2023-07-18T13:52:14.466Z"
   },
   {
    "duration": 72,
    "start_time": "2023-07-18T13:52:14.473Z"
   },
   {
    "duration": 98,
    "start_time": "2023-07-18T13:52:14.547Z"
   },
   {
    "duration": 0,
    "start_time": "2023-07-18T13:52:14.648Z"
   },
   {
    "duration": 10,
    "start_time": "2023-07-18T13:52:21.585Z"
   },
   {
    "duration": 1202,
    "start_time": "2023-07-18T13:52:26.004Z"
   },
   {
    "duration": 1376,
    "start_time": "2023-07-18T13:52:27.209Z"
   },
   {
    "duration": 5,
    "start_time": "2023-07-18T13:52:28.587Z"
   },
   {
    "duration": 137,
    "start_time": "2023-07-18T13:52:28.594Z"
   },
   {
    "duration": 4,
    "start_time": "2023-07-18T13:52:28.733Z"
   },
   {
    "duration": 241,
    "start_time": "2023-07-18T13:52:28.739Z"
   },
   {
    "duration": 51,
    "start_time": "2023-07-18T13:52:28.981Z"
   },
   {
    "duration": 51,
    "start_time": "2023-07-18T13:52:29.034Z"
   },
   {
    "duration": 469,
    "start_time": "2023-07-18T13:52:29.087Z"
   },
   {
    "duration": 9,
    "start_time": "2023-07-18T13:52:29.558Z"
   },
   {
    "duration": 87,
    "start_time": "2023-07-18T13:52:29.569Z"
   },
   {
    "duration": 31,
    "start_time": "2023-07-18T13:52:29.658Z"
   },
   {
    "duration": 31,
    "start_time": "2023-07-18T13:52:29.691Z"
   },
   {
    "duration": 4,
    "start_time": "2023-07-18T13:53:16.837Z"
   },
   {
    "duration": 1233,
    "start_time": "2023-07-18T13:53:16.916Z"
   },
   {
    "duration": 5,
    "start_time": "2023-07-18T13:53:18.151Z"
   },
   {
    "duration": 122,
    "start_time": "2023-07-18T13:53:18.166Z"
   },
   {
    "duration": 3,
    "start_time": "2023-07-18T13:53:18.290Z"
   },
   {
    "duration": 215,
    "start_time": "2023-07-18T13:53:18.295Z"
   },
   {
    "duration": 56,
    "start_time": "2023-07-18T13:53:18.511Z"
   },
   {
    "duration": 35,
    "start_time": "2023-07-18T13:53:18.569Z"
   },
   {
    "duration": 439,
    "start_time": "2023-07-18T13:53:18.606Z"
   },
   {
    "duration": 6,
    "start_time": "2023-07-18T13:53:19.046Z"
   },
   {
    "duration": 71,
    "start_time": "2023-07-18T13:53:19.054Z"
   },
   {
    "duration": 34,
    "start_time": "2023-07-18T13:53:19.637Z"
   },
   {
    "duration": 19,
    "start_time": "2023-07-18T13:53:20.286Z"
   },
   {
    "duration": 73,
    "start_time": "2023-07-18T13:55:55.195Z"
   },
   {
    "duration": 1263,
    "start_time": "2023-07-18T14:04:32.492Z"
   },
   {
    "duration": 1366,
    "start_time": "2023-07-18T14:04:33.758Z"
   },
   {
    "duration": 5,
    "start_time": "2023-07-18T14:04:35.126Z"
   },
   {
    "duration": 158,
    "start_time": "2023-07-18T14:04:35.133Z"
   },
   {
    "duration": 4,
    "start_time": "2023-07-18T14:04:35.293Z"
   },
   {
    "duration": 256,
    "start_time": "2023-07-18T14:04:35.299Z"
   },
   {
    "duration": 59,
    "start_time": "2023-07-18T14:04:35.557Z"
   },
   {
    "duration": 51,
    "start_time": "2023-07-18T14:04:35.618Z"
   },
   {
    "duration": 569,
    "start_time": "2023-07-18T14:04:35.671Z"
   },
   {
    "duration": 6,
    "start_time": "2023-07-18T14:04:36.243Z"
   },
   {
    "duration": 91,
    "start_time": "2023-07-18T14:04:36.251Z"
   },
   {
    "duration": 44,
    "start_time": "2023-07-18T14:04:36.344Z"
   },
   {
    "duration": 19,
    "start_time": "2023-07-18T14:04:40.735Z"
   },
   {
    "duration": 19,
    "start_time": "2023-07-18T14:06:06.107Z"
   },
   {
    "duration": 6,
    "start_time": "2023-07-18T14:06:14.599Z"
   },
   {
    "duration": 1259,
    "start_time": "2023-07-18T14:06:29.596Z"
   },
   {
    "duration": 1443,
    "start_time": "2023-07-18T14:06:30.858Z"
   },
   {
    "duration": 10,
    "start_time": "2023-07-18T14:06:32.303Z"
   },
   {
    "duration": 167,
    "start_time": "2023-07-18T14:06:32.317Z"
   },
   {
    "duration": 4,
    "start_time": "2023-07-18T14:06:32.487Z"
   },
   {
    "duration": 285,
    "start_time": "2023-07-18T14:06:32.493Z"
   },
   {
    "duration": 56,
    "start_time": "2023-07-18T14:06:32.780Z"
   },
   {
    "duration": 71,
    "start_time": "2023-07-18T14:06:32.838Z"
   },
   {
    "duration": 553,
    "start_time": "2023-07-18T14:06:32.910Z"
   },
   {
    "duration": 10,
    "start_time": "2023-07-18T14:06:33.467Z"
   },
   {
    "duration": 111,
    "start_time": "2023-07-18T14:06:33.480Z"
   },
   {
    "duration": 34,
    "start_time": "2023-07-18T14:06:33.593Z"
   },
   {
    "duration": 20,
    "start_time": "2023-07-18T14:06:37.593Z"
   },
   {
    "duration": 60,
    "start_time": "2023-07-18T14:08:01.120Z"
   },
   {
    "duration": 120,
    "start_time": "2023-07-18T14:08:07.879Z"
   },
   {
    "duration": 20,
    "start_time": "2023-07-18T14:13:41.342Z"
   },
   {
    "duration": 7,
    "start_time": "2023-07-18T14:14:02.904Z"
   },
   {
    "duration": 198,
    "start_time": "2023-07-18T14:17:04.442Z"
   },
   {
    "duration": 323,
    "start_time": "2023-07-18T14:17:14.096Z"
   },
   {
    "duration": 1403,
    "start_time": "2023-07-18T14:17:31.583Z"
   },
   {
    "duration": 323,
    "start_time": "2023-07-18T14:17:39.188Z"
   },
   {
    "duration": 333,
    "start_time": "2023-07-18T14:17:45.853Z"
   },
   {
    "duration": 6,
    "start_time": "2023-07-18T14:19:05.391Z"
   },
   {
    "duration": 107,
    "start_time": "2023-07-18T14:19:13.544Z"
   },
   {
    "duration": 108,
    "start_time": "2023-07-18T14:19:45.563Z"
   },
   {
    "duration": 9,
    "start_time": "2023-07-18T14:19:51.384Z"
   },
   {
    "duration": 8,
    "start_time": "2023-07-18T14:19:54.927Z"
   },
   {
    "duration": 8,
    "start_time": "2023-07-18T14:19:57.084Z"
   },
   {
    "duration": 9,
    "start_time": "2023-07-18T14:20:00.109Z"
   },
   {
    "duration": 9,
    "start_time": "2023-07-18T14:20:04.166Z"
   },
   {
    "duration": 8,
    "start_time": "2023-07-18T14:20:08.058Z"
   },
   {
    "duration": 9,
    "start_time": "2023-07-18T14:20:13.846Z"
   },
   {
    "duration": 8,
    "start_time": "2023-07-18T14:20:29.427Z"
   },
   {
    "duration": 7,
    "start_time": "2023-07-18T14:20:33.562Z"
   },
   {
    "duration": 6,
    "start_time": "2023-07-18T14:20:54.465Z"
   },
   {
    "duration": 51,
    "start_time": "2023-07-18T14:21:05.856Z"
   },
   {
    "duration": 88,
    "start_time": "2023-07-18T14:21:17.482Z"
   },
   {
    "duration": 1256,
    "start_time": "2023-07-18T14:22:26.760Z"
   },
   {
    "duration": 1409,
    "start_time": "2023-07-18T14:22:28.018Z"
   },
   {
    "duration": 5,
    "start_time": "2023-07-18T14:22:29.429Z"
   },
   {
    "duration": 139,
    "start_time": "2023-07-18T14:22:29.436Z"
   },
   {
    "duration": 4,
    "start_time": "2023-07-18T14:22:29.577Z"
   },
   {
    "duration": 235,
    "start_time": "2023-07-18T14:22:29.583Z"
   },
   {
    "duration": 66,
    "start_time": "2023-07-18T14:22:29.820Z"
   },
   {
    "duration": 42,
    "start_time": "2023-07-18T14:22:29.890Z"
   },
   {
    "duration": 512,
    "start_time": "2023-07-18T14:22:29.934Z"
   },
   {
    "duration": 5,
    "start_time": "2023-07-18T14:22:30.448Z"
   },
   {
    "duration": 116,
    "start_time": "2023-07-18T14:22:30.455Z"
   },
   {
    "duration": 38,
    "start_time": "2023-07-18T14:22:30.573Z"
   },
   {
    "duration": 88,
    "start_time": "2023-07-18T14:22:30.612Z"
   },
   {
    "duration": 183,
    "start_time": "2023-07-18T14:22:30.703Z"
   },
   {
    "duration": 0,
    "start_time": "2023-07-18T14:22:30.887Z"
   },
   {
    "duration": 20,
    "start_time": "2023-07-18T14:22:39.580Z"
   },
   {
    "duration": 39,
    "start_time": "2023-07-18T14:22:47.880Z"
   },
   {
    "duration": 1212,
    "start_time": "2023-07-18T14:22:55.682Z"
   },
   {
    "duration": 477,
    "start_time": "2023-07-18T14:23:01.401Z"
   },
   {
    "duration": 19,
    "start_time": "2023-07-18T14:24:32.188Z"
   },
   {
    "duration": 1074,
    "start_time": "2023-07-18T14:24:58.687Z"
   },
   {
    "duration": 21,
    "start_time": "2023-07-18T14:25:02.641Z"
   },
   {
    "duration": 1083,
    "start_time": "2023-07-18T14:25:24.822Z"
   },
   {
    "duration": 14,
    "start_time": "2023-07-18T14:25:26.526Z"
   },
   {
    "duration": 1160,
    "start_time": "2023-07-18T14:26:06.299Z"
   },
   {
    "duration": 23,
    "start_time": "2023-07-18T14:26:10.954Z"
   },
   {
    "duration": 218,
    "start_time": "2023-07-18T14:26:29.449Z"
   },
   {
    "duration": 1270,
    "start_time": "2023-07-18T14:26:38.955Z"
   },
   {
    "duration": 1362,
    "start_time": "2023-07-18T14:26:40.227Z"
   },
   {
    "duration": 5,
    "start_time": "2023-07-18T14:26:41.591Z"
   },
   {
    "duration": 131,
    "start_time": "2023-07-18T14:26:41.598Z"
   },
   {
    "duration": 3,
    "start_time": "2023-07-18T14:26:41.731Z"
   },
   {
    "duration": 293,
    "start_time": "2023-07-18T14:26:41.736Z"
   },
   {
    "duration": 62,
    "start_time": "2023-07-18T14:26:42.031Z"
   },
   {
    "duration": 48,
    "start_time": "2023-07-18T14:26:42.095Z"
   },
   {
    "duration": 523,
    "start_time": "2023-07-18T14:26:42.145Z"
   },
   {
    "duration": 6,
    "start_time": "2023-07-18T14:26:42.671Z"
   },
   {
    "duration": 44,
    "start_time": "2023-07-18T14:26:42.679Z"
   },
   {
    "duration": 50,
    "start_time": "2023-07-18T14:26:42.726Z"
   },
   {
    "duration": 27,
    "start_time": "2023-07-18T14:26:42.778Z"
   },
   {
    "duration": 366,
    "start_time": "2023-07-18T14:26:42.807Z"
   },
   {
    "duration": 284,
    "start_time": "2023-07-18T14:26:43.175Z"
   },
   {
    "duration": 0,
    "start_time": "2023-07-18T14:26:43.461Z"
   },
   {
    "duration": 0,
    "start_time": "2023-07-18T14:26:43.462Z"
   },
   {
    "duration": 0,
    "start_time": "2023-07-18T14:26:43.464Z"
   },
   {
    "duration": 37,
    "start_time": "2023-07-18T14:26:52.770Z"
   },
   {
    "duration": 1500,
    "start_time": "2023-07-18T14:27:00.999Z"
   },
   {
    "duration": 1522,
    "start_time": "2023-07-18T14:27:08.965Z"
   },
   {
    "duration": 15,
    "start_time": "2023-07-18T14:27:12.550Z"
   },
   {
    "duration": 25,
    "start_time": "2023-07-18T14:27:19.517Z"
   },
   {
    "duration": 1286,
    "start_time": "2023-07-18T14:27:32.221Z"
   },
   {
    "duration": 1424,
    "start_time": "2023-07-18T14:27:33.510Z"
   },
   {
    "duration": 5,
    "start_time": "2023-07-18T14:27:34.936Z"
   },
   {
    "duration": 146,
    "start_time": "2023-07-18T14:27:34.944Z"
   },
   {
    "duration": 3,
    "start_time": "2023-07-18T14:27:35.092Z"
   },
   {
    "duration": 245,
    "start_time": "2023-07-18T14:27:35.097Z"
   },
   {
    "duration": 62,
    "start_time": "2023-07-18T14:27:35.344Z"
   },
   {
    "duration": 51,
    "start_time": "2023-07-18T14:27:35.409Z"
   },
   {
    "duration": 512,
    "start_time": "2023-07-18T14:27:35.462Z"
   },
   {
    "duration": 6,
    "start_time": "2023-07-18T14:27:35.976Z"
   },
   {
    "duration": 97,
    "start_time": "2023-07-18T14:27:35.984Z"
   },
   {
    "duration": 35,
    "start_time": "2023-07-18T14:27:36.084Z"
   },
   {
    "duration": 106,
    "start_time": "2023-07-18T14:27:36.121Z"
   },
   {
    "duration": 343,
    "start_time": "2023-07-18T14:27:36.229Z"
   },
   {
    "duration": 1373,
    "start_time": "2023-07-18T14:27:36.574Z"
   },
   {
    "duration": 0,
    "start_time": "2023-07-18T14:27:37.948Z"
   },
   {
    "duration": 0,
    "start_time": "2023-07-18T14:27:37.950Z"
   },
   {
    "duration": 0,
    "start_time": "2023-07-18T14:27:37.951Z"
   },
   {
    "duration": 21,
    "start_time": "2023-07-18T14:27:54.847Z"
   },
   {
    "duration": 14,
    "start_time": "2023-07-18T14:28:06.659Z"
   },
   {
    "duration": 5,
    "start_time": "2023-07-18T14:28:14.218Z"
   },
   {
    "duration": 15,
    "start_time": "2023-07-18T14:28:20.062Z"
   },
   {
    "duration": 15,
    "start_time": "2023-07-18T14:28:36.462Z"
   },
   {
    "duration": 185,
    "start_time": "2023-07-18T14:28:42.482Z"
   },
   {
    "duration": 4,
    "start_time": "2023-07-18T14:29:25.055Z"
   },
   {
    "duration": 1377,
    "start_time": "2023-07-18T14:29:25.136Z"
   },
   {
    "duration": 5,
    "start_time": "2023-07-18T14:29:26.515Z"
   },
   {
    "duration": 147,
    "start_time": "2023-07-18T14:29:26.521Z"
   },
   {
    "duration": 7,
    "start_time": "2023-07-18T14:29:26.672Z"
   },
   {
    "duration": 237,
    "start_time": "2023-07-18T14:29:26.682Z"
   },
   {
    "duration": 58,
    "start_time": "2023-07-18T14:29:26.921Z"
   },
   {
    "duration": 33,
    "start_time": "2023-07-18T14:29:27.124Z"
   },
   {
    "duration": 491,
    "start_time": "2023-07-18T14:29:28.425Z"
   },
   {
    "duration": 6,
    "start_time": "2023-07-18T14:29:29.847Z"
   },
   {
    "duration": 77,
    "start_time": "2023-07-18T14:29:32.841Z"
   },
   {
    "duration": 31,
    "start_time": "2023-07-18T14:29:33.605Z"
   },
   {
    "duration": 19,
    "start_time": "2023-07-18T14:29:35.912Z"
   },
   {
    "duration": 317,
    "start_time": "2023-07-18T14:29:37.422Z"
   },
   {
    "duration": 22,
    "start_time": "2023-07-18T14:29:40.190Z"
   },
   {
    "duration": 1185,
    "start_time": "2023-07-18T14:29:49.188Z"
   },
   {
    "duration": 13,
    "start_time": "2023-07-18T14:29:52.922Z"
   },
   {
    "duration": 18,
    "start_time": "2023-07-18T14:30:14.735Z"
   },
   {
    "duration": 19,
    "start_time": "2023-07-18T14:30:21.999Z"
   },
   {
    "duration": 206,
    "start_time": "2023-07-18T14:31:36.589Z"
   },
   {
    "duration": 1233,
    "start_time": "2023-07-18T14:31:50.079Z"
   },
   {
    "duration": 1398,
    "start_time": "2023-07-18T14:31:51.315Z"
   },
   {
    "duration": 5,
    "start_time": "2023-07-18T14:31:52.715Z"
   },
   {
    "duration": 143,
    "start_time": "2023-07-18T14:31:52.722Z"
   },
   {
    "duration": 4,
    "start_time": "2023-07-18T14:31:52.869Z"
   },
   {
    "duration": 274,
    "start_time": "2023-07-18T14:31:52.876Z"
   },
   {
    "duration": 67,
    "start_time": "2023-07-18T14:31:53.152Z"
   },
   {
    "duration": 38,
    "start_time": "2023-07-18T14:31:53.220Z"
   },
   {
    "duration": 504,
    "start_time": "2023-07-18T14:31:53.267Z"
   },
   {
    "duration": 7,
    "start_time": "2023-07-18T14:31:53.773Z"
   },
   {
    "duration": 44,
    "start_time": "2023-07-18T14:31:53.782Z"
   },
   {
    "duration": 42,
    "start_time": "2023-07-18T14:31:53.828Z"
   },
   {
    "duration": 22,
    "start_time": "2023-07-18T14:31:53.871Z"
   },
   {
    "duration": 408,
    "start_time": "2023-07-18T14:31:53.896Z"
   },
   {
    "duration": 25,
    "start_time": "2023-07-18T14:31:54.312Z"
   },
   {
    "duration": 1367,
    "start_time": "2023-07-18T14:31:54.338Z"
   },
   {
    "duration": 116,
    "start_time": "2023-07-18T14:31:55.708Z"
   },
   {
    "duration": 94,
    "start_time": "2023-07-18T14:31:55.826Z"
   },
   {
    "duration": 438,
    "start_time": "2023-07-18T14:31:55.921Z"
   },
   {
    "duration": 29,
    "start_time": "2023-07-18T14:31:56.361Z"
   },
   {
    "duration": 20,
    "start_time": "2023-07-18T14:32:02.109Z"
   },
   {
    "duration": 108,
    "start_time": "2023-07-18T14:34:22.867Z"
   },
   {
    "duration": 9,
    "start_time": "2023-07-18T14:36:02.130Z"
   },
   {
    "duration": 8,
    "start_time": "2023-07-18T14:36:42.497Z"
   },
   {
    "duration": 23,
    "start_time": "2023-07-18T14:37:00.613Z"
   },
   {
    "duration": 1511,
    "start_time": "2023-07-18T14:38:30.706Z"
   },
   {
    "duration": 22,
    "start_time": "2023-07-18T14:38:33.847Z"
   },
   {
    "duration": 13,
    "start_time": "2023-07-18T14:38:57.804Z"
   },
   {
    "duration": 324,
    "start_time": "2023-07-18T14:39:14.789Z"
   },
   {
    "duration": 0,
    "start_time": "2023-07-18T14:39:15.115Z"
   },
   {
    "duration": 1211,
    "start_time": "2023-07-18T14:39:19.385Z"
   },
   {
    "duration": 1384,
    "start_time": "2023-07-18T14:39:20.598Z"
   },
   {
    "duration": 5,
    "start_time": "2023-07-18T14:39:21.983Z"
   },
   {
    "duration": 128,
    "start_time": "2023-07-18T14:39:21.990Z"
   },
   {
    "duration": 3,
    "start_time": "2023-07-18T14:39:22.120Z"
   },
   {
    "duration": 289,
    "start_time": "2023-07-18T14:39:22.125Z"
   },
   {
    "duration": 53,
    "start_time": "2023-07-18T14:39:22.416Z"
   },
   {
    "duration": 55,
    "start_time": "2023-07-18T14:39:22.471Z"
   },
   {
    "duration": 517,
    "start_time": "2023-07-18T14:39:22.527Z"
   },
   {
    "duration": 6,
    "start_time": "2023-07-18T14:39:23.045Z"
   },
   {
    "duration": 66,
    "start_time": "2023-07-18T14:39:23.052Z"
   },
   {
    "duration": 31,
    "start_time": "2023-07-18T14:39:23.120Z"
   },
   {
    "duration": 44,
    "start_time": "2023-07-18T14:39:23.153Z"
   },
   {
    "duration": 345,
    "start_time": "2023-07-18T14:39:23.199Z"
   },
   {
    "duration": 22,
    "start_time": "2023-07-18T14:39:23.545Z"
   },
   {
    "duration": 1514,
    "start_time": "2023-07-18T14:39:23.569Z"
   },
   {
    "duration": 19,
    "start_time": "2023-07-18T14:39:25.085Z"
   },
   {
    "duration": 168,
    "start_time": "2023-07-18T14:39:25.105Z"
   },
   {
    "duration": 1225,
    "start_time": "2023-07-18T14:39:50.382Z"
   },
   {
    "duration": 1461,
    "start_time": "2023-07-18T14:39:51.610Z"
   },
   {
    "duration": 4,
    "start_time": "2023-07-18T14:39:53.073Z"
   },
   {
    "duration": 174,
    "start_time": "2023-07-18T14:39:53.079Z"
   },
   {
    "duration": 4,
    "start_time": "2023-07-18T14:39:53.256Z"
   },
   {
    "duration": 231,
    "start_time": "2023-07-18T14:39:53.262Z"
   },
   {
    "duration": 55,
    "start_time": "2023-07-18T14:39:53.494Z"
   },
   {
    "duration": 43,
    "start_time": "2023-07-18T14:39:53.550Z"
   },
   {
    "duration": 503,
    "start_time": "2023-07-18T14:39:53.595Z"
   },
   {
    "duration": 7,
    "start_time": "2023-07-18T14:39:54.101Z"
   },
   {
    "duration": 89,
    "start_time": "2023-07-18T14:39:54.116Z"
   },
   {
    "duration": 31,
    "start_time": "2023-07-18T14:39:54.207Z"
   },
   {
    "duration": 29,
    "start_time": "2023-07-18T14:39:54.241Z"
   },
   {
    "duration": 323,
    "start_time": "2023-07-18T14:39:54.272Z"
   },
   {
    "duration": 18,
    "start_time": "2023-07-18T14:39:54.597Z"
   },
   {
    "duration": 1367,
    "start_time": "2023-07-18T14:39:54.617Z"
   },
   {
    "duration": 20,
    "start_time": "2023-07-18T14:39:55.986Z"
   },
   {
    "duration": 20,
    "start_time": "2023-07-18T14:39:56.008Z"
   },
   {
    "duration": 170,
    "start_time": "2023-07-18T14:40:10.076Z"
   },
   {
    "duration": 276,
    "start_time": "2023-07-18T14:40:17.622Z"
   },
   {
    "duration": 283,
    "start_time": "2023-07-18T14:45:07.578Z"
   },
   {
    "duration": 6,
    "start_time": "2023-07-18T14:51:37.090Z"
   },
   {
    "duration": 16,
    "start_time": "2023-07-18T14:53:09.489Z"
   },
   {
    "duration": 35,
    "start_time": "2023-07-18T14:53:19.407Z"
   },
   {
    "duration": 21,
    "start_time": "2023-07-18T14:53:30.987Z"
   },
   {
    "duration": 308,
    "start_time": "2023-07-18T16:04:09.068Z"
   },
   {
    "duration": 17,
    "start_time": "2023-07-18T16:04:31.420Z"
   },
   {
    "duration": 153,
    "start_time": "2023-07-18T16:04:42.769Z"
   },
   {
    "duration": 143,
    "start_time": "2023-07-18T16:05:02.586Z"
   },
   {
    "duration": 142,
    "start_time": "2023-07-18T16:05:07.553Z"
   },
   {
    "duration": 5,
    "start_time": "2023-07-18T16:05:13.202Z"
   },
   {
    "duration": 1731,
    "start_time": "2023-07-18T16:05:13.284Z"
   },
   {
    "duration": 6,
    "start_time": "2023-07-18T16:05:15.018Z"
   },
   {
    "duration": 137,
    "start_time": "2023-07-18T16:05:15.026Z"
   },
   {
    "duration": 4,
    "start_time": "2023-07-18T16:05:15.168Z"
   },
   {
    "duration": 227,
    "start_time": "2023-07-18T16:05:15.174Z"
   },
   {
    "duration": 45,
    "start_time": "2023-07-18T16:05:15.402Z"
   },
   {
    "duration": 50,
    "start_time": "2023-07-18T16:05:15.449Z"
   },
   {
    "duration": 528,
    "start_time": "2023-07-18T16:05:15.501Z"
   },
   {
    "duration": 6,
    "start_time": "2023-07-18T16:05:16.032Z"
   },
   {
    "duration": 100,
    "start_time": "2023-07-18T16:05:16.040Z"
   },
   {
    "duration": 36,
    "start_time": "2023-07-18T16:05:16.142Z"
   },
   {
    "duration": 30,
    "start_time": "2023-07-18T16:05:16.180Z"
   },
   {
    "duration": 359,
    "start_time": "2023-07-18T16:05:16.213Z"
   },
   {
    "duration": 1490,
    "start_time": "2023-07-18T16:05:16.574Z"
   },
   {
    "duration": 335,
    "start_time": "2023-07-18T16:05:18.066Z"
   },
   {
    "duration": 24,
    "start_time": "2023-07-18T16:05:18.403Z"
   },
   {
    "duration": 155,
    "start_time": "2023-07-18T16:05:18.431Z"
   },
   {
    "duration": 203,
    "start_time": "2023-07-18T16:05:31.536Z"
   },
   {
    "duration": 196,
    "start_time": "2023-07-18T16:05:39.361Z"
   },
   {
    "duration": 208,
    "start_time": "2023-07-18T16:05:53.132Z"
   },
   {
    "duration": 206,
    "start_time": "2023-07-18T16:05:54.697Z"
   },
   {
    "duration": 43,
    "start_time": "2023-07-18T16:06:38.866Z"
   },
   {
    "duration": 19,
    "start_time": "2023-07-18T16:07:15.434Z"
   },
   {
    "duration": 35,
    "start_time": "2023-07-18T16:07:18.416Z"
   },
   {
    "duration": 34,
    "start_time": "2023-07-18T16:10:00.676Z"
   },
   {
    "duration": 35,
    "start_time": "2023-07-18T16:10:14.521Z"
   },
   {
    "duration": 1233,
    "start_time": "2023-07-21T12:56:21.269Z"
   },
   {
    "duration": 1724,
    "start_time": "2023-07-21T12:56:22.504Z"
   },
   {
    "duration": 6,
    "start_time": "2023-07-21T12:56:24.229Z"
   },
   {
    "duration": 124,
    "start_time": "2023-07-21T12:56:24.237Z"
   },
   {
    "duration": 3,
    "start_time": "2023-07-21T12:56:24.363Z"
   },
   {
    "duration": 194,
    "start_time": "2023-07-21T12:56:24.367Z"
   },
   {
    "duration": 38,
    "start_time": "2023-07-21T12:56:24.562Z"
   },
   {
    "duration": 37,
    "start_time": "2023-07-21T12:56:24.602Z"
   },
   {
    "duration": 413,
    "start_time": "2023-07-21T12:56:24.640Z"
   },
   {
    "duration": 5,
    "start_time": "2023-07-21T12:56:25.056Z"
   },
   {
    "duration": 74,
    "start_time": "2023-07-21T12:56:25.062Z"
   },
   {
    "duration": 27,
    "start_time": "2023-07-21T12:56:25.137Z"
   },
   {
    "duration": 25,
    "start_time": "2023-07-21T12:56:25.166Z"
   },
   {
    "duration": 314,
    "start_time": "2023-07-21T12:56:25.192Z"
   },
   {
    "duration": 1060,
    "start_time": "2023-07-21T12:56:25.508Z"
   },
   {
    "duration": 229,
    "start_time": "2023-07-21T12:56:26.570Z"
   },
   {
    "duration": 35,
    "start_time": "2023-07-21T12:56:26.800Z"
   },
   {
    "duration": 39,
    "start_time": "2023-07-21T12:56:26.836Z"
   },
   {
    "duration": 2337,
    "start_time": "2023-07-21T12:57:03.412Z"
   },
   {
    "duration": 4,
    "start_time": "2023-07-21T12:57:09.648Z"
   },
   {
    "duration": 136,
    "start_time": "2023-07-21T12:57:15.795Z"
   },
   {
    "duration": 164,
    "start_time": "2023-07-21T12:57:28.051Z"
   },
   {
    "duration": 223,
    "start_time": "2023-07-21T12:57:57.621Z"
   },
   {
    "duration": 245,
    "start_time": "2023-07-21T12:58:01.746Z"
   },
   {
    "duration": 188,
    "start_time": "2023-07-21T12:58:08.152Z"
   },
   {
    "duration": 163,
    "start_time": "2023-07-21T12:58:42.390Z"
   },
   {
    "duration": 160,
    "start_time": "2023-07-21T12:58:52.801Z"
   },
   {
    "duration": 175,
    "start_time": "2023-07-21T12:59:02.618Z"
   },
   {
    "duration": 4,
    "start_time": "2023-07-21T13:00:11.833Z"
   },
   {
    "duration": 7,
    "start_time": "2023-07-21T13:00:16.395Z"
   },
   {
    "duration": 137,
    "start_time": "2023-07-21T13:00:20.785Z"
   },
   {
    "duration": 135,
    "start_time": "2023-07-21T13:00:41.358Z"
   },
   {
    "duration": 157,
    "start_time": "2023-07-21T13:00:55.243Z"
   },
   {
    "duration": 4,
    "start_time": "2023-07-21T13:02:29.525Z"
   },
   {
    "duration": 28,
    "start_time": "2023-07-21T13:02:34.113Z"
   },
   {
    "duration": 610,
    "start_time": "2023-07-21T13:06:31.824Z"
   },
   {
    "duration": 719,
    "start_time": "2023-07-21T13:07:29.979Z"
   },
   {
    "duration": 7,
    "start_time": "2023-07-21T13:07:41.751Z"
   },
   {
    "duration": 7,
    "start_time": "2023-07-21T13:07:44.966Z"
   },
   {
    "duration": 4,
    "start_time": "2023-07-21T13:07:48.181Z"
   },
   {
    "duration": 140,
    "start_time": "2023-07-21T13:07:52.765Z"
   },
   {
    "duration": 170,
    "start_time": "2023-07-21T13:08:04.130Z"
   },
   {
    "duration": 155,
    "start_time": "2023-07-21T13:08:12.531Z"
   },
   {
    "duration": 156,
    "start_time": "2023-07-21T13:09:31.363Z"
   },
   {
    "duration": 11,
    "start_time": "2023-07-21T13:09:35.129Z"
   },
   {
    "duration": 5,
    "start_time": "2023-07-21T13:09:43.299Z"
   },
   {
    "duration": 5,
    "start_time": "2023-07-21T13:09:50.066Z"
   },
   {
    "duration": 18,
    "start_time": "2023-07-21T13:10:31.431Z"
   },
   {
    "duration": 4,
    "start_time": "2023-07-21T13:14:10.746Z"
   },
   {
    "duration": 31,
    "start_time": "2023-07-21T13:14:16.397Z"
   },
   {
    "duration": 37,
    "start_time": "2023-07-21T13:14:41.129Z"
   },
   {
    "duration": 156,
    "start_time": "2023-07-21T13:14:44.948Z"
   },
   {
    "duration": 392,
    "start_time": "2023-07-21T13:14:50.287Z"
   },
   {
    "duration": 34,
    "start_time": "2023-07-21T13:14:54.087Z"
   },
   {
    "duration": 174,
    "start_time": "2023-07-21T13:15:05.178Z"
   },
   {
    "duration": 144,
    "start_time": "2023-07-21T13:15:12.513Z"
   },
   {
    "duration": 325,
    "start_time": "2023-07-21T13:15:56.055Z"
   },
   {
    "duration": 385,
    "start_time": "2023-07-21T13:16:10.048Z"
   },
   {
    "duration": 409,
    "start_time": "2023-07-21T13:16:21.390Z"
   },
   {
    "duration": 533,
    "start_time": "2023-07-21T13:16:27.783Z"
   },
   {
    "duration": 409,
    "start_time": "2023-07-21T13:16:32.605Z"
   },
   {
    "duration": 405,
    "start_time": "2023-07-21T13:16:53.531Z"
   },
   {
    "duration": 506,
    "start_time": "2023-07-21T13:17:11.686Z"
   },
   {
    "duration": 548,
    "start_time": "2023-07-21T13:17:16.644Z"
   },
   {
    "duration": 544,
    "start_time": "2023-07-21T13:17:51.767Z"
   },
   {
    "duration": 602,
    "start_time": "2023-07-21T13:18:07.635Z"
   },
   {
    "duration": 5,
    "start_time": "2023-07-21T13:19:30.479Z"
   },
   {
    "duration": 38,
    "start_time": "2023-07-21T13:19:46.807Z"
   },
   {
    "duration": 20,
    "start_time": "2023-07-21T13:21:07.487Z"
   },
   {
    "duration": 168,
    "start_time": "2023-07-21T13:22:59.232Z"
   },
   {
    "duration": 146,
    "start_time": "2023-07-21T13:23:06.154Z"
   },
   {
    "duration": 154,
    "start_time": "2023-07-21T13:23:29.649Z"
   },
   {
    "duration": 160,
    "start_time": "2023-07-21T13:23:32.532Z"
   },
   {
    "duration": 20,
    "start_time": "2023-07-21T13:23:48.315Z"
   },
   {
    "duration": 179,
    "start_time": "2023-07-21T13:23:58.577Z"
   },
   {
    "duration": 218,
    "start_time": "2023-07-21T13:24:06.583Z"
   },
   {
    "duration": 197,
    "start_time": "2023-07-21T13:24:26.904Z"
   },
   {
    "duration": 32,
    "start_time": "2023-07-21T13:27:35.401Z"
   },
   {
    "duration": 1138,
    "start_time": "2023-07-21T13:27:51.058Z"
   },
   {
    "duration": 1595,
    "start_time": "2023-07-21T13:27:52.198Z"
   },
   {
    "duration": 5,
    "start_time": "2023-07-21T13:27:53.795Z"
   },
   {
    "duration": 148,
    "start_time": "2023-07-21T13:27:53.801Z"
   },
   {
    "duration": 3,
    "start_time": "2023-07-21T13:27:53.951Z"
   },
   {
    "duration": 209,
    "start_time": "2023-07-21T13:27:53.955Z"
   },
   {
    "duration": 38,
    "start_time": "2023-07-21T13:27:54.165Z"
   },
   {
    "duration": 46,
    "start_time": "2023-07-21T13:27:54.205Z"
   },
   {
    "duration": 393,
    "start_time": "2023-07-21T13:27:54.252Z"
   },
   {
    "duration": 4,
    "start_time": "2023-07-21T13:27:54.646Z"
   },
   {
    "duration": 81,
    "start_time": "2023-07-21T13:27:54.652Z"
   },
   {
    "duration": 29,
    "start_time": "2023-07-21T13:27:54.734Z"
   },
   {
    "duration": 28,
    "start_time": "2023-07-21T13:27:54.764Z"
   },
   {
    "duration": 258,
    "start_time": "2023-07-21T13:27:54.795Z"
   },
   {
    "duration": 1117,
    "start_time": "2023-07-21T13:27:55.055Z"
   },
   {
    "duration": 216,
    "start_time": "2023-07-21T13:27:56.173Z"
   },
   {
    "duration": 39,
    "start_time": "2023-07-21T13:27:56.390Z"
   },
   {
    "duration": 27,
    "start_time": "2023-07-21T13:27:56.435Z"
   },
   {
    "duration": 171,
    "start_time": "2023-07-21T13:27:56.463Z"
   },
   {
    "duration": 148,
    "start_time": "2023-07-21T13:27:56.635Z"
   },
   {
    "duration": 27,
    "start_time": "2023-07-21T13:27:56.784Z"
   },
   {
    "duration": 210,
    "start_time": "2023-07-21T13:27:56.820Z"
   },
   {
    "duration": 18,
    "start_time": "2023-07-21T13:27:57.032Z"
   },
   {
    "duration": 585,
    "start_time": "2023-07-21T13:27:57.052Z"
   },
   {
    "duration": 19,
    "start_time": "2023-07-21T13:27:57.639Z"
   },
   {
    "duration": 166,
    "start_time": "2023-07-21T13:27:57.659Z"
   },
   {
    "duration": 187,
    "start_time": "2023-07-21T13:27:57.826Z"
   },
   {
    "duration": 25,
    "start_time": "2023-07-21T13:27:58.014Z"
   },
   {
    "duration": 94,
    "start_time": "2023-07-21T13:34:42.863Z"
   },
   {
    "duration": 2,
    "start_time": "2023-07-21T13:34:48.299Z"
   },
   {
    "duration": 2170,
    "start_time": "2023-07-21T13:34:50.208Z"
   },
   {
    "duration": 17,
    "start_time": "2023-07-21T13:35:02.025Z"
   },
   {
    "duration": 3,
    "start_time": "2023-07-21T13:35:06.801Z"
   },
   {
    "duration": 7,
    "start_time": "2023-07-21T13:35:10.785Z"
   },
   {
    "duration": 4,
    "start_time": "2023-07-21T13:35:17.276Z"
   },
   {
    "duration": 151,
    "start_time": "2023-07-21T13:36:05.547Z"
   },
   {
    "duration": 105,
    "start_time": "2023-07-21T13:36:08.241Z"
   },
   {
    "duration": 16,
    "start_time": "2023-07-21T13:36:10.853Z"
   },
   {
    "duration": 115,
    "start_time": "2023-07-21T13:36:20.188Z"
   },
   {
    "duration": 24,
    "start_time": "2023-07-21T13:36:22.831Z"
   },
   {
    "duration": 305,
    "start_time": "2023-07-21T13:49:20.923Z"
   },
   {
    "duration": 2,
    "start_time": "2023-07-21T13:49:36.180Z"
   },
   {
    "duration": 27,
    "start_time": "2023-07-21T13:50:31.803Z"
   },
   {
    "duration": 15,
    "start_time": "2023-07-21T13:52:19.745Z"
   },
   {
    "duration": 5,
    "start_time": "2023-07-21T13:52:24.131Z"
   },
   {
    "duration": 30,
    "start_time": "2023-07-21T13:52:29.136Z"
   },
   {
    "duration": 29,
    "start_time": "2023-07-21T13:52:43.276Z"
   },
   {
    "duration": 19,
    "start_time": "2023-07-21T13:52:46.035Z"
   },
   {
    "duration": 31,
    "start_time": "2023-07-21T13:52:53.606Z"
   },
   {
    "duration": 83,
    "start_time": "2023-07-21T13:52:57.195Z"
   },
   {
    "duration": 79,
    "start_time": "2023-07-21T13:53:11.232Z"
   },
   {
    "duration": 75,
    "start_time": "2023-07-21T13:53:23.655Z"
   },
   {
    "duration": 188,
    "start_time": "2023-07-21T13:53:46.986Z"
   },
   {
    "duration": 4,
    "start_time": "2023-07-21T13:53:50.032Z"
   },
   {
    "duration": 2,
    "start_time": "2023-07-21T13:54:20.191Z"
   },
   {
    "duration": 225,
    "start_time": "2023-07-21T13:54:20.810Z"
   },
   {
    "duration": 14,
    "start_time": "2023-07-21T13:54:46.439Z"
   },
   {
    "duration": 76,
    "start_time": "2023-07-21T13:55:32.649Z"
   },
   {
    "duration": 64,
    "start_time": "2023-07-21T13:55:44.509Z"
   },
   {
    "duration": 45,
    "start_time": "2023-07-21T13:56:01.663Z"
   },
   {
    "duration": 48,
    "start_time": "2023-07-21T13:56:06.369Z"
   },
   {
    "duration": 289,
    "start_time": "2023-07-21T13:56:44.356Z"
   },
   {
    "duration": 314,
    "start_time": "2023-07-21T13:56:48.829Z"
   },
   {
    "duration": 340,
    "start_time": "2023-07-21T13:57:48.118Z"
   },
   {
    "duration": 35,
    "start_time": "2023-07-21T13:58:01.246Z"
   },
   {
    "duration": 1343,
    "start_time": "2023-07-21T13:58:08.245Z"
   },
   {
    "duration": 1530,
    "start_time": "2023-07-21T13:58:09.590Z"
   },
   {
    "duration": 7,
    "start_time": "2023-07-21T13:58:11.138Z"
   },
   {
    "duration": 137,
    "start_time": "2023-07-21T13:58:11.147Z"
   },
   {
    "duration": 3,
    "start_time": "2023-07-21T13:58:11.286Z"
   },
   {
    "duration": 212,
    "start_time": "2023-07-21T13:58:11.290Z"
   },
   {
    "duration": 57,
    "start_time": "2023-07-21T13:58:11.503Z"
   },
   {
    "duration": 27,
    "start_time": "2023-07-21T13:58:11.561Z"
   },
   {
    "duration": 406,
    "start_time": "2023-07-21T13:58:11.590Z"
   },
   {
    "duration": 4,
    "start_time": "2023-07-21T13:58:11.997Z"
   },
   {
    "duration": 102,
    "start_time": "2023-07-21T13:58:12.003Z"
   },
   {
    "duration": 46,
    "start_time": "2023-07-21T13:58:12.106Z"
   },
   {
    "duration": 37,
    "start_time": "2023-07-21T13:58:12.153Z"
   },
   {
    "duration": 277,
    "start_time": "2023-07-21T13:58:12.192Z"
   },
   {
    "duration": 1079,
    "start_time": "2023-07-21T13:58:12.470Z"
   },
   {
    "duration": 224,
    "start_time": "2023-07-21T13:58:13.551Z"
   },
   {
    "duration": 30,
    "start_time": "2023-07-21T13:58:13.777Z"
   },
   {
    "duration": 36,
    "start_time": "2023-07-21T13:58:13.809Z"
   },
   {
    "duration": 235,
    "start_time": "2023-07-21T13:58:13.846Z"
   },
   {
    "duration": 165,
    "start_time": "2023-07-21T13:58:14.083Z"
   },
   {
    "duration": 27,
    "start_time": "2023-07-21T13:58:14.250Z"
   },
   {
    "duration": 199,
    "start_time": "2023-07-21T13:58:14.279Z"
   },
   {
    "duration": 17,
    "start_time": "2023-07-21T13:58:14.480Z"
   },
   {
    "duration": 517,
    "start_time": "2023-07-21T13:58:14.499Z"
   },
   {
    "duration": 35,
    "start_time": "2023-07-21T13:58:15.019Z"
   },
   {
    "duration": 205,
    "start_time": "2023-07-21T13:58:15.056Z"
   },
   {
    "duration": 234,
    "start_time": "2023-07-21T13:58:15.263Z"
   },
   {
    "duration": 3,
    "start_time": "2023-07-21T13:58:15.501Z"
   },
   {
    "duration": 107,
    "start_time": "2023-07-21T13:58:15.505Z"
   },
   {
    "duration": 174,
    "start_time": "2023-07-21T13:58:15.614Z"
   },
   {
    "duration": 0,
    "start_time": "2023-07-21T13:58:15.790Z"
   },
   {
    "duration": 363,
    "start_time": "2023-07-21T14:05:40.975Z"
   },
   {
    "duration": 130,
    "start_time": "2023-07-21T14:06:18.478Z"
   },
   {
    "duration": 1287,
    "start_time": "2023-07-21T14:36:42.172Z"
   },
   {
    "duration": 1196,
    "start_time": "2023-07-21T14:36:43.461Z"
   },
   {
    "duration": 3,
    "start_time": "2023-07-21T14:36:44.659Z"
   },
   {
    "duration": 120,
    "start_time": "2023-07-21T14:36:44.664Z"
   },
   {
    "duration": 2,
    "start_time": "2023-07-21T14:36:44.786Z"
   },
   {
    "duration": 215,
    "start_time": "2023-07-21T14:36:44.790Z"
   },
   {
    "duration": 50,
    "start_time": "2023-07-21T14:36:45.006Z"
   },
   {
    "duration": 50,
    "start_time": "2023-07-21T14:36:45.057Z"
   },
   {
    "duration": 439,
    "start_time": "2023-07-21T14:36:45.109Z"
   },
   {
    "duration": 4,
    "start_time": "2023-07-21T14:36:45.550Z"
   },
   {
    "duration": 72,
    "start_time": "2023-07-21T14:36:45.556Z"
   },
   {
    "duration": 34,
    "start_time": "2023-07-21T14:36:45.630Z"
   },
   {
    "duration": 34,
    "start_time": "2023-07-21T14:36:45.665Z"
   },
   {
    "duration": 279,
    "start_time": "2023-07-21T14:36:45.701Z"
   },
   {
    "duration": 1062,
    "start_time": "2023-07-21T14:36:45.981Z"
   },
   {
    "duration": 210,
    "start_time": "2023-07-21T14:36:47.045Z"
   },
   {
    "duration": 28,
    "start_time": "2023-07-21T14:36:47.256Z"
   },
   {
    "duration": 19,
    "start_time": "2023-07-21T14:36:47.286Z"
   },
   {
    "duration": 222,
    "start_time": "2023-07-21T14:36:47.307Z"
   },
   {
    "duration": 149,
    "start_time": "2023-07-21T14:36:47.530Z"
   },
   {
    "duration": 39,
    "start_time": "2023-07-21T14:36:47.681Z"
   },
   {
    "duration": 150,
    "start_time": "2023-07-21T14:36:47.721Z"
   },
   {
    "duration": 19,
    "start_time": "2023-07-21T14:36:47.872Z"
   },
   {
    "duration": 511,
    "start_time": "2023-07-21T14:36:47.892Z"
   },
   {
    "duration": 22,
    "start_time": "2023-07-21T14:36:48.405Z"
   },
   {
    "duration": 157,
    "start_time": "2023-07-21T14:36:48.428Z"
   },
   {
    "duration": 199,
    "start_time": "2023-07-21T14:36:48.587Z"
   },
   {
    "duration": 3,
    "start_time": "2023-07-21T14:36:48.789Z"
   },
   {
    "duration": 76,
    "start_time": "2023-07-21T14:36:48.793Z"
   },
   {
    "duration": 342,
    "start_time": "2023-07-21T14:36:48.871Z"
   },
   {
    "duration": 20,
    "start_time": "2023-07-21T14:36:49.214Z"
   },
   {
    "duration": 1314,
    "start_time": "2023-07-21T14:38:46.229Z"
   },
   {
    "duration": 1179,
    "start_time": "2023-07-21T14:38:47.544Z"
   },
   {
    "duration": 4,
    "start_time": "2023-07-21T14:38:48.725Z"
   },
   {
    "duration": 148,
    "start_time": "2023-07-21T14:38:48.730Z"
   },
   {
    "duration": 3,
    "start_time": "2023-07-21T14:38:48.880Z"
   },
   {
    "duration": 245,
    "start_time": "2023-07-21T14:38:48.884Z"
   },
   {
    "duration": 46,
    "start_time": "2023-07-21T14:38:49.130Z"
   },
   {
    "duration": 44,
    "start_time": "2023-07-21T14:38:49.178Z"
   },
   {
    "duration": 445,
    "start_time": "2023-07-21T14:38:49.223Z"
   },
   {
    "duration": 4,
    "start_time": "2023-07-21T14:38:49.671Z"
   },
   {
    "duration": 55,
    "start_time": "2023-07-21T14:38:49.677Z"
   },
   {
    "duration": 31,
    "start_time": "2023-07-21T14:38:49.733Z"
   },
   {
    "duration": 35,
    "start_time": "2023-07-21T14:38:49.766Z"
   },
   {
    "duration": 255,
    "start_time": "2023-07-21T14:38:49.802Z"
   },
   {
    "duration": 1059,
    "start_time": "2023-07-21T14:38:50.058Z"
   },
   {
    "duration": 248,
    "start_time": "2023-07-21T14:38:51.119Z"
   },
   {
    "duration": 33,
    "start_time": "2023-07-21T14:38:51.368Z"
   },
   {
    "duration": 38,
    "start_time": "2023-07-21T14:38:51.403Z"
   },
   {
    "duration": 257,
    "start_time": "2023-07-21T14:38:51.443Z"
   },
   {
    "duration": 150,
    "start_time": "2023-07-21T14:38:51.701Z"
   },
   {
    "duration": 30,
    "start_time": "2023-07-21T14:38:51.853Z"
   },
   {
    "duration": 180,
    "start_time": "2023-07-21T14:38:51.885Z"
   },
   {
    "duration": 20,
    "start_time": "2023-07-21T14:38:52.066Z"
   },
   {
    "duration": 510,
    "start_time": "2023-07-21T14:38:52.088Z"
   },
   {
    "duration": 27,
    "start_time": "2023-07-21T14:38:52.600Z"
   },
   {
    "duration": 162,
    "start_time": "2023-07-21T14:38:52.629Z"
   },
   {
    "duration": 199,
    "start_time": "2023-07-21T14:38:52.793Z"
   },
   {
    "duration": 2,
    "start_time": "2023-07-21T14:38:52.995Z"
   },
   {
    "duration": 110,
    "start_time": "2023-07-21T14:38:52.998Z"
   },
   {
    "duration": 363,
    "start_time": "2023-07-21T14:38:53.110Z"
   },
   {
    "duration": 17,
    "start_time": "2023-07-21T14:38:53.474Z"
   },
   {
    "duration": 128,
    "start_time": "2023-07-21T14:39:39.657Z"
   },
   {
    "duration": 17,
    "start_time": "2023-07-21T14:40:26.125Z"
   },
   {
    "duration": 14,
    "start_time": "2023-07-21T14:40:33.431Z"
   },
   {
    "duration": 67,
    "start_time": "2023-07-21T14:41:14.312Z"
   },
   {
    "duration": 16,
    "start_time": "2023-07-21T14:41:16.109Z"
   },
   {
    "duration": 2,
    "start_time": "2023-07-21T14:41:35.689Z"
   },
   {
    "duration": 123,
    "start_time": "2023-07-21T14:41:47.870Z"
   },
   {
    "duration": 1730,
    "start_time": "2023-07-23T13:56:52.413Z"
   },
   {
    "duration": 1475,
    "start_time": "2023-07-23T13:56:54.146Z"
   },
   {
    "duration": 6,
    "start_time": "2023-07-23T13:56:55.623Z"
   },
   {
    "duration": 135,
    "start_time": "2023-07-23T13:56:55.632Z"
   },
   {
    "duration": 5,
    "start_time": "2023-07-23T13:56:55.769Z"
   },
   {
    "duration": 344,
    "start_time": "2023-07-23T13:56:55.776Z"
   },
   {
    "duration": 47,
    "start_time": "2023-07-23T13:56:56.122Z"
   },
   {
    "duration": 76,
    "start_time": "2023-07-23T13:56:56.171Z"
   },
   {
    "duration": 489,
    "start_time": "2023-07-23T13:56:56.249Z"
   },
   {
    "duration": 5,
    "start_time": "2023-07-23T13:56:56.740Z"
   },
   {
    "duration": 52,
    "start_time": "2023-07-23T13:56:56.747Z"
   },
   {
    "duration": 33,
    "start_time": "2023-07-23T13:56:56.910Z"
   },
   {
    "duration": 19,
    "start_time": "2023-07-23T13:56:57.071Z"
   },
   {
    "duration": 353,
    "start_time": "2023-07-23T13:56:57.239Z"
   },
   {
    "duration": 1478,
    "start_time": "2023-07-23T13:56:57.810Z"
   },
   {
    "duration": 312,
    "start_time": "2023-07-23T13:56:59.290Z"
   },
   {
    "duration": 38,
    "start_time": "2023-07-23T13:56:59.608Z"
   },
   {
    "duration": 41,
    "start_time": "2023-07-23T13:56:59.649Z"
   },
   {
    "duration": 308,
    "start_time": "2023-07-23T13:56:59.749Z"
   },
   {
    "duration": 217,
    "start_time": "2023-07-23T13:57:01.017Z"
   },
   {
    "duration": 32,
    "start_time": "2023-07-23T13:57:05.140Z"
   },
   {
    "duration": 159,
    "start_time": "2023-07-23T13:57:05.689Z"
   },
   {
    "duration": 21,
    "start_time": "2023-07-23T13:57:06.504Z"
   },
   {
    "duration": 592,
    "start_time": "2023-07-23T13:57:07.634Z"
   },
   {
    "duration": 22,
    "start_time": "2023-07-23T13:57:09.355Z"
   },
   {
    "duration": 165,
    "start_time": "2023-07-23T13:57:10.057Z"
   },
   {
    "duration": 209,
    "start_time": "2023-07-23T13:57:10.653Z"
   },
   {
    "duration": 3,
    "start_time": "2023-07-23T13:57:12.736Z"
   },
   {
    "duration": 107,
    "start_time": "2023-07-23T13:57:19.448Z"
   },
   {
    "duration": 491,
    "start_time": "2023-07-23T13:58:16.052Z"
   },
   {
    "duration": 16,
    "start_time": "2023-07-23T13:58:22.359Z"
   },
   {
    "duration": 20,
    "start_time": "2023-07-23T13:58:31.809Z"
   },
   {
    "duration": 4,
    "start_time": "2023-07-23T13:58:49.021Z"
   },
   {
    "duration": 4,
    "start_time": "2023-07-23T13:58:56.398Z"
   },
   {
    "duration": 145,
    "start_time": "2023-07-23T13:59:35.843Z"
   },
   {
    "duration": 5,
    "start_time": "2023-07-23T13:59:40.577Z"
   },
   {
    "duration": 4,
    "start_time": "2023-07-23T13:59:41.101Z"
   },
   {
    "duration": 132,
    "start_time": "2023-07-23T13:59:47.953Z"
   },
   {
    "duration": 5,
    "start_time": "2023-07-23T13:59:49.539Z"
   },
   {
    "duration": 109,
    "start_time": "2023-07-23T13:59:52.064Z"
   },
   {
    "duration": 4,
    "start_time": "2023-07-23T13:59:53.902Z"
   },
   {
    "duration": 1580,
    "start_time": "2023-07-23T13:59:59.855Z"
   },
   {
    "duration": 1353,
    "start_time": "2023-07-23T14:00:01.438Z"
   },
   {
    "duration": 5,
    "start_time": "2023-07-23T14:00:02.793Z"
   },
   {
    "duration": 248,
    "start_time": "2023-07-23T14:00:02.800Z"
   },
   {
    "duration": 37,
    "start_time": "2023-07-23T14:00:03.051Z"
   },
   {
    "duration": 287,
    "start_time": "2023-07-23T14:00:03.090Z"
   },
   {
    "duration": 52,
    "start_time": "2023-07-23T14:00:03.379Z"
   },
   {
    "duration": 52,
    "start_time": "2023-07-23T14:00:03.433Z"
   },
   {
    "duration": 501,
    "start_time": "2023-07-23T14:00:03.487Z"
   },
   {
    "duration": 6,
    "start_time": "2023-07-23T14:00:03.990Z"
   },
   {
    "duration": 56,
    "start_time": "2023-07-23T14:00:03.997Z"
   },
   {
    "duration": 34,
    "start_time": "2023-07-23T14:00:04.055Z"
   },
   {
    "duration": 33,
    "start_time": "2023-07-23T14:00:04.090Z"
   },
   {
    "duration": 377,
    "start_time": "2023-07-23T14:00:04.126Z"
   },
   {
    "duration": 1485,
    "start_time": "2023-07-23T14:00:04.508Z"
   },
   {
    "duration": 287,
    "start_time": "2023-07-23T14:00:05.995Z"
   },
   {
    "duration": 40,
    "start_time": "2023-07-23T14:00:06.284Z"
   },
   {
    "duration": 19,
    "start_time": "2023-07-23T14:00:06.326Z"
   },
   {
    "duration": 325,
    "start_time": "2023-07-23T14:00:06.347Z"
   },
   {
    "duration": 195,
    "start_time": "2023-07-23T14:00:06.674Z"
   },
   {
    "duration": 42,
    "start_time": "2023-07-23T14:00:06.871Z"
   },
   {
    "duration": 181,
    "start_time": "2023-07-23T14:00:06.914Z"
   },
   {
    "duration": 22,
    "start_time": "2023-07-23T14:00:07.096Z"
   },
   {
    "duration": 616,
    "start_time": "2023-07-23T14:00:07.120Z"
   },
   {
    "duration": 21,
    "start_time": "2023-07-23T14:00:07.738Z"
   },
   {
    "duration": 196,
    "start_time": "2023-07-23T14:00:07.761Z"
   },
   {
    "duration": 211,
    "start_time": "2023-07-23T14:00:07.959Z"
   },
   {
    "duration": 3,
    "start_time": "2023-07-23T14:00:08.172Z"
   },
   {
    "duration": 148,
    "start_time": "2023-07-23T14:00:08.177Z"
   },
   {
    "duration": 518,
    "start_time": "2023-07-23T14:00:08.327Z"
   },
   {
    "duration": 264,
    "start_time": "2023-07-23T14:01:41.896Z"
   },
   {
    "duration": 24,
    "start_time": "2023-07-23T14:02:05.419Z"
   },
   {
    "duration": 13,
    "start_time": "2023-07-23T14:03:55.731Z"
   },
   {
    "duration": 5,
    "start_time": "2023-07-23T14:04:34.670Z"
   },
   {
    "duration": 2459,
    "start_time": "2023-07-23T14:04:58.536Z"
   },
   {
    "duration": 4,
    "start_time": "2023-07-23T14:05:41.335Z"
   },
   {
    "duration": 103740,
    "start_time": "2023-07-23T14:05:43.106Z"
   },
   {
    "duration": 152,
    "start_time": "2023-07-23T14:07:32.098Z"
   },
   {
    "duration": 137,
    "start_time": "2023-07-23T14:07:37.138Z"
   },
   {
    "duration": 3,
    "start_time": "2023-07-23T14:07:43.416Z"
   },
   {
    "duration": 237189,
    "start_time": "2023-07-23T14:07:43.918Z"
   },
   {
    "duration": 650,
    "start_time": "2023-07-23T14:12:24.171Z"
   },
   {
    "duration": 5,
    "start_time": "2023-07-23T14:12:39.795Z"
   },
   {
    "duration": 121,
    "start_time": "2023-07-23T14:13:36.788Z"
   },
   {
    "duration": 130,
    "start_time": "2023-07-23T14:13:51.887Z"
   },
   {
    "duration": 150,
    "start_time": "2023-07-23T14:14:14.883Z"
   },
   {
    "duration": 689,
    "start_time": "2023-07-23T14:15:03.944Z"
   },
   {
    "duration": 671,
    "start_time": "2023-07-23T14:15:43.841Z"
   },
   {
    "duration": 5,
    "start_time": "2023-07-23T14:18:13.629Z"
   },
   {
    "duration": 10,
    "start_time": "2023-07-23T14:18:49.042Z"
   },
   {
    "duration": 10,
    "start_time": "2023-07-23T14:18:56.094Z"
   },
   {
    "duration": 10,
    "start_time": "2023-07-23T14:20:15.497Z"
   },
   {
    "duration": 1563,
    "start_time": "2023-07-23T14:22:07.687Z"
   },
   {
    "duration": 1334,
    "start_time": "2023-07-23T14:22:09.252Z"
   },
   {
    "duration": 5,
    "start_time": "2023-07-23T14:22:10.588Z"
   },
   {
    "duration": 215,
    "start_time": "2023-07-23T14:22:10.594Z"
   },
   {
    "duration": 3,
    "start_time": "2023-07-23T14:22:10.811Z"
   },
   {
    "duration": 259,
    "start_time": "2023-07-23T14:22:10.817Z"
   },
   {
    "duration": 54,
    "start_time": "2023-07-23T14:22:11.079Z"
   },
   {
    "duration": 59,
    "start_time": "2023-07-23T14:22:11.135Z"
   },
   {
    "duration": 506,
    "start_time": "2023-07-23T14:22:11.195Z"
   },
   {
    "duration": 6,
    "start_time": "2023-07-23T14:22:11.703Z"
   },
   {
    "duration": 88,
    "start_time": "2023-07-23T14:22:11.711Z"
   },
   {
    "duration": 32,
    "start_time": "2023-07-23T14:22:11.801Z"
   },
   {
    "duration": 33,
    "start_time": "2023-07-23T14:22:11.835Z"
   },
   {
    "duration": 327,
    "start_time": "2023-07-23T14:22:11.871Z"
   },
   {
    "duration": 1345,
    "start_time": "2023-07-23T14:22:12.199Z"
   },
   {
    "duration": 369,
    "start_time": "2023-07-23T14:22:13.546Z"
   },
   {
    "duration": 33,
    "start_time": "2023-07-23T14:22:13.916Z"
   },
   {
    "duration": 34,
    "start_time": "2023-07-23T14:22:13.950Z"
   },
   {
    "duration": 232,
    "start_time": "2023-07-23T14:22:13.987Z"
   },
   {
    "duration": 184,
    "start_time": "2023-07-23T14:22:14.220Z"
   },
   {
    "duration": 31,
    "start_time": "2023-07-23T14:22:14.408Z"
   },
   {
    "duration": 185,
    "start_time": "2023-07-23T14:22:14.440Z"
   },
   {
    "duration": 22,
    "start_time": "2023-07-23T14:22:14.627Z"
   },
   {
    "duration": 598,
    "start_time": "2023-07-23T14:22:14.651Z"
   },
   {
    "duration": 21,
    "start_time": "2023-07-23T14:22:15.251Z"
   },
   {
    "duration": 188,
    "start_time": "2023-07-23T14:22:15.274Z"
   },
   {
    "duration": 220,
    "start_time": "2023-07-23T14:22:15.464Z"
   },
   {
    "duration": 3,
    "start_time": "2023-07-23T14:22:15.686Z"
   },
   {
    "duration": 121,
    "start_time": "2023-07-23T14:22:15.691Z"
   },
   {
    "duration": 554,
    "start_time": "2023-07-23T14:22:15.814Z"
   },
   {
    "duration": 5,
    "start_time": "2023-07-23T14:22:16.370Z"
   },
   {
    "duration": 240152,
    "start_time": "2023-07-23T14:22:16.377Z"
   },
   {
    "duration": 0,
    "start_time": "2023-07-23T14:26:16.530Z"
   },
   {
    "duration": 696,
    "start_time": "2023-07-23T14:27:07.628Z"
   },
   {
    "duration": 688,
    "start_time": "2023-07-23T14:27:24.578Z"
   },
   {
    "duration": 738,
    "start_time": "2023-07-23T14:30:13.228Z"
   },
   {
    "duration": 2547,
    "start_time": "2023-07-23T14:49:32.200Z"
   },
   {
    "duration": 1325,
    "start_time": "2023-07-23T14:49:34.749Z"
   },
   {
    "duration": 6,
    "start_time": "2023-07-23T14:49:36.077Z"
   },
   {
    "duration": 175,
    "start_time": "2023-07-23T14:49:36.087Z"
   },
   {
    "duration": 4,
    "start_time": "2023-07-23T14:49:36.264Z"
   },
   {
    "duration": 240,
    "start_time": "2023-07-23T14:49:36.269Z"
   },
   {
    "duration": 48,
    "start_time": "2023-07-23T14:49:36.511Z"
   },
   {
    "duration": 51,
    "start_time": "2023-07-23T14:49:36.562Z"
   },
   {
    "duration": 467,
    "start_time": "2023-07-23T14:49:36.615Z"
   },
   {
    "duration": 6,
    "start_time": "2023-07-23T14:49:37.085Z"
   },
   {
    "duration": 99,
    "start_time": "2023-07-23T14:49:37.092Z"
   },
   {
    "duration": 30,
    "start_time": "2023-07-23T14:49:37.193Z"
   },
   {
    "duration": 31,
    "start_time": "2023-07-23T14:49:37.225Z"
   },
   {
    "duration": 433,
    "start_time": "2023-07-23T14:49:37.258Z"
   },
   {
    "duration": 1385,
    "start_time": "2023-07-23T14:49:37.693Z"
   },
   {
    "duration": 423,
    "start_time": "2023-07-23T14:49:39.080Z"
   },
   {
    "duration": 40,
    "start_time": "2023-07-23T14:49:39.508Z"
   },
   {
    "duration": 60,
    "start_time": "2023-07-23T14:49:39.551Z"
   },
   {
    "duration": 251,
    "start_time": "2023-07-23T14:49:39.613Z"
   },
   {
    "duration": 235,
    "start_time": "2023-07-23T14:49:39.869Z"
   },
   {
    "duration": 34,
    "start_time": "2023-07-23T14:49:40.108Z"
   },
   {
    "duration": 204,
    "start_time": "2023-07-23T14:49:40.143Z"
   },
   {
    "duration": 28,
    "start_time": "2023-07-23T14:49:40.350Z"
   },
   {
    "duration": 657,
    "start_time": "2023-07-23T14:49:40.380Z"
   },
   {
    "duration": 22,
    "start_time": "2023-07-23T14:49:41.039Z"
   },
   {
    "duration": 209,
    "start_time": "2023-07-23T14:49:41.063Z"
   },
   {
    "duration": 224,
    "start_time": "2023-07-23T14:49:41.274Z"
   },
   {
    "duration": 3,
    "start_time": "2023-07-23T14:49:42.303Z"
   },
   {
    "duration": 110,
    "start_time": "2023-07-23T14:49:42.624Z"
   },
   {
    "duration": 506,
    "start_time": "2023-07-23T14:49:43.240Z"
   },
   {
    "duration": 12955,
    "start_time": "2023-07-23T14:49:43.814Z"
   },
   {
    "duration": 141,
    "start_time": "2023-07-23T14:49:56.771Z"
   },
   {
    "duration": 423,
    "start_time": "2023-07-23T14:50:03.508Z"
   },
   {
    "duration": 4,
    "start_time": "2023-07-23T14:53:06.960Z"
   },
   {
    "duration": 5764,
    "start_time": "2023-07-23T14:53:19.379Z"
   },
   {
    "duration": 1737,
    "start_time": "2023-07-23T14:54:48.861Z"
   },
   {
    "duration": 1369,
    "start_time": "2023-07-23T14:54:50.600Z"
   },
   {
    "duration": 7,
    "start_time": "2023-07-23T14:54:51.972Z"
   },
   {
    "duration": 146,
    "start_time": "2023-07-23T14:54:51.980Z"
   },
   {
    "duration": 4,
    "start_time": "2023-07-23T14:54:52.128Z"
   },
   {
    "duration": 293,
    "start_time": "2023-07-23T14:54:52.133Z"
   },
   {
    "duration": 56,
    "start_time": "2023-07-23T14:54:52.427Z"
   },
   {
    "duration": 73,
    "start_time": "2023-07-23T14:54:52.485Z"
   },
   {
    "duration": 488,
    "start_time": "2023-07-23T14:54:52.560Z"
   },
   {
    "duration": 6,
    "start_time": "2023-07-23T14:54:53.050Z"
   },
   {
    "duration": 107,
    "start_time": "2023-07-23T14:54:53.057Z"
   },
   {
    "duration": 70,
    "start_time": "2023-07-23T14:54:53.165Z"
   },
   {
    "duration": 126,
    "start_time": "2023-07-23T14:54:53.237Z"
   },
   {
    "duration": 435,
    "start_time": "2023-07-23T14:54:53.366Z"
   },
   {
    "duration": 1420,
    "start_time": "2023-07-23T14:54:53.803Z"
   },
   {
    "duration": 422,
    "start_time": "2023-07-23T14:54:55.225Z"
   },
   {
    "duration": 34,
    "start_time": "2023-07-23T14:54:55.649Z"
   },
   {
    "duration": 34,
    "start_time": "2023-07-23T14:54:55.685Z"
   },
   {
    "duration": 261,
    "start_time": "2023-07-23T14:54:55.721Z"
   },
   {
    "duration": 194,
    "start_time": "2023-07-23T14:54:55.984Z"
   },
   {
    "duration": 38,
    "start_time": "2023-07-23T14:54:56.179Z"
   },
   {
    "duration": 192,
    "start_time": "2023-07-23T14:54:56.219Z"
   },
   {
    "duration": 22,
    "start_time": "2023-07-23T14:54:56.413Z"
   },
   {
    "duration": 715,
    "start_time": "2023-07-23T14:54:56.437Z"
   },
   {
    "duration": 21,
    "start_time": "2023-07-23T14:54:57.153Z"
   },
   {
    "duration": 219,
    "start_time": "2023-07-23T14:54:57.176Z"
   },
   {
    "duration": 228,
    "start_time": "2023-07-23T14:54:57.397Z"
   },
   {
    "duration": 58,
    "start_time": "2023-07-23T14:54:57.626Z"
   },
   {
    "duration": 146,
    "start_time": "2023-07-23T14:54:57.686Z"
   },
   {
    "duration": 523,
    "start_time": "2023-07-23T14:54:57.834Z"
   },
   {
    "duration": 3,
    "start_time": "2023-07-23T14:54:58.359Z"
   },
   {
    "duration": 1622,
    "start_time": "2023-07-23T14:55:55.620Z"
   },
   {
    "duration": 1457,
    "start_time": "2023-07-23T14:55:57.244Z"
   },
   {
    "duration": 6,
    "start_time": "2023-07-23T14:55:58.703Z"
   },
   {
    "duration": 145,
    "start_time": "2023-07-23T14:55:58.711Z"
   },
   {
    "duration": 4,
    "start_time": "2023-07-23T14:55:58.859Z"
   },
   {
    "duration": 266,
    "start_time": "2023-07-23T14:55:58.864Z"
   },
   {
    "duration": 56,
    "start_time": "2023-07-23T14:55:59.132Z"
   },
   {
    "duration": 60,
    "start_time": "2023-07-23T14:55:59.190Z"
   },
   {
    "duration": 563,
    "start_time": "2023-07-23T14:55:59.251Z"
   },
   {
    "duration": 5,
    "start_time": "2023-07-23T14:55:59.816Z"
   },
   {
    "duration": 91,
    "start_time": "2023-07-23T14:55:59.823Z"
   },
   {
    "duration": 33,
    "start_time": "2023-07-23T14:55:59.916Z"
   },
   {
    "duration": 25,
    "start_time": "2023-07-23T14:55:59.951Z"
   },
   {
    "duration": 347,
    "start_time": "2023-07-23T14:55:59.981Z"
   },
   {
    "duration": 1446,
    "start_time": "2023-07-23T14:56:00.330Z"
   },
   {
    "duration": 409,
    "start_time": "2023-07-23T14:56:01.779Z"
   },
   {
    "duration": 44,
    "start_time": "2023-07-23T14:56:02.191Z"
   },
   {
    "duration": 81,
    "start_time": "2023-07-23T14:56:02.237Z"
   },
   {
    "duration": 239,
    "start_time": "2023-07-23T14:56:02.320Z"
   },
   {
    "duration": 184,
    "start_time": "2023-07-23T14:56:02.561Z"
   },
   {
    "duration": 32,
    "start_time": "2023-07-23T14:56:02.747Z"
   },
   {
    "duration": 183,
    "start_time": "2023-07-23T14:56:02.781Z"
   },
   {
    "duration": 24,
    "start_time": "2023-07-23T14:56:02.966Z"
   },
   {
    "duration": 624,
    "start_time": "2023-07-23T14:56:02.992Z"
   },
   {
    "duration": 22,
    "start_time": "2023-07-23T14:56:03.618Z"
   },
   {
    "duration": 179,
    "start_time": "2023-07-23T14:56:03.642Z"
   },
   {
    "duration": 212,
    "start_time": "2023-07-23T14:56:03.824Z"
   },
   {
    "duration": 3,
    "start_time": "2023-07-23T14:56:04.038Z"
   },
   {
    "duration": 112,
    "start_time": "2023-07-23T14:56:04.043Z"
   },
   {
    "duration": 521,
    "start_time": "2023-07-23T14:56:04.157Z"
   },
   {
    "duration": 3,
    "start_time": "2023-07-23T14:56:04.680Z"
   },
   {
    "duration": 2498320,
    "start_time": "2023-07-23T14:56:04.685Z"
   },
   {
    "duration": 253,
    "start_time": "2023-07-23T15:37:43.007Z"
   },
   {
    "duration": 12,
    "start_time": "2023-07-23T15:38:43.794Z"
   },
   {
    "duration": 4,
    "start_time": "2023-07-23T15:38:49.931Z"
   },
   {
    "duration": 69,
    "start_time": "2023-07-23T15:41:24.752Z"
   },
   {
    "duration": 536871,
    "start_time": "2023-07-23T15:41:31.239Z"
   },
   {
    "duration": 10616,
    "start_time": "2023-07-23T16:13:17.127Z"
   },
   {
    "duration": 1141564,
    "start_time": "2023-07-23T16:13:29.033Z"
   },
   {
    "duration": 92,
    "start_time": "2023-07-23T16:38:25.987Z"
   },
   {
    "duration": 78917,
    "start_time": "2023-07-23T16:39:19.238Z"
   },
   {
    "duration": 4876,
    "start_time": "2023-07-23T16:41:39.112Z"
   },
   {
    "duration": 4754,
    "start_time": "2023-07-23T16:41:51.146Z"
   },
   {
    "duration": 4579,
    "start_time": "2023-07-23T16:43:40.364Z"
   },
   {
    "duration": 4636,
    "start_time": "2023-07-23T16:44:07.641Z"
   },
   {
    "duration": 2559,
    "start_time": "2023-07-23T16:47:11.382Z"
   },
   {
    "duration": 1559,
    "start_time": "2023-07-23T16:47:13.943Z"
   },
   {
    "duration": 14,
    "start_time": "2023-07-23T16:47:15.503Z"
   },
   {
    "duration": 136,
    "start_time": "2023-07-23T16:47:15.522Z"
   },
   {
    "duration": 4,
    "start_time": "2023-07-23T16:47:15.660Z"
   },
   {
    "duration": 270,
    "start_time": "2023-07-23T16:47:15.665Z"
   },
   {
    "duration": 57,
    "start_time": "2023-07-23T16:47:15.937Z"
   },
   {
    "duration": 37,
    "start_time": "2023-07-23T16:47:16.009Z"
   },
   {
    "duration": 506,
    "start_time": "2023-07-23T16:47:16.048Z"
   },
   {
    "duration": 5,
    "start_time": "2023-07-23T16:47:16.556Z"
   },
   {
    "duration": 88,
    "start_time": "2023-07-23T16:47:16.562Z"
   },
   {
    "duration": 31,
    "start_time": "2023-07-23T16:47:16.652Z"
   },
   {
    "duration": 37,
    "start_time": "2023-07-23T16:47:16.685Z"
   },
   {
    "duration": 342,
    "start_time": "2023-07-23T16:47:16.725Z"
   },
   {
    "duration": 1449,
    "start_time": "2023-07-23T16:47:17.068Z"
   },
   {
    "duration": 269,
    "start_time": "2023-07-23T16:47:18.522Z"
   },
   {
    "duration": 46,
    "start_time": "2023-07-23T16:47:18.793Z"
   },
   {
    "duration": 81,
    "start_time": "2023-07-23T16:47:18.841Z"
   },
   {
    "duration": 204,
    "start_time": "2023-07-23T16:47:18.924Z"
   },
   {
    "duration": 192,
    "start_time": "2023-07-23T16:47:19.130Z"
   },
   {
    "duration": 34,
    "start_time": "2023-07-23T16:47:19.323Z"
   },
   {
    "duration": 207,
    "start_time": "2023-07-23T16:47:19.359Z"
   },
   {
    "duration": 21,
    "start_time": "2023-07-23T16:47:19.568Z"
   },
   {
    "duration": 612,
    "start_time": "2023-07-23T16:47:19.591Z"
   },
   {
    "duration": 27,
    "start_time": "2023-07-23T16:47:20.204Z"
   },
   {
    "duration": 191,
    "start_time": "2023-07-23T16:47:20.233Z"
   },
   {
    "duration": 203,
    "start_time": "2023-07-23T16:47:20.426Z"
   },
   {
    "duration": 3,
    "start_time": "2023-07-23T16:47:20.631Z"
   },
   {
    "duration": 153,
    "start_time": "2023-07-23T16:47:20.636Z"
   },
   {
    "duration": 506,
    "start_time": "2023-07-23T16:47:20.791Z"
   },
   {
    "duration": 8,
    "start_time": "2023-07-23T16:47:21.299Z"
   },
   {
    "duration": 54,
    "start_time": "2023-07-23T16:47:21.308Z"
   },
   {
    "duration": 24,
    "start_time": "2023-07-23T16:47:21.363Z"
   },
   {
    "duration": 1568,
    "start_time": "2023-07-23T16:51:41.925Z"
   },
   {
    "duration": 1671,
    "start_time": "2023-07-23T16:51:43.495Z"
   },
   {
    "duration": 4,
    "start_time": "2023-07-23T16:51:45.168Z"
   },
   {
    "duration": 130,
    "start_time": "2023-07-23T16:51:45.174Z"
   },
   {
    "duration": 3,
    "start_time": "2023-07-23T16:51:45.309Z"
   },
   {
    "duration": 281,
    "start_time": "2023-07-23T16:51:45.314Z"
   },
   {
    "duration": 56,
    "start_time": "2023-07-23T16:51:45.597Z"
   },
   {
    "duration": 43,
    "start_time": "2023-07-23T16:51:45.655Z"
   },
   {
    "duration": 526,
    "start_time": "2023-07-23T16:51:45.700Z"
   },
   {
    "duration": 6,
    "start_time": "2023-07-23T16:51:46.228Z"
   },
   {
    "duration": 85,
    "start_time": "2023-07-23T16:51:46.235Z"
   },
   {
    "duration": 30,
    "start_time": "2023-07-23T16:51:46.322Z"
   },
   {
    "duration": 48,
    "start_time": "2023-07-23T16:51:46.354Z"
   },
   {
    "duration": 347,
    "start_time": "2023-07-23T16:51:46.405Z"
   },
   {
    "duration": 1517,
    "start_time": "2023-07-23T16:51:46.754Z"
   },
   {
    "duration": 279,
    "start_time": "2023-07-23T16:51:48.272Z"
   },
   {
    "duration": 34,
    "start_time": "2023-07-23T16:51:48.553Z"
   },
   {
    "duration": 40,
    "start_time": "2023-07-23T16:51:48.589Z"
   },
   {
    "duration": 207,
    "start_time": "2023-07-23T16:51:48.631Z"
   },
   {
    "duration": 192,
    "start_time": "2023-07-23T16:51:48.841Z"
   },
   {
    "duration": 32,
    "start_time": "2023-07-23T16:51:49.034Z"
   },
   {
    "duration": 183,
    "start_time": "2023-07-23T16:51:49.068Z"
   },
   {
    "duration": 24,
    "start_time": "2023-07-23T16:51:49.253Z"
   },
   {
    "duration": 652,
    "start_time": "2023-07-23T16:51:49.279Z"
   },
   {
    "duration": 23,
    "start_time": "2023-07-23T16:51:49.933Z"
   },
   {
    "duration": 181,
    "start_time": "2023-07-23T16:51:49.958Z"
   },
   {
    "duration": 203,
    "start_time": "2023-07-23T16:51:50.141Z"
   },
   {
    "duration": 3,
    "start_time": "2023-07-23T16:51:50.346Z"
   },
   {
    "duration": 114,
    "start_time": "2023-07-23T16:51:50.351Z"
   },
   {
    "duration": 508,
    "start_time": "2023-07-23T16:51:50.467Z"
   },
   {
    "duration": 4,
    "start_time": "2023-07-23T16:51:50.976Z"
   },
   {
    "duration": 40,
    "start_time": "2023-07-23T16:51:50.981Z"
   },
   {
    "duration": 54,
    "start_time": "2023-07-23T16:51:51.024Z"
   },
   {
    "duration": 81415,
    "start_time": "2023-07-23T16:51:51.080Z"
   },
   {
    "duration": 4693,
    "start_time": "2023-07-23T16:53:12.497Z"
   },
   {
    "duration": 31,
    "start_time": "2023-07-23T16:53:56.894Z"
   },
   {
    "duration": 1819,
    "start_time": "2023-07-24T17:30:37.439Z"
   },
   {
    "duration": 1742,
    "start_time": "2023-07-24T17:30:39.260Z"
   },
   {
    "duration": 5,
    "start_time": "2023-07-24T17:30:41.004Z"
   },
   {
    "duration": 199,
    "start_time": "2023-07-24T17:30:41.011Z"
   },
   {
    "duration": 3,
    "start_time": "2023-07-24T17:30:41.212Z"
   },
   {
    "duration": 245,
    "start_time": "2023-07-24T17:30:41.217Z"
   },
   {
    "duration": 55,
    "start_time": "2023-07-24T17:30:41.464Z"
   },
   {
    "duration": 51,
    "start_time": "2023-07-24T17:30:41.521Z"
   },
   {
    "duration": 481,
    "start_time": "2023-07-24T17:30:41.574Z"
   },
   {
    "duration": 5,
    "start_time": "2023-07-24T17:30:42.057Z"
   },
   {
    "duration": 85,
    "start_time": "2023-07-24T17:30:42.064Z"
   },
   {
    "duration": 38,
    "start_time": "2023-07-24T17:30:42.151Z"
   },
   {
    "duration": 30,
    "start_time": "2023-07-24T17:30:42.194Z"
   },
   {
    "duration": 383,
    "start_time": "2023-07-24T17:30:42.226Z"
   },
   {
    "duration": 1576,
    "start_time": "2023-07-24T17:30:42.611Z"
   },
   {
    "duration": 304,
    "start_time": "2023-07-24T17:30:44.188Z"
   },
   {
    "duration": 39,
    "start_time": "2023-07-24T17:30:44.494Z"
   },
   {
    "duration": 22,
    "start_time": "2023-07-24T17:30:44.535Z"
   },
   {
    "duration": 236,
    "start_time": "2023-07-24T17:30:44.559Z"
   },
   {
    "duration": 212,
    "start_time": "2023-07-24T17:30:44.796Z"
   },
   {
    "duration": 38,
    "start_time": "2023-07-24T17:30:45.011Z"
   },
   {
    "duration": 194,
    "start_time": "2023-07-24T17:30:45.051Z"
   },
   {
    "duration": 22,
    "start_time": "2023-07-24T17:30:45.247Z"
   },
   {
    "duration": 634,
    "start_time": "2023-07-24T17:30:45.271Z"
   },
   {
    "duration": 26,
    "start_time": "2023-07-24T17:30:45.906Z"
   },
   {
    "duration": 176,
    "start_time": "2023-07-24T17:30:45.934Z"
   },
   {
    "duration": 208,
    "start_time": "2023-07-24T17:30:46.112Z"
   },
   {
    "duration": 3,
    "start_time": "2023-07-24T17:30:46.323Z"
   },
   {
    "duration": 103,
    "start_time": "2023-07-24T17:30:46.329Z"
   },
   {
    "duration": 499,
    "start_time": "2023-07-24T17:30:46.434Z"
   },
   {
    "duration": 3,
    "start_time": "2023-07-24T17:30:46.935Z"
   },
   {
    "duration": 7,
    "start_time": "2023-07-24T17:30:46.940Z"
   },
   {
    "duration": 14,
    "start_time": "2023-07-24T17:30:46.949Z"
   },
   {
    "duration": 77473,
    "start_time": "2023-07-24T17:30:46.965Z"
   },
   {
    "duration": 4085,
    "start_time": "2023-07-24T17:32:04.440Z"
   },
   {
    "duration": 1061077,
    "start_time": "2023-07-24T17:47:10.295Z"
   },
   {
    "duration": 32144,
    "start_time": "2023-07-24T18:22:30.052Z"
   },
   {
    "duration": 13340,
    "start_time": "2023-07-24T18:31:22.370Z"
   },
   {
    "duration": 11627,
    "start_time": "2023-07-24T18:33:37.672Z"
   },
   {
    "duration": 5,
    "start_time": "2023-07-24T18:35:08.532Z"
   },
   {
    "duration": 168742,
    "start_time": "2023-07-24T18:37:26.168Z"
   },
   {
    "duration": 4,
    "start_time": "2023-07-24T18:40:51.530Z"
   },
   {
    "duration": 5563,
    "start_time": "2023-07-24T18:41:30.638Z"
   },
   {
    "duration": 5,
    "start_time": "2023-07-24T18:42:10.183Z"
   },
   {
    "duration": 4,
    "start_time": "2023-07-24T18:42:44.733Z"
   },
   {
    "duration": 4,
    "start_time": "2023-07-24T18:42:58.700Z"
   },
   {
    "duration": 4,
    "start_time": "2023-07-24T18:43:21.638Z"
   },
   {
    "duration": 3,
    "start_time": "2023-07-24T18:43:41.415Z"
   },
   {
    "duration": 556,
    "start_time": "2023-07-24T19:02:38.551Z"
   },
   {
    "duration": 591,
    "start_time": "2023-07-24T19:03:09.216Z"
   },
   {
    "duration": 580,
    "start_time": "2023-07-24T19:03:11.331Z"
   },
   {
    "duration": 3878,
    "start_time": "2023-07-24T19:03:38.387Z"
   },
   {
    "duration": 4020,
    "start_time": "2023-07-24T19:04:00.737Z"
   },
   {
    "duration": 3146,
    "start_time": "2023-07-24T19:04:29.189Z"
   },
   {
    "duration": 3189,
    "start_time": "2023-07-24T19:04:36.980Z"
   },
   {
    "duration": 645,
    "start_time": "2023-07-24T19:05:11.783Z"
   },
   {
    "duration": 511593,
    "start_time": "2023-07-24T19:06:35.294Z"
   },
   {
    "duration": 1579,
    "start_time": "2023-07-24T19:47:41.328Z"
   },
   {
    "duration": 1581,
    "start_time": "2023-07-24T19:47:42.909Z"
   },
   {
    "duration": 5,
    "start_time": "2023-07-24T19:47:44.492Z"
   },
   {
    "duration": 155,
    "start_time": "2023-07-24T19:47:44.499Z"
   },
   {
    "duration": 3,
    "start_time": "2023-07-24T19:47:44.656Z"
   },
   {
    "duration": 243,
    "start_time": "2023-07-24T19:47:44.660Z"
   },
   {
    "duration": 49,
    "start_time": "2023-07-24T19:47:44.905Z"
   },
   {
    "duration": 43,
    "start_time": "2023-07-24T19:47:44.956Z"
   },
   {
    "duration": 502,
    "start_time": "2023-07-24T19:47:45.001Z"
   },
   {
    "duration": 6,
    "start_time": "2023-07-24T19:47:45.506Z"
   },
   {
    "duration": 99,
    "start_time": "2023-07-24T19:47:45.513Z"
   },
   {
    "duration": 39,
    "start_time": "2023-07-24T19:47:45.614Z"
   },
   {
    "duration": 25,
    "start_time": "2023-07-24T19:47:45.654Z"
   },
   {
    "duration": 351,
    "start_time": "2023-07-24T19:47:45.680Z"
   },
   {
    "duration": 1569,
    "start_time": "2023-07-24T19:47:46.033Z"
   },
   {
    "duration": 278,
    "start_time": "2023-07-24T19:47:47.604Z"
   },
   {
    "duration": 44,
    "start_time": "2023-07-24T19:47:47.884Z"
   },
   {
    "duration": 30,
    "start_time": "2023-07-24T19:47:47.930Z"
   },
   {
    "duration": 199,
    "start_time": "2023-07-24T19:47:47.961Z"
   },
   {
    "duration": 183,
    "start_time": "2023-07-24T19:47:48.162Z"
   },
   {
    "duration": 36,
    "start_time": "2023-07-24T19:47:48.347Z"
   },
   {
    "duration": 161,
    "start_time": "2023-07-24T19:47:48.395Z"
   },
   {
    "duration": 23,
    "start_time": "2023-07-24T19:47:48.559Z"
   },
   {
    "duration": 628,
    "start_time": "2023-07-24T19:47:48.583Z"
   },
   {
    "duration": 23,
    "start_time": "2023-07-24T19:47:49.212Z"
   },
   {
    "duration": 175,
    "start_time": "2023-07-24T19:47:49.237Z"
   },
   {
    "duration": 212,
    "start_time": "2023-07-24T19:47:49.414Z"
   },
   {
    "duration": 2,
    "start_time": "2023-07-24T19:47:49.629Z"
   },
   {
    "duration": 99,
    "start_time": "2023-07-24T19:47:49.633Z"
   },
   {
    "duration": 510,
    "start_time": "2023-07-24T19:47:49.734Z"
   },
   {
    "duration": 2,
    "start_time": "2023-07-24T19:47:50.246Z"
   },
   {
    "duration": 46,
    "start_time": "2023-07-24T19:47:50.250Z"
   },
   {
    "duration": 512093,
    "start_time": "2023-07-24T19:47:50.299Z"
   },
   {
    "duration": 74794,
    "start_time": "2023-07-24T19:56:22.394Z"
   },
   {
    "duration": 299,
    "start_time": "2023-07-24T19:57:37.190Z"
   },
   {
    "duration": 148307,
    "start_time": "2023-07-24T19:57:37.491Z"
   },
   {
    "duration": 5205,
    "start_time": "2023-07-24T20:00:05.800Z"
   },
   {
    "duration": 1608,
    "start_time": "2023-07-24T20:00:11.007Z"
   },
   {
    "duration": 4089,
    "start_time": "2023-07-24T20:00:12.616Z"
   },
   {
    "duration": 709,
    "start_time": "2023-07-24T20:00:16.707Z"
   },
   {
    "duration": 164,
    "start_time": "2023-07-24T20:01:46.249Z"
   },
   {
    "duration": 2687,
    "start_time": "2023-07-24T20:02:00.159Z"
   },
   {
    "duration": 4,
    "start_time": "2023-07-24T20:02:53.631Z"
   },
   {
    "duration": 15,
    "start_time": "2023-07-24T20:02:56.681Z"
   },
   {
    "duration": 4,
    "start_time": "2023-07-24T20:03:03.256Z"
   },
   {
    "duration": 9,
    "start_time": "2023-07-24T20:03:23.023Z"
   },
   {
    "duration": 4,
    "start_time": "2023-07-24T20:04:06.886Z"
   },
   {
    "duration": 7,
    "start_time": "2023-07-24T20:04:50.245Z"
   },
   {
    "duration": 7,
    "start_time": "2023-07-24T20:05:13.243Z"
   },
   {
    "duration": 513646,
    "start_time": "2023-07-24T20:05:24.327Z"
   },
   {
    "duration": 144,
    "start_time": "2023-07-24T20:15:11.422Z"
   },
   {
    "duration": 137,
    "start_time": "2023-07-24T20:15:19.393Z"
   },
   {
    "duration": 4839,
    "start_time": "2023-07-24T20:24:30.262Z"
   },
   {
    "duration": 1384,
    "start_time": "2023-07-24T20:25:50.423Z"
   },
   {
    "duration": 4013,
    "start_time": "2023-07-24T20:25:52.911Z"
   },
   {
    "duration": 716,
    "start_time": "2023-07-24T20:25:56.926Z"
   },
   {
    "duration": 5,
    "start_time": "2023-07-25T09:23:34.861Z"
   },
   {
    "duration": 1240,
    "start_time": "2023-07-25T09:23:35.026Z"
   },
   {
    "duration": 3,
    "start_time": "2023-07-25T09:23:36.268Z"
   },
   {
    "duration": 268,
    "start_time": "2023-07-25T09:23:36.273Z"
   },
   {
    "duration": 3,
    "start_time": "2023-07-25T09:23:36.544Z"
   },
   {
    "duration": 243,
    "start_time": "2023-07-25T09:23:36.549Z"
   },
   {
    "duration": 45,
    "start_time": "2023-07-25T09:23:36.793Z"
   },
   {
    "duration": 35,
    "start_time": "2023-07-25T09:23:36.840Z"
   },
   {
    "duration": 457,
    "start_time": "2023-07-25T09:23:36.876Z"
   },
   {
    "duration": 5,
    "start_time": "2023-07-25T09:23:37.334Z"
   },
   {
    "duration": 95,
    "start_time": "2023-07-25T09:23:37.341Z"
   },
   {
    "duration": 35,
    "start_time": "2023-07-25T09:23:37.438Z"
   },
   {
    "duration": 42,
    "start_time": "2023-07-25T09:23:37.474Z"
   },
   {
    "duration": 373,
    "start_time": "2023-07-25T09:23:37.517Z"
   },
   {
    "duration": 1522,
    "start_time": "2023-07-25T09:23:38.347Z"
   },
   {
    "duration": 347,
    "start_time": "2023-07-25T09:23:39.873Z"
   },
   {
    "duration": 41,
    "start_time": "2023-07-25T09:23:40.222Z"
   },
   {
    "duration": 22,
    "start_time": "2023-07-25T09:23:40.265Z"
   },
   {
    "duration": 188,
    "start_time": "2023-07-25T09:23:40.289Z"
   },
   {
    "duration": 172,
    "start_time": "2023-07-25T09:23:40.478Z"
   },
   {
    "duration": 34,
    "start_time": "2023-07-25T09:23:40.718Z"
   },
   {
    "duration": 165,
    "start_time": "2023-07-25T09:23:41.052Z"
   },
   {
    "duration": 20,
    "start_time": "2023-07-25T09:23:41.219Z"
   },
   {
    "duration": 610,
    "start_time": "2023-07-25T09:23:41.387Z"
   },
   {
    "duration": 36,
    "start_time": "2023-07-25T09:23:42.269Z"
   },
   {
    "duration": 151,
    "start_time": "2023-07-25T09:23:43.310Z"
   },
   {
    "duration": 173,
    "start_time": "2023-07-25T09:23:43.892Z"
   },
   {
    "duration": 3,
    "start_time": "2023-07-25T09:23:45.000Z"
   },
   {
    "duration": 88,
    "start_time": "2023-07-25T09:23:45.390Z"
   },
   {
    "duration": 3,
    "start_time": "2023-07-25T09:25:12.922Z"
   },
   {
    "duration": 480,
    "start_time": "2023-07-25T09:25:15.431Z"
   },
   {
    "duration": 1667,
    "start_time": "2023-07-25T09:25:19.547Z"
   },
   {
    "duration": 1235,
    "start_time": "2023-07-25T09:25:21.216Z"
   },
   {
    "duration": 5,
    "start_time": "2023-07-25T09:25:22.453Z"
   },
   {
    "duration": 160,
    "start_time": "2023-07-25T09:25:22.459Z"
   },
   {
    "duration": 3,
    "start_time": "2023-07-25T09:25:22.621Z"
   },
   {
    "duration": 270,
    "start_time": "2023-07-25T09:25:22.631Z"
   },
   {
    "duration": 53,
    "start_time": "2023-07-25T09:25:22.903Z"
   },
   {
    "duration": 31,
    "start_time": "2023-07-25T09:25:22.958Z"
   },
   {
    "duration": 429,
    "start_time": "2023-07-25T09:25:22.991Z"
   },
   {
    "duration": 11,
    "start_time": "2023-07-25T09:25:23.423Z"
   },
   {
    "duration": 74,
    "start_time": "2023-07-25T09:25:23.435Z"
   },
   {
    "duration": 31,
    "start_time": "2023-07-25T09:25:23.511Z"
   },
   {
    "duration": 23,
    "start_time": "2023-07-25T09:25:23.544Z"
   },
   {
    "duration": 299,
    "start_time": "2023-07-25T09:25:23.569Z"
   },
   {
    "duration": 1368,
    "start_time": "2023-07-25T09:25:23.870Z"
   },
   {
    "duration": 259,
    "start_time": "2023-07-25T09:25:25.240Z"
   },
   {
    "duration": 49,
    "start_time": "2023-07-25T09:25:25.501Z"
   },
   {
    "duration": 31,
    "start_time": "2023-07-25T09:25:25.551Z"
   },
   {
    "duration": 230,
    "start_time": "2023-07-25T09:25:25.584Z"
   },
   {
    "duration": 161,
    "start_time": "2023-07-25T09:25:25.816Z"
   },
   {
    "duration": 33,
    "start_time": "2023-07-25T09:25:25.978Z"
   },
   {
    "duration": 173,
    "start_time": "2023-07-25T09:25:26.012Z"
   },
   {
    "duration": 20,
    "start_time": "2023-07-25T09:25:26.187Z"
   },
   {
    "duration": 566,
    "start_time": "2023-07-25T09:25:26.209Z"
   },
   {
    "duration": 23,
    "start_time": "2023-07-25T09:25:26.777Z"
   },
   {
    "duration": 164,
    "start_time": "2023-07-25T09:25:26.802Z"
   },
   {
    "duration": 191,
    "start_time": "2023-07-25T09:25:26.968Z"
   },
   {
    "duration": 3,
    "start_time": "2023-07-25T09:25:27.162Z"
   },
   {
    "duration": 97,
    "start_time": "2023-07-25T09:25:27.167Z"
   },
   {
    "duration": 463,
    "start_time": "2023-07-25T09:25:27.266Z"
   },
   {
    "duration": 2,
    "start_time": "2023-07-25T09:25:27.731Z"
   },
   {
    "duration": 11,
    "start_time": "2023-07-25T09:25:27.735Z"
   },
   {
    "duration": 18870,
    "start_time": "2023-07-25T09:25:27.747Z"
   },
   {
    "duration": 1370,
    "start_time": "2023-07-25T09:26:18.156Z"
   },
   {
    "duration": 1258,
    "start_time": "2023-07-25T09:26:20.610Z"
   },
   {
    "duration": 4,
    "start_time": "2023-07-25T09:26:21.870Z"
   },
   {
    "duration": 135,
    "start_time": "2023-07-25T09:26:21.875Z"
   },
   {
    "duration": 3,
    "start_time": "2023-07-25T09:26:22.012Z"
   },
   {
    "duration": 255,
    "start_time": "2023-07-25T09:26:22.017Z"
   },
   {
    "duration": 39,
    "start_time": "2023-07-25T09:26:22.273Z"
   },
   {
    "duration": 48,
    "start_time": "2023-07-25T09:26:22.314Z"
   },
   {
    "duration": 417,
    "start_time": "2023-07-25T09:26:22.364Z"
   },
   {
    "duration": 6,
    "start_time": "2023-07-25T09:26:22.783Z"
   },
   {
    "duration": 48,
    "start_time": "2023-07-25T09:26:22.791Z"
   },
   {
    "duration": 46,
    "start_time": "2023-07-25T09:26:22.840Z"
   },
   {
    "duration": 20,
    "start_time": "2023-07-25T09:26:22.888Z"
   },
   {
    "duration": 306,
    "start_time": "2023-07-25T09:26:22.909Z"
   },
   {
    "duration": 1316,
    "start_time": "2023-07-25T09:26:23.216Z"
   },
   {
    "duration": 304,
    "start_time": "2023-07-25T09:26:24.534Z"
   },
   {
    "duration": 37,
    "start_time": "2023-07-25T09:26:24.841Z"
   },
   {
    "duration": 23,
    "start_time": "2023-07-25T09:26:24.880Z"
   },
   {
    "duration": 193,
    "start_time": "2023-07-25T09:26:24.905Z"
   },
   {
    "duration": 159,
    "start_time": "2023-07-25T09:26:25.100Z"
   },
   {
    "duration": 32,
    "start_time": "2023-07-25T09:26:25.261Z"
   },
   {
    "duration": 157,
    "start_time": "2023-07-25T09:26:25.295Z"
   },
   {
    "duration": 20,
    "start_time": "2023-07-25T09:26:25.455Z"
   },
   {
    "duration": 565,
    "start_time": "2023-07-25T09:26:25.477Z"
   },
   {
    "duration": 20,
    "start_time": "2023-07-25T09:26:26.045Z"
   },
   {
    "duration": 154,
    "start_time": "2023-07-25T09:26:26.067Z"
   },
   {
    "duration": 171,
    "start_time": "2023-07-25T09:26:26.223Z"
   },
   {
    "duration": 3,
    "start_time": "2023-07-25T09:26:26.590Z"
   },
   {
    "duration": 78,
    "start_time": "2023-07-25T09:26:26.905Z"
   },
   {
    "duration": 440,
    "start_time": "2023-07-25T09:26:27.107Z"
   },
   {
    "duration": 3,
    "start_time": "2023-07-25T09:26:28.164Z"
   },
   {
    "duration": 4,
    "start_time": "2023-07-25T09:26:28.899Z"
   },
   {
    "duration": 473817,
    "start_time": "2023-07-25T09:26:30.291Z"
   },
   {
    "duration": 1652,
    "start_time": "2023-07-25T09:35:15.737Z"
   },
   {
    "duration": 453979,
    "start_time": "2023-07-25T09:35:39.849Z"
   },
   {
    "duration": 66802,
    "start_time": "2023-07-25T09:43:13.830Z"
   },
   {
    "duration": 132605,
    "start_time": "2023-07-25T09:44:20.633Z"
   },
   {
    "duration": 4896,
    "start_time": "2023-07-25T09:46:33.240Z"
   },
   {
    "duration": 1328,
    "start_time": "2023-07-25T09:46:38.138Z"
   },
   {
    "duration": 3656,
    "start_time": "2023-07-25T09:46:39.467Z"
   },
   {
    "duration": 627,
    "start_time": "2023-07-25T09:46:43.124Z"
   },
   {
    "duration": 13,
    "start_time": "2023-07-25T10:02:36.982Z"
   },
   {
    "duration": 4,
    "start_time": "2023-07-25T11:53:15.906Z"
   },
   {
    "duration": 1494,
    "start_time": "2023-07-25T11:53:16.446Z"
   },
   {
    "duration": 4,
    "start_time": "2023-07-25T11:53:17.942Z"
   },
   {
    "duration": 142,
    "start_time": "2023-07-25T11:53:17.948Z"
   },
   {
    "duration": 3,
    "start_time": "2023-07-25T11:53:18.092Z"
   },
   {
    "duration": 224,
    "start_time": "2023-07-25T11:53:18.096Z"
   },
   {
    "duration": 46,
    "start_time": "2023-07-25T11:53:18.321Z"
   },
   {
    "duration": 31,
    "start_time": "2023-07-25T11:53:18.416Z"
   },
   {
    "duration": 403,
    "start_time": "2023-07-25T11:53:18.758Z"
   },
   {
    "duration": 5,
    "start_time": "2023-07-25T11:53:19.163Z"
   },
   {
    "duration": 62,
    "start_time": "2023-07-25T11:53:19.493Z"
   },
   {
    "duration": 32,
    "start_time": "2023-07-25T11:53:20.014Z"
   },
   {
    "duration": 20,
    "start_time": "2023-07-25T11:53:20.846Z"
   },
   {
    "duration": 280,
    "start_time": "2023-07-25T11:53:21.284Z"
   },
   {
    "duration": 1149,
    "start_time": "2023-07-25T11:53:21.566Z"
   },
   {
    "duration": 332,
    "start_time": "2023-07-25T11:53:22.717Z"
   },
   {
    "duration": 32,
    "start_time": "2023-07-25T11:53:23.052Z"
   },
   {
    "duration": 35,
    "start_time": "2023-07-25T11:53:23.085Z"
   },
   {
    "duration": 184,
    "start_time": "2023-07-25T11:53:25.632Z"
   },
   {
    "duration": 160,
    "start_time": "2023-07-25T11:53:26.797Z"
   },
   {
    "duration": 35,
    "start_time": "2023-07-25T11:53:28.571Z"
   },
   {
    "duration": 145,
    "start_time": "2023-07-25T11:53:29.541Z"
   },
   {
    "duration": 22,
    "start_time": "2023-07-25T11:55:59.709Z"
   },
   {
    "duration": 531,
    "start_time": "2023-07-25T11:56:02.561Z"
   },
   {
    "duration": 20,
    "start_time": "2023-07-25T11:56:05.398Z"
   },
   {
    "duration": 108,
    "start_time": "2023-07-25T11:58:04.709Z"
   },
   {
    "duration": 10,
    "start_time": "2023-07-25T11:58:14.125Z"
   },
   {
    "duration": 5,
    "start_time": "2023-07-25T11:58:42.744Z"
   },
   {
    "duration": 199,
    "start_time": "2023-07-25T11:58:54.132Z"
   },
   {
    "duration": 450,
    "start_time": "2023-07-25T11:59:00.325Z"
   },
   {
    "duration": 132,
    "start_time": "2023-07-25T11:59:09.829Z"
   },
   {
    "duration": 123,
    "start_time": "2023-07-25T12:10:39.123Z"
   },
   {
    "duration": 4,
    "start_time": "2023-07-25T12:12:43.539Z"
   },
   {
    "duration": 14,
    "start_time": "2023-07-25T12:12:52.324Z"
   },
   {
    "duration": 21,
    "start_time": "2023-07-25T12:18:31.656Z"
   },
   {
    "duration": 18,
    "start_time": "2023-07-25T12:19:13.443Z"
   },
   {
    "duration": 6,
    "start_time": "2023-07-25T12:19:21.696Z"
   },
   {
    "duration": 1456,
    "start_time": "2023-07-25T12:19:21.813Z"
   },
   {
    "duration": 5,
    "start_time": "2023-07-25T12:19:23.271Z"
   },
   {
    "duration": 195,
    "start_time": "2023-07-25T12:19:23.278Z"
   },
   {
    "duration": 128,
    "start_time": "2023-07-25T12:19:23.476Z"
   },
   {
    "duration": 278,
    "start_time": "2023-07-25T12:19:23.606Z"
   },
   {
    "duration": 33,
    "start_time": "2023-07-25T12:19:23.885Z"
   },
   {
    "duration": 32,
    "start_time": "2023-07-25T12:19:23.932Z"
   },
   {
    "duration": 410,
    "start_time": "2023-07-25T12:19:23.965Z"
   },
   {
    "duration": 5,
    "start_time": "2023-07-25T12:19:24.377Z"
   },
   {
    "duration": 101,
    "start_time": "2023-07-25T12:19:24.385Z"
   },
   {
    "duration": 52,
    "start_time": "2023-07-25T12:19:24.488Z"
   },
   {
    "duration": 53,
    "start_time": "2023-07-25T12:19:24.542Z"
   },
   {
    "duration": 345,
    "start_time": "2023-07-25T12:19:24.597Z"
   },
   {
    "duration": 1374,
    "start_time": "2023-07-25T12:19:24.944Z"
   },
   {
    "duration": 308,
    "start_time": "2023-07-25T12:19:26.319Z"
   },
   {
    "duration": 38,
    "start_time": "2023-07-25T12:19:26.632Z"
   },
   {
    "duration": 36,
    "start_time": "2023-07-25T12:19:26.671Z"
   },
   {
    "duration": 209,
    "start_time": "2023-07-25T12:19:26.709Z"
   },
   {
    "duration": 206,
    "start_time": "2023-07-25T12:19:26.919Z"
   },
   {
    "duration": 44,
    "start_time": "2023-07-25T12:19:27.127Z"
   },
   {
    "duration": 254,
    "start_time": "2023-07-25T12:19:27.173Z"
   },
   {
    "duration": 22,
    "start_time": "2023-07-25T12:19:27.429Z"
   },
   {
    "duration": 656,
    "start_time": "2023-07-25T12:19:27.454Z"
   },
   {
    "duration": 26,
    "start_time": "2023-07-25T12:19:28.112Z"
   },
   {
    "duration": 156,
    "start_time": "2023-07-25T12:19:28.141Z"
   },
   {
    "duration": 16,
    "start_time": "2023-07-25T12:19:28.298Z"
   },
   {
    "duration": 34,
    "start_time": "2023-07-25T12:19:39.705Z"
   },
   {
    "duration": 24,
    "start_time": "2023-07-25T12:19:44.029Z"
   },
   {
    "duration": 20,
    "start_time": "2023-07-25T12:19:52.706Z"
   },
   {
    "duration": 15,
    "start_time": "2023-07-25T12:22:02.689Z"
   },
   {
    "duration": 16,
    "start_time": "2023-07-25T12:22:12.193Z"
   },
   {
    "duration": 14,
    "start_time": "2023-07-25T12:22:18.166Z"
   },
   {
    "duration": 24,
    "start_time": "2023-07-25T12:22:23.827Z"
   },
   {
    "duration": 17,
    "start_time": "2023-07-25T12:22:24.232Z"
   },
   {
    "duration": 37,
    "start_time": "2023-07-25T12:22:25.643Z"
   },
   {
    "duration": 16,
    "start_time": "2023-07-25T12:22:27.150Z"
   },
   {
    "duration": 15,
    "start_time": "2023-07-25T12:22:27.641Z"
   },
   {
    "duration": 5,
    "start_time": "2023-07-25T12:22:32.847Z"
   },
   {
    "duration": 7759,
    "start_time": "2023-07-25T12:22:32.966Z"
   },
   {
    "duration": 17,
    "start_time": "2023-07-25T12:22:40.726Z"
   },
   {
    "duration": 151,
    "start_time": "2023-07-25T12:22:40.747Z"
   },
   {
    "duration": 3,
    "start_time": "2023-07-25T12:22:40.900Z"
   },
   {
    "duration": 214,
    "start_time": "2023-07-25T12:22:40.905Z"
   },
   {
    "duration": 43,
    "start_time": "2023-07-25T12:22:41.121Z"
   },
   {
    "duration": 33,
    "start_time": "2023-07-25T12:22:41.166Z"
   },
   {
    "duration": 421,
    "start_time": "2023-07-25T12:22:41.200Z"
   },
   {
    "duration": 10,
    "start_time": "2023-07-25T12:22:41.623Z"
   },
   {
    "duration": 44,
    "start_time": "2023-07-25T12:22:41.642Z"
   },
   {
    "duration": 34,
    "start_time": "2023-07-25T12:22:41.688Z"
   },
   {
    "duration": 28,
    "start_time": "2023-07-25T12:22:41.724Z"
   },
   {
    "duration": 420,
    "start_time": "2023-07-25T12:22:41.754Z"
   },
   {
    "duration": 1218,
    "start_time": "2023-07-25T12:22:42.176Z"
   },
   {
    "duration": 259,
    "start_time": "2023-07-25T12:22:43.396Z"
   },
   {
    "duration": 36,
    "start_time": "2023-07-25T12:22:43.657Z"
   },
   {
    "duration": 19,
    "start_time": "2023-07-25T12:22:43.695Z"
   },
   {
    "duration": 192,
    "start_time": "2023-07-25T12:22:43.731Z"
   },
   {
    "duration": 173,
    "start_time": "2023-07-25T12:22:43.925Z"
   },
   {
    "duration": 41,
    "start_time": "2023-07-25T12:22:44.100Z"
   },
   {
    "duration": 159,
    "start_time": "2023-07-25T12:22:44.143Z"
   },
   {
    "duration": 21,
    "start_time": "2023-07-25T12:22:44.303Z"
   },
   {
    "duration": 613,
    "start_time": "2023-07-25T12:22:44.331Z"
   },
   {
    "duration": 21,
    "start_time": "2023-07-25T12:22:44.946Z"
   },
   {
    "duration": 146,
    "start_time": "2023-07-25T12:22:44.968Z"
   },
   {
    "duration": 26,
    "start_time": "2023-07-25T12:22:45.116Z"
   },
   {
    "duration": 12,
    "start_time": "2023-07-25T12:23:34.157Z"
   },
   {
    "duration": 1579,
    "start_time": "2023-07-25T12:23:48.319Z"
   },
   {
    "duration": 1497,
    "start_time": "2023-07-25T12:23:50.416Z"
   },
   {
    "duration": 4,
    "start_time": "2023-07-25T12:23:51.915Z"
   },
   {
    "duration": 165,
    "start_time": "2023-07-25T12:23:51.921Z"
   },
   {
    "duration": 6,
    "start_time": "2023-07-25T12:23:52.088Z"
   },
   {
    "duration": 272,
    "start_time": "2023-07-25T12:23:52.096Z"
   },
   {
    "duration": 40,
    "start_time": "2023-07-25T12:23:52.370Z"
   },
   {
    "duration": 73,
    "start_time": "2023-07-25T12:23:52.418Z"
   },
   {
    "duration": 497,
    "start_time": "2023-07-25T12:23:52.493Z"
   },
   {
    "duration": 5,
    "start_time": "2023-07-25T12:23:52.992Z"
   },
   {
    "duration": 56,
    "start_time": "2023-07-25T12:23:53.000Z"
   },
   {
    "duration": 37,
    "start_time": "2023-07-25T12:23:53.058Z"
   },
   {
    "duration": 59,
    "start_time": "2023-07-25T12:23:53.097Z"
   },
   {
    "duration": 371,
    "start_time": "2023-07-25T12:23:53.158Z"
   },
   {
    "duration": 1381,
    "start_time": "2023-07-25T12:23:53.531Z"
   },
   {
    "duration": 256,
    "start_time": "2023-07-25T12:23:54.914Z"
   },
   {
    "duration": 34,
    "start_time": "2023-07-25T12:23:55.173Z"
   },
   {
    "duration": 40,
    "start_time": "2023-07-25T12:23:55.209Z"
   },
   {
    "duration": 212,
    "start_time": "2023-07-25T12:23:55.251Z"
   },
   {
    "duration": 175,
    "start_time": "2023-07-25T12:23:55.465Z"
   },
   {
    "duration": 37,
    "start_time": "2023-07-25T12:23:55.645Z"
   },
   {
    "duration": 175,
    "start_time": "2023-07-25T12:23:55.684Z"
   },
   {
    "duration": 24,
    "start_time": "2023-07-25T12:23:56.216Z"
   },
   {
    "duration": 566,
    "start_time": "2023-07-25T12:23:56.845Z"
   },
   {
    "duration": 27,
    "start_time": "2023-07-25T12:23:57.414Z"
   },
   {
    "duration": 152,
    "start_time": "2023-07-25T12:23:57.444Z"
   },
   {
    "duration": 13,
    "start_time": "2023-07-25T12:23:57.598Z"
   },
   {
    "duration": 35,
    "start_time": "2023-07-25T12:24:05.947Z"
   },
   {
    "duration": 20,
    "start_time": "2023-07-25T12:24:08.841Z"
   },
   {
    "duration": 140,
    "start_time": "2023-07-25T12:24:17.756Z"
   },
   {
    "duration": 167,
    "start_time": "2023-07-25T12:24:33.010Z"
   },
   {
    "duration": 203,
    "start_time": "2023-07-25T12:24:36.448Z"
   },
   {
    "duration": 114,
    "start_time": "2023-07-25T12:24:51.493Z"
   },
   {
    "duration": 6,
    "start_time": "2023-07-25T12:24:54.518Z"
   },
   {
    "duration": 162,
    "start_time": "2023-07-25T12:24:56.734Z"
   },
   {
    "duration": 22,
    "start_time": "2023-07-25T12:25:13.053Z"
   },
   {
    "duration": 31,
    "start_time": "2023-07-25T12:25:37.237Z"
   },
   {
    "duration": 110,
    "start_time": "2023-07-25T12:26:08.316Z"
   },
   {
    "duration": 42,
    "start_time": "2023-07-25T12:26:12.097Z"
   },
   {
    "duration": 54,
    "start_time": "2023-07-25T12:26:25.414Z"
   },
   {
    "duration": 122,
    "start_time": "2023-07-25T12:26:26.809Z"
   },
   {
    "duration": 4,
    "start_time": "2023-07-25T12:26:33.717Z"
   },
   {
    "duration": 1303,
    "start_time": "2023-07-25T12:26:33.824Z"
   },
   {
    "duration": 4,
    "start_time": "2023-07-25T12:26:35.132Z"
   },
   {
    "duration": 182,
    "start_time": "2023-07-25T12:26:35.138Z"
   },
   {
    "duration": 39,
    "start_time": "2023-07-25T12:26:35.321Z"
   },
   {
    "duration": 259,
    "start_time": "2023-07-25T12:26:35.361Z"
   },
   {
    "duration": 46,
    "start_time": "2023-07-25T12:26:35.622Z"
   },
   {
    "duration": 37,
    "start_time": "2023-07-25T12:26:35.670Z"
   },
   {
    "duration": 473,
    "start_time": "2023-07-25T12:26:35.709Z"
   },
   {
    "duration": 5,
    "start_time": "2023-07-25T12:26:36.183Z"
   },
   {
    "duration": 103,
    "start_time": "2023-07-25T12:26:36.190Z"
   },
   {
    "duration": 38,
    "start_time": "2023-07-25T12:26:36.294Z"
   },
   {
    "duration": 88,
    "start_time": "2023-07-25T12:26:36.334Z"
   },
   {
    "duration": 412,
    "start_time": "2023-07-25T12:26:36.424Z"
   },
   {
    "duration": 1268,
    "start_time": "2023-07-25T12:26:36.838Z"
   },
   {
    "duration": 243,
    "start_time": "2023-07-25T12:26:38.108Z"
   },
   {
    "duration": 36,
    "start_time": "2023-07-25T12:26:38.353Z"
   },
   {
    "duration": 25,
    "start_time": "2023-07-25T12:26:38.391Z"
   },
   {
    "duration": 191,
    "start_time": "2023-07-25T12:26:38.431Z"
   },
   {
    "duration": 167,
    "start_time": "2023-07-25T12:26:38.623Z"
   },
   {
    "duration": 40,
    "start_time": "2023-07-25T12:26:38.792Z"
   },
   {
    "duration": 155,
    "start_time": "2023-07-25T12:26:38.833Z"
   },
   {
    "duration": 21,
    "start_time": "2023-07-25T12:26:38.990Z"
   },
   {
    "duration": 557,
    "start_time": "2023-07-25T12:26:39.013Z"
   },
   {
    "duration": 20,
    "start_time": "2023-07-25T12:26:39.573Z"
   },
   {
    "duration": 158,
    "start_time": "2023-07-25T12:26:39.596Z"
   },
   {
    "duration": 14,
    "start_time": "2023-07-25T12:26:39.756Z"
   },
   {
    "duration": 79,
    "start_time": "2023-07-25T12:26:39.772Z"
   },
   {
    "duration": 141,
    "start_time": "2023-07-25T12:26:40.097Z"
   },
   {
    "duration": 178,
    "start_time": "2023-07-25T12:26:40.511Z"
   },
   {
    "duration": 33,
    "start_time": "2023-07-25T12:26:41.812Z"
   },
   {
    "duration": 3,
    "start_time": "2023-07-25T12:27:18.797Z"
   },
   {
    "duration": 79,
    "start_time": "2023-07-25T12:27:19.201Z"
   },
   {
    "duration": 10,
    "start_time": "2023-07-25T12:27:20.093Z"
   },
   {
    "duration": 5,
    "start_time": "2023-07-25T12:27:37.586Z"
   },
   {
    "duration": 14,
    "start_time": "2023-07-25T12:27:41.905Z"
   },
   {
    "duration": 87,
    "start_time": "2023-07-25T12:28:04.729Z"
   },
   {
    "duration": 921,
    "start_time": "2023-07-25T12:28:27.436Z"
   },
   {
    "duration": 551,
    "start_time": "2023-07-25T12:28:39.197Z"
   },
   {
    "duration": 3,
    "start_time": "2023-07-25T12:28:59.652Z"
   },
   {
    "duration": 22,
    "start_time": "2023-07-25T12:30:15.119Z"
   },
   {
    "duration": 569,
    "start_time": "2023-07-25T12:30:38.409Z"
   },
   {
    "duration": 20,
    "start_time": "2023-07-25T12:31:23.351Z"
   },
   {
    "duration": 15,
    "start_time": "2023-07-25T12:31:31.497Z"
   },
   {
    "duration": 9,
    "start_time": "2023-07-25T12:31:34.189Z"
   },
   {
    "duration": 2,
    "start_time": "2023-07-25T12:32:02.827Z"
   },
   {
    "duration": 4,
    "start_time": "2023-07-25T12:32:08.294Z"
   },
   {
    "duration": 3301,
    "start_time": "2023-07-25T12:32:09.293Z"
   },
   {
    "duration": 58097,
    "start_time": "2023-07-25T12:32:37.055Z"
   },
   {
    "duration": 61767,
    "start_time": "2023-07-25T12:33:46.731Z"
   },
   {
    "duration": 138239,
    "start_time": "2023-07-25T12:34:48.500Z"
   },
   {
    "duration": 7793,
    "start_time": "2023-07-25T12:37:06.741Z"
   },
   {
    "duration": 331,
    "start_time": "2023-07-25T12:45:52.845Z"
   },
   {
    "duration": 3439,
    "start_time": "2023-07-25T12:45:57.029Z"
   },
   {
    "duration": 617,
    "start_time": "2023-07-25T12:46:00.470Z"
   },
   {
    "duration": 112,
    "start_time": "2023-07-25T14:25:31.403Z"
   },
   {
    "duration": 17,
    "start_time": "2023-07-25T14:25:35.130Z"
   },
   {
    "duration": 17,
    "start_time": "2023-07-25T14:25:39.039Z"
   },
   {
    "duration": 4,
    "start_time": "2023-07-25T14:25:44.940Z"
   },
   {
    "duration": 4,
    "start_time": "2023-07-25T14:25:48.336Z"
   },
   {
    "duration": 4,
    "start_time": "2023-07-25T14:25:53.016Z"
   },
   {
    "duration": 5,
    "start_time": "2023-07-25T14:31:27.734Z"
   },
   {
    "duration": 4,
    "start_time": "2023-07-25T14:31:33.612Z"
   },
   {
    "duration": 41,
    "start_time": "2023-07-25T14:32:58.616Z"
   },
   {
    "duration": 113,
    "start_time": "2023-07-25T14:37:46.433Z"
   },
   {
    "duration": 4,
    "start_time": "2023-07-25T14:37:48.249Z"
   },
   {
    "duration": 3,
    "start_time": "2023-07-25T14:37:53.542Z"
   },
   {
    "duration": 18,
    "start_time": "2023-07-25T14:38:04.119Z"
   },
   {
    "duration": 4,
    "start_time": "2023-07-25T14:38:08.731Z"
   },
   {
    "duration": 4,
    "start_time": "2023-07-25T14:38:15.948Z"
   },
   {
    "duration": 4,
    "start_time": "2023-07-25T14:38:18.403Z"
   },
   {
    "duration": 4,
    "start_time": "2023-07-25T14:38:19.858Z"
   },
   {
    "duration": 4,
    "start_time": "2023-07-25T14:38:21.194Z"
   },
   {
    "duration": 13,
    "start_time": "2023-07-25T14:39:19.348Z"
   },
   {
    "duration": 1219,
    "start_time": "2023-07-25T14:39:19.449Z"
   },
   {
    "duration": 3,
    "start_time": "2023-07-25T14:39:20.670Z"
   },
   {
    "duration": 164,
    "start_time": "2023-07-25T14:39:20.675Z"
   },
   {
    "duration": 6,
    "start_time": "2023-07-25T14:39:20.848Z"
   },
   {
    "duration": 247,
    "start_time": "2023-07-25T14:39:20.855Z"
   },
   {
    "duration": 44,
    "start_time": "2023-07-25T14:39:21.103Z"
   },
   {
    "duration": 34,
    "start_time": "2023-07-25T14:39:21.149Z"
   },
   {
    "duration": 429,
    "start_time": "2023-07-25T14:39:21.184Z"
   },
   {
    "duration": 5,
    "start_time": "2023-07-25T14:39:21.615Z"
   },
   {
    "duration": 83,
    "start_time": "2023-07-25T14:39:21.622Z"
   },
   {
    "duration": 40,
    "start_time": "2023-07-25T14:39:21.707Z"
   },
   {
    "duration": 36,
    "start_time": "2023-07-25T14:39:21.748Z"
   },
   {
    "duration": 285,
    "start_time": "2023-07-25T14:39:21.786Z"
   },
   {
    "duration": 1285,
    "start_time": "2023-07-25T14:39:22.072Z"
   },
   {
    "duration": 265,
    "start_time": "2023-07-25T14:39:23.359Z"
   },
   {
    "duration": 65,
    "start_time": "2023-07-25T14:39:23.626Z"
   },
   {
    "duration": 59,
    "start_time": "2023-07-25T14:39:23.693Z"
   },
   {
    "duration": 196,
    "start_time": "2023-07-25T14:39:23.754Z"
   },
   {
    "duration": 195,
    "start_time": "2023-07-25T14:39:23.952Z"
   },
   {
    "duration": 31,
    "start_time": "2023-07-25T14:39:24.149Z"
   },
   {
    "duration": 162,
    "start_time": "2023-07-25T14:39:24.181Z"
   },
   {
    "duration": 24,
    "start_time": "2023-07-25T14:39:24.345Z"
   },
   {
    "duration": 652,
    "start_time": "2023-07-25T14:39:24.372Z"
   },
   {
    "duration": 35,
    "start_time": "2023-07-25T14:39:25.026Z"
   },
   {
    "duration": 146,
    "start_time": "2023-07-25T14:39:25.064Z"
   },
   {
    "duration": 31,
    "start_time": "2023-07-25T14:39:25.212Z"
   },
   {
    "duration": 47,
    "start_time": "2023-07-25T14:39:25.245Z"
   },
   {
    "duration": 157,
    "start_time": "2023-07-25T14:39:25.294Z"
   },
   {
    "duration": 189,
    "start_time": "2023-07-25T14:39:25.454Z"
   },
   {
    "duration": 2,
    "start_time": "2023-07-25T14:39:25.747Z"
   },
   {
    "duration": 23,
    "start_time": "2023-07-25T14:39:26.519Z"
   },
   {
    "duration": 121,
    "start_time": "2023-07-25T14:39:26.902Z"
   },
   {
    "duration": 701,
    "start_time": "2023-07-25T14:39:27.357Z"
   },
   {
    "duration": 7,
    "start_time": "2023-07-25T14:39:32.930Z"
   },
   {
    "duration": 4,
    "start_time": "2023-07-25T14:39:33.503Z"
   },
   {
    "duration": 45394,
    "start_time": "2023-07-25T14:39:34.345Z"
   },
   {
    "duration": 4428,
    "start_time": "2023-07-25T14:41:20.761Z"
   },
   {
    "duration": 3,
    "start_time": "2023-07-25T14:41:58.043Z"
   },
   {
    "duration": 18,
    "start_time": "2023-07-25T14:41:58.230Z"
   },
   {
    "duration": 108,
    "start_time": "2023-07-25T14:41:58.498Z"
   },
   {
    "duration": 735,
    "start_time": "2023-07-25T14:41:58.710Z"
   },
   {
    "duration": 197,
    "start_time": "2023-07-25T14:42:03.395Z"
   },
   {
    "duration": 194,
    "start_time": "2023-07-25T14:42:48.627Z"
   },
   {
    "duration": 20,
    "start_time": "2023-07-25T14:45:22.401Z"
   },
   {
    "duration": 207,
    "start_time": "2023-07-25T14:45:29.198Z"
   },
   {
    "duration": 28,
    "start_time": "2023-07-25T14:45:30.713Z"
   },
   {
    "duration": 15,
    "start_time": "2023-07-25T14:45:45.620Z"
   },
   {
    "duration": 40485,
    "start_time": "2023-07-25T14:46:37.730Z"
   },
   {
    "duration": 118,
    "start_time": "2023-07-25T14:47:18.216Z"
   },
   {
    "duration": 26,
    "start_time": "2023-07-25T14:47:18.336Z"
   },
   {
    "duration": 84,
    "start_time": "2023-07-25T14:47:36.695Z"
   },
   {
    "duration": 110,
    "start_time": "2023-07-25T14:47:54.702Z"
   },
   {
    "duration": 131,
    "start_time": "2023-07-25T14:48:06.193Z"
   },
   {
    "duration": 5957,
    "start_time": "2023-07-25T14:48:57.935Z"
   },
   {
    "duration": 29,
    "start_time": "2023-07-25T14:49:10.002Z"
   },
   {
    "duration": 29,
    "start_time": "2023-07-25T14:49:14.297Z"
   },
   {
    "duration": 16,
    "start_time": "2023-07-25T14:49:18.521Z"
   },
   {
    "duration": 9,
    "start_time": "2023-07-25T14:49:23.812Z"
   },
   {
    "duration": 20,
    "start_time": "2023-07-25T14:49:32.401Z"
   },
   {
    "duration": 87,
    "start_time": "2023-07-25T14:49:41.802Z"
   },
   {
    "duration": 45,
    "start_time": "2023-07-25T14:49:57.722Z"
   },
   {
    "duration": 338,
    "start_time": "2023-07-25T14:50:15.866Z"
   },
   {
    "duration": 52,
    "start_time": "2023-07-25T14:50:19.447Z"
   },
   {
    "duration": 46,
    "start_time": "2023-07-25T14:50:20.645Z"
   },
   {
    "duration": 48,
    "start_time": "2023-07-25T14:50:21.100Z"
   },
   {
    "duration": 53,
    "start_time": "2023-07-25T14:50:21.321Z"
   },
   {
    "duration": 47,
    "start_time": "2023-07-25T14:50:21.705Z"
   },
   {
    "duration": 40,
    "start_time": "2023-07-25T14:50:21.956Z"
   },
   {
    "duration": 43,
    "start_time": "2023-07-25T14:50:22.238Z"
   },
   {
    "duration": 43,
    "start_time": "2023-07-25T14:50:22.516Z"
   },
   {
    "duration": 40,
    "start_time": "2023-07-25T14:50:22.749Z"
   },
   {
    "duration": 49,
    "start_time": "2023-07-25T14:50:23.002Z"
   },
   {
    "duration": 45,
    "start_time": "2023-07-25T14:50:23.226Z"
   },
   {
    "duration": 311,
    "start_time": "2023-07-25T14:50:28.250Z"
   },
   {
    "duration": 5,
    "start_time": "2023-07-25T14:52:20.651Z"
   },
   {
    "duration": 1138,
    "start_time": "2023-07-25T14:52:20.797Z"
   },
   {
    "duration": 5,
    "start_time": "2023-07-25T14:52:21.937Z"
   },
   {
    "duration": 134,
    "start_time": "2023-07-25T14:52:21.944Z"
   },
   {
    "duration": 4,
    "start_time": "2023-07-25T14:52:22.080Z"
   },
   {
    "duration": 217,
    "start_time": "2023-07-25T14:52:22.085Z"
   },
   {
    "duration": 42,
    "start_time": "2023-07-25T14:52:22.303Z"
   },
   {
    "duration": 32,
    "start_time": "2023-07-25T14:52:22.346Z"
   },
   {
    "duration": 411,
    "start_time": "2023-07-25T14:52:22.380Z"
   },
   {
    "duration": 4,
    "start_time": "2023-07-25T14:52:22.793Z"
   },
   {
    "duration": 96,
    "start_time": "2023-07-25T14:52:22.799Z"
   },
   {
    "duration": 35,
    "start_time": "2023-07-25T14:52:22.897Z"
   },
   {
    "duration": 34,
    "start_time": "2023-07-25T14:52:22.933Z"
   },
   {
    "duration": 267,
    "start_time": "2023-07-25T14:52:22.968Z"
   },
   {
    "duration": 1390,
    "start_time": "2023-07-25T14:52:23.236Z"
   },
   {
    "duration": 291,
    "start_time": "2023-07-25T14:52:24.631Z"
   },
   {
    "duration": 34,
    "start_time": "2023-07-25T14:52:24.931Z"
   },
   {
    "duration": 29,
    "start_time": "2023-07-25T14:52:24.966Z"
   },
   {
    "duration": 182,
    "start_time": "2023-07-25T14:52:24.996Z"
   },
   {
    "duration": 162,
    "start_time": "2023-07-25T14:52:25.180Z"
   },
   {
    "duration": 30,
    "start_time": "2023-07-25T14:52:25.344Z"
   },
   {
    "duration": 167,
    "start_time": "2023-07-25T14:52:25.376Z"
   },
   {
    "duration": 20,
    "start_time": "2023-07-25T14:52:25.545Z"
   },
   {
    "duration": 555,
    "start_time": "2023-07-25T14:52:25.567Z"
   },
   {
    "duration": 19,
    "start_time": "2023-07-25T14:52:26.131Z"
   },
   {
    "duration": 161,
    "start_time": "2023-07-25T14:52:26.153Z"
   },
   {
    "duration": 22,
    "start_time": "2023-07-25T14:52:26.316Z"
   },
   {
    "duration": 45,
    "start_time": "2023-07-25T14:52:26.340Z"
   },
   {
    "duration": 146,
    "start_time": "2023-07-25T14:52:26.387Z"
   },
   {
    "duration": 161,
    "start_time": "2023-07-25T14:52:26.535Z"
   },
   {
    "duration": 2,
    "start_time": "2023-07-25T14:52:26.698Z"
   },
   {
    "duration": 31,
    "start_time": "2023-07-25T14:52:26.701Z"
   },
   {
    "duration": 108,
    "start_time": "2023-07-25T14:52:26.734Z"
   },
   {
    "duration": 449,
    "start_time": "2023-07-25T14:52:27.008Z"
   },
   {
    "duration": 290,
    "start_time": "2023-07-25T14:52:37.229Z"
   },
   {
    "duration": 289,
    "start_time": "2023-07-25T14:52:42.213Z"
   },
   {
    "duration": 296,
    "start_time": "2023-07-25T14:52:46.008Z"
   },
   {
    "duration": 303,
    "start_time": "2023-07-25T14:52:59.316Z"
   },
   {
    "duration": 18,
    "start_time": "2023-07-25T14:53:36.321Z"
   },
   {
    "duration": 110,
    "start_time": "2023-07-25T14:53:36.633Z"
   },
   {
    "duration": 458,
    "start_time": "2023-07-25T14:53:37.119Z"
   },
   {
    "duration": 325,
    "start_time": "2023-07-25T14:54:13.823Z"
   },
   {
    "duration": 18,
    "start_time": "2023-07-25T14:54:22.012Z"
   },
   {
    "duration": 106,
    "start_time": "2023-07-25T14:54:22.225Z"
   },
   {
    "duration": 477,
    "start_time": "2023-07-25T14:54:22.812Z"
   },
   {
    "duration": 566,
    "start_time": "2023-07-25T14:54:33.386Z"
   },
   {
    "duration": 310,
    "start_time": "2023-07-25T14:54:37.322Z"
   },
   {
    "duration": 22,
    "start_time": "2023-07-25T14:54:48.812Z"
   },
   {
    "duration": 108,
    "start_time": "2023-07-25T14:55:11.000Z"
   },
   {
    "duration": 871,
    "start_time": "2023-07-25T14:55:12.564Z"
   },
   {
    "duration": 478,
    "start_time": "2023-07-25T14:55:24.920Z"
   },
   {
    "duration": 2,
    "start_time": "2023-07-25T14:55:30.748Z"
   },
   {
    "duration": 17,
    "start_time": "2023-07-25T14:55:30.923Z"
   },
   {
    "duration": 113,
    "start_time": "2023-07-25T14:55:31.225Z"
   },
   {
    "duration": 834,
    "start_time": "2023-07-25T14:55:31.422Z"
   },
   {
    "duration": 4,
    "start_time": "2023-07-25T14:55:34.715Z"
   },
   {
    "duration": 3,
    "start_time": "2023-07-25T14:55:34.889Z"
   },
   {
    "duration": 42402,
    "start_time": "2023-07-25T14:55:35.265Z"
   },
   {
    "duration": 486,
    "start_time": "2023-07-25T14:56:17.669Z"
   },
   {
    "duration": 26,
    "start_time": "2023-07-25T14:56:18.157Z"
   },
   {
    "duration": 189,
    "start_time": "2023-07-25T14:56:57.804Z"
   },
   {
    "duration": 1504,
    "start_time": "2023-07-25T14:57:05.128Z"
   },
   {
    "duration": 1170,
    "start_time": "2023-07-25T14:57:06.633Z"
   },
   {
    "duration": 5,
    "start_time": "2023-07-25T14:57:07.805Z"
   },
   {
    "duration": 176,
    "start_time": "2023-07-25T14:57:07.812Z"
   },
   {
    "duration": 142,
    "start_time": "2023-07-25T14:57:07.990Z"
   },
   {
    "duration": 257,
    "start_time": "2023-07-25T14:57:08.134Z"
   },
   {
    "duration": 45,
    "start_time": "2023-07-25T14:57:08.392Z"
   },
   {
    "duration": 49,
    "start_time": "2023-07-25T14:57:08.439Z"
   },
   {
    "duration": 447,
    "start_time": "2023-07-25T14:57:08.490Z"
   },
   {
    "duration": 5,
    "start_time": "2023-07-25T14:57:08.939Z"
   },
   {
    "duration": 71,
    "start_time": "2023-07-25T14:57:08.946Z"
   },
   {
    "duration": 36,
    "start_time": "2023-07-25T14:57:09.018Z"
   },
   {
    "duration": 51,
    "start_time": "2023-07-25T14:57:09.056Z"
   },
   {
    "duration": 328,
    "start_time": "2023-07-25T14:57:09.108Z"
   },
   {
    "duration": 1304,
    "start_time": "2023-07-25T14:57:09.438Z"
   },
   {
    "duration": 245,
    "start_time": "2023-07-25T14:57:10.744Z"
   },
   {
    "duration": 43,
    "start_time": "2023-07-25T14:57:10.990Z"
   },
   {
    "duration": 18,
    "start_time": "2023-07-25T14:57:11.034Z"
   },
   {
    "duration": 214,
    "start_time": "2023-07-25T14:57:11.053Z"
   },
   {
    "duration": 165,
    "start_time": "2023-07-25T14:57:11.268Z"
   },
   {
    "duration": 33,
    "start_time": "2023-07-25T14:57:11.434Z"
   },
   {
    "duration": 193,
    "start_time": "2023-07-25T14:57:11.468Z"
   },
   {
    "duration": 29,
    "start_time": "2023-07-25T14:57:11.663Z"
   },
   {
    "duration": 559,
    "start_time": "2023-07-25T14:57:11.693Z"
   },
   {
    "duration": 19,
    "start_time": "2023-07-25T14:57:12.255Z"
   },
   {
    "duration": 142,
    "start_time": "2023-07-25T14:57:12.275Z"
   },
   {
    "duration": 21,
    "start_time": "2023-07-25T14:57:12.419Z"
   },
   {
    "duration": 43,
    "start_time": "2023-07-25T14:57:12.442Z"
   },
   {
    "duration": 152,
    "start_time": "2023-07-25T14:57:12.487Z"
   },
   {
    "duration": 186,
    "start_time": "2023-07-25T14:57:12.641Z"
   },
   {
    "duration": 3,
    "start_time": "2023-07-25T14:57:12.831Z"
   },
   {
    "duration": 32,
    "start_time": "2023-07-25T14:57:12.836Z"
   },
   {
    "duration": 119,
    "start_time": "2023-07-25T14:57:12.870Z"
   },
   {
    "duration": 873,
    "start_time": "2023-07-25T14:57:12.991Z"
   },
   {
    "duration": 2,
    "start_time": "2023-07-25T14:57:13.866Z"
   },
   {
    "duration": 2,
    "start_time": "2023-07-25T14:57:14.031Z"
   },
   {
    "duration": 4,
    "start_time": "2023-07-25T14:57:14.227Z"
   },
   {
    "duration": 42373,
    "start_time": "2023-07-25T14:57:14.835Z"
   },
   {
    "duration": 323,
    "start_time": "2023-07-25T14:57:57.210Z"
   },
   {
    "duration": 24,
    "start_time": "2023-07-25T14:57:57.535Z"
   },
   {
    "duration": 41272,
    "start_time": "2023-07-25T14:58:03.146Z"
   },
   {
    "duration": 3141,
    "start_time": "2023-07-25T14:58:48.728Z"
   },
   {
    "duration": 23,
    "start_time": "2023-07-25T14:58:51.871Z"
   },
   {
    "duration": 76,
    "start_time": "2023-07-25T14:59:23.737Z"
   },
   {
    "duration": 520090,
    "start_time": "2023-07-25T14:59:25.652Z"
   },
   {
    "duration": 3,
    "start_time": "2023-07-25T15:08:05.744Z"
   },
   {
    "duration": 4,
    "start_time": "2023-07-25T15:08:38.521Z"
   },
   {
    "duration": 5,
    "start_time": "2023-07-25T15:09:05.031Z"
   },
   {
    "duration": 9534,
    "start_time": "2023-07-25T15:09:12.699Z"
   },
   {
    "duration": 501,
    "start_time": "2023-07-25T15:10:00.748Z"
   },
   {
    "duration": 24,
    "start_time": "2023-07-25T15:10:01.360Z"
   },
   {
    "duration": 310,
    "start_time": "2023-07-25T15:16:21.323Z"
   },
   {
    "duration": 26,
    "start_time": "2023-07-25T15:17:46.447Z"
   },
   {
    "duration": 6,
    "start_time": "2023-07-25T15:18:04.151Z"
   },
   {
    "duration": 17,
    "start_time": "2023-07-25T15:18:25.894Z"
   },
   {
    "duration": 422,
    "start_time": "2023-07-25T15:23:39.020Z"
   },
   {
    "duration": 58176,
    "start_time": "2023-07-25T15:23:42.262Z"
   },
   {
    "duration": 415,
    "start_time": "2023-07-25T15:24:40.440Z"
   },
   {
    "duration": 316,
    "start_time": "2023-07-25T15:38:08.648Z"
   },
   {
    "duration": 1445,
    "start_time": "2023-07-25T15:39:53.035Z"
   },
   {
    "duration": 1165,
    "start_time": "2023-07-25T15:39:54.481Z"
   },
   {
    "duration": 4,
    "start_time": "2023-07-25T15:39:55.648Z"
   },
   {
    "duration": 136,
    "start_time": "2023-07-25T15:39:55.654Z"
   },
   {
    "duration": 2,
    "start_time": "2023-07-25T15:39:55.792Z"
   },
   {
    "duration": 243,
    "start_time": "2023-07-25T15:39:55.796Z"
   },
   {
    "duration": 45,
    "start_time": "2023-07-25T15:39:56.040Z"
   },
   {
    "duration": 43,
    "start_time": "2023-07-25T15:39:56.086Z"
   },
   {
    "duration": 417,
    "start_time": "2023-07-25T15:39:56.131Z"
   },
   {
    "duration": 5,
    "start_time": "2023-07-25T15:39:56.550Z"
   },
   {
    "duration": 82,
    "start_time": "2023-07-25T15:39:56.556Z"
   },
   {
    "duration": 31,
    "start_time": "2023-07-25T15:39:56.640Z"
   },
   {
    "duration": 28,
    "start_time": "2023-07-25T15:39:56.672Z"
   },
   {
    "duration": 281,
    "start_time": "2023-07-25T15:39:56.701Z"
   },
   {
    "duration": 1264,
    "start_time": "2023-07-25T15:39:56.984Z"
   },
   {
    "duration": 236,
    "start_time": "2023-07-25T15:39:58.249Z"
   },
   {
    "duration": 45,
    "start_time": "2023-07-25T15:39:58.487Z"
   },
   {
    "duration": 19,
    "start_time": "2023-07-25T15:39:58.533Z"
   },
   {
    "duration": 202,
    "start_time": "2023-07-25T15:39:58.554Z"
   },
   {
    "duration": 164,
    "start_time": "2023-07-25T15:39:58.758Z"
   },
   {
    "duration": 30,
    "start_time": "2023-07-25T15:39:58.923Z"
   },
   {
    "duration": 173,
    "start_time": "2023-07-25T15:39:58.955Z"
   },
   {
    "duration": 20,
    "start_time": "2023-07-25T15:39:59.129Z"
   },
   {
    "duration": 548,
    "start_time": "2023-07-25T15:39:59.150Z"
   },
   {
    "duration": 19,
    "start_time": "2023-07-25T15:39:59.700Z"
   },
   {
    "duration": 139,
    "start_time": "2023-07-25T15:39:59.732Z"
   },
   {
    "duration": 14,
    "start_time": "2023-07-25T15:39:59.873Z"
   },
   {
    "duration": 60,
    "start_time": "2023-07-25T15:39:59.891Z"
   },
   {
    "duration": 156,
    "start_time": "2023-07-25T15:39:59.953Z"
   },
   {
    "duration": 164,
    "start_time": "2023-07-25T15:40:00.110Z"
   },
   {
    "duration": 3,
    "start_time": "2023-07-25T15:40:00.276Z"
   },
   {
    "duration": 68,
    "start_time": "2023-07-25T15:40:00.280Z"
   },
   {
    "duration": 124,
    "start_time": "2023-07-25T15:40:00.350Z"
   },
   {
    "duration": 915,
    "start_time": "2023-07-25T15:40:00.476Z"
   },
   {
    "duration": 3,
    "start_time": "2023-07-25T15:40:01.393Z"
   },
   {
    "duration": 97,
    "start_time": "2023-07-25T15:40:01.397Z"
   },
   {
    "duration": 105,
    "start_time": "2023-07-25T15:40:01.496Z"
   },
   {
    "duration": 42751,
    "start_time": "2023-07-25T15:40:01.603Z"
   },
   {
    "duration": 333,
    "start_time": "2023-07-25T15:40:44.356Z"
   },
   {
    "duration": 25,
    "start_time": "2023-07-25T15:40:44.691Z"
   },
   {
    "duration": 40294,
    "start_time": "2023-07-25T15:40:44.717Z"
   },
   {
    "duration": 2878,
    "start_time": "2023-07-25T15:41:25.012Z"
   },
   {
    "duration": 40,
    "start_time": "2023-07-25T15:41:27.892Z"
   },
   {
    "duration": 5,
    "start_time": "2023-07-25T15:41:27.933Z"
   },
   {
    "duration": 3393,
    "start_time": "2023-07-25T15:41:27.939Z"
   },
   {
    "duration": 508,
    "start_time": "2023-07-25T15:41:31.334Z"
   },
   {
    "duration": 23,
    "start_time": "2023-07-25T15:41:31.843Z"
   },
   {
    "duration": 66,
    "start_time": "2023-07-25T15:41:31.867Z"
   },
   {
    "duration": 106,
    "start_time": "2023-07-25T15:41:31.934Z"
   },
   {
    "duration": 66,
    "start_time": "2023-07-25T15:41:32.042Z"
   },
   {
    "duration": 361,
    "start_time": "2023-07-25T15:41:32.110Z"
   },
   {
    "duration": 59011,
    "start_time": "2023-07-25T15:41:32.473Z"
   },
   {
    "duration": 316,
    "start_time": "2023-07-25T15:42:31.485Z"
   }
  ],
  "kernelspec": {
   "display_name": "Python 3 (ipykernel)",
   "language": "python",
   "name": "python3"
  },
  "language_info": {
   "codemirror_mode": {
    "name": "ipython",
    "version": 3
   },
   "file_extension": ".py",
   "mimetype": "text/x-python",
   "name": "python",
   "nbconvert_exporter": "python",
   "pygments_lexer": "ipython3",
   "version": "3.9.13"
  },
  "toc": {
   "base_numbering": 1,
   "nav_menu": {},
   "number_sections": true,
   "sideBar": true,
   "skip_h1_title": true,
   "title_cell": "Table of Contents",
   "title_sidebar": "Contents",
   "toc_cell": false,
   "toc_position": {},
   "toc_section_display": true,
   "toc_window_display": false
  }
 },
 "nbformat": 4,
 "nbformat_minor": 2
}
