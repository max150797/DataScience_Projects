{
 "cells": [
  {
   "cell_type": "markdown",
   "metadata": {},
   "source": [
    "# Модель предсказания коэффициента содержания золота в породе"
   ]
  },
  {
   "cell_type": "markdown",
   "metadata": {},
   "source": [
    "## Описание проекта\n",
    "\n",
    "Компания разрабатывает решения для эффективной работы промышленных предприятий.\n",
    "Модель должна предсказать коэффициент восстановления золота из золотосодержащей руды. В вашем распоряжении данные с параметрами добычи и очистки.\n",
    "Модель поможет оптимизировать производство, чтобы не запускать предприятие с убыточными характеристиками.\n",
    "\n",
    "### Технологический процесс\n",
    "**1. Флотация**\n",
    "Во флотационную установку подаётся смесь золотосодержащей руды. После обогащения получается черновой концентрат и «отвальные хвосты», то есть остатки продукта с низкой концентрацией ценных металлов.\n",
    "На стабильность этого процесса влияет непостоянное и неоптимальное физико-химическое состояние флотационной пульпы (смеси твёрдых частиц и жидкости).\n",
    "\n",
    "**2. Очистка**\n",
    "Черновой концентрат проходит две очистки. На выходе получается финальный концентрат и новые отвальные хвосты."
   ]
  },
  {
   "cell_type": "markdown",
   "metadata": {},
   "source": [
    "## Описание данных\n",
    "\n",
    "Данные находятся в трёх файлах:\n",
    "\n",
    "* `gold_industry_train.csv` — обучающая выборка\n",
    "* `gold_industry_test.csv` — тестовая выборка;\n",
    "* `gold_industry_full.csv` — исходные данные.\n",
    "\n",
    "Данные индексируются датой и временем получения информации (признак date). Соседние по времени параметры часто похожи.\n",
    "\n",
    "Некоторые параметры недоступны, потому что замеряются и/или рассчитываются значительно позже. Из-за этого в тестовой выборке отсутствуют некоторые признаки, которые могут быть в обучающей. Также в тестовом наборе нет целевых признаков.\n",
    "\n",
    "Исходный датасет содержит обучающую и тестовую выборки со всеми признаками."
   ]
  },
  {
   "cell_type": "markdown",
   "metadata": {
    "toc": true
   },
   "source": [
    "<h1>Содержание<span class=\"tocSkip\"></span></h1>\n",
    "<div class=\"toc\"><ul class=\"toc-item\"><li><span><a href=\"#Описание-проекта\" data-toc-modified-id=\"Описание-проекта-1\"><span class=\"toc-item-num\">1&nbsp;&nbsp;</span>Описание проекта</a></span><ul class=\"toc-item\"><li><span><a href=\"#Технологический-процесс\" data-toc-modified-id=\"Технологический-процесс-1.1\"><span class=\"toc-item-num\">1.1&nbsp;&nbsp;</span>Технологический процесс</a></span></li></ul></li><li><span><a href=\"#Описание-данных\" data-toc-modified-id=\"Описание-данных-2\"><span class=\"toc-item-num\">2&nbsp;&nbsp;</span>Описание данных</a></span></li><li><span><a href=\"#Подготовка-данных\" data-toc-modified-id=\"Подготовка-данных-3\"><span class=\"toc-item-num\">3&nbsp;&nbsp;</span>Подготовка данных</a></span><ul class=\"toc-item\"><li><span><a href=\"#Анализ-исходных-данных\" data-toc-modified-id=\"Анализ-исходных-данных-3.1\"><span class=\"toc-item-num\">3.1&nbsp;&nbsp;</span>Анализ исходных данных</a></span></li><li><span><a href=\"#Проверка-расчета-эффективности-восстановления-золота\" data-toc-modified-id=\"Проверка-расчета-эффективности-восстановления-золота-3.2\"><span class=\"toc-item-num\">3.2&nbsp;&nbsp;</span>Проверка расчета эффективности восстановления золота</a></span></li><li><span><a href=\"#Анализ-признаков,-отсутствующих-в-тестовой-выборке\" data-toc-modified-id=\"Анализ-признаков,-отсутствующих-в-тестовой-выборке-3.3\"><span class=\"toc-item-num\">3.3&nbsp;&nbsp;</span>Анализ признаков, отсутствующих в тестовой выборке</a></span></li><li><span><a href=\"#Предобработка-данных\" data-toc-modified-id=\"Предобработка-данных-3.4\"><span class=\"toc-item-num\">3.4&nbsp;&nbsp;</span>Предобработка данных</a></span></li></ul></li><li><span><a href=\"#Анализ-данных\" data-toc-modified-id=\"Анализ-данных-4\"><span class=\"toc-item-num\">4&nbsp;&nbsp;</span>Анализ данных</a></span><ul class=\"toc-item\"><li><span><a href=\"#Анализ-концентрации-металлов-(Au,-Ag,-Pb)-на-различных-этапах-производства\" data-toc-modified-id=\"Анализ-концентрации-металлов-(Au,-Ag,-Pb)-на-различных-этапах-производства-4.1\"><span class=\"toc-item-num\">4.1&nbsp;&nbsp;</span>Анализ концентрации металлов (Au, Ag, Pb) на различных этапах производства</a></span></li><li><span><a href=\"#Сравнение-распределения-размеров-гранул-исходного-сырья-на-обучающей-и-тестовой-выборках\" data-toc-modified-id=\"Сравнение-распределения-размеров-гранул-исходного-сырья-на-обучающей-и-тестовой-выборках-4.2\"><span class=\"toc-item-num\">4.2&nbsp;&nbsp;</span>Сравнение распределения размеров гранул исходного сырья на обучающей и тестовой выборках</a></span></li><li><span><a href=\"#Исследование-суммарной-концентрации-металлов-на-разных-стадиях:-в-сырье,-в-черновом-концентрате,-в-концентрате-после-первой-очистки-и-в-финальном-концентрате\" data-toc-modified-id=\"Исследование-суммарной-концентрации-металлов-на-разных-стадиях:-в-сырье,-в-черновом-концентрате,-в-концентрате-после-первой-очистки-и-в-финальном-концентрате-4.3\"><span class=\"toc-item-num\">4.3&nbsp;&nbsp;</span>Исследование суммарной концентрации металлов на разных стадиях: в сырье, в черновом концентрате, в концентрате после первой очистки и в финальном концентрате</a></span></li></ul></li><li><span><a href=\"#Модель\" data-toc-modified-id=\"Модель-5\"><span class=\"toc-item-num\">5&nbsp;&nbsp;</span>Модель</a></span><ul class=\"toc-item\"><li><span><a href=\"#Функция-для-вычисления-sMAPE\" data-toc-modified-id=\"Функция-для-вычисления-sMAPE-5.1\"><span class=\"toc-item-num\">5.1&nbsp;&nbsp;</span>Функция для вычисления sMAPE</a></span></li><li><span><a href=\"#Построение-моделей\" data-toc-modified-id=\"Построение-моделей-5.2\"><span class=\"toc-item-num\">5.2&nbsp;&nbsp;</span>Построение моделей</a></span><ul class=\"toc-item\"><li><span><a href=\"#Предсказание-медианным-значением\" data-toc-modified-id=\"Предсказание-медианным-значением-5.2.1\"><span class=\"toc-item-num\">5.2.1&nbsp;&nbsp;</span>Предсказание медианным значением</a></span></li><li><span><a href=\"#Линейная-регрессия\" data-toc-modified-id=\"Линейная-регрессия-5.2.2\"><span class=\"toc-item-num\">5.2.2&nbsp;&nbsp;</span>Линейная регрессия</a></span></li><li><span><a href=\"#Lasso-регрессия\" data-toc-modified-id=\"Lasso-регрессия-5.2.3\"><span class=\"toc-item-num\">5.2.3&nbsp;&nbsp;</span>Lasso-регрессия</a></span></li><li><span><a href=\"#Модель-случайного-леса\" data-toc-modified-id=\"Модель-случайного-леса-5.2.4\"><span class=\"toc-item-num\">5.2.4&nbsp;&nbsp;</span>Модель случайного леса</a></span></li></ul></li><li><span><a href=\"#Проверка-на-тестовой-выборке\" data-toc-modified-id=\"Проверка-на-тестовой-выборке-5.3\"><span class=\"toc-item-num\">5.3&nbsp;&nbsp;</span>Проверка на тестовой выборке</a></span></li></ul></li><li><span><a href=\"#Выводы\" data-toc-modified-id=\"Выводы-6\"><span class=\"toc-item-num\">6&nbsp;&nbsp;</span>Выводы</a></span></li><li><span><a href=\"#Чек-лист-готовности-проекта\" data-toc-modified-id=\"Чек-лист-готовности-проекта-7\"><span class=\"toc-item-num\">7&nbsp;&nbsp;</span>Чек-лист готовности проекта</a></span></li></ul></div>"
   ]
  },
  {
   "cell_type": "markdown",
   "metadata": {},
   "source": [
    "# Восстановление золота из руды"
   ]
  },
  {
   "cell_type": "markdown",
   "metadata": {},
   "source": [
    "Подготовьте прототип модели машинного обучения для «Цифры». Компания разрабатывает решения для эффективной работы промышленных предприятий.\n",
    "\n",
    "Модель должна предсказать коэффициент восстановления золота из золотосодержащей руды. Используйте данные с параметрами добычи и очистки. \n",
    "\n",
    "Модель поможет оптимизировать производство, чтобы не запускать предприятие с убыточными характеристиками.\n",
    "\n",
    "Вам нужно:\n",
    "\n",
    "1. Подготовить данные;\n",
    "2. Провести исследовательский анализ данных;\n",
    "3. Построить и обучить модель.\n",
    "\n",
    "Чтобы выполнить проект, обращайтесь к библиотекам *pandas*, *matplotlib* и *sklearn.* Вам поможет их документация."
   ]
  },
  {
   "cell_type": "markdown",
   "metadata": {},
   "source": [
    "## Подготовка данных"
   ]
  },
  {
   "cell_type": "code",
   "execution_count": 1,
   "metadata": {},
   "outputs": [],
   "source": [
    "import pandas as pd\n",
    "import numpy as np\n",
    "import matplotlib.pyplot as plt\n",
    "import seaborn as sns\n",
    "\n",
    "from sklearn.metrics import mean_absolute_error, make_scorer\n",
    "from sklearn.model_selection import cross_val_score, GridSearchCV\n",
    "from sklearn.preprocessing import StandardScaler\n",
    "\n",
    "from sklearn.linear_model import LinearRegression, Lasso, Ridge\n",
    "from sklearn.ensemble import RandomForestRegressor\n",
    "\n",
    "\n",
    "sns.set_style(\"darkgrid\")\n",
    "RANDOM_SEED = np.random.RandomState(5081997)\n",
    "TARGETS = ['rougher.output.recovery', 'final.output.recovery']"
   ]
  },
  {
   "cell_type": "markdown",
   "metadata": {},
   "source": [
    "### Анализ исходных данных"
   ]
  },
  {
   "cell_type": "code",
   "execution_count": 2,
   "metadata": {},
   "outputs": [],
   "source": [
    "try:\n",
    "    # по условию даты эксперимента уникальна\n",
    "    train = pd.read_csv('https://code.s3.yandex.net/datasets/gold_industry_train.csv', index_col='date')\n",
    "    test = pd.read_csv('https://code.s3.yandex.net/datasets/gold_industry_test.csv', index_col='date')\n",
    "    full_data = pd.read_csv('https://code.s3.yandex.net/datasets/gold_industry_full.csv', index_col='date')\n",
    "except:\n",
    "    train = pd.read_csv('geo_data_0.csv', index_col='date')\n",
    "    test = pd.read_csv('geo_data_1.csv', index_col='date')\n",
    "    full_data = pd.read_csv('geo_data_2.csv', index_col='date')\n",
    "    \n",
    "datasets = (train, test, full_data)\n",
    "train.index = pd.to_datetime(train.index)\n",
    "test.index = pd.to_datetime(test.index)\n",
    "full_data.index = pd.to_datetime(full_data.index)"
   ]
  },
  {
   "cell_type": "code",
   "execution_count": 3,
   "metadata": {},
   "outputs": [],
   "source": [
    "def show_info(data: pd.DataFrame):\n",
    "    display(data.describe())\n",
    "    print('Процент пропущенных значений:')\n",
    "    display((data.isna().sum()/len(data)*100).sort_values(ascending=False).head(15))"
   ]
  },
  {
   "cell_type": "code",
   "execution_count": 4,
   "metadata": {},
   "outputs": [
    {
     "data": {
      "text/html": [
       "<div>\n",
       "<style scoped>\n",
       "    .dataframe tbody tr th:only-of-type {\n",
       "        vertical-align: middle;\n",
       "    }\n",
       "\n",
       "    .dataframe tbody tr th {\n",
       "        vertical-align: top;\n",
       "    }\n",
       "\n",
       "    .dataframe thead th {\n",
       "        text-align: right;\n",
       "    }\n",
       "</style>\n",
       "<table border=\"1\" class=\"dataframe\">\n",
       "  <thead>\n",
       "    <tr style=\"text-align: right;\">\n",
       "      <th></th>\n",
       "      <th>rougher.input.feed_au</th>\n",
       "      <th>rougher.input.feed_ag</th>\n",
       "      <th>rougher.input.feed_pb</th>\n",
       "      <th>rougher.input.feed_sol</th>\n",
       "      <th>rougher.input.feed_rate</th>\n",
       "      <th>rougher.input.feed_size</th>\n",
       "      <th>rougher.input.floatbank10_sulfate</th>\n",
       "      <th>rougher.input.floatbank10_xanthate</th>\n",
       "      <th>rougher.state.floatbank10_a_air</th>\n",
       "      <th>rougher.state.floatbank10_a_level</th>\n",
       "      <th>...</th>\n",
       "      <th>secondary_cleaner.output.tail_sol</th>\n",
       "      <th>final.output.concentrate_au</th>\n",
       "      <th>final.output.concentrate_ag</th>\n",
       "      <th>final.output.concentrate_pb</th>\n",
       "      <th>final.output.concentrate_sol</th>\n",
       "      <th>final.output.recovery</th>\n",
       "      <th>final.output.tail_au</th>\n",
       "      <th>final.output.tail_ag</th>\n",
       "      <th>final.output.tail_pb</th>\n",
       "      <th>final.output.tail_sol</th>\n",
       "    </tr>\n",
       "  </thead>\n",
       "  <tbody>\n",
       "    <tr>\n",
       "      <th>count</th>\n",
       "      <td>14579.000000</td>\n",
       "      <td>14579.000000</td>\n",
       "      <td>14507.000000</td>\n",
       "      <td>14502.000000</td>\n",
       "      <td>14572.000000</td>\n",
       "      <td>14478.000000</td>\n",
       "      <td>14548.000000</td>\n",
       "      <td>14572.000000</td>\n",
       "      <td>14579.000000</td>\n",
       "      <td>14579.000000</td>\n",
       "      <td>...</td>\n",
       "      <td>13659.000000</td>\n",
       "      <td>14579.000000</td>\n",
       "      <td>14578.000000</td>\n",
       "      <td>14578.000000</td>\n",
       "      <td>14387.000000</td>\n",
       "      <td>14579.000000</td>\n",
       "      <td>14579.000000</td>\n",
       "      <td>14578.000000</td>\n",
       "      <td>14504.000000</td>\n",
       "      <td>14574.000000</td>\n",
       "    </tr>\n",
       "    <tr>\n",
       "      <th>mean</th>\n",
       "      <td>8.352941</td>\n",
       "      <td>8.877460</td>\n",
       "      <td>3.604221</td>\n",
       "      <td>36.561420</td>\n",
       "      <td>474.332784</td>\n",
       "      <td>58.922712</td>\n",
       "      <td>12.427399</td>\n",
       "      <td>5.994854</td>\n",
       "      <td>1104.208278</td>\n",
       "      <td>-379.367166</td>\n",
       "      <td>...</td>\n",
       "      <td>7.111347</td>\n",
       "      <td>43.979499</td>\n",
       "      <td>5.192145</td>\n",
       "      <td>9.923809</td>\n",
       "      <td>9.566676</td>\n",
       "      <td>66.759066</td>\n",
       "      <td>3.087939</td>\n",
       "      <td>9.731972</td>\n",
       "      <td>2.719985</td>\n",
       "      <td>10.612745</td>\n",
       "    </tr>\n",
       "    <tr>\n",
       "      <th>std</th>\n",
       "      <td>1.934376</td>\n",
       "      <td>1.922536</td>\n",
       "      <td>1.056063</td>\n",
       "      <td>5.209823</td>\n",
       "      <td>108.503552</td>\n",
       "      <td>22.407410</td>\n",
       "      <td>3.428939</td>\n",
       "      <td>1.152873</td>\n",
       "      <td>162.235606</td>\n",
       "      <td>94.652311</td>\n",
       "      <td>...</td>\n",
       "      <td>3.909951</td>\n",
       "      <td>5.471437</td>\n",
       "      <td>1.388014</td>\n",
       "      <td>1.706976</td>\n",
       "      <td>2.805654</td>\n",
       "      <td>10.619709</td>\n",
       "      <td>0.915187</td>\n",
       "      <td>2.358143</td>\n",
       "      <td>0.958929</td>\n",
       "      <td>2.871075</td>\n",
       "    </tr>\n",
       "    <tr>\n",
       "      <th>min</th>\n",
       "      <td>0.010000</td>\n",
       "      <td>0.010000</td>\n",
       "      <td>0.010000</td>\n",
       "      <td>0.010000</td>\n",
       "      <td>0.002986</td>\n",
       "      <td>0.049194</td>\n",
       "      <td>0.001083</td>\n",
       "      <td>0.000568</td>\n",
       "      <td>-0.042069</td>\n",
       "      <td>-657.949759</td>\n",
       "      <td>...</td>\n",
       "      <td>0.000000</td>\n",
       "      <td>0.000000</td>\n",
       "      <td>0.000000</td>\n",
       "      <td>0.000000</td>\n",
       "      <td>0.000000</td>\n",
       "      <td>0.000000</td>\n",
       "      <td>0.000000</td>\n",
       "      <td>0.000000</td>\n",
       "      <td>0.000000</td>\n",
       "      <td>0.000000</td>\n",
       "    </tr>\n",
       "    <tr>\n",
       "      <th>25%</th>\n",
       "      <td>6.932996</td>\n",
       "      <td>7.341922</td>\n",
       "      <td>2.880490</td>\n",
       "      <td>34.093951</td>\n",
       "      <td>411.048483</td>\n",
       "      <td>47.278490</td>\n",
       "      <td>10.002832</td>\n",
       "      <td>5.304167</td>\n",
       "      <td>999.644856</td>\n",
       "      <td>-499.861797</td>\n",
       "      <td>...</td>\n",
       "      <td>3.784897</td>\n",
       "      <td>43.345906</td>\n",
       "      <td>4.283347</td>\n",
       "      <td>9.103183</td>\n",
       "      <td>7.860030</td>\n",
       "      <td>63.114596</td>\n",
       "      <td>2.505287</td>\n",
       "      <td>8.088928</td>\n",
       "      <td>2.036512</td>\n",
       "      <td>9.013412</td>\n",
       "    </tr>\n",
       "    <tr>\n",
       "      <th>50%</th>\n",
       "      <td>8.225284</td>\n",
       "      <td>8.715859</td>\n",
       "      <td>3.532399</td>\n",
       "      <td>37.097511</td>\n",
       "      <td>498.187968</td>\n",
       "      <td>54.361187</td>\n",
       "      <td>12.003320</td>\n",
       "      <td>6.003053</td>\n",
       "      <td>1000.982624</td>\n",
       "      <td>-300.314199</td>\n",
       "      <td>...</td>\n",
       "      <td>7.629968</td>\n",
       "      <td>44.975014</td>\n",
       "      <td>5.118647</td>\n",
       "      <td>10.046455</td>\n",
       "      <td>9.301970</td>\n",
       "      <td>67.962788</td>\n",
       "      <td>3.029238</td>\n",
       "      <td>9.818512</td>\n",
       "      <td>2.774847</td>\n",
       "      <td>10.670515</td>\n",
       "    </tr>\n",
       "    <tr>\n",
       "      <th>75%</th>\n",
       "      <td>9.832210</td>\n",
       "      <td>10.255843</td>\n",
       "      <td>4.257282</td>\n",
       "      <td>39.899799</td>\n",
       "      <td>549.586552</td>\n",
       "      <td>64.464926</td>\n",
       "      <td>14.929903</td>\n",
       "      <td>6.796632</td>\n",
       "      <td>1292.663971</td>\n",
       "      <td>-299.989315</td>\n",
       "      <td>...</td>\n",
       "      <td>10.367050</td>\n",
       "      <td>46.275153</td>\n",
       "      <td>5.925380</td>\n",
       "      <td>10.981203</td>\n",
       "      <td>11.001573</td>\n",
       "      <td>72.598187</td>\n",
       "      <td>3.614098</td>\n",
       "      <td>11.169187</td>\n",
       "      <td>3.353845</td>\n",
       "      <td>12.130827</td>\n",
       "    </tr>\n",
       "    <tr>\n",
       "      <th>max</th>\n",
       "      <td>13.731330</td>\n",
       "      <td>14.596026</td>\n",
       "      <td>7.052325</td>\n",
       "      <td>53.475325</td>\n",
       "      <td>717.508837</td>\n",
       "      <td>484.967466</td>\n",
       "      <td>36.118275</td>\n",
       "      <td>9.703448</td>\n",
       "      <td>1512.299531</td>\n",
       "      <td>-273.776101</td>\n",
       "      <td>...</td>\n",
       "      <td>26.000772</td>\n",
       "      <td>52.756638</td>\n",
       "      <td>16.001945</td>\n",
       "      <td>16.705297</td>\n",
       "      <td>19.423912</td>\n",
       "      <td>100.000000</td>\n",
       "      <td>8.245022</td>\n",
       "      <td>19.552149</td>\n",
       "      <td>5.804178</td>\n",
       "      <td>22.317730</td>\n",
       "    </tr>\n",
       "  </tbody>\n",
       "</table>\n",
       "<p>8 rows × 86 columns</p>\n",
       "</div>"
      ],
      "text/plain": [
       "       rougher.input.feed_au  rougher.input.feed_ag  rougher.input.feed_pb  \\\n",
       "count           14579.000000           14579.000000           14507.000000   \n",
       "mean                8.352941               8.877460               3.604221   \n",
       "std                 1.934376               1.922536               1.056063   \n",
       "min                 0.010000               0.010000               0.010000   \n",
       "25%                 6.932996               7.341922               2.880490   \n",
       "50%                 8.225284               8.715859               3.532399   \n",
       "75%                 9.832210              10.255843               4.257282   \n",
       "max                13.731330              14.596026               7.052325   \n",
       "\n",
       "       rougher.input.feed_sol  rougher.input.feed_rate  \\\n",
       "count            14502.000000             14572.000000   \n",
       "mean                36.561420               474.332784   \n",
       "std                  5.209823               108.503552   \n",
       "min                  0.010000                 0.002986   \n",
       "25%                 34.093951               411.048483   \n",
       "50%                 37.097511               498.187968   \n",
       "75%                 39.899799               549.586552   \n",
       "max                 53.475325               717.508837   \n",
       "\n",
       "       rougher.input.feed_size  rougher.input.floatbank10_sulfate  \\\n",
       "count             14478.000000                       14548.000000   \n",
       "mean                 58.922712                          12.427399   \n",
       "std                  22.407410                           3.428939   \n",
       "min                   0.049194                           0.001083   \n",
       "25%                  47.278490                          10.002832   \n",
       "50%                  54.361187                          12.003320   \n",
       "75%                  64.464926                          14.929903   \n",
       "max                 484.967466                          36.118275   \n",
       "\n",
       "       rougher.input.floatbank10_xanthate  rougher.state.floatbank10_a_air  \\\n",
       "count                        14572.000000                     14579.000000   \n",
       "mean                             5.994854                      1104.208278   \n",
       "std                              1.152873                       162.235606   \n",
       "min                              0.000568                        -0.042069   \n",
       "25%                              5.304167                       999.644856   \n",
       "50%                              6.003053                      1000.982624   \n",
       "75%                              6.796632                      1292.663971   \n",
       "max                              9.703448                      1512.299531   \n",
       "\n",
       "       rougher.state.floatbank10_a_level  ...  \\\n",
       "count                       14579.000000  ...   \n",
       "mean                         -379.367166  ...   \n",
       "std                            94.652311  ...   \n",
       "min                          -657.949759  ...   \n",
       "25%                          -499.861797  ...   \n",
       "50%                          -300.314199  ...   \n",
       "75%                          -299.989315  ...   \n",
       "max                          -273.776101  ...   \n",
       "\n",
       "       secondary_cleaner.output.tail_sol  final.output.concentrate_au  \\\n",
       "count                       13659.000000                 14579.000000   \n",
       "mean                            7.111347                    43.979499   \n",
       "std                             3.909951                     5.471437   \n",
       "min                             0.000000                     0.000000   \n",
       "25%                             3.784897                    43.345906   \n",
       "50%                             7.629968                    44.975014   \n",
       "75%                            10.367050                    46.275153   \n",
       "max                            26.000772                    52.756638   \n",
       "\n",
       "       final.output.concentrate_ag  final.output.concentrate_pb  \\\n",
       "count                 14578.000000                 14578.000000   \n",
       "mean                      5.192145                     9.923809   \n",
       "std                       1.388014                     1.706976   \n",
       "min                       0.000000                     0.000000   \n",
       "25%                       4.283347                     9.103183   \n",
       "50%                       5.118647                    10.046455   \n",
       "75%                       5.925380                    10.981203   \n",
       "max                      16.001945                    16.705297   \n",
       "\n",
       "       final.output.concentrate_sol  final.output.recovery  \\\n",
       "count                  14387.000000           14579.000000   \n",
       "mean                       9.566676              66.759066   \n",
       "std                        2.805654              10.619709   \n",
       "min                        0.000000               0.000000   \n",
       "25%                        7.860030              63.114596   \n",
       "50%                        9.301970              67.962788   \n",
       "75%                       11.001573              72.598187   \n",
       "max                       19.423912             100.000000   \n",
       "\n",
       "       final.output.tail_au  final.output.tail_ag  final.output.tail_pb  \\\n",
       "count          14579.000000          14578.000000          14504.000000   \n",
       "mean               3.087939              9.731972              2.719985   \n",
       "std                0.915187              2.358143              0.958929   \n",
       "min                0.000000              0.000000              0.000000   \n",
       "25%                2.505287              8.088928              2.036512   \n",
       "50%                3.029238              9.818512              2.774847   \n",
       "75%                3.614098             11.169187              3.353845   \n",
       "max                8.245022             19.552149              5.804178   \n",
       "\n",
       "       final.output.tail_sol  \n",
       "count           14574.000000  \n",
       "mean               10.612745  \n",
       "std                 2.871075  \n",
       "min                 0.000000  \n",
       "25%                 9.013412  \n",
       "50%                10.670515  \n",
       "75%                12.130827  \n",
       "max                22.317730  \n",
       "\n",
       "[8 rows x 86 columns]"
      ]
     },
     "metadata": {},
     "output_type": "display_data"
    },
    {
     "name": "stdout",
     "output_type": "stream",
     "text": [
      "Процент пропущенных значений:\n"
     ]
    },
    {
     "data": {
      "text/plain": [
       "secondary_cleaner.output.tail_sol           6.310447\n",
       "rougher.state.floatbank10_e_air             2.942589\n",
       "rougher.input.floatbank11_xanthate          2.791687\n",
       "primary_cleaner.output.concentrate_sol      1.817683\n",
       "final.output.concentrate_sol                1.316963\n",
       "rougher.input.feed_size                     0.692777\n",
       "secondary_cleaner.state.floatbank2_a_air    0.644763\n",
       "primary_cleaner.output.concentrate_pb       0.603608\n",
       "rougher.input.feed_sol                      0.528157\n",
       "final.output.tail_pb                        0.514439\n",
       "rougher.input.feed_pb                       0.493861\n",
       "primary_cleaner.input.xanthate              0.418410\n",
       "primary_cleaner.output.tail_sol             0.308663\n",
       "rougher.input.floatbank11_sulfate           0.246931\n",
       "rougher.input.floatbank10_sulfate           0.212635\n",
       "dtype: float64"
      ]
     },
     "metadata": {},
     "output_type": "display_data"
    }
   ],
   "source": [
    "show_info(train)"
   ]
  },
  {
   "cell_type": "code",
   "execution_count": 5,
   "metadata": {},
   "outputs": [
    {
     "data": {
      "text/html": [
       "<div>\n",
       "<style scoped>\n",
       "    .dataframe tbody tr th:only-of-type {\n",
       "        vertical-align: middle;\n",
       "    }\n",
       "\n",
       "    .dataframe tbody tr th {\n",
       "        vertical-align: top;\n",
       "    }\n",
       "\n",
       "    .dataframe thead th {\n",
       "        text-align: right;\n",
       "    }\n",
       "</style>\n",
       "<table border=\"1\" class=\"dataframe\">\n",
       "  <thead>\n",
       "    <tr style=\"text-align: right;\">\n",
       "      <th></th>\n",
       "      <th>rougher.input.feed_au</th>\n",
       "      <th>rougher.input.feed_ag</th>\n",
       "      <th>rougher.input.feed_pb</th>\n",
       "      <th>rougher.input.feed_sol</th>\n",
       "      <th>rougher.input.feed_rate</th>\n",
       "      <th>rougher.input.feed_size</th>\n",
       "      <th>rougher.input.floatbank10_sulfate</th>\n",
       "      <th>rougher.input.floatbank10_xanthate</th>\n",
       "      <th>rougher.state.floatbank10_a_air</th>\n",
       "      <th>rougher.state.floatbank10_a_level</th>\n",
       "      <th>...</th>\n",
       "      <th>secondary_cleaner.state.floatbank4_a_air</th>\n",
       "      <th>secondary_cleaner.state.floatbank4_a_level</th>\n",
       "      <th>secondary_cleaner.state.floatbank4_b_air</th>\n",
       "      <th>secondary_cleaner.state.floatbank4_b_level</th>\n",
       "      <th>secondary_cleaner.state.floatbank5_a_air</th>\n",
       "      <th>secondary_cleaner.state.floatbank5_a_level</th>\n",
       "      <th>secondary_cleaner.state.floatbank5_b_air</th>\n",
       "      <th>secondary_cleaner.state.floatbank5_b_level</th>\n",
       "      <th>secondary_cleaner.state.floatbank6_a_air</th>\n",
       "      <th>secondary_cleaner.state.floatbank6_a_level</th>\n",
       "    </tr>\n",
       "  </thead>\n",
       "  <tbody>\n",
       "    <tr>\n",
       "      <th>count</th>\n",
       "      <td>4860.000000</td>\n",
       "      <td>4860.000000</td>\n",
       "      <td>4832.000000</td>\n",
       "      <td>4838.000000</td>\n",
       "      <td>4856.000000</td>\n",
       "      <td>4816.000000</td>\n",
       "      <td>4857.000000</td>\n",
       "      <td>4859.000000</td>\n",
       "      <td>4859.000000</td>\n",
       "      <td>4859.000000</td>\n",
       "      <td>...</td>\n",
       "      <td>4.859000e+03</td>\n",
       "      <td>4859.000000</td>\n",
       "      <td>4.859000e+03</td>\n",
       "      <td>4859.000000</td>\n",
       "      <td>4859.000000</td>\n",
       "      <td>4859.000000</td>\n",
       "      <td>4859.000000</td>\n",
       "      <td>4859.000000</td>\n",
       "      <td>4859.000000</td>\n",
       "      <td>4859.000000</td>\n",
       "    </tr>\n",
       "    <tr>\n",
       "      <th>mean</th>\n",
       "      <td>8.005584</td>\n",
       "      <td>8.547348</td>\n",
       "      <td>3.579662</td>\n",
       "      <td>37.095864</td>\n",
       "      <td>490.285103</td>\n",
       "      <td>59.113400</td>\n",
       "      <td>12.055735</td>\n",
       "      <td>6.101308</td>\n",
       "      <td>1108.635895</td>\n",
       "      <td>-368.340127</td>\n",
       "      <td>...</td>\n",
       "      <td>1.985770e+01</td>\n",
       "      <td>-488.665140</td>\n",
       "      <td>1.557025e+01</td>\n",
       "      <td>-464.176507</td>\n",
       "      <td>16.594103</td>\n",
       "      <td>-490.815250</td>\n",
       "      <td>12.945971</td>\n",
       "      <td>-489.583564</td>\n",
       "      <td>19.053888</td>\n",
       "      <td>-504.678924</td>\n",
       "    </tr>\n",
       "    <tr>\n",
       "      <th>std</th>\n",
       "      <td>1.993590</td>\n",
       "      <td>1.958601</td>\n",
       "      <td>1.029377</td>\n",
       "      <td>4.926284</td>\n",
       "      <td>94.371623</td>\n",
       "      <td>19.125122</td>\n",
       "      <td>3.407642</td>\n",
       "      <td>1.042754</td>\n",
       "      <td>156.493143</td>\n",
       "      <td>91.155929</td>\n",
       "      <td>...</td>\n",
       "      <td>5.913105e+00</td>\n",
       "      <td>44.392714</td>\n",
       "      <td>4.927361e+00</td>\n",
       "      <td>65.706994</td>\n",
       "      <td>5.724305</td>\n",
       "      <td>32.258443</td>\n",
       "      <td>5.533176</td>\n",
       "      <td>37.084609</td>\n",
       "      <td>5.548996</td>\n",
       "      <td>38.690186</td>\n",
       "    </tr>\n",
       "    <tr>\n",
       "      <th>min</th>\n",
       "      <td>0.010000</td>\n",
       "      <td>0.010000</td>\n",
       "      <td>0.010000</td>\n",
       "      <td>0.010000</td>\n",
       "      <td>0.012786</td>\n",
       "      <td>0.046369</td>\n",
       "      <td>0.018907</td>\n",
       "      <td>0.015783</td>\n",
       "      <td>300.792494</td>\n",
       "      <td>-600.568138</td>\n",
       "      <td>...</td>\n",
       "      <td>1.079872e-16</td>\n",
       "      <td>-799.704969</td>\n",
       "      <td>2.489718e-17</td>\n",
       "      <td>-799.860767</td>\n",
       "      <td>-0.371498</td>\n",
       "      <td>-797.142475</td>\n",
       "      <td>1.358469</td>\n",
       "      <td>-800.006180</td>\n",
       "      <td>0.160386</td>\n",
       "      <td>-809.734800</td>\n",
       "    </tr>\n",
       "    <tr>\n",
       "      <th>25%</th>\n",
       "      <td>6.574363</td>\n",
       "      <td>6.975898</td>\n",
       "      <td>2.903612</td>\n",
       "      <td>34.510841</td>\n",
       "      <td>434.099695</td>\n",
       "      <td>47.596984</td>\n",
       "      <td>9.890429</td>\n",
       "      <td>5.499808</td>\n",
       "      <td>999.715729</td>\n",
       "      <td>-499.731972</td>\n",
       "      <td>...</td>\n",
       "      <td>1.501123e+01</td>\n",
       "      <td>-500.704004</td>\n",
       "      <td>1.202172e+01</td>\n",
       "      <td>-500.196517</td>\n",
       "      <td>11.073822</td>\n",
       "      <td>-500.483564</td>\n",
       "      <td>9.011890</td>\n",
       "      <td>-500.129913</td>\n",
       "      <td>14.963953</td>\n",
       "      <td>-500.668501</td>\n",
       "    </tr>\n",
       "    <tr>\n",
       "      <th>50%</th>\n",
       "      <td>7.812923</td>\n",
       "      <td>8.179714</td>\n",
       "      <td>3.540772</td>\n",
       "      <td>37.499761</td>\n",
       "      <td>502.118742</td>\n",
       "      <td>55.509481</td>\n",
       "      <td>11.997859</td>\n",
       "      <td>6.099805</td>\n",
       "      <td>1001.414798</td>\n",
       "      <td>-300.181367</td>\n",
       "      <td>...</td>\n",
       "      <td>1.996807e+01</td>\n",
       "      <td>-499.892919</td>\n",
       "      <td>1.501240e+01</td>\n",
       "      <td>-499.540776</td>\n",
       "      <td>16.631195</td>\n",
       "      <td>-499.873136</td>\n",
       "      <td>11.999417</td>\n",
       "      <td>-499.955304</td>\n",
       "      <td>19.960006</td>\n",
       "      <td>-500.033769</td>\n",
       "    </tr>\n",
       "    <tr>\n",
       "      <th>75%</th>\n",
       "      <td>9.556589</td>\n",
       "      <td>10.084339</td>\n",
       "      <td>4.199847</td>\n",
       "      <td>40.461315</td>\n",
       "      <td>555.596563</td>\n",
       "      <td>66.661547</td>\n",
       "      <td>14.496072</td>\n",
       "      <td>6.802101</td>\n",
       "      <td>1202.837565</td>\n",
       "      <td>-299.961547</td>\n",
       "      <td>...</td>\n",
       "      <td>2.498900e+01</td>\n",
       "      <td>-498.652030</td>\n",
       "      <td>1.999949e+01</td>\n",
       "      <td>-400.302329</td>\n",
       "      <td>19.983191</td>\n",
       "      <td>-498.852815</td>\n",
       "      <td>15.004198</td>\n",
       "      <td>-499.643776</td>\n",
       "      <td>24.974583</td>\n",
       "      <td>-499.460134</td>\n",
       "    </tr>\n",
       "    <tr>\n",
       "      <th>max</th>\n",
       "      <td>13.417156</td>\n",
       "      <td>14.533698</td>\n",
       "      <td>7.142594</td>\n",
       "      <td>53.477742</td>\n",
       "      <td>702.523396</td>\n",
       "      <td>363.989699</td>\n",
       "      <td>30.010759</td>\n",
       "      <td>9.396928</td>\n",
       "      <td>1521.980372</td>\n",
       "      <td>-281.039299</td>\n",
       "      <td>...</td>\n",
       "      <td>3.008450e+01</td>\n",
       "      <td>-383.373053</td>\n",
       "      <td>2.398898e+01</td>\n",
       "      <td>-114.250832</td>\n",
       "      <td>33.215996</td>\n",
       "      <td>-288.963521</td>\n",
       "      <td>24.177106</td>\n",
       "      <td>-141.934397</td>\n",
       "      <td>32.028529</td>\n",
       "      <td>-104.427459</td>\n",
       "    </tr>\n",
       "  </tbody>\n",
       "</table>\n",
       "<p>8 rows × 52 columns</p>\n",
       "</div>"
      ],
      "text/plain": [
       "       rougher.input.feed_au  rougher.input.feed_ag  rougher.input.feed_pb  \\\n",
       "count            4860.000000            4860.000000            4832.000000   \n",
       "mean                8.005584               8.547348               3.579662   \n",
       "std                 1.993590               1.958601               1.029377   \n",
       "min                 0.010000               0.010000               0.010000   \n",
       "25%                 6.574363               6.975898               2.903612   \n",
       "50%                 7.812923               8.179714               3.540772   \n",
       "75%                 9.556589              10.084339               4.199847   \n",
       "max                13.417156              14.533698               7.142594   \n",
       "\n",
       "       rougher.input.feed_sol  rougher.input.feed_rate  \\\n",
       "count             4838.000000              4856.000000   \n",
       "mean                37.095864               490.285103   \n",
       "std                  4.926284                94.371623   \n",
       "min                  0.010000                 0.012786   \n",
       "25%                 34.510841               434.099695   \n",
       "50%                 37.499761               502.118742   \n",
       "75%                 40.461315               555.596563   \n",
       "max                 53.477742               702.523396   \n",
       "\n",
       "       rougher.input.feed_size  rougher.input.floatbank10_sulfate  \\\n",
       "count              4816.000000                        4857.000000   \n",
       "mean                 59.113400                          12.055735   \n",
       "std                  19.125122                           3.407642   \n",
       "min                   0.046369                           0.018907   \n",
       "25%                  47.596984                           9.890429   \n",
       "50%                  55.509481                          11.997859   \n",
       "75%                  66.661547                          14.496072   \n",
       "max                 363.989699                          30.010759   \n",
       "\n",
       "       rougher.input.floatbank10_xanthate  rougher.state.floatbank10_a_air  \\\n",
       "count                         4859.000000                      4859.000000   \n",
       "mean                             6.101308                      1108.635895   \n",
       "std                              1.042754                       156.493143   \n",
       "min                              0.015783                       300.792494   \n",
       "25%                              5.499808                       999.715729   \n",
       "50%                              6.099805                      1001.414798   \n",
       "75%                              6.802101                      1202.837565   \n",
       "max                              9.396928                      1521.980372   \n",
       "\n",
       "       rougher.state.floatbank10_a_level  ...  \\\n",
       "count                        4859.000000  ...   \n",
       "mean                         -368.340127  ...   \n",
       "std                            91.155929  ...   \n",
       "min                          -600.568138  ...   \n",
       "25%                          -499.731972  ...   \n",
       "50%                          -300.181367  ...   \n",
       "75%                          -299.961547  ...   \n",
       "max                          -281.039299  ...   \n",
       "\n",
       "       secondary_cleaner.state.floatbank4_a_air  \\\n",
       "count                              4.859000e+03   \n",
       "mean                               1.985770e+01   \n",
       "std                                5.913105e+00   \n",
       "min                                1.079872e-16   \n",
       "25%                                1.501123e+01   \n",
       "50%                                1.996807e+01   \n",
       "75%                                2.498900e+01   \n",
       "max                                3.008450e+01   \n",
       "\n",
       "       secondary_cleaner.state.floatbank4_a_level  \\\n",
       "count                                 4859.000000   \n",
       "mean                                  -488.665140   \n",
       "std                                     44.392714   \n",
       "min                                   -799.704969   \n",
       "25%                                   -500.704004   \n",
       "50%                                   -499.892919   \n",
       "75%                                   -498.652030   \n",
       "max                                   -383.373053   \n",
       "\n",
       "       secondary_cleaner.state.floatbank4_b_air  \\\n",
       "count                              4.859000e+03   \n",
       "mean                               1.557025e+01   \n",
       "std                                4.927361e+00   \n",
       "min                                2.489718e-17   \n",
       "25%                                1.202172e+01   \n",
       "50%                                1.501240e+01   \n",
       "75%                                1.999949e+01   \n",
       "max                                2.398898e+01   \n",
       "\n",
       "       secondary_cleaner.state.floatbank4_b_level  \\\n",
       "count                                 4859.000000   \n",
       "mean                                  -464.176507   \n",
       "std                                     65.706994   \n",
       "min                                   -799.860767   \n",
       "25%                                   -500.196517   \n",
       "50%                                   -499.540776   \n",
       "75%                                   -400.302329   \n",
       "max                                   -114.250832   \n",
       "\n",
       "       secondary_cleaner.state.floatbank5_a_air  \\\n",
       "count                               4859.000000   \n",
       "mean                                  16.594103   \n",
       "std                                    5.724305   \n",
       "min                                   -0.371498   \n",
       "25%                                   11.073822   \n",
       "50%                                   16.631195   \n",
       "75%                                   19.983191   \n",
       "max                                   33.215996   \n",
       "\n",
       "       secondary_cleaner.state.floatbank5_a_level  \\\n",
       "count                                 4859.000000   \n",
       "mean                                  -490.815250   \n",
       "std                                     32.258443   \n",
       "min                                   -797.142475   \n",
       "25%                                   -500.483564   \n",
       "50%                                   -499.873136   \n",
       "75%                                   -498.852815   \n",
       "max                                   -288.963521   \n",
       "\n",
       "       secondary_cleaner.state.floatbank5_b_air  \\\n",
       "count                               4859.000000   \n",
       "mean                                  12.945971   \n",
       "std                                    5.533176   \n",
       "min                                    1.358469   \n",
       "25%                                    9.011890   \n",
       "50%                                   11.999417   \n",
       "75%                                   15.004198   \n",
       "max                                   24.177106   \n",
       "\n",
       "       secondary_cleaner.state.floatbank5_b_level  \\\n",
       "count                                 4859.000000   \n",
       "mean                                  -489.583564   \n",
       "std                                     37.084609   \n",
       "min                                   -800.006180   \n",
       "25%                                   -500.129913   \n",
       "50%                                   -499.955304   \n",
       "75%                                   -499.643776   \n",
       "max                                   -141.934397   \n",
       "\n",
       "       secondary_cleaner.state.floatbank6_a_air  \\\n",
       "count                               4859.000000   \n",
       "mean                                  19.053888   \n",
       "std                                    5.548996   \n",
       "min                                    0.160386   \n",
       "25%                                   14.963953   \n",
       "50%                                   19.960006   \n",
       "75%                                   24.974583   \n",
       "max                                   32.028529   \n",
       "\n",
       "       secondary_cleaner.state.floatbank6_a_level  \n",
       "count                                 4859.000000  \n",
       "mean                                  -504.678924  \n",
       "std                                     38.690186  \n",
       "min                                   -809.734800  \n",
       "25%                                   -500.668501  \n",
       "50%                                   -500.033769  \n",
       "75%                                   -499.460134  \n",
       "max                                   -104.427459  \n",
       "\n",
       "[8 rows x 52 columns]"
      ]
     },
     "metadata": {},
     "output_type": "display_data"
    },
    {
     "name": "stdout",
     "output_type": "stream",
     "text": [
      "Процент пропущенных значений:\n"
     ]
    },
    {
     "data": {
      "text/plain": [
       "secondary_cleaner.state.floatbank2_a_air      2.592593\n",
       "rougher.input.floatbank11_xanthate            0.946502\n",
       "rougher.input.feed_size                       0.905350\n",
       "primary_cleaner.input.xanthate                0.884774\n",
       "rougher.input.feed_pb                         0.576132\n",
       "rougher.input.feed_sol                        0.452675\n",
       "primary_cleaner.input.depressant              0.185185\n",
       "rougher.input.floatbank11_sulfate             0.164609\n",
       "rougher.state.floatbank10_e_air               0.144033\n",
       "rougher.input.feed_rate                       0.082305\n",
       "rougher.input.floatbank10_sulfate             0.061728\n",
       "primary_cleaner.state.floatbank8_d_air        0.041152\n",
       "primary_cleaner.state.floatbank8_c_air        0.041152\n",
       "secondary_cleaner.state.floatbank2_b_level    0.020576\n",
       "secondary_cleaner.state.floatbank3_a_air      0.020576\n",
       "dtype: float64"
      ]
     },
     "metadata": {},
     "output_type": "display_data"
    }
   ],
   "source": [
    "show_info(test)"
   ]
  },
  {
   "cell_type": "code",
   "execution_count": 6,
   "metadata": {},
   "outputs": [
    {
     "data": {
      "text/html": [
       "<div>\n",
       "<style scoped>\n",
       "    .dataframe tbody tr th:only-of-type {\n",
       "        vertical-align: middle;\n",
       "    }\n",
       "\n",
       "    .dataframe tbody tr th {\n",
       "        vertical-align: top;\n",
       "    }\n",
       "\n",
       "    .dataframe thead th {\n",
       "        text-align: right;\n",
       "    }\n",
       "</style>\n",
       "<table border=\"1\" class=\"dataframe\">\n",
       "  <thead>\n",
       "    <tr style=\"text-align: right;\">\n",
       "      <th></th>\n",
       "      <th>rougher.input.feed_au</th>\n",
       "      <th>rougher.input.feed_ag</th>\n",
       "      <th>rougher.input.feed_pb</th>\n",
       "      <th>rougher.input.feed_sol</th>\n",
       "      <th>rougher.input.feed_rate</th>\n",
       "      <th>rougher.input.feed_size</th>\n",
       "      <th>rougher.input.floatbank10_sulfate</th>\n",
       "      <th>rougher.input.floatbank10_xanthate</th>\n",
       "      <th>rougher.state.floatbank10_a_air</th>\n",
       "      <th>rougher.state.floatbank10_a_level</th>\n",
       "      <th>...</th>\n",
       "      <th>secondary_cleaner.output.tail_sol</th>\n",
       "      <th>final.output.concentrate_au</th>\n",
       "      <th>final.output.concentrate_ag</th>\n",
       "      <th>final.output.concentrate_pb</th>\n",
       "      <th>final.output.concentrate_sol</th>\n",
       "      <th>final.output.recovery</th>\n",
       "      <th>final.output.tail_au</th>\n",
       "      <th>final.output.tail_ag</th>\n",
       "      <th>final.output.tail_pb</th>\n",
       "      <th>final.output.tail_sol</th>\n",
       "    </tr>\n",
       "  </thead>\n",
       "  <tbody>\n",
       "    <tr>\n",
       "      <th>count</th>\n",
       "      <td>19439.000000</td>\n",
       "      <td>19439.000000</td>\n",
       "      <td>19339.000000</td>\n",
       "      <td>19340.000000</td>\n",
       "      <td>19428.000000</td>\n",
       "      <td>19294.000000</td>\n",
       "      <td>19405.000000</td>\n",
       "      <td>19431.000000</td>\n",
       "      <td>19438.000000</td>\n",
       "      <td>19438.000000</td>\n",
       "      <td>...</td>\n",
       "      <td>17691.000000</td>\n",
       "      <td>19439.000000</td>\n",
       "      <td>19438.000000</td>\n",
       "      <td>19438.000000</td>\n",
       "      <td>19228.000000</td>\n",
       "      <td>19439.000000</td>\n",
       "      <td>19439.000000</td>\n",
       "      <td>19438.000000</td>\n",
       "      <td>19338.000000</td>\n",
       "      <td>19433.000000</td>\n",
       "    </tr>\n",
       "    <tr>\n",
       "      <th>mean</th>\n",
       "      <td>8.266097</td>\n",
       "      <td>8.794927</td>\n",
       "      <td>3.598085</td>\n",
       "      <td>36.695114</td>\n",
       "      <td>478.320042</td>\n",
       "      <td>58.970310</td>\n",
       "      <td>12.334373</td>\n",
       "      <td>6.021474</td>\n",
       "      <td>1105.315068</td>\n",
       "      <td>-376.610690</td>\n",
       "      <td>...</td>\n",
       "      <td>7.167247</td>\n",
       "      <td>44.076513</td>\n",
       "      <td>5.168470</td>\n",
       "      <td>9.978895</td>\n",
       "      <td>9.501224</td>\n",
       "      <td>67.050208</td>\n",
       "      <td>3.042467</td>\n",
       "      <td>9.688589</td>\n",
       "      <td>2.705795</td>\n",
       "      <td>10.583728</td>\n",
       "    </tr>\n",
       "    <tr>\n",
       "      <th>std</th>\n",
       "      <td>1.955092</td>\n",
       "      <td>1.936847</td>\n",
       "      <td>1.049486</td>\n",
       "      <td>5.145445</td>\n",
       "      <td>105.373758</td>\n",
       "      <td>21.634478</td>\n",
       "      <td>3.427317</td>\n",
       "      <td>1.127263</td>\n",
       "      <td>160.826798</td>\n",
       "      <td>93.909667</td>\n",
       "      <td>...</td>\n",
       "      <td>3.916079</td>\n",
       "      <td>5.129784</td>\n",
       "      <td>1.372348</td>\n",
       "      <td>1.669240</td>\n",
       "      <td>2.787537</td>\n",
       "      <td>10.125840</td>\n",
       "      <td>0.922808</td>\n",
       "      <td>2.328642</td>\n",
       "      <td>0.949077</td>\n",
       "      <td>2.868782</td>\n",
       "    </tr>\n",
       "    <tr>\n",
       "      <th>min</th>\n",
       "      <td>0.010000</td>\n",
       "      <td>0.010000</td>\n",
       "      <td>0.010000</td>\n",
       "      <td>0.010000</td>\n",
       "      <td>0.002986</td>\n",
       "      <td>0.046369</td>\n",
       "      <td>0.001083</td>\n",
       "      <td>0.000568</td>\n",
       "      <td>-0.042069</td>\n",
       "      <td>-657.949759</td>\n",
       "      <td>...</td>\n",
       "      <td>0.000000</td>\n",
       "      <td>0.000000</td>\n",
       "      <td>0.000000</td>\n",
       "      <td>0.000000</td>\n",
       "      <td>0.000000</td>\n",
       "      <td>0.000000</td>\n",
       "      <td>0.000000</td>\n",
       "      <td>0.000000</td>\n",
       "      <td>0.000000</td>\n",
       "      <td>0.000000</td>\n",
       "    </tr>\n",
       "    <tr>\n",
       "      <th>25%</th>\n",
       "      <td>6.854384</td>\n",
       "      <td>7.237967</td>\n",
       "      <td>2.887280</td>\n",
       "      <td>34.207799</td>\n",
       "      <td>416.525453</td>\n",
       "      <td>47.435103</td>\n",
       "      <td>10.000362</td>\n",
       "      <td>5.398678</td>\n",
       "      <td>999.661867</td>\n",
       "      <td>-499.835165</td>\n",
       "      <td>...</td>\n",
       "      <td>3.845475</td>\n",
       "      <td>43.402215</td>\n",
       "      <td>4.251240</td>\n",
       "      <td>9.137262</td>\n",
       "      <td>7.722820</td>\n",
       "      <td>63.299712</td>\n",
       "      <td>2.461138</td>\n",
       "      <td>8.062878</td>\n",
       "      <td>2.040119</td>\n",
       "      <td>8.938947</td>\n",
       "    </tr>\n",
       "    <tr>\n",
       "      <th>50%</th>\n",
       "      <td>8.125839</td>\n",
       "      <td>8.593574</td>\n",
       "      <td>3.534895</td>\n",
       "      <td>37.202650</td>\n",
       "      <td>499.416120</td>\n",
       "      <td>54.610197</td>\n",
       "      <td>12.001174</td>\n",
       "      <td>6.008273</td>\n",
       "      <td>1001.072890</td>\n",
       "      <td>-300.263994</td>\n",
       "      <td>...</td>\n",
       "      <td>7.685827</td>\n",
       "      <td>45.011244</td>\n",
       "      <td>5.066094</td>\n",
       "      <td>10.102433</td>\n",
       "      <td>9.218961</td>\n",
       "      <td>68.172738</td>\n",
       "      <td>2.984909</td>\n",
       "      <td>9.743623</td>\n",
       "      <td>2.748730</td>\n",
       "      <td>10.622456</td>\n",
       "    </tr>\n",
       "    <tr>\n",
       "      <th>75%</th>\n",
       "      <td>9.769917</td>\n",
       "      <td>10.213771</td>\n",
       "      <td>4.244161</td>\n",
       "      <td>40.039133</td>\n",
       "      <td>550.172183</td>\n",
       "      <td>65.023044</td>\n",
       "      <td>14.716595</td>\n",
       "      <td>6.798051</td>\n",
       "      <td>1205.620588</td>\n",
       "      <td>-299.981998</td>\n",
       "      <td>...</td>\n",
       "      <td>10.411296</td>\n",
       "      <td>46.275313</td>\n",
       "      <td>5.895527</td>\n",
       "      <td>11.035769</td>\n",
       "      <td>10.947813</td>\n",
       "      <td>72.686642</td>\n",
       "      <td>3.571351</td>\n",
       "      <td>11.134294</td>\n",
       "      <td>3.333216</td>\n",
       "      <td>12.104271</td>\n",
       "    </tr>\n",
       "    <tr>\n",
       "      <th>max</th>\n",
       "      <td>13.731330</td>\n",
       "      <td>14.596026</td>\n",
       "      <td>7.142594</td>\n",
       "      <td>53.477742</td>\n",
       "      <td>717.508837</td>\n",
       "      <td>484.967466</td>\n",
       "      <td>36.118275</td>\n",
       "      <td>9.703448</td>\n",
       "      <td>1521.980372</td>\n",
       "      <td>-273.776101</td>\n",
       "      <td>...</td>\n",
       "      <td>26.000772</td>\n",
       "      <td>52.756638</td>\n",
       "      <td>16.001945</td>\n",
       "      <td>17.031899</td>\n",
       "      <td>19.615720</td>\n",
       "      <td>100.000000</td>\n",
       "      <td>8.245022</td>\n",
       "      <td>19.552149</td>\n",
       "      <td>5.804178</td>\n",
       "      <td>22.317730</td>\n",
       "    </tr>\n",
       "  </tbody>\n",
       "</table>\n",
       "<p>8 rows × 86 columns</p>\n",
       "</div>"
      ],
      "text/plain": [
       "       rougher.input.feed_au  rougher.input.feed_ag  rougher.input.feed_pb  \\\n",
       "count           19439.000000           19439.000000           19339.000000   \n",
       "mean                8.266097               8.794927               3.598085   \n",
       "std                 1.955092               1.936847               1.049486   \n",
       "min                 0.010000               0.010000               0.010000   \n",
       "25%                 6.854384               7.237967               2.887280   \n",
       "50%                 8.125839               8.593574               3.534895   \n",
       "75%                 9.769917              10.213771               4.244161   \n",
       "max                13.731330              14.596026               7.142594   \n",
       "\n",
       "       rougher.input.feed_sol  rougher.input.feed_rate  \\\n",
       "count            19340.000000             19428.000000   \n",
       "mean                36.695114               478.320042   \n",
       "std                  5.145445               105.373758   \n",
       "min                  0.010000                 0.002986   \n",
       "25%                 34.207799               416.525453   \n",
       "50%                 37.202650               499.416120   \n",
       "75%                 40.039133               550.172183   \n",
       "max                 53.477742               717.508837   \n",
       "\n",
       "       rougher.input.feed_size  rougher.input.floatbank10_sulfate  \\\n",
       "count             19294.000000                       19405.000000   \n",
       "mean                 58.970310                          12.334373   \n",
       "std                  21.634478                           3.427317   \n",
       "min                   0.046369                           0.001083   \n",
       "25%                  47.435103                          10.000362   \n",
       "50%                  54.610197                          12.001174   \n",
       "75%                  65.023044                          14.716595   \n",
       "max                 484.967466                          36.118275   \n",
       "\n",
       "       rougher.input.floatbank10_xanthate  rougher.state.floatbank10_a_air  \\\n",
       "count                        19431.000000                     19438.000000   \n",
       "mean                             6.021474                      1105.315068   \n",
       "std                              1.127263                       160.826798   \n",
       "min                              0.000568                        -0.042069   \n",
       "25%                              5.398678                       999.661867   \n",
       "50%                              6.008273                      1001.072890   \n",
       "75%                              6.798051                      1205.620588   \n",
       "max                              9.703448                      1521.980372   \n",
       "\n",
       "       rougher.state.floatbank10_a_level  ...  \\\n",
       "count                       19438.000000  ...   \n",
       "mean                         -376.610690  ...   \n",
       "std                            93.909667  ...   \n",
       "min                          -657.949759  ...   \n",
       "25%                          -499.835165  ...   \n",
       "50%                          -300.263994  ...   \n",
       "75%                          -299.981998  ...   \n",
       "max                          -273.776101  ...   \n",
       "\n",
       "       secondary_cleaner.output.tail_sol  final.output.concentrate_au  \\\n",
       "count                       17691.000000                 19439.000000   \n",
       "mean                            7.167247                    44.076513   \n",
       "std                             3.916079                     5.129784   \n",
       "min                             0.000000                     0.000000   \n",
       "25%                             3.845475                    43.402215   \n",
       "50%                             7.685827                    45.011244   \n",
       "75%                            10.411296                    46.275313   \n",
       "max                            26.000772                    52.756638   \n",
       "\n",
       "       final.output.concentrate_ag  final.output.concentrate_pb  \\\n",
       "count                 19438.000000                 19438.000000   \n",
       "mean                      5.168470                     9.978895   \n",
       "std                       1.372348                     1.669240   \n",
       "min                       0.000000                     0.000000   \n",
       "25%                       4.251240                     9.137262   \n",
       "50%                       5.066094                    10.102433   \n",
       "75%                       5.895527                    11.035769   \n",
       "max                      16.001945                    17.031899   \n",
       "\n",
       "       final.output.concentrate_sol  final.output.recovery  \\\n",
       "count                  19228.000000           19439.000000   \n",
       "mean                       9.501224              67.050208   \n",
       "std                        2.787537              10.125840   \n",
       "min                        0.000000               0.000000   \n",
       "25%                        7.722820              63.299712   \n",
       "50%                        9.218961              68.172738   \n",
       "75%                       10.947813              72.686642   \n",
       "max                       19.615720             100.000000   \n",
       "\n",
       "       final.output.tail_au  final.output.tail_ag  final.output.tail_pb  \\\n",
       "count          19439.000000          19438.000000          19338.000000   \n",
       "mean               3.042467              9.688589              2.705795   \n",
       "std                0.922808              2.328642              0.949077   \n",
       "min                0.000000              0.000000              0.000000   \n",
       "25%                2.461138              8.062878              2.040119   \n",
       "50%                2.984909              9.743623              2.748730   \n",
       "75%                3.571351             11.134294              3.333216   \n",
       "max                8.245022             19.552149              5.804178   \n",
       "\n",
       "       final.output.tail_sol  \n",
       "count           19433.000000  \n",
       "mean               10.583728  \n",
       "std                 2.868782  \n",
       "min                 0.000000  \n",
       "25%                 8.938947  \n",
       "50%                10.622456  \n",
       "75%                12.104271  \n",
       "max                22.317730  \n",
       "\n",
       "[8 rows x 86 columns]"
      ]
     },
     "metadata": {},
     "output_type": "display_data"
    },
    {
     "name": "stdout",
     "output_type": "stream",
     "text": [
      "Процент пропущенных значений:\n"
     ]
    },
    {
     "data": {
      "text/plain": [
       "secondary_cleaner.output.tail_sol           8.992232\n",
       "rougher.input.floatbank11_xanthate          2.330367\n",
       "rougher.state.floatbank10_e_air             2.242914\n",
       "primary_cleaner.output.concentrate_sol      1.903390\n",
       "secondary_cleaner.state.floatbank2_a_air    1.131745\n",
       "final.output.concentrate_sol                1.085447\n",
       "rougher.input.feed_size                     0.745923\n",
       "primary_cleaner.output.concentrate_pb       0.596739\n",
       "primary_cleaner.input.xanthate              0.535007\n",
       "final.output.tail_pb                        0.519574\n",
       "rougher.input.feed_pb                       0.514430\n",
       "rougher.input.feed_sol                      0.509285\n",
       "primary_cleaner.output.tail_sol             0.318946\n",
       "rougher.input.floatbank11_sulfate           0.226349\n",
       "primary_cleaner.input.depressant            0.190339\n",
       "dtype: float64"
      ]
     },
     "metadata": {},
     "output_type": "display_data"
    }
   ],
   "source": [
    "show_info(full_data)"
   ]
  },
  {
   "cell_type": "markdown",
   "metadata": {},
   "source": [
    "1. В данных присутствуют пропуски\n",
    "2. В тестовой выборке представлены не все те параметры, которые есть в обучающей выборке"
   ]
  },
  {
   "cell_type": "markdown",
   "metadata": {},
   "source": [
    "### Проверка расчета эффективности восстановления золота\n",
    "\n",
    "\n",
    "$$ Recovery = {C * (F - T) \\over F * (C - T)} * 100\\% $$\n",
    "\n",
    "где:\n",
    "* C — доля золота в концентрате после флотации/очистки (rougher.output.concentrate_au);\n",
    "* F — доля золота в сырье/концентрате до флотации/очистки (rougher.input.feed_au);\n",
    "* T — доля золота в отвальных хвостах после флотации/очистки (rougher.output.tail_au)"
   ]
  },
  {
   "cell_type": "code",
   "execution_count": 7,
   "metadata": {},
   "outputs": [],
   "source": [
    "def calc_recovery(concentrate_au, feed_au, tail_au):\n",
    "    val = (concentrate_au * (feed_au-tail_au))/(feed_au * (concentrate_au-tail_au))*100\n",
    "    return val"
   ]
  },
  {
   "cell_type": "code",
   "execution_count": 8,
   "metadata": {
    "scrolled": true
   },
   "outputs": [
    {
     "name": "stdout",
     "output_type": "stream",
     "text": [
      "MAE между расчетным и исходным значением признака: 9.83758577644259e-15\n"
     ]
    }
   ],
   "source": [
    "recovery = calc_recovery(\n",
    "    train['rougher.output.concentrate_au'], \n",
    "    train['rougher.input.feed_au'], \n",
    "    train['rougher.output.tail_au'],\n",
    ")\n",
    "\n",
    "mae = mean_absolute_error(train['rougher.output.recovery'], recovery)\n",
    "print(f'MAE между расчетным и исходным значением признака: {mae}')"
   ]
  },
  {
   "cell_type": "markdown",
   "metadata": {},
   "source": [
    "Наблюдаем значение среднюю абсолютную ошибку почти равную нулю, следовательно расчитанные нами значения почти что полностью совпадают со значениями, которые были представлены в датасете"
   ]
  },
  {
   "cell_type": "markdown",
   "metadata": {},
   "source": [
    "### Анализ признаков, отсутствующих в тестовой выборке"
   ]
  },
  {
   "cell_type": "code",
   "execution_count": 9,
   "metadata": {},
   "outputs": [
    {
     "name": "stdout",
     "output_type": "stream",
     "text": [
      "Факторы, отсутствующие в тестовой выборке: \n",
      "\n",
      "final.output.concentrate_ag\n",
      "final.output.concentrate_au\n",
      "final.output.concentrate_pb\n",
      "final.output.concentrate_sol\n",
      "final.output.recovery\n",
      "final.output.tail_ag\n",
      "final.output.tail_au\n",
      "final.output.tail_pb\n",
      "final.output.tail_sol\n",
      "primary_cleaner.output.concentrate_ag\n",
      "primary_cleaner.output.concentrate_au\n",
      "primary_cleaner.output.concentrate_pb\n",
      "primary_cleaner.output.concentrate_sol\n",
      "primary_cleaner.output.tail_ag\n",
      "primary_cleaner.output.tail_au\n",
      "primary_cleaner.output.tail_pb\n",
      "primary_cleaner.output.tail_sol\n",
      "rougher.calculation.au_pb_ratio\n",
      "rougher.calculation.floatbank10_sulfate_to_au_feed\n",
      "rougher.calculation.floatbank11_sulfate_to_au_feed\n",
      "rougher.calculation.sulfate_to_au_concentrate\n",
      "rougher.output.concentrate_ag\n",
      "rougher.output.concentrate_au\n",
      "rougher.output.concentrate_pb\n",
      "rougher.output.concentrate_sol\n",
      "rougher.output.recovery\n",
      "rougher.output.tail_ag\n",
      "rougher.output.tail_au\n",
      "rougher.output.tail_pb\n",
      "rougher.output.tail_sol\n",
      "secondary_cleaner.output.tail_ag\n",
      "secondary_cleaner.output.tail_au\n",
      "secondary_cleaner.output.tail_pb\n",
      "secondary_cleaner.output.tail_sol\n"
     ]
    }
   ],
   "source": [
    "def get_missing_factors(data1, data2):\n",
    "    data1_factors = data1.columns\n",
    "    data2_factors = data2.columns\n",
    "    \n",
    "    missing_factors = sorted(list(set(data1_factors) - set(data2_factors)))\n",
    "    return missing_factors\n",
    "\n",
    "print('Факторы, отсутствующие в тестовой выборке: \\n',)\n",
    "print('\\n'.join(get_missing_factors(train, test)))"
   ]
  },
  {
   "cell_type": "markdown",
   "metadata": {},
   "source": [
    "Таким образом, видим, что в тестовых данных отсутствуют факторы, которые соответствуют выходным и расчетным параметрам, которые, вероятно, расчитываются после выполнения технологического процесса. Тип данных float"
   ]
  },
  {
   "cell_type": "markdown",
   "metadata": {},
   "source": [
    "### Предобработка данных"
   ]
  },
  {
   "cell_type": "markdown",
   "metadata": {},
   "source": [
    "Проведем предобработку в несколько этапов:\n",
    "1. Добавим в тестовый набор целевые признаки\n",
    "2. Удалим строки с пропусками в целевых параметрах\n",
    "3. Заполним пропуски в факторах соседними значениями, так как известно, что соседние по времени параметры часто похожи"
   ]
  },
  {
   "cell_type": "code",
   "execution_count": 10,
   "metadata": {},
   "outputs": [],
   "source": [
    "# дополним целевыми признаками тестовый датасет\n",
    "test = test.merge(full_data[TARGETS].loc[test.index], on='date', how='left')"
   ]
  },
  {
   "cell_type": "code",
   "execution_count": 11,
   "metadata": {},
   "outputs": [
    {
     "name": "stdout",
     "output_type": "stream",
     "text": [
      "Пропуски в тестовом датасете:\n"
     ]
    },
    {
     "data": {
      "text/plain": [
       "rougher.output.recovery    0\n",
       "final.output.recovery      0\n",
       "dtype: int64"
      ]
     },
     "metadata": {},
     "output_type": "display_data"
    },
    {
     "name": "stdout",
     "output_type": "stream",
     "text": [
      "Пропуски в обучающем датасете:\n"
     ]
    },
    {
     "data": {
      "text/plain": [
       "rougher.output.recovery    0\n",
       "final.output.recovery      0\n",
       "dtype: int64"
      ]
     },
     "metadata": {},
     "output_type": "display_data"
    }
   ],
   "source": [
    "# проверим пропуски в целевых признаках\n",
    "print('Пропуски в тестовом датасете:')\n",
    "display(test[TARGETS].isna().sum())\n",
    "\n",
    "print('Пропуски в обучающем датасете:')\n",
    "display(train[TARGETS].isna().sum())"
   ]
  },
  {
   "cell_type": "code",
   "execution_count": 12,
   "metadata": {},
   "outputs": [],
   "source": [
    "# заполним пропуски в факторах соседними значениями\n",
    "train = train.fillna(method='ffill')\n",
    "test = test.fillna(method='ffill')"
   ]
  },
  {
   "cell_type": "markdown",
   "metadata": {},
   "source": [
    "**Выводы:**\n",
    "\n",
    "* Данные были успешно загружены и проанализированы\n",
    "* Показатель эффективности обогащения был рассчитан корректно\n",
    "* Однако в тестовой выборке отсутствуют параметры продукта, а также расчетные признаки на этапе флотации. Эти данные не будут участвовать в построении модели\n",
    "* Для актуальных признаков были заполнены пропуски на основе имеющихся исторических данных"
   ]
  },
  {
   "cell_type": "markdown",
   "metadata": {},
   "source": [
    "## Анализ данных"
   ]
  },
  {
   "cell_type": "markdown",
   "metadata": {},
   "source": [
    "### Анализ концентрации металлов (Au, Ag, Pb) на различных этапах производства"
   ]
  },
  {
   "cell_type": "code",
   "execution_count": 13,
   "metadata": {},
   "outputs": [],
   "source": [
    "# зададим константами факторы для анализа\n",
    "METALS = ['au', 'ag', 'pb']\n",
    "FACTORS_FOR_ANALYSIS = ['rougher.input.feed',\n",
    "                        'rougher.output.concentrate',\n",
    "                        'primary_cleaner.output.concentrate',\n",
    "                        'final.output.concentrate']"
   ]
  },
  {
   "cell_type": "code",
   "execution_count": 14,
   "metadata": {},
   "outputs": [
    {
     "data": {
      "image/png": "[encoded data removed]",
      "text/plain": [
       "<Figure size 1440x360 with 1 Axes>"
      ]
     },
     "metadata": {},
     "output_type": "display_data"
    },
    {
     "data": {
      "image/png": "[encoded data removed]",
      "text/plain": [
       "<Figure size 1440x360 with 1 Axes>"
      ]
     },
     "metadata": {},
     "output_type": "display_data"
    },
    {
     "data": {
      "image/png": "[encoded data removed]",
      "text/plain": [
       "<Figure size 1440x360 with 1 Axes>"
      ]
     },
     "metadata": {},
     "output_type": "display_data"
    }
   ],
   "source": [
    "svod_data = {}\n",
    "for metal in METALS:\n",
    "    current_factors = [factor + '_' + metal for factor in FACTORS_FOR_ANALYSIS]\n",
    "    \n",
    "    svod_data[metal] = {x: y for x, y in zip(FACTORS_FOR_ANALYSIS, train[current_factors].mean().values)}\n",
    "    \n",
    "    train[current_factors].plot(kind='hist',\n",
    "                                figsize=(20, 5),\n",
    "                                bins=200,\n",
    "                                alpha=0.4)\n",
    "    plt.legend(loc='upper right')\n",
    "    plt.title(f'Изменение концентрации {metal} в ходе очистки')\n",
    "    plt.xlabel('Концентрация вещества в породе, %')\n",
    "    plt.show()"
   ]
  },
  {
   "cell_type": "markdown",
   "metadata": {},
   "source": [
    "На данных гистограммах наглядно показано на каких этапах обработки опредленные металлы имеют свои наибольшие концентрации, однако посомтрим средние значения в виде таблицы, чтобы конкретнее определить значения изменений"
   ]
  },
  {
   "cell_type": "code",
   "execution_count": 15,
   "metadata": {},
   "outputs": [
    {
     "data": {
      "text/html": [
       "<div>\n",
       "<style scoped>\n",
       "    .dataframe tbody tr th:only-of-type {\n",
       "        vertical-align: middle;\n",
       "    }\n",
       "\n",
       "    .dataframe tbody tr th {\n",
       "        vertical-align: top;\n",
       "    }\n",
       "\n",
       "    .dataframe thead th {\n",
       "        text-align: right;\n",
       "    }\n",
       "</style>\n",
       "<table border=\"1\" class=\"dataframe\">\n",
       "  <thead>\n",
       "    <tr style=\"text-align: right;\">\n",
       "      <th></th>\n",
       "      <th>rougher.input.feed</th>\n",
       "      <th>rougher.output.concentrate</th>\n",
       "      <th>primary_cleaner.output.concentrate</th>\n",
       "      <th>final.output.concentrate</th>\n",
       "    </tr>\n",
       "  </thead>\n",
       "  <tbody>\n",
       "    <tr>\n",
       "      <th>au</th>\n",
       "      <td>8.352941</td>\n",
       "      <td>19.717470</td>\n",
       "      <td>32.007535</td>\n",
       "      <td>43.979499</td>\n",
       "    </tr>\n",
       "    <tr>\n",
       "      <th>ag</th>\n",
       "      <td>8.877460</td>\n",
       "      <td>11.944253</td>\n",
       "      <td>8.468626</td>\n",
       "      <td>5.192032</td>\n",
       "    </tr>\n",
       "    <tr>\n",
       "      <th>pb</th>\n",
       "      <td>3.592094</td>\n",
       "      <td>7.498953</td>\n",
       "      <td>9.731606</td>\n",
       "      <td>9.923715</td>\n",
       "    </tr>\n",
       "  </tbody>\n",
       "</table>\n",
       "</div>"
      ],
      "text/plain": [
       "    rougher.input.feed  rougher.output.concentrate  \\\n",
       "au            8.352941                   19.717470   \n",
       "ag            8.877460                   11.944253   \n",
       "pb            3.592094                    7.498953   \n",
       "\n",
       "    primary_cleaner.output.concentrate  final.output.concentrate  \n",
       "au                           32.007535                 43.979499  \n",
       "ag                            8.468626                  5.192032  \n",
       "pb                            9.731606                  9.923715  "
      ]
     },
     "metadata": {},
     "output_type": "display_data"
    }
   ],
   "source": [
    "display(pd.DataFrame(svod_data).T)"
   ]
  },
  {
   "cell_type": "markdown",
   "metadata": {},
   "source": [
    "* Концентрация золота (au) растет в ходе всего технологического процесса. Она вырастает с 8.35% до 44%\n",
    "* Концентрация серебра (ag) вырастает после первого этапа очистки на 3% (до 11.9%), однако затем снижается ниже первоначального состояния (5.2%)\n",
    "* Концентрация свинца незначительно растет в ходе всего процесса очистки с 3.6% до 9.9%"
   ]
  },
  {
   "cell_type": "markdown",
   "metadata": {},
   "source": [
    "### Сравнение распределения размеров гранул исходного сырья на обучающей и тестовой выборках"
   ]
  },
  {
   "cell_type": "code",
   "execution_count": 16,
   "metadata": {},
   "outputs": [
    {
     "data": {
      "image/png": "[encoded data removed]",
      "text/plain": [
       "<Figure size 936x360 with 1 Axes>"
      ]
     },
     "metadata": {},
     "output_type": "display_data"
    }
   ],
   "source": [
    "for data in (train, test):\n",
    "    data['rougher.input.feed_size'].plot(kind='hist',\n",
    "                                        bins=250,\n",
    "                                        figsize=(13, 5),\n",
    "                                        alpha=0.6,\n",
    "                                        density=True)\n",
    "    \n",
    "    xlimit_min = train['rougher.input.feed_size'].quantile(0.01)\n",
    "    xlimit_max = train['rougher.input.feed_size'].quantile(0.99)\n",
    "    plt.legend(['rougher.input.feed_size train', 'rougher.input.feed_size test'])\n",
    "    plt.xlim(xlimit_min, xlimit_max)"
   ]
  },
  {
   "cell_type": "markdown",
   "metadata": {},
   "source": [
    "Распределения на обучающей и тестовой выборках выглядят довольно похоже, соответсвенно оценка модели должна быть корректной"
   ]
  },
  {
   "cell_type": "markdown",
   "metadata": {},
   "source": [
    "### Исследование суммарной концентрации металлов на разных стадиях: в сырье, в черновом концентрате, в концентрате после первой очистки и в финальном концентрате"
   ]
  },
  {
   "cell_type": "code",
   "execution_count": 17,
   "metadata": {},
   "outputs": [],
   "source": [
    "# добавим сульфаты\n",
    "METALS.append('sol')\n",
    "\n",
    "# рассчитаем сумманые конценрации на разных стадиях по дате\n",
    "for factor in FACTORS_FOR_ANALYSIS:\n",
    "    train[factor+'_total'] = train[[factor + '_' + metal for metal in METALS]].sum(axis=1)"
   ]
  },
  {
   "cell_type": "code",
   "execution_count": 18,
   "metadata": {},
   "outputs": [
    {
     "data": {
      "image/png": "[encoded data removed]",
      "text/plain": [
       "<Figure size 1440x720 with 1 Axes>"
      ]
     },
     "metadata": {},
     "output_type": "display_data"
    }
   ],
   "source": [
    "data_for_visualization = train[[factor+'_total' for factor in FACTORS_FOR_ANALYSIS]]\n",
    "\n",
    "data_for_visualization.groupby(data_for_visualization.index.floor('D')).median().plot(figsize=(20, 10))\n",
    "\n",
    "plt.xlabel('Дата')\n",
    "plt.ylabel('Суммарная концентрация металлов, %')\n",
    "plt.legend(loc='lower left')\n",
    "plt.show()"
   ]
  },
  {
   "cell_type": "markdown",
   "metadata": {},
   "source": [
    "На графике наблюдаем, что на стадии после флотации и на финальном этапе наибольшая концентрация металлов. Оценим выбросы, которые встречаются на графике:"
   ]
  },
  {
   "cell_type": "code",
   "execution_count": 19,
   "metadata": {
    "scrolled": false
   },
   "outputs": [
    {
     "data": {
      "image/png": "[encoded data removed]",
      "text/plain": [
       "<Figure size 1008x648 with 2 Axes>"
      ]
     },
     "metadata": {},
     "output_type": "display_data"
    },
    {
     "data": {
      "text/plain": [
       "count    14579.000000\n",
       "mean        57.368141\n",
       "std          7.337656\n",
       "min          0.040000\n",
       "25%         53.571208\n",
       "50%         57.693000\n",
       "75%         62.122859\n",
       "max         76.978947\n",
       "Name: rougher.input.feed_total, dtype: float64"
      ]
     },
     "metadata": {},
     "output_type": "display_data"
    },
    {
     "data": {
      "image/png": "[encoded data removed]",
      "text/plain": [
       "<Figure size 1008x648 with 2 Axes>"
      ]
     },
     "metadata": {},
     "output_type": "display_data"
    },
    {
     "data": {
      "text/plain": [
       "count    14579.000000\n",
       "mean        67.804972\n",
       "std         13.739990\n",
       "min          0.000000\n",
       "25%         65.991033\n",
       "50%         70.350734\n",
       "75%         74.548465\n",
       "max         88.140119\n",
       "Name: rougher.output.concentrate_total, dtype: float64"
      ]
     },
     "metadata": {},
     "output_type": "display_data"
    },
    {
     "data": {
      "image/png": "[encoded data removed]",
      "text/plain": [
       "<Figure size 1008x648 with 2 Axes>"
      ]
     },
     "metadata": {},
     "output_type": "display_data"
    },
    {
     "data": {
      "text/plain": [
       "count    14579.000000\n",
       "mean        60.684505\n",
       "std         10.565578\n",
       "min          0.000000\n",
       "25%         58.951881\n",
       "50%         62.541132\n",
       "75%         65.825712\n",
       "max         78.255313\n",
       "Name: primary_cleaner.output.concentrate_total, dtype: float64"
      ]
     },
     "metadata": {},
     "output_type": "display_data"
    },
    {
     "data": {
      "image/png": "[encoded data removed]",
      "text/plain": [
       "<Figure size 1008x648 with 2 Axes>"
      ]
     },
     "metadata": {},
     "output_type": "display_data"
    },
    {
     "data": {
      "text/plain": [
       "count    14579.000000\n",
       "mean        68.572035\n",
       "std          8.012399\n",
       "min          0.000000\n",
       "25%         68.014187\n",
       "50%         69.664788\n",
       "75%         71.419521\n",
       "max         80.210644\n",
       "Name: final.output.concentrate_total, dtype: float64"
      ]
     },
     "metadata": {},
     "output_type": "display_data"
    }
   ],
   "source": [
    "for factor in [factor+'_total' for factor in FACTORS_FOR_ANALYSIS]:\n",
    "    \n",
    "    fig, axes = plt.subplots(2, 1, figsize=(14, 9))\n",
    "    \n",
    "    # построим боксплоты\n",
    "    train[factor].plot(kind='box', vert=False, ax=axes[1], rot=90)\n",
    "    \n",
    "    # построим гистограммы\n",
    "    train[factor].plot(kind='hist', ax=axes[0], bins=50)\n",
    "    \n",
    "    axes[0].set_title(f'Распределение фактора: {factor}', fontsize=14)\n",
    "    plt.show()\n",
    "    \n",
    "    display(train[factor].describe())"
   ]
  },
  {
   "cell_type": "code",
   "execution_count": 20,
   "metadata": {},
   "outputs": [
    {
     "name": "stdout",
     "output_type": "stream",
     "text": [
      "Размер датасета до удаления выбросов: (14579, 90)\n",
      "Размер датасета после удаления выбросов: (13988, 90)\n"
     ]
    }
   ],
   "source": [
    "# удалим выбросы\n",
    "\n",
    "print('Размер датасета до удаления выбросов:', train.shape)\n",
    "\n",
    "# старый код\n",
    "# for factor in [factor+'_total' for factor in FACTORS_FOR_ANALYSIS]:\n",
    "#     q1, q3 = train[factor].quantile([0.25, 0.75])\n",
    "#     iqr = q3 - q1\n",
    "    \n",
    "#     min_norm_val = q1 - 1.5 * iqr\n",
    "#     max_norm_val = q3 + 1.5 * iqr\n",
    "    \n",
    "#     train = train[(train[factor]>=min_norm_val)&(train[factor]<=max_norm_val)]\n",
    "\n",
    "# удалим выбросы (где суммарные значения металлов равны 0)\n",
    "train = train[~((train['rougher.input.feed_total']==0)|\n",
    "         (train['rougher.output.concentrate_total']==0)|\n",
    "         (train['primary_cleaner.output.concentrate_total']==0)|\n",
    "         (train['final.output.concentrate_total']==0))]\n",
    "\n",
    "\n",
    "print('Размер датасета после удаления выбросов:', train.shape)"
   ]
  },
  {
   "cell_type": "markdown",
   "metadata": {},
   "source": [
    "## Модель"
   ]
  },
  {
   "cell_type": "markdown",
   "metadata": {},
   "source": [
    "### Функция для вычисления sMAPE"
   ]
  },
  {
   "cell_type": "code",
   "execution_count": 21,
   "metadata": {},
   "outputs": [],
   "source": [
    "def calc_smape(target_actual, target_predictions):\n",
    "    numerator = np.abs(target_actual - target_predictions)\n",
    "    denominator = (np.abs(target_actual) + np.abs(target_predictions)) / 2 \n",
    "\n",
    "    smape_score = np.sum(numerator / denominator) / len(target_actual) * 100\n",
    "    \n",
    "    return smape_score\n",
    "    \n",
    "\n",
    "def calc_final_smape_short(smape_rougher, smape_final):\n",
    "    final_smape_score = 0.25 * smape_rougher + 0.75 * smape_final\n",
    "    return final_smape_score\n",
    "    \n",
    "    \n",
    "def calc_final_smape(target_actual, target_predictions):\n",
    "    # Получаем фактические значения целевых переменных для каждого этапа\n",
    "    target_actual_rougher = target_actual['rougher.output.recovery']\n",
    "    target_actual_final = target_actual['final.output.recovery']\n",
    "    \n",
    "    # Получаем предсказанные значения целевых переменных для каждого этапа\n",
    "    target_predictions_rougher = target_predictions.iloc[:, 0]\n",
    "    target_predictions_final = target_predictions.iloc[:, 1]\n",
    "    \n",
    "    # Вычисляем SMAPE для каждого этапа и умножаем на соответствующий коэффициент\n",
    "    smape_rougher = calc_smape(target_actual_rougher, target_predictions_rougher)\n",
    "    smape_final = calc_smape(target_actual_final, target_predictions_final)\n",
    "    \n",
    "    final_smape_score = 0.25 * smape_rougher + 0.75 * smape_final\n",
    "    \n",
    "    return final_smape_score"
   ]
  },
  {
   "cell_type": "code",
   "execution_count": 22,
   "metadata": {},
   "outputs": [],
   "source": [
    "smape_score = make_scorer(calc_smape)"
   ]
  },
  {
   "cell_type": "markdown",
   "metadata": {},
   "source": [
    "### Построение моделей"
   ]
  },
  {
   "cell_type": "markdown",
   "metadata": {},
   "source": [
    "Оставим в обучающем датасете те же признаки, что и в тестовом, чтобы при валидации не возникало конфликтов"
   ]
  },
  {
   "cell_type": "code",
   "execution_count": 23,
   "metadata": {},
   "outputs": [],
   "source": [
    "train = train[test.columns]\n",
    "\n",
    "# выделим признаки и целевые параметры\n",
    "features_train = train.drop(columns=TARGETS)\n",
    "target_train_r = train[TARGETS[0]]\n",
    "target_train_f = train[TARGETS[1]]\n",
    "\n",
    "features_test = test.drop(columns=TARGETS)\n",
    "target_test_r = test[TARGETS[0]]\n",
    "target_test_f = test[TARGETS[1]]"
   ]
  },
  {
   "cell_type": "markdown",
   "metadata": {},
   "source": [
    "#### Предсказание медианным значением"
   ]
  },
  {
   "cell_type": "code",
   "execution_count": 24,
   "metadata": {},
   "outputs": [],
   "source": [
    "median_data_test = pd.DataFrame(index=test.index)\n",
    "median_data_test['rougher.output.recovery'] = test['rougher.output.recovery'].median()\n",
    "median_data_test['final.output.recovery'] = test['final.output.recovery'].median()\n",
    "\n",
    "median_data_train = pd.DataFrame(index=train.index)\n",
    "median_data_train['rougher.output.recovery'] = train['rougher.output.recovery'].median()\n",
    "median_data_train['final.output.recovery'] = train['final.output.recovery'].median()"
   ]
  },
  {
   "cell_type": "code",
   "execution_count": 25,
   "metadata": {},
   "outputs": [
    {
     "name": "stdout",
     "output_type": "stream",
     "text": [
      "sMAPE на тестовой выборке: 8.258034484382982\n",
      "sMAPE на обучающей выборке: 9.011724876664688\n"
     ]
    }
   ],
   "source": [
    "print('sMAPE на тестовой выборке:', calc_final_smape(test, median_data_test))\n",
    "print('sMAPE на обучающей выборке:', calc_final_smape(train, median_data_train))"
   ]
  },
  {
   "cell_type": "markdown",
   "metadata": {},
   "source": [
    "Предсказывая медианным значением имеем метрику sMAPE 8.25% на тестовой выборке и 9.01% на обучающей выборке. Будем учитывать это в дальнейшем"
   ]
  },
  {
   "cell_type": "markdown",
   "metadata": {},
   "source": [
    "#### Линейная регрессия"
   ]
  },
  {
   "cell_type": "code",
   "execution_count": 26,
   "metadata": {},
   "outputs": [],
   "source": [
    "# масштабируем данные для линейны моделей\n",
    "scaler = StandardScaler()\n",
    "scaler.fit(features_train)\n",
    "features_train = scaler.transform(features_train)\n",
    "\n",
    "# масштабируем и тестовую выборку\n",
    "features_test = scaler.transform(features_test)"
   ]
  },
  {
   "cell_type": "code",
   "execution_count": 27,
   "metadata": {
    "scrolled": true
   },
   "outputs": [],
   "source": [
    "# инициализируем модель\n",
    "lin_model_r = LinearRegression()\n",
    "lin_model_f = LinearRegression()\n",
    "\n",
    "# Обучим модель для этапа флотации\n",
    "smape_lm_r = cross_val_score(lin_model_r, features_train, target_train_r, \n",
    "                             scoring = smape_score,\n",
    "                             cv = 5).mean()\n",
    "\n",
    "# Обучим модель для финального этапа\n",
    "smape_lm_f = cross_val_score(lin_model_f, features_train, target_train_f, \n",
    "                             scoring = smape_score,\n",
    "                             cv = 5).mean()"
   ]
  },
  {
   "cell_type": "code",
   "execution_count": 28,
   "metadata": {
    "scrolled": true
   },
   "outputs": [
    {
     "data": {
      "text/plain": [
       "8.868239156986025"
      ]
     },
     "execution_count": 28,
     "metadata": {},
     "output_type": "execute_result"
    }
   ],
   "source": [
    "calc_final_smape_short(smape_lm_r, smape_lm_f)"
   ]
  },
  {
   "cell_type": "markdown",
   "metadata": {},
   "source": [
    "Модель линейной регрессии без подбора гиперпараметров показало sMAPE равную 8.86%, что немного лучше, чем предсказание медианным значением"
   ]
  },
  {
   "cell_type": "markdown",
   "metadata": {},
   "source": [
    "#### Lasso-регрессия"
   ]
  },
  {
   "cell_type": "code",
   "execution_count": 29,
   "metadata": {},
   "outputs": [],
   "source": [
    "lasso_r = Lasso()\n",
    "lasso_f = Lasso()\n",
    "\n",
    "# Обучим модель для этапа флотации\n",
    "smape_lasso_r = cross_val_score(lasso_r, features_train, target_train_r, \n",
    "                             scoring = smape_score,\n",
    "                             cv = 5).mean()\n",
    "\n",
    "# Обучим модель для финального этапа\n",
    "smape_lasso_f = cross_val_score(lasso_f, features_train, target_train_f, \n",
    "                             scoring = smape_score,\n",
    "                             cv = 5).mean()"
   ]
  },
  {
   "cell_type": "code",
   "execution_count": 30,
   "metadata": {
    "scrolled": true
   },
   "outputs": [
    {
     "data": {
      "text/plain": [
       "8.146959667642625"
      ]
     },
     "execution_count": 30,
     "metadata": {},
     "output_type": "execute_result"
    }
   ],
   "source": [
    "calc_final_smape_short(smape_lasso_r, smape_lasso_f)"
   ]
  },
  {
   "cell_type": "markdown",
   "metadata": {},
   "source": [
    "Lasso-регрессия показала результаты лучше, чем обычная моедль линейной регрессии ввиду своей регуляризации"
   ]
  },
  {
   "cell_type": "markdown",
   "metadata": {},
   "source": [
    "#### Модель случайного леса"
   ]
  },
  {
   "cell_type": "code",
   "execution_count": 31,
   "metadata": {},
   "outputs": [],
   "source": [
    "# regr_r = RandomForestRegressor(max_depth=2, random_state=RANDOM_SEED)\n",
    "# regr_f = RandomForestRegressor(max_depth=2, random_state=RANDOM_SEED)\n",
    "\n",
    "# # Обучим модель для этапа флотации\n",
    "# smape_regr_r = cross_val_score(regr_r, features_train, target_train_r, \n",
    "#                              scoring = smape_score,\n",
    "#                              cv = 5).mean()\n",
    "\n",
    "# # Обучим модель для финального этапа\n",
    "# smape_regr_f = cross_val_score(regr_f, features_train, target_train_f, \n",
    "#                              scoring = smape_score,\n",
    "#                              cv = 5).mean()"
   ]
  },
  {
   "cell_type": "code",
   "execution_count": 32,
   "metadata": {},
   "outputs": [],
   "source": [
    "# calc_final_smape_short(smape_regr_r, smape_regr_f)\n",
    "#8.397928059448029"
   ]
  },
  {
   "cell_type": "markdown",
   "metadata": {},
   "source": [
    "Модель случайного леса показывает метрику sMAPE 8.39, что немного хуже, чем модель Lasso"
   ]
  },
  {
   "cell_type": "markdown",
   "metadata": {},
   "source": [
    "### Проверка на тестовой выборке"
   ]
  },
  {
   "cell_type": "code",
   "execution_count": 33,
   "metadata": {},
   "outputs": [
    {
     "data": {
      "text/plain": [
       "7.4487200348960485"
      ]
     },
     "execution_count": 33,
     "metadata": {},
     "output_type": "execute_result"
    }
   ],
   "source": [
    "lasso_r = Lasso()\n",
    "lasso_f = Lasso()\n",
    "\n",
    "lasso_r.fit(features_train, target_train_r)\n",
    "lasso_f.fit(features_train, target_train_f)\n",
    "\n",
    "pred_test_r = lasso_r.predict(features_test)\n",
    "pred_test_f = lasso_f.predict(features_test)\n",
    "\n",
    "smape_test_r = calc_smape(pred_test_r, target_test_r)\n",
    "smape_test_f = calc_smape(pred_test_f, target_test_f)\n",
    "\n",
    "calc_final_smape_short(smape_test_r, smape_test_f)"
   ]
  },
  {
   "cell_type": "markdown",
   "metadata": {},
   "source": [
    "В данном разделе были построены модели линейных регрессий, модель случайного леса, а также константная модель\n",
    "\n",
    "Лучшей оказалась модель линейной регрессии (Lasso). Она показала на тестовой выборке значение sMAPE 7.45%"
   ]
  },
  {
   "cell_type": "markdown",
   "metadata": {},
   "source": [
    "## Выводы"
   ]
  },
  {
   "cell_type": "markdown",
   "metadata": {},
   "source": [
    "1) В процессе анализа данных было проверено, что показатель эффективности обогащения рассчитан корректно. Также была проведена предобработка данных, на основе которых был проведен анализ и построены модели.\n",
    "\n",
    "2) Были проанализированы концентрации металлов (Au, Ag, Pb), а также суммарные концентрации веществ на всех стадиях очистки. Была выполнена проверка распределения размеров гранул исходного сырья на обучающей и тестовой выборках - выборки оказались похожие.\n",
    "\n",
    "3) В разделе построения моделей были построены модели линейных регрессий, модель случайного леса, а также константная модель. Лучшей на тестовой выборке оказалась модель линейной регрессии Lasso."
   ]
  }
 ],
 "metadata": {
  "ExecuteTimeLog": [
   {
    "duration": 56,
    "start_time": "2023-06-14T09:24:57.779Z"
   },
   {
    "duration": 435,
    "start_time": "2023-06-14T09:25:04.945Z"
   },
   {
    "duration": 2823,
    "start_time": "2023-06-14T09:25:05.382Z"
   },
   {
    "duration": 38,
    "start_time": "2023-06-14T09:25:18.588Z"
   },
   {
    "duration": 6,
    "start_time": "2023-06-14T09:27:14.192Z"
   },
   {
    "duration": 5,
    "start_time": "2023-06-14T09:38:19.018Z"
   },
   {
    "duration": 6,
    "start_time": "2023-06-14T09:38:43.277Z"
   },
   {
    "duration": 3,
    "start_time": "2023-06-14T09:50:54.523Z"
   },
   {
    "duration": 26,
    "start_time": "2023-06-14T09:51:52.692Z"
   },
   {
    "duration": 3,
    "start_time": "2023-06-14T09:52:00.335Z"
   },
   {
    "duration": 6,
    "start_time": "2023-06-14T09:52:00.591Z"
   },
   {
    "duration": 5,
    "start_time": "2023-06-14T09:52:04.838Z"
   },
   {
    "duration": 6,
    "start_time": "2023-06-14T09:52:11.350Z"
   },
   {
    "duration": 5,
    "start_time": "2023-06-14T09:52:18.931Z"
   },
   {
    "duration": 669,
    "start_time": "2023-06-14T09:52:58.173Z"
   },
   {
    "duration": 37,
    "start_time": "2023-06-14T09:53:14.357Z"
   },
   {
    "duration": 5,
    "start_time": "2023-06-14T09:53:24.622Z"
   },
   {
    "duration": 7,
    "start_time": "2023-06-14T09:55:44.285Z"
   },
   {
    "duration": 7,
    "start_time": "2023-06-14T09:55:53.409Z"
   },
   {
    "duration": 7,
    "start_time": "2023-06-14T09:55:56.223Z"
   },
   {
    "duration": 6,
    "start_time": "2023-06-14T09:55:59.212Z"
   },
   {
    "duration": 6,
    "start_time": "2023-06-14T09:56:05.138Z"
   },
   {
    "duration": 6,
    "start_time": "2023-06-14T09:56:09.333Z"
   },
   {
    "duration": 7,
    "start_time": "2023-06-14T09:56:36.301Z"
   },
   {
    "duration": 5,
    "start_time": "2023-06-14T09:56:39.636Z"
   },
   {
    "duration": 4,
    "start_time": "2023-06-14T09:56:42.444Z"
   },
   {
    "duration": 5,
    "start_time": "2023-06-14T09:56:49.515Z"
   },
   {
    "duration": 5,
    "start_time": "2023-06-14T10:01:52.354Z"
   },
   {
    "duration": 3,
    "start_time": "2023-06-14T10:02:00.547Z"
   },
   {
    "duration": 6,
    "start_time": "2023-06-14T10:02:26.226Z"
   },
   {
    "duration": 10,
    "start_time": "2023-06-14T10:02:32.593Z"
   },
   {
    "duration": 167,
    "start_time": "2023-06-14T10:02:40.653Z"
   },
   {
    "duration": 5,
    "start_time": "2023-06-14T10:02:45.631Z"
   },
   {
    "duration": 8,
    "start_time": "2023-06-14T10:03:03.888Z"
   },
   {
    "duration": 5,
    "start_time": "2023-06-14T10:03:48.612Z"
   },
   {
    "duration": 5,
    "start_time": "2023-06-14T10:03:56.789Z"
   },
   {
    "duration": 8,
    "start_time": "2023-06-14T10:04:07.093Z"
   },
   {
    "duration": 5,
    "start_time": "2023-06-14T10:04:11.878Z"
   },
   {
    "duration": 5,
    "start_time": "2023-06-14T10:04:14.552Z"
   },
   {
    "duration": 3,
    "start_time": "2023-06-14T10:06:15.968Z"
   },
   {
    "duration": 3,
    "start_time": "2023-06-14T10:06:31.389Z"
   },
   {
    "duration": 5,
    "start_time": "2023-06-14T10:06:45.616Z"
   },
   {
    "duration": 4,
    "start_time": "2023-06-14T10:06:54.172Z"
   },
   {
    "duration": 8,
    "start_time": "2023-06-14T10:07:00.500Z"
   },
   {
    "duration": 7,
    "start_time": "2023-06-14T10:07:20.800Z"
   },
   {
    "duration": 9,
    "start_time": "2023-06-14T10:07:30.425Z"
   },
   {
    "duration": 5,
    "start_time": "2023-06-14T10:07:41.780Z"
   },
   {
    "duration": 5,
    "start_time": "2023-06-14T10:08:26.738Z"
   },
   {
    "duration": 234,
    "start_time": "2023-06-14T10:08:37.099Z"
   },
   {
    "duration": 587,
    "start_time": "2023-06-14T10:08:42.773Z"
   },
   {
    "duration": 81,
    "start_time": "2023-06-14T10:08:48.082Z"
   },
   {
    "duration": 5,
    "start_time": "2023-06-14T10:08:52.489Z"
   },
   {
    "duration": 4,
    "start_time": "2023-06-14T10:08:55.757Z"
   },
   {
    "duration": 3,
    "start_time": "2023-06-14T11:09:05.037Z"
   },
   {
    "duration": 34,
    "start_time": "2023-06-14T11:10:50.328Z"
   },
   {
    "duration": 4,
    "start_time": "2023-06-14T11:10:55.816Z"
   },
   {
    "duration": 5,
    "start_time": "2023-06-14T11:10:59.821Z"
   },
   {
    "duration": 16,
    "start_time": "2023-06-14T11:11:08.408Z"
   },
   {
    "duration": 34,
    "start_time": "2023-06-14T11:11:18.856Z"
   },
   {
    "duration": 23,
    "start_time": "2023-06-14T11:11:23.093Z"
   },
   {
    "duration": 24,
    "start_time": "2023-06-14T11:11:29.776Z"
   },
   {
    "duration": 2602,
    "start_time": "2023-06-14T11:13:01.083Z"
   },
   {
    "duration": 13,
    "start_time": "2023-06-14T11:13:07.408Z"
   },
   {
    "duration": 11,
    "start_time": "2023-06-14T11:13:12.315Z"
   },
   {
    "duration": 67,
    "start_time": "2023-06-14T11:26:44.376Z"
   },
   {
    "duration": 1949,
    "start_time": "2023-06-14T11:27:30.417Z"
   },
   {
    "duration": 3,
    "start_time": "2023-06-14T11:27:32.799Z"
   },
   {
    "duration": 8,
    "start_time": "2023-06-14T11:27:37.795Z"
   },
   {
    "duration": 4,
    "start_time": "2023-06-14T11:27:39.720Z"
   },
   {
    "duration": 18,
    "start_time": "2023-06-14T11:27:42.347Z"
   },
   {
    "duration": 10,
    "start_time": "2023-06-14T11:27:42.969Z"
   },
   {
    "duration": 41,
    "start_time": "2023-06-14T12:01:31.029Z"
   },
   {
    "duration": 11,
    "start_time": "2023-06-14T12:02:49.154Z"
   },
   {
    "duration": 24,
    "start_time": "2023-06-14T12:02:58.131Z"
   },
   {
    "duration": 8,
    "start_time": "2023-06-14T12:03:06.760Z"
   },
   {
    "duration": 11,
    "start_time": "2023-06-14T12:03:08.997Z"
   },
   {
    "duration": 7,
    "start_time": "2023-06-14T12:03:15.286Z"
   },
   {
    "duration": 7,
    "start_time": "2023-06-14T12:03:32.697Z"
   },
   {
    "duration": 7,
    "start_time": "2023-06-14T12:03:54.476Z"
   },
   {
    "duration": 32,
    "start_time": "2023-06-14T12:04:15.230Z"
   },
   {
    "duration": 5,
    "start_time": "2023-06-14T12:05:12.707Z"
   },
   {
    "duration": 4,
    "start_time": "2023-06-14T12:05:32.802Z"
   },
   {
    "duration": 6,
    "start_time": "2023-06-14T12:05:50.907Z"
   },
   {
    "duration": 5,
    "start_time": "2023-06-14T12:05:53.713Z"
   },
   {
    "duration": 12,
    "start_time": "2023-06-14T12:06:26.142Z"
   },
   {
    "duration": 7,
    "start_time": "2023-06-14T12:06:32.281Z"
   },
   {
    "duration": 8,
    "start_time": "2023-06-14T12:06:44.333Z"
   },
   {
    "duration": 8,
    "start_time": "2023-06-14T12:06:49.303Z"
   },
   {
    "duration": 81,
    "start_time": "2023-06-14T12:06:55.418Z"
   },
   {
    "duration": 76,
    "start_time": "2023-06-14T12:06:58.193Z"
   },
   {
    "duration": 91,
    "start_time": "2023-06-14T12:07:01.446Z"
   },
   {
    "duration": 86,
    "start_time": "2023-06-14T12:07:04.214Z"
   },
   {
    "duration": 11,
    "start_time": "2023-06-14T12:07:07.125Z"
   },
   {
    "duration": 78,
    "start_time": "2023-06-14T12:07:14.180Z"
   },
   {
    "duration": 9,
    "start_time": "2023-06-14T12:07:33.626Z"
   },
   {
    "duration": 9,
    "start_time": "2023-06-14T12:07:56.996Z"
   },
   {
    "duration": 10,
    "start_time": "2023-06-14T12:08:10.155Z"
   },
   {
    "duration": 11,
    "start_time": "2023-06-14T12:08:15.080Z"
   },
   {
    "duration": 11,
    "start_time": "2023-06-14T12:08:27.784Z"
   },
   {
    "duration": 10,
    "start_time": "2023-06-14T12:08:32.185Z"
   },
   {
    "duration": 12,
    "start_time": "2023-06-14T12:08:36.385Z"
   },
   {
    "duration": 9,
    "start_time": "2023-06-14T12:08:55.612Z"
   },
   {
    "duration": 7,
    "start_time": "2023-06-14T12:09:02.909Z"
   },
   {
    "duration": 7,
    "start_time": "2023-06-14T12:09:05.581Z"
   },
   {
    "duration": 28,
    "start_time": "2023-06-14T12:18:51.941Z"
   },
   {
    "duration": 1846,
    "start_time": "2023-06-14T12:19:30.729Z"
   },
   {
    "duration": 12,
    "start_time": "2023-06-14T12:19:39.084Z"
   },
   {
    "duration": 38,
    "start_time": "2023-06-14T12:19:45.682Z"
   },
   {
    "duration": 14,
    "start_time": "2023-06-14T12:19:56.879Z"
   },
   {
    "duration": 1023,
    "start_time": "2023-06-14T12:21:47.987Z"
   },
   {
    "duration": 1767,
    "start_time": "2023-06-14T12:21:49.012Z"
   },
   {
    "duration": 3,
    "start_time": "2023-06-14T12:21:50.781Z"
   },
   {
    "duration": 81,
    "start_time": "2023-06-14T12:21:50.787Z"
   },
   {
    "duration": 51,
    "start_time": "2023-06-14T12:21:50.869Z"
   },
   {
    "duration": 58,
    "start_time": "2023-06-14T12:21:50.922Z"
   },
   {
    "duration": 65,
    "start_time": "2023-06-14T12:21:50.983Z"
   },
   {
    "duration": 21,
    "start_time": "2023-06-14T12:21:51.050Z"
   },
   {
    "duration": 45,
    "start_time": "2023-06-14T12:21:51.073Z"
   },
   {
    "duration": 3,
    "start_time": "2023-06-14T12:21:51.122Z"
   },
   {
    "duration": 13,
    "start_time": "2023-06-14T12:22:00.459Z"
   },
   {
    "duration": 4,
    "start_time": "2023-06-14T12:33:02.241Z"
   },
   {
    "duration": 5,
    "start_time": "2023-06-14T12:34:26.182Z"
   },
   {
    "duration": 14,
    "start_time": "2023-06-14T12:34:36.412Z"
   },
   {
    "duration": 6,
    "start_time": "2023-06-14T12:34:51.375Z"
   },
   {
    "duration": 1133,
    "start_time": "2023-06-14T12:35:09.445Z"
   },
   {
    "duration": 4,
    "start_time": "2023-06-14T12:35:28.928Z"
   },
   {
    "duration": 733,
    "start_time": "2023-06-14T12:35:32.932Z"
   },
   {
    "duration": 4478,
    "start_time": "2023-06-14T12:36:10.504Z"
   },
   {
    "duration": 1942,
    "start_time": "2023-06-14T12:38:09.016Z"
   },
   {
    "duration": 3765,
    "start_time": "2023-06-14T12:38:15.956Z"
   },
   {
    "duration": 1643,
    "start_time": "2023-06-14T12:38:36.595Z"
   },
   {
    "duration": 2170,
    "start_time": "2023-06-14T12:38:48.313Z"
   },
   {
    "duration": 7431,
    "start_time": "2023-06-14T12:38:54.951Z"
   },
   {
    "duration": 4311,
    "start_time": "2023-06-14T12:39:06.452Z"
   },
   {
    "duration": 3932,
    "start_time": "2023-06-14T12:39:54.391Z"
   },
   {
    "duration": 3785,
    "start_time": "2023-06-14T12:40:07.938Z"
   },
   {
    "duration": 4168,
    "start_time": "2023-06-14T12:41:00.799Z"
   },
   {
    "duration": 3873,
    "start_time": "2023-06-14T12:42:08.918Z"
   },
   {
    "duration": 3795,
    "start_time": "2023-06-14T12:42:34.458Z"
   },
   {
    "duration": 3850,
    "start_time": "2023-06-14T12:43:48.823Z"
   },
   {
    "duration": 4016,
    "start_time": "2023-06-14T12:43:55.690Z"
   },
   {
    "duration": 4067,
    "start_time": "2023-06-14T12:45:17.599Z"
   },
   {
    "duration": 3975,
    "start_time": "2023-06-14T13:35:00.175Z"
   },
   {
    "duration": 5,
    "start_time": "2023-06-14T13:35:06.627Z"
   },
   {
    "duration": 7,
    "start_time": "2023-06-14T13:35:21.402Z"
   },
   {
    "duration": 6,
    "start_time": "2023-06-14T13:35:55.390Z"
   },
   {
    "duration": 3937,
    "start_time": "2023-06-14T13:36:16.388Z"
   },
   {
    "duration": 3916,
    "start_time": "2023-06-14T13:36:38.792Z"
   },
   {
    "duration": 3897,
    "start_time": "2023-06-14T13:36:44.791Z"
   },
   {
    "duration": 6,
    "start_time": "2023-06-14T13:36:49.879Z"
   },
   {
    "duration": 11,
    "start_time": "2023-06-14T13:36:56.807Z"
   },
   {
    "duration": 115,
    "start_time": "2023-06-14T13:38:38.653Z"
   },
   {
    "duration": 13,
    "start_time": "2023-06-14T13:38:45.299Z"
   },
   {
    "duration": 91,
    "start_time": "2023-06-14T13:39:24.682Z"
   },
   {
    "duration": 3886,
    "start_time": "2023-06-14T13:39:32.998Z"
   },
   {
    "duration": 9,
    "start_time": "2023-06-14T13:39:37.573Z"
   },
   {
    "duration": 11,
    "start_time": "2023-06-14T13:39:49.624Z"
   },
   {
    "duration": 10,
    "start_time": "2023-06-14T13:40:09.595Z"
   },
   {
    "duration": 29,
    "start_time": "2023-06-14T13:47:37.748Z"
   },
   {
    "duration": 5,
    "start_time": "2023-06-14T13:48:12.717Z"
   },
   {
    "duration": 3,
    "start_time": "2023-06-14T13:49:41.656Z"
   },
   {
    "duration": 6,
    "start_time": "2023-06-14T13:49:52.583Z"
   },
   {
    "duration": 138,
    "start_time": "2023-06-14T13:50:10.084Z"
   },
   {
    "duration": 126,
    "start_time": "2023-06-14T13:50:15.622Z"
   },
   {
    "duration": 329,
    "start_time": "2023-06-14T13:50:22.140Z"
   },
   {
    "duration": 84,
    "start_time": "2023-06-14T13:51:12.857Z"
   },
   {
    "duration": 396,
    "start_time": "2023-06-14T13:51:15.291Z"
   },
   {
    "duration": 512,
    "start_time": "2023-06-14T13:51:32.160Z"
   },
   {
    "duration": 639,
    "start_time": "2023-06-14T13:52:11.283Z"
   },
   {
    "duration": 524,
    "start_time": "2023-06-14T13:52:25.252Z"
   },
   {
    "duration": 504,
    "start_time": "2023-06-14T13:52:29.060Z"
   },
   {
    "duration": 651,
    "start_time": "2023-06-14T13:52:35.373Z"
   },
   {
    "duration": 5,
    "start_time": "2023-06-14T13:52:48.208Z"
   },
   {
    "duration": 14,
    "start_time": "2023-06-14T13:52:53.966Z"
   },
   {
    "duration": 7,
    "start_time": "2023-06-14T13:53:11.317Z"
   },
   {
    "duration": 6,
    "start_time": "2023-06-14T13:53:16.384Z"
   },
   {
    "duration": 6,
    "start_time": "2023-06-14T13:53:20.079Z"
   },
   {
    "duration": 6,
    "start_time": "2023-06-14T13:53:24.490Z"
   },
   {
    "duration": 637,
    "start_time": "2023-06-14T13:53:49.252Z"
   },
   {
    "duration": 595,
    "start_time": "2023-06-14T13:54:00.442Z"
   },
   {
    "duration": 645,
    "start_time": "2023-06-14T13:54:29.978Z"
   },
   {
    "duration": 557,
    "start_time": "2023-06-14T14:07:18.991Z"
   },
   {
    "duration": 582,
    "start_time": "2023-06-14T14:07:52.492Z"
   },
   {
    "duration": 454,
    "start_time": "2023-06-14T14:07:56.559Z"
   },
   {
    "duration": 361,
    "start_time": "2023-06-14T14:08:06.993Z"
   },
   {
    "duration": 365,
    "start_time": "2023-06-14T14:08:16.059Z"
   },
   {
    "duration": 4,
    "start_time": "2023-06-14T14:10:31.260Z"
   },
   {
    "duration": 5,
    "start_time": "2023-06-14T14:10:49.423Z"
   },
   {
    "duration": 10,
    "start_time": "2023-06-14T14:10:55.821Z"
   },
   {
    "duration": 10,
    "start_time": "2023-06-14T14:11:07.714Z"
   },
   {
    "duration": 7,
    "start_time": "2023-06-14T14:11:54.730Z"
   },
   {
    "duration": 10,
    "start_time": "2023-06-14T14:12:08.588Z"
   },
   {
    "duration": 3,
    "start_time": "2023-06-14T14:12:21.300Z"
   },
   {
    "duration": 8,
    "start_time": "2023-06-14T14:13:07.533Z"
   },
   {
    "duration": 4,
    "start_time": "2023-06-14T14:13:13.584Z"
   },
   {
    "duration": 9,
    "start_time": "2023-06-14T14:14:35.116Z"
   },
   {
    "duration": 8,
    "start_time": "2023-06-14T14:14:42.884Z"
   },
   {
    "duration": 7,
    "start_time": "2023-06-14T14:14:57.338Z"
   },
   {
    "duration": 8,
    "start_time": "2023-06-14T14:15:00.520Z"
   },
   {
    "duration": 5,
    "start_time": "2023-06-14T14:15:49.840Z"
   },
   {
    "duration": 4,
    "start_time": "2023-06-14T14:16:43.304Z"
   },
   {
    "duration": 5,
    "start_time": "2023-06-14T14:16:48.132Z"
   },
   {
    "duration": 20,
    "start_time": "2023-06-14T14:16:58.227Z"
   },
   {
    "duration": 8,
    "start_time": "2023-06-14T14:17:13.957Z"
   },
   {
    "duration": 18,
    "start_time": "2023-06-14T14:17:19.138Z"
   },
   {
    "duration": 740,
    "start_time": "2023-06-14T14:25:57.702Z"
   },
   {
    "duration": 488,
    "start_time": "2023-06-14T14:27:06.540Z"
   },
   {
    "duration": 457,
    "start_time": "2023-06-14T14:27:20.029Z"
   },
   {
    "duration": 463,
    "start_time": "2023-06-14T14:27:24.475Z"
   },
   {
    "duration": 563,
    "start_time": "2023-06-14T14:27:27.827Z"
   },
   {
    "duration": 446,
    "start_time": "2023-06-14T14:27:32.626Z"
   },
   {
    "duration": 443,
    "start_time": "2023-06-14T14:27:36.092Z"
   },
   {
    "duration": 98,
    "start_time": "2023-06-14T14:45:39.590Z"
   },
   {
    "duration": 41,
    "start_time": "2023-06-14T14:45:55.894Z"
   },
   {
    "duration": 40,
    "start_time": "2023-06-14T14:46:00.213Z"
   },
   {
    "duration": 16,
    "start_time": "2023-06-14T14:46:26.828Z"
   },
   {
    "duration": 8,
    "start_time": "2023-06-14T14:46:39.539Z"
   },
   {
    "duration": 8,
    "start_time": "2023-06-14T14:46:44.384Z"
   },
   {
    "duration": 10,
    "start_time": "2023-06-14T14:46:47.196Z"
   },
   {
    "duration": 11,
    "start_time": "2023-06-14T14:46:51.692Z"
   },
   {
    "duration": 44,
    "start_time": "2023-06-14T14:46:55.496Z"
   },
   {
    "duration": 31,
    "start_time": "2023-06-14T14:47:26.532Z"
   },
   {
    "duration": 35,
    "start_time": "2023-06-14T14:47:26.927Z"
   },
   {
    "duration": 4,
    "start_time": "2023-06-14T14:47:37.492Z"
   },
   {
    "duration": 2456,
    "start_time": "2023-06-14T14:47:37.599Z"
   },
   {
    "duration": 4,
    "start_time": "2023-06-14T14:47:40.058Z"
   },
   {
    "duration": 37,
    "start_time": "2023-06-14T14:47:40.064Z"
   },
   {
    "duration": 11,
    "start_time": "2023-06-14T14:47:40.105Z"
   },
   {
    "duration": 35,
    "start_time": "2023-06-14T14:47:40.119Z"
   },
   {
    "duration": 26,
    "start_time": "2023-06-14T14:47:40.157Z"
   },
   {
    "duration": 14,
    "start_time": "2023-06-14T14:47:40.186Z"
   },
   {
    "duration": 4,
    "start_time": "2023-06-14T14:47:40.202Z"
   },
   {
    "duration": 4129,
    "start_time": "2023-06-14T14:47:40.208Z"
   },
   {
    "duration": 10,
    "start_time": "2023-06-14T14:47:44.340Z"
   },
   {
    "duration": 493,
    "start_time": "2023-06-14T14:47:44.352Z"
   },
   {
    "duration": 11,
    "start_time": "2023-06-14T14:47:44.847Z"
   },
   {
    "duration": 9,
    "start_time": "2023-06-14T14:47:44.873Z"
   },
   {
    "duration": 9,
    "start_time": "2023-06-14T14:47:44.884Z"
   },
   {
    "duration": 29,
    "start_time": "2023-06-14T14:47:44.895Z"
   },
   {
    "duration": 57,
    "start_time": "2023-06-14T14:47:44.926Z"
   },
   {
    "duration": 15,
    "start_time": "2023-06-14T14:48:41.498Z"
   },
   {
    "duration": 1446,
    "start_time": "2023-06-14T14:48:47.782Z"
   },
   {
    "duration": 1689,
    "start_time": "2023-06-14T14:48:49.231Z"
   },
   {
    "duration": 3,
    "start_time": "2023-06-14T14:48:50.922Z"
   },
   {
    "duration": 25,
    "start_time": "2023-06-14T14:48:50.927Z"
   },
   {
    "duration": 18,
    "start_time": "2023-06-14T14:48:50.955Z"
   },
   {
    "duration": 18,
    "start_time": "2023-06-14T14:48:50.975Z"
   },
   {
    "duration": 21,
    "start_time": "2023-06-14T14:48:50.994Z"
   },
   {
    "duration": 23,
    "start_time": "2023-06-14T14:48:51.017Z"
   },
   {
    "duration": 4,
    "start_time": "2023-06-14T14:48:51.041Z"
   },
   {
    "duration": 4170,
    "start_time": "2023-06-14T14:48:51.047Z"
   },
   {
    "duration": 17,
    "start_time": "2023-06-14T14:48:55.220Z"
   },
   {
    "duration": 494,
    "start_time": "2023-06-14T14:48:55.239Z"
   },
   {
    "duration": 41,
    "start_time": "2023-06-14T14:48:55.735Z"
   },
   {
    "duration": 35,
    "start_time": "2023-06-14T14:48:55.778Z"
   },
   {
    "duration": 24,
    "start_time": "2023-06-14T14:49:36.073Z"
   },
   {
    "duration": 405,
    "start_time": "2023-06-14T14:49:42.887Z"
   },
   {
    "duration": 14,
    "start_time": "2023-06-14T14:49:57.887Z"
   },
   {
    "duration": 30,
    "start_time": "2023-06-14T15:02:48.496Z"
   },
   {
    "duration": 14,
    "start_time": "2023-06-14T15:03:19.226Z"
   },
   {
    "duration": 2155,
    "start_time": "2023-06-14T15:04:29.412Z"
   },
   {
    "duration": 1119,
    "start_time": "2023-06-14T15:04:36.009Z"
   },
   {
    "duration": 62,
    "start_time": "2023-06-14T15:05:35.729Z"
   },
   {
    "duration": 1572,
    "start_time": "2023-06-14T15:05:39.583Z"
   },
   {
    "duration": 2398,
    "start_time": "2023-06-14T15:05:41.157Z"
   },
   {
    "duration": 2,
    "start_time": "2023-06-14T15:05:43.559Z"
   },
   {
    "duration": 19,
    "start_time": "2023-06-14T15:05:43.572Z"
   },
   {
    "duration": 4,
    "start_time": "2023-06-14T15:05:43.593Z"
   },
   {
    "duration": 15,
    "start_time": "2023-06-14T15:05:43.599Z"
   },
   {
    "duration": 13,
    "start_time": "2023-06-14T15:05:43.616Z"
   },
   {
    "duration": 9,
    "start_time": "2023-06-14T15:05:43.630Z"
   },
   {
    "duration": 3,
    "start_time": "2023-06-14T15:05:43.640Z"
   },
   {
    "duration": 4324,
    "start_time": "2023-06-14T15:05:43.675Z"
   },
   {
    "duration": 12,
    "start_time": "2023-06-14T15:05:48.001Z"
   },
   {
    "duration": 1051,
    "start_time": "2023-06-14T15:05:48.015Z"
   },
   {
    "duration": 33,
    "start_time": "2023-06-14T15:05:49.072Z"
   },
   {
    "duration": 19,
    "start_time": "2023-06-14T15:05:49.107Z"
   },
   {
    "duration": 158,
    "start_time": "2023-06-14T15:07:48.889Z"
   },
   {
    "duration": 23,
    "start_time": "2023-06-14T15:07:55.474Z"
   },
   {
    "duration": 11,
    "start_time": "2023-06-14T15:07:59.652Z"
   },
   {
    "duration": 12,
    "start_time": "2023-06-14T15:08:23.448Z"
   },
   {
    "duration": 16,
    "start_time": "2023-06-14T15:08:25.327Z"
   },
   {
    "duration": 18,
    "start_time": "2023-06-14T15:10:11.408Z"
   },
   {
    "duration": 7,
    "start_time": "2023-06-14T15:10:22.954Z"
   },
   {
    "duration": 11,
    "start_time": "2023-06-14T15:10:26.837Z"
   },
   {
    "duration": 13,
    "start_time": "2023-06-14T15:10:30.313Z"
   },
   {
    "duration": 9,
    "start_time": "2023-06-14T15:11:18.978Z"
   },
   {
    "duration": 13,
    "start_time": "2023-06-14T15:11:24.117Z"
   },
   {
    "duration": 16,
    "start_time": "2023-06-14T15:11:29.487Z"
   },
   {
    "duration": 735,
    "start_time": "2023-06-14T15:11:35.807Z"
   },
   {
    "duration": 746,
    "start_time": "2023-06-14T15:11:41.378Z"
   },
   {
    "duration": 951,
    "start_time": "2023-06-14T15:11:47.958Z"
   },
   {
    "duration": 413,
    "start_time": "2023-06-14T15:12:11.333Z"
   },
   {
    "duration": 12,
    "start_time": "2023-06-14T15:12:16.929Z"
   },
   {
    "duration": 15,
    "start_time": "2023-06-14T15:12:19.586Z"
   },
   {
    "duration": 12,
    "start_time": "2023-06-14T15:12:33.353Z"
   },
   {
    "duration": 14,
    "start_time": "2023-06-14T15:12:39.018Z"
   },
   {
    "duration": 14,
    "start_time": "2023-06-14T15:13:22.938Z"
   },
   {
    "duration": 362,
    "start_time": "2023-06-14T15:13:29.526Z"
   },
   {
    "duration": 330,
    "start_time": "2023-06-14T15:13:33.736Z"
   },
   {
    "duration": 14,
    "start_time": "2023-06-14T15:14:22.943Z"
   },
   {
    "duration": 945,
    "start_time": "2023-06-14T15:14:27.822Z"
   },
   {
    "duration": 8,
    "start_time": "2023-06-14T15:15:14.034Z"
   },
   {
    "duration": 6,
    "start_time": "2023-06-14T15:15:21.160Z"
   },
   {
    "duration": 9,
    "start_time": "2023-06-14T15:15:24.969Z"
   },
   {
    "duration": 12,
    "start_time": "2023-06-14T15:15:31.331Z"
   },
   {
    "duration": 7,
    "start_time": "2023-06-14T15:15:37.251Z"
   },
   {
    "duration": 8,
    "start_time": "2023-06-14T15:15:42.325Z"
   },
   {
    "duration": 10,
    "start_time": "2023-06-14T15:15:46.213Z"
   },
   {
    "duration": 16,
    "start_time": "2023-06-14T15:15:55.095Z"
   },
   {
    "duration": 10,
    "start_time": "2023-06-14T15:16:12.973Z"
   },
   {
    "duration": 14,
    "start_time": "2023-06-14T15:16:41.374Z"
   },
   {
    "duration": 19,
    "start_time": "2023-06-14T15:16:53.235Z"
   },
   {
    "duration": 533,
    "start_time": "2023-06-14T15:16:58.532Z"
   },
   {
    "duration": 1651,
    "start_time": "2023-06-14T15:17:56.630Z"
   },
   {
    "duration": 2461,
    "start_time": "2023-06-14T15:17:58.284Z"
   },
   {
    "duration": 3,
    "start_time": "2023-06-14T15:18:00.748Z"
   },
   {
    "duration": 64,
    "start_time": "2023-06-14T15:18:00.753Z"
   },
   {
    "duration": 91,
    "start_time": "2023-06-14T15:18:00.820Z"
   },
   {
    "duration": 115,
    "start_time": "2023-06-14T15:18:00.914Z"
   },
   {
    "duration": 69,
    "start_time": "2023-06-14T15:18:01.032Z"
   },
   {
    "duration": 119,
    "start_time": "2023-06-14T15:18:01.103Z"
   },
   {
    "duration": 133,
    "start_time": "2023-06-14T15:18:01.225Z"
   },
   {
    "duration": 4652,
    "start_time": "2023-06-14T15:18:01.361Z"
   },
   {
    "duration": 19,
    "start_time": "2023-06-14T15:18:06.015Z"
   },
   {
    "duration": 1068,
    "start_time": "2023-06-14T15:18:06.037Z"
   },
   {
    "duration": 38,
    "start_time": "2023-06-14T15:18:07.107Z"
   },
   {
    "duration": 40,
    "start_time": "2023-06-14T15:18:07.148Z"
   },
   {
    "duration": 850,
    "start_time": "2023-06-14T15:18:07.191Z"
   },
   {
    "duration": 429,
    "start_time": "2023-06-14T15:19:11.478Z"
   },
   {
    "duration": 441,
    "start_time": "2023-06-14T15:19:22.344Z"
   },
   {
    "duration": 531,
    "start_time": "2023-06-14T15:19:36.701Z"
   },
   {
    "duration": 508,
    "start_time": "2023-06-14T15:19:44.153Z"
   },
   {
    "duration": 487,
    "start_time": "2023-06-14T15:20:22.645Z"
   },
   {
    "duration": 511,
    "start_time": "2023-06-14T15:20:27.880Z"
   },
   {
    "duration": 442,
    "start_time": "2023-06-14T15:20:35.333Z"
   },
   {
    "duration": 457,
    "start_time": "2023-06-14T15:20:43.088Z"
   },
   {
    "duration": 458,
    "start_time": "2023-06-14T15:21:09.186Z"
   },
   {
    "duration": 441,
    "start_time": "2023-06-14T15:21:13.490Z"
   },
   {
    "duration": 598,
    "start_time": "2023-06-14T15:21:28.694Z"
   },
   {
    "duration": 432,
    "start_time": "2023-06-14T15:21:52.786Z"
   },
   {
    "duration": 542,
    "start_time": "2023-06-14T15:22:24.389Z"
   },
   {
    "duration": 435,
    "start_time": "2023-06-14T15:22:28.685Z"
   },
   {
    "duration": 857,
    "start_time": "2023-06-14T15:22:30.992Z"
   },
   {
    "duration": 866,
    "start_time": "2023-06-14T15:22:33.499Z"
   },
   {
    "duration": 464,
    "start_time": "2023-06-14T15:22:39.196Z"
   },
   {
    "duration": 751,
    "start_time": "2023-06-14T15:22:44.808Z"
   },
   {
    "duration": 429,
    "start_time": "2023-06-14T15:22:49.909Z"
   },
   {
    "duration": 5,
    "start_time": "2023-06-14T15:35:44.276Z"
   },
   {
    "duration": 43,
    "start_time": "2023-06-15T20:40:07.733Z"
   },
   {
    "duration": 1635,
    "start_time": "2023-06-15T20:40:11.190Z"
   },
   {
    "duration": 0,
    "start_time": "2023-06-15T20:40:12.827Z"
   },
   {
    "duration": 3,
    "start_time": "2023-06-15T20:40:12.846Z"
   },
   {
    "duration": 9,
    "start_time": "2023-06-15T20:40:31.040Z"
   },
   {
    "duration": 7,
    "start_time": "2023-06-15T20:40:56.325Z"
   },
   {
    "duration": 2223,
    "start_time": "2023-06-15T20:40:58.028Z"
   },
   {
    "duration": 3,
    "start_time": "2023-06-15T20:41:00.253Z"
   },
   {
    "duration": 232,
    "start_time": "2023-06-15T20:41:09.131Z"
   },
   {
    "duration": 133,
    "start_time": "2023-06-15T20:41:18.626Z"
   },
   {
    "duration": 246,
    "start_time": "2023-06-15T20:41:25.894Z"
   },
   {
    "duration": 4,
    "start_time": "2023-06-15T20:42:08.253Z"
   },
   {
    "duration": 1986,
    "start_time": "2023-06-15T20:42:08.429Z"
   },
   {
    "duration": 7,
    "start_time": "2023-06-15T20:42:10.428Z"
   },
   {
    "duration": 245,
    "start_time": "2023-06-15T20:42:10.437Z"
   },
   {
    "duration": 155,
    "start_time": "2023-06-15T20:42:10.685Z"
   },
   {
    "duration": 246,
    "start_time": "2023-06-15T20:42:10.841Z"
   },
   {
    "duration": 2,
    "start_time": "2023-06-15T20:42:11.089Z"
   },
   {
    "duration": 24,
    "start_time": "2023-06-15T20:42:11.092Z"
   },
   {
    "duration": 8,
    "start_time": "2023-06-15T20:42:11.125Z"
   },
   {
    "duration": 7,
    "start_time": "2023-06-15T20:42:11.140Z"
   },
   {
    "duration": 10,
    "start_time": "2023-06-15T20:42:11.149Z"
   },
   {
    "duration": 10,
    "start_time": "2023-06-15T20:42:11.161Z"
   },
   {
    "duration": 4,
    "start_time": "2023-06-15T20:42:11.173Z"
   },
   {
    "duration": 4039,
    "start_time": "2023-06-15T20:42:11.178Z"
   },
   {
    "duration": 19,
    "start_time": "2023-06-15T20:42:15.220Z"
   },
   {
    "duration": 1121,
    "start_time": "2023-06-15T20:42:15.241Z"
   },
   {
    "duration": 19,
    "start_time": "2023-06-15T20:42:16.364Z"
   },
   {
    "duration": 0,
    "start_time": "2023-06-15T20:42:16.385Z"
   },
   {
    "duration": 8,
    "start_time": "2023-06-15T20:42:55.825Z"
   },
   {
    "duration": 24,
    "start_time": "2023-06-15T20:42:59.844Z"
   },
   {
    "duration": 1290,
    "start_time": "2023-06-15T20:43:10.054Z"
   },
   {
    "duration": 30,
    "start_time": "2023-06-15T20:43:21.855Z"
   },
   {
    "duration": 3,
    "start_time": "2023-06-15T20:47:25.445Z"
   },
   {
    "duration": 5,
    "start_time": "2023-06-15T20:48:21.750Z"
   },
   {
    "duration": 2,
    "start_time": "2023-06-15T20:48:29.948Z"
   },
   {
    "duration": 3,
    "start_time": "2023-06-15T20:48:34.890Z"
   },
   {
    "duration": 86,
    "start_time": "2023-06-15T20:49:27.526Z"
   },
   {
    "duration": 17,
    "start_time": "2023-06-15T20:49:30.598Z"
   },
   {
    "duration": 4,
    "start_time": "2023-06-15T20:49:39.859Z"
   },
   {
    "duration": 132,
    "start_time": "2023-06-15T20:49:52.402Z"
   },
   {
    "duration": 7,
    "start_time": "2023-06-15T20:50:19.449Z"
   },
   {
    "duration": 1353,
    "start_time": "2023-06-15T20:50:42.050Z"
   },
   {
    "duration": 191,
    "start_time": "2023-06-15T20:50:47.394Z"
   },
   {
    "duration": 26,
    "start_time": "2023-06-15T20:50:49.954Z"
   },
   {
    "duration": 18,
    "start_time": "2023-06-15T20:51:02.469Z"
   },
   {
    "duration": 12,
    "start_time": "2023-06-15T20:51:09.602Z"
   },
   {
    "duration": 21,
    "start_time": "2023-06-15T20:51:11.931Z"
   },
   {
    "duration": 20,
    "start_time": "2023-06-15T20:51:21.931Z"
   },
   {
    "duration": 8,
    "start_time": "2023-06-15T20:51:25.956Z"
   },
   {
    "duration": 20,
    "start_time": "2023-06-15T20:51:33.252Z"
   },
   {
    "duration": 25,
    "start_time": "2023-06-15T20:51:40.122Z"
   },
   {
    "duration": 7,
    "start_time": "2023-06-15T20:51:43.454Z"
   },
   {
    "duration": 8,
    "start_time": "2023-06-15T20:51:53.690Z"
   },
   {
    "duration": 50,
    "start_time": "2023-06-15T20:51:58.682Z"
   },
   {
    "duration": 14,
    "start_time": "2023-06-15T20:52:37.029Z"
   },
   {
    "duration": 626,
    "start_time": "2023-06-15T20:52:37.842Z"
   },
   {
    "duration": 272,
    "start_time": "2023-06-15T20:58:12.565Z"
   },
   {
    "duration": 131,
    "start_time": "2023-06-15T20:58:18.643Z"
   },
   {
    "duration": 353,
    "start_time": "2023-06-15T20:58:22.544Z"
   },
   {
    "duration": 13,
    "start_time": "2023-06-15T20:58:26.006Z"
   },
   {
    "duration": 2218,
    "start_time": "2023-06-15T20:58:26.155Z"
   },
   {
    "duration": 3,
    "start_time": "2023-06-15T20:58:28.375Z"
   },
   {
    "duration": 236,
    "start_time": "2023-06-15T20:58:28.379Z"
   },
   {
    "duration": 137,
    "start_time": "2023-06-15T20:58:28.620Z"
   },
   {
    "duration": 261,
    "start_time": "2023-06-15T20:58:28.758Z"
   },
   {
    "duration": 3,
    "start_time": "2023-06-15T20:58:29.020Z"
   },
   {
    "duration": 12,
    "start_time": "2023-06-15T20:58:29.025Z"
   },
   {
    "duration": 17,
    "start_time": "2023-06-15T20:58:29.038Z"
   },
   {
    "duration": 23,
    "start_time": "2023-06-15T20:58:29.057Z"
   },
   {
    "duration": 13,
    "start_time": "2023-06-15T20:58:29.082Z"
   },
   {
    "duration": 13,
    "start_time": "2023-06-15T20:58:29.097Z"
   },
   {
    "duration": 3,
    "start_time": "2023-06-15T20:58:29.112Z"
   },
   {
    "duration": 4223,
    "start_time": "2023-06-15T20:58:29.117Z"
   },
   {
    "duration": 12,
    "start_time": "2023-06-15T20:58:33.341Z"
   },
   {
    "duration": 1151,
    "start_time": "2023-06-15T20:58:33.354Z"
   },
   {
    "duration": 38,
    "start_time": "2023-06-15T20:58:34.508Z"
   },
   {
    "duration": 456,
    "start_time": "2023-06-15T20:58:34.554Z"
   },
   {
    "duration": 8,
    "start_time": "2023-06-15T20:58:35.012Z"
   },
   {
    "duration": 5,
    "start_time": "2023-06-15T21:02:04.205Z"
   },
   {
    "duration": 4,
    "start_time": "2023-06-15T21:02:38.397Z"
   },
   {
    "duration": 1077,
    "start_time": "2023-06-15T21:02:46.694Z"
   },
   {
    "duration": 12,
    "start_time": "2023-06-15T21:02:55.014Z"
   },
   {
    "duration": 11,
    "start_time": "2023-06-15T21:03:12.095Z"
   },
   {
    "duration": 132,
    "start_time": "2023-06-15T21:03:43.985Z"
   },
   {
    "duration": 352,
    "start_time": "2023-06-15T21:03:58.709Z"
   },
   {
    "duration": 223,
    "start_time": "2023-06-15T21:04:17.205Z"
   },
   {
    "duration": 143,
    "start_time": "2023-06-15T21:04:26.205Z"
   },
   {
    "duration": 457,
    "start_time": "2023-06-15T21:05:08.742Z"
   },
   {
    "duration": 710,
    "start_time": "2023-06-15T21:05:23.821Z"
   },
   {
    "duration": 568,
    "start_time": "2023-06-15T21:05:37.650Z"
   },
   {
    "duration": 743,
    "start_time": "2023-06-15T21:06:16.042Z"
   },
   {
    "duration": 1237,
    "start_time": "2023-06-15T21:06:25.748Z"
   },
   {
    "duration": 1397,
    "start_time": "2023-06-15T21:08:48.446Z"
   },
   {
    "duration": 1026,
    "start_time": "2023-06-15T21:10:05.812Z"
   },
   {
    "duration": 1190,
    "start_time": "2023-06-15T21:10:12.635Z"
   },
   {
    "duration": 1035,
    "start_time": "2023-06-15T21:10:26.228Z"
   },
   {
    "duration": 1218,
    "start_time": "2023-06-15T21:11:02.565Z"
   },
   {
    "duration": 342,
    "start_time": "2023-06-15T21:11:16.629Z"
   },
   {
    "duration": 248,
    "start_time": "2023-06-15T21:11:25.847Z"
   },
   {
    "duration": 993,
    "start_time": "2023-06-15T21:11:34.163Z"
   },
   {
    "duration": 1016,
    "start_time": "2023-06-15T21:11:46.493Z"
   },
   {
    "duration": 1200,
    "start_time": "2023-06-15T21:11:59.764Z"
   },
   {
    "duration": 1082,
    "start_time": "2023-06-15T21:12:26.664Z"
   },
   {
    "duration": 447,
    "start_time": "2023-06-15T21:12:37.985Z"
   },
   {
    "duration": 1222,
    "start_time": "2023-06-15T21:12:41.451Z"
   },
   {
    "duration": 1201,
    "start_time": "2023-06-15T21:13:10.738Z"
   },
   {
    "duration": 1168,
    "start_time": "2023-06-15T21:16:23.118Z"
   },
   {
    "duration": 1244,
    "start_time": "2023-06-15T21:16:25.742Z"
   },
   {
    "duration": 1380,
    "start_time": "2023-06-15T21:16:36.346Z"
   },
   {
    "duration": 1374,
    "start_time": "2023-06-15T21:17:08.706Z"
   },
   {
    "duration": 1435,
    "start_time": "2023-06-15T21:19:26.865Z"
   },
   {
    "duration": 1637,
    "start_time": "2023-06-15T21:19:42.109Z"
   },
   {
    "duration": 1558,
    "start_time": "2023-06-15T21:20:14.623Z"
   },
   {
    "duration": 1329,
    "start_time": "2023-06-15T21:22:53.610Z"
   },
   {
    "duration": 1404,
    "start_time": "2023-06-15T21:23:33.186Z"
   },
   {
    "duration": 1454,
    "start_time": "2023-06-15T21:23:53.020Z"
   },
   {
    "duration": 1305,
    "start_time": "2023-06-15T21:24:59.438Z"
   },
   {
    "duration": 1443,
    "start_time": "2023-06-15T21:25:05.948Z"
   },
   {
    "duration": 1440,
    "start_time": "2023-06-15T21:31:12.605Z"
   },
   {
    "duration": 7,
    "start_time": "2023-06-15T21:32:10.369Z"
   },
   {
    "duration": 12,
    "start_time": "2023-06-15T21:32:15.720Z"
   },
   {
    "duration": 10,
    "start_time": "2023-06-15T21:33:03.669Z"
   },
   {
    "duration": 16,
    "start_time": "2023-06-15T21:33:18.029Z"
   },
   {
    "duration": 50,
    "start_time": "2023-06-15T21:33:24.845Z"
   },
   {
    "duration": 9,
    "start_time": "2023-06-15T21:33:57.634Z"
   },
   {
    "duration": 20,
    "start_time": "2023-06-15T21:34:01.503Z"
   },
   {
    "duration": 14,
    "start_time": "2023-06-15T21:34:18.861Z"
   },
   {
    "duration": 23,
    "start_time": "2023-06-15T21:34:49.118Z"
   },
   {
    "duration": 1424,
    "start_time": "2023-06-15T21:34:55.549Z"
   },
   {
    "duration": 4,
    "start_time": "2023-06-15T21:35:58.870Z"
   },
   {
    "duration": 1623,
    "start_time": "2023-06-15T21:35:59.050Z"
   },
   {
    "duration": 4,
    "start_time": "2023-06-15T21:36:00.675Z"
   },
   {
    "duration": 303,
    "start_time": "2023-06-15T21:36:00.681Z"
   },
   {
    "duration": 138,
    "start_time": "2023-06-15T21:36:00.986Z"
   },
   {
    "duration": 253,
    "start_time": "2023-06-15T21:36:01.125Z"
   },
   {
    "duration": 3,
    "start_time": "2023-06-15T21:36:01.380Z"
   },
   {
    "duration": 40,
    "start_time": "2023-06-15T21:36:01.385Z"
   },
   {
    "duration": 40,
    "start_time": "2023-06-15T21:36:01.427Z"
   },
   {
    "duration": 63,
    "start_time": "2023-06-15T21:36:01.469Z"
   },
   {
    "duration": 58,
    "start_time": "2023-06-15T21:36:01.534Z"
   },
   {
    "duration": 42,
    "start_time": "2023-06-15T21:36:01.594Z"
   },
   {
    "duration": 49,
    "start_time": "2023-06-15T21:36:01.638Z"
   },
   {
    "duration": 3730,
    "start_time": "2023-06-15T21:36:01.689Z"
   },
   {
    "duration": 9,
    "start_time": "2023-06-15T21:36:05.421Z"
   },
   {
    "duration": 923,
    "start_time": "2023-06-15T21:36:05.431Z"
   },
   {
    "duration": 23,
    "start_time": "2023-06-15T21:36:06.356Z"
   },
   {
    "duration": 374,
    "start_time": "2023-06-15T21:36:06.381Z"
   },
   {
    "duration": 1370,
    "start_time": "2023-06-15T21:36:06.756Z"
   },
   {
    "duration": 16,
    "start_time": "2023-06-15T21:36:20.826Z"
   },
   {
    "duration": 13,
    "start_time": "2023-06-15T21:37:49.418Z"
   },
   {
    "duration": 16,
    "start_time": "2023-06-15T21:37:50.870Z"
   },
   {
    "duration": 14,
    "start_time": "2023-06-15T21:37:51.426Z"
   },
   {
    "duration": 14,
    "start_time": "2023-06-15T21:37:51.850Z"
   },
   {
    "duration": 14,
    "start_time": "2023-06-15T21:37:52.214Z"
   },
   {
    "duration": 18,
    "start_time": "2023-06-15T21:37:52.522Z"
   },
   {
    "duration": 15,
    "start_time": "2023-06-15T21:37:52.610Z"
   },
   {
    "duration": 14,
    "start_time": "2023-06-15T21:37:52.771Z"
   },
   {
    "duration": 14,
    "start_time": "2023-06-15T21:37:52.856Z"
   },
   {
    "duration": 14,
    "start_time": "2023-06-15T21:37:53.014Z"
   },
   {
    "duration": 14,
    "start_time": "2023-06-15T21:37:53.116Z"
   },
   {
    "duration": 13,
    "start_time": "2023-06-15T21:37:53.226Z"
   },
   {
    "duration": 13,
    "start_time": "2023-06-15T21:37:53.706Z"
   },
   {
    "duration": 13,
    "start_time": "2023-06-15T21:37:54.118Z"
   },
   {
    "duration": 12,
    "start_time": "2023-06-15T21:37:54.422Z"
   },
   {
    "duration": 4,
    "start_time": "2023-06-15T21:37:59.521Z"
   },
   {
    "duration": 1602,
    "start_time": "2023-06-15T21:37:59.698Z"
   },
   {
    "duration": 11,
    "start_time": "2023-06-15T21:38:01.302Z"
   },
   {
    "duration": 259,
    "start_time": "2023-06-15T21:38:01.320Z"
   },
   {
    "duration": 148,
    "start_time": "2023-06-15T21:38:01.581Z"
   },
   {
    "duration": 265,
    "start_time": "2023-06-15T21:38:01.731Z"
   },
   {
    "duration": 14,
    "start_time": "2023-06-15T21:38:01.997Z"
   },
   {
    "duration": 36,
    "start_time": "2023-06-15T21:38:02.018Z"
   },
   {
    "duration": 30,
    "start_time": "2023-06-15T21:38:02.056Z"
   },
   {
    "duration": 40,
    "start_time": "2023-06-15T21:38:02.088Z"
   },
   {
    "duration": 51,
    "start_time": "2023-06-15T21:38:02.130Z"
   },
   {
    "duration": 29,
    "start_time": "2023-06-15T21:38:02.183Z"
   },
   {
    "duration": 15,
    "start_time": "2023-06-15T21:38:02.214Z"
   },
   {
    "duration": 3856,
    "start_time": "2023-06-15T21:38:02.230Z"
   },
   {
    "duration": 9,
    "start_time": "2023-06-15T21:38:06.088Z"
   },
   {
    "duration": 841,
    "start_time": "2023-06-15T21:38:06.098Z"
   },
   {
    "duration": 23,
    "start_time": "2023-06-15T21:38:06.941Z"
   },
   {
    "duration": 392,
    "start_time": "2023-06-15T21:38:06.966Z"
   },
   {
    "duration": 1505,
    "start_time": "2023-06-15T21:38:07.360Z"
   },
   {
    "duration": 22,
    "start_time": "2023-06-15T21:38:29.675Z"
   },
   {
    "duration": 21,
    "start_time": "2023-06-15T21:41:09.102Z"
   },
   {
    "duration": 21,
    "start_time": "2023-06-15T21:41:10.998Z"
   },
   {
    "duration": 20,
    "start_time": "2023-06-15T21:41:11.410Z"
   },
   {
    "duration": 21,
    "start_time": "2023-06-15T21:41:11.748Z"
   },
   {
    "duration": 1228,
    "start_time": "2023-06-15T21:41:27.751Z"
   },
   {
    "duration": 1815,
    "start_time": "2023-06-15T21:41:28.980Z"
   },
   {
    "duration": 2,
    "start_time": "2023-06-15T21:41:30.797Z"
   },
   {
    "duration": 226,
    "start_time": "2023-06-15T21:41:30.801Z"
   },
   {
    "duration": 124,
    "start_time": "2023-06-15T21:41:31.029Z"
   },
   {
    "duration": 224,
    "start_time": "2023-06-15T21:41:31.154Z"
   },
   {
    "duration": 3,
    "start_time": "2023-06-15T21:41:31.379Z"
   },
   {
    "duration": 53,
    "start_time": "2023-06-15T21:41:31.383Z"
   },
   {
    "duration": 63,
    "start_time": "2023-06-15T21:41:31.438Z"
   },
   {
    "duration": 34,
    "start_time": "2023-06-15T21:41:31.503Z"
   },
   {
    "duration": 50,
    "start_time": "2023-06-15T21:41:31.538Z"
   },
   {
    "duration": 26,
    "start_time": "2023-06-15T21:41:31.590Z"
   },
   {
    "duration": 11,
    "start_time": "2023-06-15T21:41:31.618Z"
   },
   {
    "duration": 3458,
    "start_time": "2023-06-15T21:41:31.631Z"
   },
   {
    "duration": 15,
    "start_time": "2023-06-15T21:41:35.091Z"
   },
   {
    "duration": 775,
    "start_time": "2023-06-15T21:41:35.107Z"
   },
   {
    "duration": 38,
    "start_time": "2023-06-15T21:41:35.884Z"
   },
   {
    "duration": 564,
    "start_time": "2023-06-15T21:41:35.924Z"
   },
   {
    "duration": 1249,
    "start_time": "2023-06-15T21:41:36.490Z"
   },
   {
    "duration": 23,
    "start_time": "2023-06-15T21:41:37.740Z"
   },
   {
    "duration": 4,
    "start_time": "2023-06-15T21:41:37.765Z"
   },
   {
    "duration": 23,
    "start_time": "2023-06-15T21:41:48.330Z"
   },
   {
    "duration": 22,
    "start_time": "2023-06-15T21:41:48.762Z"
   },
   {
    "duration": 22,
    "start_time": "2023-06-15T21:41:49.006Z"
   },
   {
    "duration": 22,
    "start_time": "2023-06-15T21:41:49.206Z"
   },
   {
    "duration": 22,
    "start_time": "2023-06-15T21:41:49.369Z"
   },
   {
    "duration": 22,
    "start_time": "2023-06-15T21:41:49.786Z"
   },
   {
    "duration": 24,
    "start_time": "2023-06-15T21:41:57.118Z"
   },
   {
    "duration": 21,
    "start_time": "2023-06-15T21:42:08.106Z"
   },
   {
    "duration": 21,
    "start_time": "2023-06-15T21:42:33.502Z"
   },
   {
    "duration": 20,
    "start_time": "2023-06-15T21:42:47.290Z"
   },
   {
    "duration": 19,
    "start_time": "2023-06-15T21:42:47.698Z"
   },
   {
    "duration": 20,
    "start_time": "2023-06-15T21:42:47.926Z"
   },
   {
    "duration": 19,
    "start_time": "2023-06-15T21:42:48.134Z"
   },
   {
    "duration": 25,
    "start_time": "2023-06-15T21:42:48.314Z"
   },
   {
    "duration": 26,
    "start_time": "2023-06-15T21:42:48.473Z"
   },
   {
    "duration": 27,
    "start_time": "2023-06-15T21:42:48.672Z"
   },
   {
    "duration": 20,
    "start_time": "2023-06-15T21:42:49.052Z"
   },
   {
    "duration": 19,
    "start_time": "2023-06-15T21:42:50.347Z"
   },
   {
    "duration": 22,
    "start_time": "2023-06-15T21:42:50.579Z"
   },
   {
    "duration": 19,
    "start_time": "2023-06-15T21:42:50.669Z"
   },
   {
    "duration": 19,
    "start_time": "2023-06-15T21:42:50.834Z"
   },
   {
    "duration": 18,
    "start_time": "2023-06-15T21:42:50.906Z"
   },
   {
    "duration": 20,
    "start_time": "2023-06-15T21:42:51.069Z"
   },
   {
    "duration": 1324,
    "start_time": "2023-06-15T21:42:54.671Z"
   },
   {
    "duration": 2086,
    "start_time": "2023-06-15T21:42:55.997Z"
   },
   {
    "duration": 4,
    "start_time": "2023-06-15T21:42:58.084Z"
   },
   {
    "duration": 224,
    "start_time": "2023-06-15T21:42:58.089Z"
   },
   {
    "duration": 134,
    "start_time": "2023-06-15T21:42:58.314Z"
   },
   {
    "duration": 244,
    "start_time": "2023-06-15T21:42:58.450Z"
   },
   {
    "duration": 11,
    "start_time": "2023-06-15T21:42:58.696Z"
   },
   {
    "duration": 9,
    "start_time": "2023-06-15T21:42:58.709Z"
   },
   {
    "duration": 5,
    "start_time": "2023-06-15T21:42:58.719Z"
   },
   {
    "duration": 10,
    "start_time": "2023-06-15T21:42:58.727Z"
   },
   {
    "duration": 12,
    "start_time": "2023-06-15T21:42:58.738Z"
   },
   {
    "duration": 8,
    "start_time": "2023-06-15T21:42:58.751Z"
   },
   {
    "duration": 3,
    "start_time": "2023-06-15T21:42:58.760Z"
   },
   {
    "duration": 3497,
    "start_time": "2023-06-15T21:42:58.764Z"
   },
   {
    "duration": 9,
    "start_time": "2023-06-15T21:43:02.263Z"
   },
   {
    "duration": 874,
    "start_time": "2023-06-15T21:43:02.274Z"
   },
   {
    "duration": 30,
    "start_time": "2023-06-15T21:43:03.150Z"
   },
   {
    "duration": 603,
    "start_time": "2023-06-15T21:43:03.182Z"
   },
   {
    "duration": 1285,
    "start_time": "2023-06-15T21:43:03.786Z"
   },
   {
    "duration": 21,
    "start_time": "2023-06-15T21:43:05.072Z"
   },
   {
    "duration": 15,
    "start_time": "2023-06-15T21:43:05.094Z"
   },
   {
    "duration": 1433,
    "start_time": "2023-06-15T21:43:11.834Z"
   },
   {
    "duration": 21,
    "start_time": "2023-06-15T21:43:29.366Z"
   },
   {
    "duration": 19,
    "start_time": "2023-06-15T21:43:31.734Z"
   },
   {
    "duration": 19,
    "start_time": "2023-06-15T21:43:31.947Z"
   },
   {
    "duration": 19,
    "start_time": "2023-06-15T21:43:32.130Z"
   },
   {
    "duration": 21,
    "start_time": "2023-06-15T21:43:32.271Z"
   },
   {
    "duration": 24,
    "start_time": "2023-06-15T21:43:32.522Z"
   },
   {
    "duration": 19,
    "start_time": "2023-06-15T21:43:32.698Z"
   },
   {
    "duration": 19,
    "start_time": "2023-06-15T21:43:32.931Z"
   },
   {
    "duration": 19,
    "start_time": "2023-06-15T21:43:33.018Z"
   },
   {
    "duration": 18,
    "start_time": "2023-06-15T21:43:33.110Z"
   },
   {
    "duration": 19,
    "start_time": "2023-06-15T21:43:33.266Z"
   },
   {
    "duration": 19,
    "start_time": "2023-06-15T21:43:33.343Z"
   },
   {
    "duration": 18,
    "start_time": "2023-06-15T21:43:33.432Z"
   },
   {
    "duration": 21,
    "start_time": "2023-06-15T21:43:33.514Z"
   },
   {
    "duration": 19,
    "start_time": "2023-06-15T21:43:33.694Z"
   },
   {
    "duration": 19,
    "start_time": "2023-06-15T21:43:33.767Z"
   },
   {
    "duration": 18,
    "start_time": "2023-06-15T21:43:33.843Z"
   },
   {
    "duration": 1342,
    "start_time": "2023-06-15T21:43:37.467Z"
   },
   {
    "duration": 1220,
    "start_time": "2023-06-15T21:43:49.368Z"
   },
   {
    "duration": 1726,
    "start_time": "2023-06-15T21:43:50.591Z"
   },
   {
    "duration": 3,
    "start_time": "2023-06-15T21:43:52.318Z"
   },
   {
    "duration": 263,
    "start_time": "2023-06-15T21:43:52.323Z"
   },
   {
    "duration": 124,
    "start_time": "2023-06-15T21:43:52.588Z"
   },
   {
    "duration": 219,
    "start_time": "2023-06-15T21:43:52.714Z"
   },
   {
    "duration": 2,
    "start_time": "2023-06-15T21:43:52.935Z"
   },
   {
    "duration": 19,
    "start_time": "2023-06-15T21:43:52.938Z"
   },
   {
    "duration": 19,
    "start_time": "2023-06-15T21:43:52.959Z"
   },
   {
    "duration": 30,
    "start_time": "2023-06-15T21:43:52.979Z"
   },
   {
    "duration": 21,
    "start_time": "2023-06-15T21:43:53.010Z"
   },
   {
    "duration": 11,
    "start_time": "2023-06-15T21:43:53.033Z"
   },
   {
    "duration": 19,
    "start_time": "2023-06-15T21:43:53.045Z"
   },
   {
    "duration": 3587,
    "start_time": "2023-06-15T21:43:53.066Z"
   },
   {
    "duration": 9,
    "start_time": "2023-06-15T21:43:56.655Z"
   },
   {
    "duration": 843,
    "start_time": "2023-06-15T21:43:56.665Z"
   },
   {
    "duration": 31,
    "start_time": "2023-06-15T21:43:57.510Z"
   },
   {
    "duration": 610,
    "start_time": "2023-06-15T21:43:57.543Z"
   },
   {
    "duration": 1295,
    "start_time": "2023-06-15T21:43:58.155Z"
   },
   {
    "duration": 21,
    "start_time": "2023-06-15T21:43:59.451Z"
   },
   {
    "duration": 4,
    "start_time": "2023-06-15T21:43:59.473Z"
   },
   {
    "duration": 24,
    "start_time": "2023-06-15T21:46:51.564Z"
   },
   {
    "duration": 26,
    "start_time": "2023-06-15T21:46:55.167Z"
   },
   {
    "duration": 5,
    "start_time": "2023-06-15T21:47:02.337Z"
   },
   {
    "duration": 26,
    "start_time": "2023-06-15T21:47:07.528Z"
   },
   {
    "duration": 5,
    "start_time": "2023-06-15T21:47:22.044Z"
   },
   {
    "duration": 5,
    "start_time": "2023-06-15T21:47:50.929Z"
   },
   {
    "duration": 4,
    "start_time": "2023-06-15T21:48:52.841Z"
   },
   {
    "duration": 130,
    "start_time": "2023-06-15T21:50:29.576Z"
   },
   {
    "duration": 5,
    "start_time": "2023-06-15T21:50:32.045Z"
   },
   {
    "duration": 4,
    "start_time": "2023-06-15T21:50:35.109Z"
   },
   {
    "duration": 23,
    "start_time": "2023-06-15T21:51:23.571Z"
   },
   {
    "duration": 5,
    "start_time": "2023-06-15T21:51:45.133Z"
   },
   {
    "duration": 10,
    "start_time": "2023-06-15T21:51:50.549Z"
   },
   {
    "duration": 7,
    "start_time": "2023-06-15T21:52:13.729Z"
   },
   {
    "duration": 23,
    "start_time": "2023-06-15T21:52:14.928Z"
   },
   {
    "duration": 8,
    "start_time": "2023-06-15T21:52:36.701Z"
   },
   {
    "duration": 9,
    "start_time": "2023-06-15T21:53:53.224Z"
   },
   {
    "duration": 9,
    "start_time": "2023-06-15T21:53:59.277Z"
   },
   {
    "duration": 4,
    "start_time": "2023-06-15T21:54:10.924Z"
   },
   {
    "duration": 12,
    "start_time": "2023-06-15T21:54:13.710Z"
   },
   {
    "duration": 103,
    "start_time": "2023-06-15T21:54:51.779Z"
   },
   {
    "duration": 9,
    "start_time": "2023-06-15T21:54:59.277Z"
   },
   {
    "duration": 73,
    "start_time": "2023-06-15T21:55:06.035Z"
   },
   {
    "duration": 742,
    "start_time": "2023-06-15T21:55:17.477Z"
   },
   {
    "duration": 65,
    "start_time": "2023-06-15T21:56:05.321Z"
   },
   {
    "duration": 65,
    "start_time": "2023-06-15T21:56:21.646Z"
   },
   {
    "duration": 1071,
    "start_time": "2023-06-15T21:57:50.636Z"
   },
   {
    "duration": 5,
    "start_time": "2023-06-15T22:00:14.876Z"
   },
   {
    "duration": 3,
    "start_time": "2023-06-15T22:00:15.820Z"
   },
   {
    "duration": 5,
    "start_time": "2023-06-15T22:00:29.126Z"
   },
   {
    "duration": 538,
    "start_time": "2023-06-15T22:09:28.282Z"
   },
   {
    "duration": 72,
    "start_time": "2023-06-15T22:09:46.136Z"
   },
   {
    "duration": 2,
    "start_time": "2023-06-15T22:09:57.855Z"
   },
   {
    "duration": 5,
    "start_time": "2023-06-15T22:10:03.345Z"
   },
   {
    "duration": 1176,
    "start_time": "2023-06-15T22:10:07.631Z"
   },
   {
    "duration": 1088,
    "start_time": "2023-06-15T22:10:09.927Z"
   },
   {
    "duration": 1676,
    "start_time": "2023-06-15T22:10:11.637Z"
   },
   {
    "duration": 9,
    "start_time": "2023-06-15T22:10:28.677Z"
   },
   {
    "duration": 8,
    "start_time": "2023-06-15T22:10:49.199Z"
   },
   {
    "duration": 10,
    "start_time": "2023-06-15T22:11:16.535Z"
   },
   {
    "duration": 975,
    "start_time": "2023-06-15T22:11:35.638Z"
   },
   {
    "duration": 14,
    "start_time": "2023-06-15T22:11:55.445Z"
   },
   {
    "duration": 5,
    "start_time": "2023-06-15T22:12:04.547Z"
   },
   {
    "duration": 66,
    "start_time": "2023-06-15T22:12:09.147Z"
   },
   {
    "duration": 6,
    "start_time": "2023-06-15T22:12:11.336Z"
   },
   {
    "duration": 1875,
    "start_time": "2023-06-15T22:12:21.139Z"
   },
   {
    "duration": 938,
    "start_time": "2023-06-15T22:14:53.377Z"
   },
   {
    "duration": 6,
    "start_time": "2023-06-15T22:15:04.676Z"
   },
   {
    "duration": 9,
    "start_time": "2023-06-15T22:15:06.081Z"
   },
   {
    "duration": 6,
    "start_time": "2023-06-15T22:15:07.351Z"
   },
   {
    "duration": 1863,
    "start_time": "2023-06-15T22:15:08.046Z"
   },
   {
    "duration": 1164,
    "start_time": "2023-06-15T22:20:02.550Z"
   },
   {
    "duration": 1277,
    "start_time": "2023-06-15T22:20:21.345Z"
   },
   {
    "duration": 1179,
    "start_time": "2023-06-15T22:20:30.141Z"
   },
   {
    "duration": 1286,
    "start_time": "2023-06-15T22:21:10.024Z"
   },
   {
    "duration": 1339,
    "start_time": "2023-06-15T22:21:17.275Z"
   },
   {
    "duration": 1277,
    "start_time": "2023-06-15T22:21:23.934Z"
   },
   {
    "duration": 1821,
    "start_time": "2023-06-16T17:25:37.271Z"
   },
   {
    "duration": 2431,
    "start_time": "2023-06-16T17:25:39.094Z"
   },
   {
    "duration": 8,
    "start_time": "2023-06-16T17:25:41.527Z"
   },
   {
    "duration": 278,
    "start_time": "2023-06-16T17:25:41.543Z"
   },
   {
    "duration": 164,
    "start_time": "2023-06-16T17:25:41.823Z"
   },
   {
    "duration": 281,
    "start_time": "2023-06-16T17:25:41.989Z"
   },
   {
    "duration": 4,
    "start_time": "2023-06-16T17:25:42.274Z"
   },
   {
    "duration": 7,
    "start_time": "2023-06-16T17:25:42.280Z"
   },
   {
    "duration": 8,
    "start_time": "2023-06-16T17:25:42.288Z"
   },
   {
    "duration": 14,
    "start_time": "2023-06-16T17:25:42.298Z"
   },
   {
    "duration": 25,
    "start_time": "2023-06-16T17:25:42.313Z"
   },
   {
    "duration": 12,
    "start_time": "2023-06-16T17:25:42.340Z"
   },
   {
    "duration": 39,
    "start_time": "2023-06-16T17:25:42.354Z"
   },
   {
    "duration": 4600,
    "start_time": "2023-06-16T17:25:42.395Z"
   },
   {
    "duration": 10,
    "start_time": "2023-06-16T17:25:46.996Z"
   },
   {
    "duration": 1317,
    "start_time": "2023-06-16T17:25:47.008Z"
   },
   {
    "duration": 54,
    "start_time": "2023-06-16T17:25:48.327Z"
   },
   {
    "duration": 625,
    "start_time": "2023-06-16T17:25:48.384Z"
   },
   {
    "duration": 1772,
    "start_time": "2023-06-16T17:25:49.010Z"
   },
   {
    "duration": 26,
    "start_time": "2023-06-16T17:25:50.788Z"
   },
   {
    "duration": 5,
    "start_time": "2023-06-16T17:25:50.815Z"
   },
   {
    "duration": 66,
    "start_time": "2023-06-16T17:25:50.821Z"
   },
   {
    "duration": 43,
    "start_time": "2023-06-16T17:26:34.671Z"
   },
   {
    "duration": 9,
    "start_time": "2023-06-16T17:26:43.212Z"
   },
   {
    "duration": 4,
    "start_time": "2023-06-16T17:26:53.286Z"
   },
   {
    "duration": 7,
    "start_time": "2023-06-16T17:26:54.838Z"
   },
   {
    "duration": 5,
    "start_time": "2023-06-16T17:26:59.515Z"
   },
   {
    "duration": 4,
    "start_time": "2023-06-16T17:27:06.412Z"
   },
   {
    "duration": 10,
    "start_time": "2023-06-16T17:27:08.852Z"
   },
   {
    "duration": 6,
    "start_time": "2023-06-16T17:28:03.260Z"
   },
   {
    "duration": 10,
    "start_time": "2023-06-16T17:28:35.780Z"
   },
   {
    "duration": 6,
    "start_time": "2023-06-16T17:29:40.708Z"
   },
   {
    "duration": 4,
    "start_time": "2023-06-16T17:29:45.803Z"
   },
   {
    "duration": 6,
    "start_time": "2023-06-16T17:29:51.272Z"
   },
   {
    "duration": 5,
    "start_time": "2023-06-16T17:29:54.685Z"
   },
   {
    "duration": 6,
    "start_time": "2023-06-16T17:30:03.295Z"
   },
   {
    "duration": 15,
    "start_time": "2023-06-16T17:30:24.128Z"
   },
   {
    "duration": 6,
    "start_time": "2023-06-16T17:30:47.690Z"
   },
   {
    "duration": 2371,
    "start_time": "2023-06-16T17:31:06.769Z"
   },
   {
    "duration": 6,
    "start_time": "2023-06-16T17:31:18.469Z"
   },
   {
    "duration": 13,
    "start_time": "2023-06-16T17:31:23.340Z"
   },
   {
    "duration": 6,
    "start_time": "2023-06-16T17:31:34.917Z"
   },
   {
    "duration": 6,
    "start_time": "2023-06-16T17:31:36.592Z"
   },
   {
    "duration": 5,
    "start_time": "2023-06-16T17:31:38.111Z"
   },
   {
    "duration": 3147,
    "start_time": "2023-06-16T17:31:41.028Z"
   },
   {
    "duration": 5,
    "start_time": "2023-06-16T17:31:53.777Z"
   },
   {
    "duration": 9,
    "start_time": "2023-06-16T17:31:56.847Z"
   },
   {
    "duration": 13,
    "start_time": "2023-06-16T17:32:07.601Z"
   },
   {
    "duration": 4,
    "start_time": "2023-06-16T17:32:38.688Z"
   },
   {
    "duration": 8,
    "start_time": "2023-06-16T17:32:44.225Z"
   },
   {
    "duration": 5,
    "start_time": "2023-06-16T17:33:33.217Z"
   },
   {
    "duration": 5,
    "start_time": "2023-06-16T17:33:46.878Z"
   },
   {
    "duration": 2487,
    "start_time": "2023-06-16T17:33:47.060Z"
   },
   {
    "duration": 5,
    "start_time": "2023-06-16T17:33:49.549Z"
   },
   {
    "duration": 282,
    "start_time": "2023-06-16T17:33:49.555Z"
   },
   {
    "duration": 150,
    "start_time": "2023-06-16T17:33:49.839Z"
   },
   {
    "duration": 350,
    "start_time": "2023-06-16T17:33:49.991Z"
   },
   {
    "duration": 7,
    "start_time": "2023-06-16T17:33:50.345Z"
   },
   {
    "duration": 52,
    "start_time": "2023-06-16T17:33:50.356Z"
   },
   {
    "duration": 4,
    "start_time": "2023-06-16T17:33:50.410Z"
   },
   {
    "duration": 15,
    "start_time": "2023-06-16T17:33:50.416Z"
   },
   {
    "duration": 71,
    "start_time": "2023-06-16T17:33:50.434Z"
   },
   {
    "duration": 11,
    "start_time": "2023-06-16T17:33:50.507Z"
   },
   {
    "duration": 4,
    "start_time": "2023-06-16T17:33:50.520Z"
   },
   {
    "duration": 4226,
    "start_time": "2023-06-16T17:33:50.526Z"
   },
   {
    "duration": 23,
    "start_time": "2023-06-16T17:33:54.756Z"
   },
   {
    "duration": 1145,
    "start_time": "2023-06-16T17:33:54.788Z"
   },
   {
    "duration": 32,
    "start_time": "2023-06-16T17:33:55.938Z"
   },
   {
    "duration": 440,
    "start_time": "2023-06-16T17:33:55.973Z"
   },
   {
    "duration": 1797,
    "start_time": "2023-06-16T17:33:56.414Z"
   },
   {
    "duration": 38,
    "start_time": "2023-06-16T17:33:58.213Z"
   },
   {
    "duration": 33,
    "start_time": "2023-06-16T17:33:58.257Z"
   },
   {
    "duration": 21,
    "start_time": "2023-06-16T17:33:58.292Z"
   },
   {
    "duration": 11,
    "start_time": "2023-06-16T17:33:58.316Z"
   },
   {
    "duration": 58,
    "start_time": "2023-06-16T17:33:58.330Z"
   },
   {
    "duration": 10,
    "start_time": "2023-06-16T17:34:01.871Z"
   },
   {
    "duration": 14,
    "start_time": "2023-06-16T17:34:26.199Z"
   },
   {
    "duration": 28,
    "start_time": "2023-06-16T17:34:51.109Z"
   },
   {
    "duration": 5,
    "start_time": "2023-06-16T17:35:12.882Z"
   },
   {
    "duration": 10,
    "start_time": "2023-06-16T17:35:20.461Z"
   },
   {
    "duration": 8,
    "start_time": "2023-06-16T17:35:37.455Z"
   },
   {
    "duration": 4,
    "start_time": "2023-06-16T17:35:43.703Z"
   },
   {
    "duration": 21,
    "start_time": "2023-06-16T17:36:10.870Z"
   },
   {
    "duration": 16,
    "start_time": "2023-06-16T17:36:15.078Z"
   },
   {
    "duration": 15,
    "start_time": "2023-06-16T17:36:22.670Z"
   },
   {
    "duration": 18,
    "start_time": "2023-06-16T17:36:25.361Z"
   },
   {
    "duration": 11,
    "start_time": "2023-06-16T17:36:31.201Z"
   },
   {
    "duration": 9,
    "start_time": "2023-06-16T17:36:47.394Z"
   },
   {
    "duration": 20,
    "start_time": "2023-06-16T17:37:38.558Z"
   },
   {
    "duration": 3,
    "start_time": "2023-06-16T17:37:55.700Z"
   },
   {
    "duration": 13,
    "start_time": "2023-06-16T17:38:28.152Z"
   },
   {
    "duration": 15,
    "start_time": "2023-06-16T17:38:37.603Z"
   },
   {
    "duration": 8,
    "start_time": "2023-06-16T17:38:56.989Z"
   },
   {
    "duration": 1084,
    "start_time": "2023-06-16T17:39:11.109Z"
   },
   {
    "duration": 1092,
    "start_time": "2023-06-16T17:39:14.707Z"
   },
   {
    "duration": 45,
    "start_time": "2023-06-16T17:39:27.314Z"
   },
   {
    "duration": 11,
    "start_time": "2023-06-16T17:39:31.874Z"
   },
   {
    "duration": 5,
    "start_time": "2023-06-16T17:40:10.895Z"
   },
   {
    "duration": 5,
    "start_time": "2023-06-16T17:40:11.355Z"
   },
   {
    "duration": 10,
    "start_time": "2023-06-16T17:40:12.495Z"
   },
   {
    "duration": 10,
    "start_time": "2023-06-16T17:40:13.497Z"
   },
   {
    "duration": 1284,
    "start_time": "2023-06-16T17:40:14.509Z"
   },
   {
    "duration": 49,
    "start_time": "2023-06-16T17:40:20.862Z"
   },
   {
    "duration": 16,
    "start_time": "2023-06-16T17:40:24.291Z"
   },
   {
    "duration": 12,
    "start_time": "2023-06-16T17:40:38.282Z"
   },
   {
    "duration": 7,
    "start_time": "2023-06-16T17:40:56.491Z"
   },
   {
    "duration": 20,
    "start_time": "2023-06-16T17:40:59.428Z"
   },
   {
    "duration": 10,
    "start_time": "2023-06-16T17:41:31.855Z"
   },
   {
    "duration": 10,
    "start_time": "2023-06-16T17:41:34.560Z"
   },
   {
    "duration": 25,
    "start_time": "2023-06-16T17:41:34.948Z"
   },
   {
    "duration": 11,
    "start_time": "2023-06-16T17:41:50.555Z"
   },
   {
    "duration": 9,
    "start_time": "2023-06-16T17:41:50.884Z"
   },
   {
    "duration": 12,
    "start_time": "2023-06-16T17:41:51.600Z"
   },
   {
    "duration": 7,
    "start_time": "2023-06-16T17:41:52.291Z"
   },
   {
    "duration": 8,
    "start_time": "2023-06-16T17:41:52.507Z"
   },
   {
    "duration": 11,
    "start_time": "2023-06-16T17:44:58.863Z"
   },
   {
    "duration": 14,
    "start_time": "2023-06-16T17:44:59.235Z"
   },
   {
    "duration": 9,
    "start_time": "2023-06-16T17:45:13.913Z"
   },
   {
    "duration": 17,
    "start_time": "2023-06-16T17:45:24.554Z"
   },
   {
    "duration": 14,
    "start_time": "2023-06-16T17:45:59.877Z"
   },
   {
    "duration": 10,
    "start_time": "2023-06-16T17:46:05.980Z"
   },
   {
    "duration": 28,
    "start_time": "2023-06-16T17:59:20.178Z"
   },
   {
    "duration": 16,
    "start_time": "2023-06-16T18:00:14.480Z"
   },
   {
    "duration": 35,
    "start_time": "2023-06-16T18:00:32.733Z"
   },
   {
    "duration": 11,
    "start_time": "2023-06-16T18:00:42.073Z"
   },
   {
    "duration": 1522,
    "start_time": "2023-06-16T18:00:52.164Z"
   },
   {
    "duration": 2361,
    "start_time": "2023-06-16T18:00:53.689Z"
   },
   {
    "duration": 8,
    "start_time": "2023-06-16T18:00:56.058Z"
   },
   {
    "duration": 237,
    "start_time": "2023-06-16T18:00:56.072Z"
   },
   {
    "duration": 146,
    "start_time": "2023-06-16T18:00:56.311Z"
   },
   {
    "duration": 250,
    "start_time": "2023-06-16T18:00:56.458Z"
   },
   {
    "duration": 3,
    "start_time": "2023-06-16T18:00:56.709Z"
   },
   {
    "duration": 54,
    "start_time": "2023-06-16T18:00:56.713Z"
   },
   {
    "duration": 24,
    "start_time": "2023-06-16T18:00:56.768Z"
   },
   {
    "duration": 32,
    "start_time": "2023-06-16T18:00:56.794Z"
   },
   {
    "duration": 80,
    "start_time": "2023-06-16T18:00:56.827Z"
   },
   {
    "duration": 34,
    "start_time": "2023-06-16T18:00:56.908Z"
   },
   {
    "duration": 23,
    "start_time": "2023-06-16T18:00:56.954Z"
   },
   {
    "duration": 4206,
    "start_time": "2023-06-16T18:00:56.980Z"
   },
   {
    "duration": 10,
    "start_time": "2023-06-16T18:01:01.187Z"
   },
   {
    "duration": 1277,
    "start_time": "2023-06-16T18:01:01.199Z"
   },
   {
    "duration": 35,
    "start_time": "2023-06-16T18:01:02.478Z"
   },
   {
    "duration": 586,
    "start_time": "2023-06-16T18:01:02.515Z"
   },
   {
    "duration": 1714,
    "start_time": "2023-06-16T18:01:03.102Z"
   },
   {
    "duration": 38,
    "start_time": "2023-06-16T18:01:04.818Z"
   },
   {
    "duration": 48,
    "start_time": "2023-06-16T18:01:04.858Z"
   },
   {
    "duration": 18,
    "start_time": "2023-06-16T18:01:04.908Z"
   },
   {
    "duration": 58,
    "start_time": "2023-06-16T18:01:04.927Z"
   },
   {
    "duration": 184,
    "start_time": "2023-06-16T18:01:04.987Z"
   },
   {
    "duration": 9,
    "start_time": "2023-06-16T18:01:05.172Z"
   },
   {
    "duration": 29,
    "start_time": "2023-06-16T18:01:05.183Z"
   },
   {
    "duration": 163,
    "start_time": "2023-06-16T18:01:05.214Z"
   },
   {
    "duration": 1416,
    "start_time": "2023-06-16T18:05:39.962Z"
   },
   {
    "duration": 1970,
    "start_time": "2023-06-16T18:05:41.381Z"
   },
   {
    "duration": 12,
    "start_time": "2023-06-16T18:05:43.353Z"
   },
   {
    "duration": 283,
    "start_time": "2023-06-16T18:05:43.368Z"
   },
   {
    "duration": 208,
    "start_time": "2023-06-16T18:05:43.660Z"
   },
   {
    "duration": 268,
    "start_time": "2023-06-16T18:05:43.874Z"
   },
   {
    "duration": 7,
    "start_time": "2023-06-16T18:05:44.149Z"
   },
   {
    "duration": 31,
    "start_time": "2023-06-16T18:05:44.160Z"
   },
   {
    "duration": 16,
    "start_time": "2023-06-16T18:05:44.193Z"
   },
   {
    "duration": 12,
    "start_time": "2023-06-16T18:05:44.211Z"
   },
   {
    "duration": 23,
    "start_time": "2023-06-16T18:05:44.224Z"
   },
   {
    "duration": 50,
    "start_time": "2023-06-16T18:05:44.251Z"
   },
   {
    "duration": 8,
    "start_time": "2023-06-16T18:05:44.302Z"
   },
   {
    "duration": 4582,
    "start_time": "2023-06-16T18:05:44.311Z"
   },
   {
    "duration": 9,
    "start_time": "2023-06-16T18:05:48.895Z"
   },
   {
    "duration": 1167,
    "start_time": "2023-06-16T18:05:48.906Z"
   },
   {
    "duration": 32,
    "start_time": "2023-06-16T18:05:50.075Z"
   },
   {
    "duration": 572,
    "start_time": "2023-06-16T18:05:50.109Z"
   },
   {
    "duration": 1803,
    "start_time": "2023-06-16T18:05:50.683Z"
   },
   {
    "duration": 21,
    "start_time": "2023-06-16T18:05:52.488Z"
   },
   {
    "duration": 5,
    "start_time": "2023-06-16T18:05:52.510Z"
   },
   {
    "duration": 37,
    "start_time": "2023-06-16T18:05:52.531Z"
   },
   {
    "duration": 48,
    "start_time": "2023-06-16T18:05:52.570Z"
   },
   {
    "duration": 66,
    "start_time": "2023-06-16T18:05:52.620Z"
   },
   {
    "duration": 19,
    "start_time": "2023-06-16T18:05:52.688Z"
   },
   {
    "duration": 8,
    "start_time": "2023-06-16T18:05:52.708Z"
   },
   {
    "duration": 165,
    "start_time": "2023-06-16T18:05:52.718Z"
   },
   {
    "duration": 3,
    "start_time": "2023-06-16T18:07:02.867Z"
   },
   {
    "duration": 16,
    "start_time": "2023-06-16T18:07:41.727Z"
   },
   {
    "duration": 10,
    "start_time": "2023-06-16T18:07:53.579Z"
   },
   {
    "duration": 8,
    "start_time": "2023-06-16T18:07:58.843Z"
   },
   {
    "duration": 1558,
    "start_time": "2023-06-16T18:08:31.948Z"
   },
   {
    "duration": 1808,
    "start_time": "2023-06-16T18:08:33.508Z"
   },
   {
    "duration": 3,
    "start_time": "2023-06-16T18:08:35.318Z"
   },
   {
    "duration": 280,
    "start_time": "2023-06-16T18:08:35.323Z"
   },
   {
    "duration": 163,
    "start_time": "2023-06-16T18:08:35.606Z"
   },
   {
    "duration": 250,
    "start_time": "2023-06-16T18:08:35.776Z"
   },
   {
    "duration": 3,
    "start_time": "2023-06-16T18:08:36.028Z"
   },
   {
    "duration": 5,
    "start_time": "2023-06-16T18:08:36.033Z"
   },
   {
    "duration": 36,
    "start_time": "2023-06-16T18:08:36.049Z"
   },
   {
    "duration": 21,
    "start_time": "2023-06-16T18:08:36.087Z"
   },
   {
    "duration": 19,
    "start_time": "2023-06-16T18:08:36.110Z"
   },
   {
    "duration": 14,
    "start_time": "2023-06-16T18:08:36.130Z"
   },
   {
    "duration": 48,
    "start_time": "2023-06-16T18:08:36.145Z"
   },
   {
    "duration": 4101,
    "start_time": "2023-06-16T18:08:36.195Z"
   },
   {
    "duration": 9,
    "start_time": "2023-06-16T18:08:40.297Z"
   },
   {
    "duration": 1280,
    "start_time": "2023-06-16T18:08:40.307Z"
   },
   {
    "duration": 30,
    "start_time": "2023-06-16T18:08:41.589Z"
   },
   {
    "duration": 567,
    "start_time": "2023-06-16T18:08:41.633Z"
   },
   {
    "duration": 1624,
    "start_time": "2023-06-16T18:08:42.202Z"
   },
   {
    "duration": 27,
    "start_time": "2023-06-16T18:08:43.836Z"
   },
   {
    "duration": 21,
    "start_time": "2023-06-16T18:08:43.866Z"
   },
   {
    "duration": 10,
    "start_time": "2023-06-16T18:08:43.888Z"
   },
   {
    "duration": 11,
    "start_time": "2023-06-16T18:08:43.899Z"
   },
   {
    "duration": 154,
    "start_time": "2023-06-16T18:08:43.911Z"
   },
   {
    "duration": 8,
    "start_time": "2023-06-16T18:08:44.070Z"
   },
   {
    "duration": 17,
    "start_time": "2023-06-16T18:08:44.079Z"
   },
   {
    "duration": 9,
    "start_time": "2023-06-16T18:08:44.097Z"
   },
   {
    "duration": 124,
    "start_time": "2023-06-16T18:08:44.107Z"
   },
   {
    "duration": 20,
    "start_time": "2023-06-16T18:09:59.986Z"
   },
   {
    "duration": 11,
    "start_time": "2023-06-16T18:12:00.003Z"
   },
   {
    "duration": 3606,
    "start_time": "2023-06-16T18:12:14.096Z"
   },
   {
    "duration": 6,
    "start_time": "2023-06-16T18:12:53.259Z"
   },
   {
    "duration": 34,
    "start_time": "2023-06-16T18:13:01.259Z"
   },
   {
    "duration": 9,
    "start_time": "2023-06-16T18:13:10.071Z"
   },
   {
    "duration": 28,
    "start_time": "2023-06-16T18:13:15.979Z"
   },
   {
    "duration": 6,
    "start_time": "2023-06-16T18:13:26.534Z"
   },
   {
    "duration": 4366,
    "start_time": "2023-06-16T18:13:37.108Z"
   },
   {
    "duration": 20,
    "start_time": "2023-06-16T18:13:48.862Z"
   },
   {
    "duration": 18,
    "start_time": "2023-06-16T18:13:58.060Z"
   },
   {
    "duration": 2,
    "start_time": "2023-06-16T18:14:02.912Z"
   },
   {
    "duration": 3,
    "start_time": "2023-06-16T18:14:03.462Z"
   },
   {
    "duration": 9,
    "start_time": "2023-06-16T18:14:03.656Z"
   },
   {
    "duration": 3924,
    "start_time": "2023-06-16T18:14:09.525Z"
   },
   {
    "duration": 8,
    "start_time": "2023-06-16T18:14:19.475Z"
   },
   {
    "duration": 2877,
    "start_time": "2023-06-16T18:14:33.686Z"
   },
   {
    "duration": 24,
    "start_time": "2023-06-16T18:14:36.632Z"
   },
   {
    "duration": 4175,
    "start_time": "2023-06-16T18:14:47.305Z"
   },
   {
    "duration": 63,
    "start_time": "2023-06-16T18:14:51.482Z"
   },
   {
    "duration": 2,
    "start_time": "2023-06-16T18:16:11.383Z"
   },
   {
    "duration": 2586,
    "start_time": "2023-06-16T18:16:28.954Z"
   },
   {
    "duration": 5,
    "start_time": "2023-06-16T18:16:34.481Z"
   },
   {
    "duration": 7002,
    "start_time": "2023-06-16T18:17:30.974Z"
   },
   {
    "duration": 77,
    "start_time": "2023-06-16T18:17:37.989Z"
   },
   {
    "duration": 4,
    "start_time": "2023-06-16T18:17:38.194Z"
   },
   {
    "duration": 7805,
    "start_time": "2023-06-16T18:17:42.289Z"
   },
   {
    "duration": 20,
    "start_time": "2023-06-16T18:17:50.164Z"
   },
   {
    "duration": 44,
    "start_time": "2023-06-16T18:17:50.194Z"
   },
   {
    "duration": 5935,
    "start_time": "2023-06-16T18:18:09.217Z"
   },
   {
    "duration": 16,
    "start_time": "2023-06-16T18:18:15.169Z"
   },
   {
    "duration": 70,
    "start_time": "2023-06-16T18:18:15.194Z"
   },
   {
    "duration": 6552,
    "start_time": "2023-06-16T18:18:28.283Z"
   },
   {
    "duration": 34,
    "start_time": "2023-06-16T18:18:34.847Z"
   },
   {
    "duration": 90,
    "start_time": "2023-06-16T18:18:34.896Z"
   },
   {
    "duration": 4426,
    "start_time": "2023-06-16T18:18:41.929Z"
   },
   {
    "duration": 83,
    "start_time": "2023-06-16T18:18:46.362Z"
   },
   {
    "duration": 32,
    "start_time": "2023-06-16T18:18:46.466Z"
   },
   {
    "duration": 6,
    "start_time": "2023-06-16T18:20:00.891Z"
   },
   {
    "duration": 12,
    "start_time": "2023-06-16T18:20:17.677Z"
   },
   {
    "duration": 32,
    "start_time": "2023-06-16T18:25:59.890Z"
   },
   {
    "duration": 19,
    "start_time": "2023-06-16T18:26:17.897Z"
   },
   {
    "duration": 12,
    "start_time": "2023-06-16T18:26:19.490Z"
   },
   {
    "duration": 7388,
    "start_time": "2023-06-16T18:26:31.451Z"
   },
   {
    "duration": 11,
    "start_time": "2023-06-16T18:26:38.848Z"
   },
   {
    "duration": 5,
    "start_time": "2023-06-16T18:26:51.524Z"
   },
   {
    "duration": 10,
    "start_time": "2023-06-16T18:28:43.446Z"
   },
   {
    "duration": 2385,
    "start_time": "2023-06-16T18:28:43.614Z"
   },
   {
    "duration": 4,
    "start_time": "2023-06-16T18:28:46.001Z"
   },
   {
    "duration": 268,
    "start_time": "2023-06-16T18:28:46.007Z"
   },
   {
    "duration": 148,
    "start_time": "2023-06-16T18:28:46.279Z"
   },
   {
    "duration": 281,
    "start_time": "2023-06-16T18:28:46.429Z"
   },
   {
    "duration": 3,
    "start_time": "2023-06-16T18:28:46.711Z"
   },
   {
    "duration": 39,
    "start_time": "2023-06-16T18:28:46.715Z"
   },
   {
    "duration": 83,
    "start_time": "2023-06-16T18:28:46.756Z"
   },
   {
    "duration": 56,
    "start_time": "2023-06-16T18:28:46.840Z"
   },
   {
    "duration": 49,
    "start_time": "2023-06-16T18:28:46.898Z"
   },
   {
    "duration": 123,
    "start_time": "2023-06-16T18:28:46.948Z"
   },
   {
    "duration": 116,
    "start_time": "2023-06-16T18:28:47.076Z"
   },
   {
    "duration": 4520,
    "start_time": "2023-06-16T18:28:47.193Z"
   },
   {
    "duration": 10,
    "start_time": "2023-06-16T18:28:51.715Z"
   },
   {
    "duration": 1247,
    "start_time": "2023-06-16T18:28:51.732Z"
   },
   {
    "duration": 29,
    "start_time": "2023-06-16T18:28:52.981Z"
   },
   {
    "duration": 542,
    "start_time": "2023-06-16T18:28:53.012Z"
   },
   {
    "duration": 2086,
    "start_time": "2023-06-16T18:28:53.558Z"
   },
   {
    "duration": 31,
    "start_time": "2023-06-16T18:28:55.648Z"
   },
   {
    "duration": 23,
    "start_time": "2023-06-16T18:28:55.684Z"
   },
   {
    "duration": 5,
    "start_time": "2023-06-16T18:28:55.709Z"
   },
   {
    "duration": 10,
    "start_time": "2023-06-16T18:28:55.716Z"
   },
   {
    "duration": 69,
    "start_time": "2023-06-16T18:28:55.727Z"
   },
   {
    "duration": 10,
    "start_time": "2023-06-16T18:28:55.798Z"
   },
   {
    "duration": 27,
    "start_time": "2023-06-16T18:28:55.810Z"
   },
   {
    "duration": 7805,
    "start_time": "2023-06-16T18:28:55.838Z"
   },
   {
    "duration": 32,
    "start_time": "2023-06-16T18:29:03.645Z"
   },
   {
    "duration": 13,
    "start_time": "2023-06-16T18:30:09.854Z"
   },
   {
    "duration": 176,
    "start_time": "2023-06-16T18:31:10.926Z"
   },
   {
    "duration": 16,
    "start_time": "2023-06-16T18:31:11.280Z"
   },
   {
    "duration": 3033,
    "start_time": "2023-06-16T18:31:22.499Z"
   },
   {
    "duration": 32,
    "start_time": "2023-06-16T18:31:25.550Z"
   },
   {
    "duration": 1753,
    "start_time": "2023-06-16T18:32:07.994Z"
   },
   {
    "duration": 32,
    "start_time": "2023-06-16T18:32:09.759Z"
   },
   {
    "duration": 2620,
    "start_time": "2023-06-16T18:32:17.620Z"
   },
   {
    "duration": 17,
    "start_time": "2023-06-16T18:32:20.250Z"
   },
   {
    "duration": 2467,
    "start_time": "2023-06-16T18:32:26.594Z"
   },
   {
    "duration": 15,
    "start_time": "2023-06-16T18:32:29.072Z"
   },
   {
    "duration": 2325,
    "start_time": "2023-06-16T18:33:41.854Z"
   },
   {
    "duration": 10,
    "start_time": "2023-06-16T18:33:54.160Z"
   },
   {
    "duration": 1229,
    "start_time": "2023-06-16T18:34:12.504Z"
   },
   {
    "duration": 13,
    "start_time": "2023-06-16T18:34:13.744Z"
   },
   {
    "duration": 23,
    "start_time": "2023-06-16T18:37:48.371Z"
   },
   {
    "duration": 3,
    "start_time": "2023-06-16T18:39:55.378Z"
   },
   {
    "duration": 4,
    "start_time": "2023-06-16T18:40:01.447Z"
   },
   {
    "duration": 2283,
    "start_time": "2023-06-16T18:40:34.229Z"
   },
   {
    "duration": 6,
    "start_time": "2023-06-16T18:41:41.230Z"
   },
   {
    "duration": 24,
    "start_time": "2023-06-16T18:42:29.446Z"
   },
   {
    "duration": 2129,
    "start_time": "2023-06-16T18:42:51.282Z"
   },
   {
    "duration": 12,
    "start_time": "2023-06-16T18:49:42.387Z"
   },
   {
    "duration": 12,
    "start_time": "2023-06-16T18:49:46.205Z"
   },
   {
    "duration": 28,
    "start_time": "2023-06-16T18:49:57.326Z"
   },
   {
    "duration": 1195,
    "start_time": "2023-06-16T18:49:57.487Z"
   },
   {
    "duration": 1304,
    "start_time": "2023-06-16T18:51:00.359Z"
   },
   {
    "duration": 1137,
    "start_time": "2023-06-16T18:51:03.778Z"
   },
   {
    "duration": 64904,
    "start_time": "2023-06-16T18:53:19.601Z"
   },
   {
    "duration": 5,
    "start_time": "2023-06-16T18:54:40.469Z"
   },
   {
    "duration": 5,
    "start_time": "2023-06-16T18:56:42.271Z"
   },
   {
    "duration": 14,
    "start_time": "2023-06-16T18:56:51.560Z"
   },
   {
    "duration": 12566,
    "start_time": "2023-06-16T18:57:36.396Z"
   },
   {
    "duration": 9315,
    "start_time": "2023-06-16T19:00:08.166Z"
   },
   {
    "duration": 4061,
    "start_time": "2023-06-16T19:00:28.182Z"
   },
   {
    "duration": 1685,
    "start_time": "2023-06-16T19:09:34.452Z"
   },
   {
    "duration": 2440,
    "start_time": "2023-06-16T19:09:36.139Z"
   },
   {
    "duration": 4,
    "start_time": "2023-06-16T19:09:38.582Z"
   },
   {
    "duration": 291,
    "start_time": "2023-06-16T19:09:38.588Z"
   },
   {
    "duration": 159,
    "start_time": "2023-06-16T19:09:38.881Z"
   },
   {
    "duration": 282,
    "start_time": "2023-06-16T19:09:39.042Z"
   },
   {
    "duration": 17,
    "start_time": "2023-06-16T19:09:39.325Z"
   },
   {
    "duration": 49,
    "start_time": "2023-06-16T19:09:39.344Z"
   },
   {
    "duration": 4,
    "start_time": "2023-06-16T19:09:39.394Z"
   },
   {
    "duration": 14,
    "start_time": "2023-06-16T19:09:39.400Z"
   },
   {
    "duration": 12,
    "start_time": "2023-06-16T19:09:39.416Z"
   },
   {
    "duration": 45,
    "start_time": "2023-06-16T19:09:39.429Z"
   },
   {
    "duration": 18,
    "start_time": "2023-06-16T19:09:39.482Z"
   },
   {
    "duration": 4757,
    "start_time": "2023-06-16T19:09:39.504Z"
   },
   {
    "duration": 25,
    "start_time": "2023-06-16T19:09:44.263Z"
   },
   {
    "duration": 1227,
    "start_time": "2023-06-16T19:09:44.290Z"
   },
   {
    "duration": 65,
    "start_time": "2023-06-16T19:09:45.519Z"
   },
   {
    "duration": 699,
    "start_time": "2023-06-16T19:09:45.586Z"
   },
   {
    "duration": 2164,
    "start_time": "2023-06-16T19:09:46.287Z"
   },
   {
    "duration": 38,
    "start_time": "2023-06-16T19:09:48.467Z"
   },
   {
    "duration": 197,
    "start_time": "2023-06-16T19:09:48.510Z"
   },
   {
    "duration": 11,
    "start_time": "2023-06-16T19:09:48.709Z"
   },
   {
    "duration": 64,
    "start_time": "2023-06-16T19:09:48.722Z"
   },
   {
    "duration": 29,
    "start_time": "2023-06-16T19:09:48.787Z"
   },
   {
    "duration": 55,
    "start_time": "2023-06-16T19:09:48.818Z"
   },
   {
    "duration": 55,
    "start_time": "2023-06-16T19:09:48.875Z"
   },
   {
    "duration": 8354,
    "start_time": "2023-06-16T19:09:48.936Z"
   },
   {
    "duration": 48,
    "start_time": "2023-06-16T19:09:57.293Z"
   },
   {
    "duration": 2636,
    "start_time": "2023-06-16T19:09:57.346Z"
   },
   {
    "duration": 66,
    "start_time": "2023-06-16T19:09:59.985Z"
   },
   {
    "duration": 52,
    "start_time": "2023-06-16T19:10:00.065Z"
   },
   {
    "duration": 93,
    "start_time": "2023-06-16T19:10:00.118Z"
   },
   {
    "duration": 9034,
    "start_time": "2023-06-16T19:10:00.212Z"
   },
   {
    "duration": 2758,
    "start_time": "2023-06-17T06:14:16.821Z"
   },
   {
    "duration": 1739,
    "start_time": "2023-06-17T06:14:19.582Z"
   },
   {
    "duration": 5,
    "start_time": "2023-06-17T06:14:21.322Z"
   },
   {
    "duration": 267,
    "start_time": "2023-06-17T06:14:21.329Z"
   },
   {
    "duration": 122,
    "start_time": "2023-06-17T06:14:21.605Z"
   },
   {
    "duration": 226,
    "start_time": "2023-06-17T06:14:21.728Z"
   },
   {
    "duration": 3,
    "start_time": "2023-06-17T06:14:21.956Z"
   },
   {
    "duration": 11,
    "start_time": "2023-06-17T06:14:21.960Z"
   },
   {
    "duration": 34,
    "start_time": "2023-06-17T06:14:21.972Z"
   },
   {
    "duration": 17,
    "start_time": "2023-06-17T06:14:22.022Z"
   },
   {
    "duration": 9,
    "start_time": "2023-06-17T06:14:39.335Z"
   },
   {
    "duration": 4,
    "start_time": "2023-06-17T06:15:01.181Z"
   },
   {
    "duration": 1585,
    "start_time": "2023-06-17T07:06:21.154Z"
   },
   {
    "duration": 2107,
    "start_time": "2023-06-17T07:06:22.742Z"
   },
   {
    "duration": 3,
    "start_time": "2023-06-17T07:06:24.852Z"
   },
   {
    "duration": 260,
    "start_time": "2023-06-17T07:06:24.858Z"
   },
   {
    "duration": 163,
    "start_time": "2023-06-17T07:06:25.120Z"
   },
   {
    "duration": 278,
    "start_time": "2023-06-17T07:06:25.285Z"
   },
   {
    "duration": 4,
    "start_time": "2023-06-17T07:06:25.564Z"
   },
   {
    "duration": 13,
    "start_time": "2023-06-17T07:06:25.570Z"
   },
   {
    "duration": 16,
    "start_time": "2023-06-17T07:06:25.585Z"
   },
   {
    "duration": 15,
    "start_time": "2023-06-17T07:06:25.605Z"
   },
   {
    "duration": 31,
    "start_time": "2023-06-17T07:06:25.622Z"
   },
   {
    "duration": 9,
    "start_time": "2023-06-17T07:06:25.655Z"
   },
   {
    "duration": 3,
    "start_time": "2023-06-17T07:06:25.666Z"
   },
   {
    "duration": 4208,
    "start_time": "2023-06-17T07:06:25.671Z"
   },
   {
    "duration": 10,
    "start_time": "2023-06-17T07:06:29.881Z"
   },
   {
    "duration": 1052,
    "start_time": "2023-06-17T07:06:48.721Z"
   },
   {
    "duration": 5,
    "start_time": "2023-06-17T07:12:33.668Z"
   },
   {
    "duration": 2073,
    "start_time": "2023-06-17T07:12:33.915Z"
   },
   {
    "duration": 3,
    "start_time": "2023-06-17T07:12:35.990Z"
   },
   {
    "duration": 230,
    "start_time": "2023-06-17T07:12:35.995Z"
   },
   {
    "duration": 135,
    "start_time": "2023-06-17T07:12:36.228Z"
   },
   {
    "duration": 266,
    "start_time": "2023-06-17T07:12:36.365Z"
   },
   {
    "duration": 3,
    "start_time": "2023-06-17T07:12:36.632Z"
   },
   {
    "duration": 16,
    "start_time": "2023-06-17T07:12:36.636Z"
   },
   {
    "duration": 7,
    "start_time": "2023-06-17T07:12:36.653Z"
   },
   {
    "duration": 24,
    "start_time": "2023-06-17T07:12:36.662Z"
   },
   {
    "duration": 14,
    "start_time": "2023-06-17T07:12:36.688Z"
   },
   {
    "duration": 11,
    "start_time": "2023-06-17T07:12:36.704Z"
   },
   {
    "duration": 3,
    "start_time": "2023-06-17T07:12:37.108Z"
   },
   {
    "duration": 3993,
    "start_time": "2023-06-17T07:12:37.612Z"
   },
   {
    "duration": 11,
    "start_time": "2023-06-17T07:12:41.607Z"
   },
   {
    "duration": 1006,
    "start_time": "2023-06-17T07:12:41.619Z"
   },
   {
    "duration": 34,
    "start_time": "2023-06-17T07:12:48.353Z"
   },
   {
    "duration": 557,
    "start_time": "2023-06-17T07:12:49.146Z"
   },
   {
    "duration": 1683,
    "start_time": "2023-06-17T07:12:51.212Z"
   },
   {
    "duration": 5,
    "start_time": "2023-06-17T07:13:01.463Z"
   },
   {
    "duration": 30,
    "start_time": "2023-06-17T07:13:10.642Z"
   },
   {
    "duration": 5,
    "start_time": "2023-06-17T07:13:52.360Z"
   },
   {
    "duration": 29,
    "start_time": "2023-06-17T07:14:21.739Z"
   },
   {
    "duration": 30,
    "start_time": "2023-06-17T07:14:47.800Z"
   },
   {
    "duration": 32,
    "start_time": "2023-06-17T07:15:47.915Z"
   },
   {
    "duration": 10,
    "start_time": "2023-06-17T07:16:07.642Z"
   },
   {
    "duration": 6,
    "start_time": "2023-06-17T07:16:16.247Z"
   },
   {
    "duration": 3,
    "start_time": "2023-06-17T07:16:21.119Z"
   },
   {
    "duration": 10,
    "start_time": "2023-06-17T07:16:28.817Z"
   },
   {
    "duration": 11,
    "start_time": "2023-06-17T07:16:32.174Z"
   },
   {
    "duration": 11,
    "start_time": "2023-06-17T07:16:32.530Z"
   },
   {
    "duration": 21,
    "start_time": "2023-06-17T07:16:53.881Z"
   },
   {
    "duration": 2975,
    "start_time": "2023-06-17T07:16:55.577Z"
   },
   {
    "duration": 4,
    "start_time": "2023-06-17T07:16:58.554Z"
   },
   {
    "duration": 3192,
    "start_time": "2023-06-17T07:17:22.065Z"
   },
   {
    "duration": 5,
    "start_time": "2023-06-17T07:17:25.259Z"
   },
   {
    "duration": 3,
    "start_time": "2023-06-17T07:17:29.196Z"
   },
   {
    "duration": 2,
    "start_time": "2023-06-17T07:17:29.628Z"
   },
   {
    "duration": 71073,
    "start_time": "2023-06-17T07:17:38.428Z"
   },
   {
    "duration": 4,
    "start_time": "2023-06-17T07:18:49.503Z"
   },
   {
    "duration": 392,
    "start_time": "2023-06-17T07:19:42.368Z"
   },
   {
    "duration": 1350,
    "start_time": "2023-06-17T07:20:46.493Z"
   },
   {
    "duration": 1835,
    "start_time": "2023-06-17T07:20:47.845Z"
   },
   {
    "duration": 4,
    "start_time": "2023-06-17T07:20:49.682Z"
   },
   {
    "duration": 239,
    "start_time": "2023-06-17T07:20:49.688Z"
   },
   {
    "duration": 138,
    "start_time": "2023-06-17T07:20:49.930Z"
   },
   {
    "duration": 265,
    "start_time": "2023-06-17T07:20:50.069Z"
   },
   {
    "duration": 3,
    "start_time": "2023-06-17T07:20:50.335Z"
   },
   {
    "duration": 18,
    "start_time": "2023-06-17T07:20:50.340Z"
   },
   {
    "duration": 10,
    "start_time": "2023-06-17T07:20:50.360Z"
   },
   {
    "duration": 15,
    "start_time": "2023-06-17T07:20:50.372Z"
   },
   {
    "duration": 14,
    "start_time": "2023-06-17T07:20:50.388Z"
   },
   {
    "duration": 11,
    "start_time": "2023-06-17T07:20:50.404Z"
   },
   {
    "duration": 34,
    "start_time": "2023-06-17T07:20:50.417Z"
   },
   {
    "duration": 3952,
    "start_time": "2023-06-17T07:20:50.455Z"
   },
   {
    "duration": 10,
    "start_time": "2023-06-17T07:20:54.410Z"
   },
   {
    "duration": 1115,
    "start_time": "2023-06-17T07:20:54.422Z"
   },
   {
    "duration": 39,
    "start_time": "2023-06-17T07:20:55.539Z"
   },
   {
    "duration": 515,
    "start_time": "2023-06-17T07:20:55.579Z"
   },
   {
    "duration": 1707,
    "start_time": "2023-06-17T07:20:56.097Z"
   },
   {
    "duration": 9,
    "start_time": "2023-06-17T07:20:57.806Z"
   },
   {
    "duration": 36,
    "start_time": "2023-06-17T07:20:57.817Z"
   },
   {
    "duration": 9,
    "start_time": "2023-06-17T07:20:57.855Z"
   },
   {
    "duration": 18,
    "start_time": "2023-06-17T07:20:57.866Z"
   },
   {
    "duration": 18,
    "start_time": "2023-06-17T07:20:57.886Z"
   },
   {
    "duration": 22,
    "start_time": "2023-06-17T07:20:57.906Z"
   },
   {
    "duration": 20,
    "start_time": "2023-06-17T07:20:57.930Z"
   },
   {
    "duration": 2104,
    "start_time": "2023-06-17T07:20:57.952Z"
   },
   {
    "duration": 93,
    "start_time": "2023-06-17T07:21:00.061Z"
   },
   {
    "duration": 2797,
    "start_time": "2023-06-17T07:21:00.155Z"
   },
   {
    "duration": 8,
    "start_time": "2023-06-17T07:21:02.954Z"
   },
   {
    "duration": 103,
    "start_time": "2023-06-17T07:21:02.964Z"
   },
   {
    "duration": 25,
    "start_time": "2023-06-17T07:21:03.069Z"
   },
   {
    "duration": 656,
    "start_time": "2023-06-17T07:21:03.096Z"
   }
  ],
  "kernelspec": {
   "display_name": "Python 3 (ipykernel)",
   "language": "python",
   "name": "python3"
  },
  "language_info": {
   "codemirror_mode": {
    "name": "ipython",
    "version": 3
   },
   "file_extension": ".py",
   "mimetype": "text/x-python",
   "name": "python",
   "nbconvert_exporter": "python",
   "pygments_lexer": "ipython3",
   "version": "3.9.13"
  },
  "toc": {
   "base_numbering": 1,
   "nav_menu": {},
   "number_sections": true,
   "sideBar": true,
   "skip_h1_title": true,
   "title_cell": "Содержание",
   "title_sidebar": "Contents",
   "toc_cell": true,
   "toc_position": {},
   "toc_section_display": true,
   "toc_window_display": true
  }
 },
 "nbformat": 4,
 "nbformat_minor": 2
}
